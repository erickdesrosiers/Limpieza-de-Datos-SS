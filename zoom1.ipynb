{
 "cells": [
  {
   "cell_type": "code",
   "execution_count": 1,
   "metadata": {
    "collapsed": false,
    "ExecuteTime": {
     "end_time": "2024-09-28T01:23:02.401554Z",
     "start_time": "2024-09-28T01:23:01.092986Z"
    }
   },
   "outputs": [],
   "source": [
    "import functools\n",
    "import re\n",
    "\n",
    "import numpy as np\n",
    "import pandas as pd\n",
    "from string_grouper import match_most_similar\n",
    "\n",
    "import auxiliar_4"
   ]
  },
  {
   "cell_type": "markdown",
   "source": [],
   "metadata": {
    "collapsed": false
   }
  },
  {
   "attachments": {},
   "cell_type": "markdown",
   "metadata": {
    "collapsed": false
   },
   "source": [
    "# Preparación de datos"
   ]
  },
  {
   "attachments": {},
   "cell_type": "markdown",
   "metadata": {
    "collapsed": false
   },
   "source": [
    "## Datos principales"
   ]
  },
  {
   "cell_type": "code",
   "execution_count": 2,
   "metadata": {
    "collapsed": false,
    "ExecuteTime": {
     "end_time": "2024-09-28T01:23:20.850947Z",
     "start_time": "2024-09-28T01:23:20.753219Z"
    }
   },
   "outputs": [
    {
     "data": {
      "text/plain": "      id           submitdate  lastpage startlanguage        seed  \\\n0     67  2021-03-27 13:32:28         5         es-MX   909191565   \n1     68  2021-03-27 19:38:43         5         es-MX    99489830   \n2     69  2021-03-29 11:47:46         5         es-MX  1592450376   \n3     70  2021-03-29 12:37:20         5         es-MX   762883078   \n4     71  2021-03-29 14:33:34         5         es-MX  1746037044   \n..   ...                  ...       ...           ...         ...   \n718  851  2022-10-29 17:28:54         5         es-MX   584177600   \n719  852  2022-10-29 18:20:26         5         es-MX   921555126   \n720  853  2022-10-29 20:23:28         5         es-MX   114360708   \n721  854  2022-10-31 19:02:54         5         es-MX  2117179292   \n722  855  2022-11-02 16:10:17         5         es-MX  1261428857   \n\n               startdate            datestamp encuestador  encuestador[other]  \\\n0    2021-03-27 13:03:10  2021-03-27 13:32:28         A13                 NaN   \n1    2021-03-27 19:07:21  2021-03-27 19:38:43         A13                 NaN   \n2    2021-03-29 11:04:42  2021-03-29 11:47:46         A07                 NaN   \n3    2021-03-29 12:04:01  2021-03-29 12:37:20         A04                 NaN   \n4    2021-03-29 14:00:48  2021-03-29 14:33:34         A03                 NaN   \n..                   ...                  ...         ...                 ...   \n718  2022-10-29 17:07:05  2022-10-29 17:28:54         A05                 NaN   \n719  2022-10-29 18:02:41  2022-10-29 18:20:26         A05                 NaN   \n720  2022-10-29 20:02:20  2022-10-29 20:23:28         A05                 NaN   \n721  2022-10-31 18:32:54  2022-10-31 19:02:54         A11                 NaN   \n722  2022-11-02 15:45:47  2022-11-02 16:10:17         A05                 NaN   \n\n    conset  ...         y65[SQ002]   y65[SQ003]   y65[SQ004]   y65[SQ005]  \\\n0        Y  ...          NECESARIO   IMPORTANTE       SOCIAL   PROTECCION   \n1        Y  ...       ESTIMULACION     NEURONAL    CONEXION    LONGEVIDAD   \n2        Y  ...           HOSPITAL   ENFERMEDAD        COVID     PANDEMIA   \n3        Y  ...              virus     pandemia    situacion       global   \n4        Y  ...           PANDEMIA   PREVENCION   ENFERMEDAD   CUARENTENA   \n..     ...  ...                ...          ...          ...          ...   \n718      Y  ...  MALA ALIMENTACION          NaN          NaN          NaN   \n719      Y  ...            CIENCIA      TERMINO  AUTOCUIDADO          NaN   \n720      Y  ...         DISCIPLINA        SALUD        BUENO  CONSCIENCIA   \n721      Y  ...          bienestar  constancia        cuerpo        sudor   \n722      Y  ...           CONTAGIO   CONGESTION    ESTORNUDO  RESPIRACION   \n\n      y65[SQ006] y65[SQ007]  y65[SQ008]  y65[SQ009] y65[SQ010] sdfds3  \n0    AUTOCUIDADO    FAMILIA       SALUD       COVID   HOSPITAL   10.0  \n1     FORTALEZA         NaN         NaN         NaN        NaN    6.0  \n2      NECESARIO       UTIL    INCOMODO         NaN        NaN    8.0  \n3         estres   ansiedad     muertes         NaN        NaN    8.0  \n4      NECESARIO      SALUD    INCOMODO         NaN        NaN    8.0  \n..           ...        ...         ...         ...        ...    ...  \n718          NaN        NaN         NaN         NaN        NaN    2.0  \n719          NaN        NaN         NaN         NaN        NaN    4.0  \n720     RIGUROSO     TIEMPO         NaN         NaN        NaN    7.0  \n721   autoestima       reto    atención  diversión         paz   10.0  \n722       OLORES  ESCONDITE        ACNE         NaN        NaN    8.0  \n\n[723 rows x 274 columns]",
      "text/html": "<div>\n<style scoped>\n    .dataframe tbody tr th:only-of-type {\n        vertical-align: middle;\n    }\n\n    .dataframe tbody tr th {\n        vertical-align: top;\n    }\n\n    .dataframe thead th {\n        text-align: right;\n    }\n</style>\n<table border=\"1\" class=\"dataframe\">\n  <thead>\n    <tr style=\"text-align: right;\">\n      <th></th>\n      <th>id</th>\n      <th>submitdate</th>\n      <th>lastpage</th>\n      <th>startlanguage</th>\n      <th>seed</th>\n      <th>startdate</th>\n      <th>datestamp</th>\n      <th>encuestador</th>\n      <th>encuestador[other]</th>\n      <th>conset</th>\n      <th>...</th>\n      <th>y65[SQ002]</th>\n      <th>y65[SQ003]</th>\n      <th>y65[SQ004]</th>\n      <th>y65[SQ005]</th>\n      <th>y65[SQ006]</th>\n      <th>y65[SQ007]</th>\n      <th>y65[SQ008]</th>\n      <th>y65[SQ009]</th>\n      <th>y65[SQ010]</th>\n      <th>sdfds3</th>\n    </tr>\n  </thead>\n  <tbody>\n    <tr>\n      <th>0</th>\n      <td>67</td>\n      <td>2021-03-27 13:32:28</td>\n      <td>5</td>\n      <td>es-MX</td>\n      <td>909191565</td>\n      <td>2021-03-27 13:03:10</td>\n      <td>2021-03-27 13:32:28</td>\n      <td>A13</td>\n      <td>NaN</td>\n      <td>Y</td>\n      <td>...</td>\n      <td>NECESARIO</td>\n      <td>IMPORTANTE</td>\n      <td>SOCIAL</td>\n      <td>PROTECCION</td>\n      <td>AUTOCUIDADO</td>\n      <td>FAMILIA</td>\n      <td>SALUD</td>\n      <td>COVID</td>\n      <td>HOSPITAL</td>\n      <td>10.0</td>\n    </tr>\n    <tr>\n      <th>1</th>\n      <td>68</td>\n      <td>2021-03-27 19:38:43</td>\n      <td>5</td>\n      <td>es-MX</td>\n      <td>99489830</td>\n      <td>2021-03-27 19:07:21</td>\n      <td>2021-03-27 19:38:43</td>\n      <td>A13</td>\n      <td>NaN</td>\n      <td>Y</td>\n      <td>...</td>\n      <td>ESTIMULACION</td>\n      <td>NEURONAL</td>\n      <td>CONEXION</td>\n      <td>LONGEVIDAD</td>\n      <td>FORTALEZA</td>\n      <td>NaN</td>\n      <td>NaN</td>\n      <td>NaN</td>\n      <td>NaN</td>\n      <td>6.0</td>\n    </tr>\n    <tr>\n      <th>2</th>\n      <td>69</td>\n      <td>2021-03-29 11:47:46</td>\n      <td>5</td>\n      <td>es-MX</td>\n      <td>1592450376</td>\n      <td>2021-03-29 11:04:42</td>\n      <td>2021-03-29 11:47:46</td>\n      <td>A07</td>\n      <td>NaN</td>\n      <td>Y</td>\n      <td>...</td>\n      <td>HOSPITAL</td>\n      <td>ENFERMEDAD</td>\n      <td>COVID</td>\n      <td>PANDEMIA</td>\n      <td>NECESARIO</td>\n      <td>UTIL</td>\n      <td>INCOMODO</td>\n      <td>NaN</td>\n      <td>NaN</td>\n      <td>8.0</td>\n    </tr>\n    <tr>\n      <th>3</th>\n      <td>70</td>\n      <td>2021-03-29 12:37:20</td>\n      <td>5</td>\n      <td>es-MX</td>\n      <td>762883078</td>\n      <td>2021-03-29 12:04:01</td>\n      <td>2021-03-29 12:37:20</td>\n      <td>A04</td>\n      <td>NaN</td>\n      <td>Y</td>\n      <td>...</td>\n      <td>virus</td>\n      <td>pandemia</td>\n      <td>situacion</td>\n      <td>global</td>\n      <td>estres</td>\n      <td>ansiedad</td>\n      <td>muertes</td>\n      <td>NaN</td>\n      <td>NaN</td>\n      <td>8.0</td>\n    </tr>\n    <tr>\n      <th>4</th>\n      <td>71</td>\n      <td>2021-03-29 14:33:34</td>\n      <td>5</td>\n      <td>es-MX</td>\n      <td>1746037044</td>\n      <td>2021-03-29 14:00:48</td>\n      <td>2021-03-29 14:33:34</td>\n      <td>A03</td>\n      <td>NaN</td>\n      <td>Y</td>\n      <td>...</td>\n      <td>PANDEMIA</td>\n      <td>PREVENCION</td>\n      <td>ENFERMEDAD</td>\n      <td>CUARENTENA</td>\n      <td>NECESARIO</td>\n      <td>SALUD</td>\n      <td>INCOMODO</td>\n      <td>NaN</td>\n      <td>NaN</td>\n      <td>8.0</td>\n    </tr>\n    <tr>\n      <th>...</th>\n      <td>...</td>\n      <td>...</td>\n      <td>...</td>\n      <td>...</td>\n      <td>...</td>\n      <td>...</td>\n      <td>...</td>\n      <td>...</td>\n      <td>...</td>\n      <td>...</td>\n      <td>...</td>\n      <td>...</td>\n      <td>...</td>\n      <td>...</td>\n      <td>...</td>\n      <td>...</td>\n      <td>...</td>\n      <td>...</td>\n      <td>...</td>\n      <td>...</td>\n      <td>...</td>\n    </tr>\n    <tr>\n      <th>718</th>\n      <td>851</td>\n      <td>2022-10-29 17:28:54</td>\n      <td>5</td>\n      <td>es-MX</td>\n      <td>584177600</td>\n      <td>2022-10-29 17:07:05</td>\n      <td>2022-10-29 17:28:54</td>\n      <td>A05</td>\n      <td>NaN</td>\n      <td>Y</td>\n      <td>...</td>\n      <td>MALA ALIMENTACION</td>\n      <td>NaN</td>\n      <td>NaN</td>\n      <td>NaN</td>\n      <td>NaN</td>\n      <td>NaN</td>\n      <td>NaN</td>\n      <td>NaN</td>\n      <td>NaN</td>\n      <td>2.0</td>\n    </tr>\n    <tr>\n      <th>719</th>\n      <td>852</td>\n      <td>2022-10-29 18:20:26</td>\n      <td>5</td>\n      <td>es-MX</td>\n      <td>921555126</td>\n      <td>2022-10-29 18:02:41</td>\n      <td>2022-10-29 18:20:26</td>\n      <td>A05</td>\n      <td>NaN</td>\n      <td>Y</td>\n      <td>...</td>\n      <td>CIENCIA</td>\n      <td>TERMINO</td>\n      <td>AUTOCUIDADO</td>\n      <td>NaN</td>\n      <td>NaN</td>\n      <td>NaN</td>\n      <td>NaN</td>\n      <td>NaN</td>\n      <td>NaN</td>\n      <td>4.0</td>\n    </tr>\n    <tr>\n      <th>720</th>\n      <td>853</td>\n      <td>2022-10-29 20:23:28</td>\n      <td>5</td>\n      <td>es-MX</td>\n      <td>114360708</td>\n      <td>2022-10-29 20:02:20</td>\n      <td>2022-10-29 20:23:28</td>\n      <td>A05</td>\n      <td>NaN</td>\n      <td>Y</td>\n      <td>...</td>\n      <td>DISCIPLINA</td>\n      <td>SALUD</td>\n      <td>BUENO</td>\n      <td>CONSCIENCIA</td>\n      <td>RIGUROSO</td>\n      <td>TIEMPO</td>\n      <td>NaN</td>\n      <td>NaN</td>\n      <td>NaN</td>\n      <td>7.0</td>\n    </tr>\n    <tr>\n      <th>721</th>\n      <td>854</td>\n      <td>2022-10-31 19:02:54</td>\n      <td>5</td>\n      <td>es-MX</td>\n      <td>2117179292</td>\n      <td>2022-10-31 18:32:54</td>\n      <td>2022-10-31 19:02:54</td>\n      <td>A11</td>\n      <td>NaN</td>\n      <td>Y</td>\n      <td>...</td>\n      <td>bienestar</td>\n      <td>constancia</td>\n      <td>cuerpo</td>\n      <td>sudor</td>\n      <td>autoestima</td>\n      <td>reto</td>\n      <td>atención</td>\n      <td>diversión</td>\n      <td>paz</td>\n      <td>10.0</td>\n    </tr>\n    <tr>\n      <th>722</th>\n      <td>855</td>\n      <td>2022-11-02 16:10:17</td>\n      <td>5</td>\n      <td>es-MX</td>\n      <td>1261428857</td>\n      <td>2022-11-02 15:45:47</td>\n      <td>2022-11-02 16:10:17</td>\n      <td>A05</td>\n      <td>NaN</td>\n      <td>Y</td>\n      <td>...</td>\n      <td>CONTAGIO</td>\n      <td>CONGESTION</td>\n      <td>ESTORNUDO</td>\n      <td>RESPIRACION</td>\n      <td>OLORES</td>\n      <td>ESCONDITE</td>\n      <td>ACNE</td>\n      <td>NaN</td>\n      <td>NaN</td>\n      <td>8.0</td>\n    </tr>\n  </tbody>\n</table>\n<p>723 rows × 274 columns</p>\n</div>"
     },
     "execution_count": 2,
     "metadata": {},
     "output_type": "execute_result"
    }
   ],
   "source": [
    "datos = pd.read_csv('datos/zoom1/zoom1_anon_completo.csv')\n",
    "datos"
   ]
  },
  {
   "attachments": {},
   "cell_type": "markdown",
   "metadata": {
    "collapsed": false
   },
   "source": [
    "## Diccionario de datos"
   ]
  },
  {
   "attachments": {},
   "cell_type": "markdown",
   "metadata": {
    "collapsed": false
   },
   "source": [
    "El diccionario contiene la información sobre las preguntas de la encuesta: su código, sus posibles respuestas y descripción –entre otros detalles.\n",
    "Como los datos se encuetran en `.csv` se genera irregularidad en las columnas del marco de datos resultante:"
   ]
  },
  {
   "cell_type": "code",
   "execution_count": 3,
   "metadata": {
    "collapsed": false,
    "ExecuteTime": {
     "end_time": "2024-08-10T23:18:46.165048Z",
     "start_time": "2024-08-10T23:18:46.152569Z"
    }
   },
   "outputs": [
    {
     "data": {
      "text/plain": "     item order related alive                 new_code                code  \\\n0           1.0       G     _              encuestador         encuestador   \n1           2.0       G     _         encuestador_otro  encuestador[other]   \n2           3.0       G     _     consentimiento_leido              conset   \n3           4.0       G     _  consentimiento_aceptado                 q35   \n4           5.0       G     _         camara_encendida               q2941   \n..          ...     ...   ...                      ...                 ...   \n994         NaN     NaN   NaN                      NaN                 NaN   \n995         NaN     NaN   NaN                      NaN                 NaN   \n996         NaN     NaN   NaN                      NaN                 NaN   \n997         NaN     NaN   NaN                      NaN                 NaN   \n998         NaN     NaN   NaN                      NaN                 NaN   \n\n                                              question   options Unnamed: 7  \\\n0                                          Encuestador       NaN        NaN   \n1                                     Encuestador_otro       NaN        NaN   \n2                 ¿Leíste el concentimiento informado?  Y = Sí_1   N = No_2   \n3                ¿Aceptas el concentimiento informado?  Y = Sí_1   N = No_2   \n4    ¿Aceptas ser entrevistado con la cámara encend...  Y = Sí_1   N = No_2   \n..                                                 ...       ...        ...   \n994                                                NaN       NaN        NaN   \n995                                                NaN       NaN        NaN   \n996                                                NaN       NaN        NaN   \n997                                                NaN       NaN        NaN   \n998                                                NaN       NaN        NaN   \n\n    Unnamed: 8 Unnamed: 9  ... Unnamed: 62 Unnamed: 63 Unnamed: 64  \\\n0          NaN        NaN  ...         NaN         NaN         NaN   \n1          NaN        NaN  ...         NaN         NaN         NaN   \n2          NaN        NaN  ...         NaN         NaN         NaN   \n3          NaN        NaN  ...         NaN         NaN         NaN   \n4          NaN        NaN  ...         NaN         NaN         NaN   \n..         ...        ...  ...         ...         ...         ...   \n994        NaN        NaN  ...         NaN         NaN         NaN   \n995        NaN        NaN  ...         NaN         NaN         NaN   \n996        NaN        NaN  ...         NaN         NaN         NaN   \n997        NaN        NaN  ...         NaN         NaN         NaN   \n998        NaN        NaN  ...         NaN         NaN         NaN   \n\n    Unnamed: 65 Unnamed: 66 Unnamed: 67 Unnamed: 68 Unnamed: 69 Unnamed: 70  \\\n0           NaN         NaN         NaN         NaN         NaN         NaN   \n1           NaN         NaN         NaN         NaN         NaN         NaN   \n2           NaN         NaN         NaN         NaN         NaN         NaN   \n3           NaN         NaN         NaN         NaN         NaN         NaN   \n4           NaN         NaN         NaN         NaN         NaN         NaN   \n..          ...         ...         ...         ...         ...         ...   \n994         NaN         NaN         NaN         NaN         NaN         NaN   \n995         NaN         NaN         NaN         NaN         NaN         NaN   \n996         NaN         NaN         NaN         NaN         NaN         NaN   \n997         NaN         NaN         NaN         NaN         NaN         NaN   \n998         NaN         NaN         NaN         NaN         NaN         NaN   \n\n    Unnamed: 71  \n0           NaN  \n1           NaN  \n2           NaN  \n3           NaN  \n4           NaN  \n..          ...  \n994         NaN  \n995         NaN  \n996         NaN  \n997         NaN  \n998         NaN  \n\n[999 rows x 72 columns]",
      "text/html": "<div>\n<style scoped>\n    .dataframe tbody tr th:only-of-type {\n        vertical-align: middle;\n    }\n\n    .dataframe tbody tr th {\n        vertical-align: top;\n    }\n\n    .dataframe thead th {\n        text-align: right;\n    }\n</style>\n<table border=\"1\" class=\"dataframe\">\n  <thead>\n    <tr style=\"text-align: right;\">\n      <th></th>\n      <th>item order</th>\n      <th>related</th>\n      <th>alive</th>\n      <th>new_code</th>\n      <th>code</th>\n      <th>question</th>\n      <th>options</th>\n      <th>Unnamed: 7</th>\n      <th>Unnamed: 8</th>\n      <th>Unnamed: 9</th>\n      <th>...</th>\n      <th>Unnamed: 62</th>\n      <th>Unnamed: 63</th>\n      <th>Unnamed: 64</th>\n      <th>Unnamed: 65</th>\n      <th>Unnamed: 66</th>\n      <th>Unnamed: 67</th>\n      <th>Unnamed: 68</th>\n      <th>Unnamed: 69</th>\n      <th>Unnamed: 70</th>\n      <th>Unnamed: 71</th>\n    </tr>\n  </thead>\n  <tbody>\n    <tr>\n      <th>0</th>\n      <td>1.0</td>\n      <td>G</td>\n      <td>_</td>\n      <td>encuestador</td>\n      <td>encuestador</td>\n      <td>Encuestador</td>\n      <td>NaN</td>\n      <td>NaN</td>\n      <td>NaN</td>\n      <td>NaN</td>\n      <td>...</td>\n      <td>NaN</td>\n      <td>NaN</td>\n      <td>NaN</td>\n      <td>NaN</td>\n      <td>NaN</td>\n      <td>NaN</td>\n      <td>NaN</td>\n      <td>NaN</td>\n      <td>NaN</td>\n      <td>NaN</td>\n    </tr>\n    <tr>\n      <th>1</th>\n      <td>2.0</td>\n      <td>G</td>\n      <td>_</td>\n      <td>encuestador_otro</td>\n      <td>encuestador[other]</td>\n      <td>Encuestador_otro</td>\n      <td>NaN</td>\n      <td>NaN</td>\n      <td>NaN</td>\n      <td>NaN</td>\n      <td>...</td>\n      <td>NaN</td>\n      <td>NaN</td>\n      <td>NaN</td>\n      <td>NaN</td>\n      <td>NaN</td>\n      <td>NaN</td>\n      <td>NaN</td>\n      <td>NaN</td>\n      <td>NaN</td>\n      <td>NaN</td>\n    </tr>\n    <tr>\n      <th>2</th>\n      <td>3.0</td>\n      <td>G</td>\n      <td>_</td>\n      <td>consentimiento_leido</td>\n      <td>conset</td>\n      <td>¿Leíste el concentimiento informado?</td>\n      <td>Y = Sí_1</td>\n      <td>N = No_2</td>\n      <td>NaN</td>\n      <td>NaN</td>\n      <td>...</td>\n      <td>NaN</td>\n      <td>NaN</td>\n      <td>NaN</td>\n      <td>NaN</td>\n      <td>NaN</td>\n      <td>NaN</td>\n      <td>NaN</td>\n      <td>NaN</td>\n      <td>NaN</td>\n      <td>NaN</td>\n    </tr>\n    <tr>\n      <th>3</th>\n      <td>4.0</td>\n      <td>G</td>\n      <td>_</td>\n      <td>consentimiento_aceptado</td>\n      <td>q35</td>\n      <td>¿Aceptas el concentimiento informado?</td>\n      <td>Y = Sí_1</td>\n      <td>N = No_2</td>\n      <td>NaN</td>\n      <td>NaN</td>\n      <td>...</td>\n      <td>NaN</td>\n      <td>NaN</td>\n      <td>NaN</td>\n      <td>NaN</td>\n      <td>NaN</td>\n      <td>NaN</td>\n      <td>NaN</td>\n      <td>NaN</td>\n      <td>NaN</td>\n      <td>NaN</td>\n    </tr>\n    <tr>\n      <th>4</th>\n      <td>5.0</td>\n      <td>G</td>\n      <td>_</td>\n      <td>camara_encendida</td>\n      <td>q2941</td>\n      <td>¿Aceptas ser entrevistado con la cámara encend...</td>\n      <td>Y = Sí_1</td>\n      <td>N = No_2</td>\n      <td>NaN</td>\n      <td>NaN</td>\n      <td>...</td>\n      <td>NaN</td>\n      <td>NaN</td>\n      <td>NaN</td>\n      <td>NaN</td>\n      <td>NaN</td>\n      <td>NaN</td>\n      <td>NaN</td>\n      <td>NaN</td>\n      <td>NaN</td>\n      <td>NaN</td>\n    </tr>\n    <tr>\n      <th>...</th>\n      <td>...</td>\n      <td>...</td>\n      <td>...</td>\n      <td>...</td>\n      <td>...</td>\n      <td>...</td>\n      <td>...</td>\n      <td>...</td>\n      <td>...</td>\n      <td>...</td>\n      <td>...</td>\n      <td>...</td>\n      <td>...</td>\n      <td>...</td>\n      <td>...</td>\n      <td>...</td>\n      <td>...</td>\n      <td>...</td>\n      <td>...</td>\n      <td>...</td>\n      <td>...</td>\n    </tr>\n    <tr>\n      <th>994</th>\n      <td>NaN</td>\n      <td>NaN</td>\n      <td>NaN</td>\n      <td>NaN</td>\n      <td>NaN</td>\n      <td>NaN</td>\n      <td>NaN</td>\n      <td>NaN</td>\n      <td>NaN</td>\n      <td>NaN</td>\n      <td>...</td>\n      <td>NaN</td>\n      <td>NaN</td>\n      <td>NaN</td>\n      <td>NaN</td>\n      <td>NaN</td>\n      <td>NaN</td>\n      <td>NaN</td>\n      <td>NaN</td>\n      <td>NaN</td>\n      <td>NaN</td>\n    </tr>\n    <tr>\n      <th>995</th>\n      <td>NaN</td>\n      <td>NaN</td>\n      <td>NaN</td>\n      <td>NaN</td>\n      <td>NaN</td>\n      <td>NaN</td>\n      <td>NaN</td>\n      <td>NaN</td>\n      <td>NaN</td>\n      <td>NaN</td>\n      <td>...</td>\n      <td>NaN</td>\n      <td>NaN</td>\n      <td>NaN</td>\n      <td>NaN</td>\n      <td>NaN</td>\n      <td>NaN</td>\n      <td>NaN</td>\n      <td>NaN</td>\n      <td>NaN</td>\n      <td>NaN</td>\n    </tr>\n    <tr>\n      <th>996</th>\n      <td>NaN</td>\n      <td>NaN</td>\n      <td>NaN</td>\n      <td>NaN</td>\n      <td>NaN</td>\n      <td>NaN</td>\n      <td>NaN</td>\n      <td>NaN</td>\n      <td>NaN</td>\n      <td>NaN</td>\n      <td>...</td>\n      <td>NaN</td>\n      <td>NaN</td>\n      <td>NaN</td>\n      <td>NaN</td>\n      <td>NaN</td>\n      <td>NaN</td>\n      <td>NaN</td>\n      <td>NaN</td>\n      <td>NaN</td>\n      <td>NaN</td>\n    </tr>\n    <tr>\n      <th>997</th>\n      <td>NaN</td>\n      <td>NaN</td>\n      <td>NaN</td>\n      <td>NaN</td>\n      <td>NaN</td>\n      <td>NaN</td>\n      <td>NaN</td>\n      <td>NaN</td>\n      <td>NaN</td>\n      <td>NaN</td>\n      <td>...</td>\n      <td>NaN</td>\n      <td>NaN</td>\n      <td>NaN</td>\n      <td>NaN</td>\n      <td>NaN</td>\n      <td>NaN</td>\n      <td>NaN</td>\n      <td>NaN</td>\n      <td>NaN</td>\n      <td>NaN</td>\n    </tr>\n    <tr>\n      <th>998</th>\n      <td>NaN</td>\n      <td>NaN</td>\n      <td>NaN</td>\n      <td>NaN</td>\n      <td>NaN</td>\n      <td>NaN</td>\n      <td>NaN</td>\n      <td>NaN</td>\n      <td>NaN</td>\n      <td>NaN</td>\n      <td>...</td>\n      <td>NaN</td>\n      <td>NaN</td>\n      <td>NaN</td>\n      <td>NaN</td>\n      <td>NaN</td>\n      <td>NaN</td>\n      <td>NaN</td>\n      <td>NaN</td>\n      <td>NaN</td>\n      <td>NaN</td>\n    </tr>\n  </tbody>\n</table>\n<p>999 rows × 72 columns</p>\n</div>"
     },
     "execution_count": 3,
     "metadata": {},
     "output_type": "execute_result"
    }
   ],
   "source": [
    "diccionario = pd.read_csv('datos/zoom1/zoom1-dicc-tx.csv')\n",
    "diccionario"
   ]
  },
  {
   "attachments": {},
   "cell_type": "markdown",
   "metadata": {
    "collapsed": false
   },
   "source": [
    "El diccionario tiene una columna con el código de cada pregunta, el cual corresponde al nombre de cada columna del conjunto de datos principal.\n",
    "Para simplificar el análisis posterior, se utiliza este código como índice del diccionario:"
   ]
  },
  {
   "cell_type": "code",
   "execution_count": 4,
   "metadata": {
    "collapsed": false,
    "ExecuteTime": {
     "end_time": "2024-08-10T23:18:46.175041Z",
     "start_time": "2024-08-10T23:18:46.165748Z"
    }
   },
   "outputs": [
    {
     "data": {
      "text/plain": "                    item order related alive                 new_code  \\\ncode                                                                    \nencuestador                1.0       G     _              encuestador   \nencuestador[other]         2.0       G     _         encuestador_otro   \nconset                     3.0       G     _     consentimiento_leido   \nq35                        4.0       G     _  consentimiento_aceptado   \nq2941                      5.0       G     _         camara_encendida   \n...                        ...     ...   ...                      ...   \nNaN                        NaN     NaN   NaN                      NaN   \nNaN                        NaN     NaN   NaN                      NaN   \nNaN                        NaN     NaN   NaN                      NaN   \nNaN                        NaN     NaN   NaN                      NaN   \nNaN                        NaN     NaN   NaN                      NaN   \n\n                                                             question  \\\ncode                                                                    \nencuestador                                               Encuestador   \nencuestador[other]                                   Encuestador_otro   \nconset                           ¿Leíste el concentimiento informado?   \nq35                             ¿Aceptas el concentimiento informado?   \nq2941               ¿Aceptas ser entrevistado con la cámara encend...   \n...                                                               ...   \nNaN                                                               NaN   \nNaN                                                               NaN   \nNaN                                                               NaN   \nNaN                                                               NaN   \nNaN                                                               NaN   \n\n                     options Unnamed: 7 Unnamed: 8 Unnamed: 9 Unnamed: 10  \\\ncode                                                                        \nencuestador              NaN        NaN        NaN        NaN         NaN   \nencuestador[other]       NaN        NaN        NaN        NaN         NaN   \nconset              Y = Sí_1   N = No_2        NaN        NaN         NaN   \nq35                 Y = Sí_1   N = No_2        NaN        NaN         NaN   \nq2941               Y = Sí_1   N = No_2        NaN        NaN         NaN   \n...                      ...        ...        ...        ...         ...   \nNaN                      NaN        NaN        NaN        NaN         NaN   \nNaN                      NaN        NaN        NaN        NaN         NaN   \nNaN                      NaN        NaN        NaN        NaN         NaN   \nNaN                      NaN        NaN        NaN        NaN         NaN   \nNaN                      NaN        NaN        NaN        NaN         NaN   \n\n                    ... Unnamed: 62 Unnamed: 63 Unnamed: 64 Unnamed: 65  \\\ncode                ...                                                   \nencuestador         ...         NaN         NaN         NaN         NaN   \nencuestador[other]  ...         NaN         NaN         NaN         NaN   \nconset              ...         NaN         NaN         NaN         NaN   \nq35                 ...         NaN         NaN         NaN         NaN   \nq2941               ...         NaN         NaN         NaN         NaN   \n...                 ...         ...         ...         ...         ...   \nNaN                 ...         NaN         NaN         NaN         NaN   \nNaN                 ...         NaN         NaN         NaN         NaN   \nNaN                 ...         NaN         NaN         NaN         NaN   \nNaN                 ...         NaN         NaN         NaN         NaN   \nNaN                 ...         NaN         NaN         NaN         NaN   \n\n                   Unnamed: 66 Unnamed: 67 Unnamed: 68 Unnamed: 69  \\\ncode                                                                 \nencuestador                NaN         NaN         NaN         NaN   \nencuestador[other]         NaN         NaN         NaN         NaN   \nconset                     NaN         NaN         NaN         NaN   \nq35                        NaN         NaN         NaN         NaN   \nq2941                      NaN         NaN         NaN         NaN   \n...                        ...         ...         ...         ...   \nNaN                        NaN         NaN         NaN         NaN   \nNaN                        NaN         NaN         NaN         NaN   \nNaN                        NaN         NaN         NaN         NaN   \nNaN                        NaN         NaN         NaN         NaN   \nNaN                        NaN         NaN         NaN         NaN   \n\n                   Unnamed: 70 Unnamed: 71  \ncode                                        \nencuestador                NaN         NaN  \nencuestador[other]         NaN         NaN  \nconset                     NaN         NaN  \nq35                        NaN         NaN  \nq2941                      NaN         NaN  \n...                        ...         ...  \nNaN                        NaN         NaN  \nNaN                        NaN         NaN  \nNaN                        NaN         NaN  \nNaN                        NaN         NaN  \nNaN                        NaN         NaN  \n\n[999 rows x 71 columns]",
      "text/html": "<div>\n<style scoped>\n    .dataframe tbody tr th:only-of-type {\n        vertical-align: middle;\n    }\n\n    .dataframe tbody tr th {\n        vertical-align: top;\n    }\n\n    .dataframe thead th {\n        text-align: right;\n    }\n</style>\n<table border=\"1\" class=\"dataframe\">\n  <thead>\n    <tr style=\"text-align: right;\">\n      <th></th>\n      <th>item order</th>\n      <th>related</th>\n      <th>alive</th>\n      <th>new_code</th>\n      <th>question</th>\n      <th>options</th>\n      <th>Unnamed: 7</th>\n      <th>Unnamed: 8</th>\n      <th>Unnamed: 9</th>\n      <th>Unnamed: 10</th>\n      <th>...</th>\n      <th>Unnamed: 62</th>\n      <th>Unnamed: 63</th>\n      <th>Unnamed: 64</th>\n      <th>Unnamed: 65</th>\n      <th>Unnamed: 66</th>\n      <th>Unnamed: 67</th>\n      <th>Unnamed: 68</th>\n      <th>Unnamed: 69</th>\n      <th>Unnamed: 70</th>\n      <th>Unnamed: 71</th>\n    </tr>\n    <tr>\n      <th>code</th>\n      <th></th>\n      <th></th>\n      <th></th>\n      <th></th>\n      <th></th>\n      <th></th>\n      <th></th>\n      <th></th>\n      <th></th>\n      <th></th>\n      <th></th>\n      <th></th>\n      <th></th>\n      <th></th>\n      <th></th>\n      <th></th>\n      <th></th>\n      <th></th>\n      <th></th>\n      <th></th>\n      <th></th>\n    </tr>\n  </thead>\n  <tbody>\n    <tr>\n      <th>encuestador</th>\n      <td>1.0</td>\n      <td>G</td>\n      <td>_</td>\n      <td>encuestador</td>\n      <td>Encuestador</td>\n      <td>NaN</td>\n      <td>NaN</td>\n      <td>NaN</td>\n      <td>NaN</td>\n      <td>NaN</td>\n      <td>...</td>\n      <td>NaN</td>\n      <td>NaN</td>\n      <td>NaN</td>\n      <td>NaN</td>\n      <td>NaN</td>\n      <td>NaN</td>\n      <td>NaN</td>\n      <td>NaN</td>\n      <td>NaN</td>\n      <td>NaN</td>\n    </tr>\n    <tr>\n      <th>encuestador[other]</th>\n      <td>2.0</td>\n      <td>G</td>\n      <td>_</td>\n      <td>encuestador_otro</td>\n      <td>Encuestador_otro</td>\n      <td>NaN</td>\n      <td>NaN</td>\n      <td>NaN</td>\n      <td>NaN</td>\n      <td>NaN</td>\n      <td>...</td>\n      <td>NaN</td>\n      <td>NaN</td>\n      <td>NaN</td>\n      <td>NaN</td>\n      <td>NaN</td>\n      <td>NaN</td>\n      <td>NaN</td>\n      <td>NaN</td>\n      <td>NaN</td>\n      <td>NaN</td>\n    </tr>\n    <tr>\n      <th>conset</th>\n      <td>3.0</td>\n      <td>G</td>\n      <td>_</td>\n      <td>consentimiento_leido</td>\n      <td>¿Leíste el concentimiento informado?</td>\n      <td>Y = Sí_1</td>\n      <td>N = No_2</td>\n      <td>NaN</td>\n      <td>NaN</td>\n      <td>NaN</td>\n      <td>...</td>\n      <td>NaN</td>\n      <td>NaN</td>\n      <td>NaN</td>\n      <td>NaN</td>\n      <td>NaN</td>\n      <td>NaN</td>\n      <td>NaN</td>\n      <td>NaN</td>\n      <td>NaN</td>\n      <td>NaN</td>\n    </tr>\n    <tr>\n      <th>q35</th>\n      <td>4.0</td>\n      <td>G</td>\n      <td>_</td>\n      <td>consentimiento_aceptado</td>\n      <td>¿Aceptas el concentimiento informado?</td>\n      <td>Y = Sí_1</td>\n      <td>N = No_2</td>\n      <td>NaN</td>\n      <td>NaN</td>\n      <td>NaN</td>\n      <td>...</td>\n      <td>NaN</td>\n      <td>NaN</td>\n      <td>NaN</td>\n      <td>NaN</td>\n      <td>NaN</td>\n      <td>NaN</td>\n      <td>NaN</td>\n      <td>NaN</td>\n      <td>NaN</td>\n      <td>NaN</td>\n    </tr>\n    <tr>\n      <th>q2941</th>\n      <td>5.0</td>\n      <td>G</td>\n      <td>_</td>\n      <td>camara_encendida</td>\n      <td>¿Aceptas ser entrevistado con la cámara encend...</td>\n      <td>Y = Sí_1</td>\n      <td>N = No_2</td>\n      <td>NaN</td>\n      <td>NaN</td>\n      <td>NaN</td>\n      <td>...</td>\n      <td>NaN</td>\n      <td>NaN</td>\n      <td>NaN</td>\n      <td>NaN</td>\n      <td>NaN</td>\n      <td>NaN</td>\n      <td>NaN</td>\n      <td>NaN</td>\n      <td>NaN</td>\n      <td>NaN</td>\n    </tr>\n    <tr>\n      <th>...</th>\n      <td>...</td>\n      <td>...</td>\n      <td>...</td>\n      <td>...</td>\n      <td>...</td>\n      <td>...</td>\n      <td>...</td>\n      <td>...</td>\n      <td>...</td>\n      <td>...</td>\n      <td>...</td>\n      <td>...</td>\n      <td>...</td>\n      <td>...</td>\n      <td>...</td>\n      <td>...</td>\n      <td>...</td>\n      <td>...</td>\n      <td>...</td>\n      <td>...</td>\n      <td>...</td>\n    </tr>\n    <tr>\n      <th>NaN</th>\n      <td>NaN</td>\n      <td>NaN</td>\n      <td>NaN</td>\n      <td>NaN</td>\n      <td>NaN</td>\n      <td>NaN</td>\n      <td>NaN</td>\n      <td>NaN</td>\n      <td>NaN</td>\n      <td>NaN</td>\n      <td>...</td>\n      <td>NaN</td>\n      <td>NaN</td>\n      <td>NaN</td>\n      <td>NaN</td>\n      <td>NaN</td>\n      <td>NaN</td>\n      <td>NaN</td>\n      <td>NaN</td>\n      <td>NaN</td>\n      <td>NaN</td>\n    </tr>\n    <tr>\n      <th>NaN</th>\n      <td>NaN</td>\n      <td>NaN</td>\n      <td>NaN</td>\n      <td>NaN</td>\n      <td>NaN</td>\n      <td>NaN</td>\n      <td>NaN</td>\n      <td>NaN</td>\n      <td>NaN</td>\n      <td>NaN</td>\n      <td>...</td>\n      <td>NaN</td>\n      <td>NaN</td>\n      <td>NaN</td>\n      <td>NaN</td>\n      <td>NaN</td>\n      <td>NaN</td>\n      <td>NaN</td>\n      <td>NaN</td>\n      <td>NaN</td>\n      <td>NaN</td>\n    </tr>\n    <tr>\n      <th>NaN</th>\n      <td>NaN</td>\n      <td>NaN</td>\n      <td>NaN</td>\n      <td>NaN</td>\n      <td>NaN</td>\n      <td>NaN</td>\n      <td>NaN</td>\n      <td>NaN</td>\n      <td>NaN</td>\n      <td>NaN</td>\n      <td>...</td>\n      <td>NaN</td>\n      <td>NaN</td>\n      <td>NaN</td>\n      <td>NaN</td>\n      <td>NaN</td>\n      <td>NaN</td>\n      <td>NaN</td>\n      <td>NaN</td>\n      <td>NaN</td>\n      <td>NaN</td>\n    </tr>\n    <tr>\n      <th>NaN</th>\n      <td>NaN</td>\n      <td>NaN</td>\n      <td>NaN</td>\n      <td>NaN</td>\n      <td>NaN</td>\n      <td>NaN</td>\n      <td>NaN</td>\n      <td>NaN</td>\n      <td>NaN</td>\n      <td>NaN</td>\n      <td>...</td>\n      <td>NaN</td>\n      <td>NaN</td>\n      <td>NaN</td>\n      <td>NaN</td>\n      <td>NaN</td>\n      <td>NaN</td>\n      <td>NaN</td>\n      <td>NaN</td>\n      <td>NaN</td>\n      <td>NaN</td>\n    </tr>\n    <tr>\n      <th>NaN</th>\n      <td>NaN</td>\n      <td>NaN</td>\n      <td>NaN</td>\n      <td>NaN</td>\n      <td>NaN</td>\n      <td>NaN</td>\n      <td>NaN</td>\n      <td>NaN</td>\n      <td>NaN</td>\n      <td>NaN</td>\n      <td>...</td>\n      <td>NaN</td>\n      <td>NaN</td>\n      <td>NaN</td>\n      <td>NaN</td>\n      <td>NaN</td>\n      <td>NaN</td>\n      <td>NaN</td>\n      <td>NaN</td>\n      <td>NaN</td>\n      <td>NaN</td>\n    </tr>\n  </tbody>\n</table>\n<p>999 rows × 71 columns</p>\n</div>"
     },
     "execution_count": 4,
     "metadata": {},
     "output_type": "execute_result"
    }
   ],
   "source": [
    "diccionario.set_index('code', inplace=True)\n",
    "diccionario"
   ]
  },
  {
   "attachments": {},
   "cell_type": "markdown",
   "metadata": {
    "collapsed": false
   },
   "source": [
    "## Mapeo de preguntas y respuestas"
   ]
  },
  {
   "attachments": {},
   "cell_type": "markdown",
   "metadata": {
    "collapsed": false
   },
   "source": [
    "A cada pregunta del diccionario, este mapeo le asigna el conjunto de sus posibles respuestas de opción múltiple (en caso de que las tenga)."
   ]
  },
  {
   "cell_type": "code",
   "execution_count": 5,
   "metadata": {
    "collapsed": false,
    "ExecuteTime": {
     "end_time": "2024-08-10T23:18:46.194488Z",
     "start_time": "2024-08-10T23:18:46.176740Z"
    }
   },
   "outputs": [
    {
     "data": {
      "text/plain": "{'conset': {'Y': 'Sí_1', 'N': 'No_2'},\n 'q35': {'Y': 'Sí_1', 'N': 'No_2'},\n 'q2941': {'Y': 'Sí_1', 'N': 'No_2'},\n 'q8588': {'Y': 'Sí_1', 'N': 'No_2'},\n 'Sexo_zoom1': {'F': 'Mujer_1', 'M': 'Hombre_2'},\n 'Campus': {'A1': 'UNAM CIUDAD UNIVERSITARIA_1',\n  'A2': 'UNAM CAMPUS ZARAGOZA_2',\n  'A3': 'IBEROAMERICANA SANTA FE_3',\n  'A4': 'UNIVERSIDAD PANAMERICANA_4',\n  'A5': 'UNIVERSIDAD DE VALLE DE MÉXICO_5',\n  'A6': 'UNIVERSIDAD ANÁHUAC_6',\n  'A7': 'UNIVERSIDAD DE GUANAJUATO_7',\n  'A8': 'UANL CIENCIAS DE LA SALUD_8'},\n 'Carrera': {'A1': 'Biología_1',\n  'A2': 'Ciencias De La Computación_2',\n  'A3': 'Ciencias De La Comunicación (Periodismo)_3',\n  'A4': 'Ciencias De La Tierra_4',\n  'A5': 'Física_5',\n  'A6': 'Ingeniería Biomédica_6',\n  'A7': 'Médico Cirujano_7',\n  'A8': 'Psicología_8'},\n 'CarreraCU': {'A2': 'Actuaría_1',\n  'A3': 'Arqitectura_2',\n  'A4': 'Arqitectura del Paisaje_3',\n  'A5': 'Ciencias de la Computación_4',\n  'A6': 'Diseño Industrial_5',\n  'A7': 'Física_6',\n  'A8': 'Ingeniería Civil_7',\n  'A9': 'Ingeniería de Minas y Metalurgia_8',\n  'A10': 'Ingeniería Eléctrica Electrónica_9',\n  'A11': 'Ingeniería en Computación_10',\n  'A12': 'Ingeniería Geofísica_11',\n  'A13': 'Ingeniería Geológica_12',\n  'A14': 'Ingeniería Industrial_13',\n  'A15': 'Ingeniería Mecánica_14',\n  'A16': 'Ingeniería Mecánica Eléctrica_15',\n  'A17': 'Ingeniería Petrolera_16',\n  'A18': 'Ingeniería Química_17',\n  'A 19': 'Ingeniería Química Metalúrgica_18',\n  'A20': 'Ingeniería Topográfica y Geodésica_19',\n  'A21': 'Matemáticas_20',\n  'A22': 'Urbanismo_21',\n  'A23': 'Biología_22',\n  'A24': 'Cirujano Dentista_23',\n  'A25': 'Medicina Veterinaria y Zootecnista_24',\n  'A26': 'Médico Cirujano_25',\n  'A27': 'Psicología_26',\n  'A28': 'Química_27',\n  'A29': 'Química de Alimentos_28',\n  'A30': 'Química Farmacéutico Biológica_29',\n  'A31': 'Administración_30',\n  'A32': 'Ciencias de la Comunicación (Periodismo)_31',\n  'A33': 'Ciencias Políticas y Administración Pública_32',\n  'A34': 'Contaduría_33',\n  'A35': 'Derecho_34',\n  'A36': 'Economía_35',\n  'A37': 'Geografía_36',\n  'A38': 'Relaciones Internacionales_37',\n  'A39': 'Sociología_38',\n  'A40': 'Estudios Latinoamericanos_39',\n  'A41': 'Filosofía_40',\n  'A42': 'Historia_41',\n  'A43': 'Lengua y Literaturas Hispánicas_42',\n  'A44': 'Lengua y Literaturas Modernas',\n  'A45': 'Lengua y Literaturas Modernas',\n  'A46': 'Lengua y Literaturas Modernas',\n  'A47': 'Lengua y Literaturas Modernas',\n  'A48': 'Letras Clásicas_47',\n  'A49': 'Literatura Dramática y Teatro_48',\n  'A50': 'Administración_49',\n  'A51': 'Ciencias de la Comunicación_50',\n  'A52': 'Ciencias Políticas y Administración Pública_51',\n  'A53': 'Contaduría_52',\n  'A54': 'Derecho_53',\n  'A55': 'Economía_54',\n  'A56': 'Geografía_55',\n  'A57': 'Relaciones Internacionales_37',\n  'A58': 'Sociología_38',\n  'A59': 'Trabajo social_56',\n  'A60': 'Pedagogía_57'},\n 'CarreraZaragoza': {'A2': 'Biología_1',\n  'A3': 'Cirugano Dentista_2',\n  'A4': 'Desarrollo Comunitario para el Envejecimiento_3',\n  'A5': 'Enfermería_4',\n  'A6': 'Ingenería Química_5',\n  'A7': 'Médico Cirujano_6',\n  'A8': 'Nutriología_7',\n  'A9': 'Psicología_8',\n  'A10': 'Química Farmacéutico Biológica_9'},\n 'CarreraIbero': {'A2': 'Arquitectura_1',\n  'A3': 'Ingenería Civil_2',\n  'A4': 'Sustentabilidad Ambiental_3',\n  'A5': 'Diseño Gráfico_4',\n  'A6': 'Diseño de Indumentaria y Moda_5',\n  'A7': 'Diseño Industrial_6',\n  'A8': 'Diseño Interactivo_7',\n  'A9': 'Diseño Textil_8',\n  'A10': 'Actuaría_9',\n  'A11': 'Ingeniería Física_10',\n  'A12': 'Ingeniería de Alimentos_11',\n  'A13': 'Ingeniería Química_12',\n  'A14': 'Ingeniería Industrial_13',\n  'A15': 'Ingeniería Biomédica_14',\n  'A16': 'Ingeniería en Tecnología de Cómputo y Telecomunicaciones_15',\n  'A17': 'Ingeniería Mecánica y Eléctrica_16',\n  'A18': 'Ingeniería Mecatrónica y Producción_17',\n  'A19': 'Ciencias Políticas y Administración Pública_18',\n  'A20': 'Derecho_19',\n  'A21': 'Economía_20',\n  'A22': 'Administración de Empresas_21',\n  'A23': 'Administración de la Hospitalidad_22',\n  'A24': 'Administración de Negocios Internacionales_23',\n  'A25': 'Contaduría y Gestión Empresarial_24',\n  'A26': 'Finanzas_25',\n  'A27': 'Mercadotecnia_26',\n  'A28': 'Relaciones Internacionales_27',\n  'A29': 'Psicología_28',\n  'A30': 'Nutrición y Ciencia de los Alimentos_29',\n  'A31': 'Ciencias Teológicas_30',\n  'A32': 'Comunicación_31',\n  'A33': 'Filosofía_32',\n  'A34': 'Historia_33',\n  'A35': 'Historia del Arte_34',\n  'A36': 'Literatura Latinoamericana_35',\n  'A37': 'Pedagogía_36'},\n 'Carreraotrasunis': {'A1': 'Psicología_1'},\n 'Semestre': {'A2': '1_1',\n  'A3': '2_2',\n  'A4': '3_3',\n  'A5': '4_4',\n  'A6': '5_5',\n  'A7': '6_6',\n  'A8': '7_7',\n  'A9': '8_8',\n  'A10': '9_9',\n  'A11': '10_10',\n  'A12': '11_11',\n  'A13': '12_12'},\n 'EdoCivil': {'A2': 'Soltero/a_3',\n  'A3': 'casado/a_1',\n  'A4': 'Unión libre_2',\n  'A5': 'Viudo/a_5',\n  'A6': 'Divorciado/a_4'},\n 'telefonocelular': {'Y': 'Sí_1', 'N': 'No_2'},\n 'carrera84': {'A1': 'Antes de que comenzara la pandemia_1',\n  'A2': 'Durante la pandemia_2'},\n 'saludantesde': {'A2': 'Muy mala_1',\n  'A3': 'Mala_2',\n  'A4': 'Regular_3',\n  'A5': 'Buena_4',\n  'A6': 'Muy buena_5'},\n 'carrerasinpandemia': {'A2': 'Muy mala_1',\n  'A3': 'Mala_2',\n  'A4': 'Regular_3',\n  'A5': 'Buena_4',\n  'A6': 'Muy buena_5'},\n 'carrerapandemia': {'A2': 'Muy mala_1',\n  'A3': 'Mala_2',\n  'A4': 'Regular_3',\n  'A5': 'Buena_4',\n  'A6': 'Muy buena_5'},\n 'condicionantes': {'A2': 'Muy mala_1',\n  'A3': 'Mala_2',\n  'A4': 'Regular_3',\n  'A5': 'Buena_4',\n  'A6': 'Muy buena_5'},\n 'condicionsinpandemia': {'A2': 'Muy mala_1',\n  'A3': 'Mala_2',\n  'A4': 'Regular_3',\n  'A5': 'Buena_4',\n  'A6': 'Muy buena_5'},\n 'condicionpandemia': {'A2': 'Muy mala_1',\n  'A3': 'Mala_2',\n  'A4': 'Regular_3',\n  'A5': 'Buena_4',\n  'A6': 'Muy buena_5'},\n 'estresantes2': {'A2': 'Muy bajo_1',\n  'A3': 'Bajo_2',\n  'A4': 'Normal_3',\n  'A5': 'Alto_4',\n  'A6': 'Muy alto_5',\n  'A7': 'No sé_9',\n  'A8': 'Prefiero no responder_99'},\n 'estressinpandemia': {'A2': 'Muy bajo_1',\n  'A3': 'Bajo_2',\n  'A4': 'Normal_3',\n  'A5': 'Alto_4',\n  'A6': 'Muy alto_5',\n  'A7': 'No sé_9',\n  'A8': 'Prefiero no responder_99'},\n 'estresactual': {'A2': 'Muy bajo_1',\n  'A3': 'Bajo_2',\n  'A4': 'Normal_3',\n  'A5': 'Alto_4',\n  'A6': 'Muy alto_5',\n  'A7': 'No sé_9',\n  'A8': 'Prefiero no responder_99'},\n 'pesoaantes': {'A2': 'Muy bajo_1',\n  'A3': 'Bajo_2',\n  'A4': 'Normal_3',\n  'A5': 'Con sobrepeso_4',\n  'A6': 'Obeso_5',\n  'A7': 'No sé_9',\n  'A8': 'Prefiero no responder_99'},\n 'pesosinpandemia': {'A2': 'Muy bajo_1',\n  'A3': 'Bajo_2',\n  'A4': 'Normal_3',\n  'A5': 'Con sobrepeso_4',\n  'A6': 'Obeso_5',\n  'A7': 'No sé_9',\n  'A8': 'Prefiero no responder_99'},\n 'pesoconpandemia': {'A2': 'Muy bajo_1',\n  'A3': 'Bajo_2',\n  'A4': 'Normal_3',\n  'A5': 'Con sobrepeso_4',\n  'A6': 'Obeso_5',\n  'A7': 'No sé_9',\n  'A8': 'Prefiero no responder_99'},\n 'haconsultadoDr[SQ002]': {'Y': 'Sí_1', 'N': 'No_2'},\n 'haconsultadoDr[SQ003]': {'Y': 'Sí_1', 'N': 'No_2'},\n 'haconsultadoDr[SQ004]': {'Y': 'Sí_1', 'N': 'No_2'},\n 'haconsultadoDr[SQ005]': {'Y': 'Sí_1', 'N': 'No_2'},\n 'cambiodepeso': {'A1': 'Aumentó_3',\n  'A2': 'Se mantuvo igual/No hubo cambios_2',\n  'A3': 'Disminuyó_1',\n  'A4': 'No sé_9'},\n 'cambiodepesoentrarca': {'A1': 'Aumentó_3',\n  'A2': 'Se mantuvo igual/No hubo cambios_2',\n  'A3': 'Disminuyó_1',\n  'A4': 'No sé_9'},\n 'pesoultimavez': {'A2': 'Los últimos 7 días_1',\n  'A3': '1-2 semanas_2',\n  'A4': '2 semanas - 1 mes_3',\n  'A5': '1-3 meses_4',\n  'A6': '3-6 meses_5',\n  'A7': 'No sé_9',\n  'A8': 'No quiero responder_99'},\n 'cadacuandopesas': {'A2': 'Diario_9',\n  'A3': '2-3 veces por semana_8',\n  'A4': '1 vez a la semana_7',\n  'A5': '2-3 veces al mes_6',\n  'A6': '1 vez al mes_5',\n  'A7': 'Cada 2-3 meses_4',\n  'A8': 'Cada 6 meses_3',\n  'A9': '1 vez por año_2',\n  'A10': 'No me peso_1',\n  'A11': 'No quiero responder_99'},\n 'accionespeso': {'A2': 'Bajar de peso_3',\n  'A3': 'Estoy contento con mi peso_2',\n  'A4': 'Subir de peso_1',\n  'A5': 'No sé_9',\n  'A6': 'No quiero responder_99'},\n 'IMC': {'A2': 'Sí_1',\n  'A3': 'No_2',\n  'A4': 'No se que es Índice de Masa Corporal_3'},\n 'dxcronica[dfb]': {'Y': 'Sí_1', 'N': 'No_2'},\n 'dxcronica[dsfh]': {'Y': 'Sí_1', 'N': 'No_2'},\n 'dxcronica[shth]': {'Y': 'Sí_1', 'N': 'No_2'},\n 'dxcronica[cxbh]': {'Y': 'Sí_1', 'N': 'No_2'},\n 'dxcronica[syth]': {'Y': 'Sí_1', 'N': 'No_2'},\n 'dxcronica[svdg]': {'Y': 'Sí_1', 'N': 'No_2'},\n 'dxcronica[ty]': {'Y': 'Sí_1', 'N': 'No_2'},\n 'dxcronica[fdsty]': {'Y': 'Sí_1', 'N': 'No_2'},\n 'dxcronica[fg]': {'Y': 'Sí_1', 'N': 'No_2'},\n 'dxcronica[4565]': {'Y': 'Sí_1', 'N': 'No_2'},\n 'dxcronica[36e4]': {'Y': 'Sí_1', 'N': 'No_2'},\n 'dxcronica[7659ty]': {'Y': 'Sí_1', 'N': 'No_2'},\n 'dxcronica[345q]': {'Y': 'Sí_1', 'N': 'No_2'},\n 'dxcronica[867]': {'Y': 'Sí_1', 'N': 'No_2'},\n 'dxcronica[35]': {'Y': 'Sí_1', 'N': 'No_2'},\n 'dxcronica[76]': {'Y': 'Sí_1', 'N': 'No_2'},\n 'dxcronica[987]': {'Y': 'Sí_1', 'N': 'No_2'},\n 'dxcronica[2345]': {'Y': 'Sí_1', 'N': 'No_2'},\n 'dxcronica[234]': {'Y': 'Sí_1', 'N': 'No_2'},\n 'dxcronica[other]': {'Y': 'Sí_1', 'N': 'No_2'},\n 'D1[SQ0022]': {'A2': '1_1',\n  'A3': '2_2',\n  'A4': '3_3',\n  'A5': '4_4',\n  'A6': '5_5',\n  'A7': '6_6',\n  'A8': '7_7',\n  'A9': '8_8',\n  'A10': '9_9',\n  'A11': 'No aplica_88'},\n 'D1[SQ002]': {'A2': '1_1',\n  'A3': '2_2',\n  'A4': '3_3',\n  'A5': '4_4',\n  'A6': '5_5',\n  'A7': '6_6',\n  'A8': '7_7',\n  'A9': '8_8',\n  'A10': '9_9',\n  'A11': 'No aplica_88'},\n 'D1[SQ003]': {'A2': '1_1',\n  'A3': '2_2',\n  'A4': '3_3',\n  'A5': '4_4',\n  'A6': '5_5',\n  'A7': '6_6',\n  'A8': '7_7',\n  'A9': '8_8',\n  'A10': '9_9',\n  'A11': 'No aplica_88'},\n 'D1[SQ004]': {'A2': '1_1',\n  'A3': '2_2',\n  'A4': '3_3',\n  'A5': '4_4',\n  'A6': '5_5',\n  'A7': '6_6',\n  'A8': '7_7',\n  'A9': '8_8',\n  'A10': '9_9',\n  'A11': 'No aplica_88'},\n 'se34': {'A1': 'Antes de que comenzara la pandemia_1',\n  'A2': 'Durante la pandemia_2'},\n 'trabajas': {'Y': 'Sí_1', 'N': 'No_2'},\n 'areatrabajo': {'A02': 'Actividades deportivas_1',\n  'A03': 'Artista_2',\n  'A04': 'Chofer_3',\n  'A05': 'Comerciante sector formal_4',\n  'A06': 'Comerciante sector informal_5',\n  'A07': 'Empresario_6',\n  'A08': 'Comercio Virtual_7',\n  'A09': 'Atención a clientes_8',\n  'A10': 'Administrativo_9',\n  'A11': 'Gubernamental administrativo_10',\n  'A12': 'Empleado gubernamental_11',\n  'A13': 'Operador de maquinaria móvil_12',\n  'A14': 'Personal técnico_13',\n  'A15': 'Área educativa_14',\n  'A16': 'Profesionista independiente_15',\n  'A17': 'Seguridad_16',\n  'A18': 'Área de la salud_17',\n  'A19': 'Construcción_18',\n  'A20': 'Fábrica_19'},\n 'deport': {'A2': 'Entrenador de gimnasio_1',\n  'A3': 'Profesor de clases deportivas_2'},\n 'artistaq0r621': {'A2': 'Fotógrafo_1',\n  'A3': 'Pintor_2',\n  'A4': 'Músico_3',\n  'A5': 'Cantante_4'},\n 'choferq0r727': {'A2': 'Taxista_1',\n  'A3': 'Uber_2',\n  'A4': 'Microbus_3',\n  'A5': 'Camiones_4'},\n 'informalq0r332': {'A2': 'Vendedor de comida_1',\n  'A3': 'Periódicos_2',\n  'A4': 'Flores y productos en un puesto no establecido_3'},\n 'empresaq0r18': {'A2': 'Dueño_1', 'A3': 'Director o gerente_2'},\n 'internetq0r391': {'A2': 'Vendedor de productos por internet (mercado pago'},\n 'atenciclientesq0r13': {'A2': 'Atención a clientes_1',\n  'A3': 'Recepcionista_2',\n  'A4': 'Vendedor de tiendas departamentales_3',\n  'A5': 'Promotor de seguros_4',\n  'A6': 'Telefonía_5'},\n 'dministratq0r139': {'A2': 'Contador público_1',\n  'A3': 'Administrador_2',\n  'A4': 'Recursos humanos_3'},\n 'gubadmiq0r335': {'A1': '¿DE QUÉ TIPO?_1'},\n 'empleadogubq0r22': {'A2': 'Jefe de departamento_1',\n  'A3': 'Jefe de área',\n  'A4': 'Subadministrador_3',\n  'A5': 'Director_4',\n  'A6': 'Administrador_5',\n  'A7': 'Director general_6'},\n 'operadormaquiq0r947': {'A1': '¿DE QUÉ TIPO?_1'},\n 'persontecnq0r477': {'A1': '¿DE QUÉ TIPO?_1'},\n 'educacionq0r857': {'A2': 'Investigador-profesor en universidad/preparatoria_1',\n  'A3': 'Educación básica_2',\n  'A4': 'Técnico en educación (educador o guardería)_3'},\n 'indepq0r708': {'A2': 'Abogado_1',\n  'A3': 'Psicólogo_2',\n  'A4': 'Contador_3',\n  'A5': 'Dentista_4',\n  'A6': 'Médico independiente_5',\n  'A7': 'Terapeuta_6'},\n 'segurq0r642': {'A2': 'Guardaespaldas_1',\n  'A3': 'Patrullero_2',\n  'A4': 'Vigilante_3',\n  'A5': 'Empleado de seguridad en bancos_4',\n  'A6': 'Empleado de seguridad privada_5',\n  'A7': 'Policía de tránsito_6'},\n 'saludq0r580': {'A2': 'Médico_1',\n  'A3': 'Enfermera_2',\n  'A4': 'Camillero_3',\n  'A5': 'Paramédico_4'},\n 'construccion': {'A2': 'Arquitecto_1',\n  'A3': 'Ingeniero civil/albañil o trabajador general_2'},\n 'formal21': {'A2': 'Vendedor por cuenta propia (negocio propio)_1'},\n 'agriculturaq0r411': {'A2': 'Agricultor_1',\n  'A3': 'Granjero_2',\n  'A4': 'Siembra_3'},\n 'fabricaq57': {'A1': 'Empleado_1'},\n 'xqtrabajas[12]': {'Y': 'Sí_1', 'N': 'No_2'},\n 'xqtrabajas[21]': {'Y': 'Sí_1', 'N': 'No_2'},\n 'xqtrabajas[32]': {'Y': 'Sí_1', 'N': 'No_2'},\n 'xqtrabajas[45]': {'Y': 'Sí_1', 'N': 'No_2'},\n 'vivirconpadres': {'A1': 'Sí_1',\n  'A2': 'No_2',\n  'A3': 'No quiero responder_99'},\n 'matrizcosas[SQ010]': {'A1': 'Sí_1',\n  'A2': 'No_2',\n  'A3': 'No quiero responder_99'},\n 'matrizcosas[SQ002]': {'A1': 'Sí_1',\n  'A2': 'No_2',\n  'A3': 'No quiero responder_99'},\n 'matrizcosas[SQ003]': {'A1': 'Sí_1',\n  'A2': 'No_2',\n  'A3': 'No quiero responder_99'},\n 'matrizcosas[SQ004]': {'A1': 'Sí_1',\n  'A2': 'No_2',\n  'A3': 'No quiero responder_99'},\n 'matrizcosas[SQ005]': {'A1': 'Sí_1',\n  'A2': 'No_2',\n  'A3': 'No quiero responder_99'},\n 'matrizcosas[SQ006]': {'A1': 'Sí_1',\n  'A2': 'No_2',\n  'A3': 'No quiero responder_99'},\n 'matrizcosas[SQ007]': {'A1': 'Sí_1',\n  'A2': 'No_2',\n  'A3': 'No quiero responder_99'},\n 'matrizcosas[SQ008]': {'A1': 'Sí_1',\n  'A2': 'No_2',\n  'A3': 'No quiero responder_99'},\n 'matrizcosas[SQ009]': {'A1': 'Sí_1',\n  'A2': 'No_2',\n  'A3': 'No quiero responder_99'},\n 'lapcad': {'A1': 'Sí_1', 'A2': 'No_2', 'A3': 'No quiero responder_99'},\n 'lap9': {'A1': 'Sí_1', 'A2': 'No_2', 'A3': 'No quiero responder_99'},\n 'secu': {'A1': 'Pública_1', 'A2': 'Privada_2'},\n 'prepa': {'A1': 'Pública_1', 'A2': 'Privada_2'},\n 'q0r377': {'A2': 'Sí_1',\n  'A3': 'No_2',\n  'A4': 'No sé_9',\n  'A5': 'No aplica_88',\n  'A6': 'OCASIONALMENTE_3'},\n 'q0r490': {'A2': 'Sí_1', 'A3': 'No_2', 'A4': 'No sé_9', 'A5': 'No aplica_88'},\n 'q0r1004': {'A01': 'Sí_1',\n  'A02': 'No_2',\n  'A03': 'No sé_9',\n  'A04': 'No aplica_88'},\n 'antesdecomidas': {'A2': 'Mucho Menos de lo recomendado_1',\n  'A3': 'Menos de lo recomendado_2',\n  'A4': 'Lo recomendado_3',\n  'A5': 'Más de lo recomendado_4',\n  'A6': 'Mucho más de lo recomendado_5'},\n 'sinpandemiacomid': {'A2': 'Mucho Menos de lo recomendado_1',\n  'A3': 'Menos de lo recomendado_2',\n  'A4': 'Lo recomendado_3',\n  'A5': 'Más de lo recomendado_4',\n  'A6': 'Mucho más de lo recomendado_5'},\n 'conpandemiacomida': {'A2': 'Mucho Menos de lo recomendado_1',\n  'A3': 'Menos de lo recomendado_2',\n  'A4': 'Lo recomendado_3',\n  'A5': 'Más de lo recomendado_4',\n  'A6': 'Mucho más de lo recomendado_5'},\n 'antessaludable': {'Y': 'Sí_1', 'N': 'No_2'},\n 'durantelapandemiasal': {'Y': 'Sí_1', 'N': 'No_2'},\n 'conpandemia': {'Y': 'Sí_1', 'N': 'No_2'},\n 'trabajo': {'A0101': 'entrenador_1',\n  'A0102': 'instructor_2',\n  'A0201': 'actor_3',\n  'A0202': 'ballet_4',\n  'A0203': 'diseñador gráfico_5',\n  'A0204': 'modelo_6',\n  'A0205': 'músico_7',\n  'A0401': 'bazar_8',\n  'A0402': 'flores y productos en un puesto no establecido_9',\n  'A0403': 'ropa_10',\n  'A0404': 'vendedor_11',\n  'A0405': 'vendedor por cuenta propia (negocio propio)_12',\n  'A0406': 'venta de cigarros_13',\n  'A0501': 'taquero_14',\n  'A0502': 'vendedor de comida_15',\n  'A0601': 'asesor_16',\n  'A0602': 'consultor_17',\n  'A0603': 'dueño_18',\n  'A0604': 'fundación_19',\n  'A0605': 'gerente_20',\n  'A0701': 'vendedor de productos por internet (mercado pago',\n  'A0801': 'atención a clientes_22',\n  'A0802': 'cajero_23',\n  'A0803': 'call center_24',\n  'A0804': 'promotor de seguros_25',\n  'A0805': 'recepcionista_26',\n  'A0806': 'telefonía_27',\n  'A0807': 'vendedor de tiendas departamentales_28',\n  'A0901': 'reclutador_29',\n  'A0902': 'recursos humanos_30',\n  'A1001': 'sistemas_31',\n  'A1101': 'administrador_32',\n  'A1301': 'dar clases_33',\n  'A1302': 'docente_34',\n  'A1303': 'educación básica_35',\n  'A1304': 'idiomas_36',\n  'A1305': 'investigador-profesor en universidad/preparatoria_37',\n  'A1306': 'profesor_38',\n  'A1307': 'regularización_39',\n  'A1308': 'secundaria_40',\n  'A1309': 'técnico en educación (educador o guardería)_41',\n  'A1310': 'universidad_42',\n  'A1311': 'área educativa_43',\n  'A1401': 'abogado_44',\n  'A1402': 'marketing_45',\n  'A1403': 'psicólogo_46',\n  'A1404': 'publicista_47',\n  'A1601': 'médico_48',\n  'A1602': 'nutriólogo_49',\n  'A1801': 'empleado_50',\n  'A2001': 'abarrotes_51',\n  'A2002': 'actividades comunitarias_52',\n  'A2003': 'asistente_53',\n  'A2004': 'ayudante general_54',\n  'A2005': 'becario_55',\n  'A2006': 'cafetería_56',\n  'A2007': 'cocinero_57',\n  'A2008': 'farmacia_58',\n  'A2009': 'intendente_59',\n  'A2010': 'jarciería_60',\n  'A2011': 'maquilador_61',\n  'A2012': 'repartidor pizza_62',\n  'A2101': 'artesano_63',\n  'A2102': 'costurero_64',\n  'A9901': 'a1_65',\n  'A9902': 'ninguna_66'},\n 'categoria': {'A01': 'actividades deportivas_1',\n  'A02': 'artista_2',\n  'A04': 'comerciante sector informal_4',\n  'A05': 'comerciante sector formal_5',\n  'A06': 'empresario_6',\n  'A07': 'comercio virtual_7',\n  'A08': 'atención a clientes_8',\n  'A09': 'administrativo_9',\n  'A10': 'gubernamental administrativo_10',\n  'A11': 'empleado gubernamental_11',\n  'A13': 'área educativa_13',\n  'A14': 'profesionista independiente_14',\n  'A16': 'área de la salud_16',\n  'A18': 'fábrica_18',\n  'A20': 'actividades elementales y de apoyo_20',\n  'A21': 'oficios_21',\n  'A99': 'desconocido_99'}}"
     },
     "execution_count": 5,
     "metadata": {},
     "output_type": "execute_result"
    }
   ],
   "source": [
    "mapeo_respuestas = auxiliar_4.construir_mapeo_preguntas_y_respuestas(diccionario)\n",
    "mapeo_respuestas"
   ]
  },
  {
   "attachments": {},
   "cell_type": "markdown",
   "metadata": {
    "collapsed": false
   },
   "source": [
    "## Funciones auxiliares"
   ]
  },
  {
   "attachments": {},
   "cell_type": "markdown",
   "metadata": {
    "collapsed": false
   },
   "source": [
    "El propósito de las funciones auxiliares es simplificar la cantidad de código que se escribe.\n",
    "\n",
    "La definición de estas funciones se encuentra en el módulo `auxiliar.py`.\n",
    "\n",
    "La mayoría de estas funciones reciben como parámetros el conjunto de datos y el mapeo de preguntas y respuestas. En este cuaderno solo se tiene un conjunto de datos (zoom1) y un mapeo de preguntas y respuestas. Por lo tanto, cada vez que se llame a estas funciones durante el análisis se tendría que escribir el nombre del conjunto de datos y el mapeo.\n",
    "\n",
    "Para evitar tanta repetición y permitir que las funciones auxiliares se puedan usar en otros cuadernos, *se creará nuevas funciones que simplemente llamen a las funciones auxiliares, pero con los parámetros de datos y de mapeo* **fijados**: esto se logra mediante el uso de `functools.partial`, que recibe una función y los parámetros que se le quieren fijar y devuelve una nueva función con los parámetros fijados.\n",
    "\n",
    "De este modo, las nuevas funciones tienen el mismo comportamiento pero reciben menos parámetros."
   ]
  },
  {
   "cell_type": "code",
   "execution_count": 6,
   "metadata": {
    "collapsed": false,
    "ExecuteTime": {
     "end_time": "2024-08-10T23:18:46.197885Z",
     "start_time": "2024-08-10T23:18:46.195490Z"
    }
   },
   "outputs": [],
   "source": [
    "mapear_codigos = functools.partial(auxiliar_4.mapear_codigos, datos, mapeo_respuestas)\n",
    "llenar_respuesta_libre = functools.partial(auxiliar_4.llenar_respuesta_libre, datos)\n",
    "llenar_vacios = functools.partial(auxiliar_4.llenar_vacios, datos)\n",
    "mostrar_unicos = functools.partial(auxiliar_4.mostrar_unicos, datos)\n",
    "contar_faltantes = functools.partial(auxiliar_4.contar_faltantes, datos)\n",
    "unificar_observaciones = functools.partial(auxiliar_4.unificar_observaciones, datos)"
   ]
  },
  {
   "attachments": {},
   "cell_type": "markdown",
   "metadata": {
    "collapsed": false
   },
   "source": [
    "# Limpieza general"
   ]
  },
  {
   "attachments": {},
   "cell_type": "markdown",
   "metadata": {
    "collapsed": false
   },
   "source": [
    "En esta sección se limpiará la mayoría de  las columnas del conjunto de datos principal.\n",
    "\n",
    "Como cada una requiere un tratamiento diferente, se dedicará una subsección individual para cada una.\n",
    "\n",
    "El orden en el que se limpiarán las columnas es en el que aparecen en el conjunto de datos, no en el que se presentan en el diccionario."
   ]
  },
  {
   "cell_type": "markdown",
   "source": [],
   "metadata": {
    "collapsed": false
   }
  },
  {
   "attachments": {},
   "cell_type": "markdown",
   "metadata": {
    "collapsed": false
   },
   "source": [
    "## Descripción proceso"
   ]
  },
  {
   "attachments": {},
   "cell_type": "markdown",
   "metadata": {
    "collapsed": false
   },
   "source": [
    "### Columnas con sufijo\n",
    "Muchas columnas son preguntas de opción múltiple, pero en ocasiones se permite que el encuestador de una respuesta libre.\n",
    "En este caso, se tiene una nueva columna con el mismo nombre de la columna original pero con un sufijo (por lo común `[other]`).\n",
    " Por ejemplo, si la columna `campus` permite que el encuestado escriba una respuesta libre, entonces se tendrá una columna `campus[other]` con la respuesta libre del encuestado.\n",
    "\n",
    "En caso de que el encuestado dé una respuesta libre, la columna original tendrá un valor faltante (o tendrá algún valor como `-oth-`) y la columna con el sufijo tendrá el valor de la respuesta libre.\n",
    "\n",
    "Para limpiar estas columnas, se debe:\n",
    "- Unificar ambas columnas.\n",
    "    - Llenar los valores faltantes de la columna original con el valor de la columna con el sufijo.\n",
    "    - Llenar los valores `-oth-` de la columna original con el valor de la columna con el sufijo.\n",
    "- Eliminar las columnas con el sufijo.\n",
    "\n",
    "Los pasos anteriores se realizan con la función `llenar_respuesta_libre`."
   ]
  },
  {
   "attachments": {},
   "cell_type": "markdown",
   "metadata": {
    "collapsed": false
   },
   "source": [
    "### Valores faltantes\n",
    "Se usan diferentes códigos para ciertos tipos de valores faltantes:\n",
    "- B1: no aplica porque algunas personas ingresaron a la carrera antes de la pandemia y otras durante la pandemia.\n",
    "- B2: valor perdido\n",
    "- B3: problema en lime survey"
   ]
  },
  {
   "attachments": {},
   "cell_type": "markdown",
   "metadata": {
    "collapsed": false
   },
   "source": [
    "## Columnas elementales"
   ]
  },
  {
   "attachments": {},
   "cell_type": "markdown",
   "metadata": {
    "collapsed": false
   },
   "source": [
    "### Encuestados sin información"
   ]
  },
  {
   "attachments": {},
   "cell_type": "markdown",
   "metadata": {
    "collapsed": false
   },
   "source": [
    "El encuestado con el `ID` 288 tiene casi todas sus columnas vacías, así que se eliminará su registro."
   ]
  },
  {
   "cell_type": "code",
   "execution_count": 7,
   "metadata": {
    "collapsed": false,
    "ExecuteTime": {
     "end_time": "2024-08-10T23:18:46.203256Z",
     "start_time": "2024-08-10T23:18:46.198732Z"
    }
   },
   "outputs": [],
   "source": [
    "datos.drop(index=datos[datos['id'] == 288].index, inplace=True)"
   ]
  },
  {
   "attachments": {},
   "cell_type": "markdown",
   "metadata": {
    "collapsed": false
   },
   "source": [
    "### Encuestador"
   ]
  },
  {
   "cell_type": "code",
   "execution_count": 8,
   "metadata": {
    "collapsed": false,
    "ExecuteTime": {
     "end_time": "2024-08-10T23:18:46.208046Z",
     "start_time": "2024-08-10T23:18:46.204157Z"
    }
   },
   "outputs": [
    {
     "data": {
      "text/plain": "0     A02\n1     A03\n2     A04\n3     A05\n4     A06\n5     A07\n6     A08\n7     A09\n8     A10\n9     A11\n10    A12\n11    A13\n12    A14\n13    A15\n14    A16\n15    A17\n16    A18\n17    A19\n18    A20\n19    A21\n20    A22\n21    A23\n22    NaN\nName: encuestador, dtype: object"
     },
     "execution_count": 8,
     "metadata": {},
     "output_type": "execute_result"
    }
   ],
   "source": [
    "mostrar_unicos('encuestador')"
   ]
  },
  {
   "cell_type": "code",
   "execution_count": 9,
   "metadata": {
    "collapsed": false,
    "ExecuteTime": {
     "end_time": "2024-08-10T23:18:46.211611Z",
     "start_time": "2024-08-10T23:18:46.208650Z"
    }
   },
   "outputs": [
    {
     "data": {
      "text/plain": "7"
     },
     "execution_count": 9,
     "metadata": {},
     "output_type": "execute_result"
    }
   ],
   "source": [
    "contar_faltantes('encuestador')"
   ]
  },
  {
   "cell_type": "code",
   "execution_count": 10,
   "metadata": {
    "collapsed": false,
    "ExecuteTime": {
     "end_time": "2024-08-10T23:18:46.218298Z",
     "start_time": "2024-08-10T23:18:46.212086Z"
    }
   },
   "outputs": [
    {
     "name": "stderr",
     "output_type": "stream",
     "text": [
      "/Users/erickavendanogarcia/Downloads/servicio_social/encuestas/auxiliar_4.py:143: FutureWarning: A value is trying to be set on a copy of a DataFrame or Series through chained assignment using an inplace method.\n",
      "The behavior will change in pandas 3.0. This inplace method will never work because the intermediate object on which we are setting values always behaves as a copy.\n",
      "\n",
      "For example, when doing 'df[col].method(value, inplace=True)', try using 'df.method({col: value}, inplace=True)' or df[col] = df[col].method(value) instead, to perform the operation inplace on the original object.\n",
      "\n",
      "\n",
      "  df[columna].fillna(valor, inplace=True)\n"
     ]
    },
    {
     "data": {
      "text/plain": "0"
     },
     "execution_count": 10,
     "metadata": {},
     "output_type": "execute_result"
    }
   ],
   "source": [
    "llenar_respuesta_libre('encuestador')\n",
    "llenar_vacios('encuestador', '00')\n",
    "contar_faltantes('encuestador')"
   ]
  },
  {
   "attachments": {},
   "cell_type": "markdown",
   "metadata": {
    "collapsed": false
   },
   "source": [
    "### conset"
   ]
  },
  {
   "cell_type": "code",
   "execution_count": 11,
   "metadata": {
    "collapsed": false,
    "ExecuteTime": {
     "end_time": "2024-08-10T23:18:46.221129Z",
     "start_time": "2024-08-10T23:18:46.219017Z"
    }
   },
   "outputs": [
    {
     "data": {
      "text/plain": "1"
     },
     "execution_count": 11,
     "metadata": {},
     "output_type": "execute_result"
    }
   ],
   "source": [
    "contar_faltantes('conset')"
   ]
  },
  {
   "cell_type": "code",
   "execution_count": 12,
   "metadata": {
    "collapsed": false,
    "ExecuteTime": {
     "end_time": "2024-08-10T23:18:46.224796Z",
     "start_time": "2024-08-10T23:18:46.221771Z"
    }
   },
   "outputs": [
    {
     "data": {
      "text/plain": "0"
     },
     "execution_count": 12,
     "metadata": {},
     "output_type": "execute_result"
    }
   ],
   "source": [
    "# Observamos que la variable conset tiene dos valores faltantes, en este caso los llenamos con 'no'.\n",
    "# Es mejor prevenir que lamentar.\n",
    "\n",
    "llenar_vacios('conset', 'N')\n",
    "contar_faltantes('conset')"
   ]
  },
  {
   "attachments": {},
   "cell_type": "markdown",
   "metadata": {
    "collapsed": false
   },
   "source": [
    "### q35"
   ]
  },
  {
   "cell_type": "code",
   "execution_count": 13,
   "metadata": {
    "collapsed": false,
    "ExecuteTime": {
     "end_time": "2024-08-10T23:18:46.228960Z",
     "start_time": "2024-08-10T23:18:46.227014Z"
    }
   },
   "outputs": [],
   "source": [
    "# La columna q35 es el consentimiento aceptado, en este caso también hay valores faltantes,\n",
    "# los cuales vamos a establecer como un 'no'\n",
    "llenar_vacios('q35', 'N')"
   ]
  },
  {
   "attachments": {},
   "cell_type": "markdown",
   "metadata": {
    "collapsed": false
   },
   "source": [
    "### q2941 y q8588"
   ]
  },
  {
   "cell_type": "code",
   "execution_count": 14,
   "metadata": {
    "collapsed": false,
    "ExecuteTime": {
     "end_time": "2024-08-10T23:18:46.581541Z",
     "start_time": "2024-08-10T23:18:46.578523Z"
    }
   },
   "outputs": [],
   "source": [
    "# La columna q2941 es sobre si la camara estaba encendida, y q8588 sobre si la reunión se podía grabar;\n",
    "# los valores faltantes se ponen como 'no'.\n",
    "\n",
    "llenar_vacios('q2941', 'N')\n",
    "llenar_vacios('q8588', 'N')"
   ]
  },
  {
   "attachments": {},
   "cell_type": "markdown",
   "metadata": {
    "collapsed": false
   },
   "source": [
    "### folio"
   ]
  },
  {
   "cell_type": "code",
   "execution_count": 15,
   "metadata": {
    "collapsed": false,
    "ExecuteTime": {
     "end_time": "2024-08-10T23:18:47.326376Z",
     "start_time": "2024-08-10T23:18:47.323367Z"
    }
   },
   "outputs": [
    {
     "data": {
      "text/plain": "0"
     },
     "execution_count": 15,
     "metadata": {},
     "output_type": "execute_result"
    }
   ],
   "source": [
    "# Existen valores faltantes en la columna folio. Los voy a llenar con un folio predeterminado '0'.\n",
    "# También hay valores faltantes en el sexo, en este caso van a llenarse con un 'Desconocido'.\"\n",
    "llenar_vacios('folio', 0)\n",
    "contar_faltantes('folio')"
   ]
  },
  {
   "attachments": {},
   "cell_type": "markdown",
   "metadata": {
    "collapsed": false
   },
   "source": [
    "### Sexo"
   ]
  },
  {
   "cell_type": "code",
   "execution_count": 16,
   "metadata": {
    "collapsed": false,
    "ExecuteTime": {
     "end_time": "2024-08-10T23:18:47.698475Z",
     "start_time": "2024-08-10T23:18:47.695987Z"
    }
   },
   "outputs": [],
   "source": [
    "llenar_vacios('Sexo', 'Desconocido')"
   ]
  },
  {
   "cell_type": "code",
   "execution_count": 17,
   "metadata": {
    "collapsed": false,
    "ExecuteTime": {
     "end_time": "2024-08-10T23:18:47.882858Z",
     "start_time": "2024-08-10T23:18:47.879713Z"
    }
   },
   "outputs": [
    {
     "data": {
      "text/plain": "0"
     },
     "execution_count": 17,
     "metadata": {},
     "output_type": "execute_result"
    }
   ],
   "source": [
    "contar_faltantes('Sexo')"
   ]
  },
  {
   "attachments": {},
   "cell_type": "markdown",
   "metadata": {
    "collapsed": false
   },
   "source": [
    "### Dirección"
   ]
  },
  {
   "cell_type": "code",
   "execution_count": 18,
   "metadata": {
    "collapsed": false,
    "ExecuteTime": {
     "end_time": "2024-08-10T23:18:47.988051Z",
     "start_time": "2024-08-10T23:18:47.985699Z"
    }
   },
   "outputs": [],
   "source": [
    "# Existen valores faltantes en las dirreciones Direccion[SQ008], ¿cómo podemos solucionarlo? Le pondré un 0.\n",
    "llenar_vacios('Direccion[SQ008]', 0)"
   ]
  },
  {
   "attachments": {},
   "cell_type": "markdown",
   "metadata": {
    "collapsed": false
   },
   "source": [
    "## Campus"
   ]
  },
  {
   "cell_type": "code",
   "execution_count": 19,
   "metadata": {
    "collapsed": false,
    "ExecuteTime": {
     "end_time": "2024-08-10T23:18:48.112759Z",
     "start_time": "2024-08-10T23:18:48.109572Z"
    }
   },
   "outputs": [
    {
     "data": {
      "text/plain": "0    -oth-\n1       A1\n2       A2\n3       A3\n4       A5\n5       A7\n6       A8\nName: Campus, dtype: object"
     },
     "execution_count": 19,
     "metadata": {},
     "output_type": "execute_result"
    }
   ],
   "source": [
    "mostrar_unicos('Campus')"
   ]
  },
  {
   "attachments": {},
   "cell_type": "markdown",
   "metadata": {
    "collapsed": false
   },
   "source": [
    "Primero se extrae los valores de las claves:"
   ]
  },
  {
   "cell_type": "code",
   "execution_count": 20,
   "metadata": {
    "collapsed": false,
    "ExecuteTime": {
     "end_time": "2024-08-10T23:18:48.214554Z",
     "start_time": "2024-08-10T23:18:48.210364Z"
    }
   },
   "outputs": [
    {
     "name": "stderr",
     "output_type": "stream",
     "text": [
      "/Users/erickavendanogarcia/Downloads/servicio_social/encuestas/auxiliar_4.py:99: FutureWarning: A value is trying to be set on a copy of a DataFrame or Series through chained assignment using an inplace method.\n",
      "The behavior will change in pandas 3.0. This inplace method will never work because the intermediate object on which we are setting values always behaves as a copy.\n",
      "\n",
      "For example, when doing 'df[col].method(value, inplace=True)', try using 'df.method({col: value}, inplace=True)' or df[col] = df[col].method(value) instead, to perform the operation inplace on the original object.\n",
      "\n",
      "\n",
      "  df[columna].replace(mapeo[columna], inplace=True)\n"
     ]
    },
    {
     "data": {
      "text/plain": "0                               -oth-\n1           IBEROAMERICANA SANTA FE_3\n2         UANL CIENCIAS DE LA SALUD_8\n3              UNAM CAMPUS ZARAGOZA_2\n4         UNAM CIUDAD UNIVERSITARIA_1\n5         UNIVERSIDAD DE GUANAJUATO_7\n6    UNIVERSIDAD DE VALLE DE MÉXICO_5\nName: Campus, dtype: object"
     },
     "execution_count": 20,
     "metadata": {},
     "output_type": "execute_result"
    }
   ],
   "source": [
    "mapear_codigos('Campus')\n",
    "mostrar_unicos('Campus')"
   ]
  },
  {
   "cell_type": "code",
   "execution_count": 21,
   "metadata": {
    "collapsed": false,
    "ExecuteTime": {
     "end_time": "2024-08-10T23:18:48.346215Z",
     "start_time": "2024-08-10T23:18:48.340857Z"
    }
   },
   "outputs": [
    {
     "data": {
      "text/plain": "0                  Ciencias de la salud \n1                                    DCS\n2                           FES ZARAGOZA\n3                            GUANAJUATO \n4                                  IBERO\n5              IBEROAMERICANA SANTA FE_3\n6          U. DE GUANAJUATO CAMPUS LEON \n7           U. de Guanajuato Campus LEON\n8          U. de Guanajuato Campus Leon \n9          U. de Guanajuato Campus León \n10           UANL CIENCIAS DE LA SALUD_8\n11                                  UGTO\n12                UNAM CAMPUS ZARAGOZA_2\n13           UNAM CIUDAD UNIVERSITARIA_1\n14                                 UNISA\n15                                UNISA \n16              UNIVERSIDA DE GUANAJUATO\n17             UNIVERSIDAD DE GUANAJUATO\n18           UNIVERSIDAD DE GUANAJUATO_7\n19      UNIVERSIDAD DE VALLE DE MÉXICO_5\n20    Universidad Guanajuato Campus LEON\n21                   Villa de los niños \n22                                 unisa\nName: Campus, dtype: object"
     },
     "execution_count": 21,
     "metadata": {},
     "output_type": "execute_result"
    }
   ],
   "source": [
    "llenar_respuesta_libre('Campus')\n",
    "mostrar_unicos('Campus')"
   ]
  },
  {
   "cell_type": "code",
   "execution_count": 22,
   "metadata": {
    "collapsed": false,
    "ExecuteTime": {
     "end_time": "2024-08-10T23:18:48.465106Z",
     "start_time": "2024-08-10T23:18:48.461427Z"
    }
   },
   "outputs": [
    {
     "data": {
      "text/plain": "0                   ciencias de la salud\n1                                    dcs\n2                           fes zaragoza\n3                             guanajuato\n4                                  ibero\n5              iberoamericana santa fe_3\n6           u. de guanajuato campus leon\n7           u. de guanajuato campus león\n8            uanl ciencias de la salud_8\n9                                   ugto\n10                unam campus zaragoza_2\n11           unam ciudad universitaria_1\n12                                 unisa\n13              universida de guanajuato\n14             universidad de guanajuato\n15           universidad de guanajuato_7\n16      universidad de valle de méxico_5\n17    universidad guanajuato campus leon\n18                    villa de los niños\nName: Campus, dtype: object"
     },
     "execution_count": 22,
     "metadata": {},
     "output_type": "execute_result"
    }
   ],
   "source": [
    "datos['Campus'] = datos['Campus'].str.strip().str.lower()\n",
    "mostrar_unicos('Campus')"
   ]
  },
  {
   "attachments": {},
   "cell_type": "markdown",
   "metadata": {
    "collapsed": false
   },
   "source": [
    "Se nota que hay algunas respuestas que corresponden a la misma institución, pero escritas de manera diferente. Se unificará los distintos formatos para la universidad de Guanajuato."
   ]
  },
  {
   "cell_type": "code",
   "execution_count": 23,
   "metadata": {
    "collapsed": false,
    "ExecuteTime": {
     "end_time": "2024-08-10T23:18:48.617145Z",
     "start_time": "2024-08-10T23:18:48.612494Z"
    }
   },
   "outputs": [
    {
     "data": {
      "text/plain": "548                            guanajuato\n549    universidad guanajuato campus leon\n550          u. de guanajuato campus leon\n551             universidad de guanajuato\n552              universida de guanajuato\n553          u. de guanajuato campus león\n554             universidad de guanajuato\n555             universidad de guanajuato\n558             universidad de guanajuato\n559          u. de guanajuato campus leon\n560          u. de guanajuato campus leon\n562             universidad de guanajuato\n564             universidad de guanajuato\n583             universidad de guanajuato\n714           universidad de guanajuato_7\n715           universidad de guanajuato_7\n716           universidad de guanajuato_7\n717           universidad de guanajuato_7\n718           universidad de guanajuato_7\n719           universidad de guanajuato_7\n720           universidad de guanajuato_7\n721           universidad de guanajuato_7\n722           universidad de guanajuato_7\nName: Campus, dtype: object"
     },
     "execution_count": 23,
     "metadata": {},
     "output_type": "execute_result"
    }
   ],
   "source": [
    "datos['Campus'][datos['Campus'].str.contains('guanajuato', case=False)]"
   ]
  },
  {
   "cell_type": "code",
   "execution_count": 24,
   "metadata": {
    "collapsed": false,
    "ExecuteTime": {
     "end_time": "2024-08-10T23:18:48.758715Z",
     "start_time": "2024-08-10T23:18:48.750452Z"
    }
   },
   "outputs": [
    {
     "data": {
      "text/plain": "Campus\nunam ciudad universitaria_1         316\niberoamericana santa fe_3           207\nuanl ciencias de la salud_8          93\nunam campus zaragoza_2               67\nuniversidad de guanajuato            24\nunisa                                11\nciencias de la salud                  2\nuniversidad de valle de méxico_5      1\nvilla de los niños                    1\nName: count, dtype: int64"
     },
     "execution_count": 24,
     "metadata": {},
     "output_type": "execute_result"
    }
   ],
   "source": [
    "unificar_observaciones('Campus', r'.*guanajuato.*|ugto', 'universidad de guanajuato')\n",
    "unificar_observaciones('Campus', r'ibero', 'iberoamericana santa fe_3')\n",
    "unificar_observaciones('Campus', r'zaragoza', 'unam campus zaragoza_2')\n",
    "unificar_observaciones('Campus', r'^dcs|salud$', 'ciencias de la salud')\n",
    "datos['Campus'].value_counts()"
   ]
  },
  {
   "attachments": {},
   "cell_type": "markdown",
   "metadata": {
    "collapsed": false
   },
   "source": [
    "El campus ciencias de la salud pertenece a la universidad autónoma de Nuevo León (UANL).\n",
    "Se requiere un código para universidad de Guanajuato y otro para ciencias de la salud en UANL"
   ]
  },
  {
   "cell_type": "code",
   "execution_count": 25,
   "metadata": {
    "collapsed": false,
    "ExecuteTime": {
     "end_time": "2024-08-10T23:18:48.888166Z",
     "start_time": "2024-08-10T23:18:48.881013Z"
    }
   },
   "outputs": [
    {
     "data": {
      "text/plain": "0    Universidad de la Salud de la Ciudad de México_9\n1                           iberoamericana santa fe_3\n2                         uanl ciencias de la salud_8\n3                              unam campus zaragoza_2\n4                         unam ciudad universitaria_1\n5                         universidad de guanajuato_7\n6                    universidad de valle de méxico_5\n7                               villa de los niños_10\nName: Campus, dtype: object"
     },
     "execution_count": 25,
     "metadata": {},
     "output_type": "execute_result"
    }
   ],
   "source": [
    "unificar_observaciones('Campus', r'universidad de guanajuato', 'universidad de guanajuato_7')\n",
    "unificar_observaciones('Campus', r'ciencias de la salud', 'uanl ciencias de la salud_8')\n",
    "unificar_observaciones('Campus', r'unisa', 'Universidad de la Salud de la Ciudad de México_9')\n",
    "unificar_observaciones('Campus', r'villa de los niños', 'villa de los niños_10')\n",
    "unificar_observaciones('Campus', r'^a[78]', 'desconocido_0')\n",
    "mostrar_unicos('Campus')"
   ]
  },
  {
   "attachments": {},
   "cell_type": "markdown",
   "metadata": {
    "collapsed": false
   },
   "source": [
    "### Códigos de campus"
   ]
  },
  {
   "cell_type": "code",
   "execution_count": 26,
   "metadata": {
    "collapsed": false,
    "ExecuteTime": {
     "end_time": "2024-08-10T23:18:49.012680Z",
     "start_time": "2024-08-10T23:18:49.007301Z"
    }
   },
   "outputs": [
    {
     "data": {
      "text/plain": "{'A9': 'UNIVERSIDAD DE LA SALUD DE LA CIUDAD DE MÉXICO_9',\n 'A3': 'IBEROAMERICANA SANTA FE_3',\n 'A8': 'UANL CIENCIAS DE LA SALUD_8',\n 'A2': 'UNAM CAMPUS ZARAGOZA_2',\n 'A1': 'UNAM CIUDAD UNIVERSITARIA_1',\n 'A7': 'UNIVERSIDAD DE GUANAJUATO_7',\n 'A5': 'UNIVERSIDAD DE VALLE DE MÉXICO_5',\n 'A10': 'VILLA DE LOS NIÑOS_10'}"
     },
     "execution_count": 26,
     "metadata": {},
     "output_type": "execute_result"
    }
   ],
   "source": [
    "prefijo = 'A'\n",
    "codigos_campus = {}\n",
    "for campus in mostrar_unicos('Campus'):\n",
    "    posicion = re.findall(r'\\d+', campus)[0]\n",
    "    codigo = prefijo + posicion\n",
    "    codigos_campus[codigo] = campus.upper()\n",
    "codigos_campus"
   ]
  },
  {
   "cell_type": "code",
   "execution_count": 27,
   "metadata": {
    "collapsed": false,
    "ExecuteTime": {
     "end_time": "2024-08-10T23:18:49.161079Z",
     "start_time": "2024-08-10T23:18:49.158219Z"
    }
   },
   "outputs": [
    {
     "data": {
      "text/plain": "{'A9': 'UNIVERSIDAD DE LA SALUD DE LA CIUDAD DE MÉXICO_9',\n 'A3': 'IBEROAMERICANA SANTA FE_3',\n 'A8': 'UANL CIENCIAS DE LA SALUD_8',\n 'A2': 'UNAM CAMPUS ZARAGOZA_2',\n 'A1': 'UNAM CIUDAD UNIVERSITARIA_1',\n 'A7': 'UNIVERSIDAD DE GUANAJUATO_7',\n 'A5': 'UNIVERSIDAD DE VALLE DE MÉXICO_5',\n 'A10': 'VILLA DE LOS NIÑOS_10',\n 'A4': 'UNIVERSIDAD PANAMERICANA_4',\n 'A6': 'UNIVERSIDAD ANÁHUAC_6'}"
     },
     "execution_count": 27,
     "metadata": {},
     "output_type": "execute_result"
    }
   ],
   "source": [
    "codigos_campus.update(mapeo_respuestas['Campus'])\n",
    "codigos_campus"
   ]
  },
  {
   "cell_type": "code",
   "execution_count": 28,
   "metadata": {
    "collapsed": false,
    "ExecuteTime": {
     "end_time": "2024-08-10T23:18:49.245274Z",
     "start_time": "2024-08-10T23:18:49.242466Z"
    }
   },
   "outputs": [
    {
     "data": {
      "text/plain": "{'universidad de la salud de la ciudad de méxico_9': 'A9',\n 'iberoamericana santa fe_3': 'A3',\n 'uanl ciencias de la salud_8': 'A8',\n 'unam campus zaragoza_2': 'A2',\n 'unam ciudad universitaria_1': 'A1',\n 'universidad de guanajuato_7': 'A7',\n 'universidad de valle de méxico_5': 'A5',\n 'villa de los niños_10': 'A10',\n 'universidad panamericana_4': 'A4',\n 'universidad anáhuac_6': 'A6'}"
     },
     "execution_count": 28,
     "metadata": {},
     "output_type": "execute_result"
    }
   ],
   "source": [
    "mapeo_inverso_campus = {v.lower(): k for k, v in codigos_campus.items()}\n",
    "mapeo_inverso_campus"
   ]
  },
  {
   "cell_type": "code",
   "execution_count": 29,
   "metadata": {
    "collapsed": false,
    "ExecuteTime": {
     "end_time": "2024-08-10T23:18:49.393077Z",
     "start_time": "2024-08-10T23:18:49.389219Z"
    }
   },
   "outputs": [
    {
     "name": "stderr",
     "output_type": "stream",
     "text": [
      "/var/folders/hb/c3zh8bns0mx4nw98_6k7rx8m0000gn/T/ipykernel_4464/1835897616.py:1: FutureWarning: A value is trying to be set on a copy of a DataFrame or Series through chained assignment using an inplace method.\n",
      "The behavior will change in pandas 3.0. This inplace method will never work because the intermediate object on which we are setting values always behaves as a copy.\n",
      "\n",
      "For example, when doing 'df[col].method(value, inplace=True)', try using 'df.method({col: value}, inplace=True)' or df[col] = df[col].method(value) instead, to perform the operation inplace on the original object.\n",
      "\n",
      "\n",
      "  datos['Campus'].replace(mapeo_inverso_campus, inplace=True)\n"
     ]
    },
    {
     "data": {
      "text/plain": "0                                                  A1\n1                                                 A10\n2                                                  A2\n3                                                  A3\n4                                                  A5\n5                                                  A7\n6                                                  A8\n7    Universidad de la Salud de la Ciudad de México_9\nName: Campus, dtype: object"
     },
     "execution_count": 29,
     "metadata": {},
     "output_type": "execute_result"
    }
   ],
   "source": [
    "datos['Campus'].replace(mapeo_inverso_campus, inplace=True)\n",
    "mostrar_unicos('Campus')"
   ]
  },
  {
   "attachments": {},
   "cell_type": "markdown",
   "metadata": {
    "collapsed": false
   },
   "source": [
    "La columna `otrocampus` se utilizará en la siguiente subsección para lidiar con las carreras."
   ]
  },
  {
   "cell_type": "code",
   "execution_count": 30,
   "metadata": {
    "collapsed": false,
    "ExecuteTime": {
     "end_time": "2024-08-10T23:18:49.466231Z",
     "start_time": "2024-08-10T23:18:49.464115Z"
    }
   },
   "outputs": [
    {
     "data": {
      "text/plain": "['A1 = UNAM CIUDAD UNIVERSITARIA_1',\n 'A10 = VILLA DE LOS NIÑOS_10',\n 'A2 = UNAM CAMPUS ZARAGOZA_2',\n 'A3 = IBEROAMERICANA SANTA FE_3',\n 'A4 = UNIVERSIDAD PANAMERICANA_4',\n 'A5 = UNIVERSIDAD DE VALLE DE MÉXICO_5',\n 'A6 = UNIVERSIDAD ANÁHUAC_6',\n 'A7 = UNIVERSIDAD DE GUANAJUATO_7',\n 'A8 = UANL CIENCIAS DE LA SALUD_8',\n 'A9 = UNIVERSIDAD DE LA SALUD DE LA CIUDAD DE MÉXICO_9']"
     },
     "execution_count": 30,
     "metadata": {},
     "output_type": "execute_result"
    }
   ],
   "source": [
    "lista_campus = []\n",
    "for codigo, campus in codigos_campus.items():\n",
    "    lista_campus.append(codigo + ' = ' + campus)\n",
    "lista_campus.sort()\n",
    "lista_campus"
   ]
  },
  {
   "cell_type": "code",
   "execution_count": 31,
   "metadata": {
    "collapsed": false,
    "ExecuteTime": {
     "end_time": "2024-08-10T23:18:49.658391Z",
     "start_time": "2024-08-10T23:18:49.653403Z"
    }
   },
   "outputs": [
    {
     "data": {
      "text/plain": "'A1 = UNAM CIUDAD UNIVERSITARIA_1,A10 = VILLA DE LOS NIÑOS_10,A2 = UNAM CAMPUS ZARAGOZA_2,A3 = IBEROAMERICANA SANTA FE_3,A4 = UNIVERSIDAD PANAMERICANA_4,A5 = UNIVERSIDAD DE VALLE DE MÉXICO_5,A6 = UNIVERSIDAD ANÁHUAC_6,A7 = UNIVERSIDAD DE GUANAJUATO_7,A8 = UANL CIENCIAS DE LA SALUD_8,A9 = UNIVERSIDAD DE LA SALUD DE LA CIUDAD DE MÉXICO_9'"
     },
     "execution_count": 31,
     "metadata": {},
     "output_type": "execute_result"
    }
   ],
   "source": [
    "cadena_campus = ','.join(lista_campus)\n",
    "cadena_campus"
   ]
  },
  {
   "attachments": {},
   "cell_type": "markdown",
   "metadata": {
    "collapsed": false
   },
   "source": [
    "## Carreras"
   ]
  },
  {
   "attachments": {},
   "cell_type": "markdown",
   "metadata": {
    "collapsed": false
   },
   "source": [
    "Antes de combinar las columnas correspondientes a las carreras, vamos a mapearlas conforme a su\n",
    "respectivo diccionario, como lo hicimos en el caso de las opciones de la columna Campus, esto debido a que la\n",
    "carrera A1 en un campus podría no ser igual a la carrera A1 en otro campus: ejemplo, la carrera A1 en FES Zaragoza\n",
    "podría ser \"Psicología\", mientras que en CU podría ser \"Ingeniería\""
   ]
  },
  {
   "cell_type": "code",
   "execution_count": 32,
   "metadata": {
    "collapsed": false,
    "ExecuteTime": {
     "end_time": "2024-08-10T23:18:49.778933Z",
     "start_time": "2024-08-10T23:18:49.775933Z"
    }
   },
   "outputs": [
    {
     "name": "stderr",
     "output_type": "stream",
     "text": [
      "<>:1: SyntaxWarning: invalid escape sequence '\\w'\n",
      "<>:1: SyntaxWarning: invalid escape sequence '\\w'\n",
      "/var/folders/hb/c3zh8bns0mx4nw98_6k7rx8m0000gn/T/ipykernel_4464/1785319939.py:1: SyntaxWarning: invalid escape sequence '\\w'\n",
      "  columnas_carreras = datos.columns[datos.columns.str.contains('Carrera\\w+$')]\n"
     ]
    },
    {
     "data": {
      "text/plain": "Index(['CarreraCU', 'CarreraZaragoza', 'CarreraIbero', 'Carreraotrasunis'], dtype='object')"
     },
     "execution_count": 32,
     "metadata": {},
     "output_type": "execute_result"
    }
   ],
   "source": [
    "columnas_carreras = datos.columns[datos.columns.str.contains('Carrera\\w+$')]\n",
    "columnas_carreras"
   ]
  },
  {
   "cell_type": "code",
   "execution_count": 33,
   "metadata": {
    "collapsed": false,
    "ExecuteTime": {
     "end_time": "2024-08-10T23:18:49.930324Z",
     "start_time": "2024-08-10T23:18:49.925883Z"
    }
   },
   "outputs": [
    {
     "data": {
      "text/plain": "    CarreraCU CarreraZaragoza CarreraIbero Carreraotrasunis\n0         NaN             NaN          A29              NaN\n1         NaN             NaN          A29              NaN\n2         NaN             NaN          A29              NaN\n3         NaN             NaN          A29              NaN\n4         NaN             NaN          A29              NaN\n..        ...             ...          ...              ...\n718       NaN             NaN          NaN              NaN\n719       NaN             NaN          NaN              NaN\n720       NaN             NaN          NaN              NaN\n721       NaN             NaN          NaN              NaN\n722       NaN             NaN          NaN              NaN\n\n[722 rows x 4 columns]",
      "text/html": "<div>\n<style scoped>\n    .dataframe tbody tr th:only-of-type {\n        vertical-align: middle;\n    }\n\n    .dataframe tbody tr th {\n        vertical-align: top;\n    }\n\n    .dataframe thead th {\n        text-align: right;\n    }\n</style>\n<table border=\"1\" class=\"dataframe\">\n  <thead>\n    <tr style=\"text-align: right;\">\n      <th></th>\n      <th>CarreraCU</th>\n      <th>CarreraZaragoza</th>\n      <th>CarreraIbero</th>\n      <th>Carreraotrasunis</th>\n    </tr>\n  </thead>\n  <tbody>\n    <tr>\n      <th>0</th>\n      <td>NaN</td>\n      <td>NaN</td>\n      <td>A29</td>\n      <td>NaN</td>\n    </tr>\n    <tr>\n      <th>1</th>\n      <td>NaN</td>\n      <td>NaN</td>\n      <td>A29</td>\n      <td>NaN</td>\n    </tr>\n    <tr>\n      <th>2</th>\n      <td>NaN</td>\n      <td>NaN</td>\n      <td>A29</td>\n      <td>NaN</td>\n    </tr>\n    <tr>\n      <th>3</th>\n      <td>NaN</td>\n      <td>NaN</td>\n      <td>A29</td>\n      <td>NaN</td>\n    </tr>\n    <tr>\n      <th>4</th>\n      <td>NaN</td>\n      <td>NaN</td>\n      <td>A29</td>\n      <td>NaN</td>\n    </tr>\n    <tr>\n      <th>...</th>\n      <td>...</td>\n      <td>...</td>\n      <td>...</td>\n      <td>...</td>\n    </tr>\n    <tr>\n      <th>718</th>\n      <td>NaN</td>\n      <td>NaN</td>\n      <td>NaN</td>\n      <td>NaN</td>\n    </tr>\n    <tr>\n      <th>719</th>\n      <td>NaN</td>\n      <td>NaN</td>\n      <td>NaN</td>\n      <td>NaN</td>\n    </tr>\n    <tr>\n      <th>720</th>\n      <td>NaN</td>\n      <td>NaN</td>\n      <td>NaN</td>\n      <td>NaN</td>\n    </tr>\n    <tr>\n      <th>721</th>\n      <td>NaN</td>\n      <td>NaN</td>\n      <td>NaN</td>\n      <td>NaN</td>\n    </tr>\n    <tr>\n      <th>722</th>\n      <td>NaN</td>\n      <td>NaN</td>\n      <td>NaN</td>\n      <td>NaN</td>\n    </tr>\n  </tbody>\n</table>\n<p>722 rows × 4 columns</p>\n</div>"
     },
     "execution_count": 33,
     "metadata": {},
     "output_type": "execute_result"
    }
   ],
   "source": [
    "datos[columnas_carreras]"
   ]
  },
  {
   "cell_type": "code",
   "execution_count": 34,
   "metadata": {
    "collapsed": false,
    "ExecuteTime": {
     "end_time": "2024-08-10T23:18:50.045253Z",
     "start_time": "2024-08-10T23:18:50.041930Z"
    }
   },
   "outputs": [
    {
     "data": {
      "text/plain": "0    -oth-\n1      A23\n2      A26\n3      A27\n4      A32\n5       A5\n6       A7\n7      NaN\nName: CarreraCU, dtype: object"
     },
     "execution_count": 34,
     "metadata": {},
     "output_type": "execute_result"
    }
   ],
   "source": [
    "mostrar_unicos(columnas_carreras[0])"
   ]
  },
  {
   "cell_type": "code",
   "execution_count": 35,
   "metadata": {
    "collapsed": false,
    "ExecuteTime": {
     "end_time": "2024-08-10T23:18:50.200925Z",
     "start_time": "2024-08-10T23:18:50.198407Z"
    }
   },
   "outputs": [
    {
     "data": {
      "text/plain": "0     A9\n1    NaN\nName: CarreraZaragoza, dtype: object"
     },
     "execution_count": 35,
     "metadata": {},
     "output_type": "execute_result"
    }
   ],
   "source": [
    "mostrar_unicos(columnas_carreras[1])"
   ]
  },
  {
   "cell_type": "code",
   "execution_count": 36,
   "metadata": {
    "collapsed": false,
    "ExecuteTime": {
     "end_time": "2024-08-10T23:18:50.331642Z",
     "start_time": "2024-08-10T23:18:50.328400Z"
    }
   },
   "outputs": [
    {
     "data": {
      "text/plain": "0    A15\n1    A29\n2    NaN\nName: CarreraIbero, dtype: object"
     },
     "execution_count": 36,
     "metadata": {},
     "output_type": "execute_result"
    }
   ],
   "source": [
    "mostrar_unicos(columnas_carreras[2])"
   ]
  },
  {
   "cell_type": "code",
   "execution_count": 37,
   "metadata": {
    "collapsed": false,
    "ExecuteTime": {
     "end_time": "2024-08-10T23:18:50.460032Z",
     "start_time": "2024-08-10T23:18:50.456913Z"
    }
   },
   "outputs": [
    {
     "data": {
      "text/plain": "Carreraotrasunis\nA3    63\nA2    42\nA1    20\nName: count, dtype: int64"
     },
     "execution_count": 37,
     "metadata": {},
     "output_type": "execute_result"
    }
   ],
   "source": [
    "datos['Carreraotrasunis'].value_counts()"
   ]
  },
  {
   "cell_type": "code",
   "execution_count": 38,
   "metadata": {
    "collapsed": false,
    "ExecuteTime": {
     "end_time": "2024-08-10T23:18:50.555947Z",
     "start_time": "2024-08-10T23:18:50.553221Z"
    }
   },
   "outputs": [
    {
     "data": {
      "text/plain": "0     A1\n1     A2\n2     A3\n3    NaN\nName: Carreraotrasunis, dtype: object"
     },
     "execution_count": 38,
     "metadata": {},
     "output_type": "execute_result"
    }
   ],
   "source": [
    "mostrar_unicos(columnas_carreras[3])"
   ]
  },
  {
   "cell_type": "code",
   "execution_count": 39,
   "metadata": {
    "collapsed": false,
    "ExecuteTime": {
     "end_time": "2024-08-10T23:18:50.672183Z",
     "start_time": "2024-08-10T23:18:50.663864Z"
    }
   },
   "outputs": [
    {
     "name": "stderr",
     "output_type": "stream",
     "text": [
      "/Users/erickavendanogarcia/Downloads/servicio_social/encuestas/auxiliar_4.py:99: FutureWarning: A value is trying to be set on a copy of a DataFrame or Series through chained assignment using an inplace method.\n",
      "The behavior will change in pandas 3.0. This inplace method will never work because the intermediate object on which we are setting values always behaves as a copy.\n",
      "\n",
      "For example, when doing 'df[col].method(value, inplace=True)', try using 'df.method({col: value}, inplace=True)' or df[col] = df[col].method(value) instead, to perform the operation inplace on the original object.\n",
      "\n",
      "\n",
      "  df[columna].replace(mapeo[columna], inplace=True)\n",
      "/Users/erickavendanogarcia/Downloads/servicio_social/encuestas/auxiliar_4.py:99: FutureWarning: A value is trying to be set on a copy of a DataFrame or Series through chained assignment using an inplace method.\n",
      "The behavior will change in pandas 3.0. This inplace method will never work because the intermediate object on which we are setting values always behaves as a copy.\n",
      "\n",
      "For example, when doing 'df[col].method(value, inplace=True)', try using 'df.method({col: value}, inplace=True)' or df[col] = df[col].method(value) instead, to perform the operation inplace on the original object.\n",
      "\n",
      "\n",
      "  df[columna].replace(mapeo[columna], inplace=True)\n"
     ]
    }
   ],
   "source": [
    "for col in columnas_carreras:\n",
    "    mapear_codigos(col)\n",
    "    try:\n",
    "        llenar_respuesta_libre(col)\n",
    "    except:\n",
    "        pass"
   ]
  },
  {
   "cell_type": "code",
   "execution_count": 40,
   "metadata": {
    "collapsed": false,
    "ExecuteTime": {
     "end_time": "2024-08-10T23:18:50.786167Z",
     "start_time": "2024-08-10T23:18:50.783500Z"
    }
   },
   "outputs": [
    {
     "data": {
      "text/plain": "0                                    Biología_22\n1                   Ciencias de la Computación_4\n2    Ciencias de la Comunicación (Periodismo)_31\n3                                       Física_6\n4                             Médico Cirujano_25\n5                                  Psicología_26\n6                          ciencias de la tierra\n7                         ciencias de la tierra \n8                                            NaN\nName: CarreraCU, dtype: object"
     },
     "execution_count": 40,
     "metadata": {},
     "output_type": "execute_result"
    }
   ],
   "source": [
    "mostrar_unicos(columnas_carreras[0])"
   ]
  },
  {
   "cell_type": "code",
   "execution_count": 41,
   "metadata": {
    "collapsed": false,
    "ExecuteTime": {
     "end_time": "2024-08-10T23:18:50.931875Z",
     "start_time": "2024-08-10T23:18:50.928779Z"
    }
   },
   "outputs": [
    {
     "data": {
      "text/plain": "0    Psicología_8\n1             NaN\nName: CarreraZaragoza, dtype: object"
     },
     "execution_count": 41,
     "metadata": {},
     "output_type": "execute_result"
    }
   ],
   "source": [
    "mostrar_unicos(columnas_carreras[1])"
   ]
  },
  {
   "cell_type": "code",
   "execution_count": 42,
   "metadata": {
    "collapsed": false,
    "ExecuteTime": {
     "end_time": "2024-08-10T23:18:51.017575Z",
     "start_time": "2024-08-10T23:18:51.014716Z"
    }
   },
   "outputs": [
    {
     "data": {
      "text/plain": "0    Ingeniería Biomédica_14\n1              Psicología_28\n2                        NaN\nName: CarreraIbero, dtype: object"
     },
     "execution_count": 42,
     "metadata": {},
     "output_type": "execute_result"
    }
   ],
   "source": [
    "mostrar_unicos(columnas_carreras[2])"
   ]
  },
  {
   "cell_type": "code",
   "execution_count": 43,
   "metadata": {
    "collapsed": false,
    "ExecuteTime": {
     "end_time": "2024-08-10T23:18:51.142554Z",
     "start_time": "2024-08-10T23:18:51.140010Z"
    }
   },
   "outputs": [
    {
     "data": {
      "text/plain": "0              A2\n1              A3\n2    Psicología_1\n3             NaN\nName: Carreraotrasunis, dtype: object"
     },
     "execution_count": 43,
     "metadata": {},
     "output_type": "execute_result"
    }
   ],
   "source": [
    "mostrar_unicos(columnas_carreras[3])"
   ]
  },
  {
   "attachments": {},
   "cell_type": "markdown",
   "metadata": {
    "collapsed": false
   },
   "source": [
    "### Combinar columnas"
   ]
  },
  {
   "attachments": {},
   "cell_type": "markdown",
   "metadata": {
    "collapsed": false
   },
   "source": [
    "Aquí se combinan todas las columnas que sobre carreras. Se pierde información sobre el código particular de cada campus, pero tras recodificar se puede recuperar el campus a través de la columna `Campus`."
   ]
  },
  {
   "attachments": {},
   "cell_type": "markdown",
   "metadata": {
    "collapsed": false
   },
   "source": [
    "Se inicializa la serie de carreras:"
   ]
  },
  {
   "cell_type": "code",
   "execution_count": 44,
   "metadata": {
    "collapsed": false,
    "ExecuteTime": {
     "end_time": "2024-08-10T23:18:51.257277Z",
     "start_time": "2024-08-10T23:18:51.253916Z"
    }
   },
   "outputs": [
    {
     "data": {
      "text/plain": "0      NaN\n1      NaN\n2      NaN\n3      NaN\n4      NaN\n      ... \n718    NaN\n719    NaN\n720    NaN\n721    NaN\n722    NaN\nLength: 722, dtype: object"
     },
     "execution_count": 44,
     "metadata": {},
     "output_type": "execute_result"
    }
   ],
   "source": [
    "carreras = pd.Series(dtype='str', index=datos.index)\n",
    "carreras"
   ]
  },
  {
   "cell_type": "code",
   "execution_count": 45,
   "metadata": {
    "collapsed": false,
    "ExecuteTime": {
     "end_time": "2024-08-10T23:18:51.409242Z",
     "start_time": "2024-08-10T23:18:51.402192Z"
    }
   },
   "outputs": [
    {
     "name": "stderr",
     "output_type": "stream",
     "text": [
      "<>:1: SyntaxWarning: invalid escape sequence '\\w'\n",
      "<>:1: SyntaxWarning: invalid escape sequence '\\w'\n",
      "/var/folders/hb/c3zh8bns0mx4nw98_6k7rx8m0000gn/T/ipykernel_4464/2132380260.py:1: SyntaxWarning: invalid escape sequence '\\w'\n",
      "  for col_carrera in datos.filter(regex='Carrera\\w+$').columns:\n"
     ]
    },
    {
     "data": {
      "text/plain": "610                                             A2\n609                                             A3\n561                                    Biología_22\n566                   Ciencias de la Computación_4\n569    Ciencias de la Comunicación (Periodismo)_31\n571                                       Física_6\n150                        Ingeniería Biomédica_14\n5                               Médico Cirujano_25\n8                                     Psicología_1\n278                                  Psicología_26\n0                                    Psicología_28\n455                                   Psicología_8\n573                          ciencias de la tierra\n568                         ciencias de la tierra \n714                                            NaN\ndtype: object"
     },
     "execution_count": 45,
     "metadata": {},
     "output_type": "execute_result"
    }
   ],
   "source": [
    "for col_carrera in datos.filter(regex='Carrera\\w+$').columns:\n",
    "    carreras = carreras.combine_first(datos[col_carrera])\n",
    "datos.drop(columns=columnas_carreras, inplace=True)\n",
    "carreras.drop_duplicates().sort_values()"
   ]
  },
  {
   "attachments": {},
   "cell_type": "markdown",
   "metadata": {
    "collapsed": false
   },
   "source": [
    "Todos los datos de la columna `otrocampus` son relacionados a la carrera que se estudia, por este motivo se añadirán a la serie de carreras:"
   ]
  },
  {
   "cell_type": "code",
   "execution_count": 46,
   "metadata": {
    "collapsed": false,
    "ExecuteTime": {
     "end_time": "2024-08-10T23:18:51.516612Z",
     "start_time": "2024-08-10T23:18:51.511504Z"
    }
   },
   "outputs": [
    {
     "data": {
      "text/plain": "610                                             A2\n609                                             A3\n561                                    Biología_22\n566                   Ciencias de la Computación_4\n569    Ciencias de la Comunicación (Periodismo)_31\n571                                       Física_6\n150                        Ingeniería Biomédica_14\n5                               Médico Cirujano_25\n8                                     Psicología_1\n278                                  Psicología_26\n0                                    Psicología_28\n455                                   Psicología_8\n573                          ciencias de la tierra\n568                         ciencias de la tierra \n714                                            NaN\ndtype: object"
     },
     "execution_count": 46,
     "metadata": {},
     "output_type": "execute_result"
    }
   ],
   "source": [
    "carreras = carreras.combine_first(datos['otrocampus'])\n",
    "datos.drop(columns='otrocampus', inplace=True)\n",
    "carreras.drop_duplicates().sort_values()"
   ]
  },
  {
   "cell_type": "code",
   "execution_count": 47,
   "metadata": {
    "collapsed": false,
    "ExecuteTime": {
     "end_time": "2024-08-10T23:18:51.637260Z",
     "start_time": "2024-08-10T23:18:51.634551Z"
    }
   },
   "outputs": [
    {
     "data": {
      "text/plain": "9"
     },
     "execution_count": 47,
     "metadata": {},
     "output_type": "execute_result"
    }
   ],
   "source": [
    "carreras.isna().sum()"
   ]
  },
  {
   "attachments": {},
   "cell_type": "markdown",
   "metadata": {
    "collapsed": false
   },
   "source": [
    "Se tiene que añadir la columna de carrera justo al lado de la de campus.\n",
    "\n",
    "Primero se determina el índice de la columna campus y se verifica que sea el correcto:"
   ]
  },
  {
   "cell_type": "code",
   "execution_count": 48,
   "metadata": {
    "collapsed": false,
    "ExecuteTime": {
     "end_time": "2024-08-10T23:18:51.781301Z",
     "start_time": "2024-08-10T23:18:51.778096Z"
    }
   },
   "outputs": [
    {
     "data": {
      "text/plain": "16"
     },
     "execution_count": 48,
     "metadata": {},
     "output_type": "execute_result"
    }
   ],
   "source": [
    "indice_campus = datos.columns.get_loc('Campus')\n",
    "indice_campus"
   ]
  },
  {
   "cell_type": "code",
   "execution_count": 49,
   "metadata": {
    "collapsed": false,
    "ExecuteTime": {
     "end_time": "2024-08-10T23:18:51.921597Z",
     "start_time": "2024-08-10T23:18:51.918699Z"
    }
   },
   "outputs": [
    {
     "data": {
      "text/plain": "'Campus'"
     },
     "execution_count": 49,
     "metadata": {},
     "output_type": "execute_result"
    }
   ],
   "source": [
    "datos.columns[indice_campus]"
   ]
  },
  {
   "attachments": {},
   "cell_type": "markdown",
   "metadata": {
    "collapsed": false
   },
   "source": [
    "Ahora se inserta la serie"
   ]
  },
  {
   "cell_type": "code",
   "execution_count": 50,
   "metadata": {
    "collapsed": false,
    "ExecuteTime": {
     "end_time": "2024-08-10T23:18:52.001041Z",
     "start_time": "2024-08-10T23:18:51.999037Z"
    }
   },
   "outputs": [],
   "source": [
    "datos.insert(indice_campus + 1, 'Carrera', carreras)"
   ]
  },
  {
   "cell_type": "code",
   "execution_count": 51,
   "metadata": {
    "collapsed": false,
    "ExecuteTime": {
     "end_time": "2024-08-10T23:18:52.166102Z",
     "start_time": "2024-08-10T23:18:52.160020Z"
    }
   },
   "outputs": [
    {
     "data": {
      "text/plain": "Carrera\nPsicología                                     470\nMedicina                                       124\nA3                                              63\nA2                                              42\nBiología_22                                      6\nIngeniería Biomédica_14                          2\nCiencias de la tierra                            2\nFísica_6                                         2\nCiencias de la Computación_4                     1\nCiencias de la Comunicación (Periodismo)_31      1\nName: count, dtype: int64"
     },
     "execution_count": 51,
     "metadata": {},
     "output_type": "execute_result"
    }
   ],
   "source": [
    "unificar_observaciones('Carrera', r'psicología', 'Psicología')\n",
    "unificar_observaciones('Carrera', r'tierra', 'Ciencias de la tierra')\n",
    "unificar_observaciones('Carrera', r'Médico Cirujano', 'Medicina')\n",
    "datos['Carrera'].value_counts()"
   ]
  },
  {
   "cell_type": "code",
   "execution_count": 52,
   "metadata": {
    "collapsed": false,
    "ExecuteTime": {
     "end_time": "2024-08-10T23:18:52.238776Z",
     "start_time": "2024-08-10T23:18:52.235466Z"
    }
   },
   "outputs": [
    {
     "data": {
      "text/plain": "0                                           a2\n1                                           a3\n2                                     biología\n3                   ciencias de la computación\n4     ciencias de la comunicación (periodismo)\n5                        ciencias de la tierra\n6                                       física\n7                         ingeniería biomédica\n8                                     medicina\n9                                   psicología\n10                                         NaN\nName: Carrera, dtype: object"
     },
     "execution_count": 52,
     "metadata": {},
     "output_type": "execute_result"
    }
   ],
   "source": [
    "datos['Carrera'] = datos['Carrera'].str.replace(r'_\\d+', '', regex=True).str.lower()\n",
    "mostrar_unicos('Carrera')"
   ]
  },
  {
   "attachments": {},
   "cell_type": "markdown",
   "metadata": {
    "collapsed": false
   },
   "source": [
    "### Códigos de carrera"
   ]
  },
  {
   "cell_type": "code",
   "execution_count": 53,
   "metadata": {
    "collapsed": false,
    "ExecuteTime": {
     "end_time": "2024-08-10T23:18:52.371246Z",
     "start_time": "2024-08-10T23:18:52.367038Z"
    }
   },
   "outputs": [
    {
     "data": {
      "text/plain": "{'A1': 'a2',\n 'A2': 'a3',\n 'A3': 'biología',\n 'A4': 'ciencias de la computación',\n 'A5': 'ciencias de la comunicación (periodismo)',\n 'A6': 'ciencias de la tierra',\n 'A7': 'física',\n 'A8': 'ingeniería biomédica',\n 'A9': 'medicina',\n 'A10': 'desconocido',\n 'A11': nan}"
     },
     "execution_count": 53,
     "metadata": {},
     "output_type": "execute_result"
    }
   ],
   "source": [
    "sufijo = 'A'\n",
    "mapeo_carrera = {}\n",
    "for i in range(len(mostrar_unicos('Carrera'))):\n",
    "    posicion = str(i + 1)\n",
    "    codigo = sufijo + posicion\n",
    "    carrera = mostrar_unicos('Carrera')[i]\n",
    "    mapeo_carrera[codigo] = carrera\n",
    "mapeo_carrera['A10'] = 'desconocido'\n",
    "mapeo_carrera"
   ]
  },
  {
   "cell_type": "code",
   "execution_count": 54,
   "metadata": {
    "collapsed": false,
    "ExecuteTime": {
     "end_time": "2024-08-10T23:18:52.489990Z",
     "start_time": "2024-08-10T23:18:52.487590Z"
    }
   },
   "outputs": [
    {
     "data": {
      "text/plain": "{'a2': 'A1',\n 'a3': 'A2',\n 'biología': 'A3',\n 'ciencias de la computación': 'A4',\n 'ciencias de la comunicación (periodismo)': 'A5',\n 'ciencias de la tierra': 'A6',\n 'física': 'A7',\n 'ingeniería biomédica': 'A8',\n 'medicina': 'A9',\n 'desconocido': 'A10',\n nan: 'A11'}"
     },
     "execution_count": 54,
     "metadata": {},
     "output_type": "execute_result"
    }
   ],
   "source": [
    "mapeo_inverso_carrera = {v: k for k, v in mapeo_carrera.items()}\n",
    "mapeo_inverso_carrera"
   ]
  },
  {
   "cell_type": "code",
   "execution_count": 55,
   "metadata": {
    "collapsed": false,
    "ExecuteTime": {
     "end_time": "2024-08-10T23:18:52.612921Z",
     "start_time": "2024-08-10T23:18:52.606658Z"
    }
   },
   "outputs": [
    {
     "name": "stderr",
     "output_type": "stream",
     "text": [
      "/Users/erickavendanogarcia/Downloads/servicio_social/encuestas/auxiliar_4.py:143: FutureWarning: A value is trying to be set on a copy of a DataFrame or Series through chained assignment using an inplace method.\n",
      "The behavior will change in pandas 3.0. This inplace method will never work because the intermediate object on which we are setting values always behaves as a copy.\n",
      "\n",
      "For example, when doing 'df[col].method(value, inplace=True)', try using 'df.method({col: value}, inplace=True)' or df[col] = df[col].method(value) instead, to perform the operation inplace on the original object.\n",
      "\n",
      "\n",
      "  df[columna].fillna(valor, inplace=True)\n"
     ]
    },
    {
     "data": {
      "text/plain": "0             A1\n1            A10\n2             A2\n3             A3\n4             A4\n5             A5\n6             A6\n7             A7\n8             A8\n9             A9\n10    psicología\nName: Carrera, dtype: object"
     },
     "execution_count": 55,
     "metadata": {},
     "output_type": "execute_result"
    }
   ],
   "source": [
    "llenar_vacios('Carrera', 'desconocido')\n",
    "datos['Carrera'].replace(mapeo_inverso_carrera, inplace=True)\n",
    "mostrar_unicos('Carrera')"
   ]
  },
  {
   "cell_type": "code",
   "execution_count": 56,
   "metadata": {
    "collapsed": false,
    "ExecuteTime": {
     "end_time": "2024-08-10T23:18:52.716997Z",
     "start_time": "2024-08-10T23:18:52.714875Z"
    }
   },
   "outputs": [
    {
     "data": {
      "text/plain": "['A1 = A2',\n 'A10 = Desconocido',\n 'A11 = Nan',\n 'A2 = A3',\n 'A3 = Biología',\n 'A4 = Ciencias De La Computación',\n 'A5 = Ciencias De La Comunicación (Periodismo)',\n 'A6 = Ciencias De La Tierra',\n 'A7 = Física',\n 'A8 = Ingeniería Biomédica',\n 'A9 = Medicina']"
     },
     "execution_count": 56,
     "metadata": {},
     "output_type": "execute_result"
    }
   ],
   "source": [
    "lista_mapeo_carreras = []\n",
    "for codigo, carrera in mapeo_carrera.items():\n",
    "    lista_mapeo_carreras.append(codigo + ' = ' + str(carrera).title())\n",
    "lista_mapeo_carreras.sort()\n",
    "lista_mapeo_carreras"
   ]
  },
  {
   "cell_type": "code",
   "execution_count": 57,
   "metadata": {
    "collapsed": false,
    "ExecuteTime": {
     "end_time": "2024-08-10T23:18:52.832359Z",
     "start_time": "2024-08-10T23:18:52.830360Z"
    }
   },
   "outputs": [
    {
     "data": {
      "text/plain": "'A1 = A2,A10 = Desconocido,A11 = Nan,A2 = A3,A3 = Biología,A4 = Ciencias De La Computación,A5 = Ciencias De La Comunicación (Periodismo),A6 = Ciencias De La Tierra,A7 = Física,A8 = Ingeniería Biomédica,A9 = Medicina'"
     },
     "execution_count": 57,
     "metadata": {},
     "output_type": "execute_result"
    }
   ],
   "source": [
    "cadena_carrera = ','.join(lista_mapeo_carreras)\n",
    "cadena_carrera"
   ]
  },
  {
   "attachments": {},
   "cell_type": "markdown",
   "metadata": {
    "collapsed": false
   },
   "source": [
    "## Semestre"
   ]
  },
  {
   "cell_type": "code",
   "execution_count": 58,
   "metadata": {
    "collapsed": false,
    "ExecuteTime": {
     "end_time": "2024-08-10T23:18:52.964278Z",
     "start_time": "2024-08-10T23:18:52.962553Z"
    }
   },
   "outputs": [],
   "source": [
    "# La variable Semestre tiene valores faltantes, los cuales llenaremos con 'A0'\n",
    "llenar_vacios('Semestre', 'A0')\n"
   ]
  },
  {
   "attachments": {},
   "cell_type": "markdown",
   "metadata": {
    "collapsed": false
   },
   "source": [
    "## dbs34"
   ]
  },
  {
   "cell_type": "code",
   "execution_count": 59,
   "metadata": {
    "collapsed": false,
    "ExecuteTime": {
     "end_time": "2024-08-10T23:18:53.109657Z",
     "start_time": "2024-08-10T23:18:53.107556Z"
    }
   },
   "outputs": [
    {
     "name": "stderr",
     "output_type": "stream",
     "text": [
      "/Users/erickavendanogarcia/Downloads/servicio_social/encuestas/auxiliar_4.py:143: FutureWarning: Setting an item of incompatible dtype is deprecated and will raise an error in a future version of pandas. Value '0' has dtype incompatible with float64, please explicitly cast to a compatible dtype first.\n",
      "  df[columna].fillna(valor, inplace=True)\n"
     ]
    }
   ],
   "source": [
    "# La columna dbs34 es el número de cuenta de su universidad, pondremos 0 en los valores faltantes.\n",
    "llenar_vacios('dbs34', '0')\n"
   ]
  },
  {
   "attachments": {},
   "cell_type": "markdown",
   "metadata": {
    "collapsed": false
   },
   "source": [
    "## FechaDeNacimiento"
   ]
  },
  {
   "cell_type": "code",
   "execution_count": 60,
   "metadata": {
    "collapsed": false,
    "ExecuteTime": {
     "end_time": "2024-08-10T23:18:53.202156Z",
     "start_time": "2024-08-10T23:18:53.198919Z"
    }
   },
   "outputs": [
    {
     "name": "stderr",
     "output_type": "stream",
     "text": [
      "/var/folders/hb/c3zh8bns0mx4nw98_6k7rx8m0000gn/T/ipykernel_4464/4120569437.py:1: UserWarning: The argument 'infer_datetime_format' is deprecated and will be removed in a future version. A strict version of it is now the default, see https://pandas.pydata.org/pdeps/0004-consistent-to-datetime-parsing.html. You can safely remove this argument.\n",
      "  datos['FechaDeNacimiento'] = pd.to_datetime(datos['FechaDeNacimiento'], infer_datetime_format=True)\n"
     ]
    }
   ],
   "source": [
    "datos['FechaDeNacimiento'] = pd.to_datetime(datos['FechaDeNacimiento'], infer_datetime_format=True)"
   ]
  },
  {
   "attachments": {},
   "cell_type": "markdown",
   "metadata": {
    "collapsed": false
   },
   "source": [
    "## EdoCivil"
   ]
  },
  {
   "cell_type": "code",
   "execution_count": 61,
   "metadata": {
    "collapsed": false,
    "ExecuteTime": {
     "end_time": "2024-08-10T23:18:53.318272Z",
     "start_time": "2024-08-10T23:18:53.313165Z"
    }
   },
   "outputs": [
    {
     "name": "stderr",
     "output_type": "stream",
     "text": [
      "/Users/erickavendanogarcia/Downloads/servicio_social/encuestas/auxiliar_4.py:143: FutureWarning: A value is trying to be set on a copy of a DataFrame or Series through chained assignment using an inplace method.\n",
      "The behavior will change in pandas 3.0. This inplace method will never work because the intermediate object on which we are setting values always behaves as a copy.\n",
      "\n",
      "For example, when doing 'df[col].method(value, inplace=True)', try using 'df.method({col: value}, inplace=True)' or df[col] = df[col].method(value) instead, to perform the operation inplace on the original object.\n",
      "\n",
      "\n",
      "  df[columna].fillna(valor, inplace=True)\n"
     ]
    },
    {
     "data": {
      "text/plain": "0          A2\n1          A3\n2          A4\n3          A6\n4    SEPARADA\n5    Separada\nName: EdoCivil, dtype: object"
     },
     "execution_count": 61,
     "metadata": {},
     "output_type": "execute_result"
    }
   ],
   "source": [
    "llenar_respuesta_libre('EdoCivil')\n",
    "# TODO: es válido crear un nuevo código A0?\n",
    "# Sustituimos los nan restantes por A0\n",
    "llenar_vacios('EdoCivil', 'A0')\n",
    "mostrar_unicos('EdoCivil')"
   ]
  },
  {
   "cell_type": "code",
   "execution_count": 62,
   "metadata": {
    "collapsed": false,
    "ExecuteTime": {
     "end_time": "2024-08-10T23:18:53.430069Z",
     "start_time": "2024-08-10T23:18:53.426174Z"
    }
   },
   "outputs": [
    {
     "data": {
      "text/plain": "0    A2\n1    A3\n2    A4\n3    A6\n4    A7\nName: EdoCivil, dtype: object"
     },
     "execution_count": 62,
     "metadata": {},
     "output_type": "execute_result"
    }
   ],
   "source": [
    "# TODO: es válido crear un nuevo código A7?\n",
    "unificar_observaciones('EdoCivil', r'separad[oa]', 'A7')\n",
    "mostrar_unicos('EdoCivil')"
   ]
  },
  {
   "attachments": {},
   "cell_type": "markdown",
   "metadata": {
    "collapsed": false
   },
   "source": [
    "## Promedio"
   ]
  },
  {
   "attachments": {},
   "cell_type": "markdown",
   "metadata": {
    "collapsed": false
   },
   "source": [
    "La columna `promedio` tiene el promedio del semestre anterior."
   ]
  },
  {
   "cell_type": "code",
   "execution_count": 63,
   "metadata": {
    "collapsed": false,
    "ExecuteTime": {
     "end_time": "2024-08-10T23:18:53.591688Z",
     "start_time": "2024-08-10T23:18:53.587629Z"
    }
   },
   "outputs": [
    {
     "data": {
      "text/plain": "53    958.0\n52    886.0\n51     98.0\n50     97.0\n49     96.0\n48     95.0\n47     94.0\n46     93.0\n45     92.0\n44     91.0\n43     90.0\n42     89.0\n41     88.0\n40     86.0\n39     85.0\n38     84.0\n37     83.0\n36     82.0\n35     10.0\n34      9.9\n33      9.8\n32      9.7\n31      9.6\n30      9.5\n29      9.4\n28      9.3\n27      9.2\n26      9.1\n25      9.0\n24      8.9\n23      8.8\n22      8.7\n21      8.6\n20      8.5\n19      8.4\n18      8.3\n17      8.2\n16      8.1\n15      8.0\n14      7.9\n13      7.8\n12      7.7\n11      7.6\n10      7.5\n9       7.4\n8       7.3\n7       7.2\n6       7.1\n5       7.0\n4       6.8\n3       6.3\n2       6.0\n1       4.0\n0       0.0\n54      NaN\nName: Promedio, dtype: float64"
     },
     "execution_count": 63,
     "metadata": {},
     "output_type": "execute_result"
    }
   ],
   "source": [
    "mostrar_unicos('Promedio').sort_values(ascending=False)"
   ]
  },
  {
   "cell_type": "code",
   "execution_count": 64,
   "metadata": {
    "collapsed": false,
    "ExecuteTime": {
     "end_time": "2024-08-10T23:18:53.712188Z",
     "start_time": "2024-08-10T23:18:53.709738Z"
    }
   },
   "outputs": [
    {
     "data": {
      "text/plain": "9"
     },
     "execution_count": 64,
     "metadata": {},
     "output_type": "execute_result"
    }
   ],
   "source": [
    "contar_faltantes('Promedio')"
   ]
  },
  {
   "attachments": {},
   "cell_type": "markdown",
   "metadata": {
    "collapsed": false
   },
   "source": [
    "Como hay valores mayores a 10 se necesita acomodar el punto decimal."
   ]
  },
  {
   "cell_type": "code",
   "execution_count": 65,
   "metadata": {
    "collapsed": false,
    "ExecuteTime": {
     "end_time": "2024-08-10T23:18:53.837879Z",
     "start_time": "2024-08-10T23:18:53.833234Z"
    }
   },
   "outputs": [
    {
     "data": {
      "text/plain": "37    10.00\n36     9.90\n35     9.80\n34     9.70\n33     9.60\n32     9.58\n31     9.50\n30     9.40\n29     9.30\n28     9.20\n27     9.10\n26     9.00\n25     8.90\n24     8.86\n23     8.80\n22     8.70\n21     8.60\n20     8.50\n19     8.40\n18     8.30\n17     8.20\n16     8.10\n15     8.00\n14     7.90\n13     7.80\n12     7.70\n11     7.60\n10     7.50\n9      7.40\n8      7.30\n7      7.20\n6      7.10\n5      7.00\n4      6.80\n3      6.30\n2      6.00\n1      4.00\n0      0.00\n38      NaN\nName: Promedio, dtype: float64"
     },
     "execution_count": 65,
     "metadata": {},
     "output_type": "execute_result"
    }
   ],
   "source": [
    "datos.loc[datos['Promedio'].between(10, 100, 'right'), 'Promedio'] = datos['Promedio'] / 10\n",
    "datos.loc[datos['Promedio'] > 100, 'Promedio'] = datos['Promedio'] / 100\n",
    "mostrar_unicos('Promedio').sort_values(ascending=False)"
   ]
  },
  {
   "cell_type": "code",
   "execution_count": 66,
   "metadata": {
    "collapsed": false,
    "ExecuteTime": {
     "end_time": "2024-08-10T23:18:53.957070Z",
     "start_time": "2024-08-10T23:18:53.954072Z"
    }
   },
   "outputs": [],
   "source": [
    "# TODO: revisar esta propuesta:\n",
    "# PROPUESTA --> Sustituimos los valores faltantes con el promedio de los datos o con un valor constante como 0.\n",
    "datos['Promedio'] = datos['Promedio'].fillna(datos['Promedio'].mean())"
   ]
  },
  {
   "attachments": {},
   "cell_type": "markdown",
   "metadata": {
    "collapsed": false
   },
   "source": [
    "## telefonocelular"
   ]
  },
  {
   "cell_type": "code",
   "execution_count": 67,
   "metadata": {
    "collapsed": false,
    "ExecuteTime": {
     "end_time": "2024-08-10T23:18:54.102549Z",
     "start_time": "2024-08-10T23:18:54.100091Z"
    }
   },
   "outputs": [
    {
     "data": {
      "text/plain": "0      N\n1      Y\n2    NaN\nName: telefonocelular, dtype: object"
     },
     "execution_count": 67,
     "metadata": {},
     "output_type": "execute_result"
    }
   ],
   "source": [
    "mostrar_unicos('telefonocelular')"
   ]
  },
  {
   "attachments": {},
   "cell_type": "markdown",
   "metadata": {
    "collapsed": false
   },
   "source": [
    "Se sustituye los valores faltantes de la columna con \"no\" (cuya clav es `N`)."
   ]
  },
  {
   "cell_type": "code",
   "execution_count": 68,
   "metadata": {
    "collapsed": false,
    "ExecuteTime": {
     "end_time": "2024-08-10T23:18:54.199539Z",
     "start_time": "2024-08-10T23:18:54.197286Z"
    }
   },
   "outputs": [
    {
     "name": "stderr",
     "output_type": "stream",
     "text": [
      "/Users/erickavendanogarcia/Downloads/servicio_social/encuestas/auxiliar_4.py:143: FutureWarning: A value is trying to be set on a copy of a DataFrame or Series through chained assignment using an inplace method.\n",
      "The behavior will change in pandas 3.0. This inplace method will never work because the intermediate object on which we are setting values always behaves as a copy.\n",
      "\n",
      "For example, when doing 'df[col].method(value, inplace=True)', try using 'df.method({col: value}, inplace=True)' or df[col] = df[col].method(value) instead, to perform the operation inplace on the original object.\n",
      "\n",
      "\n",
      "  df[columna].fillna(valor, inplace=True)\n"
     ]
    }
   ],
   "source": [
    "llenar_vacios('telefonocelular', 'B2')"
   ]
  },
  {
   "attachments": {},
   "cell_type": "markdown",
   "metadata": {
    "collapsed": false
   },
   "source": [
    "## carrera84"
   ]
  },
  {
   "attachments": {},
   "cell_type": "markdown",
   "metadata": {
    "collapsed": false
   },
   "source": [
    "Se refiere a cuándo entró a la universidad: antes o después de la pandemia."
   ]
  },
  {
   "cell_type": "code",
   "execution_count": 69,
   "metadata": {
    "collapsed": false,
    "ExecuteTime": {
     "end_time": "2024-08-10T23:18:54.333591Z",
     "start_time": "2024-08-10T23:18:54.331686Z"
    }
   },
   "outputs": [],
   "source": [
    "llenar_vacios('carrera84', 'B2')"
   ]
  },
  {
   "attachments": {},
   "cell_type": "markdown",
   "metadata": {
    "collapsed": false
   },
   "source": [
    "## saludantesde"
   ]
  },
  {
   "attachments": {},
   "cell_type": "markdown",
   "metadata": {
    "collapsed": false
   },
   "source": [
    "Se pregunta cómo se considera que era la salud antes de la carrera"
   ]
  },
  {
   "cell_type": "code",
   "execution_count": 70,
   "metadata": {
    "collapsed": false,
    "ExecuteTime": {
     "end_time": "2024-08-10T23:18:54.445327Z",
     "start_time": "2024-08-10T23:18:54.443405Z"
    }
   },
   "outputs": [],
   "source": [
    "llenar_vacios('saludantesde', 'B2')"
   ]
  },
  {
   "attachments": {},
   "cell_type": "markdown",
   "metadata": {
    "collapsed": false
   },
   "source": [
    "## Salud en la carrera"
   ]
  },
  {
   "attachments": {},
   "cell_type": "markdown",
   "metadata": {
    "collapsed": false
   },
   "source": [
    "### carrerasinpandemia"
   ]
  },
  {
   "attachments": {},
   "cell_type": "markdown",
   "metadata": {
    "collapsed": false
   },
   "source": [
    "Salud en la carrera antes de la pandemia"
   ]
  },
  {
   "cell_type": "code",
   "execution_count": 71,
   "metadata": {
    "collapsed": false,
    "ExecuteTime": {
     "end_time": "2024-08-10T23:18:54.594114Z",
     "start_time": "2024-08-10T23:18:54.592104Z"
    }
   },
   "outputs": [],
   "source": [
    "# Cuando un valor es vacío es porque la persona no estudió en la universidad antes de la pandemia\n",
    "llenar_vacios('carrerasinpandemia', 'B1')"
   ]
  },
  {
   "attachments": {},
   "cell_type": "markdown",
   "metadata": {
    "collapsed": false
   },
   "source": [
    "### carrerapandemia"
   ]
  },
  {
   "attachments": {},
   "cell_type": "markdown",
   "metadata": {
    "collapsed": false
   },
   "source": [
    "Salud en la carrera durante la pandemia"
   ]
  },
  {
   "cell_type": "code",
   "execution_count": 72,
   "metadata": {
    "collapsed": false,
    "ExecuteTime": {
     "end_time": "2024-08-10T23:18:54.700905Z",
     "start_time": "2024-08-10T23:18:54.698788Z"
    }
   },
   "outputs": [],
   "source": [
    "# Como se entrevista estudiantes, todos los estudiantes estudiaron durante la pandemia\n",
    "llenar_vacios('carrerapandemia', 'B2')"
   ]
  },
  {
   "attachments": {},
   "cell_type": "markdown",
   "metadata": {
    "collapsed": false
   },
   "source": [
    "## Condición física"
   ]
  },
  {
   "attachments": {},
   "cell_type": "markdown",
   "metadata": {
    "collapsed": false
   },
   "source": [
    "- `condicionantes`: cómo se percibe la condición física antes de entrar a la carrera.\n",
    "- `condicionpandemia`: cómo se percibe la condición física en la carrera con pandemia.\n",
    "- `condicionsinpandemia`: cómo se percibe la condición física en la carrera sin pandemia."
   ]
  },
  {
   "attachments": {},
   "cell_type": "markdown",
   "metadata": {
    "collapsed": false
   },
   "source": [
    "### condicionantes"
   ]
  },
  {
   "cell_type": "code",
   "execution_count": 73,
   "metadata": {
    "collapsed": false,
    "ExecuteTime": {
     "end_time": "2024-08-10T23:18:54.817851Z",
     "start_time": "2024-08-10T23:18:54.814685Z"
    }
   },
   "outputs": [
    {
     "data": {
      "text/plain": "0     A2\n1     A3\n2     A4\n3     A5\n4     A6\n5    NaN\nName: condicionantes, dtype: object"
     },
     "execution_count": 73,
     "metadata": {},
     "output_type": "execute_result"
    }
   ],
   "source": [
    "mostrar_unicos('condicionantes')"
   ]
  },
  {
   "cell_type": "code",
   "execution_count": 74,
   "metadata": {
    "collapsed": false,
    "ExecuteTime": {
     "end_time": "2024-08-10T23:18:54.897028Z",
     "start_time": "2024-08-10T23:18:54.895292Z"
    }
   },
   "outputs": [],
   "source": [
    "# Cuando un valor es vacío es porque la persona no recuerda\n",
    "llenar_vacios('condicionantes', 'B2')"
   ]
  },
  {
   "cell_type": "code",
   "execution_count": 75,
   "metadata": {
    "collapsed": false,
    "ExecuteTime": {
     "end_time": "2024-08-10T23:18:55.026481Z",
     "start_time": "2024-08-10T23:18:55.024054Z"
    }
   },
   "outputs": [],
   "source": [
    "datos['condicionpandemia'] = datos['condicionpandemia'].fillna('A0')\n",
    "llenar_vacios('condicionpandemia', 'B1')\n"
   ]
  },
  {
   "attachments": {},
   "cell_type": "markdown",
   "metadata": {
    "collapsed": false
   },
   "source": [
    "### condicionpandemia"
   ]
  },
  {
   "cell_type": "code",
   "execution_count": 76,
   "metadata": {
    "collapsed": false,
    "ExecuteTime": {
     "end_time": "2024-08-10T23:18:55.146026Z",
     "start_time": "2024-08-10T23:18:55.142724Z"
    }
   },
   "outputs": [
    {
     "data": {
      "text/plain": "0    A0\n1    A2\n2    A3\n3    A4\n4    A5\n5    A6\nName: condicionpandemia, dtype: object"
     },
     "execution_count": 76,
     "metadata": {},
     "output_type": "execute_result"
    }
   ],
   "source": [
    "mostrar_unicos('condicionpandemia')"
   ]
  },
  {
   "cell_type": "code",
   "execution_count": 77,
   "metadata": {
    "collapsed": false,
    "ExecuteTime": {
     "end_time": "2024-08-10T23:18:55.253530Z",
     "start_time": "2024-08-10T23:18:55.251768Z"
    }
   },
   "outputs": [],
   "source": [
    "# Cuando un valor es vacío es porque la persona no recuerda\n",
    "llenar_vacios('condicionpandemia', 'B2')"
   ]
  },
  {
   "attachments": {},
   "cell_type": "markdown",
   "metadata": {
    "collapsed": false
   },
   "source": [
    "### condicionsinpandemia"
   ]
  },
  {
   "cell_type": "code",
   "execution_count": 78,
   "metadata": {
    "collapsed": false,
    "ExecuteTime": {
     "end_time": "2024-08-10T23:18:55.326406Z",
     "start_time": "2024-08-10T23:18:55.323873Z"
    }
   },
   "outputs": [
    {
     "data": {
      "text/plain": "0     A2\n1     A3\n2     A4\n3     A5\n4     A6\n5    NaN\nName: condicionsinpandemia, dtype: object"
     },
     "execution_count": 78,
     "metadata": {},
     "output_type": "execute_result"
    }
   ],
   "source": [
    "mostrar_unicos('condicionsinpandemia')"
   ]
  },
  {
   "cell_type": "code",
   "execution_count": 79,
   "metadata": {
    "collapsed": false,
    "ExecuteTime": {
     "end_time": "2024-08-10T23:18:55.458891Z",
     "start_time": "2024-08-10T23:18:55.456878Z"
    }
   },
   "outputs": [],
   "source": [
    "# Cuando un valor es vacío es porque la persona no asistió a la universidad antes de la pandemia\n",
    "llenar_vacios('condicionsinpandemia', 'B1')"
   ]
  },
  {
   "attachments": {},
   "cell_type": "markdown",
   "metadata": {
    "collapsed": false
   },
   "source": [
    "## Estrés"
   ]
  },
  {
   "attachments": {},
   "cell_type": "markdown",
   "metadata": {
    "collapsed": false
   },
   "source": [
    "- `estresantes2`: nivel de estrés antes de la carrera.\n",
    "- `estressinpandemia`: nivel de estrés en la carrera antes de la pandemia.\n",
    "- `estresactual`: nivel de estrés en la carrera durante la pandemia.\n"
   ]
  },
  {
   "attachments": {},
   "cell_type": "markdown",
   "metadata": {
    "collapsed": false
   },
   "source": [
    "### estresantes2"
   ]
  },
  {
   "cell_type": "code",
   "execution_count": 80,
   "metadata": {
    "collapsed": false,
    "ExecuteTime": {
     "end_time": "2024-08-10T23:18:55.568080Z",
     "start_time": "2024-08-10T23:18:55.565185Z"
    }
   },
   "outputs": [
    {
     "data": {
      "text/plain": "0    A2\n1    A3\n2    A4\n3    A5\n4    A6\n5    A7\nName: estresantes2, dtype: object"
     },
     "execution_count": 80,
     "metadata": {},
     "output_type": "execute_result"
    }
   ],
   "source": [
    "mostrar_unicos('estresantes2')"
   ]
  },
  {
   "attachments": {},
   "cell_type": "markdown",
   "metadata": {
    "collapsed": false
   },
   "source": [
    "### estressinpandemia"
   ]
  },
  {
   "cell_type": "code",
   "execution_count": 81,
   "metadata": {
    "collapsed": false,
    "ExecuteTime": {
     "end_time": "2024-08-10T23:18:55.706166Z",
     "start_time": "2024-08-10T23:18:55.703517Z"
    }
   },
   "outputs": [
    {
     "data": {
      "text/plain": "0     A2\n1     A3\n2     A4\n3     A5\n4     A6\n5    NaN\nName: estressinpandemia, dtype: object"
     },
     "execution_count": 81,
     "metadata": {},
     "output_type": "execute_result"
    }
   ],
   "source": [
    "mostrar_unicos('estressinpandemia')"
   ]
  },
  {
   "cell_type": "code",
   "execution_count": 82,
   "metadata": {
    "collapsed": false,
    "ExecuteTime": {
     "end_time": "2024-08-10T23:18:55.799628Z",
     "start_time": "2024-08-10T23:18:55.797825Z"
    }
   },
   "outputs": [],
   "source": [
    "# Cuando un valor es vacío es porque la persona no estaba en la universidad antes de la pandemia\n",
    "llenar_vacios('estressinpandemia', 'B1')"
   ]
  },
  {
   "attachments": {},
   "cell_type": "markdown",
   "metadata": {
    "collapsed": false
   },
   "source": [
    "### estresactual"
   ]
  },
  {
   "cell_type": "code",
   "execution_count": 83,
   "metadata": {
    "collapsed": false,
    "ExecuteTime": {
     "end_time": "2024-08-10T23:18:55.908237Z",
     "start_time": "2024-08-10T23:18:55.905434Z"
    }
   },
   "outputs": [
    {
     "data": {
      "text/plain": "0     A2\n1     A3\n2     A4\n3     A5\n4     A6\n5     A7\n6    NaN\nName: estresactual, dtype: object"
     },
     "execution_count": 83,
     "metadata": {},
     "output_type": "execute_result"
    }
   ],
   "source": [
    "mostrar_unicos('estresactual')"
   ]
  },
  {
   "attachments": {},
   "cell_type": "markdown",
   "metadata": {
    "collapsed": false
   },
   "source": [
    "## Peso"
   ]
  },
  {
   "attachments": {},
   "cell_type": "markdown",
   "metadata": {
    "collapsed": false
   },
   "source": [
    "- `pesoaantes`:  cuál es el peso que se cree que se tenía antes de entrar a la carrera.\n",
    "- `pesosinpandemia` y `pesoconpandemia`: el peso que se cree que se tiene durante la carrera pero en las condiciones sin y con pandemia.\n",
    "- `pesoactual`: peso actual del paciente (no percepciones).\n",
    "- `cambiopeso`: cambio de peso debido a la pandemia.\n",
    "- `cambiodepesoentrarca`: cambio de peso por entrar a la carrera.\n",
    "- `pesoultimavez`: peso de la última vez que se pesó.\n",
    "- `cadacuandopesas`: cada cuándo se pesa el encuestado.\n",
    "- `accionespeso`: acciones que se desea tomar respecto al peso.\n"
   ]
  },
  {
   "attachments": {},
   "cell_type": "markdown",
   "metadata": {
    "collapsed": false
   },
   "source": [
    "### pesoantes"
   ]
  },
  {
   "cell_type": "code",
   "execution_count": 84,
   "metadata": {
    "collapsed": false,
    "ExecuteTime": {
     "end_time": "2024-08-10T23:18:56.004886Z",
     "start_time": "2024-08-10T23:18:56.002378Z"
    }
   },
   "outputs": [
    {
     "data": {
      "text/plain": "0    A2\n1    A3\n2    A4\n3    A5\n4    A6\n5    A7\n6    A8\nName: pesoaantes, dtype: object"
     },
     "execution_count": 84,
     "metadata": {},
     "output_type": "execute_result"
    }
   ],
   "source": [
    "mostrar_unicos('pesoaantes')"
   ]
  },
  {
   "attachments": {},
   "cell_type": "markdown",
   "metadata": {
    "collapsed": false
   },
   "source": [
    "### pesosinpandemia"
   ]
  },
  {
   "cell_type": "code",
   "execution_count": 85,
   "metadata": {
    "collapsed": false,
    "ExecuteTime": {
     "end_time": "2024-08-10T23:18:56.139604Z",
     "start_time": "2024-08-10T23:18:56.136230Z"
    }
   },
   "outputs": [
    {
     "data": {
      "text/plain": "0     A3\n1     A4\n2     A5\n3     A6\n4    NaN\nName: pesosinpandemia, dtype: object"
     },
     "execution_count": 85,
     "metadata": {},
     "output_type": "execute_result"
    }
   ],
   "source": [
    "mostrar_unicos('pesosinpandemia')"
   ]
  },
  {
   "cell_type": "code",
   "execution_count": 86,
   "metadata": {
    "collapsed": false,
    "ExecuteTime": {
     "end_time": "2024-08-10T23:18:56.273008Z",
     "start_time": "2024-08-10T23:18:56.270990Z"
    }
   },
   "outputs": [],
   "source": [
    "# Cuando un valor es vacío es porque la persona no estaba en la universidad antes de la pandemia\n",
    "llenar_vacios('pesosinpandemia', 'B1')"
   ]
  },
  {
   "attachments": {},
   "cell_type": "markdown",
   "metadata": {
    "collapsed": false
   },
   "source": [
    "### pesoconpandemia"
   ]
  },
  {
   "cell_type": "code",
   "execution_count": 87,
   "metadata": {
    "collapsed": false,
    "ExecuteTime": {
     "end_time": "2024-08-10T23:18:56.380706Z",
     "start_time": "2024-08-10T23:18:56.378341Z"
    }
   },
   "outputs": [
    {
     "data": {
      "text/plain": "0     A2\n1     A3\n2     A4\n3     A5\n4     A6\n5     A7\n6     A8\n7    NaN\nName: pesoconpandemia, dtype: object"
     },
     "execution_count": 87,
     "metadata": {},
     "output_type": "execute_result"
    }
   ],
   "source": [
    "mostrar_unicos('pesoconpandemia')"
   ]
  },
  {
   "attachments": {},
   "cell_type": "markdown",
   "metadata": {
    "collapsed": false
   },
   "source": [
    "### pesoactual"
   ]
  },
  {
   "attachments": {},
   "cell_type": "markdown",
   "metadata": {
    "collapsed": false
   },
   "source": [
    "Se observa muchos valores irregulares"
   ]
  },
  {
   "cell_type": "code",
   "execution_count": 88,
   "metadata": {
    "collapsed": false,
    "ExecuteTime": {
     "end_time": "2024-08-10T23:18:56.476452Z",
     "start_time": "2024-08-10T23:18:56.473512Z"
    }
   },
   "outputs": [
    {
     "data": {
      "text/plain": "146    No se sabe\n145         NO SE\n144          98.4\n143            98\n142          97.5\n          ...    \n3             113\n2             112\n1           108.5\n0             108\n147           NaN\nName: pesoactual, Length: 148, dtype: object"
     },
     "execution_count": 88,
     "metadata": {},
     "output_type": "execute_result"
    }
   ],
   "source": [
    "mostrar_unicos('pesoactual').sort_values(ascending=False)"
   ]
  },
  {
   "cell_type": "code",
   "execution_count": 89,
   "metadata": {
    "collapsed": false,
    "ExecuteTime": {
     "end_time": "2024-08-10T23:18:56.598149Z",
     "start_time": "2024-08-10T23:18:56.595907Z"
    }
   },
   "outputs": [
    {
     "data": {
      "text/plain": "30"
     },
     "execution_count": 89,
     "metadata": {},
     "output_type": "execute_result"
    }
   ],
   "source": [
    "contar_faltantes('pesoactual')"
   ]
  },
  {
   "attachments": {},
   "cell_type": "markdown",
   "metadata": {
    "collapsed": false
   },
   "source": [
    "Como hay varios faltantes, primero se trabajará con los demás valores."
   ]
  },
  {
   "cell_type": "code",
   "execution_count": 90,
   "metadata": {
    "collapsed": false,
    "ExecuteTime": {
     "end_time": "2024-08-10T23:18:56.730331Z",
     "start_time": "2024-08-10T23:18:56.727352Z"
    }
   },
   "outputs": [],
   "source": [
    "llenos = datos['pesoactual'][datos['pesoactual'].notna()]\n",
    "sin_numeros = llenos[~llenos.str.contains(r'\\d+.\\d+')].drop_duplicates()\n",
    "problematicos = sin_numeros[sin_numeros.str.contains(r'[A-Za-z\\Wñ]+')].drop_duplicates()"
   ]
  },
  {
   "cell_type": "code",
   "execution_count": 91,
   "metadata": {
    "collapsed": false,
    "ExecuteTime": {
     "end_time": "2024-08-10T23:18:56.858725Z",
     "start_time": "2024-08-10T23:18:56.856385Z"
    }
   },
   "outputs": [],
   "source": [
    "# Si no hay números, entonces se reemplaza por nan\n",
    "valores_por_quitar = problematicos[~problematicos.str.contains(r'\\d+')].unique()\n",
    "datos.loc[datos['pesoactual'].isin(valores_por_quitar), 'pesoactual'] = np.nan"
   ]
  },
  {
   "cell_type": "code",
   "execution_count": 92,
   "metadata": {
    "collapsed": false,
    "ExecuteTime": {
     "end_time": "2024-08-10T23:18:56.957116Z",
     "start_time": "2024-08-10T23:18:56.953485Z"
    }
   },
   "outputs": [],
   "source": [
    "# Si hay números, entonces se extrae los dígitos\n",
    "valores_por_limpiar = problematicos[problematicos.str.contains(r'\\d+')].drop_duplicates()\n",
    "valores_limpios = valores_por_limpiar.str.replace(r'[A-Za-z]+\\.?', '', regex=True)\n",
    "cambios = dict(zip(valores_por_limpiar, valores_limpios))\n",
    "datos['pesoactual'] = datos['pesoactual'].replace(cambios)"
   ]
  },
  {
   "cell_type": "code",
   "execution_count": 93,
   "metadata": {
    "collapsed": false,
    "ExecuteTime": {
     "end_time": "2024-08-10T23:18:57.037108Z",
     "start_time": "2024-08-10T23:18:57.032707Z"
    }
   },
   "outputs": [
    {
     "data": {
      "text/plain": "count    688.000000\nmean      62.710756\nstd       13.613920\nmin       37.000000\n25%       53.000000\n50%       60.000000\n75%       69.000000\nmax      160.000000\nName: pesoactual, dtype: float64"
     },
     "execution_count": 93,
     "metadata": {},
     "output_type": "execute_result"
    }
   ],
   "source": [
    "# Los rangos son de la forma 14-16, la estrategia es quedarse con el primer número\n",
    "def quitar_rango(texto):\n",
    "    if texto is np.nan:\n",
    "        return np.nan\n",
    "    resultado = re.findall(r'(\\d+)-\\d+', texto)\n",
    "    return resultado[0] if len(resultado) > 0 else texto\n",
    "\n",
    "\n",
    "datos['pesoactual'] = datos['pesoactual'].apply(quitar_rango).astype(float)\n",
    "datos['pesoactual'].describe()"
   ]
  },
  {
   "attachments": {},
   "cell_type": "markdown",
   "metadata": {
    "collapsed": false
   },
   "source": [
    "Ahora se imputa los valores faltantes con la mediana"
   ]
  },
  {
   "cell_type": "code",
   "execution_count": 94,
   "metadata": {
    "collapsed": false,
    "ExecuteTime": {
     "end_time": "2024-08-10T23:18:57.123109Z",
     "start_time": "2024-08-10T23:18:57.120871Z"
    }
   },
   "outputs": [],
   "source": [
    "datos['pesoactual'] = datos['pesoactual'].fillna(datos['pesoactual'].median())"
   ]
  },
  {
   "attachments": {},
   "cell_type": "markdown",
   "metadata": {
    "collapsed": false
   },
   "source": [
    "### cambiodepeso"
   ]
  },
  {
   "cell_type": "code",
   "execution_count": 95,
   "metadata": {
    "collapsed": false,
    "ExecuteTime": {
     "end_time": "2024-08-10T23:18:57.260045Z",
     "start_time": "2024-08-10T23:18:57.257463Z"
    }
   },
   "outputs": [
    {
     "data": {
      "text/plain": "0     A1\n1     A2\n2     A3\n3     A4\n4    NaN\nName: cambiodepeso, dtype: object"
     },
     "execution_count": 95,
     "metadata": {},
     "output_type": "execute_result"
    }
   ],
   "source": [
    "mostrar_unicos('cambiodepeso')"
   ]
  },
  {
   "cell_type": "code",
   "execution_count": 96,
   "metadata": {
    "collapsed": false,
    "ExecuteTime": {
     "end_time": "2024-08-10T23:18:57.323610Z",
     "start_time": "2024-08-10T23:18:57.321644Z"
    }
   },
   "outputs": [
    {
     "name": "stderr",
     "output_type": "stream",
     "text": [
      "/Users/erickavendanogarcia/Downloads/servicio_social/encuestas/auxiliar_4.py:143: FutureWarning: A value is trying to be set on a copy of a DataFrame or Series through chained assignment using an inplace method.\n",
      "The behavior will change in pandas 3.0. This inplace method will never work because the intermediate object on which we are setting values always behaves as a copy.\n",
      "\n",
      "For example, when doing 'df[col].method(value, inplace=True)', try using 'df.method({col: value}, inplace=True)' or df[col] = df[col].method(value) instead, to perform the operation inplace on the original object.\n",
      "\n",
      "\n",
      "  df[columna].fillna(valor, inplace=True)\n"
     ]
    }
   ],
   "source": [
    "llenar_vacios('cambiodepeso', 'B2')"
   ]
  },
  {
   "attachments": {},
   "cell_type": "markdown",
   "metadata": {
    "collapsed": false
   },
   "source": [
    "### cambiodepesoentrarca"
   ]
  },
  {
   "cell_type": "code",
   "execution_count": 97,
   "metadata": {
    "collapsed": false,
    "ExecuteTime": {
     "end_time": "2024-08-10T23:18:57.483109Z",
     "start_time": "2024-08-10T23:18:57.480284Z"
    }
   },
   "outputs": [
    {
     "data": {
      "text/plain": "0     A1\n1     A2\n2     A3\n3     A4\n4    NaN\nName: cambiodepesoentrarca, dtype: object"
     },
     "execution_count": 97,
     "metadata": {},
     "output_type": "execute_result"
    }
   ],
   "source": [
    "mostrar_unicos('cambiodepesoentrarca')"
   ]
  },
  {
   "cell_type": "code",
   "execution_count": 98,
   "metadata": {
    "collapsed": false,
    "ExecuteTime": {
     "end_time": "2024-08-10T23:18:57.525155Z",
     "start_time": "2024-08-10T23:18:57.523309Z"
    }
   },
   "outputs": [],
   "source": [
    "llenar_vacios('cambiodepesoentrarca', 'B2')"
   ]
  },
  {
   "attachments": {},
   "cell_type": "markdown",
   "metadata": {
    "collapsed": false
   },
   "source": [
    "### pesoultimavez"
   ]
  },
  {
   "cell_type": "code",
   "execution_count": 99,
   "metadata": {
    "collapsed": false,
    "ExecuteTime": {
     "end_time": "2024-08-10T23:18:57.736074Z",
     "start_time": "2024-08-10T23:18:57.732951Z"
    }
   },
   "outputs": [
    {
     "data": {
      "text/plain": "0     A2\n1     A3\n2     A4\n3     A5\n4     A6\n5     A7\n6    NaN\nName: pesoultimavez, dtype: object"
     },
     "execution_count": 99,
     "metadata": {},
     "output_type": "execute_result"
    }
   ],
   "source": [
    "mostrar_unicos('pesoultimavez')"
   ]
  },
  {
   "cell_type": "code",
   "execution_count": 100,
   "metadata": {
    "collapsed": false,
    "ExecuteTime": {
     "end_time": "2024-08-10T23:18:57.804307Z",
     "start_time": "2024-08-10T23:18:57.802167Z"
    }
   },
   "outputs": [],
   "source": [
    "llenar_vacios('pesoultimavez', 'B2')"
   ]
  },
  {
   "attachments": {},
   "cell_type": "markdown",
   "metadata": {
    "collapsed": false
   },
   "source": [
    "### cadacuandopesas"
   ]
  },
  {
   "cell_type": "code",
   "execution_count": 101,
   "metadata": {
    "collapsed": false,
    "ExecuteTime": {
     "end_time": "2024-08-10T23:18:57.928324Z",
     "start_time": "2024-08-10T23:18:57.925610Z"
    }
   },
   "outputs": [
    {
     "data": {
      "text/plain": "0    -oth-\n1      A10\n2       A2\n3       A3\n4       A4\n5       A5\n6       A6\n7       A7\n8       A8\n9       A9\nName: cadacuandopesas, dtype: object"
     },
     "execution_count": 101,
     "metadata": {},
     "output_type": "execute_result"
    }
   ],
   "source": [
    "mostrar_unicos('cadacuandopesas')"
   ]
  },
  {
   "cell_type": "code",
   "execution_count": 102,
   "metadata": {
    "collapsed": false,
    "ExecuteTime": {
     "end_time": "2024-08-10T23:18:58.016386Z",
     "start_time": "2024-08-10T23:18:58.010084Z"
    }
   },
   "outputs": [
    {
     "name": "stderr",
     "output_type": "stream",
     "text": [
      "/Users/erickavendanogarcia/Downloads/servicio_social/encuestas/auxiliar_4.py:99: FutureWarning: A value is trying to be set on a copy of a DataFrame or Series through chained assignment using an inplace method.\n",
      "The behavior will change in pandas 3.0. This inplace method will never work because the intermediate object on which we are setting values always behaves as a copy.\n",
      "\n",
      "For example, when doing 'df[col].method(value, inplace=True)', try using 'df.method({col: value}, inplace=True)' or df[col] = df[col].method(value) instead, to perform the operation inplace on the original object.\n",
      "\n",
      "\n",
      "  df[columna].replace(mapeo[columna], inplace=True)\n"
     ]
    },
    {
     "data": {
      "text/plain": "0                                   1 vez a la semana_7\n1                                        1 vez al mes_5\n2                                       1 vez por año_2\n3                                    2-3 veces al mes_6\n4                                2-3 veces por semana_8\n5                                       CADA 4-5 MESES \n6                             CADA QUE ASISTE AL MEDICO\n7                               CADA VEZ QUE ME ENFERMO\n8                                           CITA MEDICA\n9                                     CUANDO ME ENFERMO\n10    CUANDO TENGO LA OPORTUNIDAD, PERO NO ES FRECUENTE\n11                                     Cada 2-3 meses_4\n12                                       Cada 6 meses_3\n13                               Cada que voy al doctor\n14                                             Diario_9\n15                                  EN VISITA AL MEDICO\n16                                               MEDICO\n17                                         No me peso_1\n18                                             RARA VEZ\n19                                        cuando quiero\n20                                 cuando voy al médico\n21                                      esporadicamente\nName: cadacuandopesas, dtype: object"
     },
     "execution_count": 102,
     "metadata": {},
     "output_type": "execute_result"
    }
   ],
   "source": [
    "llenar_respuesta_libre('cadacuandopesas')\n",
    "mapear_codigos('cadacuandopesas')\n",
    "mostrar_unicos('cadacuandopesas')\n",
    "#TODO: Revisar si se crea código para médico"
   ]
  },
  {
   "cell_type": "code",
   "execution_count": 103,
   "metadata": {
    "collapsed": false,
    "ExecuteTime": {
     "end_time": "2024-08-10T23:18:58.164855Z",
     "start_time": "2024-08-10T23:18:58.160808Z"
    }
   },
   "outputs": [
    {
     "data": {
      "text/plain": "0                                   1 vez a la semana_7\n1                                        1 vez al mes_5\n2                                       1 vez por año_2\n3                                    2-3 veces al mes_6\n4                                2-3 veces por semana_8\n5                                       CADA 4-5 MESES \n6                               CADA VEZ QUE ME ENFERMO\n7                                     CUANDO ME ENFERMO\n8     CUANDO TENGO LA OPORTUNIDAD, PERO NO ES FRECUENTE\n9                                      Cada 2-3 meses_4\n10                                       Cada 6 meses_3\n11                                             Diario_9\n12                                         No me peso_1\n13                                             RARA VEZ\n14                                        cuando quiero\n15                                      esporadicamente\n16                                               medico\nName: cadacuandopesas, dtype: object"
     },
     "execution_count": 103,
     "metadata": {},
     "output_type": "execute_result"
    }
   ],
   "source": [
    "unificar_observaciones('cadacuandopesas', r'm[eé]dic[oa]|doctor', 'medico')\n",
    "mostrar_unicos('cadacuandopesas')"
   ]
  },
  {
   "attachments": {},
   "cell_type": "markdown",
   "metadata": {
    "collapsed": false
   },
   "source": [
    "### accionespeso"
   ]
  },
  {
   "cell_type": "code",
   "execution_count": 104,
   "metadata": {
    "collapsed": false,
    "ExecuteTime": {
     "end_time": "2024-08-10T23:18:58.215266Z",
     "start_time": "2024-08-10T23:18:58.212211Z"
    }
   },
   "outputs": [
    {
     "data": {
      "text/plain": "0     A2\n1     A3\n2     A4\n3     A5\n4     A6\n5    NaN\nName: accionespeso, dtype: object"
     },
     "execution_count": 104,
     "metadata": {},
     "output_type": "execute_result"
    }
   ],
   "source": [
    "mostrar_unicos('accionespeso')"
   ]
  },
  {
   "cell_type": "code",
   "execution_count": 105,
   "metadata": {
    "collapsed": false,
    "ExecuteTime": {
     "end_time": "2024-08-10T23:18:58.420014Z",
     "start_time": "2024-08-10T23:18:58.417758Z"
    }
   },
   "outputs": [
    {
     "name": "stderr",
     "output_type": "stream",
     "text": [
      "/Users/erickavendanogarcia/Downloads/servicio_social/encuestas/auxiliar_4.py:143: FutureWarning: A value is trying to be set on a copy of a DataFrame or Series through chained assignment using an inplace method.\n",
      "The behavior will change in pandas 3.0. This inplace method will never work because the intermediate object on which we are setting values always behaves as a copy.\n",
      "\n",
      "For example, when doing 'df[col].method(value, inplace=True)', try using 'df.method({col: value}, inplace=True)' or df[col] = df[col].method(value) instead, to perform the operation inplace on the original object.\n",
      "\n",
      "\n",
      "  df[columna].fillna(valor, inplace=True)\n"
     ]
    }
   ],
   "source": [
    "llenar_vacios('accionespeso', 'B2')"
   ]
  },
  {
   "attachments": {},
   "cell_type": "markdown",
   "metadata": {
    "collapsed": false
   },
   "source": [
    "## haconsultadoDr"
   ]
  },
  {
   "attachments": {},
   "cell_type": "markdown",
   "metadata": {
    "collapsed": false
   },
   "source": [
    "Las siguientes preguntas son iguales: ¿Has consultado o recibio tratamiento de un profesional de la salud al respecto?, lo que cambia es el momento:\n",
    "- `haconsultadoDr[SQ002]`: nunca\n",
    "- `haconsultadoDr[SQ003]`: pasado\n",
    "- `haconsultadoDr[SQ004]`: actual\n",
    "- `haconsultadoDr[SQ005]`: no sé\n"
   ]
  },
  {
   "cell_type": "code",
   "execution_count": 106,
   "metadata": {
    "collapsed": false,
    "ExecuteTime": {
     "end_time": "2024-08-10T23:18:58.516102Z",
     "start_time": "2024-08-10T23:18:58.511644Z"
    }
   },
   "outputs": [
    {
     "name": "stderr",
     "output_type": "stream",
     "text": [
      "/Users/erickavendanogarcia/Downloads/servicio_social/encuestas/auxiliar_4.py:143: FutureWarning: Setting an item of incompatible dtype is deprecated and will raise an error in a future version of pandas. Value 'B2' has dtype incompatible with float64, please explicitly cast to a compatible dtype first.\n",
      "  df[columna].fillna(valor, inplace=True)\n"
     ]
    }
   ],
   "source": [
    "for i in range(2, 6):\n",
    "    columna = f'haconsultadoDr[SQ00{i}]'\n",
    "    mostrar_unicos(columna)\n",
    "    contar_faltantes(columna)\n",
    "    llenar_vacios(columna, 'B2')"
   ]
  },
  {
   "attachments": {},
   "cell_type": "markdown",
   "metadata": {
    "collapsed": false
   },
   "source": [
    "## altura"
   ]
  },
  {
   "attachments": {},
   "cell_type": "markdown",
   "metadata": {
    "collapsed": false
   },
   "source": [
    "Se medirá la estatura en metros"
   ]
  },
  {
   "cell_type": "code",
   "execution_count": 107,
   "metadata": {
    "collapsed": false,
    "ExecuteTime": {
     "end_time": "2024-08-10T23:18:58.676627Z",
     "start_time": "2024-08-10T23:18:58.673283Z"
    }
   },
   "outputs": [
    {
     "data": {
      "text/plain": "0       1.41\n1       1.45\n2       1.46\n3       1.47\n4       1.48\n       ...  \n77    182.00\n78    183.00\n79    184.00\n80    192.00\n81       NaN\nName: altura, Length: 82, dtype: float64"
     },
     "execution_count": 107,
     "metadata": {},
     "output_type": "execute_result"
    }
   ],
   "source": [
    "mostrar_unicos('altura')"
   ]
  },
  {
   "cell_type": "code",
   "execution_count": 108,
   "metadata": {
    "collapsed": false,
    "ExecuteTime": {
     "end_time": "2024-08-10T23:18:58.742291Z",
     "start_time": "2024-08-10T23:18:58.737913Z"
    }
   },
   "outputs": [
    {
     "data": {
      "text/plain": "0     1.41\n1     1.45\n2     1.46\n3     1.47\n4     1.48\n5     1.49\n6     1.50\n7     1.51\n8     1.52\n9     1.53\n10    1.54\n11    1.55\n12    1.56\n13    1.57\n14    1.58\n15    1.59\n16    1.60\n17    1.61\n18    1.62\n19    1.63\n20    1.64\n21    1.65\n22    1.66\n23    1.67\n24    1.68\n25    1.69\n26    1.70\n27    1.71\n28    1.72\n29    1.73\n30    1.74\n31    1.75\n32    1.76\n33    1.77\n34    1.78\n35    1.79\n36    1.80\n37    1.81\n38    1.82\n39    1.83\n40    1.84\n41    1.85\n42    1.86\n43    1.87\n44    1.92\n45    2.00\n46     NaN\nName: altura, dtype: float64"
     },
     "execution_count": 108,
     "metadata": {},
     "output_type": "execute_result"
    }
   ],
   "source": [
    "datos.loc[datos['altura'].between(3, 200, inclusive='right'), 'altura'] = datos['altura'] / 100\n",
    "mostrar_unicos('altura')"
   ]
  },
  {
   "attachments": {},
   "cell_type": "markdown",
   "metadata": {
    "collapsed": false
   },
   "source": [
    "Se imputa con la mediana"
   ]
  },
  {
   "cell_type": "code",
   "execution_count": 109,
   "metadata": {
    "collapsed": false,
    "ExecuteTime": {
     "end_time": "2024-08-10T23:18:58.957120Z",
     "start_time": "2024-08-10T23:18:58.953869Z"
    }
   },
   "outputs": [],
   "source": [
    "datos['altura'] = datos['altura'].fillna(datos['altura'].median())"
   ]
  },
  {
   "attachments": {},
   "cell_type": "markdown",
   "metadata": {
    "collapsed": false
   },
   "source": [
    "## IMC"
   ]
  },
  {
   "attachments": {},
   "cell_type": "markdown",
   "metadata": {
    "collapsed": false
   },
   "source": [
    "- `IMC`: ¿el encuestado conoce su IMC?\n",
    "- `IMC2`: si lo conoce, se indica el valor\n"
   ]
  },
  {
   "cell_type": "code",
   "execution_count": 110,
   "metadata": {
    "collapsed": false,
    "ExecuteTime": {
     "end_time": "2024-08-10T23:18:59.043524Z",
     "start_time": "2024-08-10T23:18:59.040512Z"
    }
   },
   "outputs": [
    {
     "data": {
      "text/plain": "0    -oth-\n1       A2\n2       A3\n3       A4\n4      NaN\nName: IMC, dtype: object"
     },
     "execution_count": 110,
     "metadata": {},
     "output_type": "execute_result"
    }
   ],
   "source": [
    "mostrar_unicos('IMC')"
   ]
  },
  {
   "cell_type": "code",
   "execution_count": 111,
   "metadata": {
    "collapsed": false,
    "ExecuteTime": {
     "end_time": "2024-08-10T23:18:59.214080Z",
     "start_time": "2024-08-10T23:18:59.211250Z"
    }
   },
   "outputs": [
    {
     "data": {
      "text/plain": "{'A2': 'Sí_1', 'A3': 'No_2', 'A4': 'No se que es Índice de Masa Corporal_3'}"
     },
     "execution_count": 111,
     "metadata": {},
     "output_type": "execute_result"
    }
   ],
   "source": [
    "mapeo_respuestas['IMC']"
   ]
  },
  {
   "attachments": {},
   "cell_type": "markdown",
   "metadata": {
    "collapsed": false
   },
   "source": [
    "Muchas personas anotan su IMC en la columna `IMC[other]`, se extrae el valor numérico:"
   ]
  },
  {
   "cell_type": "code",
   "execution_count": 112,
   "metadata": {
    "collapsed": false,
    "ExecuteTime": {
     "end_time": "2024-08-10T23:18:59.265254Z",
     "start_time": "2024-08-10T23:18:59.262405Z"
    }
   },
   "outputs": [
    {
     "data": {
      "text/plain": "0          18.5\n1         19.49\n2         20.78\n3          20.9\n4          22.7\n5          23.2\n6          24.5\n7          24.6\n8          28.4\n9          36.1\n10    APROX. 21\n11          NaN\nName: IMC[other], dtype: object"
     },
     "execution_count": 112,
     "metadata": {},
     "output_type": "execute_result"
    }
   ],
   "source": [
    "mostrar_unicos('IMC[other]')"
   ]
  },
  {
   "attachments": {},
   "cell_type": "markdown",
   "metadata": {
    "collapsed": false
   },
   "source": [
    "Primero se limpia la columna:"
   ]
  },
  {
   "cell_type": "code",
   "execution_count": 113,
   "metadata": {
    "collapsed": false,
    "ExecuteTime": {
     "end_time": "2024-08-10T23:18:59.438474Z",
     "start_time": "2024-08-10T23:18:59.434479Z"
    }
   },
   "outputs": [
    {
     "data": {
      "text/plain": "0     18.50\n1     19.49\n2     20.78\n3     20.90\n4     21.00\n5     22.70\n6     23.20\n7     24.50\n8     24.60\n9     28.40\n10    36.10\n11      NaN\nName: IMC[other], dtype: float64"
     },
     "execution_count": 113,
     "metadata": {},
     "output_type": "execute_result"
    }
   ],
   "source": [
    "datos['IMC[other]'] = (\n",
    "    datos['IMC[other]']\n",
    "    .str.replace(r'APROX\\.\\s+', '', regex=True)\n",
    "    .astype('float')\n",
    ")\n",
    "mostrar_unicos('IMC[other]')"
   ]
  },
  {
   "attachments": {},
   "cell_type": "markdown",
   "metadata": {
    "collapsed": false
   },
   "source": [
    "Se combina los valores numéricos con los de la columna `IMC2`:"
   ]
  },
  {
   "cell_type": "code",
   "execution_count": 114,
   "metadata": {
    "collapsed": false,
    "ExecuteTime": {
     "end_time": "2024-08-10T23:18:59.522217Z",
     "start_time": "2024-08-10T23:18:59.518580Z"
    }
   },
   "outputs": [
    {
     "data": {
      "text/plain": "0        8.0\n1       14.0\n2       17.6\n3       17.9\n4       18.0\n       ...  \n64      35.9\n65      38.0\n66      44.0\n67    1959.0\n68       NaN\nName: IMC2, Length: 69, dtype: float64"
     },
     "execution_count": 114,
     "metadata": {},
     "output_type": "execute_result"
    }
   ],
   "source": [
    "mostrar_unicos('IMC2')"
   ]
  },
  {
   "cell_type": "code",
   "execution_count": 115,
   "metadata": {
    "collapsed": false,
    "ExecuteTime": {
     "end_time": "2024-08-10T23:18:59.716745Z",
     "start_time": "2024-08-10T23:18:59.711598Z"
    }
   },
   "outputs": [
    {
     "data": {
      "text/plain": "0        8.0\n1       14.0\n2       17.6\n3       17.9\n4       18.0\n       ...  \n71      36.1\n72      38.0\n73      44.0\n74    1959.0\n75       NaN\nName: IMC2, Length: 76, dtype: float64"
     },
     "execution_count": 115,
     "metadata": {},
     "output_type": "execute_result"
    }
   ],
   "source": [
    "datos['IMC2'] = datos['IMC2'].combine_first(datos['IMC[other]'])\n",
    "datos.drop(columns='IMC[other]', inplace=True)\n",
    "mostrar_unicos('IMC2')"
   ]
  },
  {
   "attachments": {},
   "cell_type": "markdown",
   "metadata": {
    "collapsed": false
   },
   "source": [
    "Ahora se corrige los valores atípicos"
   ]
  },
  {
   "cell_type": "code",
   "execution_count": 116,
   "metadata": {
    "collapsed": false,
    "ExecuteTime": {
     "end_time": "2024-08-10T23:18:59.773442Z",
     "start_time": "2024-08-10T23:18:59.768801Z"
    }
   },
   "outputs": [
    {
     "data": {
      "text/plain": "0      8.0\n1     14.0\n2     17.6\n3     17.9\n4     18.0\n      ... \n71    35.9\n72    36.1\n73    38.0\n74    44.0\n75     NaN\nName: IMC2, Length: 76, dtype: float64"
     },
     "execution_count": 116,
     "metadata": {},
     "output_type": "execute_result"
    }
   ],
   "source": [
    "datos.loc[datos['IMC2'] > 100, 'IMC2'] = datos['IMC2'] / 10\n",
    "datos.loc[datos['IMC2'] > 100, 'IMC2'] = datos['IMC2'] / 10\n",
    "datos['IMC2'] = datos['IMC2'].round(2)\n",
    "mostrar_unicos('IMC2')"
   ]
  },
  {
   "attachments": {},
   "cell_type": "markdown",
   "metadata": {
    "collapsed": false
   },
   "source": [
    "Entonces en algunos casos \"other\" se puede cambiar por \"A2\" y en otros por \"A3\":"
   ]
  },
  {
   "cell_type": "code",
   "execution_count": 117,
   "metadata": {
    "collapsed": false,
    "ExecuteTime": {
     "end_time": "2024-08-10T23:18:59.953921Z",
     "start_time": "2024-08-10T23:18:59.950981Z"
    }
   },
   "outputs": [],
   "source": [
    "filtro_otros = (datos['IMC'] == '-oth-') | datos['IMC'].isna()\n",
    "datos.loc[filtro_otros & datos['IMC2'].notna(), 'IMC'] = 'A2'\n",
    "datos.loc[filtro_otros & datos['IMC2'].isna(), 'IMC'] = 'A3'"
   ]
  },
  {
   "cell_type": "code",
   "execution_count": 118,
   "metadata": {
    "collapsed": false,
    "ExecuteTime": {
     "end_time": "2024-08-10T23:19:00.031413Z",
     "start_time": "2024-08-10T23:19:00.029020Z"
    }
   },
   "outputs": [],
   "source": [
    "datos.loc[datos['IMC2'].notna(), 'IMC'] = 'A2'\n",
    "datos.loc[(datos['IMC'] == '-oth-') & (datos['IMC2'].notna()), 'IMC'] = 'A2'"
   ]
  },
  {
   "cell_type": "code",
   "execution_count": 119,
   "metadata": {
    "collapsed": false,
    "ExecuteTime": {
     "end_time": "2024-08-10T23:19:00.182652Z",
     "start_time": "2024-08-10T23:19:00.179913Z"
    }
   },
   "outputs": [
    {
     "name": "stderr",
     "output_type": "stream",
     "text": [
      "/Users/erickavendanogarcia/Downloads/servicio_social/encuestas/auxiliar_4.py:143: FutureWarning: A value is trying to be set on a copy of a DataFrame or Series through chained assignment using an inplace method.\n",
      "The behavior will change in pandas 3.0. This inplace method will never work because the intermediate object on which we are setting values always behaves as a copy.\n",
      "\n",
      "For example, when doing 'df[col].method(value, inplace=True)', try using 'df.method({col: value}, inplace=True)' or df[col] = df[col].method(value) instead, to perform the operation inplace on the original object.\n",
      "\n",
      "\n",
      "  df[columna].fillna(valor, inplace=True)\n"
     ]
    },
    {
     "data": {
      "text/plain": "0    A2\n1    A3\n2    A4\nName: IMC, dtype: object"
     },
     "execution_count": 119,
     "metadata": {},
     "output_type": "execute_result"
    }
   ],
   "source": [
    "llenar_vacios('IMC', '901')\n",
    "mostrar_unicos('IMC')"
   ]
  },
  {
   "cell_type": "code",
   "execution_count": 120,
   "metadata": {
    "collapsed": false,
    "ExecuteTime": {
     "end_time": "2024-08-10T23:19:00.233193Z",
     "start_time": "2024-08-10T23:19:00.230599Z"
    }
   },
   "outputs": [
    {
     "data": {
      "text/plain": "601"
     },
     "execution_count": 120,
     "metadata": {},
     "output_type": "execute_result"
    }
   ],
   "source": [
    "b = datos['IMC'] == 'A3'\n",
    "a = datos['IMC2'].isna()\n",
    "(b & a).sum()"
   ]
  },
  {
   "cell_type": "code",
   "execution_count": 121,
   "metadata": {
    "collapsed": false,
    "ExecuteTime": {
     "end_time": "2024-08-10T23:19:00.367852Z",
     "start_time": "2024-08-10T23:19:00.364275Z"
    }
   },
   "outputs": [
    {
     "data": {
      "text/plain": "0       8.0\n1      14.0\n2      17.6\n3      17.9\n4      18.0\n      ...  \n72     36.1\n73     38.0\n74     44.0\n75    901.0\n76      NaN\nName: IMC2, Length: 77, dtype: float64"
     },
     "execution_count": 121,
     "metadata": {},
     "output_type": "execute_result"
    }
   ],
   "source": [
    "no_conoce_imc = datos['IMC'] == 'A3'\n",
    "sin_imc = datos['IMC2'].isna() | (datos['IMC2'] == 0)\n",
    "datos.loc[no_conoce_imc & sin_imc, 'IMC2'] = 901\n",
    "mostrar_unicos('IMC2')"
   ]
  },
  {
   "cell_type": "code",
   "execution_count": 122,
   "metadata": {
    "collapsed": false,
    "ExecuteTime": {
     "end_time": "2024-08-10T23:19:00.427726Z",
     "start_time": "2024-08-10T23:19:00.425455Z"
    }
   },
   "outputs": [],
   "source": [
    "imc_calculado = (datos['pesoactual'] / datos['altura'] ** 2).round(2)\n",
    "datos.insert(datos.columns.get_loc('IMC2') + 1, 'IMC3', imc_calculado)"
   ]
  },
  {
   "cell_type": "code",
   "execution_count": 123,
   "metadata": {
    "collapsed": false,
    "ExecuteTime": {
     "end_time": "2024-08-10T23:19:00.577482Z",
     "start_time": "2024-08-10T23:19:00.569965Z"
    }
   },
   "outputs": [
    {
     "data": {
      "text/plain": "      id           submitdate  lastpage startlanguage        seed  \\\n0     67  2021-03-27 13:32:28         5         es-MX   909191565   \n1     68  2021-03-27 19:38:43         5         es-MX    99489830   \n2     69  2021-03-29 11:47:46         5         es-MX  1592450376   \n3     70  2021-03-29 12:37:20         5         es-MX   762883078   \n4     71  2021-03-29 14:33:34         5         es-MX  1746037044   \n..   ...                  ...       ...           ...         ...   \n718  851  2022-10-29 17:28:54         5         es-MX   584177600   \n719  852  2022-10-29 18:20:26         5         es-MX   921555126   \n720  853  2022-10-29 20:23:28         5         es-MX   114360708   \n721  854  2022-10-31 19:02:54         5         es-MX  2117179292   \n722  855  2022-11-02 16:10:17         5         es-MX  1261428857   \n\n               startdate            datestamp encuestador conset q35  ...  \\\n0    2021-03-27 13:03:10  2021-03-27 13:32:28         A13      Y   Y  ...   \n1    2021-03-27 19:07:21  2021-03-27 19:38:43         A13      Y   Y  ...   \n2    2021-03-29 11:04:42  2021-03-29 11:47:46         A07      Y   Y  ...   \n3    2021-03-29 12:04:01  2021-03-29 12:37:20         A04      Y   Y  ...   \n4    2021-03-29 14:00:48  2021-03-29 14:33:34         A03      Y   Y  ...   \n..                   ...                  ...         ...    ...  ..  ...   \n718  2022-10-29 17:07:05  2022-10-29 17:28:54         A05      Y   Y  ...   \n719  2022-10-29 18:02:41  2022-10-29 18:20:26         A05      Y   Y  ...   \n720  2022-10-29 20:02:20  2022-10-29 20:23:28         A05      Y   Y  ...   \n721  2022-10-31 18:32:54  2022-10-31 19:02:54         A11      Y   Y  ...   \n722  2022-11-02 15:45:47  2022-11-02 16:10:17         A05      Y   Y  ...   \n\n            y65[SQ002]   y65[SQ003]   y65[SQ004]   y65[SQ005]   y65[SQ006]  \\\n0            NECESARIO   IMPORTANTE       SOCIAL   PROTECCION  AUTOCUIDADO   \n1         ESTIMULACION     NEURONAL    CONEXION    LONGEVIDAD   FORTALEZA    \n2             HOSPITAL   ENFERMEDAD        COVID     PANDEMIA    NECESARIO   \n3                virus     pandemia    situacion       global       estres   \n4             PANDEMIA   PREVENCION   ENFERMEDAD   CUARENTENA    NECESARIO   \n..                 ...          ...          ...          ...          ...   \n718  MALA ALIMENTACION          NaN          NaN          NaN          NaN   \n719            CIENCIA      TERMINO  AUTOCUIDADO          NaN          NaN   \n720         DISCIPLINA        SALUD        BUENO  CONSCIENCIA     RIGUROSO   \n721          bienestar  constancia        cuerpo        sudor   autoestima   \n722           CONTAGIO   CONGESTION    ESTORNUDO  RESPIRACION       OLORES   \n\n     y65[SQ007] y65[SQ008]  y65[SQ009] y65[SQ010] sdfds3  \n0       FAMILIA      SALUD       COVID   HOSPITAL   10.0  \n1           NaN        NaN         NaN        NaN    6.0  \n2          UTIL   INCOMODO         NaN        NaN    8.0  \n3      ansiedad    muertes         NaN        NaN    8.0  \n4         SALUD   INCOMODO         NaN        NaN    8.0  \n..          ...        ...         ...        ...    ...  \n718         NaN        NaN         NaN        NaN    2.0  \n719         NaN        NaN         NaN        NaN    4.0  \n720      TIEMPO        NaN         NaN        NaN    7.0  \n721        reto   atención  diversión         paz   10.0  \n722   ESCONDITE       ACNE         NaN        NaN    8.0  \n\n[722 rows x 264 columns]",
      "text/html": "<div>\n<style scoped>\n    .dataframe tbody tr th:only-of-type {\n        vertical-align: middle;\n    }\n\n    .dataframe tbody tr th {\n        vertical-align: top;\n    }\n\n    .dataframe thead th {\n        text-align: right;\n    }\n</style>\n<table border=\"1\" class=\"dataframe\">\n  <thead>\n    <tr style=\"text-align: right;\">\n      <th></th>\n      <th>id</th>\n      <th>submitdate</th>\n      <th>lastpage</th>\n      <th>startlanguage</th>\n      <th>seed</th>\n      <th>startdate</th>\n      <th>datestamp</th>\n      <th>encuestador</th>\n      <th>conset</th>\n      <th>q35</th>\n      <th>...</th>\n      <th>y65[SQ002]</th>\n      <th>y65[SQ003]</th>\n      <th>y65[SQ004]</th>\n      <th>y65[SQ005]</th>\n      <th>y65[SQ006]</th>\n      <th>y65[SQ007]</th>\n      <th>y65[SQ008]</th>\n      <th>y65[SQ009]</th>\n      <th>y65[SQ010]</th>\n      <th>sdfds3</th>\n    </tr>\n  </thead>\n  <tbody>\n    <tr>\n      <th>0</th>\n      <td>67</td>\n      <td>2021-03-27 13:32:28</td>\n      <td>5</td>\n      <td>es-MX</td>\n      <td>909191565</td>\n      <td>2021-03-27 13:03:10</td>\n      <td>2021-03-27 13:32:28</td>\n      <td>A13</td>\n      <td>Y</td>\n      <td>Y</td>\n      <td>...</td>\n      <td>NECESARIO</td>\n      <td>IMPORTANTE</td>\n      <td>SOCIAL</td>\n      <td>PROTECCION</td>\n      <td>AUTOCUIDADO</td>\n      <td>FAMILIA</td>\n      <td>SALUD</td>\n      <td>COVID</td>\n      <td>HOSPITAL</td>\n      <td>10.0</td>\n    </tr>\n    <tr>\n      <th>1</th>\n      <td>68</td>\n      <td>2021-03-27 19:38:43</td>\n      <td>5</td>\n      <td>es-MX</td>\n      <td>99489830</td>\n      <td>2021-03-27 19:07:21</td>\n      <td>2021-03-27 19:38:43</td>\n      <td>A13</td>\n      <td>Y</td>\n      <td>Y</td>\n      <td>...</td>\n      <td>ESTIMULACION</td>\n      <td>NEURONAL</td>\n      <td>CONEXION</td>\n      <td>LONGEVIDAD</td>\n      <td>FORTALEZA</td>\n      <td>NaN</td>\n      <td>NaN</td>\n      <td>NaN</td>\n      <td>NaN</td>\n      <td>6.0</td>\n    </tr>\n    <tr>\n      <th>2</th>\n      <td>69</td>\n      <td>2021-03-29 11:47:46</td>\n      <td>5</td>\n      <td>es-MX</td>\n      <td>1592450376</td>\n      <td>2021-03-29 11:04:42</td>\n      <td>2021-03-29 11:47:46</td>\n      <td>A07</td>\n      <td>Y</td>\n      <td>Y</td>\n      <td>...</td>\n      <td>HOSPITAL</td>\n      <td>ENFERMEDAD</td>\n      <td>COVID</td>\n      <td>PANDEMIA</td>\n      <td>NECESARIO</td>\n      <td>UTIL</td>\n      <td>INCOMODO</td>\n      <td>NaN</td>\n      <td>NaN</td>\n      <td>8.0</td>\n    </tr>\n    <tr>\n      <th>3</th>\n      <td>70</td>\n      <td>2021-03-29 12:37:20</td>\n      <td>5</td>\n      <td>es-MX</td>\n      <td>762883078</td>\n      <td>2021-03-29 12:04:01</td>\n      <td>2021-03-29 12:37:20</td>\n      <td>A04</td>\n      <td>Y</td>\n      <td>Y</td>\n      <td>...</td>\n      <td>virus</td>\n      <td>pandemia</td>\n      <td>situacion</td>\n      <td>global</td>\n      <td>estres</td>\n      <td>ansiedad</td>\n      <td>muertes</td>\n      <td>NaN</td>\n      <td>NaN</td>\n      <td>8.0</td>\n    </tr>\n    <tr>\n      <th>4</th>\n      <td>71</td>\n      <td>2021-03-29 14:33:34</td>\n      <td>5</td>\n      <td>es-MX</td>\n      <td>1746037044</td>\n      <td>2021-03-29 14:00:48</td>\n      <td>2021-03-29 14:33:34</td>\n      <td>A03</td>\n      <td>Y</td>\n      <td>Y</td>\n      <td>...</td>\n      <td>PANDEMIA</td>\n      <td>PREVENCION</td>\n      <td>ENFERMEDAD</td>\n      <td>CUARENTENA</td>\n      <td>NECESARIO</td>\n      <td>SALUD</td>\n      <td>INCOMODO</td>\n      <td>NaN</td>\n      <td>NaN</td>\n      <td>8.0</td>\n    </tr>\n    <tr>\n      <th>...</th>\n      <td>...</td>\n      <td>...</td>\n      <td>...</td>\n      <td>...</td>\n      <td>...</td>\n      <td>...</td>\n      <td>...</td>\n      <td>...</td>\n      <td>...</td>\n      <td>...</td>\n      <td>...</td>\n      <td>...</td>\n      <td>...</td>\n      <td>...</td>\n      <td>...</td>\n      <td>...</td>\n      <td>...</td>\n      <td>...</td>\n      <td>...</td>\n      <td>...</td>\n      <td>...</td>\n    </tr>\n    <tr>\n      <th>718</th>\n      <td>851</td>\n      <td>2022-10-29 17:28:54</td>\n      <td>5</td>\n      <td>es-MX</td>\n      <td>584177600</td>\n      <td>2022-10-29 17:07:05</td>\n      <td>2022-10-29 17:28:54</td>\n      <td>A05</td>\n      <td>Y</td>\n      <td>Y</td>\n      <td>...</td>\n      <td>MALA ALIMENTACION</td>\n      <td>NaN</td>\n      <td>NaN</td>\n      <td>NaN</td>\n      <td>NaN</td>\n      <td>NaN</td>\n      <td>NaN</td>\n      <td>NaN</td>\n      <td>NaN</td>\n      <td>2.0</td>\n    </tr>\n    <tr>\n      <th>719</th>\n      <td>852</td>\n      <td>2022-10-29 18:20:26</td>\n      <td>5</td>\n      <td>es-MX</td>\n      <td>921555126</td>\n      <td>2022-10-29 18:02:41</td>\n      <td>2022-10-29 18:20:26</td>\n      <td>A05</td>\n      <td>Y</td>\n      <td>Y</td>\n      <td>...</td>\n      <td>CIENCIA</td>\n      <td>TERMINO</td>\n      <td>AUTOCUIDADO</td>\n      <td>NaN</td>\n      <td>NaN</td>\n      <td>NaN</td>\n      <td>NaN</td>\n      <td>NaN</td>\n      <td>NaN</td>\n      <td>4.0</td>\n    </tr>\n    <tr>\n      <th>720</th>\n      <td>853</td>\n      <td>2022-10-29 20:23:28</td>\n      <td>5</td>\n      <td>es-MX</td>\n      <td>114360708</td>\n      <td>2022-10-29 20:02:20</td>\n      <td>2022-10-29 20:23:28</td>\n      <td>A05</td>\n      <td>Y</td>\n      <td>Y</td>\n      <td>...</td>\n      <td>DISCIPLINA</td>\n      <td>SALUD</td>\n      <td>BUENO</td>\n      <td>CONSCIENCIA</td>\n      <td>RIGUROSO</td>\n      <td>TIEMPO</td>\n      <td>NaN</td>\n      <td>NaN</td>\n      <td>NaN</td>\n      <td>7.0</td>\n    </tr>\n    <tr>\n      <th>721</th>\n      <td>854</td>\n      <td>2022-10-31 19:02:54</td>\n      <td>5</td>\n      <td>es-MX</td>\n      <td>2117179292</td>\n      <td>2022-10-31 18:32:54</td>\n      <td>2022-10-31 19:02:54</td>\n      <td>A11</td>\n      <td>Y</td>\n      <td>Y</td>\n      <td>...</td>\n      <td>bienestar</td>\n      <td>constancia</td>\n      <td>cuerpo</td>\n      <td>sudor</td>\n      <td>autoestima</td>\n      <td>reto</td>\n      <td>atención</td>\n      <td>diversión</td>\n      <td>paz</td>\n      <td>10.0</td>\n    </tr>\n    <tr>\n      <th>722</th>\n      <td>855</td>\n      <td>2022-11-02 16:10:17</td>\n      <td>5</td>\n      <td>es-MX</td>\n      <td>1261428857</td>\n      <td>2022-11-02 15:45:47</td>\n      <td>2022-11-02 16:10:17</td>\n      <td>A05</td>\n      <td>Y</td>\n      <td>Y</td>\n      <td>...</td>\n      <td>CONTAGIO</td>\n      <td>CONGESTION</td>\n      <td>ESTORNUDO</td>\n      <td>RESPIRACION</td>\n      <td>OLORES</td>\n      <td>ESCONDITE</td>\n      <td>ACNE</td>\n      <td>NaN</td>\n      <td>NaN</td>\n      <td>8.0</td>\n    </tr>\n  </tbody>\n</table>\n<p>722 rows × 264 columns</p>\n</div>"
     },
     "execution_count": 123,
     "metadata": {},
     "output_type": "execute_result"
    }
   ],
   "source": [
    "datos"
   ]
  },
  {
   "attachments": {},
   "cell_type": "markdown",
   "metadata": {
    "collapsed": false
   },
   "source": [
    "## Enfermedades (dxcronica)"
   ]
  },
  {
   "attachments": {},
   "cell_type": "markdown",
   "metadata": {
    "collapsed": false
   },
   "source": [
    "Se pregunta sobre si el encuestado ha sido diganósticado con alguna enfermedad y en caso de que sí, a qué edad. Entonces, para cada enfermedad hay dos columnas.\n",
    "Los códigos de cada enfermedad son:\n",
    "- dfb: Sobrepeso u obesidad\n",
    "- dsfh:  Diabetes\n",
    "- shth: Prediabetes\n",
    "- cxbh: Síndrome metabólico\n",
    "- syth:  Hipertensión\n",
    "- svdg: Colesterol alto\n",
    "- ty: Triglicéridos altos\n",
    "- fdsty:  Cáncer\n",
    "- fg:  Algún problema cardiovascular\n",
    "- 4565: Algún problema respiratorio\n",
    "- 36e4: COVID19\n",
    "- 7659ty: Alcoholismo\n",
    "- 345q: Tabaquismo\n",
    "- 867: Trastorno de la alimentación (bulimia, anorexia)\n",
    "- 35: Trastorno de atracón\n",
    "- 76: Ansiedad\n",
    "- 987: Depresión\n",
    "- 2345: Trastorno obsesivo compulsivo\n",
    "- 234: Otra adicción\n",
    "- other: Otro\n",
    "\n",
    "La primer columna de cada enfermedad es de la forma `dx[<enfermedad>]`.\n",
    "La segunda columna de cada enfermedad es de la forma `dx[<enfermedad>comment]`.\n"
   ]
  },
  {
   "attachments": {},
   "cell_type": "markdown",
   "metadata": {
    "collapsed": false
   },
   "source": [
    "Primero se extrae las columnas que contienen información sobre las enfermedades."
   ]
  },
  {
   "cell_type": "code",
   "execution_count": 124,
   "metadata": {
    "collapsed": false,
    "ExecuteTime": {
     "end_time": "2024-08-10T23:19:00.670091Z",
     "start_time": "2024-08-10T23:19:00.667394Z"
    }
   },
   "outputs": [],
   "source": [
    "diccionario.index = diccionario.index.astype(str)\n",
    "\n",
    "filtro_todas = diccionario.index.str.contains(r'dxcronica\\[\\w+\\]', regex=True)\n",
    "filtro_edad = diccionario.index.str.contains(r'dxcronica\\[\\w+comment\\]', regex=True)\n",
    "\n",
    "#filtro_todas = pd.Series(filtro_todas, dtype=bool)\n",
    "#filtro_edad = pd.Series(filtro_edad, dtype=bool)\n",
    "\n",
    "filtro_pregunta = filtro_todas & ~filtro_edad"
   ]
  },
  {
   "cell_type": "code",
   "execution_count": 125,
   "metadata": {
    "collapsed": false,
    "ExecuteTime": {
     "end_time": "2024-08-10T23:19:00.808194Z",
     "start_time": "2024-08-10T23:19:00.805923Z"
    }
   },
   "outputs": [
    {
     "data": {
      "text/plain": "Index(['dxcronica[dfb]', 'dxcronica[dfbcomment]', 'dxcronica[dsfh]',\n       'dxcronica[dsfhcomment]', 'dxcronica[shth]', 'dxcronica[shthcomment]',\n       'dxcronica[cxbh]', 'dxcronica[cxbhcomment]', 'dxcronica[syth]',\n       'dxcronica[sythcomment]', 'dxcronica[svdg]', 'dxcronica[svdgcomment]',\n       'dxcronica[ty]', 'dxcronica[tycomment]', 'dxcronica[fdsty]',\n       'dxcronica[fdstycomment]', 'dxcronica[fg]', 'dxcronica[fgcomment]',\n       'dxcronica[4565]', 'dxcronica[4565comment]', 'dxcronica[36e4]',\n       'dxcronica[36e4comment]', 'dxcronica[7659ty]',\n       'dxcronica[7659tycomment]', 'dxcronica[345q]', 'dxcronica[345qcomment]',\n       'dxcronica[867]', 'dxcronica[867comment]', 'dxcronica[35]',\n       'dxcronica[35comment]', 'dxcronica[76]', 'dxcronica[76comment]',\n       'dxcronica[987]', 'dxcronica[987comment]', 'dxcronica[2345]',\n       'dxcronica[2345comment]', 'dxcronica[234]', 'dxcronica[234comment]',\n       'dxcronica[other]', 'dxcronica[othercomment]'],\n      dtype='object', name='code')"
     },
     "execution_count": 125,
     "metadata": {},
     "output_type": "execute_result"
    }
   ],
   "source": [
    "columnas_enfermedades = diccionario.index[filtro_todas]\n",
    "columnas_enfermedades"
   ]
  },
  {
   "cell_type": "code",
   "execution_count": 126,
   "metadata": {
    "collapsed": false,
    "ExecuteTime": {
     "end_time": "2024-08-10T23:19:00.860749Z",
     "start_time": "2024-08-10T23:19:00.858466Z"
    }
   },
   "outputs": [
    {
     "data": {
      "text/plain": "Index(['dxcronica[dfbcomment]', 'dxcronica[dsfhcomment]',\n       'dxcronica[shthcomment]', 'dxcronica[cxbhcomment]',\n       'dxcronica[sythcomment]', 'dxcronica[svdgcomment]',\n       'dxcronica[tycomment]', 'dxcronica[fdstycomment]',\n       'dxcronica[fgcomment]', 'dxcronica[4565comment]',\n       'dxcronica[36e4comment]', 'dxcronica[7659tycomment]',\n       'dxcronica[345qcomment]', 'dxcronica[867comment]',\n       'dxcronica[35comment]', 'dxcronica[76comment]', 'dxcronica[987comment]',\n       'dxcronica[2345comment]', 'dxcronica[234comment]',\n       'dxcronica[othercomment]'],\n      dtype='object', name='code')"
     },
     "execution_count": 126,
     "metadata": {},
     "output_type": "execute_result"
    }
   ],
   "source": [
    "columnas_edades = diccionario.index[filtro_edad]\n",
    "columnas_edades"
   ]
  },
  {
   "cell_type": "code",
   "execution_count": 127,
   "metadata": {
    "collapsed": false,
    "ExecuteTime": {
     "end_time": "2024-08-10T23:19:00.987279Z",
     "start_time": "2024-08-10T23:19:00.985121Z"
    }
   },
   "outputs": [
    {
     "data": {
      "text/plain": "Index(['dxcronica[dfb]', 'dxcronica[dsfh]', 'dxcronica[shth]',\n       'dxcronica[cxbh]', 'dxcronica[syth]', 'dxcronica[svdg]',\n       'dxcronica[ty]', 'dxcronica[fdsty]', 'dxcronica[fg]', 'dxcronica[4565]',\n       'dxcronica[36e4]', 'dxcronica[7659ty]', 'dxcronica[345q]',\n       'dxcronica[867]', 'dxcronica[35]', 'dxcronica[76]', 'dxcronica[987]',\n       'dxcronica[2345]', 'dxcronica[234]', 'dxcronica[other]'],\n      dtype='object', name='code')"
     },
     "execution_count": 127,
     "metadata": {},
     "output_type": "execute_result"
    }
   ],
   "source": [
    "columnas_preguntas = diccionario.index[filtro_pregunta]\n",
    "columnas_preguntas"
   ]
  },
  {
   "attachments": {},
   "cell_type": "markdown",
   "metadata": {
    "collapsed": false
   },
   "source": [
    "### Preguntas"
   ]
  },
  {
   "cell_type": "code",
   "execution_count": 128,
   "metadata": {
    "collapsed": false,
    "ExecuteTime": {
     "end_time": "2024-08-10T23:19:01.052155Z",
     "start_time": "2024-08-10T23:19:01.047971Z"
    }
   },
   "outputs": [
    {
     "data": {
      "text/plain": "dxcronica[dfb]       0.722992\ndxcronica[dsfh]      0.997230\ndxcronica[shth]      0.981994\ndxcronica[cxbh]      0.995845\ndxcronica[syth]      0.991690\ndxcronica[svdg]      0.963989\ndxcronica[ty]        0.955679\ndxcronica[fdsty]     0.991690\ndxcronica[fg]        0.983380\ndxcronica[4565]      0.908587\ndxcronica[36e4]      0.792244\ndxcronica[7659ty]    0.991690\ndxcronica[345q]      0.977839\ndxcronica[867]       0.957064\ndxcronica[35]        0.975069\ndxcronica[76]        0.771468\ndxcronica[987]       0.807479\ndxcronica[2345]      0.980609\ndxcronica[234]       0.995845\ndxcronica[other]     0.855956\ndtype: float64"
     },
     "execution_count": 128,
     "metadata": {},
     "output_type": "execute_result"
    }
   ],
   "source": [
    "datos[columnas_preguntas].isna().mean()"
   ]
  },
  {
   "attachments": {},
   "cell_type": "markdown",
   "metadata": {
    "collapsed": false
   },
   "source": [
    "La mayoría de las columnas de pregunta solo tienen dos tipos de valores, así que los faltantes se llenan con `B2` ya que no dependen de la pandemia:"
   ]
  },
  {
   "cell_type": "code",
   "execution_count": 129,
   "metadata": {
    "collapsed": false,
    "ExecuteTime": {
     "end_time": "2024-08-10T23:19:01.219216Z",
     "start_time": "2024-08-10T23:19:01.213446Z"
    }
   },
   "outputs": [
    {
     "name": "stdout",
     "output_type": "stream",
     "text": [
      "0      Y\n",
      "1    NaN\n",
      "Name: dxcronica[dfb], dtype: object\n",
      "0      Y\n",
      "1    NaN\n",
      "Name: dxcronica[dsfh], dtype: object\n",
      "0      Y\n",
      "1    NaN\n",
      "Name: dxcronica[shth], dtype: object\n",
      "0      Y\n",
      "1    NaN\n",
      "Name: dxcronica[cxbh], dtype: object\n",
      "0      Y\n",
      "1    NaN\n",
      "Name: dxcronica[syth], dtype: object\n",
      "0      Y\n",
      "1    NaN\n",
      "Name: dxcronica[svdg], dtype: object\n",
      "0      Y\n",
      "1    NaN\n",
      "Name: dxcronica[ty], dtype: object\n",
      "0      Y\n",
      "1    NaN\n",
      "Name: dxcronica[fdsty], dtype: object\n",
      "0      Y\n",
      "1    NaN\n",
      "Name: dxcronica[fg], dtype: object\n",
      "0      Y\n",
      "1    NaN\n",
      "Name: dxcronica[4565], dtype: object\n",
      "0      Y\n",
      "1    NaN\n",
      "Name: dxcronica[36e4], dtype: object\n",
      "0      Y\n",
      "1    NaN\n",
      "Name: dxcronica[7659ty], dtype: object\n",
      "0      Y\n",
      "1    NaN\n",
      "Name: dxcronica[345q], dtype: object\n",
      "0      Y\n",
      "1    NaN\n",
      "Name: dxcronica[867], dtype: object\n",
      "0      Y\n",
      "1    NaN\n",
      "Name: dxcronica[35], dtype: object\n",
      "0      Y\n",
      "1    NaN\n",
      "Name: dxcronica[76], dtype: object\n",
      "0      Y\n",
      "1    NaN\n",
      "Name: dxcronica[987], dtype: object\n",
      "0      Y\n",
      "1    NaN\n",
      "Name: dxcronica[2345], dtype: object\n",
      "0      Y\n",
      "1    NaN\n",
      "Name: dxcronica[234], dtype: object\n",
      "0                                         ACALASIA\n",
      "1                              ALERGIA ALIMENTARIA\n",
      "2                                         ALERGIAS\n",
      "3     ALERGIAS, ROTOESCOLIOSIS CON ESPINA BIFIDA, \n",
      "4                                           ANEMIA\n",
      "                          ...                     \n",
      "83                                        rosasea \n",
      "84                 sindrome de ovario poliquistico\n",
      "85            transtorno por estres postraumatico \n",
      "86                                             vph\n",
      "87                                             NaN\n",
      "Name: dxcronica[other], Length: 88, dtype: object\n"
     ]
    }
   ],
   "source": [
    "for col in columnas_preguntas:\n",
    "    print(mostrar_unicos(col))"
   ]
  },
  {
   "cell_type": "code",
   "execution_count": 130,
   "metadata": {
    "collapsed": false,
    "ExecuteTime": {
     "end_time": "2024-08-10T23:19:01.298373Z",
     "start_time": "2024-08-10T23:19:01.293229Z"
    }
   },
   "outputs": [
    {
     "name": "stderr",
     "output_type": "stream",
     "text": [
      "/Users/erickavendanogarcia/Downloads/servicio_social/encuestas/auxiliar_4.py:143: FutureWarning: A value is trying to be set on a copy of a DataFrame or Series through chained assignment using an inplace method.\n",
      "The behavior will change in pandas 3.0. This inplace method will never work because the intermediate object on which we are setting values always behaves as a copy.\n",
      "\n",
      "For example, when doing 'df[col].method(value, inplace=True)', try using 'df.method({col: value}, inplace=True)' or df[col] = df[col].method(value) instead, to perform the operation inplace on the original object.\n",
      "\n",
      "\n",
      "  df[columna].fillna(valor, inplace=True)\n"
     ]
    }
   ],
   "source": [
    "for col in columnas_preguntas:\n",
    "    llenar_vacios(col, 'B2')"
   ]
  },
  {
   "attachments": {},
   "cell_type": "markdown",
   "metadata": {
    "collapsed": false
   },
   "source": [
    "### Edades"
   ]
  },
  {
   "attachments": {},
   "cell_type": "markdown",
   "metadata": {
    "collapsed": false
   },
   "source": [
    "Las respuestas son muy irregulares, a pesar de que se esperan valores numéricos (salvo en la pregunta \"otro\"):"
   ]
  },
  {
   "cell_type": "code",
   "execution_count": 131,
   "metadata": {
    "collapsed": false,
    "ExecuteTime": {
     "end_time": "2024-08-10T23:19:01.454531Z",
     "start_time": "2024-08-10T23:19:01.447373Z"
    }
   },
   "outputs": [
    {
     "name": "stdout",
     "output_type": "stream",
     "text": [
      "0               10\n",
      "1            10 11\n",
      "2               11\n",
      "3               12\n",
      "4               13\n",
      "5               14\n",
      "6               15\n",
      "7               16\n",
      "8               17\n",
      "9               18\n",
      "10         18 años\n",
      "11              19\n",
      "12               2\n",
      "13              20\n",
      "14              21\n",
      "15              22\n",
      "16              23\n",
      "17              26\n",
      "18              28\n",
      "19               3\n",
      "20              30\n",
      "21              31\n",
      "22              32\n",
      "23              33\n",
      "24              34\n",
      "25              35\n",
      "26              36\n",
      "27               4\n",
      "28               5\n",
      "29              50\n",
      "30               6\n",
      "31               7\n",
      "32               8\n",
      "33               9\n",
      "34    sobrepeso 20\n",
      "35             NaN\n",
      "Name: dxcronica[dfbcomment], dtype: object\n",
      "0    17.0\n",
      "1    44.0\n",
      "2     NaN\n",
      "Name: dxcronica[dsfhcomment], dtype: float64\n",
      "0     10-12\n",
      "1        12\n",
      "2        15\n",
      "3        17\n",
      "4        18\n",
      "5        19\n",
      "6        21\n",
      "7        22\n",
      "8        23\n",
      "9        30\n",
      "10       37\n",
      "11      NaN\n",
      "Name: dxcronica[shthcomment], dtype: object\n",
      "0    20.0\n",
      "1    25.0\n",
      "2    37.0\n",
      "3     NaN\n",
      "Name: dxcronica[cxbhcomment], dtype: float64\n",
      "0    18.0\n",
      "1    21.0\n",
      "2    28.0\n",
      "3    34.0\n",
      "4    35.0\n",
      "5    37.0\n",
      "6     NaN\n",
      "Name: dxcronica[sythcomment], dtype: float64\n",
      "0          10\n",
      "1          11\n",
      "2          12\n",
      "3          13\n",
      "4          15\n",
      "5          17\n",
      "6          18\n",
      "7          19\n",
      "8          20\n",
      "9     20 años\n",
      "10         25\n",
      "11         26\n",
      "12         30\n",
      "13         34\n",
      "14         40\n",
      "15          9\n",
      "16        NaN\n",
      "Name: dxcronica[svdgcomment], dtype: object\n",
      "0          12\n",
      "1          13\n",
      "2          15\n",
      "3          18\n",
      "4          19\n",
      "5          20\n",
      "6     20 años\n",
      "7          22\n",
      "8          24\n",
      "9          25\n",
      "10         27\n",
      "11         30\n",
      "12         31\n",
      "13         34\n",
      "14         37\n",
      "15         39\n",
      "16         40\n",
      "17        NaN\n",
      "Name: dxcronica[tycomment], dtype: object\n",
      "0     2.5\n",
      "1    11.0\n",
      "2    18.0\n",
      "3    20.0\n",
      "4    30.0\n",
      "5    38.0\n",
      "6     NaN\n",
      "Name: dxcronica[fdstycomment], dtype: float64\n",
      "0                 0\n",
      "1                12\n",
      "2                14\n",
      "3                16\n",
      "4                17\n",
      "5                18\n",
      "6                25\n",
      "7                39\n",
      "8                 5\n",
      "9     Recién nacida\n",
      "10      nacimiento \n",
      "11              NaN\n",
      "Name: dxcronica[fgcomment], dtype: object\n",
      "0               0\n",
      "1               1\n",
      "2              10\n",
      "3              11\n",
      "4              12\n",
      "5              13\n",
      "6              15\n",
      "7              16\n",
      "8              17\n",
      "9              19\n",
      "10             21\n",
      "11             23\n",
      "12              3\n",
      "13              4\n",
      "14             40\n",
      "15              5\n",
      "16              6\n",
      "17              7\n",
      "18              8\n",
      "19        8 meses\n",
      "20              9\n",
      "21        asma 12\n",
      "22    asma 4 años\n",
      "23            NaN\n",
      "Name: dxcronica[4565comment], dtype: object\n",
      "0             17\n",
      "1             18\n",
      "2             19\n",
      "3             20\n",
      "4           2020\n",
      "5             21\n",
      "6             22\n",
      "7        22 años\n",
      "8             23\n",
      "9             24\n",
      "10            25\n",
      "11            26\n",
      "12            27\n",
      "13            28\n",
      "14            30\n",
      "15            31\n",
      "16            32\n",
      "17            34\n",
      "18            38\n",
      "19            39\n",
      "20            41\n",
      "21            52\n",
      "22    junio 2020\n",
      "23           NaN\n",
      "Name: dxcronica[36e4comment], dtype: object\n",
      "0         14\n",
      "1         16\n",
      "2         19\n",
      "3    19 a 25\n",
      "4         25\n",
      "5        NaN\n",
      "Name: dxcronica[7659tycomment], dtype: object\n",
      "0    12.0\n",
      "1    14.0\n",
      "2    16.0\n",
      "3    17.0\n",
      "4    18.0\n",
      "5    19.0\n",
      "6    21.0\n",
      "7    22.0\n",
      "8     NaN\n",
      "Name: dxcronica[345qcomment], dtype: float64\n",
      "0       12\n",
      "1       14\n",
      "2       15\n",
      "3       16\n",
      "4       17\n",
      "5       18\n",
      "6       19\n",
      "7       20\n",
      "8        8\n",
      "9     9 17\n",
      "10     NaN\n",
      "Name: dxcronica[867comment], dtype: object\n",
      "0        10\n",
      "1     12 13\n",
      "2     12 17\n",
      "3        13\n",
      "4        15\n",
      "5        17\n",
      "6        18\n",
      "7        19\n",
      "8        20\n",
      "9        25\n",
      "10      NaN\n",
      "Name: dxcronica[35comment], dtype: object\n",
      "0          11\n",
      "1          12\n",
      "2          13\n",
      "3          14\n",
      "4          15\n",
      "5          16\n",
      "6          17\n",
      "7          18\n",
      "8          19\n",
      "9          20\n",
      "10       2019\n",
      "11         21\n",
      "12         22\n",
      "13    22 años\n",
      "14         24\n",
      "15         25\n",
      "16         26\n",
      "17         28\n",
      "18         30\n",
      "19         31\n",
      "20         32\n",
      "21         35\n",
      "22         36\n",
      "23         37\n",
      "24         43\n",
      "25         52\n",
      "26          7\n",
      "27          8\n",
      "28        NaN\n",
      "Name: dxcronica[76comment], dtype: object\n",
      "0          12\n",
      "1          13\n",
      "2       13 14\n",
      "3          14\n",
      "4          15\n",
      "5          16\n",
      "6          17\n",
      "7     17 años\n",
      "8          18\n",
      "9          19\n",
      "10         20\n",
      "11         21\n",
      "12         22\n",
      "13         23\n",
      "14         26\n",
      "15         27\n",
      "16         29\n",
      "17         30\n",
      "18         36\n",
      "19         37\n",
      "20         40\n",
      "21         43\n",
      "22         44\n",
      "23        NaN\n",
      "Name: dxcronica[987comment], dtype: object\n",
      "0     6.0\n",
      "1    12.0\n",
      "2    14.0\n",
      "3    15.0\n",
      "4    17.0\n",
      "5    18.0\n",
      "6    19.0\n",
      "7    20.0\n",
      "8    22.0\n",
      "9     NaN\n",
      "Name: dxcronica[2345comment], dtype: float64\n",
      "0               20\n",
      "1    endometrosis \n",
      "2     marihuana 19\n",
      "3              NaN\n",
      "Name: dxcronica[234comment], dtype: object\n",
      "0                                        0\n",
      "1                                        1\n",
      "2                                       10\n",
      "3                                       11\n",
      "4                                   11, 19\n",
      "5                                       12\n",
      "6                                       13\n",
      "7                                       14\n",
      "8                                       15\n",
      "9                                    15,15\n",
      "10                                      16\n",
      "11                                 16 años\n",
      "12                          16, 16, 17, 17\n",
      "13                                      17\n",
      "14                                  17, 16\n",
      "15                                      18\n",
      "16                                  18, 15\n",
      "17                                      19\n",
      "18                                      20\n",
      "19                                    2018\n",
      "20                                      21\n",
      "21                                      22\n",
      "22                                      23\n",
      "23                                      24\n",
      "24                                      26\n",
      "25                                       3\n",
      "26                                      32\n",
      "27                                      34\n",
      "28                                  34, 14\n",
      "29                                      38\n",
      "30                                     4,4\n",
      "31                                      43\n",
      "32                                       5\n",
      "33                                       6\n",
      "34                                       7\n",
      "35                                       8\n",
      "36                                       9\n",
      "37                               9, 15, 15\n",
      "38                         AL AÑO DE NACER\n",
      "39                                AL NACER\n",
      "40                                 NINGUNA\n",
      "41                                 NINGUNO\n",
      "42    anovulación mastopapia fibroquistica\n",
      "43                            desde 6 años\n",
      "44                   primeros años de vida\n",
      "45                                     NaN\n",
      "Name: dxcronica[othercomment], dtype: object\n"
     ]
    }
   ],
   "source": [
    "for col in columnas_edades:\n",
    "    print(mostrar_unicos(col))"
   ]
  },
  {
   "attachments": {},
   "cell_type": "markdown",
   "metadata": {
    "collapsed": false
   },
   "source": [
    "En muchas ocasiones se menciona la palabra \"años\", así que se puede quitar:"
   ]
  },
  {
   "cell_type": "code",
   "execution_count": 132,
   "metadata": {
    "collapsed": false,
    "ExecuteTime": {
     "end_time": "2024-08-10T23:19:01.514033Z",
     "start_time": "2024-08-10T23:19:01.509864Z"
    }
   },
   "outputs": [
    {
     "data": {
      "text/plain": "Index(['dxcronica[dfbcomment]', 'dxcronica[shthcomment]',\n       'dxcronica[svdgcomment]', 'dxcronica[tycomment]',\n       'dxcronica[fgcomment]', 'dxcronica[4565comment]',\n       'dxcronica[36e4comment]', 'dxcronica[7659tycomment]',\n       'dxcronica[867comment]', 'dxcronica[35comment]', 'dxcronica[76comment]',\n       'dxcronica[987comment]', 'dxcronica[234comment]',\n       'dxcronica[othercomment]'],\n      dtype='object')"
     },
     "execution_count": 132,
     "metadata": {},
     "output_type": "execute_result"
    }
   ],
   "source": [
    "columnas_texto = datos[columnas_edades].select_dtypes(include='object').columns\n",
    "columnas_texto"
   ]
  },
  {
   "cell_type": "code",
   "execution_count": 133,
   "metadata": {
    "collapsed": false,
    "ExecuteTime": {
     "end_time": "2024-08-10T23:19:01.712891Z",
     "start_time": "2024-08-10T23:19:01.708425Z"
    }
   },
   "outputs": [
    {
     "name": "stderr",
     "output_type": "stream",
     "text": [
      "<>:2: SyntaxWarning: invalid escape sequence '\\s'\n",
      "<>:2: SyntaxWarning: invalid escape sequence '\\s'\n",
      "/var/folders/hb/c3zh8bns0mx4nw98_6k7rx8m0000gn/T/ipykernel_4464/2207088439.py:2: SyntaxWarning: invalid escape sequence '\\s'\n",
      "  datos[col] = datos[col].str.replace('\\s*años\\s*', '', regex=True)\n"
     ]
    }
   ],
   "source": [
    "for col in columnas_texto:\n",
    "    datos[col] = datos[col].str.replace('\\s*años\\s*', '', regex=True)"
   ]
  },
  {
   "cell_type": "code",
   "execution_count": 134,
   "metadata": {
    "collapsed": false,
    "ExecuteTime": {
     "end_time": "2024-08-10T23:19:01.803738Z",
     "start_time": "2024-08-10T23:19:01.796378Z"
    }
   },
   "outputs": [
    {
     "name": "stdout",
     "output_type": "stream",
     "text": [
      "0               10\n",
      "1            10 11\n",
      "2               11\n",
      "3               12\n",
      "4               13\n",
      "5               14\n",
      "6               15\n",
      "7               16\n",
      "8               17\n",
      "9               18\n",
      "10              19\n",
      "11               2\n",
      "12              20\n",
      "13              21\n",
      "14              22\n",
      "15              23\n",
      "16              26\n",
      "17              28\n",
      "18               3\n",
      "19              30\n",
      "20              31\n",
      "21              32\n",
      "22              33\n",
      "23              34\n",
      "24              35\n",
      "25              36\n",
      "26               4\n",
      "27               5\n",
      "28              50\n",
      "29               6\n",
      "30               7\n",
      "31               8\n",
      "32               9\n",
      "33    sobrepeso 20\n",
      "34             NaN\n",
      "Name: dxcronica[dfbcomment], dtype: object\n",
      "0    17.0\n",
      "1    44.0\n",
      "2     NaN\n",
      "Name: dxcronica[dsfhcomment], dtype: float64\n",
      "0     10-12\n",
      "1        12\n",
      "2        15\n",
      "3        17\n",
      "4        18\n",
      "5        19\n",
      "6        21\n",
      "7        22\n",
      "8        23\n",
      "9        30\n",
      "10       37\n",
      "11      NaN\n",
      "Name: dxcronica[shthcomment], dtype: object\n",
      "0    20.0\n",
      "1    25.0\n",
      "2    37.0\n",
      "3     NaN\n",
      "Name: dxcronica[cxbhcomment], dtype: float64\n",
      "0    18.0\n",
      "1    21.0\n",
      "2    28.0\n",
      "3    34.0\n",
      "4    35.0\n",
      "5    37.0\n",
      "6     NaN\n",
      "Name: dxcronica[sythcomment], dtype: float64\n",
      "0      10\n",
      "1      11\n",
      "2      12\n",
      "3      13\n",
      "4      15\n",
      "5      17\n",
      "6      18\n",
      "7      19\n",
      "8      20\n",
      "9      25\n",
      "10     26\n",
      "11     30\n",
      "12     34\n",
      "13     40\n",
      "14      9\n",
      "15    NaN\n",
      "Name: dxcronica[svdgcomment], dtype: object\n",
      "0      12\n",
      "1      13\n",
      "2      15\n",
      "3      18\n",
      "4      19\n",
      "5      20\n",
      "6      22\n",
      "7      24\n",
      "8      25\n",
      "9      27\n",
      "10     30\n",
      "11     31\n",
      "12     34\n",
      "13     37\n",
      "14     39\n",
      "15     40\n",
      "16    NaN\n",
      "Name: dxcronica[tycomment], dtype: object\n",
      "0     2.5\n",
      "1    11.0\n",
      "2    18.0\n",
      "3    20.0\n",
      "4    30.0\n",
      "5    38.0\n",
      "6     NaN\n",
      "Name: dxcronica[fdstycomment], dtype: float64\n",
      "0                 0\n",
      "1                12\n",
      "2                14\n",
      "3                16\n",
      "4                17\n",
      "5                18\n",
      "6                25\n",
      "7                39\n",
      "8                 5\n",
      "9     Recién nacida\n",
      "10      nacimiento \n",
      "11              NaN\n",
      "Name: dxcronica[fgcomment], dtype: object\n",
      "0           0\n",
      "1           1\n",
      "2          10\n",
      "3          11\n",
      "4          12\n",
      "5          13\n",
      "6          15\n",
      "7          16\n",
      "8          17\n",
      "9          19\n",
      "10         21\n",
      "11         23\n",
      "12          3\n",
      "13          4\n",
      "14         40\n",
      "15          5\n",
      "16          6\n",
      "17          7\n",
      "18          8\n",
      "19    8 meses\n",
      "20          9\n",
      "21    asma 12\n",
      "22     asma 4\n",
      "23        NaN\n",
      "Name: dxcronica[4565comment], dtype: object\n",
      "0             17\n",
      "1             18\n",
      "2             19\n",
      "3             20\n",
      "4           2020\n",
      "5             21\n",
      "6             22\n",
      "7             23\n",
      "8             24\n",
      "9             25\n",
      "10            26\n",
      "11            27\n",
      "12            28\n",
      "13            30\n",
      "14            31\n",
      "15            32\n",
      "16            34\n",
      "17            38\n",
      "18            39\n",
      "19            41\n",
      "20            52\n",
      "21    junio 2020\n",
      "22           NaN\n",
      "Name: dxcronica[36e4comment], dtype: object\n",
      "0         14\n",
      "1         16\n",
      "2         19\n",
      "3    19 a 25\n",
      "4         25\n",
      "5        NaN\n",
      "Name: dxcronica[7659tycomment], dtype: object\n",
      "0    12.0\n",
      "1    14.0\n",
      "2    16.0\n",
      "3    17.0\n",
      "4    18.0\n",
      "5    19.0\n",
      "6    21.0\n",
      "7    22.0\n",
      "8     NaN\n",
      "Name: dxcronica[345qcomment], dtype: float64\n",
      "0       12\n",
      "1       14\n",
      "2       15\n",
      "3       16\n",
      "4       17\n",
      "5       18\n",
      "6       19\n",
      "7       20\n",
      "8        8\n",
      "9     9 17\n",
      "10     NaN\n",
      "Name: dxcronica[867comment], dtype: object\n",
      "0        10\n",
      "1     12 13\n",
      "2     12 17\n",
      "3        13\n",
      "4        15\n",
      "5        17\n",
      "6        18\n",
      "7        19\n",
      "8        20\n",
      "9        25\n",
      "10      NaN\n",
      "Name: dxcronica[35comment], dtype: object\n",
      "0       11\n",
      "1       12\n",
      "2       13\n",
      "3       14\n",
      "4       15\n",
      "5       16\n",
      "6       17\n",
      "7       18\n",
      "8       19\n",
      "9       20\n",
      "10    2019\n",
      "11      21\n",
      "12      22\n",
      "13      24\n",
      "14      25\n",
      "15      26\n",
      "16      28\n",
      "17      30\n",
      "18      31\n",
      "19      32\n",
      "20      35\n",
      "21      36\n",
      "22      37\n",
      "23      43\n",
      "24      52\n",
      "25       7\n",
      "26       8\n",
      "27     NaN\n",
      "Name: dxcronica[76comment], dtype: object\n",
      "0        12\n",
      "1        13\n",
      "2     13 14\n",
      "3        14\n",
      "4        15\n",
      "5        16\n",
      "6        17\n",
      "7        18\n",
      "8        19\n",
      "9        20\n",
      "10       21\n",
      "11       22\n",
      "12       23\n",
      "13       26\n",
      "14       27\n",
      "15       29\n",
      "16       30\n",
      "17       36\n",
      "18       37\n",
      "19       40\n",
      "20       43\n",
      "21       44\n",
      "22      NaN\n",
      "Name: dxcronica[987comment], dtype: object\n",
      "0     6.0\n",
      "1    12.0\n",
      "2    14.0\n",
      "3    15.0\n",
      "4    17.0\n",
      "5    18.0\n",
      "6    19.0\n",
      "7    20.0\n",
      "8    22.0\n",
      "9     NaN\n",
      "Name: dxcronica[2345comment], dtype: float64\n",
      "0               20\n",
      "1    endometrosis \n",
      "2     marihuana 19\n",
      "3              NaN\n",
      "Name: dxcronica[234comment], dtype: object\n",
      "0                                        0\n",
      "1                                        1\n",
      "2                                       10\n",
      "3                                       11\n",
      "4                                   11, 19\n",
      "5                                       12\n",
      "6                                       13\n",
      "7                                       14\n",
      "8                                       15\n",
      "9                                    15,15\n",
      "10                                      16\n",
      "11                          16, 16, 17, 17\n",
      "12                                      17\n",
      "13                                  17, 16\n",
      "14                                      18\n",
      "15                                  18, 15\n",
      "16                                      19\n",
      "17                                      20\n",
      "18                                    2018\n",
      "19                                      21\n",
      "20                                      22\n",
      "21                                      23\n",
      "22                                      24\n",
      "23                                      26\n",
      "24                                       3\n",
      "25                                      32\n",
      "26                                      34\n",
      "27                                  34, 14\n",
      "28                                      38\n",
      "29                                     4,4\n",
      "30                                      43\n",
      "31                                       5\n",
      "32                                       6\n",
      "33                                       7\n",
      "34                                       8\n",
      "35                                       9\n",
      "36                               9, 15, 15\n",
      "37                         AL AÑO DE NACER\n",
      "38                                AL NACER\n",
      "39                                 NINGUNA\n",
      "40                                 NINGUNO\n",
      "41    anovulación mastopapia fibroquistica\n",
      "42                                 desde 6\n",
      "43                         primerosde vida\n",
      "44                                     NaN\n",
      "Name: dxcronica[othercomment], dtype: object\n"
     ]
    }
   ],
   "source": [
    "for col in columnas_edades:\n",
    "    print(mostrar_unicos(col))"
   ]
  },
  {
   "cell_type": "code",
   "execution_count": 135,
   "metadata": {
    "collapsed": false,
    "ExecuteTime": {
     "end_time": "2024-08-10T23:19:01.945757Z",
     "start_time": "2024-08-10T23:19:01.940720Z"
    }
   },
   "outputs": [],
   "source": [
    "unificar_observaciones('dxcronica[fgcomment]', r'naci', '0')\n",
    "unificar_observaciones('dxcronica[4565comment]', r'\\s*asma\\*', '0')\n",
    "unificar_observaciones('dxcronica[othercomment]', r'al año de nacer', '1')\n",
    "unificar_observaciones('dxcronica[othercomment]', r'nacer', '0')"
   ]
  },
  {
   "cell_type": "code",
   "execution_count": 136,
   "metadata": {
    "collapsed": false,
    "ExecuteTime": {
     "end_time": "2024-08-10T23:19:02.012658Z",
     "start_time": "2024-08-10T23:19:02.004570Z"
    }
   },
   "outputs": [
    {
     "name": "stdout",
     "output_type": "stream",
     "text": [
      "0               10\n",
      "1            10 11\n",
      "2               11\n",
      "3               12\n",
      "4               13\n",
      "5               14\n",
      "6               15\n",
      "7               16\n",
      "8               17\n",
      "9               18\n",
      "10              19\n",
      "11               2\n",
      "12              20\n",
      "13              21\n",
      "14              22\n",
      "15              23\n",
      "16              26\n",
      "17              28\n",
      "18               3\n",
      "19              30\n",
      "20              31\n",
      "21              32\n",
      "22              33\n",
      "23              34\n",
      "24              35\n",
      "25              36\n",
      "26               4\n",
      "27               5\n",
      "28              50\n",
      "29               6\n",
      "30               7\n",
      "31               8\n",
      "32               9\n",
      "33    sobrepeso 20\n",
      "34             NaN\n",
      "Name: dxcronica[dfbcomment], dtype: object\n",
      "0    17.0\n",
      "1    44.0\n",
      "2     NaN\n",
      "Name: dxcronica[dsfhcomment], dtype: float64\n",
      "0     10-12\n",
      "1        12\n",
      "2        15\n",
      "3        17\n",
      "4        18\n",
      "5        19\n",
      "6        21\n",
      "7        22\n",
      "8        23\n",
      "9        30\n",
      "10       37\n",
      "11      NaN\n",
      "Name: dxcronica[shthcomment], dtype: object\n",
      "0    20.0\n",
      "1    25.0\n",
      "2    37.0\n",
      "3     NaN\n",
      "Name: dxcronica[cxbhcomment], dtype: float64\n",
      "0    18.0\n",
      "1    21.0\n",
      "2    28.0\n",
      "3    34.0\n",
      "4    35.0\n",
      "5    37.0\n",
      "6     NaN\n",
      "Name: dxcronica[sythcomment], dtype: float64\n",
      "0      10\n",
      "1      11\n",
      "2      12\n",
      "3      13\n",
      "4      15\n",
      "5      17\n",
      "6      18\n",
      "7      19\n",
      "8      20\n",
      "9      25\n",
      "10     26\n",
      "11     30\n",
      "12     34\n",
      "13     40\n",
      "14      9\n",
      "15    NaN\n",
      "Name: dxcronica[svdgcomment], dtype: object\n",
      "0      12\n",
      "1      13\n",
      "2      15\n",
      "3      18\n",
      "4      19\n",
      "5      20\n",
      "6      22\n",
      "7      24\n",
      "8      25\n",
      "9      27\n",
      "10     30\n",
      "11     31\n",
      "12     34\n",
      "13     37\n",
      "14     39\n",
      "15     40\n",
      "16    NaN\n",
      "Name: dxcronica[tycomment], dtype: object\n",
      "0     2.5\n",
      "1    11.0\n",
      "2    18.0\n",
      "3    20.0\n",
      "4    30.0\n",
      "5    38.0\n",
      "6     NaN\n",
      "Name: dxcronica[fdstycomment], dtype: float64\n",
      "0      0\n",
      "1     12\n",
      "2     14\n",
      "3     16\n",
      "4     17\n",
      "5     18\n",
      "6     25\n",
      "7     39\n",
      "8      5\n",
      "9    NaN\n",
      "Name: dxcronica[fgcomment], dtype: object\n",
      "0           0\n",
      "1           1\n",
      "2          10\n",
      "3          11\n",
      "4          12\n",
      "5          13\n",
      "6          15\n",
      "7          16\n",
      "8          17\n",
      "9          19\n",
      "10         21\n",
      "11         23\n",
      "12          3\n",
      "13          4\n",
      "14         40\n",
      "15          5\n",
      "16          6\n",
      "17          7\n",
      "18          8\n",
      "19    8 meses\n",
      "20          9\n",
      "21    asma 12\n",
      "22     asma 4\n",
      "23        NaN\n",
      "Name: dxcronica[4565comment], dtype: object\n",
      "0             17\n",
      "1             18\n",
      "2             19\n",
      "3             20\n",
      "4           2020\n",
      "5             21\n",
      "6             22\n",
      "7             23\n",
      "8             24\n",
      "9             25\n",
      "10            26\n",
      "11            27\n",
      "12            28\n",
      "13            30\n",
      "14            31\n",
      "15            32\n",
      "16            34\n",
      "17            38\n",
      "18            39\n",
      "19            41\n",
      "20            52\n",
      "21    junio 2020\n",
      "22           NaN\n",
      "Name: dxcronica[36e4comment], dtype: object\n",
      "0         14\n",
      "1         16\n",
      "2         19\n",
      "3    19 a 25\n",
      "4         25\n",
      "5        NaN\n",
      "Name: dxcronica[7659tycomment], dtype: object\n",
      "0    12.0\n",
      "1    14.0\n",
      "2    16.0\n",
      "3    17.0\n",
      "4    18.0\n",
      "5    19.0\n",
      "6    21.0\n",
      "7    22.0\n",
      "8     NaN\n",
      "Name: dxcronica[345qcomment], dtype: float64\n",
      "0       12\n",
      "1       14\n",
      "2       15\n",
      "3       16\n",
      "4       17\n",
      "5       18\n",
      "6       19\n",
      "7       20\n",
      "8        8\n",
      "9     9 17\n",
      "10     NaN\n",
      "Name: dxcronica[867comment], dtype: object\n",
      "0        10\n",
      "1     12 13\n",
      "2     12 17\n",
      "3        13\n",
      "4        15\n",
      "5        17\n",
      "6        18\n",
      "7        19\n",
      "8        20\n",
      "9        25\n",
      "10      NaN\n",
      "Name: dxcronica[35comment], dtype: object\n",
      "0       11\n",
      "1       12\n",
      "2       13\n",
      "3       14\n",
      "4       15\n",
      "5       16\n",
      "6       17\n",
      "7       18\n",
      "8       19\n",
      "9       20\n",
      "10    2019\n",
      "11      21\n",
      "12      22\n",
      "13      24\n",
      "14      25\n",
      "15      26\n",
      "16      28\n",
      "17      30\n",
      "18      31\n",
      "19      32\n",
      "20      35\n",
      "21      36\n",
      "22      37\n",
      "23      43\n",
      "24      52\n",
      "25       7\n",
      "26       8\n",
      "27     NaN\n",
      "Name: dxcronica[76comment], dtype: object\n",
      "0        12\n",
      "1        13\n",
      "2     13 14\n",
      "3        14\n",
      "4        15\n",
      "5        16\n",
      "6        17\n",
      "7        18\n",
      "8        19\n",
      "9        20\n",
      "10       21\n",
      "11       22\n",
      "12       23\n",
      "13       26\n",
      "14       27\n",
      "15       29\n",
      "16       30\n",
      "17       36\n",
      "18       37\n",
      "19       40\n",
      "20       43\n",
      "21       44\n",
      "22      NaN\n",
      "Name: dxcronica[987comment], dtype: object\n",
      "0     6.0\n",
      "1    12.0\n",
      "2    14.0\n",
      "3    15.0\n",
      "4    17.0\n",
      "5    18.0\n",
      "6    19.0\n",
      "7    20.0\n",
      "8    22.0\n",
      "9     NaN\n",
      "Name: dxcronica[2345comment], dtype: float64\n",
      "0               20\n",
      "1    endometrosis \n",
      "2     marihuana 19\n",
      "3              NaN\n",
      "Name: dxcronica[234comment], dtype: object\n",
      "0                                        0\n",
      "1                                        1\n",
      "2                                       10\n",
      "3                                       11\n",
      "4                                   11, 19\n",
      "5                                       12\n",
      "6                                       13\n",
      "7                                       14\n",
      "8                                       15\n",
      "9                                    15,15\n",
      "10                                      16\n",
      "11                          16, 16, 17, 17\n",
      "12                                      17\n",
      "13                                  17, 16\n",
      "14                                      18\n",
      "15                                  18, 15\n",
      "16                                      19\n",
      "17                                      20\n",
      "18                                    2018\n",
      "19                                      21\n",
      "20                                      22\n",
      "21                                      23\n",
      "22                                      24\n",
      "23                                      26\n",
      "24                                       3\n",
      "25                                      32\n",
      "26                                      34\n",
      "27                                  34, 14\n",
      "28                                      38\n",
      "29                                     4,4\n",
      "30                                      43\n",
      "31                                       5\n",
      "32                                       6\n",
      "33                                       7\n",
      "34                                       8\n",
      "35                                       9\n",
      "36                               9, 15, 15\n",
      "37                                 NINGUNA\n",
      "38                                 NINGUNO\n",
      "39    anovulación mastopapia fibroquistica\n",
      "40                                 desde 6\n",
      "41                         primerosde vida\n",
      "42                                     NaN\n",
      "Name: dxcronica[othercomment], dtype: object\n"
     ]
    }
   ],
   "source": [
    "for col in columnas_edades:\n",
    "    print(mostrar_unicos(col))"
   ]
  },
  {
   "cell_type": "code",
   "execution_count": 137,
   "metadata": {
    "collapsed": false,
    "ExecuteTime": {
     "end_time": "2024-08-10T23:19:02.177200Z",
     "start_time": "2024-08-10T23:19:02.167914Z"
    }
   },
   "outputs": [],
   "source": [
    "datos['dxcronica[dfbcomment]'] = datos['dxcronica[dfbcomment]'].str.replace(r' años| \\d+|[a-z]+ ', '',\n",
    "                                                                            regex=True).astype(float)\n",
    "datos['dxcronica[dsfhcomment]'] = datos['dxcronica[dsfhcomment]'].astype(float)\n",
    "datos['dxcronica[shthcomment]'] = datos['dxcronica[shthcomment]'].str.replace(r'\\D', '', regex=True).astype(float)\n",
    "datos['dxcronica[cxbhcomment]'] = datos['dxcronica[cxbhcomment]'].astype(float)\n",
    "datos['dxcronica[sythcomment]'] = datos['dxcronica[sythcomment]'].astype(float)\n",
    "datos['dxcronica[svdgcomment]'] = datos['dxcronica[svdgcomment]'].str.replace(r' años', '', regex=True).astype(float)\n",
    "datos['dxcronica[tycomment]'] = datos['dxcronica[tycomment]'].str.replace(r' años', '', regex=True).astype(float)\n",
    "datos['dxcronica[fdstycomment]'] = datos['dxcronica[fdstycomment]'].astype(float)\n",
    "datos['dxcronica[fgcomment]'] = datos['dxcronica[fgcomment]'] \\\n",
    "    .str.replace(r'recién nacida|nacimiento|al nacer', '0', regex=True, flags=re.IGNORECASE) \\\n",
    "    .str.replace(r'al año de nacer', '1', regex=True, flags=re.IGNORECASE) \\\n",
    "    .str.strip().astype(float)\n",
    "datos['dxcronica[4565comment]'] = datos['dxcronica[4565comment]'].str.replace(r'años|asma|meses|\\s+|\\[a-zA-Z]+', '',\n",
    "                                                                              regex=True)\\\n",
    "                                                                 .str.replace(' ', '0', regex=True)\n",
    "                                                                              #.str.replace('', '0', regex=True)\n",
    "\n",
    "datos['dxcronica[4565comment]'] = datos['dxcronica[4565comment]'].astype(str).apply(lambda value: '0' if 'meses' in value and int(value.split()[0]) < 12 else str(int(value.split()[0]) // 12) if 'meses' in value else value).replace('', np.nan)\n",
    "\n",
    "\n",
    "datos['dxcronica[36e4comment]'] = datos['dxcronica[36e4comment]'].str.replace(r'[A-Za-zñ\\s]+', '', regex=True).astype(\n",
    "    float)\n",
    "datos['dxcronica[7659tycomment]'] = datos['dxcronica[7659tycomment]'].str.replace(r' a \\d+', '', regex=True).astype(\n",
    "    float)\n",
    "datos['dxcronica[345qcomment]'] = datos['dxcronica[345qcomment]'].astype(float)\n",
    "datos['dxcronica[867comment]'] = datos['dxcronica[867comment]'].str.replace(r' \\d+', '', regex=True).astype(float)\n",
    "datos['dxcronica[35comment]'] = datos['dxcronica[35comment]'].str.replace(r' \\d+', '', regex=True).astype(float)\n",
    "datos['dxcronica[76comment]'] = datos['dxcronica[76comment]'].str.replace(r' años', '', regex=True).astype(float)\n",
    "datos['dxcronica[987comment]'] = datos['dxcronica[987comment]'].str.replace(r' años| \\d+', '', regex=True).astype(float)\n",
    "datos['dxcronica[2345comment]'] = datos['dxcronica[2345comment]'].astype(float)\n",
    "datos['dxcronica[234comment]'] = datos['dxcronica[234comment]'].str.replace(r'[\\D\\s]+',\n",
    "                                                                            '',\n",
    "                                                                            regex=True).replace('', np.nan).astype(\n",
    "    float)"
   ]
  },
  {
   "attachments": {},
   "cell_type": "markdown",
   "metadata": {
    "collapsed": false
   },
   "source": [
    "## D1"
   ]
  },
  {
   "cell_type": "code",
   "execution_count": 138,
   "metadata": {
    "collapsed": false,
    "ExecuteTime": {
     "end_time": "2024-08-10T23:19:02.243845Z",
     "start_time": "2024-08-10T23:19:02.241168Z"
    }
   },
   "outputs": [
    {
     "data": {
      "text/plain": "0    A10\n1     A2\n2     A3\n3     A4\n4     A5\n5     A6\n6     A7\n7     A8\n8     A9\nName: D1[SQ0022], dtype: object"
     },
     "execution_count": 138,
     "metadata": {},
     "output_type": "execute_result"
    }
   ],
   "source": [
    "mostrar_unicos('D1[SQ0022]')"
   ]
  },
  {
   "cell_type": "code",
   "execution_count": 139,
   "metadata": {
    "collapsed": false,
    "ExecuteTime": {
     "end_time": "2024-08-10T23:19:02.403604Z",
     "start_time": "2024-08-10T23:19:02.400874Z"
    }
   },
   "outputs": [
    {
     "data": {
      "text/plain": "0     A10\n1     A11\n2      A2\n3      A3\n4      A4\n5      A5\n6      A6\n7      A7\n8      A8\n9      A9\n10    NaN\nName: D1[SQ002], dtype: object"
     },
     "execution_count": 139,
     "metadata": {},
     "output_type": "execute_result"
    }
   ],
   "source": [
    "mostrar_unicos('D1[SQ002]')"
   ]
  },
  {
   "cell_type": "code",
   "execution_count": 140,
   "metadata": {
    "collapsed": false,
    "ExecuteTime": {
     "end_time": "2024-08-10T23:19:02.458404Z",
     "start_time": "2024-08-10T23:19:02.456234Z"
    }
   },
   "outputs": [
    {
     "name": "stderr",
     "output_type": "stream",
     "text": [
      "/Users/erickavendanogarcia/Downloads/servicio_social/encuestas/auxiliar_4.py:143: FutureWarning: A value is trying to be set on a copy of a DataFrame or Series through chained assignment using an inplace method.\n",
      "The behavior will change in pandas 3.0. This inplace method will never work because the intermediate object on which we are setting values always behaves as a copy.\n",
      "\n",
      "For example, when doing 'df[col].method(value, inplace=True)', try using 'df.method({col: value}, inplace=True)' or df[col] = df[col].method(value) instead, to perform the operation inplace on the original object.\n",
      "\n",
      "\n",
      "  df[columna].fillna(valor, inplace=True)\n"
     ]
    }
   ],
   "source": [
    "llenar_vacios('D1[SQ002]', 'B1')"
   ]
  },
  {
   "cell_type": "code",
   "execution_count": 141,
   "metadata": {
    "collapsed": false,
    "ExecuteTime": {
     "end_time": "2024-08-10T23:19:02.617208Z",
     "start_time": "2024-08-10T23:19:02.614689Z"
    }
   },
   "outputs": [
    {
     "data": {
      "text/plain": "0    A10\n1    A11\n2     A2\n3     A3\n4     A4\n5     A5\n6     A6\n7     A7\n8     A8\n9     A9\nName: D1[SQ003], dtype: object"
     },
     "execution_count": 141,
     "metadata": {},
     "output_type": "execute_result"
    }
   ],
   "source": [
    "mostrar_unicos('D1[SQ003]')"
   ]
  },
  {
   "cell_type": "code",
   "execution_count": 142,
   "metadata": {
    "collapsed": false,
    "ExecuteTime": {
     "end_time": "2024-08-10T23:19:02.679166Z",
     "start_time": "2024-08-10T23:19:02.676277Z"
    }
   },
   "outputs": [
    {
     "data": {
      "text/plain": "0     A2\n1     A3\n2     A4\n3     A5\n4     A6\n5     A7\n6     A8\n7    NaN\nName: D1[SQ004], dtype: object"
     },
     "execution_count": 142,
     "metadata": {},
     "output_type": "execute_result"
    }
   ],
   "source": [
    "mostrar_unicos('D1[SQ004]')"
   ]
  },
  {
   "cell_type": "code",
   "execution_count": 143,
   "metadata": {
    "collapsed": false,
    "ExecuteTime": {
     "end_time": "2024-08-10T23:19:02.854059Z",
     "start_time": "2024-08-10T23:19:02.852146Z"
    }
   },
   "outputs": [],
   "source": [
    "llenar_vacios('D1[SQ004]', 'B2')"
   ]
  },
  {
   "attachments": {},
   "cell_type": "markdown",
   "metadata": {
    "collapsed": false
   },
   "source": [
    "## se34"
   ]
  },
  {
   "cell_type": "code",
   "execution_count": 144,
   "metadata": {
    "collapsed": false,
    "ExecuteTime": {
     "end_time": "2024-08-10T23:19:02.914971Z",
     "start_time": "2024-08-10T23:19:02.912110Z"
    }
   },
   "outputs": [
    {
     "data": {
      "text/plain": "0     A1\n1     A2\n2    NaN\nName: se34, dtype: object"
     },
     "execution_count": 144,
     "metadata": {},
     "output_type": "execute_result"
    }
   ],
   "source": [
    "mostrar_unicos('se34')"
   ]
  },
  {
   "cell_type": "code",
   "execution_count": 145,
   "metadata": {
    "collapsed": false,
    "ExecuteTime": {
     "end_time": "2024-08-10T23:19:03.076139Z",
     "start_time": "2024-08-10T23:19:03.074251Z"
    }
   },
   "outputs": [],
   "source": [
    "llenar_vacios('se34', 'B1')"
   ]
  },
  {
   "attachments": {},
   "cell_type": "markdown",
   "metadata": {
    "collapsed": false
   },
   "source": [
    "## xqtrabajas"
   ]
  },
  {
   "cell_type": "code",
   "execution_count": 146,
   "metadata": {
    "collapsed": false,
    "ExecuteTime": {
     "end_time": "2024-08-10T23:19:03.129601Z",
     "start_time": "2024-08-10T23:19:03.126813Z"
    }
   },
   "outputs": [],
   "source": [
    "for col in ('xqtrabajas[12]', 'xqtrabajas[21]', 'xqtrabajas[32]', 'xqtrabajas[45]'):\n",
    "    llenar_vacios(col, 'B2')"
   ]
  },
  {
   "cell_type": "code",
   "execution_count": 147,
   "metadata": {
    "collapsed": false,
    "ExecuteTime": {
     "end_time": "2024-08-10T23:19:03.298257Z",
     "start_time": "2024-08-10T23:19:03.294594Z"
    }
   },
   "outputs": [],
   "source": [
    "datos.drop(columns='xqtrabajas[other]', inplace=True)"
   ]
  },
  {
   "attachments": {},
   "cell_type": "markdown",
   "metadata": {
    "collapsed": false
   },
   "source": [
    "## focospapas y focosfuera"
   ]
  },
  {
   "cell_type": "code",
   "execution_count": 148,
   "metadata": {
    "collapsed": false,
    "ExecuteTime": {
     "end_time": "2024-08-10T23:19:03.371600Z",
     "start_time": "2024-08-10T23:19:03.367570Z"
    }
   },
   "outputs": [
    {
     "data": {
      "text/plain": "array([ 2. ,  3. ,  3.2,  3.5,  3.6,  3.8,  4. ,  4.5,  5. ,  5.4,  5.5,\n        6. ,  6.5,  7. ,  8. ,  9. , 10. , 11. , 12. , 13. , 14. , 15. ,\n       16. , 17. , 18. , 19. , 20. , 21. , 22. , 23. , 25. , 26. , 27. ,\n       28. , 30. ,  nan])"
     },
     "execution_count": 148,
     "metadata": {},
     "output_type": "execute_result"
    }
   ],
   "source": [
    "# Las columnas focospapas y focosfuera tienen que ver con la cantidad de focos que hay en la vivienda de los padres y\n",
    "# la vivienda donde se vive(si es fuera de la vivienda de los padres).\n",
    "\n",
    "# Hay valores de 100 y 500 focos, supongamos que si son arriba de 100 focos, se equivocaron por un punto decimal.\n",
    "# Si no se puede hacer eso, podemos eliminar los datos\n",
    "datos.loc[datos['focospapas'] > 100, 'focospapas'] = datos['focospapas'] / 10\n",
    "datos.loc[datos['focospapas'] > 30, 'focospapas'] = datos['focospapas'] / 10\n",
    "np.sort(datos['focospapas'].unique())\n"
   ]
  },
  {
   "attachments": {},
   "cell_type": "markdown",
   "metadata": {
    "collapsed": false
   },
   "source": [
    "## Fumar (q0r490)"
   ]
  },
  {
   "cell_type": "code",
   "execution_count": 149,
   "metadata": {
    "collapsed": false,
    "ExecuteTime": {
     "end_time": "2024-08-10T23:19:03.507400Z",
     "start_time": "2024-08-10T23:19:03.504248Z"
    }
   },
   "outputs": [
    {
     "data": {
      "text/plain": "0    -oth-\n1       A2\n2       A3\n3       A4\n4       A5\n5      NaN\nName: q0r490, dtype: object"
     },
     "execution_count": 149,
     "metadata": {},
     "output_type": "execute_result"
    }
   ],
   "source": [
    "mostrar_unicos('q0r490')"
   ]
  },
  {
   "cell_type": "code",
   "execution_count": 150,
   "metadata": {
    "collapsed": false,
    "ExecuteTime": {
     "end_time": "2024-08-10T23:19:03.574847Z",
     "start_time": "2024-08-10T23:19:03.572353Z"
    }
   },
   "outputs": [
    {
     "data": {
      "text/plain": "0      NO ES HABITUAL\n1         NO HABITUAL\n2             SOCIAL \n3    SOLO PARA PROBAR\n4     esporádicamente\n5      ocasionalmente\n6                 NaN\nName: q0r490[other], dtype: object"
     },
     "execution_count": 150,
     "metadata": {},
     "output_type": "execute_result"
    }
   ],
   "source": [
    "mostrar_unicos('q0r490[other]')"
   ]
  },
  {
   "cell_type": "code",
   "execution_count": 151,
   "metadata": {
    "collapsed": false,
    "ExecuteTime": {
     "end_time": "2024-08-10T23:19:03.688508Z",
     "start_time": "2024-08-10T23:19:03.681795Z"
    }
   },
   "outputs": [
    {
     "name": "stderr",
     "output_type": "stream",
     "text": [
      "/var/folders/hb/c3zh8bns0mx4nw98_6k7rx8m0000gn/T/ipykernel_4464/412546662.py:2: FutureWarning: A value is trying to be set on a copy of a DataFrame or Series through chained assignment using an inplace method.\n",
      "The behavior will change in pandas 3.0. This inplace method will never work because the intermediate object on which we are setting values always behaves as a copy.\n",
      "\n",
      "For example, when doing 'df[col].method(value, inplace=True)', try using 'df.method({col: value}, inplace=True)' or df[col] = df[col].method(value) instead, to perform the operation inplace on the original object.\n",
      "\n",
      "\n",
      "  datos['q0r490'].fillna('A4', inplace=True)\n"
     ]
    },
    {
     "data": {
      "text/plain": "0                  A2\n1                  A3\n2                  A4\n3                  A5\n4      NO ES HABITUAL\n5         NO HABITUAL\n6             SOCIAL \n7    SOLO PARA PROBAR\n8     esporádicamente\n9      ocasionalmente\nName: q0r490, dtype: object"
     },
     "execution_count": 151,
     "metadata": {},
     "output_type": "execute_result"
    }
   ],
   "source": [
    "llenar_respuesta_libre('q0r490')\n",
    "datos['q0r490'].fillna('A4', inplace=True)\n",
    "mostrar_unicos('q0r490')"
   ]
  },
  {
   "cell_type": "code",
   "execution_count": 152,
   "metadata": {
    "collapsed": false,
    "ExecuteTime": {
     "end_time": "2024-08-10T23:19:03.795633Z",
     "start_time": "2024-08-10T23:19:03.792337Z"
    }
   },
   "outputs": [
    {
     "data": {
      "text/plain": "0      NO ES HABITUAL\n1         NO HABITUAL\n2        No aplica_88\n3             No sé_9\n4                No_2\n5             SOCIAL \n6    SOLO PARA PROBAR\n7                Sí_1\n8     esporádicamente\n9      ocasionalmente\nName: q0r490, dtype: object"
     },
     "execution_count": 152,
     "metadata": {},
     "output_type": "execute_result"
    }
   ],
   "source": [
    "mapear_codigos('q0r490')\n",
    "mostrar_unicos('q0r490')"
   ]
  },
  {
   "cell_type": "code",
   "execution_count": 153,
   "metadata": {
    "collapsed": false,
    "ExecuteTime": {
     "end_time": "2024-08-10T23:19:03.909218Z",
     "start_time": "2024-08-10T23:19:03.906027Z"
    }
   },
   "outputs": [
    {
     "data": {
      "text/plain": "0      NO ES HABITUAL\n1         NO HABITUAL\n2        No aplica_88\n3             No sé_9\n4                No_2\n5    SOLO PARA PROBAR\n6                Sí_1\n7     esporádicamente\nName: q0r490, dtype: object"
     },
     "execution_count": 153,
     "metadata": {},
     "output_type": "execute_result"
    }
   ],
   "source": [
    "unificar_observaciones('q0r490', r'social|ocasionalmente', 'No_2')\n",
    "mostrar_unicos('q0r490')"
   ]
  },
  {
   "cell_type": "code",
   "execution_count": 154,
   "metadata": {
    "collapsed": false,
    "ExecuteTime": {
     "end_time": "2024-08-10T23:19:04.006781Z",
     "start_time": "2024-08-10T23:19:04.003502Z"
    }
   },
   "outputs": [
    {
     "data": {
      "text/plain": "0    No aplica_88\n1         No sé_9\n2            No_1\n3            No_2\n4            Sí_1\nName: q0r490, dtype: object"
     },
     "execution_count": 154,
     "metadata": {},
     "output_type": "execute_result"
    }
   ],
   "source": [
    "unificar_observaciones('q0r490', r'habitual|probar|espor', 'No_1')\n",
    "mostrar_unicos('q0r490')"
   ]
  },
  {
   "cell_type": "code",
   "execution_count": 155,
   "metadata": {
    "collapsed": false,
    "ExecuteTime": {
     "end_time": "2024-08-10T23:19:04.138592Z",
     "start_time": "2024-08-10T23:19:04.135401Z"
    }
   },
   "outputs": [
    {
     "data": {
      "text/plain": "0              A2\n1              A3\n2    No aplica_88\n3         No sé_9\n4            No_1\nName: q0r490, dtype: object"
     },
     "execution_count": 155,
     "metadata": {},
     "output_type": "execute_result"
    }
   ],
   "source": [
    "#mapeo_respuestas['q0r490']\n",
    "datos['q0r490'] = datos['q0r490'].replace({'Sí_1': 'A2', 'No_2': 'A3', 'No sé_3': 'A4', 'No aplica_4': 'A5'})\n",
    "mostrar_unicos('q0r490')"
   ]
  },
  {
   "attachments": {},
   "cell_type": "markdown",
   "metadata": {
    "collapsed": false
   },
   "source": [
    "## Horas ejercicio"
   ]
  },
  {
   "attachments": {},
   "cell_type": "markdown",
   "metadata": {
    "collapsed": false
   },
   "source": [
    "### antesdhorasejercicio"
   ]
  },
  {
   "attachments": {},
   "cell_type": "markdown",
   "metadata": {
    "collapsed": false
   },
   "source": [
    "La columna `antesdehorasejercicio` son las horas que se ejercitaba habitualmente antes de entrar a la carrera. Pero no se tiene información sobre si la pregunta es diaria o semanal. Sin embargo, son horas a la semana. La OMS considera que una persona hace ejercicio si le dedica al menos lo hace 2.5 horas a la semana."
   ]
  },
  {
   "cell_type": "code",
   "execution_count": 156,
   "metadata": {
    "collapsed": false,
    "ExecuteTime": {
     "end_time": "2024-08-10T23:19:04.219979Z",
     "start_time": "2024-08-10T23:19:04.216967Z"
    }
   },
   "outputs": [
    {
     "data": {
      "text/plain": "0       0.0\n1       1.0\n2       1.5\n3       2.0\n4       2.5\n5       3.0\n6       3.5\n7       4.0\n8       4.5\n9       5.0\n10      5.5\n11      6.0\n12      7.0\n13      8.0\n14      9.0\n15     10.0\n16     11.0\n17     12.0\n18     13.0\n19     14.0\n20     15.0\n21     16.0\n22     18.0\n23     20.0\n24     21.0\n25     23.0\n26     25.0\n27     30.0\n28     36.0\n29     61.0\n30    216.0\n31      NaN\nName: antesdhorasejercicio, dtype: float64"
     },
     "execution_count": 156,
     "metadata": {},
     "output_type": "execute_result"
    }
   ],
   "source": [
    "mostrar_unicos('antesdhorasejercicio')"
   ]
  },
  {
   "cell_type": "code",
   "execution_count": 157,
   "metadata": {
    "collapsed": false,
    "ExecuteTime": {
     "end_time": "2024-08-10T23:19:04.355485Z",
     "start_time": "2024-08-10T23:19:04.353360Z"
    }
   },
   "outputs": [
    {
     "data": {
      "text/plain": "190"
     },
     "execution_count": 157,
     "metadata": {},
     "output_type": "execute_result"
    }
   ],
   "source": [
    "contar_faltantes('antesdhorasejercicio')"
   ]
  },
  {
   "attachments": {},
   "cell_type": "markdown",
   "metadata": {
    "collapsed": false
   },
   "source": [
    "Una semana tiene 168 horas, los valores registrados que superen ese número se consideran errores de dedo, y se acordó reportarlos como perdidos"
   ]
  },
  {
   "cell_type": "code",
   "execution_count": 158,
   "metadata": {
    "collapsed": false,
    "ExecuteTime": {
     "end_time": "2024-08-10T23:19:04.483627Z",
     "start_time": "2024-08-10T23:19:04.481429Z"
    }
   },
   "outputs": [],
   "source": [
    "datos.loc[datos['antesdhorasejercicio'] > 168, 'antesdhorasejercicio'] = np.nan"
   ]
  },
  {
   "attachments": {},
   "cell_type": "markdown",
   "metadata": {
    "collapsed": false
   },
   "source": [
    "### ejerciciosinpandemia y conapndemiaejercicio"
   ]
  },
  {
   "attachments": {},
   "cell_type": "markdown",
   "metadata": {
    "collapsed": false
   },
   "source": [
    "La columna `ejerciciosinpandemia` es la cantidad de ejercicio que se hacia ya estando en la carrera,\n",
    "pero sin pandemia. Y la columna `conapndemiaejercicio` es lo mismo, pero con pandemia"
   ]
  },
  {
   "cell_type": "code",
   "execution_count": 159,
   "metadata": {
    "collapsed": false,
    "ExecuteTime": {
     "end_time": "2024-08-10T23:19:04.597578Z",
     "start_time": "2024-08-10T23:19:04.594836Z"
    }
   },
   "outputs": [
    {
     "data": {
      "text/plain": "0      0.0\n1      0.5\n2      1.0\n3      1.5\n4      2.0\n5      2.5\n6      3.0\n7      4.0\n8      5.0\n9      6.0\n10     7.0\n11     8.0\n12     9.0\n13    10.0\n14    11.0\n15    12.0\n16    13.0\n17    14.0\n18    15.0\n19    18.0\n20     NaN\nName: ejerciciosinpandemia, dtype: float64"
     },
     "execution_count": 159,
     "metadata": {},
     "output_type": "execute_result"
    }
   ],
   "source": [
    "mostrar_unicos('ejerciciosinpandemia')"
   ]
  },
  {
   "cell_type": "code",
   "execution_count": 160,
   "metadata": {
    "collapsed": false,
    "ExecuteTime": {
     "end_time": "2024-08-10T23:19:04.685847Z",
     "start_time": "2024-08-10T23:19:04.682832Z"
    }
   },
   "outputs": [
    {
     "data": {
      "text/plain": "0       0.0\n1       0.3\n2       0.5\n3       1.0\n4       1.5\n5       2.0\n6       2.5\n7       3.0\n8       3.5\n9       4.0\n10      4.5\n11      5.0\n12      5.5\n13      6.0\n14      7.0\n15      8.0\n16      9.0\n17     10.0\n18     11.0\n19     12.0\n20     14.0\n21     15.0\n22     16.0\n23     18.0\n24     21.0\n25     30.0\n26     36.0\n27    130.0\n28      NaN\nName: conapndemiaejercicio, dtype: float64"
     },
     "execution_count": 160,
     "metadata": {},
     "output_type": "execute_result"
    }
   ],
   "source": [
    "mostrar_unicos('conapndemiaejercicio')"
   ]
  },
  {
   "attachments": {},
   "cell_type": "markdown",
   "metadata": {
    "collapsed": false
   },
   "source": [
    "Hay un valor de 130, pero como no supera a 168 no se le modificará."
   ]
  },
  {
   "attachments": {},
   "cell_type": "markdown",
   "metadata": {
    "collapsed": false
   },
   "source": [
    "## q0r1004"
   ]
  },
  {
   "attachments": {},
   "cell_type": "markdown",
   "metadata": {
    "collapsed": false
   },
   "source": [
    "Se le pregunta al encuestado si toma o ha tomado de manera habitual"
   ]
  },
  {
   "cell_type": "code",
   "execution_count": 161,
   "metadata": {
    "collapsed": false,
    "ExecuteTime": {
     "end_time": "2024-08-10T23:19:04.793633Z",
     "start_time": "2024-08-10T23:19:04.790937Z"
    }
   },
   "outputs": [
    {
     "data": {
      "text/plain": "0    -oth-\n1      A01\n2      A02\n3      A03\n4      NaN\nName: q0r1004, dtype: object"
     },
     "execution_count": 161,
     "metadata": {},
     "output_type": "execute_result"
    }
   ],
   "source": [
    "mostrar_unicos('q0r1004')"
   ]
  },
  {
   "cell_type": "code",
   "execution_count": 162,
   "metadata": {
    "collapsed": false,
    "ExecuteTime": {
     "end_time": "2024-08-10T23:19:04.913316Z",
     "start_time": "2024-08-10T23:19:04.907049Z"
    }
   },
   "outputs": [
    {
     "name": "stderr",
     "output_type": "stream",
     "text": [
      "/Users/erickavendanogarcia/Downloads/servicio_social/encuestas/auxiliar_4.py:99: FutureWarning: A value is trying to be set on a copy of a DataFrame or Series through chained assignment using an inplace method.\n",
      "The behavior will change in pandas 3.0. This inplace method will never work because the intermediate object on which we are setting values always behaves as a copy.\n",
      "\n",
      "For example, when doing 'df[col].method(value, inplace=True)', try using 'df.method({col: value}, inplace=True)' or df[col] = df[col].method(value) instead, to perform the operation inplace on the original object.\n",
      "\n",
      "\n",
      "  df[columna].replace(mapeo[columna], inplace=True)\n"
     ]
    },
    {
     "data": {
      "text/plain": "0                 CADA DO SEMANAS\n1                 ESPORADICAMENTE\n2             MUY ESPORADICAMENTE\n3                  NO ES HABITUAL\n4     NO TAN HABITUAL A LA SEMANA\n5                         No sé_9\n6                            No_2\n7                       OCASIONAL\n8                  OCASIONALMENTE\n9                          SOCIAL\n10                        SOCIAL \n11                    SOCIALMENTE\n12                SOLO EN FIESTAS\n13                         Social\n14                           Sí_1\n15           UNO VEZ AL AÑO O DOS\n16                esporádicamente\n17               esporádicamente \n18                 ocasionalmente\n19                         social\n20                        social \n21                            NaN\nName: q0r1004, dtype: object"
     },
     "execution_count": 162,
     "metadata": {},
     "output_type": "execute_result"
    }
   ],
   "source": [
    "llenar_respuesta_libre('q0r1004')\n",
    "mapear_codigos('q0r1004')\n",
    "mostrar_unicos('q0r1004')"
   ]
  },
  {
   "cell_type": "code",
   "execution_count": 163,
   "metadata": {
    "collapsed": false,
    "ExecuteTime": {
     "end_time": "2024-08-10T23:19:05.043261Z",
     "start_time": "2024-08-10T23:19:05.038135Z"
    }
   },
   "outputs": [
    {
     "name": "stderr",
     "output_type": "stream",
     "text": [
      "/var/folders/hb/c3zh8bns0mx4nw98_6k7rx8m0000gn/T/ipykernel_4464/2156195268.py:4: FutureWarning: A value is trying to be set on a copy of a DataFrame or Series through chained assignment using an inplace method.\n",
      "The behavior will change in pandas 3.0. This inplace method will never work because the intermediate object on which we are setting values always behaves as a copy.\n",
      "\n",
      "For example, when doing 'df[col].method(value, inplace=True)', try using 'df.method({col: value}, inplace=True)' or df[col] = df[col].method(value) instead, to perform the operation inplace on the original object.\n",
      "\n",
      "\n",
      "  datos['q0r1004'].replace({'Sí_1': 'A01', 'No_2': 'A02', 'No sé_3': 'A03'}, inplace=True)\n"
     ]
    },
    {
     "data": {
      "text/plain": "0        A01\n1        A02\n2        A03\n3    No sé_9\nName: q0r1004, dtype: object"
     },
     "execution_count": 163,
     "metadata": {},
     "output_type": "execute_result"
    }
   ],
   "source": [
    "llenar_vacios('q0r1004', 'No sé_3')\n",
    "unificar_observaciones('q0r1004', r'ocasional|habitual|social|espor|año', 'No_2')\n",
    "unificar_observaciones('q0r1004', r'cada|fiesta', 'Sí_1')\n",
    "datos['q0r1004'].replace({'Sí_1': 'A01', 'No_2': 'A02', 'No sé_3': 'A03'}, inplace=True)\n",
    "mostrar_unicos('q0r1004')"
   ]
  },
  {
   "attachments": {},
   "cell_type": "markdown",
   "metadata": {
    "collapsed": false
   },
   "source": []
  },
  {
   "cell_type": "code",
   "execution_count": 164,
   "metadata": {
    "collapsed": false,
    "ExecuteTime": {
     "end_time": "2024-08-10T23:19:05.146207Z",
     "start_time": "2024-08-10T23:19:05.144228Z"
    }
   },
   "outputs": [
    {
     "data": {
      "text/plain": "{'A01': 'Sí_1', 'A02': 'No_2', 'A03': 'No sé_9', 'A04': 'No aplica_88'}"
     },
     "execution_count": 164,
     "metadata": {},
     "output_type": "execute_result"
    }
   ],
   "source": [
    "mapeo_respuestas['q0r1004']"
   ]
  },
  {
   "attachments": {},
   "cell_type": "markdown",
   "metadata": {
    "collapsed": false
   },
   "source": [
    "## Comida"
   ]
  },
  {
   "attachments": {},
   "cell_type": "markdown",
   "metadata": {
    "collapsed": false
   },
   "source": [
    "- sinpandemiacomid: cuánto comía durante la carrera, sin pandemia\n",
    "- conpandemiacomida: cuánto comía durante la carrera, con pandemia\n",
    "- antesdecomidas: cuánto comía antes de entrar a la carrera\n"
   ]
  },
  {
   "cell_type": "code",
   "execution_count": 165,
   "metadata": {
    "collapsed": false,
    "ExecuteTime": {
     "end_time": "2024-08-10T23:19:05.267407Z",
     "start_time": "2024-08-10T23:19:05.264508Z"
    }
   },
   "outputs": [
    {
     "data": {
      "text/plain": "0    -oth-\n1       A2\n2       A3\n3       A4\n4       A5\n5       A6\n6      NaN\nName: sinpandemiacomid, dtype: object"
     },
     "execution_count": 165,
     "metadata": {},
     "output_type": "execute_result"
    }
   ],
   "source": [
    "mostrar_unicos('sinpandemiacomid')"
   ]
  },
  {
   "cell_type": "code",
   "execution_count": 166,
   "metadata": {
    "collapsed": false,
    "ExecuteTime": {
     "end_time": "2024-08-10T23:19:05.419775Z",
     "start_time": "2024-08-10T23:19:05.413980Z"
    }
   },
   "outputs": [
    {
     "name": "stderr",
     "output_type": "stream",
     "text": [
      "/Users/erickavendanogarcia/Downloads/servicio_social/encuestas/auxiliar_4.py:99: FutureWarning: A value is trying to be set on a copy of a DataFrame or Series through chained assignment using an inplace method.\n",
      "The behavior will change in pandas 3.0. This inplace method will never work because the intermediate object on which we are setting values always behaves as a copy.\n",
      "\n",
      "For example, when doing 'df[col].method(value, inplace=True)', try using 'df.method({col: value}, inplace=True)' or df[col] = df[col].method(value) instead, to perform the operation inplace on the original object.\n",
      "\n",
      "\n",
      "  df[columna].replace(mapeo[columna], inplace=True)\n"
     ]
    },
    {
     "data": {
      "text/plain": "0                   Lo recomendado_3\n1          Menos de lo recomendado_2\n2    Mucho Menos de lo recomendado_1\n3      Mucho más de lo recomendado_5\n4            Más de lo recomendado_4\n5            POR TEMPORADAS CAMBIABA\n6                                NaN\nName: sinpandemiacomid, dtype: object"
     },
     "execution_count": 166,
     "metadata": {},
     "output_type": "execute_result"
    }
   ],
   "source": [
    "llenar_respuesta_libre('sinpandemiacomid')\n",
    "mapear_codigos('sinpandemiacomid')\n",
    "mostrar_unicos('sinpandemiacomid')"
   ]
  },
  {
   "cell_type": "code",
   "execution_count": 167,
   "metadata": {
    "collapsed": false,
    "ExecuteTime": {
     "end_time": "2024-08-10T23:19:05.555530Z",
     "start_time": "2024-08-10T23:19:05.551175Z"
    }
   },
   "outputs": [
    {
     "name": "stderr",
     "output_type": "stream",
     "text": [
      "/Users/erickavendanogarcia/Downloads/servicio_social/encuestas/auxiliar_4.py:143: FutureWarning: A value is trying to be set on a copy of a DataFrame or Series through chained assignment using an inplace method.\n",
      "The behavior will change in pandas 3.0. This inplace method will never work because the intermediate object on which we are setting values always behaves as a copy.\n",
      "\n",
      "For example, when doing 'df[col].method(value, inplace=True)', try using 'df.method({col: value}, inplace=True)' or df[col] = df[col].method(value) instead, to perform the operation inplace on the original object.\n",
      "\n",
      "\n",
      "  df[columna].fillna(valor, inplace=True)\n"
     ]
    },
    {
     "data": {
      "text/plain": "0                   Lo recomendado_3\n1          Menos de lo recomendado_2\n2    Mucho Menos de lo recomendado_1\n3      Mucho más de lo recomendado_5\n4            Más de lo recomendado_4\nName: sinpandemiacomid, dtype: object"
     },
     "execution_count": 167,
     "metadata": {},
     "output_type": "execute_result"
    }
   ],
   "source": [
    "unificar_observaciones('sinpandemiacomid', r'temporada', 'Menos de lo recomendado_2')\n",
    "llenar_vacios('sinpandemiacomid', 'Menos de lo recomendado_2')\n",
    "mostrar_unicos('sinpandemiacomid')"
   ]
  },
  {
   "cell_type": "code",
   "execution_count": 168,
   "metadata": {
    "collapsed": false,
    "ExecuteTime": {
     "end_time": "2024-08-10T23:19:05.636557Z",
     "start_time": "2024-08-10T23:19:05.633351Z"
    }
   },
   "outputs": [
    {
     "data": {
      "text/plain": "0    A2\n1    A3\n2    A4\n3    A5\n4    A6\nName: sinpandemiacomid, dtype: object"
     },
     "execution_count": 168,
     "metadata": {},
     "output_type": "execute_result"
    }
   ],
   "source": [
    "mapeo_inverso = {v: k for k, v in mapeo_respuestas['sinpandemiacomid'].items()}\n",
    "datos['sinpandemiacomid'].replace(mapeo_inverso, inplace=True)\n",
    "mostrar_unicos('sinpandemiacomid')"
   ]
  },
  {
   "attachments": {},
   "cell_type": "markdown",
   "metadata": {
    "collapsed": false
   },
   "source": [
    "# Estímulos y respuestas"
   ]
  },
  {
   "attachments": {},
   "cell_type": "markdown",
   "metadata": {
    "collapsed": false
   },
   "source": [
    "Las 6 palabras estímulo son:"
   ]
  },
  {
   "cell_type": "code",
   "execution_count": 169,
   "metadata": {
    "collapsed": false,
    "ExecuteTime": {
     "end_time": "2024-08-10T23:19:05.772334Z",
     "start_time": "2024-08-10T23:19:05.770710Z"
    }
   },
   "outputs": [],
   "source": [
    "estimulos = ['ejercicio', 'cubrebocas', 'vacuna', 'covid', 'dieta', 'obesidad']"
   ]
  },
  {
   "attachments": {},
   "cell_type": "markdown",
   "metadata": {
    "collapsed": false
   },
   "source": [
    "## Explicación estructura"
   ]
  },
  {
   "attachments": {},
   "cell_type": "markdown",
   "metadata": {
    "collapsed": false
   },
   "source": [
    "El encuestador dice cada uno de los 6 estímulos y el encuestado debe mencionar 10 palabras que le vengan a la mente.\n",
    "Por esta razón, la dinámica se conforma de 6 rondas. Cada una consiste de una palabra estímulo dicha al azar y de las 10 respuestas correspondientes.\n",
    "Entonces, para cada ronda, se tiene 11 columnas contiguas (la primera de las cuales corresponde a la palabra estímulo)."
   ]
  },
  {
   "attachments": {},
   "cell_type": "markdown",
   "metadata": {
    "collapsed": false
   },
   "source": [
    "Las 6 columnas que contienen el estímulo de cada ronda se denominarán **columnas detonantes** y sus nombres dentro del conjunto de datos son:"
   ]
  },
  {
   "cell_type": "code",
   "execution_count": 170,
   "metadata": {
    "collapsed": false,
    "ExecuteTime": {
     "end_time": "2024-08-10T23:19:05.891894Z",
     "start_time": "2024-08-10T23:19:05.890240Z"
    }
   },
   "outputs": [],
   "source": [
    "detonantes = ['w64', 'e456', 't66', 't75', 'd52', 'q77']"
   ]
  },
  {
   "cell_type": "code",
   "execution_count": 171,
   "metadata": {
    "collapsed": false,
    "ExecuteTime": {
     "end_time": "2024-08-10T23:19:06.036401Z",
     "start_time": "2024-08-10T23:19:06.032232Z"
    }
   },
   "outputs": [
    {
     "data": {
      "text/plain": "                                                   w64  \\\n0                                            EJERCICIO   \n1                                           CUBREBOCAS   \n2                                            EJERCICIO   \n3                                             obesidad   \n4                                           EJERCICIO    \n..                                                 ...   \n718                                             VACUNA   \n719                                           OBESIDAD   \n720                                         CUBREBOCAS   \n721  salud, Covid, gente, protocolo, enfermedad, co...   \n722                                          EJERCICIO   \n\n                                                  e456  \\\n0                                                COVID   \n1                                             OBESIDAD   \n2                                              VACUNA    \n3                                           cubrebocas   \n4                                               VACUNA   \n..                                                 ...   \n718                                          EJERCICIO   \n719                                              COVID   \n720                                              DIETA   \n721  salud, hábitos, comida, vida, imagen, segurida...   \n722                                             VACUNA   \n\n                                                   t66  \\\n0                                                DIETA   \n1                                                COVID   \n2                                                DIETA   \n3                                            ejercicio   \n4                                             OBESIDAD   \n..                                                 ...   \n718                                         CUBREBOCAS   \n719                                              DIETA   \n720                                              COVID   \n721  protección, responsabilidad, médico, virus, be...   \n722                                           OBESIDAD   \n\n                                                   t75  \\\n0                                               VACUNA   \n1                                                DIETA   \n2                                                COVID   \n3                                               vacuna   \n4                                                COVID   \n..                                                 ...   \n718                                              DIETA   \n719                                         CUBREBOCAS   \n720                                           OBESIDAD   \n721  comida, plan, compromiso, cuerpo, salud, medid...   \n722                                              COVID   \n\n                                                   d52  \\\n0                                             OBESIDAD   \n1                                               VACUNA   \n2                                             OBESIDAD   \n3                                                dieta   \n4                                                DIETA   \n..                                                 ...   \n718                                              COVID   \n719                                          EJERCICIO   \n720                                             VACUNA   \n721  pandemia, aprendizaje, realidad, protección, d...   \n722                                              DIETA   \n\n                                                   q77  \n0                                           CUBREBOCAS  \n1                                            EJERCICIO  \n2                                           CUBREBOCAS  \n3                                                covid  \n4                                           CUBREBOCAS  \n..                                                 ...  \n718                                           OBESIDAD  \n719                                             VACUNA  \n720                                          EJERCICIO  \n721  salud, sudor, bienestar, cuerpo, atención, ret...  \n722                                         CUBREBOCAS  \n\n[722 rows x 6 columns]",
      "text/html": "<div>\n<style scoped>\n    .dataframe tbody tr th:only-of-type {\n        vertical-align: middle;\n    }\n\n    .dataframe tbody tr th {\n        vertical-align: top;\n    }\n\n    .dataframe thead th {\n        text-align: right;\n    }\n</style>\n<table border=\"1\" class=\"dataframe\">\n  <thead>\n    <tr style=\"text-align: right;\">\n      <th></th>\n      <th>w64</th>\n      <th>e456</th>\n      <th>t66</th>\n      <th>t75</th>\n      <th>d52</th>\n      <th>q77</th>\n    </tr>\n  </thead>\n  <tbody>\n    <tr>\n      <th>0</th>\n      <td>EJERCICIO</td>\n      <td>COVID</td>\n      <td>DIETA</td>\n      <td>VACUNA</td>\n      <td>OBESIDAD</td>\n      <td>CUBREBOCAS</td>\n    </tr>\n    <tr>\n      <th>1</th>\n      <td>CUBREBOCAS</td>\n      <td>OBESIDAD</td>\n      <td>COVID</td>\n      <td>DIETA</td>\n      <td>VACUNA</td>\n      <td>EJERCICIO</td>\n    </tr>\n    <tr>\n      <th>2</th>\n      <td>EJERCICIO</td>\n      <td>VACUNA</td>\n      <td>DIETA</td>\n      <td>COVID</td>\n      <td>OBESIDAD</td>\n      <td>CUBREBOCAS</td>\n    </tr>\n    <tr>\n      <th>3</th>\n      <td>obesidad</td>\n      <td>cubrebocas</td>\n      <td>ejercicio</td>\n      <td>vacuna</td>\n      <td>dieta</td>\n      <td>covid</td>\n    </tr>\n    <tr>\n      <th>4</th>\n      <td>EJERCICIO</td>\n      <td>VACUNA</td>\n      <td>OBESIDAD</td>\n      <td>COVID</td>\n      <td>DIETA</td>\n      <td>CUBREBOCAS</td>\n    </tr>\n    <tr>\n      <th>...</th>\n      <td>...</td>\n      <td>...</td>\n      <td>...</td>\n      <td>...</td>\n      <td>...</td>\n      <td>...</td>\n    </tr>\n    <tr>\n      <th>718</th>\n      <td>VACUNA</td>\n      <td>EJERCICIO</td>\n      <td>CUBREBOCAS</td>\n      <td>DIETA</td>\n      <td>COVID</td>\n      <td>OBESIDAD</td>\n    </tr>\n    <tr>\n      <th>719</th>\n      <td>OBESIDAD</td>\n      <td>COVID</td>\n      <td>DIETA</td>\n      <td>CUBREBOCAS</td>\n      <td>EJERCICIO</td>\n      <td>VACUNA</td>\n    </tr>\n    <tr>\n      <th>720</th>\n      <td>CUBREBOCAS</td>\n      <td>DIETA</td>\n      <td>COVID</td>\n      <td>OBESIDAD</td>\n      <td>VACUNA</td>\n      <td>EJERCICIO</td>\n    </tr>\n    <tr>\n      <th>721</th>\n      <td>salud, Covid, gente, protocolo, enfermedad, co...</td>\n      <td>salud, hábitos, comida, vida, imagen, segurida...</td>\n      <td>protección, responsabilidad, médico, virus, be...</td>\n      <td>comida, plan, compromiso, cuerpo, salud, medid...</td>\n      <td>pandemia, aprendizaje, realidad, protección, d...</td>\n      <td>salud, sudor, bienestar, cuerpo, atención, ret...</td>\n    </tr>\n    <tr>\n      <th>722</th>\n      <td>EJERCICIO</td>\n      <td>VACUNA</td>\n      <td>OBESIDAD</td>\n      <td>COVID</td>\n      <td>DIETA</td>\n      <td>CUBREBOCAS</td>\n    </tr>\n  </tbody>\n</table>\n<p>722 rows × 6 columns</p>\n</div>"
     },
     "execution_count": 171,
     "metadata": {},
     "output_type": "execute_result"
    }
   ],
   "source": [
    "datos[detonantes]"
   ]
  },
  {
   "attachments": {},
   "cell_type": "markdown",
   "metadata": {
    "collapsed": false
   },
   "source": [
    "A su vez, los nombres de las 10 columnas de respuestas de cada ronda se forman de la siguiente manera:\n",
    "\n",
    "- Prefijo único correspondiente a cada ronda.\n",
    "- Posición de mención dentro de la ronda (que va desde 1 hasta 10).\n",
    "\n",
    "Por ejemplo, si una ronda tiene el prefijo *w4576*, entonces las columnas de respuestas de esa ronda tienen el siguiente aspecto:\n",
    "- *w4576[SQ001]*\n",
    "- *w4576[SQ002]*\n",
    "...\n",
    "- *w4576[SQ009]*.\n",
    "- *w4576[SQ010]*.\n",
    "\n",
    "Los prefijos de cada ronda son:"
   ]
  },
  {
   "cell_type": "code",
   "execution_count": 172,
   "metadata": {
    "collapsed": false,
    "ExecuteTime": {
     "end_time": "2024-08-10T23:19:06.130488Z",
     "start_time": "2024-08-10T23:19:06.128850Z"
    }
   },
   "outputs": [],
   "source": [
    "prefijos = ['w4576', 'x62', 'u75', 'rty6', 'q9', 'y65']"
   ]
  },
  {
   "attachments": {},
   "cell_type": "markdown",
   "metadata": {
    "collapsed": false
   },
   "source": [
    "Por lo tanto, el nombre las columnas de respuestas es el siguiente:"
   ]
  },
  {
   "cell_type": "code",
   "execution_count": 173,
   "metadata": {
    "collapsed": false,
    "ExecuteTime": {
     "end_time": "2024-08-10T23:19:06.229959Z",
     "start_time": "2024-08-10T23:19:06.228142Z"
    }
   },
   "outputs": [],
   "source": [
    "def generar_nombres_respuestas(prefijo):\n",
    "    return [f'{prefijo}[SQ{str(posicion).zfill(3)}]' for posicion in range(1, 11)]"
   ]
  },
  {
   "cell_type": "code",
   "execution_count": 174,
   "metadata": {
    "collapsed": false,
    "ExecuteTime": {
     "end_time": "2024-08-10T23:19:06.322859Z",
     "start_time": "2024-08-10T23:19:06.320030Z"
    }
   },
   "outputs": [
    {
     "data": {
      "text/plain": "['w4576[SQ001]',\n 'w4576[SQ002]',\n 'w4576[SQ003]',\n 'w4576[SQ004]',\n 'w4576[SQ005]',\n 'w4576[SQ006]',\n 'w4576[SQ007]',\n 'w4576[SQ008]',\n 'w4576[SQ009]',\n 'w4576[SQ010]',\n 'x62[SQ001]',\n 'x62[SQ002]',\n 'x62[SQ003]',\n 'x62[SQ004]',\n 'x62[SQ005]',\n 'x62[SQ006]',\n 'x62[SQ007]',\n 'x62[SQ008]',\n 'x62[SQ009]',\n 'x62[SQ010]',\n 'u75[SQ001]',\n 'u75[SQ002]',\n 'u75[SQ003]',\n 'u75[SQ004]',\n 'u75[SQ005]',\n 'u75[SQ006]',\n 'u75[SQ007]',\n 'u75[SQ008]',\n 'u75[SQ009]',\n 'u75[SQ010]',\n 'rty6[SQ001]',\n 'rty6[SQ002]',\n 'rty6[SQ003]',\n 'rty6[SQ004]',\n 'rty6[SQ005]',\n 'rty6[SQ006]',\n 'rty6[SQ007]',\n 'rty6[SQ008]',\n 'rty6[SQ009]',\n 'rty6[SQ010]',\n 'q9[SQ001]',\n 'q9[SQ002]',\n 'q9[SQ003]',\n 'q9[SQ004]',\n 'q9[SQ005]',\n 'q9[SQ006]',\n 'q9[SQ007]',\n 'q9[SQ008]',\n 'q9[SQ009]',\n 'q9[SQ010]',\n 'y65[SQ001]',\n 'y65[SQ002]',\n 'y65[SQ003]',\n 'y65[SQ004]',\n 'y65[SQ005]',\n 'y65[SQ006]',\n 'y65[SQ007]',\n 'y65[SQ008]',\n 'y65[SQ009]',\n 'y65[SQ010]']"
     },
     "execution_count": 174,
     "metadata": {},
     "output_type": "execute_result"
    }
   ],
   "source": [
    "columnas = [f'{prefijo}[SQ{str(i).zfill(3)}]' for prefijo in prefijos for i in range(1, 11)]\n",
    "columnas"
   ]
  },
  {
   "attachments": {},
   "cell_type": "markdown",
   "metadata": {
    "collapsed": false
   },
   "source": []
  },
  {
   "attachments": {},
   "cell_type": "markdown",
   "metadata": {
    "collapsed": false
   },
   "source": [
    "Para facilitar el acceso a los datos, para cada ronda se creará un diccionario que contenga el nombre de la columna detonante y una lista con los nombres de las columnas de respuestas."
   ]
  },
  {
   "cell_type": "code",
   "execution_count": 175,
   "metadata": {
    "collapsed": false,
    "ExecuteTime": {
     "end_time": "2024-08-10T23:19:06.416999Z",
     "start_time": "2024-08-10T23:19:06.414510Z"
    }
   },
   "outputs": [
    {
     "data": {
      "text/plain": "[{'detonante': 'w64',\n  'respuestas': ['w4576[SQ001]',\n   'w4576[SQ002]',\n   'w4576[SQ003]',\n   'w4576[SQ004]',\n   'w4576[SQ005]',\n   'w4576[SQ006]',\n   'w4576[SQ007]',\n   'w4576[SQ008]',\n   'w4576[SQ009]',\n   'w4576[SQ010]']},\n {'detonante': 'e456',\n  'respuestas': ['x62[SQ001]',\n   'x62[SQ002]',\n   'x62[SQ003]',\n   'x62[SQ004]',\n   'x62[SQ005]',\n   'x62[SQ006]',\n   'x62[SQ007]',\n   'x62[SQ008]',\n   'x62[SQ009]',\n   'x62[SQ010]']},\n {'detonante': 't66',\n  'respuestas': ['u75[SQ001]',\n   'u75[SQ002]',\n   'u75[SQ003]',\n   'u75[SQ004]',\n   'u75[SQ005]',\n   'u75[SQ006]',\n   'u75[SQ007]',\n   'u75[SQ008]',\n   'u75[SQ009]',\n   'u75[SQ010]']},\n {'detonante': 't75',\n  'respuestas': ['rty6[SQ001]',\n   'rty6[SQ002]',\n   'rty6[SQ003]',\n   'rty6[SQ004]',\n   'rty6[SQ005]',\n   'rty6[SQ006]',\n   'rty6[SQ007]',\n   'rty6[SQ008]',\n   'rty6[SQ009]',\n   'rty6[SQ010]']},\n {'detonante': 'd52',\n  'respuestas': ['q9[SQ001]',\n   'q9[SQ002]',\n   'q9[SQ003]',\n   'q9[SQ004]',\n   'q9[SQ005]',\n   'q9[SQ006]',\n   'q9[SQ007]',\n   'q9[SQ008]',\n   'q9[SQ009]',\n   'q9[SQ010]']},\n {'detonante': 'q77',\n  'respuestas': ['y65[SQ001]',\n   'y65[SQ002]',\n   'y65[SQ003]',\n   'y65[SQ004]',\n   'y65[SQ005]',\n   'y65[SQ006]',\n   'y65[SQ007]',\n   'y65[SQ008]',\n   'y65[SQ009]',\n   'y65[SQ010]']}]"
     },
     "execution_count": 175,
     "metadata": {},
     "output_type": "execute_result"
    }
   ],
   "source": [
    "rondas = [{'detonante': detonantes[i], 'respuestas': generar_nombres_respuestas(prefijos[i])} for i in range(6)]\n",
    "rondas"
   ]
  },
  {
   "attachments": {},
   "cell_type": "markdown",
   "metadata": {
    "collapsed": false
   },
   "source": [
    "Para la limpieza posterior, solo se necesitará las 66 columnas correspondientes a la dinámica de las 6 rondas y la señala el `id` de cada encuestado. Por lo tanto, se trabajará con el subconjunto de datos correspondiente a estas columnas.\n",
    "Al final del proceso se volverá a unir con el resto de las columnas a través del `id`."
   ]
  },
  {
   "cell_type": "code",
   "execution_count": 176,
   "metadata": {
    "collapsed": false,
    "ExecuteTime": {
     "end_time": "2024-08-10T23:19:06.517078Z",
     "start_time": "2024-08-10T23:19:06.510263Z"
    }
   },
   "outputs": [
    {
     "data": {
      "text/plain": "   id         w64 w4576[SQ001]   w4576[SQ002] w4576[SQ003] w4576[SQ004]  \\\n0  67   EJERCICIO        SALUD      BIENESTAR   IMPORTANTE     HABITUAL   \n1  68  CUBREBOCAS   PROTECCION       CUIDADO         SALUD     LIMPIEZA   \n2  69   EJERCICIO    SALUDABLE          SALUD        BUENO        FORMA   \n3  70    obesidad   enfermedad  alimentacion        comida      consumo   \n4  71  EJERCICIO        BALLET         FIGURA      PILATES         PESO   \n\n  w4576[SQ005]     w4576[SQ006] w4576[SQ007] w4576[SQ008]  ...     y65[SQ001]  \\\n0    NECESARIO        DIVERTIDO       SALTAR        BAILE  ...  CONTROVERSIAL   \n1     GERMENES              NaN          NaN          NaN  ...      SALUDABLE   \n2      DEPORTE         APARATOS     GIMNASIO       CORRER  ...         DOCTOR   \n3      atracon  descompensacion    ejercicio   activacion  ...     enfermedad   \n4    ACTIVIDAD            SALUD       CORRER    AEROBICO   ...          COVID   \n\n     y65[SQ002]  y65[SQ003]  y65[SQ004]  y65[SQ005]   y65[SQ006] y65[SQ007]  \\\n0     NECESARIO  IMPORTANTE      SOCIAL  PROTECCION  AUTOCUIDADO    FAMILIA   \n1  ESTIMULACION    NEURONAL   CONEXION   LONGEVIDAD   FORTALEZA         NaN   \n2      HOSPITAL  ENFERMEDAD       COVID    PANDEMIA    NECESARIO       UTIL   \n3         virus    pandemia   situacion      global       estres   ansiedad   \n4      PANDEMIA  PREVENCION  ENFERMEDAD  CUARENTENA    NECESARIO      SALUD   \n\n  y65[SQ008] y65[SQ009] y65[SQ010]  \n0      SALUD      COVID   HOSPITAL  \n1        NaN        NaN        NaN  \n2   INCOMODO        NaN        NaN  \n3    muertes        NaN        NaN  \n4   INCOMODO        NaN        NaN  \n\n[5 rows x 67 columns]",
      "text/html": "<div>\n<style scoped>\n    .dataframe tbody tr th:only-of-type {\n        vertical-align: middle;\n    }\n\n    .dataframe tbody tr th {\n        vertical-align: top;\n    }\n\n    .dataframe thead th {\n        text-align: right;\n    }\n</style>\n<table border=\"1\" class=\"dataframe\">\n  <thead>\n    <tr style=\"text-align: right;\">\n      <th></th>\n      <th>id</th>\n      <th>w64</th>\n      <th>w4576[SQ001]</th>\n      <th>w4576[SQ002]</th>\n      <th>w4576[SQ003]</th>\n      <th>w4576[SQ004]</th>\n      <th>w4576[SQ005]</th>\n      <th>w4576[SQ006]</th>\n      <th>w4576[SQ007]</th>\n      <th>w4576[SQ008]</th>\n      <th>...</th>\n      <th>y65[SQ001]</th>\n      <th>y65[SQ002]</th>\n      <th>y65[SQ003]</th>\n      <th>y65[SQ004]</th>\n      <th>y65[SQ005]</th>\n      <th>y65[SQ006]</th>\n      <th>y65[SQ007]</th>\n      <th>y65[SQ008]</th>\n      <th>y65[SQ009]</th>\n      <th>y65[SQ010]</th>\n    </tr>\n  </thead>\n  <tbody>\n    <tr>\n      <th>0</th>\n      <td>67</td>\n      <td>EJERCICIO</td>\n      <td>SALUD</td>\n      <td>BIENESTAR</td>\n      <td>IMPORTANTE</td>\n      <td>HABITUAL</td>\n      <td>NECESARIO</td>\n      <td>DIVERTIDO</td>\n      <td>SALTAR</td>\n      <td>BAILE</td>\n      <td>...</td>\n      <td>CONTROVERSIAL</td>\n      <td>NECESARIO</td>\n      <td>IMPORTANTE</td>\n      <td>SOCIAL</td>\n      <td>PROTECCION</td>\n      <td>AUTOCUIDADO</td>\n      <td>FAMILIA</td>\n      <td>SALUD</td>\n      <td>COVID</td>\n      <td>HOSPITAL</td>\n    </tr>\n    <tr>\n      <th>1</th>\n      <td>68</td>\n      <td>CUBREBOCAS</td>\n      <td>PROTECCION</td>\n      <td>CUIDADO</td>\n      <td>SALUD</td>\n      <td>LIMPIEZA</td>\n      <td>GERMENES</td>\n      <td>NaN</td>\n      <td>NaN</td>\n      <td>NaN</td>\n      <td>...</td>\n      <td>SALUDABLE</td>\n      <td>ESTIMULACION</td>\n      <td>NEURONAL</td>\n      <td>CONEXION</td>\n      <td>LONGEVIDAD</td>\n      <td>FORTALEZA</td>\n      <td>NaN</td>\n      <td>NaN</td>\n      <td>NaN</td>\n      <td>NaN</td>\n    </tr>\n    <tr>\n      <th>2</th>\n      <td>69</td>\n      <td>EJERCICIO</td>\n      <td>SALUDABLE</td>\n      <td>SALUD</td>\n      <td>BUENO</td>\n      <td>FORMA</td>\n      <td>DEPORTE</td>\n      <td>APARATOS</td>\n      <td>GIMNASIO</td>\n      <td>CORRER</td>\n      <td>...</td>\n      <td>DOCTOR</td>\n      <td>HOSPITAL</td>\n      <td>ENFERMEDAD</td>\n      <td>COVID</td>\n      <td>PANDEMIA</td>\n      <td>NECESARIO</td>\n      <td>UTIL</td>\n      <td>INCOMODO</td>\n      <td>NaN</td>\n      <td>NaN</td>\n    </tr>\n    <tr>\n      <th>3</th>\n      <td>70</td>\n      <td>obesidad</td>\n      <td>enfermedad</td>\n      <td>alimentacion</td>\n      <td>comida</td>\n      <td>consumo</td>\n      <td>atracon</td>\n      <td>descompensacion</td>\n      <td>ejercicio</td>\n      <td>activacion</td>\n      <td>...</td>\n      <td>enfermedad</td>\n      <td>virus</td>\n      <td>pandemia</td>\n      <td>situacion</td>\n      <td>global</td>\n      <td>estres</td>\n      <td>ansiedad</td>\n      <td>muertes</td>\n      <td>NaN</td>\n      <td>NaN</td>\n    </tr>\n    <tr>\n      <th>4</th>\n      <td>71</td>\n      <td>EJERCICIO</td>\n      <td>BALLET</td>\n      <td>FIGURA</td>\n      <td>PILATES</td>\n      <td>PESO</td>\n      <td>ACTIVIDAD</td>\n      <td>SALUD</td>\n      <td>CORRER</td>\n      <td>AEROBICO</td>\n      <td>...</td>\n      <td>COVID</td>\n      <td>PANDEMIA</td>\n      <td>PREVENCION</td>\n      <td>ENFERMEDAD</td>\n      <td>CUARENTENA</td>\n      <td>NECESARIO</td>\n      <td>SALUD</td>\n      <td>INCOMODO</td>\n      <td>NaN</td>\n      <td>NaN</td>\n    </tr>\n  </tbody>\n</table>\n<p>5 rows × 67 columns</p>\n</div>"
     },
     "execution_count": 176,
     "metadata": {},
     "output_type": "execute_result"
    }
   ],
   "source": [
    "columnas_rondas = []\n",
    "for numero_ronda in range(len(rondas)):\n",
    "    columnas_rondas.append(rondas[numero_ronda]['detonante'])\n",
    "    columnas_rondas.extend(rondas[numero_ronda]['respuestas'])\n",
    "datos_rondas = datos[['id'] + columnas_rondas]\n",
    "datos_rondas.head()"
   ]
  },
  {
   "attachments": {},
   "cell_type": "markdown",
   "metadata": {
    "collapsed": false
   },
   "source": [
    "## Limpieza detonantes"
   ]
  },
  {
   "attachments": {},
   "cell_type": "markdown",
   "metadata": {
    "collapsed": false
   },
   "source": [
    "Las observaciones de las columnas detonantes deberían ser alguna de las palabras estímulo. Sin embargo, se observa que hay muchos valores diferentes:"
   ]
  },
  {
   "cell_type": "code",
   "execution_count": 177,
   "metadata": {
    "collapsed": false,
    "ExecuteTime": {
     "end_time": "2024-08-10T23:19:06.650550Z",
     "start_time": "2024-08-10T23:19:06.646862Z"
    }
   },
   "outputs": [
    {
     "data": {
      "text/plain": "w64     130\ne456    139\nt66     132\nt75     130\nd52     135\nq77     132\ndtype: int64"
     },
     "execution_count": 177,
     "metadata": {},
     "output_type": "execute_result"
    }
   ],
   "source": [
    "# se esperaría 6 valores únicos en cada columna\n",
    "datos_rondas[detonantes].nunique()"
   ]
  },
  {
   "cell_type": "code",
   "execution_count": 178,
   "metadata": {
    "collapsed": false,
    "ExecuteTime": {
     "end_time": "2024-08-10T23:19:06.735469Z",
     "start_time": "2024-08-10T23:19:06.729780Z"
    }
   },
   "outputs": [
    {
     "data": {
      "text/plain": "            w64       e456       t66        t75         d52         q77\n351      VACUNA      DIETA     COVID  EJERCICIO  CUBREBOCAS    OBESIDAD\n257   EJERCICIO     VACUNA     DIETA      COVID    OBESIDAD  CUBREBOCAS\n89        DIETA      COVID  OBESIDAD     VACUNA   EJERCICIO  CUBREBOCAS\n185  Cubrebocas   Obesidad    Vacuna      Dieta       COVID   Ejercicio\n526       COVID  EJERCICIO    VACUNA   OBESIDAD  CUBREBOCAS       DIETA",
      "text/html": "<div>\n<style scoped>\n    .dataframe tbody tr th:only-of-type {\n        vertical-align: middle;\n    }\n\n    .dataframe tbody tr th {\n        vertical-align: top;\n    }\n\n    .dataframe thead th {\n        text-align: right;\n    }\n</style>\n<table border=\"1\" class=\"dataframe\">\n  <thead>\n    <tr style=\"text-align: right;\">\n      <th></th>\n      <th>w64</th>\n      <th>e456</th>\n      <th>t66</th>\n      <th>t75</th>\n      <th>d52</th>\n      <th>q77</th>\n    </tr>\n  </thead>\n  <tbody>\n    <tr>\n      <th>351</th>\n      <td>VACUNA</td>\n      <td>DIETA</td>\n      <td>COVID</td>\n      <td>EJERCICIO</td>\n      <td>CUBREBOCAS</td>\n      <td>OBESIDAD</td>\n    </tr>\n    <tr>\n      <th>257</th>\n      <td>EJERCICIO</td>\n      <td>VACUNA</td>\n      <td>DIETA</td>\n      <td>COVID</td>\n      <td>OBESIDAD</td>\n      <td>CUBREBOCAS</td>\n    </tr>\n    <tr>\n      <th>89</th>\n      <td>DIETA</td>\n      <td>COVID</td>\n      <td>OBESIDAD</td>\n      <td>VACUNA</td>\n      <td>EJERCICIO</td>\n      <td>CUBREBOCAS</td>\n    </tr>\n    <tr>\n      <th>185</th>\n      <td>Cubrebocas</td>\n      <td>Obesidad</td>\n      <td>Vacuna</td>\n      <td>Dieta</td>\n      <td>COVID</td>\n      <td>Ejercicio</td>\n    </tr>\n    <tr>\n      <th>526</th>\n      <td>COVID</td>\n      <td>EJERCICIO</td>\n      <td>VACUNA</td>\n      <td>OBESIDAD</td>\n      <td>CUBREBOCAS</td>\n      <td>DIETA</td>\n    </tr>\n  </tbody>\n</table>\n</div>"
     },
     "execution_count": 178,
     "metadata": {},
     "output_type": "execute_result"
    }
   ],
   "source": [
    "datos_rondas[detonantes].sample(5, random_state=8)"
   ]
  },
  {
   "attachments": {},
   "cell_type": "markdown",
   "metadata": {
    "collapsed": false
   },
   "source": [
    "Hay pocas observaciones que tienen alguna observación faltante para las columnas detonates, así que se pueden eliminar."
   ]
  },
  {
   "cell_type": "code",
   "execution_count": 179,
   "metadata": {
    "collapsed": false,
    "ExecuteTime": {
     "end_time": "2024-08-10T23:19:06.866232Z",
     "start_time": "2024-08-10T23:19:06.864257Z"
    }
   },
   "outputs": [
    {
     "name": "stdout",
     "output_type": "stream",
     "text": [
      "Total de observaciones: 722\n"
     ]
    }
   ],
   "source": [
    "print(f'Total de observaciones: {len(datos_rondas)}')"
   ]
  },
  {
   "cell_type": "code",
   "execution_count": 180,
   "metadata": {
    "collapsed": false,
    "ExecuteTime": {
     "end_time": "2024-08-10T23:19:07.003826Z",
     "start_time": "2024-08-10T23:19:07.000889Z"
    }
   },
   "outputs": [
    {
     "data": {
      "text/plain": "w64     2\ne456    3\nt66     2\nt75     2\nd52     2\nq77     3\ndtype: int64"
     },
     "execution_count": 180,
     "metadata": {},
     "output_type": "execute_result"
    }
   ],
   "source": [
    "datos_rondas[detonantes].isna().sum()"
   ]
  },
  {
   "cell_type": "code",
   "execution_count": 181,
   "metadata": {
    "collapsed": false,
    "ExecuteTime": {
     "end_time": "2024-08-10T23:19:07.193413Z",
     "start_time": "2024-08-10T23:19:07.190133Z"
    }
   },
   "outputs": [
    {
     "name": "stdout",
     "output_type": "stream",
     "text": [
      "Total de observaciones tras quitar valores faltantes: 717\n"
     ]
    },
    {
     "name": "stderr",
     "output_type": "stream",
     "text": [
      "/var/folders/hb/c3zh8bns0mx4nw98_6k7rx8m0000gn/T/ipykernel_4464/3897469548.py:1: SettingWithCopyWarning: \n",
      "A value is trying to be set on a copy of a slice from a DataFrame\n",
      "\n",
      "See the caveats in the documentation: https://pandas.pydata.org/pandas-docs/stable/user_guide/indexing.html#returning-a-view-versus-a-copy\n",
      "  datos_rondas.dropna(subset=detonantes, inplace=True)\n"
     ]
    }
   ],
   "source": [
    "datos_rondas.dropna(subset=detonantes, inplace=True)\n",
    "print(f'Total de observaciones tras quitar valores faltantes: {len(datos_rondas)}')"
   ]
  },
  {
   "cell_type": "code",
   "execution_count": 182,
   "metadata": {
    "collapsed": false,
    "ExecuteTime": {
     "end_time": "2024-08-10T23:19:07.357662Z",
     "start_time": "2024-08-10T23:19:07.333801Z"
    }
   },
   "outputs": [
    {
     "name": "stderr",
     "output_type": "stream",
     "text": [
      "<>:6: SyntaxWarning: invalid escape sequence '\\s'\n",
      "<>:6: SyntaxWarning: invalid escape sequence '\\s'\n",
      "/var/folders/hb/c3zh8bns0mx4nw98_6k7rx8m0000gn/T/ipykernel_4464/2576850734.py:6: SyntaxWarning: invalid escape sequence '\\s'\n",
      "  datos_rondas = datos_rondas[~datos_rondas[col_carrera].str.contains('\\s')]\n",
      "/var/folders/hb/c3zh8bns0mx4nw98_6k7rx8m0000gn/T/ipykernel_4464/2576850734.py:2: SettingWithCopyWarning: \n",
      "A value is trying to be set on a copy of a slice from a DataFrame.\n",
      "Try using .loc[row_indexer,col_indexer] = value instead\n",
      "\n",
      "See the caveats in the documentation: https://pandas.pydata.org/pandas-docs/stable/user_guide/indexing.html#returning-a-view-versus-a-copy\n",
      "  datos_rondas[col_carrera] = datos_rondas[col_carrera].str.lower().str.strip()\n"
     ]
    }
   ],
   "source": [
    "for col_carrera in detonantes:\n",
    "    datos_rondas[col_carrera] = datos_rondas[col_carrera].str.lower().str.strip()\n",
    "    # En lugar de una palabra hay una lista de palabras, por error del encuestador\n",
    "    datos_rondas = datos_rondas[~datos_rondas[col_carrera].str.contains('.*\\n.*\\n.*\\n.*')]\n",
    "    # Eliminamos si hay espacios\n",
    "    datos_rondas = datos_rondas[~datos_rondas[col_carrera].str.contains('\\s')]\n",
    "    # Pulimos algunos detalles respecto a las formas en que se pueden escribir las palabras (faltas de ortografía)\n",
    "    #TODO: cambiar por distancia de cadenas\n",
    "    datos_rondas[col_carrera] = datos_rondas[col_carrera].str.replace('ejer[c]?i.*', 'ejercicio',\n",
    "                                                                      regex=True)\n",
    "    datos_rondas[col_carrera] = datos_rondas[col_carrera].str.replace('c[ou]b[re][re]bo.*',\n",
    "                                                                      'cubrebocas',\n",
    "                                                                      regex=True)\n",
    "    datos_rondas[col_carrera] = datos_rondas[col_carrera].str.replace('covid.*', 'covid', regex=True)\n",
    "    datos_rondas[col_carrera] = datos_rondas[col_carrera].str.replace('ob[d]?esid.*', 'obesidad',\n",
    "                                                                      regex=True)\n",
    "    datos_rondas[col_carrera] = datos_rondas[col_carrera].str.replace('ob[d]?esid.*', 'obesidad',\n",
    "                                                                      regex=True)\n",
    "    datos_rondas[col_carrera] = datos_rondas[col_carrera].str.replace('ob[d]?esid.*', 'obesidad',\n",
    "                                                                      regex=True)\n",
    "    # Solo se mantienen las palabras que son estímulos\n",
    "    datos_rondas = datos_rondas[datos_rondas[col_carrera].isin(estimulos)]\n"
   ]
  },
  {
   "attachments": {},
   "cell_type": "markdown",
   "metadata": {
    "collapsed": false
   },
   "source": [
    "## Cambio de formato"
   ]
  },
  {
   "attachments": {},
   "cell_type": "markdown",
   "metadata": {
    "collapsed": false
   },
   "source": [
    "Este es el paso más importante.\n",
    "Hasta ahora cada columna detonante puede tener distintas palabras estímulo debido al azar en cada ronda. Para los análisis posteriores es más conveniente que cada columna detonante tenga una sola palabra estímulo.\n",
    "En este caso, el nombre de la columna detonante resultante será el nombre de la palabra estímulo. Incluso se puede sustituir los sufijos de las columnas de respuestas por el nombre de la palabra estímulo."
   ]
  },
  {
   "cell_type": "code",
   "execution_count": 183,
   "metadata": {
    "collapsed": false,
    "ExecuteTime": {
     "end_time": "2024-08-10T23:19:07.534135Z",
     "start_time": "2024-08-10T23:19:07.498912Z"
    }
   },
   "outputs": [],
   "source": [
    "for numero_ronda in range(len(rondas)):\n",
    "    detonante, respuestas = rondas[numero_ronda]['detonante'], rondas[numero_ronda]['respuestas']\n",
    "    for respuesta in respuestas:\n",
    "        datos_rondas[respuesta] = datos_rondas[respuesta].fillna('nr')\n",
    "        datos_rondas[respuesta] = datos_rondas[respuesta].str.lower().str.strip()\n",
    "        datos_rondas[respuesta] = datos_rondas[respuesta].str.cat(datos_rondas[detonante], sep=' \\n ')"
   ]
  },
  {
   "cell_type": "code",
   "execution_count": 184,
   "metadata": {
    "collapsed": false,
    "ExecuteTime": {
     "end_time": "2024-08-10T23:19:07.626916Z",
     "start_time": "2024-08-10T23:19:07.618966Z"
    }
   },
   "outputs": [
    {
     "data": {
      "text/plain": "   id         w64              w4576[SQ001]              w4576[SQ002]  \\\n0  67   ejercicio        salud \\n ejercicio    bienestar \\n ejercicio   \n1  68  cubrebocas  proteccion \\n cubrebocas     cuidado \\n cubrebocas   \n2  69   ejercicio    saludable \\n ejercicio        salud \\n ejercicio   \n3  70    obesidad    enfermedad \\n obesidad  alimentacion \\n obesidad   \n4  71   ejercicio       ballet \\n ejercicio       figura \\n ejercicio   \n\n              w4576[SQ003]            w4576[SQ004]            w4576[SQ005]  \\\n0  importante \\n ejercicio   habitual \\n ejercicio  necesario \\n ejercicio   \n1      salud \\n cubrebocas  limpieza \\n cubrebocas  germenes \\n cubrebocas   \n2       bueno \\n ejercicio      forma \\n ejercicio    deporte \\n ejercicio   \n3       comida \\n obesidad     consumo \\n obesidad     atracon \\n obesidad   \n4     pilates \\n ejercicio       peso \\n ejercicio  actividad \\n ejercicio   \n\n                  w4576[SQ006]           w4576[SQ007]            w4576[SQ008]  \\\n0       divertido \\n ejercicio    saltar \\n ejercicio      baile \\n ejercicio   \n1             nr \\n cubrebocas       nr \\n cubrebocas        nr \\n cubrebocas   \n2        aparatos \\n ejercicio  gimnasio \\n ejercicio     correr \\n ejercicio   \n3  descompensacion \\n obesidad  ejercicio \\n obesidad  activacion \\n obesidad   \n4           salud \\n ejercicio    correr \\n ejercicio   aerobico \\n ejercicio   \n\n   ...                   y65[SQ001]                 y65[SQ002]  \\\n0  ...  controversial \\n cubrebocas    necesario \\n cubrebocas   \n1  ...       saludable \\n ejercicio  estimulacion \\n ejercicio   \n2  ...         doctor \\n cubrebocas     hospital \\n cubrebocas   \n3  ...          enfermedad \\n covid             virus \\n covid   \n4  ...          covid \\n cubrebocas     pandemia \\n cubrebocas   \n\n                 y65[SQ003]                y65[SQ004]  \\\n0  importante \\n cubrebocas      social \\n cubrebocas   \n1     neuronal \\n ejercicio     conexion \\n ejercicio   \n2  enfermedad \\n cubrebocas       covid \\n cubrebocas   \n3         pandemia \\n covid        situacion \\n covid   \n4  prevencion \\n cubrebocas  enfermedad \\n cubrebocas   \n\n                 y65[SQ005]                 y65[SQ006]             y65[SQ007]  \\\n0  proteccion \\n cubrebocas  autocuidado \\n cubrebocas  familia \\n cubrebocas   \n1   longevidad \\n ejercicio     fortaleza \\n ejercicio        nr \\n ejercicio   \n2    pandemia \\n cubrebocas    necesario \\n cubrebocas     util \\n cubrebocas   \n3           global \\n covid            estres \\n covid      ansiedad \\n covid   \n4  cuarentena \\n cubrebocas    necesario \\n cubrebocas    salud \\n cubrebocas   \n\n               y65[SQ008]           y65[SQ009]              y65[SQ010]  \n0     salud \\n cubrebocas  covid \\n cubrebocas  hospital \\n cubrebocas  \n1         nr \\n ejercicio      nr \\n ejercicio         nr \\n ejercicio  \n2  incomodo \\n cubrebocas     nr \\n cubrebocas        nr \\n cubrebocas  \n3        muertes \\n covid          nr \\n covid             nr \\n covid  \n4  incomodo \\n cubrebocas     nr \\n cubrebocas        nr \\n cubrebocas  \n\n[5 rows x 67 columns]",
      "text/html": "<div>\n<style scoped>\n    .dataframe tbody tr th:only-of-type {\n        vertical-align: middle;\n    }\n\n    .dataframe tbody tr th {\n        vertical-align: top;\n    }\n\n    .dataframe thead th {\n        text-align: right;\n    }\n</style>\n<table border=\"1\" class=\"dataframe\">\n  <thead>\n    <tr style=\"text-align: right;\">\n      <th></th>\n      <th>id</th>\n      <th>w64</th>\n      <th>w4576[SQ001]</th>\n      <th>w4576[SQ002]</th>\n      <th>w4576[SQ003]</th>\n      <th>w4576[SQ004]</th>\n      <th>w4576[SQ005]</th>\n      <th>w4576[SQ006]</th>\n      <th>w4576[SQ007]</th>\n      <th>w4576[SQ008]</th>\n      <th>...</th>\n      <th>y65[SQ001]</th>\n      <th>y65[SQ002]</th>\n      <th>y65[SQ003]</th>\n      <th>y65[SQ004]</th>\n      <th>y65[SQ005]</th>\n      <th>y65[SQ006]</th>\n      <th>y65[SQ007]</th>\n      <th>y65[SQ008]</th>\n      <th>y65[SQ009]</th>\n      <th>y65[SQ010]</th>\n    </tr>\n  </thead>\n  <tbody>\n    <tr>\n      <th>0</th>\n      <td>67</td>\n      <td>ejercicio</td>\n      <td>salud \\n ejercicio</td>\n      <td>bienestar \\n ejercicio</td>\n      <td>importante \\n ejercicio</td>\n      <td>habitual \\n ejercicio</td>\n      <td>necesario \\n ejercicio</td>\n      <td>divertido \\n ejercicio</td>\n      <td>saltar \\n ejercicio</td>\n      <td>baile \\n ejercicio</td>\n      <td>...</td>\n      <td>controversial \\n cubrebocas</td>\n      <td>necesario \\n cubrebocas</td>\n      <td>importante \\n cubrebocas</td>\n      <td>social \\n cubrebocas</td>\n      <td>proteccion \\n cubrebocas</td>\n      <td>autocuidado \\n cubrebocas</td>\n      <td>familia \\n cubrebocas</td>\n      <td>salud \\n cubrebocas</td>\n      <td>covid \\n cubrebocas</td>\n      <td>hospital \\n cubrebocas</td>\n    </tr>\n    <tr>\n      <th>1</th>\n      <td>68</td>\n      <td>cubrebocas</td>\n      <td>proteccion \\n cubrebocas</td>\n      <td>cuidado \\n cubrebocas</td>\n      <td>salud \\n cubrebocas</td>\n      <td>limpieza \\n cubrebocas</td>\n      <td>germenes \\n cubrebocas</td>\n      <td>nr \\n cubrebocas</td>\n      <td>nr \\n cubrebocas</td>\n      <td>nr \\n cubrebocas</td>\n      <td>...</td>\n      <td>saludable \\n ejercicio</td>\n      <td>estimulacion \\n ejercicio</td>\n      <td>neuronal \\n ejercicio</td>\n      <td>conexion \\n ejercicio</td>\n      <td>longevidad \\n ejercicio</td>\n      <td>fortaleza \\n ejercicio</td>\n      <td>nr \\n ejercicio</td>\n      <td>nr \\n ejercicio</td>\n      <td>nr \\n ejercicio</td>\n      <td>nr \\n ejercicio</td>\n    </tr>\n    <tr>\n      <th>2</th>\n      <td>69</td>\n      <td>ejercicio</td>\n      <td>saludable \\n ejercicio</td>\n      <td>salud \\n ejercicio</td>\n      <td>bueno \\n ejercicio</td>\n      <td>forma \\n ejercicio</td>\n      <td>deporte \\n ejercicio</td>\n      <td>aparatos \\n ejercicio</td>\n      <td>gimnasio \\n ejercicio</td>\n      <td>correr \\n ejercicio</td>\n      <td>...</td>\n      <td>doctor \\n cubrebocas</td>\n      <td>hospital \\n cubrebocas</td>\n      <td>enfermedad \\n cubrebocas</td>\n      <td>covid \\n cubrebocas</td>\n      <td>pandemia \\n cubrebocas</td>\n      <td>necesario \\n cubrebocas</td>\n      <td>util \\n cubrebocas</td>\n      <td>incomodo \\n cubrebocas</td>\n      <td>nr \\n cubrebocas</td>\n      <td>nr \\n cubrebocas</td>\n    </tr>\n    <tr>\n      <th>3</th>\n      <td>70</td>\n      <td>obesidad</td>\n      <td>enfermedad \\n obesidad</td>\n      <td>alimentacion \\n obesidad</td>\n      <td>comida \\n obesidad</td>\n      <td>consumo \\n obesidad</td>\n      <td>atracon \\n obesidad</td>\n      <td>descompensacion \\n obesidad</td>\n      <td>ejercicio \\n obesidad</td>\n      <td>activacion \\n obesidad</td>\n      <td>...</td>\n      <td>enfermedad \\n covid</td>\n      <td>virus \\n covid</td>\n      <td>pandemia \\n covid</td>\n      <td>situacion \\n covid</td>\n      <td>global \\n covid</td>\n      <td>estres \\n covid</td>\n      <td>ansiedad \\n covid</td>\n      <td>muertes \\n covid</td>\n      <td>nr \\n covid</td>\n      <td>nr \\n covid</td>\n    </tr>\n    <tr>\n      <th>4</th>\n      <td>71</td>\n      <td>ejercicio</td>\n      <td>ballet \\n ejercicio</td>\n      <td>figura \\n ejercicio</td>\n      <td>pilates \\n ejercicio</td>\n      <td>peso \\n ejercicio</td>\n      <td>actividad \\n ejercicio</td>\n      <td>salud \\n ejercicio</td>\n      <td>correr \\n ejercicio</td>\n      <td>aerobico \\n ejercicio</td>\n      <td>...</td>\n      <td>covid \\n cubrebocas</td>\n      <td>pandemia \\n cubrebocas</td>\n      <td>prevencion \\n cubrebocas</td>\n      <td>enfermedad \\n cubrebocas</td>\n      <td>cuarentena \\n cubrebocas</td>\n      <td>necesario \\n cubrebocas</td>\n      <td>salud \\n cubrebocas</td>\n      <td>incomodo \\n cubrebocas</td>\n      <td>nr \\n cubrebocas</td>\n      <td>nr \\n cubrebocas</td>\n    </tr>\n  </tbody>\n</table>\n<p>5 rows × 67 columns</p>\n</div>"
     },
     "execution_count": 184,
     "metadata": {},
     "output_type": "execute_result"
    }
   ],
   "source": [
    "datos_rondas.head()"
   ]
  },
  {
   "cell_type": "code",
   "execution_count": 185,
   "metadata": {
    "collapsed": false,
    "ExecuteTime": {
     "end_time": "2024-08-10T23:19:07.792052Z",
     "start_time": "2024-08-10T23:19:07.787628Z"
    }
   },
   "outputs": [],
   "source": [
    "datos_rondas.drop(columns=detonantes, inplace=True)"
   ]
  },
  {
   "cell_type": "code",
   "execution_count": 186,
   "metadata": {
    "collapsed": false,
    "ExecuteTime": {
     "end_time": "2024-08-10T23:19:07.922Z",
     "start_time": "2024-08-10T23:19:07.908853Z"
    }
   },
   "outputs": [
    {
     "data": {
      "text/plain": "      id              w4576[SQ001]              w4576[SQ002]  \\\n0     67        salud \\n ejercicio    bienestar \\n ejercicio   \n1     68  proteccion \\n cubrebocas     cuidado \\n cubrebocas   \n2     69    saludable \\n ejercicio        salud \\n ejercicio   \n3     70    enfermedad \\n obesidad  alimentacion \\n obesidad   \n4     71       ballet \\n ejercicio       figura \\n ejercicio   \n..   ...                       ...                       ...   \n716  849    bienestar \\n ejercicio        salud \\n ejercicio   \n718  851     tratamiento \\n vacuna     medicamento \\n vacuna   \n719  852         burla \\n obesidad      tristeza \\n obesidad   \n720  853     higiene \\n cubrebocas       covid \\n cubrebocas   \n722  855        salud \\n ejercicio       cuerpo \\n ejercicio   \n\n                w4576[SQ003]             w4576[SQ004]  \\\n0    importante \\n ejercicio    habitual \\n ejercicio   \n1        salud \\n cubrebocas   limpieza \\n cubrebocas   \n2         bueno \\n ejercicio       forma \\n ejercicio   \n3         comida \\n obesidad      consumo \\n obesidad   \n4       pilates \\n ejercicio        peso \\n ejercicio   \n..                       ...                      ...   \n716     terapia \\n ejercicio  motivacion \\n ejercicio   \n718          dolor \\n vacuna         doctor \\n vacuna   \n719    cansancio \\n obesidad   complicado \\n obesidad   \n720      salud \\n cubrebocas    barrera \\n cubrebocas   \n722  movimiento \\n ejercicio       baile \\n ejercicio   \n\n                w4576[SQ005]                   w4576[SQ006]  \\\n0     necesario \\n ejercicio         divertido \\n ejercicio   \n1     germenes \\n cubrebocas               nr \\n cubrebocas   \n2       deporte \\n ejercicio          aparatos \\n ejercicio   \n3        atracon \\n obesidad    descompensacion \\n obesidad   \n4     actividad \\n ejercicio             salud \\n ejercicio   \n..                       ...                            ...   \n716  dedicacion \\n ejercicio          esfuerzo \\n ejercicio   \n718             nr \\n vacuna                   nr \\n vacuna   \n719      soledad \\n obesidad                 nr \\n obesidad   \n720  estornudo \\n cubrebocas  distanciamiento \\n cubrebocas   \n722   bicicleta \\n ejercicio            correr \\n ejercicio   \n\n               w4576[SQ007]            w4576[SQ008]           w4576[SQ009]  \\\n0       saltar \\n ejercicio      baile \\n ejercicio  activada \\n ejercicio   \n1          nr \\n cubrebocas        nr \\n cubrebocas       nr \\n cubrebocas   \n2     gimnasio \\n ejercicio     correr \\n ejercicio        nr \\n ejercicio   \n3     ejercicio \\n obesidad  activacion \\n obesidad    deporte \\n obesidad   \n4       correr \\n ejercicio   aerobico \\n ejercicio        nr \\n ejercicio   \n..                      ...                     ...                    ...   \n716     tiempo \\n ejercicio         nr \\n ejercicio        nr \\n ejercicio   \n718            nr \\n vacuna            nr \\n vacuna           nr \\n vacuna   \n719          nr \\n obesidad          nr \\n obesidad         nr \\n obesidad   \n720      azul \\n cubrebocas        nr \\n cubrebocas       nr \\n cubrebocas   \n722  diversion \\n ejercicio     tiempo \\n ejercicio        nr \\n ejercicio   \n\n     ...                   y65[SQ001]                     y65[SQ002]  \\\n0    ...  controversial \\n cubrebocas        necesario \\n cubrebocas   \n1    ...       saludable \\n ejercicio      estimulacion \\n ejercicio   \n2    ...         doctor \\n cubrebocas         hospital \\n cubrebocas   \n3    ...          enfermedad \\n covid                 virus \\n covid   \n4    ...          covid \\n cubrebocas         pandemia \\n cubrebocas   \n..   ...                          ...                            ...   \n716  ...            pandemia \\n covid              encierro \\n covid   \n718  ...     enfermedades \\n obesidad  mala alimentacion \\n obesidad   \n719  ...       conocimiento \\n vacuna              ciencia \\n vacuna   \n720  ...       necesario \\n ejercicio        disciplina \\n ejercicio   \n722  ...          covid \\n cubrebocas         contagio \\n cubrebocas   \n\n                   y65[SQ003]                y65[SQ004]  \\\n0    importante \\n cubrebocas      social \\n cubrebocas   \n1       neuronal \\n ejercicio     conexion \\n ejercicio   \n2    enfermedad \\n cubrebocas       covid \\n cubrebocas   \n3           pandemia \\n covid        situacion \\n covid   \n4    prevencion \\n cubrebocas  enfermedad \\n cubrebocas   \n..                        ...                       ...   \n716       enfermedad \\n covid           trauma \\n covid   \n718            nr \\n obesidad            nr \\n obesidad   \n719         termino \\n vacuna     autocuidado \\n vacuna   \n720        salud \\n ejercicio        bueno \\n ejercicio   \n722  congestion \\n cubrebocas   estornudo \\n cubrebocas   \n\n                    y65[SQ005]                 y65[SQ006]  \\\n0     proteccion \\n cubrebocas  autocuidado \\n cubrebocas   \n1      longevidad \\n ejercicio     fortaleza \\n ejercicio   \n2       pandemia \\n cubrebocas    necesario \\n cubrebocas   \n3              global \\n covid            estres \\n covid   \n4     cuarentena \\n cubrebocas    necesario \\n cubrebocas   \n..                         ...                        ...   \n716             miedo \\n covid            riesgo \\n covid   \n718             nr \\n obesidad             nr \\n obesidad   \n719               nr \\n vacuna               nr \\n vacuna   \n720   consciencia \\n ejercicio      riguroso \\n ejercicio   \n722  respiracion \\n cubrebocas       olores \\n cubrebocas   \n\n                  y65[SQ007]              y65[SQ008]              y65[SQ009]  \\\n0      familia \\n cubrebocas     salud \\n cubrebocas     covid \\n cubrebocas   \n1            nr \\n ejercicio         nr \\n ejercicio         nr \\n ejercicio   \n2         util \\n cubrebocas  incomodo \\n cubrebocas        nr \\n cubrebocas   \n3          ansiedad \\n covid        muertes \\n covid             nr \\n covid   \n4        salud \\n cubrebocas  incomodo \\n cubrebocas        nr \\n cubrebocas   \n..                       ...                     ...                     ...   \n716     crecimiento \\n covid      conflicto \\n covid  insertidumbre \\n covid   \n718           nr \\n obesidad          nr \\n obesidad          nr \\n obesidad   \n719             nr \\n vacuna            nr \\n vacuna            nr \\n vacuna   \n720      tiempo \\n ejercicio         nr \\n ejercicio         nr \\n ejercicio   \n722  escondite \\n cubrebocas      acne \\n cubrebocas        nr \\n cubrebocas   \n\n                 y65[SQ010]  \n0    hospital \\n cubrebocas  \n1           nr \\n ejercicio  \n2          nr \\n cubrebocas  \n3               nr \\n covid  \n4          nr \\n cubrebocas  \n..                      ...  \n716             nr \\n covid  \n718          nr \\n obesidad  \n719            nr \\n vacuna  \n720         nr \\n ejercicio  \n722        nr \\n cubrebocas  \n\n[623 rows x 61 columns]",
      "text/html": "<div>\n<style scoped>\n    .dataframe tbody tr th:only-of-type {\n        vertical-align: middle;\n    }\n\n    .dataframe tbody tr th {\n        vertical-align: top;\n    }\n\n    .dataframe thead th {\n        text-align: right;\n    }\n</style>\n<table border=\"1\" class=\"dataframe\">\n  <thead>\n    <tr style=\"text-align: right;\">\n      <th></th>\n      <th>id</th>\n      <th>w4576[SQ001]</th>\n      <th>w4576[SQ002]</th>\n      <th>w4576[SQ003]</th>\n      <th>w4576[SQ004]</th>\n      <th>w4576[SQ005]</th>\n      <th>w4576[SQ006]</th>\n      <th>w4576[SQ007]</th>\n      <th>w4576[SQ008]</th>\n      <th>w4576[SQ009]</th>\n      <th>...</th>\n      <th>y65[SQ001]</th>\n      <th>y65[SQ002]</th>\n      <th>y65[SQ003]</th>\n      <th>y65[SQ004]</th>\n      <th>y65[SQ005]</th>\n      <th>y65[SQ006]</th>\n      <th>y65[SQ007]</th>\n      <th>y65[SQ008]</th>\n      <th>y65[SQ009]</th>\n      <th>y65[SQ010]</th>\n    </tr>\n  </thead>\n  <tbody>\n    <tr>\n      <th>0</th>\n      <td>67</td>\n      <td>salud \\n ejercicio</td>\n      <td>bienestar \\n ejercicio</td>\n      <td>importante \\n ejercicio</td>\n      <td>habitual \\n ejercicio</td>\n      <td>necesario \\n ejercicio</td>\n      <td>divertido \\n ejercicio</td>\n      <td>saltar \\n ejercicio</td>\n      <td>baile \\n ejercicio</td>\n      <td>activada \\n ejercicio</td>\n      <td>...</td>\n      <td>controversial \\n cubrebocas</td>\n      <td>necesario \\n cubrebocas</td>\n      <td>importante \\n cubrebocas</td>\n      <td>social \\n cubrebocas</td>\n      <td>proteccion \\n cubrebocas</td>\n      <td>autocuidado \\n cubrebocas</td>\n      <td>familia \\n cubrebocas</td>\n      <td>salud \\n cubrebocas</td>\n      <td>covid \\n cubrebocas</td>\n      <td>hospital \\n cubrebocas</td>\n    </tr>\n    <tr>\n      <th>1</th>\n      <td>68</td>\n      <td>proteccion \\n cubrebocas</td>\n      <td>cuidado \\n cubrebocas</td>\n      <td>salud \\n cubrebocas</td>\n      <td>limpieza \\n cubrebocas</td>\n      <td>germenes \\n cubrebocas</td>\n      <td>nr \\n cubrebocas</td>\n      <td>nr \\n cubrebocas</td>\n      <td>nr \\n cubrebocas</td>\n      <td>nr \\n cubrebocas</td>\n      <td>...</td>\n      <td>saludable \\n ejercicio</td>\n      <td>estimulacion \\n ejercicio</td>\n      <td>neuronal \\n ejercicio</td>\n      <td>conexion \\n ejercicio</td>\n      <td>longevidad \\n ejercicio</td>\n      <td>fortaleza \\n ejercicio</td>\n      <td>nr \\n ejercicio</td>\n      <td>nr \\n ejercicio</td>\n      <td>nr \\n ejercicio</td>\n      <td>nr \\n ejercicio</td>\n    </tr>\n    <tr>\n      <th>2</th>\n      <td>69</td>\n      <td>saludable \\n ejercicio</td>\n      <td>salud \\n ejercicio</td>\n      <td>bueno \\n ejercicio</td>\n      <td>forma \\n ejercicio</td>\n      <td>deporte \\n ejercicio</td>\n      <td>aparatos \\n ejercicio</td>\n      <td>gimnasio \\n ejercicio</td>\n      <td>correr \\n ejercicio</td>\n      <td>nr \\n ejercicio</td>\n      <td>...</td>\n      <td>doctor \\n cubrebocas</td>\n      <td>hospital \\n cubrebocas</td>\n      <td>enfermedad \\n cubrebocas</td>\n      <td>covid \\n cubrebocas</td>\n      <td>pandemia \\n cubrebocas</td>\n      <td>necesario \\n cubrebocas</td>\n      <td>util \\n cubrebocas</td>\n      <td>incomodo \\n cubrebocas</td>\n      <td>nr \\n cubrebocas</td>\n      <td>nr \\n cubrebocas</td>\n    </tr>\n    <tr>\n      <th>3</th>\n      <td>70</td>\n      <td>enfermedad \\n obesidad</td>\n      <td>alimentacion \\n obesidad</td>\n      <td>comida \\n obesidad</td>\n      <td>consumo \\n obesidad</td>\n      <td>atracon \\n obesidad</td>\n      <td>descompensacion \\n obesidad</td>\n      <td>ejercicio \\n obesidad</td>\n      <td>activacion \\n obesidad</td>\n      <td>deporte \\n obesidad</td>\n      <td>...</td>\n      <td>enfermedad \\n covid</td>\n      <td>virus \\n covid</td>\n      <td>pandemia \\n covid</td>\n      <td>situacion \\n covid</td>\n      <td>global \\n covid</td>\n      <td>estres \\n covid</td>\n      <td>ansiedad \\n covid</td>\n      <td>muertes \\n covid</td>\n      <td>nr \\n covid</td>\n      <td>nr \\n covid</td>\n    </tr>\n    <tr>\n      <th>4</th>\n      <td>71</td>\n      <td>ballet \\n ejercicio</td>\n      <td>figura \\n ejercicio</td>\n      <td>pilates \\n ejercicio</td>\n      <td>peso \\n ejercicio</td>\n      <td>actividad \\n ejercicio</td>\n      <td>salud \\n ejercicio</td>\n      <td>correr \\n ejercicio</td>\n      <td>aerobico \\n ejercicio</td>\n      <td>nr \\n ejercicio</td>\n      <td>...</td>\n      <td>covid \\n cubrebocas</td>\n      <td>pandemia \\n cubrebocas</td>\n      <td>prevencion \\n cubrebocas</td>\n      <td>enfermedad \\n cubrebocas</td>\n      <td>cuarentena \\n cubrebocas</td>\n      <td>necesario \\n cubrebocas</td>\n      <td>salud \\n cubrebocas</td>\n      <td>incomodo \\n cubrebocas</td>\n      <td>nr \\n cubrebocas</td>\n      <td>nr \\n cubrebocas</td>\n    </tr>\n    <tr>\n      <th>...</th>\n      <td>...</td>\n      <td>...</td>\n      <td>...</td>\n      <td>...</td>\n      <td>...</td>\n      <td>...</td>\n      <td>...</td>\n      <td>...</td>\n      <td>...</td>\n      <td>...</td>\n      <td>...</td>\n      <td>...</td>\n      <td>...</td>\n      <td>...</td>\n      <td>...</td>\n      <td>...</td>\n      <td>...</td>\n      <td>...</td>\n      <td>...</td>\n      <td>...</td>\n      <td>...</td>\n    </tr>\n    <tr>\n      <th>716</th>\n      <td>849</td>\n      <td>bienestar \\n ejercicio</td>\n      <td>salud \\n ejercicio</td>\n      <td>terapia \\n ejercicio</td>\n      <td>motivacion \\n ejercicio</td>\n      <td>dedicacion \\n ejercicio</td>\n      <td>esfuerzo \\n ejercicio</td>\n      <td>tiempo \\n ejercicio</td>\n      <td>nr \\n ejercicio</td>\n      <td>nr \\n ejercicio</td>\n      <td>...</td>\n      <td>pandemia \\n covid</td>\n      <td>encierro \\n covid</td>\n      <td>enfermedad \\n covid</td>\n      <td>trauma \\n covid</td>\n      <td>miedo \\n covid</td>\n      <td>riesgo \\n covid</td>\n      <td>crecimiento \\n covid</td>\n      <td>conflicto \\n covid</td>\n      <td>insertidumbre \\n covid</td>\n      <td>nr \\n covid</td>\n    </tr>\n    <tr>\n      <th>718</th>\n      <td>851</td>\n      <td>tratamiento \\n vacuna</td>\n      <td>medicamento \\n vacuna</td>\n      <td>dolor \\n vacuna</td>\n      <td>doctor \\n vacuna</td>\n      <td>nr \\n vacuna</td>\n      <td>nr \\n vacuna</td>\n      <td>nr \\n vacuna</td>\n      <td>nr \\n vacuna</td>\n      <td>nr \\n vacuna</td>\n      <td>...</td>\n      <td>enfermedades \\n obesidad</td>\n      <td>mala alimentacion \\n obesidad</td>\n      <td>nr \\n obesidad</td>\n      <td>nr \\n obesidad</td>\n      <td>nr \\n obesidad</td>\n      <td>nr \\n obesidad</td>\n      <td>nr \\n obesidad</td>\n      <td>nr \\n obesidad</td>\n      <td>nr \\n obesidad</td>\n      <td>nr \\n obesidad</td>\n    </tr>\n    <tr>\n      <th>719</th>\n      <td>852</td>\n      <td>burla \\n obesidad</td>\n      <td>tristeza \\n obesidad</td>\n      <td>cansancio \\n obesidad</td>\n      <td>complicado \\n obesidad</td>\n      <td>soledad \\n obesidad</td>\n      <td>nr \\n obesidad</td>\n      <td>nr \\n obesidad</td>\n      <td>nr \\n obesidad</td>\n      <td>nr \\n obesidad</td>\n      <td>...</td>\n      <td>conocimiento \\n vacuna</td>\n      <td>ciencia \\n vacuna</td>\n      <td>termino \\n vacuna</td>\n      <td>autocuidado \\n vacuna</td>\n      <td>nr \\n vacuna</td>\n      <td>nr \\n vacuna</td>\n      <td>nr \\n vacuna</td>\n      <td>nr \\n vacuna</td>\n      <td>nr \\n vacuna</td>\n      <td>nr \\n vacuna</td>\n    </tr>\n    <tr>\n      <th>720</th>\n      <td>853</td>\n      <td>higiene \\n cubrebocas</td>\n      <td>covid \\n cubrebocas</td>\n      <td>salud \\n cubrebocas</td>\n      <td>barrera \\n cubrebocas</td>\n      <td>estornudo \\n cubrebocas</td>\n      <td>distanciamiento \\n cubrebocas</td>\n      <td>azul \\n cubrebocas</td>\n      <td>nr \\n cubrebocas</td>\n      <td>nr \\n cubrebocas</td>\n      <td>...</td>\n      <td>necesario \\n ejercicio</td>\n      <td>disciplina \\n ejercicio</td>\n      <td>salud \\n ejercicio</td>\n      <td>bueno \\n ejercicio</td>\n      <td>consciencia \\n ejercicio</td>\n      <td>riguroso \\n ejercicio</td>\n      <td>tiempo \\n ejercicio</td>\n      <td>nr \\n ejercicio</td>\n      <td>nr \\n ejercicio</td>\n      <td>nr \\n ejercicio</td>\n    </tr>\n    <tr>\n      <th>722</th>\n      <td>855</td>\n      <td>salud \\n ejercicio</td>\n      <td>cuerpo \\n ejercicio</td>\n      <td>movimiento \\n ejercicio</td>\n      <td>baile \\n ejercicio</td>\n      <td>bicicleta \\n ejercicio</td>\n      <td>correr \\n ejercicio</td>\n      <td>diversion \\n ejercicio</td>\n      <td>tiempo \\n ejercicio</td>\n      <td>nr \\n ejercicio</td>\n      <td>...</td>\n      <td>covid \\n cubrebocas</td>\n      <td>contagio \\n cubrebocas</td>\n      <td>congestion \\n cubrebocas</td>\n      <td>estornudo \\n cubrebocas</td>\n      <td>respiracion \\n cubrebocas</td>\n      <td>olores \\n cubrebocas</td>\n      <td>escondite \\n cubrebocas</td>\n      <td>acne \\n cubrebocas</td>\n      <td>nr \\n cubrebocas</td>\n      <td>nr \\n cubrebocas</td>\n    </tr>\n  </tbody>\n</table>\n<p>623 rows × 61 columns</p>\n</div>"
     },
     "execution_count": 186,
     "metadata": {},
     "output_type": "execute_result"
    }
   ],
   "source": [
    "datos_rondas"
   ]
  },
  {
   "cell_type": "code",
   "execution_count": 187,
   "metadata": {
    "collapsed": false,
    "ExecuteTime": {
     "end_time": "2024-08-10T23:19:08.024059Z",
     "start_time": "2024-08-10T23:19:08.016311Z"
    }
   },
   "outputs": [
    {
     "data": {
      "text/plain": "        id         campo                     valor\n0       67  w4576[SQ001]        salud \\n ejercicio\n1       68  w4576[SQ001]  proteccion \\n cubrebocas\n2       69  w4576[SQ001]    saludable \\n ejercicio\n3       70  w4576[SQ001]    enfermedad \\n obesidad\n4       71  w4576[SQ001]       ballet \\n ejercicio\n...    ...           ...                       ...\n37375  849    y65[SQ010]               nr \\n covid\n37376  851    y65[SQ010]            nr \\n obesidad\n37377  852    y65[SQ010]              nr \\n vacuna\n37378  853    y65[SQ010]           nr \\n ejercicio\n37379  855    y65[SQ010]          nr \\n cubrebocas\n\n[37380 rows x 3 columns]",
      "text/html": "<div>\n<style scoped>\n    .dataframe tbody tr th:only-of-type {\n        vertical-align: middle;\n    }\n\n    .dataframe tbody tr th {\n        vertical-align: top;\n    }\n\n    .dataframe thead th {\n        text-align: right;\n    }\n</style>\n<table border=\"1\" class=\"dataframe\">\n  <thead>\n    <tr style=\"text-align: right;\">\n      <th></th>\n      <th>id</th>\n      <th>campo</th>\n      <th>valor</th>\n    </tr>\n  </thead>\n  <tbody>\n    <tr>\n      <th>0</th>\n      <td>67</td>\n      <td>w4576[SQ001]</td>\n      <td>salud \\n ejercicio</td>\n    </tr>\n    <tr>\n      <th>1</th>\n      <td>68</td>\n      <td>w4576[SQ001]</td>\n      <td>proteccion \\n cubrebocas</td>\n    </tr>\n    <tr>\n      <th>2</th>\n      <td>69</td>\n      <td>w4576[SQ001]</td>\n      <td>saludable \\n ejercicio</td>\n    </tr>\n    <tr>\n      <th>3</th>\n      <td>70</td>\n      <td>w4576[SQ001]</td>\n      <td>enfermedad \\n obesidad</td>\n    </tr>\n    <tr>\n      <th>4</th>\n      <td>71</td>\n      <td>w4576[SQ001]</td>\n      <td>ballet \\n ejercicio</td>\n    </tr>\n    <tr>\n      <th>...</th>\n      <td>...</td>\n      <td>...</td>\n      <td>...</td>\n    </tr>\n    <tr>\n      <th>37375</th>\n      <td>849</td>\n      <td>y65[SQ010]</td>\n      <td>nr \\n covid</td>\n    </tr>\n    <tr>\n      <th>37376</th>\n      <td>851</td>\n      <td>y65[SQ010]</td>\n      <td>nr \\n obesidad</td>\n    </tr>\n    <tr>\n      <th>37377</th>\n      <td>852</td>\n      <td>y65[SQ010]</td>\n      <td>nr \\n vacuna</td>\n    </tr>\n    <tr>\n      <th>37378</th>\n      <td>853</td>\n      <td>y65[SQ010]</td>\n      <td>nr \\n ejercicio</td>\n    </tr>\n    <tr>\n      <th>37379</th>\n      <td>855</td>\n      <td>y65[SQ010]</td>\n      <td>nr \\n cubrebocas</td>\n    </tr>\n  </tbody>\n</table>\n<p>37380 rows × 3 columns</p>\n</div>"
     },
     "execution_count": 187,
     "metadata": {},
     "output_type": "execute_result"
    }
   ],
   "source": [
    "largo = datos_rondas.melt(id_vars='id',\n",
    "                          var_name='campo',\n",
    "                          value_name='valor')\n",
    "largo"
   ]
  },
  {
   "cell_type": "code",
   "execution_count": 188,
   "metadata": {
    "collapsed": false,
    "ExecuteTime": {
     "end_time": "2024-08-10T23:19:08.258488Z",
     "start_time": "2024-08-10T23:19:08.203055Z"
    }
   },
   "outputs": [
    {
     "data": {
      "text/plain": "        id                     valor  posicion\n0       67        salud \\n ejercicio         1\n1       68  proteccion \\n cubrebocas         1\n2       69    saludable \\n ejercicio         1\n3       70    enfermedad \\n obesidad         1\n4       71       ballet \\n ejercicio         1\n...    ...                       ...       ...\n37375  849               nr \\n covid        10\n37376  851            nr \\n obesidad        10\n37377  852              nr \\n vacuna        10\n37378  853           nr \\n ejercicio        10\n37379  855          nr \\n cubrebocas        10\n\n[37380 rows x 3 columns]",
      "text/html": "<div>\n<style scoped>\n    .dataframe tbody tr th:only-of-type {\n        vertical-align: middle;\n    }\n\n    .dataframe tbody tr th {\n        vertical-align: top;\n    }\n\n    .dataframe thead th {\n        text-align: right;\n    }\n</style>\n<table border=\"1\" class=\"dataframe\">\n  <thead>\n    <tr style=\"text-align: right;\">\n      <th></th>\n      <th>id</th>\n      <th>valor</th>\n      <th>posicion</th>\n    </tr>\n  </thead>\n  <tbody>\n    <tr>\n      <th>0</th>\n      <td>67</td>\n      <td>salud \\n ejercicio</td>\n      <td>1</td>\n    </tr>\n    <tr>\n      <th>1</th>\n      <td>68</td>\n      <td>proteccion \\n cubrebocas</td>\n      <td>1</td>\n    </tr>\n    <tr>\n      <th>2</th>\n      <td>69</td>\n      <td>saludable \\n ejercicio</td>\n      <td>1</td>\n    </tr>\n    <tr>\n      <th>3</th>\n      <td>70</td>\n      <td>enfermedad \\n obesidad</td>\n      <td>1</td>\n    </tr>\n    <tr>\n      <th>4</th>\n      <td>71</td>\n      <td>ballet \\n ejercicio</td>\n      <td>1</td>\n    </tr>\n    <tr>\n      <th>...</th>\n      <td>...</td>\n      <td>...</td>\n      <td>...</td>\n    </tr>\n    <tr>\n      <th>37375</th>\n      <td>849</td>\n      <td>nr \\n covid</td>\n      <td>10</td>\n    </tr>\n    <tr>\n      <th>37376</th>\n      <td>851</td>\n      <td>nr \\n obesidad</td>\n      <td>10</td>\n    </tr>\n    <tr>\n      <th>37377</th>\n      <td>852</td>\n      <td>nr \\n vacuna</td>\n      <td>10</td>\n    </tr>\n    <tr>\n      <th>37378</th>\n      <td>853</td>\n      <td>nr \\n ejercicio</td>\n      <td>10</td>\n    </tr>\n    <tr>\n      <th>37379</th>\n      <td>855</td>\n      <td>nr \\n cubrebocas</td>\n      <td>10</td>\n    </tr>\n  </tbody>\n</table>\n<p>37380 rows × 3 columns</p>\n</div>"
     },
     "execution_count": 188,
     "metadata": {},
     "output_type": "execute_result"
    }
   ],
   "source": [
    "largo['posicion'] = largo['campo'].str.extract(r'\\[.*(\\d{3})\\]').astype(int)\n",
    "largo.drop(columns=['campo'], inplace=True)\n",
    "largo"
   ]
  },
  {
   "cell_type": "code",
   "execution_count": 189,
   "metadata": {
    "collapsed": false,
    "ExecuteTime": {
     "end_time": "2024-08-10T23:19:08.407462Z",
     "start_time": "2024-08-10T23:19:08.338428Z"
    }
   },
   "outputs": [
    {
     "data": {
      "text/plain": "        id   respuesta  posicion    estimulo\n0       67       salud         1   ejercicio\n1       68  proteccion         1  cubrebocas\n2       69   saludable         1   ejercicio\n3       70  enfermedad         1    obesidad\n4       71      ballet         1   ejercicio\n...    ...         ...       ...         ...\n37375  849          nr        10       covid\n37376  851          nr        10    obesidad\n37377  852          nr        10      vacuna\n37378  853          nr        10   ejercicio\n37379  855          nr        10  cubrebocas\n\n[37380 rows x 4 columns]",
      "text/html": "<div>\n<style scoped>\n    .dataframe tbody tr th:only-of-type {\n        vertical-align: middle;\n    }\n\n    .dataframe tbody tr th {\n        vertical-align: top;\n    }\n\n    .dataframe thead th {\n        text-align: right;\n    }\n</style>\n<table border=\"1\" class=\"dataframe\">\n  <thead>\n    <tr style=\"text-align: right;\">\n      <th></th>\n      <th>id</th>\n      <th>respuesta</th>\n      <th>posicion</th>\n      <th>estimulo</th>\n    </tr>\n  </thead>\n  <tbody>\n    <tr>\n      <th>0</th>\n      <td>67</td>\n      <td>salud</td>\n      <td>1</td>\n      <td>ejercicio</td>\n    </tr>\n    <tr>\n      <th>1</th>\n      <td>68</td>\n      <td>proteccion</td>\n      <td>1</td>\n      <td>cubrebocas</td>\n    </tr>\n    <tr>\n      <th>2</th>\n      <td>69</td>\n      <td>saludable</td>\n      <td>1</td>\n      <td>ejercicio</td>\n    </tr>\n    <tr>\n      <th>3</th>\n      <td>70</td>\n      <td>enfermedad</td>\n      <td>1</td>\n      <td>obesidad</td>\n    </tr>\n    <tr>\n      <th>4</th>\n      <td>71</td>\n      <td>ballet</td>\n      <td>1</td>\n      <td>ejercicio</td>\n    </tr>\n    <tr>\n      <th>...</th>\n      <td>...</td>\n      <td>...</td>\n      <td>...</td>\n      <td>...</td>\n    </tr>\n    <tr>\n      <th>37375</th>\n      <td>849</td>\n      <td>nr</td>\n      <td>10</td>\n      <td>covid</td>\n    </tr>\n    <tr>\n      <th>37376</th>\n      <td>851</td>\n      <td>nr</td>\n      <td>10</td>\n      <td>obesidad</td>\n    </tr>\n    <tr>\n      <th>37377</th>\n      <td>852</td>\n      <td>nr</td>\n      <td>10</td>\n      <td>vacuna</td>\n    </tr>\n    <tr>\n      <th>37378</th>\n      <td>853</td>\n      <td>nr</td>\n      <td>10</td>\n      <td>ejercicio</td>\n    </tr>\n    <tr>\n      <th>37379</th>\n      <td>855</td>\n      <td>nr</td>\n      <td>10</td>\n      <td>cubrebocas</td>\n    </tr>\n  </tbody>\n</table>\n<p>37380 rows × 4 columns</p>\n</div>"
     },
     "execution_count": 189,
     "metadata": {},
     "output_type": "execute_result"
    }
   ],
   "source": [
    "largo['estimulo'] = largo['valor'].str.extract(r'.*\\s\\n\\s(\\w+)')\n",
    "largo['valor'] = largo['valor'].str.extract(r'(.*)\\s\\n\\s\\w+')\n",
    "largo.rename(columns={'valor': 'respuesta'}, inplace=True)\n",
    "assert largo['estimulo'].nunique() == 6\n",
    "largo"
   ]
  },
  {
   "cell_type": "code",
   "execution_count": 190,
   "metadata": {
    "collapsed": false,
    "ExecuteTime": {
     "end_time": "2024-08-10T23:19:08.470567Z",
     "start_time": "2024-08-10T23:19:08.450030Z"
    }
   },
   "outputs": [
    {
     "data": {
      "text/plain": "        id  estimulo     respuesta\n0       67   covid01    cuarentena\n1       67   covid02      ansiedad\n2       67   covid03  preocupacion\n3       67   covid04         miedo\n4       67   covid05     imparable\n...    ...       ...           ...\n37375  855  vacuna06         dolor\n37376  855  vacuna07         miedo\n37377  855  vacuna08         aguja\n37378  855  vacuna09       liquido\n37379  855  vacuna10            nr\n\n[37380 rows x 3 columns]",
      "text/html": "<div>\n<style scoped>\n    .dataframe tbody tr th:only-of-type {\n        vertical-align: middle;\n    }\n\n    .dataframe tbody tr th {\n        vertical-align: top;\n    }\n\n    .dataframe thead th {\n        text-align: right;\n    }\n</style>\n<table border=\"1\" class=\"dataframe\">\n  <thead>\n    <tr style=\"text-align: right;\">\n      <th></th>\n      <th>id</th>\n      <th>estimulo</th>\n      <th>respuesta</th>\n    </tr>\n  </thead>\n  <tbody>\n    <tr>\n      <th>0</th>\n      <td>67</td>\n      <td>covid01</td>\n      <td>cuarentena</td>\n    </tr>\n    <tr>\n      <th>1</th>\n      <td>67</td>\n      <td>covid02</td>\n      <td>ansiedad</td>\n    </tr>\n    <tr>\n      <th>2</th>\n      <td>67</td>\n      <td>covid03</td>\n      <td>preocupacion</td>\n    </tr>\n    <tr>\n      <th>3</th>\n      <td>67</td>\n      <td>covid04</td>\n      <td>miedo</td>\n    </tr>\n    <tr>\n      <th>4</th>\n      <td>67</td>\n      <td>covid05</td>\n      <td>imparable</td>\n    </tr>\n    <tr>\n      <th>...</th>\n      <td>...</td>\n      <td>...</td>\n      <td>...</td>\n    </tr>\n    <tr>\n      <th>37375</th>\n      <td>855</td>\n      <td>vacuna06</td>\n      <td>dolor</td>\n    </tr>\n    <tr>\n      <th>37376</th>\n      <td>855</td>\n      <td>vacuna07</td>\n      <td>miedo</td>\n    </tr>\n    <tr>\n      <th>37377</th>\n      <td>855</td>\n      <td>vacuna08</td>\n      <td>aguja</td>\n    </tr>\n    <tr>\n      <th>37378</th>\n      <td>855</td>\n      <td>vacuna09</td>\n      <td>liquido</td>\n    </tr>\n    <tr>\n      <th>37379</th>\n      <td>855</td>\n      <td>vacuna10</td>\n      <td>nr</td>\n    </tr>\n  </tbody>\n</table>\n<p>37380 rows × 3 columns</p>\n</div>"
     },
     "execution_count": 190,
     "metadata": {},
     "output_type": "execute_result"
    }
   ],
   "source": [
    "largo['estimulo'] += largo['posicion'].astype(str).str.zfill(2)\n",
    "largo = (largo\n",
    "         .filter(['id', 'estimulo', 'respuesta'], axis=1)\n",
    "         .sort_values(by=['id', 'estimulo'], ignore_index=True)\n",
    "         )\n",
    "largo"
   ]
  },
  {
   "attachments": {},
   "cell_type": "markdown",
   "metadata": {
    "collapsed": false
   },
   "source": [
    "Datos de obesidad duplicados para algunos id"
   ]
  },
  {
   "cell_type": "code",
   "execution_count": 191,
   "metadata": {
    "collapsed": false,
    "ExecuteTime": {
     "end_time": "2024-08-10T23:19:08.637546Z",
     "start_time": "2024-08-10T23:19:08.626139Z"
    }
   },
   "outputs": [],
   "source": [
    "#largo.groupby(['id', 'estimulo', 'respuesta']).size().drop_duplicates()\n",
    "#largo[largo['id'].between(797, 799)].pivot(index='id', columns='estimulo', values='respuesta')\n",
    "ancho = largo[~largo['id'].isin([796, 534])].pivot(index='id', columns='estimulo', values='respuesta')"
   ]
  },
  {
   "cell_type": "code",
   "execution_count": 192,
   "metadata": {
    "collapsed": false,
    "ExecuteTime": {
     "end_time": "2024-08-10T23:19:08.868154Z",
     "start_time": "2024-08-10T23:19:08.861024Z"
    }
   },
   "outputs": [
    {
     "data": {
      "text/plain": "estimulo       covid01              covid02          covid03          covid04  \\\nid                                                                              \n67          cuarentena             ansiedad     preocupacion            miedo   \n68              muerte  falta de proteccion  no hay libertad       enfermedad   \n69               virus           enfermedad          muertes         pandemia   \n70          enfermedad                virus         pandemia        situacion   \n71          enfermedad             pandemia       cuarentena            mundo   \n..                 ...                  ...              ...              ...   \n849           pandemia             encierro       enfermedad           trauma   \n851       preocupacion            contagios           estres          muertes   \n852             muerte            depresion       clausurado             casa   \n853         enfermedad             pandemia          higiene  responsabilidad   \n855              salud           enfermedad           muerte         ansiedad   \n\nestimulo         covid05          covid06      covid07      covid08  \\\nid                                                                    \n67             imparable         encierro      mundial     cuidarse   \n68        sana distancia         ansiedad   cubrebocas      guantes   \n69            cuarentena        sisntomas     doctores  respiracion   \n70                global           estres     ansiedad      muertes   \n71              doctores           vacuna        china           nr   \n..                   ...              ...          ...          ...   \n849                miedo           riesgo  crecimiento    conflicto   \n851        confinamiento       enfermedad           nr           nr   \n852           cubrebocas             aire           nr           nr   \n853              cuidado  distanciamiento           nr           nr   \n855               estres            miedo     pulmones       quieto   \n\nestimulo        covid09 covid10  ...         vacuna01     vacuna02  \\\nid                               ...                                 \n67                salud      nr  ...        necesaria       social   \n68                   nr      nr  ...            salud   proteccion   \n69                china      nr  ...             cura  tratamiento   \n70                   nr      nr  ...  responsabilidad         cura   \n71                   nr      nr  ...       enfermedad     pandemia   \n..                  ...     ...  ...              ...          ...   \n849       insertidumbre      nr  ...       proteccion        salud   \n851                  nr      nr  ...      tratamiento  medicamento   \n852                  nr      nr  ...     conocimiento      ciencia   \n853                  nr      nr  ...       proteccion  obligatorio   \n855          entubacion      nr  ...       prevencion        salud   \n\nestimulo     vacuna03     vacuna04    vacuna05     vacuna06       vacuna07  \\\nid                                                                           \n67              pelea        lucha      guerra  preocupante    experimento   \n68        anticuerpos  oportunidad  longevidad    saludable             nr   \n69           medicina   enfermedad       virus        ahuja           util   \n70              virus        salud  enfermedad     sociedad       pandemia   \n71              covid        salud  cuarentena    inyeccion       doctores   \n..                ...          ...         ...          ...            ...   \n849           defensa      barrera    problema        miedo  insertidumbre   \n851             dolor       doctor          nr           nr             nr   \n852           termino  autocuidado          nr           nr             nr   \n853        prevencion         util   necesario        dolor             nr   \n855           cuidado   enfermedad       covid        dolor          miedo   \n\nestimulo  vacuna08  vacuna09 vacuna10  \nid                                     \n67           ayuda        nr       nr  \n68              nr        nr       nr  \n69           covid     dolor       nr  \n70          tiempo        nr       nr  \n71        hospital  personas       nr  \n..             ...       ...      ...  \n849       negacion        nr       nr  \n851             nr        nr       nr  \n852             nr        nr       nr  \n853             nr        nr       nr  \n855          aguja   liquido       nr  \n\n[621 rows x 60 columns]",
      "text/html": "<div>\n<style scoped>\n    .dataframe tbody tr th:only-of-type {\n        vertical-align: middle;\n    }\n\n    .dataframe tbody tr th {\n        vertical-align: top;\n    }\n\n    .dataframe thead th {\n        text-align: right;\n    }\n</style>\n<table border=\"1\" class=\"dataframe\">\n  <thead>\n    <tr style=\"text-align: right;\">\n      <th>estimulo</th>\n      <th>covid01</th>\n      <th>covid02</th>\n      <th>covid03</th>\n      <th>covid04</th>\n      <th>covid05</th>\n      <th>covid06</th>\n      <th>covid07</th>\n      <th>covid08</th>\n      <th>covid09</th>\n      <th>covid10</th>\n      <th>...</th>\n      <th>vacuna01</th>\n      <th>vacuna02</th>\n      <th>vacuna03</th>\n      <th>vacuna04</th>\n      <th>vacuna05</th>\n      <th>vacuna06</th>\n      <th>vacuna07</th>\n      <th>vacuna08</th>\n      <th>vacuna09</th>\n      <th>vacuna10</th>\n    </tr>\n    <tr>\n      <th>id</th>\n      <th></th>\n      <th></th>\n      <th></th>\n      <th></th>\n      <th></th>\n      <th></th>\n      <th></th>\n      <th></th>\n      <th></th>\n      <th></th>\n      <th></th>\n      <th></th>\n      <th></th>\n      <th></th>\n      <th></th>\n      <th></th>\n      <th></th>\n      <th></th>\n      <th></th>\n      <th></th>\n      <th></th>\n    </tr>\n  </thead>\n  <tbody>\n    <tr>\n      <th>67</th>\n      <td>cuarentena</td>\n      <td>ansiedad</td>\n      <td>preocupacion</td>\n      <td>miedo</td>\n      <td>imparable</td>\n      <td>encierro</td>\n      <td>mundial</td>\n      <td>cuidarse</td>\n      <td>salud</td>\n      <td>nr</td>\n      <td>...</td>\n      <td>necesaria</td>\n      <td>social</td>\n      <td>pelea</td>\n      <td>lucha</td>\n      <td>guerra</td>\n      <td>preocupante</td>\n      <td>experimento</td>\n      <td>ayuda</td>\n      <td>nr</td>\n      <td>nr</td>\n    </tr>\n    <tr>\n      <th>68</th>\n      <td>muerte</td>\n      <td>falta de proteccion</td>\n      <td>no hay libertad</td>\n      <td>enfermedad</td>\n      <td>sana distancia</td>\n      <td>ansiedad</td>\n      <td>cubrebocas</td>\n      <td>guantes</td>\n      <td>nr</td>\n      <td>nr</td>\n      <td>...</td>\n      <td>salud</td>\n      <td>proteccion</td>\n      <td>anticuerpos</td>\n      <td>oportunidad</td>\n      <td>longevidad</td>\n      <td>saludable</td>\n      <td>nr</td>\n      <td>nr</td>\n      <td>nr</td>\n      <td>nr</td>\n    </tr>\n    <tr>\n      <th>69</th>\n      <td>virus</td>\n      <td>enfermedad</td>\n      <td>muertes</td>\n      <td>pandemia</td>\n      <td>cuarentena</td>\n      <td>sisntomas</td>\n      <td>doctores</td>\n      <td>respiracion</td>\n      <td>china</td>\n      <td>nr</td>\n      <td>...</td>\n      <td>cura</td>\n      <td>tratamiento</td>\n      <td>medicina</td>\n      <td>enfermedad</td>\n      <td>virus</td>\n      <td>ahuja</td>\n      <td>util</td>\n      <td>covid</td>\n      <td>dolor</td>\n      <td>nr</td>\n    </tr>\n    <tr>\n      <th>70</th>\n      <td>enfermedad</td>\n      <td>virus</td>\n      <td>pandemia</td>\n      <td>situacion</td>\n      <td>global</td>\n      <td>estres</td>\n      <td>ansiedad</td>\n      <td>muertes</td>\n      <td>nr</td>\n      <td>nr</td>\n      <td>...</td>\n      <td>responsabilidad</td>\n      <td>cura</td>\n      <td>virus</td>\n      <td>salud</td>\n      <td>enfermedad</td>\n      <td>sociedad</td>\n      <td>pandemia</td>\n      <td>tiempo</td>\n      <td>nr</td>\n      <td>nr</td>\n    </tr>\n    <tr>\n      <th>71</th>\n      <td>enfermedad</td>\n      <td>pandemia</td>\n      <td>cuarentena</td>\n      <td>mundo</td>\n      <td>doctores</td>\n      <td>vacuna</td>\n      <td>china</td>\n      <td>nr</td>\n      <td>nr</td>\n      <td>nr</td>\n      <td>...</td>\n      <td>enfermedad</td>\n      <td>pandemia</td>\n      <td>covid</td>\n      <td>salud</td>\n      <td>cuarentena</td>\n      <td>inyeccion</td>\n      <td>doctores</td>\n      <td>hospital</td>\n      <td>personas</td>\n      <td>nr</td>\n    </tr>\n    <tr>\n      <th>...</th>\n      <td>...</td>\n      <td>...</td>\n      <td>...</td>\n      <td>...</td>\n      <td>...</td>\n      <td>...</td>\n      <td>...</td>\n      <td>...</td>\n      <td>...</td>\n      <td>...</td>\n      <td>...</td>\n      <td>...</td>\n      <td>...</td>\n      <td>...</td>\n      <td>...</td>\n      <td>...</td>\n      <td>...</td>\n      <td>...</td>\n      <td>...</td>\n      <td>...</td>\n      <td>...</td>\n    </tr>\n    <tr>\n      <th>849</th>\n      <td>pandemia</td>\n      <td>encierro</td>\n      <td>enfermedad</td>\n      <td>trauma</td>\n      <td>miedo</td>\n      <td>riesgo</td>\n      <td>crecimiento</td>\n      <td>conflicto</td>\n      <td>insertidumbre</td>\n      <td>nr</td>\n      <td>...</td>\n      <td>proteccion</td>\n      <td>salud</td>\n      <td>defensa</td>\n      <td>barrera</td>\n      <td>problema</td>\n      <td>miedo</td>\n      <td>insertidumbre</td>\n      <td>negacion</td>\n      <td>nr</td>\n      <td>nr</td>\n    </tr>\n    <tr>\n      <th>851</th>\n      <td>preocupacion</td>\n      <td>contagios</td>\n      <td>estres</td>\n      <td>muertes</td>\n      <td>confinamiento</td>\n      <td>enfermedad</td>\n      <td>nr</td>\n      <td>nr</td>\n      <td>nr</td>\n      <td>nr</td>\n      <td>...</td>\n      <td>tratamiento</td>\n      <td>medicamento</td>\n      <td>dolor</td>\n      <td>doctor</td>\n      <td>nr</td>\n      <td>nr</td>\n      <td>nr</td>\n      <td>nr</td>\n      <td>nr</td>\n      <td>nr</td>\n    </tr>\n    <tr>\n      <th>852</th>\n      <td>muerte</td>\n      <td>depresion</td>\n      <td>clausurado</td>\n      <td>casa</td>\n      <td>cubrebocas</td>\n      <td>aire</td>\n      <td>nr</td>\n      <td>nr</td>\n      <td>nr</td>\n      <td>nr</td>\n      <td>...</td>\n      <td>conocimiento</td>\n      <td>ciencia</td>\n      <td>termino</td>\n      <td>autocuidado</td>\n      <td>nr</td>\n      <td>nr</td>\n      <td>nr</td>\n      <td>nr</td>\n      <td>nr</td>\n      <td>nr</td>\n    </tr>\n    <tr>\n      <th>853</th>\n      <td>enfermedad</td>\n      <td>pandemia</td>\n      <td>higiene</td>\n      <td>responsabilidad</td>\n      <td>cuidado</td>\n      <td>distanciamiento</td>\n      <td>nr</td>\n      <td>nr</td>\n      <td>nr</td>\n      <td>nr</td>\n      <td>...</td>\n      <td>proteccion</td>\n      <td>obligatorio</td>\n      <td>prevencion</td>\n      <td>util</td>\n      <td>necesario</td>\n      <td>dolor</td>\n      <td>nr</td>\n      <td>nr</td>\n      <td>nr</td>\n      <td>nr</td>\n    </tr>\n    <tr>\n      <th>855</th>\n      <td>salud</td>\n      <td>enfermedad</td>\n      <td>muerte</td>\n      <td>ansiedad</td>\n      <td>estres</td>\n      <td>miedo</td>\n      <td>pulmones</td>\n      <td>quieto</td>\n      <td>entubacion</td>\n      <td>nr</td>\n      <td>...</td>\n      <td>prevencion</td>\n      <td>salud</td>\n      <td>cuidado</td>\n      <td>enfermedad</td>\n      <td>covid</td>\n      <td>dolor</td>\n      <td>miedo</td>\n      <td>aguja</td>\n      <td>liquido</td>\n      <td>nr</td>\n    </tr>\n  </tbody>\n</table>\n<p>621 rows × 60 columns</p>\n</div>"
     },
     "execution_count": 192,
     "metadata": {},
     "output_type": "execute_result"
    }
   ],
   "source": [
    "ancho"
   ]
  },
  {
   "cell_type": "code",
   "execution_count": 193,
   "metadata": {
    "collapsed": false,
    "ExecuteTime": {
     "end_time": "2024-08-10T23:19:09.108546Z",
     "start_time": "2024-08-10T23:19:09.096924Z"
    }
   },
   "outputs": [
    {
     "data": {
      "text/plain": "      id           submitdate  lastpage startlanguage        seed  \\\n0     67  2021-03-27 13:32:28         5         es-MX   909191565   \n1     68  2021-03-27 19:38:43         5         es-MX    99489830   \n2     69  2021-03-29 11:47:46         5         es-MX  1592450376   \n3     70  2021-03-29 12:37:20         5         es-MX   762883078   \n4     71  2021-03-29 14:33:34         5         es-MX  1746037044   \n..   ...                  ...       ...           ...         ...   \n717  851  2022-10-29 17:28:54         5         es-MX   584177600   \n718  852  2022-10-29 18:20:26         5         es-MX   921555126   \n719  853  2022-10-29 20:23:28         5         es-MX   114360708   \n720  854  2022-10-31 19:02:54         5         es-MX  2117179292   \n721  855  2022-11-02 16:10:17         5         es-MX  1261428857   \n\n               startdate            datestamp encuestador conset q35  ...  \\\n0    2021-03-27 13:03:10  2021-03-27 13:32:28         A13      Y   Y  ...   \n1    2021-03-27 19:07:21  2021-03-27 19:38:43         A13      Y   Y  ...   \n2    2021-03-29 11:04:42  2021-03-29 11:47:46         A07      Y   Y  ...   \n3    2021-03-29 12:04:01  2021-03-29 12:37:20         A04      Y   Y  ...   \n4    2021-03-29 14:00:48  2021-03-29 14:33:34         A03      Y   Y  ...   \n..                   ...                  ...         ...    ...  ..  ...   \n717  2022-10-29 17:07:05  2022-10-29 17:28:54         A05      Y   Y  ...   \n718  2022-10-29 18:02:41  2022-10-29 18:20:26         A05      Y   Y  ...   \n719  2022-10-29 20:02:20  2022-10-29 20:23:28         A05      Y   Y  ...   \n720  2022-10-31 18:32:54  2022-10-31 19:02:54         A11      Y   Y  ...   \n721  2022-11-02 15:45:47  2022-11-02 16:10:17         A05      Y   Y  ...   \n\n            vacuna01     vacuna02     vacuna03     vacuna04    vacuna05  \\\n0          necesaria       social        pelea        lucha      guerra   \n1              salud   proteccion  anticuerpos  oportunidad  longevidad   \n2               cura  tratamiento     medicina   enfermedad       virus   \n3    responsabilidad         cura        virus        salud  enfermedad   \n4         enfermedad     pandemia        covid        salud  cuarentena   \n..               ...          ...          ...          ...         ...   \n717      tratamiento  medicamento        dolor       doctor          nr   \n718     conocimiento      ciencia      termino  autocuidado          nr   \n719       proteccion  obligatorio   prevencion         util   necesario   \n720              NaN          NaN          NaN          NaN         NaN   \n721       prevencion        salud      cuidado   enfermedad       covid   \n\n        vacuna06     vacuna07  vacuna08  vacuna09 vacuna10  \n0    preocupante  experimento     ayuda        nr       nr  \n1      saludable           nr        nr        nr       nr  \n2          ahuja         util     covid     dolor       nr  \n3       sociedad     pandemia    tiempo        nr       nr  \n4      inyeccion     doctores  hospital  personas       nr  \n..           ...          ...       ...       ...      ...  \n717           nr           nr        nr        nr       nr  \n718           nr           nr        nr        nr       nr  \n719        dolor           nr        nr        nr       nr  \n720          NaN          NaN       NaN       NaN      NaN  \n721        dolor        miedo     aguja   liquido       nr  \n\n[722 rows x 254 columns]",
      "text/html": "<div>\n<style scoped>\n    .dataframe tbody tr th:only-of-type {\n        vertical-align: middle;\n    }\n\n    .dataframe tbody tr th {\n        vertical-align: top;\n    }\n\n    .dataframe thead th {\n        text-align: right;\n    }\n</style>\n<table border=\"1\" class=\"dataframe\">\n  <thead>\n    <tr style=\"text-align: right;\">\n      <th></th>\n      <th>id</th>\n      <th>submitdate</th>\n      <th>lastpage</th>\n      <th>startlanguage</th>\n      <th>seed</th>\n      <th>startdate</th>\n      <th>datestamp</th>\n      <th>encuestador</th>\n      <th>conset</th>\n      <th>q35</th>\n      <th>...</th>\n      <th>vacuna01</th>\n      <th>vacuna02</th>\n      <th>vacuna03</th>\n      <th>vacuna04</th>\n      <th>vacuna05</th>\n      <th>vacuna06</th>\n      <th>vacuna07</th>\n      <th>vacuna08</th>\n      <th>vacuna09</th>\n      <th>vacuna10</th>\n    </tr>\n  </thead>\n  <tbody>\n    <tr>\n      <th>0</th>\n      <td>67</td>\n      <td>2021-03-27 13:32:28</td>\n      <td>5</td>\n      <td>es-MX</td>\n      <td>909191565</td>\n      <td>2021-03-27 13:03:10</td>\n      <td>2021-03-27 13:32:28</td>\n      <td>A13</td>\n      <td>Y</td>\n      <td>Y</td>\n      <td>...</td>\n      <td>necesaria</td>\n      <td>social</td>\n      <td>pelea</td>\n      <td>lucha</td>\n      <td>guerra</td>\n      <td>preocupante</td>\n      <td>experimento</td>\n      <td>ayuda</td>\n      <td>nr</td>\n      <td>nr</td>\n    </tr>\n    <tr>\n      <th>1</th>\n      <td>68</td>\n      <td>2021-03-27 19:38:43</td>\n      <td>5</td>\n      <td>es-MX</td>\n      <td>99489830</td>\n      <td>2021-03-27 19:07:21</td>\n      <td>2021-03-27 19:38:43</td>\n      <td>A13</td>\n      <td>Y</td>\n      <td>Y</td>\n      <td>...</td>\n      <td>salud</td>\n      <td>proteccion</td>\n      <td>anticuerpos</td>\n      <td>oportunidad</td>\n      <td>longevidad</td>\n      <td>saludable</td>\n      <td>nr</td>\n      <td>nr</td>\n      <td>nr</td>\n      <td>nr</td>\n    </tr>\n    <tr>\n      <th>2</th>\n      <td>69</td>\n      <td>2021-03-29 11:47:46</td>\n      <td>5</td>\n      <td>es-MX</td>\n      <td>1592450376</td>\n      <td>2021-03-29 11:04:42</td>\n      <td>2021-03-29 11:47:46</td>\n      <td>A07</td>\n      <td>Y</td>\n      <td>Y</td>\n      <td>...</td>\n      <td>cura</td>\n      <td>tratamiento</td>\n      <td>medicina</td>\n      <td>enfermedad</td>\n      <td>virus</td>\n      <td>ahuja</td>\n      <td>util</td>\n      <td>covid</td>\n      <td>dolor</td>\n      <td>nr</td>\n    </tr>\n    <tr>\n      <th>3</th>\n      <td>70</td>\n      <td>2021-03-29 12:37:20</td>\n      <td>5</td>\n      <td>es-MX</td>\n      <td>762883078</td>\n      <td>2021-03-29 12:04:01</td>\n      <td>2021-03-29 12:37:20</td>\n      <td>A04</td>\n      <td>Y</td>\n      <td>Y</td>\n      <td>...</td>\n      <td>responsabilidad</td>\n      <td>cura</td>\n      <td>virus</td>\n      <td>salud</td>\n      <td>enfermedad</td>\n      <td>sociedad</td>\n      <td>pandemia</td>\n      <td>tiempo</td>\n      <td>nr</td>\n      <td>nr</td>\n    </tr>\n    <tr>\n      <th>4</th>\n      <td>71</td>\n      <td>2021-03-29 14:33:34</td>\n      <td>5</td>\n      <td>es-MX</td>\n      <td>1746037044</td>\n      <td>2021-03-29 14:00:48</td>\n      <td>2021-03-29 14:33:34</td>\n      <td>A03</td>\n      <td>Y</td>\n      <td>Y</td>\n      <td>...</td>\n      <td>enfermedad</td>\n      <td>pandemia</td>\n      <td>covid</td>\n      <td>salud</td>\n      <td>cuarentena</td>\n      <td>inyeccion</td>\n      <td>doctores</td>\n      <td>hospital</td>\n      <td>personas</td>\n      <td>nr</td>\n    </tr>\n    <tr>\n      <th>...</th>\n      <td>...</td>\n      <td>...</td>\n      <td>...</td>\n      <td>...</td>\n      <td>...</td>\n      <td>...</td>\n      <td>...</td>\n      <td>...</td>\n      <td>...</td>\n      <td>...</td>\n      <td>...</td>\n      <td>...</td>\n      <td>...</td>\n      <td>...</td>\n      <td>...</td>\n      <td>...</td>\n      <td>...</td>\n      <td>...</td>\n      <td>...</td>\n      <td>...</td>\n      <td>...</td>\n    </tr>\n    <tr>\n      <th>717</th>\n      <td>851</td>\n      <td>2022-10-29 17:28:54</td>\n      <td>5</td>\n      <td>es-MX</td>\n      <td>584177600</td>\n      <td>2022-10-29 17:07:05</td>\n      <td>2022-10-29 17:28:54</td>\n      <td>A05</td>\n      <td>Y</td>\n      <td>Y</td>\n      <td>...</td>\n      <td>tratamiento</td>\n      <td>medicamento</td>\n      <td>dolor</td>\n      <td>doctor</td>\n      <td>nr</td>\n      <td>nr</td>\n      <td>nr</td>\n      <td>nr</td>\n      <td>nr</td>\n      <td>nr</td>\n    </tr>\n    <tr>\n      <th>718</th>\n      <td>852</td>\n      <td>2022-10-29 18:20:26</td>\n      <td>5</td>\n      <td>es-MX</td>\n      <td>921555126</td>\n      <td>2022-10-29 18:02:41</td>\n      <td>2022-10-29 18:20:26</td>\n      <td>A05</td>\n      <td>Y</td>\n      <td>Y</td>\n      <td>...</td>\n      <td>conocimiento</td>\n      <td>ciencia</td>\n      <td>termino</td>\n      <td>autocuidado</td>\n      <td>nr</td>\n      <td>nr</td>\n      <td>nr</td>\n      <td>nr</td>\n      <td>nr</td>\n      <td>nr</td>\n    </tr>\n    <tr>\n      <th>719</th>\n      <td>853</td>\n      <td>2022-10-29 20:23:28</td>\n      <td>5</td>\n      <td>es-MX</td>\n      <td>114360708</td>\n      <td>2022-10-29 20:02:20</td>\n      <td>2022-10-29 20:23:28</td>\n      <td>A05</td>\n      <td>Y</td>\n      <td>Y</td>\n      <td>...</td>\n      <td>proteccion</td>\n      <td>obligatorio</td>\n      <td>prevencion</td>\n      <td>util</td>\n      <td>necesario</td>\n      <td>dolor</td>\n      <td>nr</td>\n      <td>nr</td>\n      <td>nr</td>\n      <td>nr</td>\n    </tr>\n    <tr>\n      <th>720</th>\n      <td>854</td>\n      <td>2022-10-31 19:02:54</td>\n      <td>5</td>\n      <td>es-MX</td>\n      <td>2117179292</td>\n      <td>2022-10-31 18:32:54</td>\n      <td>2022-10-31 19:02:54</td>\n      <td>A11</td>\n      <td>Y</td>\n      <td>Y</td>\n      <td>...</td>\n      <td>NaN</td>\n      <td>NaN</td>\n      <td>NaN</td>\n      <td>NaN</td>\n      <td>NaN</td>\n      <td>NaN</td>\n      <td>NaN</td>\n      <td>NaN</td>\n      <td>NaN</td>\n      <td>NaN</td>\n    </tr>\n    <tr>\n      <th>721</th>\n      <td>855</td>\n      <td>2022-11-02 16:10:17</td>\n      <td>5</td>\n      <td>es-MX</td>\n      <td>1261428857</td>\n      <td>2022-11-02 15:45:47</td>\n      <td>2022-11-02 16:10:17</td>\n      <td>A05</td>\n      <td>Y</td>\n      <td>Y</td>\n      <td>...</td>\n      <td>prevencion</td>\n      <td>salud</td>\n      <td>cuidado</td>\n      <td>enfermedad</td>\n      <td>covid</td>\n      <td>dolor</td>\n      <td>miedo</td>\n      <td>aguja</td>\n      <td>liquido</td>\n      <td>nr</td>\n    </tr>\n  </tbody>\n</table>\n<p>722 rows × 254 columns</p>\n</div>"
     },
     "execution_count": 193,
     "metadata": {},
     "output_type": "execute_result"
    }
   ],
   "source": [
    "datos = (datos\n",
    "         .drop(columns=columnas_rondas)\n",
    "         .merge(ancho, on='id', how='left')\n",
    "         )\n",
    "datos"
   ]
  },
  {
   "cell_type": "code",
   "execution_count": 194,
   "metadata": {
    "collapsed": false,
    "ExecuteTime": {
     "end_time": "2024-08-10T23:19:09.248611Z",
     "start_time": "2024-08-10T23:19:09.246290Z"
    }
   },
   "outputs": [],
   "source": [
    "mapear_codigos = functools.partial(auxiliar_4.mapear_codigos, datos, mapeo_respuestas)\n",
    "llenar_respuesta_libre = functools.partial(auxiliar_4.llenar_respuesta_libre, datos)\n",
    "llenar_vacios = functools.partial(auxiliar_4.llenar_vacios, datos)\n",
    "mostrar_unicos = functools.partial(auxiliar_4.mostrar_unicos, datos)\n",
    "contar_faltantes = functools.partial(auxiliar_4.contar_faltantes, datos)\n",
    "unificar_observaciones = functools.partial(auxiliar_4.unificar_observaciones, datos)"
   ]
  },
  {
   "attachments": {},
   "cell_type": "markdown",
   "metadata": {
    "collapsed": false
   },
   "source": [
    "# Trabajos"
   ]
  },
  {
   "attachments": {},
   "cell_type": "markdown",
   "metadata": {
    "collapsed": false
   },
   "source": [
    "Los trabajos tienen dos niveles de organización:\n",
    "- Nivel 1: categoría (tipo de trabajo)\n",
    "- Nivel 2: ocupación (el trabajo en sí mismo)"
   ]
  },
  {
   "attachments": {},
   "cell_type": "markdown",
   "metadata": {
    "collapsed": false
   },
   "source": [
    "## areatrabajo (nivel 1)"
   ]
  },
  {
   "attachments": {},
   "cell_type": "markdown",
   "metadata": {
    "collapsed": false
   },
   "source": [
    "Las posibles respuestas de `areatrabajo` corresponden al nivel 1."
   ]
  },
  {
   "cell_type": "code",
   "execution_count": 195,
   "metadata": {
    "collapsed": false,
    "ExecuteTime": {
     "end_time": "2024-08-10T23:19:09.392544Z",
     "start_time": "2024-08-10T23:19:09.389989Z"
    }
   },
   "outputs": [
    {
     "data": {
      "text/plain": "{'A02': 'Actividades deportivas_1',\n 'A03': 'Artista_2',\n 'A04': 'Chofer_3',\n 'A05': 'Comerciante sector formal_4',\n 'A06': 'Comerciante sector informal_5',\n 'A07': 'Empresario_6',\n 'A08': 'Comercio Virtual_7',\n 'A09': 'Atención a clientes_8',\n 'A10': 'Administrativo_9',\n 'A11': 'Gubernamental administrativo_10',\n 'A12': 'Empleado gubernamental_11',\n 'A13': 'Operador de maquinaria móvil_12',\n 'A14': 'Personal técnico_13',\n 'A15': 'Área educativa_14',\n 'A16': 'Profesionista independiente_15',\n 'A17': 'Seguridad_16',\n 'A18': 'Área de la salud_17',\n 'A19': 'Construcción_18',\n 'A20': 'Fábrica_19'}"
     },
     "execution_count": 195,
     "metadata": {},
     "output_type": "execute_result"
    }
   ],
   "source": [
    "mapeo_respuestas['areatrabajo']"
   ]
  },
  {
   "attachments": {},
   "cell_type": "markdown",
   "metadata": {
    "collapsed": false
   },
   "source": [
    "Los valores registrados para el área de trabajo son:"
   ]
  },
  {
   "cell_type": "code",
   "execution_count": 196,
   "metadata": {
    "collapsed": false,
    "ExecuteTime": {
     "end_time": "2024-08-10T23:19:09.524524Z",
     "start_time": "2024-08-10T23:19:09.521766Z"
    }
   },
   "outputs": [
    {
     "data": {
      "text/plain": "0     -oth-\n1       A02\n2       A03\n3       A04\n4       A05\n5       A06\n6       A07\n7       A08\n8       A09\n9       A10\n10      A12\n11      A13\n12      A14\n13      A15\n14      A16\n15      A18\n16      A20\n17      NaN\nName: areatrabajo, dtype: object"
     },
     "execution_count": 196,
     "metadata": {},
     "output_type": "execute_result"
    }
   ],
   "source": [
    "mostrar_unicos('areatrabajo')"
   ]
  },
  {
   "attachments": {},
   "cell_type": "markdown",
   "metadata": {
    "collapsed": false
   },
   "source": [
    "Entonces las respuestas únicas para el área de trabajo son:"
   ]
  },
  {
   "cell_type": "code",
   "execution_count": 197,
   "metadata": {
    "collapsed": false,
    "ExecuteTime": {
     "end_time": "2024-08-10T23:19:09.621174Z",
     "start_time": "2024-08-10T23:19:09.614534Z"
    }
   },
   "outputs": [
    {
     "name": "stderr",
     "output_type": "stream",
     "text": [
      "/Users/erickavendanogarcia/Downloads/servicio_social/encuestas/auxiliar_4.py:143: FutureWarning: A value is trying to be set on a copy of a DataFrame or Series through chained assignment using an inplace method.\n",
      "The behavior will change in pandas 3.0. This inplace method will never work because the intermediate object on which we are setting values always behaves as a copy.\n",
      "\n",
      "For example, when doing 'df[col].method(value, inplace=True)', try using 'df.method({col: value}, inplace=True)' or df[col] = df[col].method(value) instead, to perform the operation inplace on the original object.\n",
      "\n",
      "\n",
      "  df[columna].fillna(valor, inplace=True)\n"
     ]
    },
    {
     "data": {
      "text/plain": "0                 actividades deportivas_1\n1     administradora de servicios de salud\n2                         administrativo_9\n3         area administrativa de panadería\n4                                artista_2\n5                                     aseo\n6                    atención a clientes_8\n7                      atiende tienda neto\n8                   ayudante de psicología\n9                       ayudante de sastre\n10          ayudante empresa de publicidad\n11         ayudante general tienda de ropa\n12                                 becaria\n13                               cafeteria\n14                       cafeteria escolar\n15             caseta de cobro de un bazar\n16                                chofer_3\n17                                  cocina\n18             comerciante sector formal_4\n19           comerciante sector informal_5\n20                      comercio virtual_7\n21                                empleado\n22               empleado gubernamental_11\n23                            empresario_6\n24                                 escuela\n25                                finanzas\n26                  fundacion proyecto duq\n27                              fábrica_19\n28                                 iglesia\n29                               jarcieria\n30                               marketing\n31                                  mesera\n32                                  modelo\n33                                  músico\n34                       narra audiolibros\n35             negocio familiar de juguete\n36                                 ninguna\n37         operador de maquinaria móvil_12\n38                    personal de limpieza\n39                     personal técnico_13\n40          profesionista independiente_15\n41                            programación\n42                             sistemas ip\n43                         soporte técnico\n44            staff de estudio de spinning\n45                       taller de costura\n46                                taqueria\n47             tienda. atención a clientes\n48                 trabaja en una farmacia\n49                      venta por catalogo\n50                     área de la salud_17\n51                       área educativa_14\nName: areatrabajo, dtype: object"
     },
     "execution_count": 197,
     "metadata": {},
     "output_type": "execute_result"
    }
   ],
   "source": [
    "llenar_respuesta_libre('areatrabajo')\n",
    "llenar_vacios('areatrabajo', 'ninguna')\n",
    "mapear_codigos('areatrabajo')\n",
    "datos['areatrabajo'] = datos['areatrabajo'].str.strip().str.lower()\n",
    "mostrar_unicos('areatrabajo')"
   ]
  },
  {
   "attachments": {},
   "cell_type": "markdown",
   "metadata": {
    "collapsed": false
   },
   "source": [
    "## Ocupaciones (nivel 2)"
   ]
  },
  {
   "attachments": {},
   "cell_type": "markdown",
   "metadata": {
    "collapsed": false
   },
   "source": [
    "Si una persona indica su área de trabajo dentro de la categoría de nivel 1, entonces se le pregunta por su ocupación (nivel 2) dentro de esa categoría.\n",
    "Para cada categoría se lidia con el nivel 2 a través de dos columnas:\n",
    "- Ocupación: se elige entre las opciones predeterminadas. A estas columnas se les denominará **base**.\n",
    "- Si la ocupación de la persona no se encuentra dentro de las opciones predeterminadas, entonces elige \"otra\" y registra su ocupación en una columna con el sufijo `\"[other]\"`. A estas columnas se les denominará **sufijo**\n",
    "\n",
    "Por tanto, cada categoría de nivel 1 tiene asociadas dos columnas de ocupación (nivel 2)."
   ]
  },
  {
   "attachments": {},
   "cell_type": "markdown",
   "metadata": {
    "collapsed": false
   },
   "source": [
    "### Columnas base"
   ]
  },
  {
   "attachments": {},
   "cell_type": "markdown",
   "metadata": {
    "collapsed": false
   },
   "source": [
    "Primero se identifica las columnas base. Casi todas ellas tienen el sufijo `q0r` seguido de un número. Sin embargo, hay algunas excepciones: `deport`, `construcion`, `fabrica` y `formal`"
   ]
  },
  {
   "cell_type": "code",
   "execution_count": 198,
   "metadata": {
    "collapsed": false,
    "ExecuteTime": {
     "end_time": "2024-08-10T23:19:09.857403Z",
     "start_time": "2024-08-10T23:19:09.854681Z"
    }
   },
   "outputs": [
    {
     "name": "stderr",
     "output_type": "stream",
     "text": [
      "<>:1: SyntaxWarning: invalid escape sequence '\\d'\n",
      "<>:1: SyntaxWarning: invalid escape sequence '\\d'\n",
      "/var/folders/hb/c3zh8bns0mx4nw98_6k7rx8m0000gn/T/ipykernel_4464/1050578966.py:1: SyntaxWarning: invalid escape sequence '\\d'\n",
      "  columnas_base = diccionario.index[diccionario.index.str.contains('[a-zA-Z]+q0r\\d+$')].tolist()\n"
     ]
    },
    {
     "data": {
      "text/plain": "['agriculturaq0r411',\n 'artistaq0r621',\n 'atenciclientesq0r13',\n 'choferq0r727',\n 'construccion',\n 'deport',\n 'dministratq0r139',\n 'educacionq0r857',\n 'empleadogubq0r22',\n 'empresaq0r18',\n 'fabricaq57',\n 'formal21',\n 'gubadmiq0r335',\n 'indepq0r708',\n 'informalq0r332',\n 'internetq0r391',\n 'operadormaquiq0r947',\n 'persontecnq0r477',\n 'saludq0r580',\n 'segurq0r642']"
     },
     "execution_count": 198,
     "metadata": {},
     "output_type": "execute_result"
    }
   ],
   "source": [
    "columnas_base = diccionario.index[diccionario.index.str.contains('[a-zA-Z]+q0r\\d+$')].tolist()\n",
    "columnas_base += ['deport', 'construccion', 'fabricaq57', 'formal21']\n",
    "columnas_base.sort()\n",
    "columnas_base"
   ]
  },
  {
   "cell_type": "code",
   "execution_count": 199,
   "metadata": {
    "collapsed": false,
    "ExecuteTime": {
     "end_time": "2024-08-10T23:19:09.938788Z",
     "start_time": "2024-08-10T23:19:09.932321Z"
    }
   },
   "outputs": [
    {
     "data": {
      "text/plain": "     agriculturaq0r411 artistaq0r621 atenciclientesq0r13 choferq0r727  \\\n0                  NaN           NaN                 NaN          NaN   \n1                  NaN           NaN                 NaN          NaN   \n2                  NaN           NaN                 NaN          NaN   \n3                  NaN           NaN                 NaN          NaN   \n4                  NaN           NaN                 NaN          NaN   \n..                 ...           ...                 ...          ...   \n717                NaN           NaN                 NaN          NaN   \n718                NaN           NaN                 NaN          NaN   \n719                NaN           NaN                 NaN          NaN   \n720                NaN           NaN                 NaN          NaN   \n721                NaN           NaN                 NaN          NaN   \n\n     construccion deport dministratq0r139 educacionq0r857 empleadogubq0r22  \\\n0             NaN    NaN              NaN             NaN              NaN   \n1             NaN    NaN              NaN             NaN              NaN   \n2             NaN    NaN              NaN             NaN              NaN   \n3             NaN    NaN              NaN             NaN              NaN   \n4             NaN    NaN              NaN           -oth-              NaN   \n..            ...    ...              ...             ...              ...   \n717           NaN    NaN              NaN             NaN              NaN   \n718           NaN    NaN              NaN             NaN              NaN   \n719           NaN    NaN              NaN             NaN              NaN   \n720           NaN    NaN              NaN             NaN              NaN   \n721           NaN    NaN              NaN             NaN              NaN   \n\n    empresaq0r18 fabricaq57 formal21  gubadmiq0r335 indepq0r708  \\\n0            NaN        NaN      NaN            NaN         NaN   \n1            NaN        NaN      NaN            NaN         NaN   \n2            NaN        NaN      NaN            NaN         NaN   \n3            NaN        NaN      NaN            NaN         NaN   \n4            NaN        NaN      NaN            NaN         NaN   \n..           ...        ...      ...            ...         ...   \n717          NaN        NaN      NaN            NaN         NaN   \n718          NaN        NaN      NaN            NaN         NaN   \n719          NaN        NaN      NaN            NaN         NaN   \n720          NaN        NaN      NaN            NaN         NaN   \n721          NaN        NaN      NaN            NaN         NaN   \n\n    informalq0r332 internetq0r391  operadormaquiq0r947  persontecnq0r477  \\\n0              NaN            NaN                  NaN               NaN   \n1              NaN            NaN                  NaN               NaN   \n2              NaN            NaN                  NaN               NaN   \n3              NaN            NaN                  NaN               NaN   \n4              NaN            NaN                  NaN               NaN   \n..             ...            ...                  ...               ...   \n717            NaN            NaN                  NaN               NaN   \n718            NaN            NaN                  NaN               NaN   \n719            NaN            NaN                  NaN               NaN   \n720            NaN            NaN                  NaN               NaN   \n721            NaN            NaN                  NaN               NaN   \n\n    saludq0r580  segurq0r642  \n0           NaN          NaN  \n1           NaN          NaN  \n2           NaN          NaN  \n3           NaN          NaN  \n4           NaN          NaN  \n..          ...          ...  \n717         NaN          NaN  \n718         NaN          NaN  \n719         NaN          NaN  \n720         NaN          NaN  \n721         NaN          NaN  \n\n[722 rows x 20 columns]",
      "text/html": "<div>\n<style scoped>\n    .dataframe tbody tr th:only-of-type {\n        vertical-align: middle;\n    }\n\n    .dataframe tbody tr th {\n        vertical-align: top;\n    }\n\n    .dataframe thead th {\n        text-align: right;\n    }\n</style>\n<table border=\"1\" class=\"dataframe\">\n  <thead>\n    <tr style=\"text-align: right;\">\n      <th></th>\n      <th>agriculturaq0r411</th>\n      <th>artistaq0r621</th>\n      <th>atenciclientesq0r13</th>\n      <th>choferq0r727</th>\n      <th>construccion</th>\n      <th>deport</th>\n      <th>dministratq0r139</th>\n      <th>educacionq0r857</th>\n      <th>empleadogubq0r22</th>\n      <th>empresaq0r18</th>\n      <th>fabricaq57</th>\n      <th>formal21</th>\n      <th>gubadmiq0r335</th>\n      <th>indepq0r708</th>\n      <th>informalq0r332</th>\n      <th>internetq0r391</th>\n      <th>operadormaquiq0r947</th>\n      <th>persontecnq0r477</th>\n      <th>saludq0r580</th>\n      <th>segurq0r642</th>\n    </tr>\n  </thead>\n  <tbody>\n    <tr>\n      <th>0</th>\n      <td>NaN</td>\n      <td>NaN</td>\n      <td>NaN</td>\n      <td>NaN</td>\n      <td>NaN</td>\n      <td>NaN</td>\n      <td>NaN</td>\n      <td>NaN</td>\n      <td>NaN</td>\n      <td>NaN</td>\n      <td>NaN</td>\n      <td>NaN</td>\n      <td>NaN</td>\n      <td>NaN</td>\n      <td>NaN</td>\n      <td>NaN</td>\n      <td>NaN</td>\n      <td>NaN</td>\n      <td>NaN</td>\n      <td>NaN</td>\n    </tr>\n    <tr>\n      <th>1</th>\n      <td>NaN</td>\n      <td>NaN</td>\n      <td>NaN</td>\n      <td>NaN</td>\n      <td>NaN</td>\n      <td>NaN</td>\n      <td>NaN</td>\n      <td>NaN</td>\n      <td>NaN</td>\n      <td>NaN</td>\n      <td>NaN</td>\n      <td>NaN</td>\n      <td>NaN</td>\n      <td>NaN</td>\n      <td>NaN</td>\n      <td>NaN</td>\n      <td>NaN</td>\n      <td>NaN</td>\n      <td>NaN</td>\n      <td>NaN</td>\n    </tr>\n    <tr>\n      <th>2</th>\n      <td>NaN</td>\n      <td>NaN</td>\n      <td>NaN</td>\n      <td>NaN</td>\n      <td>NaN</td>\n      <td>NaN</td>\n      <td>NaN</td>\n      <td>NaN</td>\n      <td>NaN</td>\n      <td>NaN</td>\n      <td>NaN</td>\n      <td>NaN</td>\n      <td>NaN</td>\n      <td>NaN</td>\n      <td>NaN</td>\n      <td>NaN</td>\n      <td>NaN</td>\n      <td>NaN</td>\n      <td>NaN</td>\n      <td>NaN</td>\n    </tr>\n    <tr>\n      <th>3</th>\n      <td>NaN</td>\n      <td>NaN</td>\n      <td>NaN</td>\n      <td>NaN</td>\n      <td>NaN</td>\n      <td>NaN</td>\n      <td>NaN</td>\n      <td>NaN</td>\n      <td>NaN</td>\n      <td>NaN</td>\n      <td>NaN</td>\n      <td>NaN</td>\n      <td>NaN</td>\n      <td>NaN</td>\n      <td>NaN</td>\n      <td>NaN</td>\n      <td>NaN</td>\n      <td>NaN</td>\n      <td>NaN</td>\n      <td>NaN</td>\n    </tr>\n    <tr>\n      <th>4</th>\n      <td>NaN</td>\n      <td>NaN</td>\n      <td>NaN</td>\n      <td>NaN</td>\n      <td>NaN</td>\n      <td>NaN</td>\n      <td>NaN</td>\n      <td>-oth-</td>\n      <td>NaN</td>\n      <td>NaN</td>\n      <td>NaN</td>\n      <td>NaN</td>\n      <td>NaN</td>\n      <td>NaN</td>\n      <td>NaN</td>\n      <td>NaN</td>\n      <td>NaN</td>\n      <td>NaN</td>\n      <td>NaN</td>\n      <td>NaN</td>\n    </tr>\n    <tr>\n      <th>...</th>\n      <td>...</td>\n      <td>...</td>\n      <td>...</td>\n      <td>...</td>\n      <td>...</td>\n      <td>...</td>\n      <td>...</td>\n      <td>...</td>\n      <td>...</td>\n      <td>...</td>\n      <td>...</td>\n      <td>...</td>\n      <td>...</td>\n      <td>...</td>\n      <td>...</td>\n      <td>...</td>\n      <td>...</td>\n      <td>...</td>\n      <td>...</td>\n      <td>...</td>\n    </tr>\n    <tr>\n      <th>717</th>\n      <td>NaN</td>\n      <td>NaN</td>\n      <td>NaN</td>\n      <td>NaN</td>\n      <td>NaN</td>\n      <td>NaN</td>\n      <td>NaN</td>\n      <td>NaN</td>\n      <td>NaN</td>\n      <td>NaN</td>\n      <td>NaN</td>\n      <td>NaN</td>\n      <td>NaN</td>\n      <td>NaN</td>\n      <td>NaN</td>\n      <td>NaN</td>\n      <td>NaN</td>\n      <td>NaN</td>\n      <td>NaN</td>\n      <td>NaN</td>\n    </tr>\n    <tr>\n      <th>718</th>\n      <td>NaN</td>\n      <td>NaN</td>\n      <td>NaN</td>\n      <td>NaN</td>\n      <td>NaN</td>\n      <td>NaN</td>\n      <td>NaN</td>\n      <td>NaN</td>\n      <td>NaN</td>\n      <td>NaN</td>\n      <td>NaN</td>\n      <td>NaN</td>\n      <td>NaN</td>\n      <td>NaN</td>\n      <td>NaN</td>\n      <td>NaN</td>\n      <td>NaN</td>\n      <td>NaN</td>\n      <td>NaN</td>\n      <td>NaN</td>\n    </tr>\n    <tr>\n      <th>719</th>\n      <td>NaN</td>\n      <td>NaN</td>\n      <td>NaN</td>\n      <td>NaN</td>\n      <td>NaN</td>\n      <td>NaN</td>\n      <td>NaN</td>\n      <td>NaN</td>\n      <td>NaN</td>\n      <td>NaN</td>\n      <td>NaN</td>\n      <td>NaN</td>\n      <td>NaN</td>\n      <td>NaN</td>\n      <td>NaN</td>\n      <td>NaN</td>\n      <td>NaN</td>\n      <td>NaN</td>\n      <td>NaN</td>\n      <td>NaN</td>\n    </tr>\n    <tr>\n      <th>720</th>\n      <td>NaN</td>\n      <td>NaN</td>\n      <td>NaN</td>\n      <td>NaN</td>\n      <td>NaN</td>\n      <td>NaN</td>\n      <td>NaN</td>\n      <td>NaN</td>\n      <td>NaN</td>\n      <td>NaN</td>\n      <td>NaN</td>\n      <td>NaN</td>\n      <td>NaN</td>\n      <td>NaN</td>\n      <td>NaN</td>\n      <td>NaN</td>\n      <td>NaN</td>\n      <td>NaN</td>\n      <td>NaN</td>\n      <td>NaN</td>\n    </tr>\n    <tr>\n      <th>721</th>\n      <td>NaN</td>\n      <td>NaN</td>\n      <td>NaN</td>\n      <td>NaN</td>\n      <td>NaN</td>\n      <td>NaN</td>\n      <td>NaN</td>\n      <td>NaN</td>\n      <td>NaN</td>\n      <td>NaN</td>\n      <td>NaN</td>\n      <td>NaN</td>\n      <td>NaN</td>\n      <td>NaN</td>\n      <td>NaN</td>\n      <td>NaN</td>\n      <td>NaN</td>\n      <td>NaN</td>\n      <td>NaN</td>\n      <td>NaN</td>\n    </tr>\n  </tbody>\n</table>\n<p>722 rows × 20 columns</p>\n</div>"
     },
     "execution_count": 199,
     "metadata": {},
     "output_type": "execute_result"
    }
   ],
   "source": [
    "datos[columnas_base]"
   ]
  },
  {
   "cell_type": "code",
   "execution_count": 200,
   "metadata": {
    "collapsed": false,
    "ExecuteTime": {
     "end_time": "2024-08-10T23:19:10.141336Z",
     "start_time": "2024-08-10T23:19:10.135715Z"
    }
   },
   "outputs": [
    {
     "name": "stderr",
     "output_type": "stream",
     "text": [
      "/Users/erickavendanogarcia/Downloads/servicio_social/encuestas/auxiliar_4.py:99: FutureWarning: A value is trying to be set on a copy of a DataFrame or Series through chained assignment using an inplace method.\n",
      "The behavior will change in pandas 3.0. This inplace method will never work because the intermediate object on which we are setting values always behaves as a copy.\n",
      "\n",
      "For example, when doing 'df[col].method(value, inplace=True)', try using 'df.method({col: value}, inplace=True)' or df[col] = df[col].method(value) instead, to perform the operation inplace on the original object.\n",
      "\n",
      "\n",
      "  df[columna].replace(mapeo[columna], inplace=True)\n"
     ]
    }
   ],
   "source": [
    "for col_carrera in columnas_base:\n",
    "    mapear_codigos(col_carrera)"
   ]
  },
  {
   "cell_type": "code",
   "execution_count": 201,
   "metadata": {
    "collapsed": false,
    "ExecuteTime": {
     "end_time": "2024-08-10T23:19:10.231970Z",
     "start_time": "2024-08-10T23:19:10.223357Z"
    }
   },
   "outputs": [
    {
     "data": {
      "text/plain": "     agriculturaq0r411 artistaq0r621 atenciclientesq0r13 choferq0r727  \\\n0                  NaN           NaN                 NaN          NaN   \n1                  NaN           NaN                 NaN          NaN   \n2                  NaN           NaN                 NaN          NaN   \n3                  NaN           NaN                 NaN          NaN   \n4                  NaN           NaN                 NaN          NaN   \n..                 ...           ...                 ...          ...   \n717                NaN           NaN                 NaN          NaN   \n718                NaN           NaN                 NaN          NaN   \n719                NaN           NaN                 NaN          NaN   \n720                NaN           NaN                 NaN          NaN   \n721                NaN           NaN                 NaN          NaN   \n\n     construccion deport dministratq0r139 educacionq0r857 empleadogubq0r22  \\\n0             NaN    NaN              NaN             NaN              NaN   \n1             NaN    NaN              NaN             NaN              NaN   \n2             NaN    NaN              NaN             NaN              NaN   \n3             NaN    NaN              NaN             NaN              NaN   \n4             NaN    NaN              NaN           -oth-              NaN   \n..            ...    ...              ...             ...              ...   \n717           NaN    NaN              NaN             NaN              NaN   \n718           NaN    NaN              NaN             NaN              NaN   \n719           NaN    NaN              NaN             NaN              NaN   \n720           NaN    NaN              NaN             NaN              NaN   \n721           NaN    NaN              NaN             NaN              NaN   \n\n    empresaq0r18 fabricaq57 formal21  gubadmiq0r335 indepq0r708  \\\n0            NaN        NaN      NaN            NaN         NaN   \n1            NaN        NaN      NaN            NaN         NaN   \n2            NaN        NaN      NaN            NaN         NaN   \n3            NaN        NaN      NaN            NaN         NaN   \n4            NaN        NaN      NaN            NaN         NaN   \n..           ...        ...      ...            ...         ...   \n717          NaN        NaN      NaN            NaN         NaN   \n718          NaN        NaN      NaN            NaN         NaN   \n719          NaN        NaN      NaN            NaN         NaN   \n720          NaN        NaN      NaN            NaN         NaN   \n721          NaN        NaN      NaN            NaN         NaN   \n\n    informalq0r332 internetq0r391  operadormaquiq0r947  persontecnq0r477  \\\n0              NaN            NaN                  NaN               NaN   \n1              NaN            NaN                  NaN               NaN   \n2              NaN            NaN                  NaN               NaN   \n3              NaN            NaN                  NaN               NaN   \n4              NaN            NaN                  NaN               NaN   \n..             ...            ...                  ...               ...   \n717            NaN            NaN                  NaN               NaN   \n718            NaN            NaN                  NaN               NaN   \n719            NaN            NaN                  NaN               NaN   \n720            NaN            NaN                  NaN               NaN   \n721            NaN            NaN                  NaN               NaN   \n\n    saludq0r580  segurq0r642  \n0           NaN          NaN  \n1           NaN          NaN  \n2           NaN          NaN  \n3           NaN          NaN  \n4           NaN          NaN  \n..          ...          ...  \n717         NaN          NaN  \n718         NaN          NaN  \n719         NaN          NaN  \n720         NaN          NaN  \n721         NaN          NaN  \n\n[722 rows x 20 columns]",
      "text/html": "<div>\n<style scoped>\n    .dataframe tbody tr th:only-of-type {\n        vertical-align: middle;\n    }\n\n    .dataframe tbody tr th {\n        vertical-align: top;\n    }\n\n    .dataframe thead th {\n        text-align: right;\n    }\n</style>\n<table border=\"1\" class=\"dataframe\">\n  <thead>\n    <tr style=\"text-align: right;\">\n      <th></th>\n      <th>agriculturaq0r411</th>\n      <th>artistaq0r621</th>\n      <th>atenciclientesq0r13</th>\n      <th>choferq0r727</th>\n      <th>construccion</th>\n      <th>deport</th>\n      <th>dministratq0r139</th>\n      <th>educacionq0r857</th>\n      <th>empleadogubq0r22</th>\n      <th>empresaq0r18</th>\n      <th>fabricaq57</th>\n      <th>formal21</th>\n      <th>gubadmiq0r335</th>\n      <th>indepq0r708</th>\n      <th>informalq0r332</th>\n      <th>internetq0r391</th>\n      <th>operadormaquiq0r947</th>\n      <th>persontecnq0r477</th>\n      <th>saludq0r580</th>\n      <th>segurq0r642</th>\n    </tr>\n  </thead>\n  <tbody>\n    <tr>\n      <th>0</th>\n      <td>NaN</td>\n      <td>NaN</td>\n      <td>NaN</td>\n      <td>NaN</td>\n      <td>NaN</td>\n      <td>NaN</td>\n      <td>NaN</td>\n      <td>NaN</td>\n      <td>NaN</td>\n      <td>NaN</td>\n      <td>NaN</td>\n      <td>NaN</td>\n      <td>NaN</td>\n      <td>NaN</td>\n      <td>NaN</td>\n      <td>NaN</td>\n      <td>NaN</td>\n      <td>NaN</td>\n      <td>NaN</td>\n      <td>NaN</td>\n    </tr>\n    <tr>\n      <th>1</th>\n      <td>NaN</td>\n      <td>NaN</td>\n      <td>NaN</td>\n      <td>NaN</td>\n      <td>NaN</td>\n      <td>NaN</td>\n      <td>NaN</td>\n      <td>NaN</td>\n      <td>NaN</td>\n      <td>NaN</td>\n      <td>NaN</td>\n      <td>NaN</td>\n      <td>NaN</td>\n      <td>NaN</td>\n      <td>NaN</td>\n      <td>NaN</td>\n      <td>NaN</td>\n      <td>NaN</td>\n      <td>NaN</td>\n      <td>NaN</td>\n    </tr>\n    <tr>\n      <th>2</th>\n      <td>NaN</td>\n      <td>NaN</td>\n      <td>NaN</td>\n      <td>NaN</td>\n      <td>NaN</td>\n      <td>NaN</td>\n      <td>NaN</td>\n      <td>NaN</td>\n      <td>NaN</td>\n      <td>NaN</td>\n      <td>NaN</td>\n      <td>NaN</td>\n      <td>NaN</td>\n      <td>NaN</td>\n      <td>NaN</td>\n      <td>NaN</td>\n      <td>NaN</td>\n      <td>NaN</td>\n      <td>NaN</td>\n      <td>NaN</td>\n    </tr>\n    <tr>\n      <th>3</th>\n      <td>NaN</td>\n      <td>NaN</td>\n      <td>NaN</td>\n      <td>NaN</td>\n      <td>NaN</td>\n      <td>NaN</td>\n      <td>NaN</td>\n      <td>NaN</td>\n      <td>NaN</td>\n      <td>NaN</td>\n      <td>NaN</td>\n      <td>NaN</td>\n      <td>NaN</td>\n      <td>NaN</td>\n      <td>NaN</td>\n      <td>NaN</td>\n      <td>NaN</td>\n      <td>NaN</td>\n      <td>NaN</td>\n      <td>NaN</td>\n    </tr>\n    <tr>\n      <th>4</th>\n      <td>NaN</td>\n      <td>NaN</td>\n      <td>NaN</td>\n      <td>NaN</td>\n      <td>NaN</td>\n      <td>NaN</td>\n      <td>NaN</td>\n      <td>-oth-</td>\n      <td>NaN</td>\n      <td>NaN</td>\n      <td>NaN</td>\n      <td>NaN</td>\n      <td>NaN</td>\n      <td>NaN</td>\n      <td>NaN</td>\n      <td>NaN</td>\n      <td>NaN</td>\n      <td>NaN</td>\n      <td>NaN</td>\n      <td>NaN</td>\n    </tr>\n    <tr>\n      <th>...</th>\n      <td>...</td>\n      <td>...</td>\n      <td>...</td>\n      <td>...</td>\n      <td>...</td>\n      <td>...</td>\n      <td>...</td>\n      <td>...</td>\n      <td>...</td>\n      <td>...</td>\n      <td>...</td>\n      <td>...</td>\n      <td>...</td>\n      <td>...</td>\n      <td>...</td>\n      <td>...</td>\n      <td>...</td>\n      <td>...</td>\n      <td>...</td>\n      <td>...</td>\n    </tr>\n    <tr>\n      <th>717</th>\n      <td>NaN</td>\n      <td>NaN</td>\n      <td>NaN</td>\n      <td>NaN</td>\n      <td>NaN</td>\n      <td>NaN</td>\n      <td>NaN</td>\n      <td>NaN</td>\n      <td>NaN</td>\n      <td>NaN</td>\n      <td>NaN</td>\n      <td>NaN</td>\n      <td>NaN</td>\n      <td>NaN</td>\n      <td>NaN</td>\n      <td>NaN</td>\n      <td>NaN</td>\n      <td>NaN</td>\n      <td>NaN</td>\n      <td>NaN</td>\n    </tr>\n    <tr>\n      <th>718</th>\n      <td>NaN</td>\n      <td>NaN</td>\n      <td>NaN</td>\n      <td>NaN</td>\n      <td>NaN</td>\n      <td>NaN</td>\n      <td>NaN</td>\n      <td>NaN</td>\n      <td>NaN</td>\n      <td>NaN</td>\n      <td>NaN</td>\n      <td>NaN</td>\n      <td>NaN</td>\n      <td>NaN</td>\n      <td>NaN</td>\n      <td>NaN</td>\n      <td>NaN</td>\n      <td>NaN</td>\n      <td>NaN</td>\n      <td>NaN</td>\n    </tr>\n    <tr>\n      <th>719</th>\n      <td>NaN</td>\n      <td>NaN</td>\n      <td>NaN</td>\n      <td>NaN</td>\n      <td>NaN</td>\n      <td>NaN</td>\n      <td>NaN</td>\n      <td>NaN</td>\n      <td>NaN</td>\n      <td>NaN</td>\n      <td>NaN</td>\n      <td>NaN</td>\n      <td>NaN</td>\n      <td>NaN</td>\n      <td>NaN</td>\n      <td>NaN</td>\n      <td>NaN</td>\n      <td>NaN</td>\n      <td>NaN</td>\n      <td>NaN</td>\n    </tr>\n    <tr>\n      <th>720</th>\n      <td>NaN</td>\n      <td>NaN</td>\n      <td>NaN</td>\n      <td>NaN</td>\n      <td>NaN</td>\n      <td>NaN</td>\n      <td>NaN</td>\n      <td>NaN</td>\n      <td>NaN</td>\n      <td>NaN</td>\n      <td>NaN</td>\n      <td>NaN</td>\n      <td>NaN</td>\n      <td>NaN</td>\n      <td>NaN</td>\n      <td>NaN</td>\n      <td>NaN</td>\n      <td>NaN</td>\n      <td>NaN</td>\n      <td>NaN</td>\n    </tr>\n    <tr>\n      <th>721</th>\n      <td>NaN</td>\n      <td>NaN</td>\n      <td>NaN</td>\n      <td>NaN</td>\n      <td>NaN</td>\n      <td>NaN</td>\n      <td>NaN</td>\n      <td>NaN</td>\n      <td>NaN</td>\n      <td>NaN</td>\n      <td>NaN</td>\n      <td>NaN</td>\n      <td>NaN</td>\n      <td>NaN</td>\n      <td>NaN</td>\n      <td>NaN</td>\n      <td>NaN</td>\n      <td>NaN</td>\n      <td>NaN</td>\n      <td>NaN</td>\n    </tr>\n  </tbody>\n</table>\n<p>722 rows × 20 columns</p>\n</div>"
     },
     "execution_count": 201,
     "metadata": {},
     "output_type": "execute_result"
    }
   ],
   "source": [
    "datos[columnas_base]"
   ]
  },
  {
   "attachments": {},
   "cell_type": "markdown",
   "metadata": {
    "collapsed": false
   },
   "source": [
    "### Columnas sufijo\n",
    "El objetivo es pasar los datos de las columnas con sufijo a las columnas base.\n",
    "No todas las columnas tienen el mismo sufijo, pero las dos opciones son `\"[other]\"` y `\"[comment]\"`:"
   ]
  },
  {
   "cell_type": "code",
   "execution_count": 202,
   "metadata": {
    "collapsed": false,
    "ExecuteTime": {
     "end_time": "2024-08-10T23:19:10.386293Z",
     "start_time": "2024-08-10T23:19:10.383440Z"
    }
   },
   "outputs": [
    {
     "data": {
      "text/plain": "['agriculturaq0r411[other]',\n 'artistaq0r621[other]',\n 'atenciclientesq0r13[other]',\n 'choferq0r727[other]',\n 'construccion[other]',\n 'deport[other]',\n 'dministratq0r139[other]',\n 'educacionq0r857[other]',\n 'empleadogubq0r22[comment]',\n 'empresaq0r18[other]',\n 'fabricaq57[other]',\n 'formal21[other]',\n 'gubadmiq0r335[other]',\n 'indepq0r708[other]',\n 'informalq0r332[other]',\n 'internetq0r391[other]',\n 'operadormaquiq0r947[comment]',\n 'persontecnq0r477[comment]',\n 'saludq0r580[other]',\n 'segurq0r642[other]']"
     },
     "execution_count": 202,
     "metadata": {},
     "output_type": "execute_result"
    }
   ],
   "source": [
    "columnas_sufijo = []\n",
    "for col in columnas_base:\n",
    "    if col + '[other]' in datos.columns:\n",
    "        columnas_sufijo.append(col + '[other]')\n",
    "    elif col + '[comment]' in datos.columns:\n",
    "        columnas_sufijo.append(col + '[comment]')\n",
    "assert len(columnas_sufijo) == len(columnas_base)\n",
    "columnas_sufijo.sort()\n",
    "columnas_sufijo"
   ]
  },
  {
   "attachments": {},
   "cell_type": "markdown",
   "metadata": {
    "collapsed": false
   },
   "source": [
    "Ahora la limpieza es directa:"
   ]
  },
  {
   "cell_type": "code",
   "execution_count": 203,
   "metadata": {
    "collapsed": false,
    "ExecuteTime": {
     "end_time": "2024-08-10T23:19:10.518865Z",
     "start_time": "2024-08-10T23:19:10.487191Z"
    }
   },
   "outputs": [],
   "source": [
    "for col_con_sufijo in columnas_sufijo:\n",
    "    columna_sin_sufijo = re.sub(r'\\[\\w+\\]', '', col_con_sufijo)\n",
    "    datos[columna_sin_sufijo] = datos[columna_sin_sufijo].combine_first(datos[col_con_sufijo])\n",
    "    datos[columna_sin_sufijo] = np.where(datos[columna_sin_sufijo] == '-oth-',\n",
    "                                         datos[col_con_sufijo],\n",
    "                                         datos[columna_sin_sufijo])\n",
    "    datos.drop(columns=col_con_sufijo, inplace=True)"
   ]
  },
  {
   "attachments": {},
   "cell_type": "markdown",
   "metadata": {
    "collapsed": false
   },
   "source": [
    "### Resultado"
   ]
  },
  {
   "cell_type": "code",
   "execution_count": 204,
   "metadata": {
    "collapsed": false,
    "ExecuteTime": {
     "end_time": "2024-08-10T23:19:10.730350Z",
     "start_time": "2024-08-10T23:19:10.723416Z"
    }
   },
   "outputs": [
    {
     "data": {
      "text/plain": "     agriculturaq0r411 artistaq0r621 atenciclientesq0r13 choferq0r727  \\\n0                  NaN           NaN                 NaN          NaN   \n1                  NaN           NaN                 NaN          NaN   \n2                  NaN           NaN                 NaN          NaN   \n3                  NaN           NaN                 NaN          NaN   \n4                  NaN           NaN                 NaN          NaN   \n..                 ...           ...                 ...          ...   \n717                NaN           NaN                 NaN          NaN   \n718                NaN           NaN                 NaN          NaN   \n719                NaN           NaN                 NaN          NaN   \n720                NaN           NaN                 NaN          NaN   \n721                NaN           NaN                 NaN          NaN   \n\n     construccion deport dministratq0r139    educacionq0r857 empleadogubq0r22  \\\n0             NaN    NaN              NaN                NaN              NaN   \n1             NaN    NaN              NaN                NaN              NaN   \n2             NaN    NaN              NaN                NaN              NaN   \n3             NaN    NaN              NaN                NaN              NaN   \n4             NaN    NaN              NaN  CLASES DE FRANCES              NaN   \n..            ...    ...              ...                ...              ...   \n717           NaN    NaN              NaN                NaN              NaN   \n718           NaN    NaN              NaN                NaN              NaN   \n719           NaN    NaN              NaN                NaN              NaN   \n720           NaN    NaN              NaN                NaN              NaN   \n721           NaN    NaN              NaN                NaN              NaN   \n\n    empresaq0r18 fabricaq57 formal21  gubadmiq0r335 indepq0r708  \\\n0            NaN        NaN      NaN            NaN         NaN   \n1            NaN        NaN      NaN            NaN         NaN   \n2            NaN        NaN      NaN            NaN         NaN   \n3            NaN        NaN      NaN            NaN         NaN   \n4            NaN        NaN      NaN            NaN         NaN   \n..           ...        ...      ...            ...         ...   \n717          NaN        NaN      NaN            NaN         NaN   \n718          NaN        NaN      NaN            NaN         NaN   \n719          NaN        NaN      NaN            NaN         NaN   \n720          NaN        NaN      NaN            NaN         NaN   \n721          NaN        NaN      NaN            NaN         NaN   \n\n    informalq0r332 internetq0r391 operadormaquiq0r947 persontecnq0r477  \\\n0              NaN            NaN                 NaN              NaN   \n1              NaN            NaN                 NaN              NaN   \n2              NaN            NaN                 NaN              NaN   \n3              NaN            NaN                 NaN              NaN   \n4              NaN            NaN                 NaN              NaN   \n..             ...            ...                 ...              ...   \n717            NaN            NaN                 NaN              NaN   \n718            NaN            NaN                 NaN              NaN   \n719            NaN            NaN                 NaN              NaN   \n720            NaN            NaN                 NaN              NaN   \n721            NaN            NaN                 NaN              NaN   \n\n    saludq0r580  segurq0r642  \n0           NaN          NaN  \n1           NaN          NaN  \n2           NaN          NaN  \n3           NaN          NaN  \n4           NaN          NaN  \n..          ...          ...  \n717         NaN          NaN  \n718         NaN          NaN  \n719         NaN          NaN  \n720         NaN          NaN  \n721         NaN          NaN  \n\n[722 rows x 20 columns]",
      "text/html": "<div>\n<style scoped>\n    .dataframe tbody tr th:only-of-type {\n        vertical-align: middle;\n    }\n\n    .dataframe tbody tr th {\n        vertical-align: top;\n    }\n\n    .dataframe thead th {\n        text-align: right;\n    }\n</style>\n<table border=\"1\" class=\"dataframe\">\n  <thead>\n    <tr style=\"text-align: right;\">\n      <th></th>\n      <th>agriculturaq0r411</th>\n      <th>artistaq0r621</th>\n      <th>atenciclientesq0r13</th>\n      <th>choferq0r727</th>\n      <th>construccion</th>\n      <th>deport</th>\n      <th>dministratq0r139</th>\n      <th>educacionq0r857</th>\n      <th>empleadogubq0r22</th>\n      <th>empresaq0r18</th>\n      <th>fabricaq57</th>\n      <th>formal21</th>\n      <th>gubadmiq0r335</th>\n      <th>indepq0r708</th>\n      <th>informalq0r332</th>\n      <th>internetq0r391</th>\n      <th>operadormaquiq0r947</th>\n      <th>persontecnq0r477</th>\n      <th>saludq0r580</th>\n      <th>segurq0r642</th>\n    </tr>\n  </thead>\n  <tbody>\n    <tr>\n      <th>0</th>\n      <td>NaN</td>\n      <td>NaN</td>\n      <td>NaN</td>\n      <td>NaN</td>\n      <td>NaN</td>\n      <td>NaN</td>\n      <td>NaN</td>\n      <td>NaN</td>\n      <td>NaN</td>\n      <td>NaN</td>\n      <td>NaN</td>\n      <td>NaN</td>\n      <td>NaN</td>\n      <td>NaN</td>\n      <td>NaN</td>\n      <td>NaN</td>\n      <td>NaN</td>\n      <td>NaN</td>\n      <td>NaN</td>\n      <td>NaN</td>\n    </tr>\n    <tr>\n      <th>1</th>\n      <td>NaN</td>\n      <td>NaN</td>\n      <td>NaN</td>\n      <td>NaN</td>\n      <td>NaN</td>\n      <td>NaN</td>\n      <td>NaN</td>\n      <td>NaN</td>\n      <td>NaN</td>\n      <td>NaN</td>\n      <td>NaN</td>\n      <td>NaN</td>\n      <td>NaN</td>\n      <td>NaN</td>\n      <td>NaN</td>\n      <td>NaN</td>\n      <td>NaN</td>\n      <td>NaN</td>\n      <td>NaN</td>\n      <td>NaN</td>\n    </tr>\n    <tr>\n      <th>2</th>\n      <td>NaN</td>\n      <td>NaN</td>\n      <td>NaN</td>\n      <td>NaN</td>\n      <td>NaN</td>\n      <td>NaN</td>\n      <td>NaN</td>\n      <td>NaN</td>\n      <td>NaN</td>\n      <td>NaN</td>\n      <td>NaN</td>\n      <td>NaN</td>\n      <td>NaN</td>\n      <td>NaN</td>\n      <td>NaN</td>\n      <td>NaN</td>\n      <td>NaN</td>\n      <td>NaN</td>\n      <td>NaN</td>\n      <td>NaN</td>\n    </tr>\n    <tr>\n      <th>3</th>\n      <td>NaN</td>\n      <td>NaN</td>\n      <td>NaN</td>\n      <td>NaN</td>\n      <td>NaN</td>\n      <td>NaN</td>\n      <td>NaN</td>\n      <td>NaN</td>\n      <td>NaN</td>\n      <td>NaN</td>\n      <td>NaN</td>\n      <td>NaN</td>\n      <td>NaN</td>\n      <td>NaN</td>\n      <td>NaN</td>\n      <td>NaN</td>\n      <td>NaN</td>\n      <td>NaN</td>\n      <td>NaN</td>\n      <td>NaN</td>\n    </tr>\n    <tr>\n      <th>4</th>\n      <td>NaN</td>\n      <td>NaN</td>\n      <td>NaN</td>\n      <td>NaN</td>\n      <td>NaN</td>\n      <td>NaN</td>\n      <td>NaN</td>\n      <td>CLASES DE FRANCES</td>\n      <td>NaN</td>\n      <td>NaN</td>\n      <td>NaN</td>\n      <td>NaN</td>\n      <td>NaN</td>\n      <td>NaN</td>\n      <td>NaN</td>\n      <td>NaN</td>\n      <td>NaN</td>\n      <td>NaN</td>\n      <td>NaN</td>\n      <td>NaN</td>\n    </tr>\n    <tr>\n      <th>...</th>\n      <td>...</td>\n      <td>...</td>\n      <td>...</td>\n      <td>...</td>\n      <td>...</td>\n      <td>...</td>\n      <td>...</td>\n      <td>...</td>\n      <td>...</td>\n      <td>...</td>\n      <td>...</td>\n      <td>...</td>\n      <td>...</td>\n      <td>...</td>\n      <td>...</td>\n      <td>...</td>\n      <td>...</td>\n      <td>...</td>\n      <td>...</td>\n      <td>...</td>\n    </tr>\n    <tr>\n      <th>717</th>\n      <td>NaN</td>\n      <td>NaN</td>\n      <td>NaN</td>\n      <td>NaN</td>\n      <td>NaN</td>\n      <td>NaN</td>\n      <td>NaN</td>\n      <td>NaN</td>\n      <td>NaN</td>\n      <td>NaN</td>\n      <td>NaN</td>\n      <td>NaN</td>\n      <td>NaN</td>\n      <td>NaN</td>\n      <td>NaN</td>\n      <td>NaN</td>\n      <td>NaN</td>\n      <td>NaN</td>\n      <td>NaN</td>\n      <td>NaN</td>\n    </tr>\n    <tr>\n      <th>718</th>\n      <td>NaN</td>\n      <td>NaN</td>\n      <td>NaN</td>\n      <td>NaN</td>\n      <td>NaN</td>\n      <td>NaN</td>\n      <td>NaN</td>\n      <td>NaN</td>\n      <td>NaN</td>\n      <td>NaN</td>\n      <td>NaN</td>\n      <td>NaN</td>\n      <td>NaN</td>\n      <td>NaN</td>\n      <td>NaN</td>\n      <td>NaN</td>\n      <td>NaN</td>\n      <td>NaN</td>\n      <td>NaN</td>\n      <td>NaN</td>\n    </tr>\n    <tr>\n      <th>719</th>\n      <td>NaN</td>\n      <td>NaN</td>\n      <td>NaN</td>\n      <td>NaN</td>\n      <td>NaN</td>\n      <td>NaN</td>\n      <td>NaN</td>\n      <td>NaN</td>\n      <td>NaN</td>\n      <td>NaN</td>\n      <td>NaN</td>\n      <td>NaN</td>\n      <td>NaN</td>\n      <td>NaN</td>\n      <td>NaN</td>\n      <td>NaN</td>\n      <td>NaN</td>\n      <td>NaN</td>\n      <td>NaN</td>\n      <td>NaN</td>\n    </tr>\n    <tr>\n      <th>720</th>\n      <td>NaN</td>\n      <td>NaN</td>\n      <td>NaN</td>\n      <td>NaN</td>\n      <td>NaN</td>\n      <td>NaN</td>\n      <td>NaN</td>\n      <td>NaN</td>\n      <td>NaN</td>\n      <td>NaN</td>\n      <td>NaN</td>\n      <td>NaN</td>\n      <td>NaN</td>\n      <td>NaN</td>\n      <td>NaN</td>\n      <td>NaN</td>\n      <td>NaN</td>\n      <td>NaN</td>\n      <td>NaN</td>\n      <td>NaN</td>\n    </tr>\n    <tr>\n      <th>721</th>\n      <td>NaN</td>\n      <td>NaN</td>\n      <td>NaN</td>\n      <td>NaN</td>\n      <td>NaN</td>\n      <td>NaN</td>\n      <td>NaN</td>\n      <td>NaN</td>\n      <td>NaN</td>\n      <td>NaN</td>\n      <td>NaN</td>\n      <td>NaN</td>\n      <td>NaN</td>\n      <td>NaN</td>\n      <td>NaN</td>\n      <td>NaN</td>\n      <td>NaN</td>\n      <td>NaN</td>\n      <td>NaN</td>\n      <td>NaN</td>\n    </tr>\n  </tbody>\n</table>\n<p>722 rows × 20 columns</p>\n</div>"
     },
     "execution_count": 204,
     "metadata": {},
     "output_type": "execute_result"
    }
   ],
   "source": [
    "datos[columnas_base]"
   ]
  },
  {
   "attachments": {},
   "cell_type": "markdown",
   "metadata": {
    "collapsed": false
   },
   "source": [
    "## Asignación trabajo"
   ]
  },
  {
   "attachments": {},
   "cell_type": "markdown",
   "metadata": {
    "collapsed": false
   },
   "source": [
    "Ahora que toda la información sobre las distintas ocupaciones está en las columnas base, se puede crear una columna que combine la información de todas ellas, la cual se llamará `'trabajo'`."
   ]
  },
  {
   "cell_type": "code",
   "execution_count": 205,
   "metadata": {
    "collapsed": false,
    "ExecuteTime": {
     "end_time": "2024-08-10T23:19:10.849886Z",
     "start_time": "2024-08-10T23:19:10.815978Z"
    }
   },
   "outputs": [
    {
     "name": "stderr",
     "output_type": "stream",
     "text": [
      "/var/folders/hb/c3zh8bns0mx4nw98_6k7rx8m0000gn/T/ipykernel_4464/3838770192.py:3: FutureWarning: The behavior of array concatenation with empty entries is deprecated. In a future version, this will no longer exclude empty items when determining the result dtype. To retain the old behavior, exclude the empty entries before the concat operation.\n",
      "  datos['trabajo'] = datos['trabajo'].combine_first(datos[columna])\n"
     ]
    },
    {
     "data": {
      "text/plain": "0                            a1\n1                     abarrotes\n2                     abogado_1\n3      actividades comunitarias\n4                         actor\n                 ...           \n114            vendedor general\n115               venta de ropa\n116          venta por catalogo\n117                        yoga\n118           área educativa_14\nName: trabajo, Length: 119, dtype: object"
     },
     "execution_count": 205,
     "metadata": {},
     "output_type": "execute_result"
    }
   ],
   "source": [
    "datos['trabajo'] = pd.Series(dtype='string', index=datos.index)  # columna nueva\n",
    "for columna in columnas_base:\n",
    "    datos['trabajo'] = datos['trabajo'].combine_first(datos[columna])\n",
    "    datos.drop(columns=columna, inplace=True)\n",
    "datos['trabajo'] = datos['trabajo'].combine_first(datos['areatrabajo'])\n",
    "datos.drop(columns='areatrabajo', inplace=True)\n",
    "datos.drop(columns='vendinformalq0r332', inplace=True)\n",
    "datos.drop(columns='vendinformalq0r332[other]', inplace=True)\n",
    "datos['trabajo'] = datos['trabajo'].str.strip().str.lower()\n",
    "mostrar_unicos('trabajo')"
   ]
  },
  {
   "cell_type": "code",
   "execution_count": 206,
   "metadata": {
    "collapsed": false,
    "ExecuteTime": {
     "end_time": "2024-08-10T23:19:11.047827Z",
     "start_time": "2024-08-10T23:19:11.044527Z"
    }
   },
   "outputs": [
    {
     "data": {
      "text/plain": "0"
     },
     "execution_count": 206,
     "metadata": {},
     "output_type": "execute_result"
    }
   ],
   "source": [
    "contar_faltantes('trabajo')"
   ]
  },
  {
   "attachments": {},
   "cell_type": "markdown",
   "metadata": {
    "collapsed": false
   },
   "source": [
    "Dentro de los trabajos únicos solo es necesario lidiar con aquellos que no están considerados en el diccionario de respuestas, los cuales tienen un sufijo compuesto por un guión bajo y un número"
   ]
  },
  {
   "cell_type": "code",
   "execution_count": 207,
   "metadata": {
    "collapsed": false,
    "ExecuteTime": {
     "end_time": "2024-08-10T23:19:11.129110Z",
     "start_time": "2024-08-10T23:19:11.125260Z"
    }
   },
   "outputs": [
    {
     "name": "stderr",
     "output_type": "stream",
     "text": [
      "<>:1: SyntaxWarning: invalid escape sequence '\\d'\n",
      "<>:1: SyntaxWarning: invalid escape sequence '\\d'\n",
      "/var/folders/hb/c3zh8bns0mx4nw98_6k7rx8m0000gn/T/ipykernel_4464/760739842.py:1: SyntaxWarning: invalid escape sequence '\\d'\n",
      "  trabajos_nuevos = datos['trabajo'][~datos['trabajo'].str.contains('_\\d+$|ninguna')].reset_index(drop=True)\n"
     ]
    },
    {
     "data": {
      "text/plain": "0                                     clases de frances\n1      vendedor de productos por internet (mercado pago\n2                                                  ropa\n3      vendedor de productos por internet (mercado pago\n4                        ayudante empresa de publicidad\n                             ...                       \n117                                         laboratorio\n118                                          entrenador\n119                                        optometrista\n120                                             iglesia\n121                                personal de limpieza\nName: trabajo, Length: 122, dtype: object"
     },
     "execution_count": 207,
     "metadata": {},
     "output_type": "execute_result"
    }
   ],
   "source": [
    "trabajos_nuevos = datos['trabajo'][~datos['trabajo'].str.contains('_\\d+$|ninguna')].reset_index(drop=True)\n",
    "trabajos_nuevos"
   ]
  },
  {
   "attachments": {},
   "cell_type": "markdown",
   "metadata": {
    "collapsed": false
   },
   "source": [
    "## Corrección de trabajos"
   ]
  },
  {
   "cell_type": "code",
   "execution_count": 208,
   "metadata": {
    "collapsed": false,
    "ExecuteTime": {
     "end_time": "2024-08-10T23:19:11.331160Z",
     "start_time": "2024-08-10T23:19:11.326933Z"
    }
   },
   "outputs": [
    {
     "data": {
      "text/plain": "{'actividades deportivas_1': ['entrenador',\n  'instructor',\n  'profesor de clases deportivas'],\n 'artista_2': ['actor',\n  'ballet',\n  'cantante',\n  'diseñador',\n  'fotógrafo',\n  'modelo',\n  'músico',\n  'pintor'],\n 'chofer_3': ['camiones', 'microbús', 'taxista', 'uber'],\n 'comerciante sector informal_4': ['bazar',\n  'flores y productos en un puesto no establecido',\n  'ropa',\n  'vendedor',\n  'vendedor por cuenta propia (negocio propio)',\n  'venta de cigarros'],\n 'comerciante sector formal_5': ['periódicos flores y productos en un puesto no establecido',\n  'productos en un puesto no establecido',\n  'taquero',\n  'vendedor de comida'],\n 'empresario_6': ['asesor',\n  'consultor',\n  'director',\n  'dueño',\n  'fundación',\n  'gerente'],\n 'comercio virtual_7': ['vendedor de productos por internet (mercado pago, amazon, instagram, etc.)'],\n 'atención a clientes_8': ['atención a clientes',\n  'cajero',\n  'call center',\n  'promotor de seguros',\n  'recepcionista',\n  'telefonía',\n  'vendedor de tiendas departamentales'],\n 'administrativo_9': ['contador público',\n  'reclutador',\n  'recursos humanos',\n  'secretaria'],\n 'gubernamental administrativo_10': ['jefe de operaciones', 'sistemas'],\n 'empleado gubernamental_11': ['administrador',\n  'director',\n  'director general',\n  'jefe de departamento',\n  'jefe de área',\n  'sub administrador',\n  'sub director'],\n 'personal técnico_12': ['¿de qué tipo?'],\n 'área educativa_13': ['área educativa',\n  'dar clases',\n  'docente',\n  'educación básica',\n  'educación especial',\n  'estudiante',\n  'idiomas',\n  'investigador-profesor en universidad/preparatoria',\n  'profesor',\n  'regularización',\n  'secundaria',\n  'técnico en educación (educador o guardería)',\n  'universidad'],\n 'profesionista independiente_14': ['abogado',\n  'biólogo',\n  'contador',\n  'dentista',\n  'gastronomía',\n  'ingeniero',\n  'marketing',\n  'minero',\n  'médico independiente',\n  'psicólogo',\n  'publicista',\n  'terapeuta'],\n 'seguridad_15': ['empleado en seguridad en bancos',\n  'empleado en seguridad privada',\n  'empleado en seguridad pública',\n  'guardaespaldas',\n  'patrullero',\n  'policía',\n  'policía de tránsito',\n  'vigilante'],\n 'área de la salud_16': ['camillero',\n  'enfermera',\n  'médico',\n  'nutriólogo',\n  'paramédico'],\n 'construcción_17': ['arquitecto', 'ingeniero civil'],\n 'fábrica_18': ['empleado'],\n 'agricultura_19': ['agricultor', 'granjero', 'siembra'],\n 'actividades elementales y de apoyo_20': ['abarrotes',\n  'actividades comunitarias',\n  'asistente',\n  'ayudante general',\n  'becario',\n  'cafetería',\n  'cocinero',\n  'farmacia',\n  'intendente',\n  'jarciería',\n  'mantenimiento',\n  'maquilador',\n  'mesero',\n  'repartidor',\n  'trabajadores de limpieza',\n  'trabajadores domésticos'],\n 'oficios_21': ['artesano',\n  'carpintero',\n  'carpintero',\n  'costurero',\n  'herrero',\n  'peluquero',\n  'sastre',\n  'zapatero',\n  'zapatero',\n  'mecánico'],\n 'desconocido_99': ['ninguna']}"
     },
     "execution_count": 208,
     "metadata": {},
     "output_type": "execute_result"
    }
   ],
   "source": [
    "import json\n",
    "\n",
    "with open('codigos_preguntas/propuesta.json', 'r') as f:\n",
    "    propuesta = json.load(f)\n",
    "propuesta"
   ]
  },
  {
   "cell_type": "code",
   "execution_count": 209,
   "metadata": {
    "collapsed": false,
    "ExecuteTime": {
     "end_time": "2024-08-10T23:19:11.421205Z",
     "start_time": "2024-08-10T23:19:11.414165Z"
    }
   },
   "outputs": [
    {
     "data": {
      "text/plain": "0                         entrenador\n1                         instructor\n2      profesor de clases deportivas\n3                              actor\n4                             ballet\n                   ...              \n119                           sastre\n120                         zapatero\n121                         zapatero\n122                         mecánico\n123                          ninguna\nLength: 124, dtype: object"
     },
     "execution_count": 209,
     "metadata": {},
     "output_type": "execute_result"
    }
   ],
   "source": [
    "trabajos_oficiales = pd.Series(dtype='string')\n",
    "for t in propuesta.values():\n",
    "    trabajos_oficiales = pd.concat([trabajos_oficiales, pd.Series(t)])\n",
    "trabajos_oficiales.reset_index(drop=True, inplace=True)\n",
    "trabajos_oficiales"
   ]
  },
  {
   "cell_type": "code",
   "execution_count": 210,
   "metadata": {
    "collapsed": false,
    "ExecuteTime": {
     "end_time": "2024-08-10T23:19:11.650877Z",
     "start_time": "2024-08-10T23:19:11.647906Z"
    }
   },
   "outputs": [],
   "source": [
    "#group_similar_strings(trabajos_nuevos, min_similarity=0.5, ignore_index=True)"
   ]
  },
  {
   "cell_type": "code",
   "execution_count": 211,
   "metadata": {
    "collapsed": false,
    "ExecuteTime": {
     "end_time": "2024-08-10T23:19:11.750159Z",
     "start_time": "2024-08-10T23:19:11.712076Z"
    }
   },
   "outputs": [
    {
     "name": "stderr",
     "output_type": "stream",
     "text": [
      "/Users/erickavendanogarcia/Downloads/servicio_social/venv/lib/python3.12/site-packages/string_grouper/string_grouper.py:694: FutureWarning: DataFrame.applymap has been deprecated. Use DataFrame.map instead.\n",
      "  elif series_to_test.to_frame().applymap(\n"
     ]
    },
    {
     "data": {
      "text/plain": "                                            original  \\\n0                                  clases de frances   \n49                                         cafeteria   \n84                                   soporte técnico   \n82                                          taqueria   \n81  vendedor de productos por internet (mercado pago   \n..                                               ...   \n63                                          finanzas   \n19                                           idiomas   \n94                                                a1   \n18                                         marketing   \n85                                          auxiliar   \n\n                                           correccion  hubo_correccion  \n0                                          dar clases             True  \n49                                          cafetería             True  \n84        técnico en educación (educador o guardería)             True  \n82                                            taquero             True  \n81  vendedor de productos por internet (mercado pa...             True  \n..                                                ...              ...  \n63                                           finanzas            False  \n19                                            idiomas            False  \n94                                                 a1            False  \n18                                          marketing            False  \n85                                           auxiliar            False  \n\n[122 rows x 3 columns]",
      "text/html": "<div>\n<style scoped>\n    .dataframe tbody tr th:only-of-type {\n        vertical-align: middle;\n    }\n\n    .dataframe tbody tr th {\n        vertical-align: top;\n    }\n\n    .dataframe thead th {\n        text-align: right;\n    }\n</style>\n<table border=\"1\" class=\"dataframe\">\n  <thead>\n    <tr style=\"text-align: right;\">\n      <th></th>\n      <th>original</th>\n      <th>correccion</th>\n      <th>hubo_correccion</th>\n    </tr>\n  </thead>\n  <tbody>\n    <tr>\n      <th>0</th>\n      <td>clases de frances</td>\n      <td>dar clases</td>\n      <td>True</td>\n    </tr>\n    <tr>\n      <th>49</th>\n      <td>cafeteria</td>\n      <td>cafetería</td>\n      <td>True</td>\n    </tr>\n    <tr>\n      <th>84</th>\n      <td>soporte técnico</td>\n      <td>técnico en educación (educador o guardería)</td>\n      <td>True</td>\n    </tr>\n    <tr>\n      <th>82</th>\n      <td>taqueria</td>\n      <td>taquero</td>\n      <td>True</td>\n    </tr>\n    <tr>\n      <th>81</th>\n      <td>vendedor de productos por internet (mercado pago</td>\n      <td>vendedor de productos por internet (mercado pa...</td>\n      <td>True</td>\n    </tr>\n    <tr>\n      <th>...</th>\n      <td>...</td>\n      <td>...</td>\n      <td>...</td>\n    </tr>\n    <tr>\n      <th>63</th>\n      <td>finanzas</td>\n      <td>finanzas</td>\n      <td>False</td>\n    </tr>\n    <tr>\n      <th>19</th>\n      <td>idiomas</td>\n      <td>idiomas</td>\n      <td>False</td>\n    </tr>\n    <tr>\n      <th>94</th>\n      <td>a1</td>\n      <td>a1</td>\n      <td>False</td>\n    </tr>\n    <tr>\n      <th>18</th>\n      <td>marketing</td>\n      <td>marketing</td>\n      <td>False</td>\n    </tr>\n    <tr>\n      <th>85</th>\n      <td>auxiliar</td>\n      <td>auxiliar</td>\n      <td>False</td>\n    </tr>\n  </tbody>\n</table>\n<p>122 rows × 3 columns</p>\n</div>"
     },
     "execution_count": 211,
     "metadata": {},
     "output_type": "execute_result"
    }
   ],
   "source": [
    "correccion = match_most_similar(trabajos_oficiales,\n",
    "                                trabajos_nuevos,\n",
    "                                min_similarity=0.1,\n",
    "                                ignore_index=True)\n",
    "comparar = pd.DataFrame({'original': trabajos_nuevos, 'correccion': correccion})\n",
    "comparar['hubo_correccion'] = comparar['original'].ne(comparar['correccion'])\n",
    "comparar.sort_values(by='hubo_correccion', ascending=False)"
   ]
  },
  {
   "cell_type": "code",
   "execution_count": 212,
   "metadata": {
    "collapsed": false,
    "ExecuteTime": {
     "end_time": "2024-08-10T23:19:11.970764Z",
     "start_time": "2024-08-10T23:19:11.961949Z"
    }
   },
   "outputs": [
    {
     "data": {
      "text/plain": "{'clases de frances': 'dar clases',\n 'vendedor de productos por internet (mercado pago': 'vendedor de productos por internet (mercado pago, amazon, instagram, etc.)',\n 'ropa': 'ropa',\n 'ayudante empresa de publicidad': 'publicista',\n 'cajera': 'cajero',\n 'caseta de cobro de un bazar': 'bazar',\n 'farmacia': 'farmacia',\n 'becaria': 'becario',\n 'a1': 'a1',\n 'cigarros electronicos': 'venta de cigarros',\n 'univercidad': 'universidad',\n 'reclutamientos': 'reclutador',\n 'psicologia': 'psicólogo',\n 'fundacion proyecto duq': 'fundación',\n 'marketing': 'marketing',\n 'idiomas': 'idiomas',\n 'cafeteria': 'cafetería',\n 'trabaja en una farmacia': 'farmacia',\n 'modelo': 'modelo',\n 'regularizacion': 'regularización',\n 'escuela': 'escuela',\n 'actor': 'actor',\n 'artesanías': 'artesano',\n 'empleado': 'empleado',\n 'tienda. atención a clientes': 'atención a clientes',\n 'gerente': 'gerente',\n 'actividades comunitarias': 'actividades comunitarias',\n 'nutriologa': 'nutriólogo',\n 'consultor en riesgos': 'consultor',\n 'clases privadas': 'dar clases',\n 'ayudante general': 'ayudante general',\n 'venta de ropa': 'ropa',\n 'publicidad': 'publicista',\n 'pizzeria': 'pizzeria',\n 'expresión gráfica': 'educación básica',\n 'entrenadora y quirofisica': 'entrenador',\n 'secundaria': 'secundaria',\n 'taller de costura': 'costurero',\n 'venta por catalogo': 'vendedor por cuenta propia (negocio propio)',\n 'bazar': 'bazar',\n 'asesorias': 'asesor',\n 'ballet': 'ballet',\n 'ayudante general tienda de ropa': 'ayudante general',\n 'jarcieria': 'jarciería',\n 'sistemas ip': 'sistemas',\n 'profesora de matemáticas y física de todos niveles': 'profesor',\n 'empresa - centro educativo': 'área educativa',\n 'vendedor general': 'director general',\n 'músico': 'músico',\n 'finanzas': 'finanzas',\n 'intendencia en hospital ángeles metropolitano': 'intendente',\n 'atiende tienda neto': 'vendedor de tiendas departamentales',\n 'docencia en colegio de bachilleres': 'docente',\n 'call center': 'call center',\n 'maquiladora': 'maquilador',\n 'negocio propio': 'vendedor por cuenta propia (negocio propio)',\n 'psicóloga': 'psicólogo',\n 'abarrotes': 'abarrotes',\n 'instructora de yoga': 'instructor',\n 'staff de estudio de spinning': 'estudiante',\n 'evaluacion psicologica': 'psicólogo',\n 'asistente de psicologia': 'asistente',\n 'cocina': 'cocinero',\n 'area administrativa de panadería': 'administrador',\n 'taqueria': 'taquero',\n 'soporte técnico': 'técnico en educación (educador o guardería)',\n 'auxiliar': 'auxiliar',\n 'ayudante de profesor': 'profesor',\n 'programación': 'fundación',\n 'idioma': 'idiomas',\n 'ayudante de psicología': 'ayudante general',\n 'yoga': 'abogado',\n 'area de hemodialisis': 'modelo',\n 'cuidado de adultos mayores': 'consultor',\n 'mesero': 'mesero',\n 'negocio familiar de juguete': 'camillero',\n 'narra audiolibros': 'venta de cigarros',\n 'cafeteria escolar': 'cafetería',\n 'mesera': 'mesero',\n 'estilista': 'taxista',\n 'mecanico automotriz': 'mecánico',\n 'ayudante de sastre': 'sastre',\n 'auxiliar administrativo': 'administrador',\n 'playeras': 'playeras',\n 'aseo': 'asesor',\n 'administración': 'administrador',\n 'soporte técnico en computadoras': 'técnico en educación (educador o guardería)',\n 'auxiliar de enfermería': 'enfermera',\n 'administradora de servicios de salud': 'administrador',\n 'cocina económica': 'cocinero',\n 'laboratorio': 'investigador-profesor en universidad/preparatoria',\n 'entrenador': 'entrenador',\n 'optometrista': 'taxista',\n 'iglesia': 'iglesia',\n 'personal de limpieza': 'trabajadores de limpieza'}"
     },
     "execution_count": 212,
     "metadata": {},
     "output_type": "execute_result"
    }
   ],
   "source": [
    "mapeo_correcciones = dict(zip(trabajos_nuevos, correccion))\n",
    "mapeo_correcciones"
   ]
  },
  {
   "cell_type": "code",
   "execution_count": 213,
   "metadata": {
    "collapsed": false,
    "ExecuteTime": {
     "end_time": "2024-08-10T23:19:12.037866Z",
     "start_time": "2024-08-10T23:19:12.031022Z"
    }
   },
   "outputs": [
    {
     "data": {
      "text/plain": "0                                                    a1\n1                                             abarrotes\n2                                               abogado\n3                              actividades comunitarias\n4                                                 actor\n                            ...                        \n76    vendedor de productos por internet (mercado pa...\n77                  vendedor de tiendas departamentales\n78          vendedor por cuenta propia (negocio propio)\n79                                    venta de cigarros\n80                                       área educativa\nName: trabajo, Length: 81, dtype: object"
     },
     "execution_count": 213,
     "metadata": {},
     "output_type": "execute_result"
    }
   ],
   "source": [
    "datos['trabajo'] = datos['trabajo'].replace(mapeo_correcciones)\n",
    "datos['trabajo'] = datos['trabajo'].str.replace(r'_\\d+', '', regex=True)\n",
    "mostrar_unicos('trabajo')"
   ]
  },
  {
   "cell_type": "code",
   "execution_count": 214,
   "metadata": {
    "collapsed": false,
    "ExecuteTime": {
     "end_time": "2024-08-10T23:19:12.195917Z",
     "start_time": "2024-08-10T23:19:12.185654Z"
    }
   },
   "outputs": [
    {
     "name": "stdout",
     "output_type": "stream",
     "text": [
      "La ocupacion a1 es desconocida\n",
      "La ocupacion a1 es desconocida\n",
      "La ocupacion escuela es desconocida\n",
      "La ocupacion a1 es desconocida\n",
      "La ocupacion a1 es desconocida\n",
      "La ocupacion a1 es desconocida\n",
      "La ocupacion entrenador de gimnasio es desconocida\n",
      "La ocupacion pizzeria es desconocida\n",
      "La ocupacion a1 es desconocida\n",
      "La ocupacion a1 es desconocida\n",
      "La ocupacion finanzas es desconocida\n",
      "La ocupacion a1 es desconocida\n",
      "La ocupacion a1 es desconocida\n",
      "La ocupacion a1 es desconocida\n",
      "La ocupacion auxiliar es desconocida\n",
      "La ocupacion a1 es desconocida\n",
      "La ocupacion a1 es desconocida\n",
      "La ocupacion a1 es desconocida\n",
      "La ocupacion auxiliar es desconocida\n",
      "La ocupacion a1 es desconocida\n",
      "La ocupacion a1 es desconocida\n",
      "La ocupacion playeras es desconocida\n",
      "La ocupacion iglesia es desconocida\n"
     ]
    }
   ],
   "source": [
    "categorias = pd.Series(dtype='string', index=datos.index)\n",
    "for i, ocupacion in datos['trabajo'][datos['trabajo'].notna()].items():\n",
    "    registrada = False\n",
    "    if ocupacion == 'ninguna':\n",
    "        categorias.loc[i] = 'desconocido_99'\n",
    "        regisrada = True\n",
    "    else:\n",
    "        for categoria, ocupaciones_dentro_de_categoria in propuesta.items():\n",
    "            if ocupacion in ocupaciones_dentro_de_categoria:\n",
    "                categorias.loc[i] = categoria\n",
    "                registrada = True\n",
    "                break\n",
    "        if not registrada:\n",
    "            print(f'La ocupacion {ocupacion} es desconocida')\n",
    "            categorias.loc[i] = 'desconocido_99'\n"
   ]
  },
  {
   "cell_type": "code",
   "execution_count": 215,
   "metadata": {
    "collapsed": false,
    "ExecuteTime": {
     "end_time": "2024-08-10T23:19:12.338286Z",
     "start_time": "2024-08-10T23:19:12.335418Z"
    }
   },
   "outputs": [
    {
     "data": {
      "text/plain": "0                  actividades deportivas_1\n1     actividades elementales y de apoyo_20\n2                          administrativo_9\n3                                 artista_2\n4                     atención a clientes_8\n5                                  chofer_3\n6               comerciante sector formal_5\n7             comerciante sector informal_4\n8                        comercio virtual_7\n9                            desconocido_99\n10                empleado gubernamental_11\n11                             empresario_6\n12                               fábrica_18\n13          gubernamental administrativo_10\n14                               oficios_21\n15           profesionista independiente_14\n16                      área de la salud_16\n17                        área educativa_13\ndtype: string"
     },
     "execution_count": 215,
     "metadata": {},
     "output_type": "execute_result"
    }
   ],
   "source": [
    "categorias.drop_duplicates().sort_values().reset_index(drop=True)"
   ]
  },
  {
   "cell_type": "code",
   "execution_count": 216,
   "metadata": {
    "collapsed": false,
    "ExecuteTime": {
     "end_time": "2024-08-10T23:19:12.522536Z",
     "start_time": "2024-08-10T23:19:12.520383Z"
    }
   },
   "outputs": [],
   "source": [
    "datos['categoria'] = categorias"
   ]
  },
  {
   "cell_type": "code",
   "execution_count": 217,
   "metadata": {
    "collapsed": false,
    "ExecuteTime": {
     "end_time": "2024-08-10T23:19:12.658277Z",
     "start_time": "2024-08-10T23:19:12.650004Z"
    }
   },
   "outputs": [
    {
     "data": {
      "text/plain": "                      trabajo                              categoria\n0                     ninguna                         desconocido_99\n1                     ninguna                         desconocido_99\n2                     ninguna                         desconocido_99\n3                     ninguna                         desconocido_99\n4                  dar clases                      área educativa_13\n..                        ...                                    ...\n717                   ninguna                         desconocido_99\n718                   ninguna                         desconocido_99\n719                   ninguna                         desconocido_99\n720                   ninguna                         desconocido_99\n721  trabajadores de limpieza  actividades elementales y de apoyo_20\n\n[722 rows x 2 columns]",
      "text/html": "<div>\n<style scoped>\n    .dataframe tbody tr th:only-of-type {\n        vertical-align: middle;\n    }\n\n    .dataframe tbody tr th {\n        vertical-align: top;\n    }\n\n    .dataframe thead th {\n        text-align: right;\n    }\n</style>\n<table border=\"1\" class=\"dataframe\">\n  <thead>\n    <tr style=\"text-align: right;\">\n      <th></th>\n      <th>trabajo</th>\n      <th>categoria</th>\n    </tr>\n  </thead>\n  <tbody>\n    <tr>\n      <th>0</th>\n      <td>ninguna</td>\n      <td>desconocido_99</td>\n    </tr>\n    <tr>\n      <th>1</th>\n      <td>ninguna</td>\n      <td>desconocido_99</td>\n    </tr>\n    <tr>\n      <th>2</th>\n      <td>ninguna</td>\n      <td>desconocido_99</td>\n    </tr>\n    <tr>\n      <th>3</th>\n      <td>ninguna</td>\n      <td>desconocido_99</td>\n    </tr>\n    <tr>\n      <th>4</th>\n      <td>dar clases</td>\n      <td>área educativa_13</td>\n    </tr>\n    <tr>\n      <th>...</th>\n      <td>...</td>\n      <td>...</td>\n    </tr>\n    <tr>\n      <th>717</th>\n      <td>ninguna</td>\n      <td>desconocido_99</td>\n    </tr>\n    <tr>\n      <th>718</th>\n      <td>ninguna</td>\n      <td>desconocido_99</td>\n    </tr>\n    <tr>\n      <th>719</th>\n      <td>ninguna</td>\n      <td>desconocido_99</td>\n    </tr>\n    <tr>\n      <th>720</th>\n      <td>ninguna</td>\n      <td>desconocido_99</td>\n    </tr>\n    <tr>\n      <th>721</th>\n      <td>trabajadores de limpieza</td>\n      <td>actividades elementales y de apoyo_20</td>\n    </tr>\n  </tbody>\n</table>\n<p>722 rows × 2 columns</p>\n</div>"
     },
     "execution_count": 217,
     "metadata": {},
     "output_type": "execute_result"
    }
   ],
   "source": [
    "datos[['trabajo', 'categoria']]"
   ]
  },
  {
   "cell_type": "code",
   "execution_count": 218,
   "metadata": {
    "collapsed": false,
    "ExecuteTime": {
     "end_time": "2024-08-10T23:19:12.771011Z",
     "start_time": "2024-08-10T23:19:12.767228Z"
    }
   },
   "outputs": [
    {
     "data": {
      "text/plain": "{'desconocido_99': 'A99',\n 'área educativa_13': 'A13',\n 'comercio virtual_7': 'A07',\n 'comerciante sector formal_5': 'A05',\n 'comerciante sector informal_4': 'A04',\n 'profesionista independiente_14': 'A14',\n 'atención a clientes_8': 'A08',\n 'actividades elementales y de apoyo_20': 'A20',\n 'administrativo_9': 'A09',\n 'empresario_6': 'A06',\n 'empleado gubernamental_11': 'A11',\n 'área de la salud_16': 'A16',\n 'artista_2': 'A02',\n 'oficios_21': 'A21',\n 'fábrica_18': 'A18',\n 'actividades deportivas_1': 'A01',\n 'gubernamental administrativo_10': 'A10',\n 'chofer_3': 'A03'}"
     },
     "execution_count": 218,
     "metadata": {},
     "output_type": "execute_result"
    }
   ],
   "source": [
    "mapeo_codigos_categoria = {}\n",
    "for cat in categorias.drop_duplicates():\n",
    "    numero = re.findall(r'_(\\d+)', cat)[0]\n",
    "    mapeo_codigos_categoria[cat] = 'A' + str(numero).zfill(2)\n",
    "mapeo_codigos_categoria"
   ]
  },
  {
   "cell_type": "code",
   "execution_count": 219,
   "metadata": {
    "collapsed": false,
    "ExecuteTime": {
     "end_time": "2024-08-10T23:19:12.867673Z",
     "start_time": "2024-08-10T23:19:12.863098Z"
    }
   },
   "outputs": [
    {
     "name": "stderr",
     "output_type": "stream",
     "text": [
      "/var/folders/hb/c3zh8bns0mx4nw98_6k7rx8m0000gn/T/ipykernel_4464/457275959.py:1: FutureWarning: A value is trying to be set on a copy of a DataFrame or Series through chained assignment using an inplace method.\n",
      "The behavior will change in pandas 3.0. This inplace method will never work because the intermediate object on which we are setting values always behaves as a copy.\n",
      "\n",
      "For example, when doing 'df[col].method(value, inplace=True)', try using 'df.method({col: value}, inplace=True)' or df[col] = df[col].method(value) instead, to perform the operation inplace on the original object.\n",
      "\n",
      "\n",
      "  datos['categoria'].replace(mapeo_codigos_categoria, inplace=True)\n"
     ]
    },
    {
     "data": {
      "text/plain": "0     A01\n1     A02\n2     A03\n3     A04\n4     A05\n5     A06\n6     A07\n7     A08\n8     A09\n9     A10\n10    A11\n11    A13\n12    A14\n13    A16\n14    A18\n15    A20\n16    A21\n17    A99\nName: categoria, dtype: string"
     },
     "execution_count": 219,
     "metadata": {},
     "output_type": "execute_result"
    }
   ],
   "source": [
    "datos['categoria'].replace(mapeo_codigos_categoria, inplace=True)\n",
    "datos['categoria'].drop_duplicates().sort_values().reset_index(drop=True)"
   ]
  },
  {
   "cell_type": "code",
   "execution_count": 220,
   "metadata": {
    "collapsed": false,
    "ExecuteTime": {
     "end_time": "2024-08-10T23:19:12.975569Z",
     "start_time": "2024-08-10T23:19:12.968846Z"
    }
   },
   "outputs": [
    {
     "data": {
      "text/plain": "{'a1': 'A9901',\n 'auxiliar': 'A9902',\n 'entrenador de gimnasio': 'A9903',\n 'escuela': 'A9904',\n 'finanzas': 'A9905',\n 'iglesia': 'A9906',\n 'ninguna': 'A9907',\n 'pizzeria': 'A9908',\n 'playeras': 'A9909',\n 'dar clases': 'A1301',\n 'docente': 'A1302',\n 'educación básica': 'A1303',\n 'estudiante': 'A1304',\n 'idiomas': 'A1305',\n 'investigador-profesor en universidad/preparatoria': 'A1306',\n 'profesor': 'A1307',\n 'regularización': 'A1308',\n 'secundaria': 'A1309',\n 'técnico en educación (educador o guardería)': 'A1310',\n 'universidad': 'A1311',\n 'área educativa': 'A1312',\n 'vendedor de productos por internet (mercado pago, amazon, instagram, etc.)': 'A0701',\n 'taquero': 'A0501',\n 'vendedor de comida': 'A0502',\n 'bazar': 'A0401',\n 'flores y productos en un puesto no establecido': 'A0402',\n 'ropa': 'A0403',\n 'vendedor por cuenta propia (negocio propio)': 'A0404',\n 'venta de cigarros': 'A0405',\n 'abogado': 'A1401',\n 'contador': 'A1402',\n 'marketing': 'A1403',\n 'psicólogo': 'A1404',\n 'publicista': 'A1405',\n 'atención a clientes': 'A0801',\n 'cajero': 'A0802',\n 'call center': 'A0803',\n 'promotor de seguros': 'A0804',\n 'recepcionista': 'A0805',\n 'telefonía': 'A0806',\n 'vendedor de tiendas departamentales': 'A0807',\n 'abarrotes': 'A2001',\n 'actividades comunitarias': 'A2002',\n 'asistente': 'A2003',\n 'ayudante general': 'A2004',\n 'becario': 'A2005',\n 'cafetería': 'A2006',\n 'cocinero': 'A2007',\n 'farmacia': 'A2008',\n 'intendente': 'A2009',\n 'jarciería': 'A2010',\n 'maquilador': 'A2011',\n 'mesero': 'A2012',\n 'trabajadores de limpieza': 'A2013',\n 'reclutador': 'A0901',\n 'recursos humanos': 'A0902',\n 'asesor': 'A0601',\n 'consultor': 'A0602',\n 'dueño': 'A0603',\n 'fundación': 'A0604',\n 'gerente': 'A0605',\n 'administrador': 'A1101',\n 'director general': 'A1102',\n 'camillero': 'A1601',\n 'enfermera': 'A1602',\n 'médico': 'A1603',\n 'nutriólogo': 'A1604',\n 'actor': 'A0201',\n 'ballet': 'A0202',\n 'modelo': 'A0203',\n 'músico': 'A0204',\n 'artesano': 'A2101',\n 'costurero': 'A2102',\n 'mecánico': 'A2103',\n 'sastre': 'A2104',\n 'empleado': 'A1801',\n 'entrenador': 'A0101',\n 'instructor': 'A0102',\n 'sistemas': 'A1001',\n 'camiones': 'A0301',\n 'taxista': 'A0302'}"
     },
     "execution_count": 220,
     "metadata": {},
     "output_type": "execute_result"
    }
   ],
   "source": [
    "mapeo_codigos_ocupaciones = {}\n",
    "for cat in categorias.drop_duplicates():\n",
    "    codigo_cat = mapeo_codigos_categoria[cat]\n",
    "    ocupaciones_en_categoria = datos['trabajo'][\n",
    "        datos['categoria'] == codigo_cat].drop_duplicates().sort_values().reset_index(drop=True)\n",
    "    for i, ocupacion in ocupaciones_en_categoria.items():\n",
    "        mapeo_codigos_ocupaciones[ocupacion] = codigo_cat + str(i + 1).zfill(2)\n",
    "mapeo_codigos_ocupaciones"
   ]
  },
  {
   "cell_type": "code",
   "outputs": [
    {
     "data": {
      "text/plain": "                      trabajo categoria\n0                     ninguna       A99\n1                     ninguna       A99\n2                     ninguna       A99\n3                     ninguna       A99\n4                  dar clases       A13\n..                        ...       ...\n717                   ninguna       A99\n718                   ninguna       A99\n719                   ninguna       A99\n720                   ninguna       A99\n721  trabajadores de limpieza       A20\n\n[722 rows x 2 columns]",
      "text/html": "<div>\n<style scoped>\n    .dataframe tbody tr th:only-of-type {\n        vertical-align: middle;\n    }\n\n    .dataframe tbody tr th {\n        vertical-align: top;\n    }\n\n    .dataframe thead th {\n        text-align: right;\n    }\n</style>\n<table border=\"1\" class=\"dataframe\">\n  <thead>\n    <tr style=\"text-align: right;\">\n      <th></th>\n      <th>trabajo</th>\n      <th>categoria</th>\n    </tr>\n  </thead>\n  <tbody>\n    <tr>\n      <th>0</th>\n      <td>ninguna</td>\n      <td>A99</td>\n    </tr>\n    <tr>\n      <th>1</th>\n      <td>ninguna</td>\n      <td>A99</td>\n    </tr>\n    <tr>\n      <th>2</th>\n      <td>ninguna</td>\n      <td>A99</td>\n    </tr>\n    <tr>\n      <th>3</th>\n      <td>ninguna</td>\n      <td>A99</td>\n    </tr>\n    <tr>\n      <th>4</th>\n      <td>dar clases</td>\n      <td>A13</td>\n    </tr>\n    <tr>\n      <th>...</th>\n      <td>...</td>\n      <td>...</td>\n    </tr>\n    <tr>\n      <th>717</th>\n      <td>ninguna</td>\n      <td>A99</td>\n    </tr>\n    <tr>\n      <th>718</th>\n      <td>ninguna</td>\n      <td>A99</td>\n    </tr>\n    <tr>\n      <th>719</th>\n      <td>ninguna</td>\n      <td>A99</td>\n    </tr>\n    <tr>\n      <th>720</th>\n      <td>ninguna</td>\n      <td>A99</td>\n    </tr>\n    <tr>\n      <th>721</th>\n      <td>trabajadores de limpieza</td>\n      <td>A20</td>\n    </tr>\n  </tbody>\n</table>\n<p>722 rows × 2 columns</p>\n</div>"
     },
     "execution_count": 221,
     "metadata": {},
     "output_type": "execute_result"
    }
   ],
   "source": [
    "datos[['trabajo', 'categoria']]"
   ],
   "metadata": {
    "collapsed": false,
    "ExecuteTime": {
     "end_time": "2024-08-10T23:19:13.136372Z",
     "start_time": "2024-08-10T23:19:13.132025Z"
    }
   },
   "execution_count": 221
  },
  {
   "cell_type": "code",
   "outputs": [],
   "source": [
    "datos.iloc[63, datos.columns.get_loc('trabajo')] = 'vendedor por cuenta propia (negocio propio)'\n",
    "datos.iloc[296, datos.columns.get_loc('trabajo')] = 'vendedor por cuenta propia (negocio propio)'\n",
    "datos.iloc[114, datos.columns.get_loc('trabajo')] = 'vendedor por cuenta propia (negocio propio)'\n",
    "datos.iloc[290, datos.columns.get_loc('trabajo')] = 'vendedor por cuenta propia (negocio propio)'\n",
    "datos.iloc[294, datos.columns.get_loc('trabajo')] = 'vendedor por cuenta propia (negocio propio)'\n",
    "datos.iloc[296, datos.columns.get_loc('trabajo')] = 'vendedor por cuenta propia (negocio propio)'\n",
    "datos.iloc[390, datos.columns.get_loc('trabajo')] = 'legisladora'\n",
    "datos.iloc[428, datos.columns.get_loc('trabajo')] = 'vendedor por cuenta propia (negocio propio)'\n",
    "datos.iloc[483, datos.columns.get_loc('trabajo')] = 'vendedor por cuenta propia (negocio propio)'\n",
    "datos.iloc[485, datos.columns.get_loc('trabajo')] = 'vendedor por cuenta propia (negocio propio)'\n",
    "datos.iloc[564, datos.columns.get_loc('trabajo')] = 'técnico'\n",
    "datos.iloc[568, datos.columns.get_loc('trabajo')] = 'administrativo'\n",
    "datos.iloc[621, datos.columns.get_loc('trabajo')] = 'vendedor por cuenta propia (negocio propio)'\n",
    "datos.iloc[651, datos.columns.get_loc('trabajo')] = 'administrativo'\n",
    "datos.iloc[665, datos.columns.get_loc('trabajo')] = 'vendedor por cuenta propia (negocio propio)'\n",
    "datos.iloc[670, datos.columns.get_loc('trabajo')] = 'vendedor por cuenta propia (negocio propio)'\n",
    "\n"
   ],
   "metadata": {
    "collapsed": false,
    "ExecuteTime": {
     "end_time": "2024-08-10T23:54:07.332338Z",
     "start_time": "2024-08-10T23:54:07.324629Z"
    }
   },
   "execution_count": 233
  },
  {
   "cell_type": "code",
   "outputs": [],
   "source": [
    "datos.iloc[63, datos.columns.get_loc('categoria')] = 'A04'\n",
    "datos.iloc[296, datos.columns.get_loc('categoria')] = 'A04'\n",
    "datos.iloc[114, datos.columns.get_loc('categoria')] = 'A04'\n",
    "datos.iloc[290, datos.columns.get_loc('categoria')] = 'A04'\n",
    "datos.iloc[294, datos.columns.get_loc('categoria')] = 'A04'\n",
    "datos.iloc[296, datos.columns.get_loc('categoria')] = 'A04'\n",
    "datos.iloc[390, datos.columns.get_loc('categoria')] = 'A11'\n",
    "datos.iloc[428, datos.columns.get_loc('categoria')] = 'A04'\n",
    "datos.iloc[483, datos.columns.get_loc('categoria')] = 'A04'\n",
    "datos.iloc[485, datos.columns.get_loc('categoria')] = 'A04'\n",
    "datos.iloc[564, datos.columns.get_loc('categoria')] = 'A12'\n",
    "datos.iloc[568, datos.columns.get_loc('categoria')] = 'A06'\n",
    "datos.iloc[621, datos.columns.get_loc('categoria')] = 'A04'\n",
    "datos.iloc[651, datos.columns.get_loc('categoria')] = 'A06'\n",
    "datos.iloc[665, datos.columns.get_loc('categoria')] = 'A04'\n",
    "datos.iloc[670, datos.columns.get_loc('categoria')] = 'A04'\n"
   ],
   "metadata": {
    "collapsed": false,
    "ExecuteTime": {
     "end_time": "2024-08-10T23:54:08.208368Z",
     "start_time": "2024-08-10T23:54:08.202651Z"
    }
   },
   "execution_count": 234
  },
  {
   "cell_type": "code",
   "outputs": [
    {
     "data": {
      "text/plain": "{'actividad religiosa': 'A9901',\n 'belleza': 'A9902',\n 'cacique de rancho': 'A9903',\n 'capataz': 'A9904',\n 'carbón': 'A9905',\n 'club': 'A9906',\n 'coaching': 'A9907',\n 'desconoce': 'A9908',\n 'desconocido': 'A9908',\n 'se desconoce': 'A9908',\n 'distribuidor': 'A9909',\n 'editorial': 'A9910',\n 'em': 'A9911',\n 'estacion de radio': 'A9912',\n 'evaciones psicologicas': 'A9913',\n 'facturas': 'A9914',\n 'guantes': 'A9915',\n 'hace trofeos y medallas por mayoreo': 'A9916',\n 'homeopatia': 'A9917',\n 'jubilado': 'A9918',\n 'lo que hacía': 'A9919',\n 'menos infractores e inadaptados': 'A9920',\n 'ninguna': 'A9921',\n 'no aplica': 'A9922',\n 'no hay información': 'A9923',\n 'no lo conoció': 'A9924',\n 'no recuerdo': 'A9925',\n 'no sabe': 'A9925',\n 'no se': 'A9925',\n 'no se sabe': 'A9925',\n 'no sé': 'A9925',\n 'omitir': 'A9926',\n 'orador': 'A9927',\n 'pastor (religion)': 'A9928',\n 'pensionada': 'A9929',\n 'pensionado': 'A9929',\n 'pensionado de pgr (mecanico de helicopteros)': 'A9929',\n 'por contrato': 'A9930',\n 'prevencion en walmart': 'A9931',\n 'productor de videos': 'A9932',\n 'psicoprofilactica': 'A9933',\n 'relacionado a la politica': 'A9934',\n 'renta accesorias': 'A9935',\n 'sasem': 'A9936',\n 'sd': 'A9937',\n 'servicios': 'A9938',\n 'sin informacion': 'A9939',\n 'tanatologa': 'A9940',\n 'teléfonos': 'A9941',\n 'terapia alternativa': 'A9942',\n 'tiket master': 'A9943',\n 'trabajaba en iglesia': 'A9944',\n 'iglesia': 'A9944',\n 'variable': 'A9945',\n 'variados': 'A9946',\n 'bibliotecario': 'A1301',\n 'consultora en educación y terapia psicológica': 'A1302',\n 'dar clases': 'A1303',\n 'direccion general educacion basica': 'A1304',\n 'dueña del laboratorio': 'A1305',\n 'educación básica': 'A1306',\n 'educación especial': 'A1307',\n 'estudiante': 'A1308',\n 'idiomas': 'A1309',\n 'investigador-profesor en universidad/preparatoria': 'A1310',\n 'laboratorio': 'A1311',\n 'laboratorista': 'A1311',\n 'laboratorista químico': 'A1311',\n 'pedagogo': 'A1312',\n 'pedagogía': 'A1312',\n 'profesor': 'A1313',\n 'docente': 'A1313',\n 'regularización': 'A1314',\n 'secundaria': 'A1315',\n 'servicio social': 'A1316',\n 'sindicato de educación': 'A1317',\n 'supervision en sep': 'A1318',\n 'técnico en educación (educador o guardería)': 'A1319',\n 'universidad': 'A1320',\n 'vicedirector': 'A1321',\n 'área educativa': 'A1322',\n 'abarrotes': 'A2001',\n 'afanador': 'A2002',\n 'asistente': 'A2003',\n 'ayudante general': 'A2004',\n 'barrendero': 'A2005',\n 'cafetería': 'A2006',\n 'cocinero': 'A2007',\n 'empacadora en super': 'A2008',\n 'farmacia': 'A2009',\n 'intendente': 'A2010',\n 'departamento de limpias y transportes': 'A2011',\n 'limpieza y transporte': 'A2011',\n 'limpia y transporte': 'A2011',\n 'logistica': 'A2012',\n 'mantenimiento': 'A2013',\n 'maquilador': 'A2014',\n 'mesero': 'A2015',\n 'repartidor': 'A2016',\n 'repartidor pizza': 'A2016',\n 'trabajadores de limpieza': 'A2017',\n 'trabajadores domésticos': 'A2018',\n 'actividades comunitarias': 'A2019',\n 'becario': 'A2020',\n 'jarciería': 'A2021',\n 'administrativo': 'A0601',\n 'arrendador': 'A0602',\n 'arrendatario': 'A0602',\n 'asesor': 'A0603',\n 'consultor': 'A0604',\n 'director': 'A0605',\n 'director o gerente': 'A0606',\n 'dueño': 'A0607',\n 'empresario': 'A0608',\n 'fundación': 'A0619',\n 'gerente': 'A0610',\n 'negocio': 'A0611',\n 'negocios': 'A0611',\n 'prestamista': 'A0612',\n 'socio': 'A0613',\n 'autopartes': 'A0401',\n 'comerciante sector informal': 'A0402',\n 'venta de cigarros': 'A0402',\n 'flores y productos en un puesto no establecido': 'A0403',\n 'negocio reciclaje': 'A0404',\n 'periódicos': 'A0405',\n 'productos de belleza': 'A0406',\n 'productos para desinfectar': 'A0407',\n 'purificadora': 'A0408',\n 'recaudería': 'A0409',\n 'refacciones': 'A0410',\n 'ropa': 'A0411',\n 'playeras': 'A0411',\n 'bazar': 'A0411',\n 'sector informal': 'A0412',\n 'sobrerruedas': 'A0413',\n 'uniformes escolares': 'A0414',\n 'vendedor': 'A0415',\n 'vendedor por cuenta propia (negocio propio)': 'A0416',\n 'administrador': 'A1101',\n 'bolsa de valores': 'A1102',\n 'compañia de luz': 'A1103',\n 'diputado': 'A1104',\n 'director general': 'A1105',\n 'embajada de estados unidos': 'A1106',\n 'empleado gubernamental': 'A1107',\n 'hacienda': 'A1108',\n 'jefe de departamento': 'A1109',\n 'jefe de área': 'A1110',\n 'jurisprudencia': 'A1111',\n 'legisladora': 'A1112',\n 'luz y fuerza': 'A1113',\n 'trabajo en luz y fuerza': 'A1113',\n 'presidente de la republica': 'A1114',\n 'sat': 'A1115',\n 'servidor de la nación': 'A1116',\n 'trabaja en delegación': 'A1117',\n 'trabaja en pemex': 'A1118',\n 'banco': 'A0901',\n 'trabaja en banco': 'A0901',\n 'contador público': 'A0902',\n 'hipotecario': 'A0903',\n 'reclutador': 'A0904',\n 'recursos humanos': 'A0905',\n 'secretaria': 'A0906',\n 'abogado': 'A1401',\n 'actuario': 'A1402',\n 'biólogo': 'A1403',\n 'contador': 'A1404',\n 'dentista': 'A1405',\n 'odontologia': 'A1405',\n 'economista': 'A1406',\n 'financiero': 'A1407',\n 'fisico medico': 'A1408',\n 'gastronomía': 'A1409',\n 'historiador': 'A1410',\n 'historiadora': 'A1410',\n 'ingeniero': 'A1411',\n 'internacionalista': 'A1412',\n 'relaciones internacionales': 'A1412',\n 'marketing': 'A1413',\n 'minero': 'A1414',\n 'médico independiente': 'A1415',\n 'médico veterinario': 'A1416',\n 'veterinario': 'A1416',\n 'oficinista': 'A1417',\n 'periodista': 'A1418',\n 'profesionista independiente': 'A1419',\n 'programador': 'A1420',\n 'promotor cultural': 'A1421',\n 'psicólogo': 'A1422',\n 'psiquiatra': 'A1423',\n 'publicista': 'A1424',\n 'qfb': 'A1425',\n 'químico farmacobiólogo': 'A1425',\n 'quimico': 'A1426',\n 'química': 'A1426',\n 'relaciones publicas': 'A1427',\n 'revisor': 'A1428',\n 'revisora en revista': 'A1428',\n 'terapeuta': 'A1429',\n 'trabajadora social': 'A1430',\n 'traductora': 'A1432',\n 'comerciante sector formal': 'A0501',\n 'periódicos flores y productos en un puesto no establecido': 'A0502',\n 'productos en un puesto no establecido': 'A0503',\n 'vendedor de comida': 'A0504',\n 'taquero': 'A0504',\n 'vendedor de productos por internet (mercado pago, amazon, instagram, etc.)': 'A0701',\n 'ballet': 'A0201',\n 'cantante': 'A0202',\n 'diseñador': 'A0203',\n 'diseñador gráfico': 'A0204',\n 'fotógrafo': 'A0205',\n 'instrumentalista': 'A0206',\n 'modelo': 'A0207',\n 'músico': 'A0208',\n 'pintor': 'A0209',\n 'actor': 'A0210',\n 'empleado': 'A1801',\n 'empresa': 'A1801',\n 'empresa de carros': 'A1801',\n 'empresa electrodomesticos': 'A1801',\n 'empresa productora de platos de loza': 'A1801',\n 'empresa que vende equipo de cómputo': 'A1801',\n 'trabaja en estudios churubusco': 'A1801',\n 'fábrica': 'A1802',\n 'industria metalurgica': 'A1803',\n 'maquinado industrial': 'A1804',\n 'obrero': 'A1805',\n 'operador de maquinaria móvil': 'A1806',\n 'supervisor': 'A1807',\n 'anestesiólogo': 'A1601',\n 'asistente médica': 'A1602',\n 'camillero': 'A1603',\n 'cosmetología': 'A1604',\n 'cuidado geriátrico': 'A1605',\n 'enfermera': 'A1606',\n 'fisioterapeuta': 'A1607',\n 'médico': 'A1608',\n 'médico radiólogo': 'A1609',\n 'nutriólogo': 'A1610',\n 'optometrista': 'A1611',\n 'patólogo': 'A1612',\n 'podológo': 'A1613',\n 'radiólogo': 'A1614',\n 'representante médico': 'A1615',\n 'supervisor de salubridad': 'A1616',\n 'voluntaria': 'A1617',\n 'área de la salud': 'A1618',\n 'aerolínea': 'A0801',\n 'agente de viajes': 'A0802',\n 'asegurador': 'A0803',\n 'atención a clientes': 'A0804',\n 'bienes raíces': 'A0805',\n 'bienes raices': 'A0805',\n 'cajero': 'A0806',\n 'guia de turismo': 'A0807',\n 'hotel': 'A0808',\n 'trabaja en un hotel': 'A0808',\n 'oxxo': 'A0809',\n 'papeleria': 'A0810',\n 'promotor de seguros': 'A0811',\n 'recepcionista': 'A0812',\n 'representante  de ventas': 'A0813',\n 'servicio de correos': 'A0814',\n 'supermercado': 'A0815',\n 'telefonía': 'A0816',\n 'tienda': 'A0817',\n 'tienda de autoservicio': 'A0818',\n 'trabajador en cine': 'A0819',\n 'turismo': 'A0820',\n 'sector turistico': 'A0820',\n 'vendedor de tiendas departamentales': 'A0821',\n 'vendedor de tiendas departamentales/promotor de seguros, telefonía': 'A0822',\n 'call center': 'A0823',\n 'gestor de transito': 'A1001',\n 'gubernamental administrativo': 'A1002',\n 'ine': 'A1003',\n 'jefe de operaciones': 'A1004',\n 'jefe de área, subdirector': 'A1005',\n 'juez': 'A1006',\n 'notario público': 'A1007',\n 'oficial mayor en sct': 'A1008',\n 'operativo': 'A1009',\n 'pasaportes': 'A1010',\n 'perito': 'A1011',\n 'programa pilares': 'A1012',\n 'servidor publico': 'A1013',\n 'sistemas': 'A1014',\n 'trabajador en el metro': 'A1015',\n 'metro': 'A1015',\n 'vicepresidente de comisión nacional bancaria': 'A1016',\n 'almacenista': 'A2101',\n 'armero': 'A2102',\n 'artesano': 'A2103',\n 'automotriz': 'A2104',\n 'bolero': 'A2105',\n 'carpintero': 'A2106',\n 'ceramica': 'A2107',\n 'cobrador': 'A2108',\n 'costurero': 'A2109',\n 'electricista': 'A2110',\n 'electromecánico': 'A2111',\n 'electrónica': 'A2112',\n 'electrónico': 'A2112',\n 'ganadero': 'A2113',\n 'herrero': 'A2114',\n 'hojalatero': 'A2115',\n 'imprenta': 'A2116',\n 'joyero': 'A2117',\n 'joyero grabador': 'A2117',\n 'lacteos': 'A2118',\n 'lavanderia': 'A2119',\n 'lavandería': 'A2119',\n 'lechero': 'A2120',\n 'mecánico': 'A2121',\n 'metalurgia': 'A2122',\n 'panadero': 'A2123',\n 'peluquero': 'A2124',\n 'pescador': 'A2125',\n 'petrolero': 'A2126',\n 'plomero': 'A2127',\n 'poligrafista': 'A2128',\n 'sastre': 'A2129',\n 'tabiquera': 'A2130',\n 'tornero': 'A2131',\n 'valet parking': 'A2132',\n 'vulcanizador': 'A2133',\n 'zapatero': 'A2134',\n 'custodia': 'A1501',\n 'empleado en seguridad en bancos': 'A1502',\n 'empleado en seguridad privada': 'A1503',\n 'empleado en seguridad pública': 'A1504',\n 'encargado de la planta': 'A1505',\n 'federal': 'A1506',\n 'guardaespaldas': 'A1507',\n 'guardia de seguridad': 'A1508',\n 'marina': 'A1509',\n 'militar': 'A1510',\n 'patrullero': 'A1511',\n 'policía': 'A1512',\n 'policía de tránsito': 'A1513',\n 'seguridad': 'A1514',\n 'vigilante': 'A1515',\n 'directora del área de enfermería de los hospitales de gobierno': 'A1201',\n 'monitorista en medios de comunicación': 'A1202',\n 'personal técnico': 'A1203',\n 'reparación aparatos electronicos': 'A1204',\n 'reparación electrónicos': 'A1204',\n 'telecomunicacion': 'A1205',\n 'telegrafista': 'A1206',\n 'técnico': 'A1207',\n 'tecnico': 'A1207',\n 'técnico en barcos de cargo': 'A1208',\n 'técnico en biofumigación': 'A1209',\n 'técnico en calefacción': 'A1210',\n 'técnico en hemodinamia': 'A1211',\n 'técnico en reparaciones': 'A1212',\n 'técnico farmacobiólogo': 'A1213',\n 'técnico radiólogo': 'A1214',\n 'camiones': 'A0301',\n 'chofer': 'A0302',\n 'empresa de transporte': 'A0303',\n 'ferrocarrilero': 'A0304',\n 'maneja un camión de basura': 'A0305',\n 'microbús': 'A0306',\n 'mudanzas': 'A0307',\n 'piloto': 'A0308',\n 'servicio de transporte': 'A0309',\n 'taxista': 'A0310',\n 'trailer': 'A0311',\n 'transporte colectivo metro': 'A0312',\n 'transporte de materiales': 'A0313',\n 'transportista': 'A0314',\n 'tranvia': 'A0315',\n 'tráiler': 'A0316',\n 'uber': 'A0317',\n 'albañil': 'A1701',\n 'arquitecto': 'A1702',\n 'caminos y puentes': 'A1703',\n 'construcción': 'A1704',\n 'contratista': 'A1705',\n 'ingeniero civil': 'A1706',\n 'ingeniero civil/albañil o trabajador general': 'A1707',\n 'agraria': 'A1901',\n 'agricultor': 'A1902',\n 'campesino': 'A1903',\n 'granjero': 'A1904',\n 'siembra': 'A1905',\n 'trabajos relacionados con agricultura': 'A1906',\n 'luchador': 'A0101',\n 'árbitro': 'A0102',\n 'entrenador': 'A0103',\n 'instructor': 'A0104'}"
     },
     "execution_count": 235,
     "metadata": {},
     "output_type": "execute_result"
    }
   ],
   "source": [
    "archivo_json = 'Trabajos_familia.json'\n",
    "\n",
    "# Leer el archivo JSON y convertirlo en un diccionario\n",
    "with open(archivo_json, 'r', encoding='utf-8') as f:\n",
    "    mapeo_reorganizado_importado = json.load(f)\n",
    "mapeo_reorganizado_importado"
   ],
   "metadata": {
    "collapsed": false,
    "ExecuteTime": {
     "end_time": "2024-08-10T23:54:10.236028Z",
     "start_time": "2024-08-10T23:54:10.221224Z"
    }
   },
   "execution_count": 235
  },
  {
   "cell_type": "markdown",
   "source": [],
   "metadata": {
    "collapsed": false
   }
  },
  {
   "cell_type": "markdown",
   "source": [
    "# Era hasta aquí"
   ],
   "metadata": {
    "collapsed": false
   }
  },
  {
   "cell_type": "code",
   "execution_count": 236,
   "metadata": {
    "collapsed": false,
    "ExecuteTime": {
     "end_time": "2024-08-10T23:54:14.297126Z",
     "start_time": "2024-08-10T23:54:14.269162Z"
    }
   },
   "outputs": [
    {
     "name": "stderr",
     "output_type": "stream",
     "text": [
      "/var/folders/hb/c3zh8bns0mx4nw98_6k7rx8m0000gn/T/ipykernel_4464/2721062508.py:1: FutureWarning: A value is trying to be set on a copy of a DataFrame or Series through chained assignment using an inplace method.\n",
      "The behavior will change in pandas 3.0. This inplace method will never work because the intermediate object on which we are setting values always behaves as a copy.\n",
      "\n",
      "For example, when doing 'df[col].method(value, inplace=True)', try using 'df.method({col: value}, inplace=True)' or df[col] = df[col].method(value) instead, to perform the operation inplace on the original object.\n",
      "\n",
      "\n",
      "  datos['trabajo'].replace(mapeo_reorganizado_importado, inplace=True)\n"
     ]
    },
    {
     "data": {
      "text/plain": "0     A0103\n1     A0104\n2     A0201\n3     A0207\n4     A0208\n      ...  \n70    A2109\n71    A2121\n72    A2129\n73    A9921\n74    A9944\nName: trabajo, Length: 75, dtype: object"
     },
     "execution_count": 236,
     "metadata": {},
     "output_type": "execute_result"
    }
   ],
   "source": [
    "datos['trabajo'].replace(mapeo_reorganizado_importado, inplace=True)\n",
    "datos['trabajo'].drop_duplicates().sort_values().reset_index(drop=True)"
   ]
  },
  {
   "cell_type": "code",
   "execution_count": 237,
   "metadata": {
    "collapsed": false,
    "ExecuteTime": {
     "end_time": "2024-08-10T23:54:18.376078Z",
     "start_time": "2024-08-10T23:54:18.366872Z"
    }
   },
   "outputs": [
    {
     "data": {
      "text/plain": "    trabajo categoria\n0     A9921       A99\n1     A9921       A99\n2     A9921       A99\n3     A9921       A99\n4     A1303       A13\n..      ...       ...\n717   A9921       A99\n718   A9921       A99\n719   A9921       A99\n720   A9921       A99\n721   A2017       A20\n\n[722 rows x 2 columns]",
      "text/html": "<div>\n<style scoped>\n    .dataframe tbody tr th:only-of-type {\n        vertical-align: middle;\n    }\n\n    .dataframe tbody tr th {\n        vertical-align: top;\n    }\n\n    .dataframe thead th {\n        text-align: right;\n    }\n</style>\n<table border=\"1\" class=\"dataframe\">\n  <thead>\n    <tr style=\"text-align: right;\">\n      <th></th>\n      <th>trabajo</th>\n      <th>categoria</th>\n    </tr>\n  </thead>\n  <tbody>\n    <tr>\n      <th>0</th>\n      <td>A9921</td>\n      <td>A99</td>\n    </tr>\n    <tr>\n      <th>1</th>\n      <td>A9921</td>\n      <td>A99</td>\n    </tr>\n    <tr>\n      <th>2</th>\n      <td>A9921</td>\n      <td>A99</td>\n    </tr>\n    <tr>\n      <th>3</th>\n      <td>A9921</td>\n      <td>A99</td>\n    </tr>\n    <tr>\n      <th>4</th>\n      <td>A1303</td>\n      <td>A13</td>\n    </tr>\n    <tr>\n      <th>...</th>\n      <td>...</td>\n      <td>...</td>\n    </tr>\n    <tr>\n      <th>717</th>\n      <td>A9921</td>\n      <td>A99</td>\n    </tr>\n    <tr>\n      <th>718</th>\n      <td>A9921</td>\n      <td>A99</td>\n    </tr>\n    <tr>\n      <th>719</th>\n      <td>A9921</td>\n      <td>A99</td>\n    </tr>\n    <tr>\n      <th>720</th>\n      <td>A9921</td>\n      <td>A99</td>\n    </tr>\n    <tr>\n      <th>721</th>\n      <td>A2017</td>\n      <td>A20</td>\n    </tr>\n  </tbody>\n</table>\n<p>722 rows × 2 columns</p>\n</div>"
     },
     "execution_count": 237,
     "metadata": {},
     "output_type": "execute_result"
    }
   ],
   "source": [
    "datos[['trabajo', 'categoria']]"
   ]
  },
  {
   "cell_type": "code",
   "outputs": [],
   "source": [
    "datos.iloc[659, datos.columns.get_loc('trabajo')] = 'A9944'\n",
    "datos.iloc[566, datos.columns.get_loc('trabajo')] = 'A9944'\n",
    "datos.iloc[327, datos.columns.get_loc('trabajo')] = 'A0103'\n",
    "datos.iloc[170, datos.columns.get_loc('trabajo')] = 'A1303'\n",
    "datos.iloc[455, datos.columns.get_loc('trabajo')] = 'A1407'\n",
    "datos.iloc[334, datos.columns.get_loc('trabajo')] = 'A0504'"
   ],
   "metadata": {
    "collapsed": false,
    "ExecuteTime": {
     "end_time": "2024-08-10T23:54:26.266616Z",
     "start_time": "2024-08-10T23:54:26.259332Z"
    }
   },
   "execution_count": 238
  },
  {
   "cell_type": "code",
   "outputs": [],
   "source": [
    "datos.iloc[659, datos.columns.get_loc('categoria')] = 'A99'\n",
    "datos.iloc[624, datos.columns.get_loc('categoria')] = 'A99'\n",
    "datos.iloc[566, datos.columns.get_loc('categoria')] = 'A99'\n",
    "datos.iloc[327, datos.columns.get_loc('categoria')] = 'A01'\n",
    "datos.iloc[170, datos.columns.get_loc('categoria')] = 'A13'\n",
    "datos.iloc[455, datos.columns.get_loc('categoria')] = 'A14'\n",
    "datos.iloc[334, datos.columns.get_loc('categoria')] = 'A05'\n"
   ],
   "metadata": {
    "collapsed": false,
    "ExecuteTime": {
     "end_time": "2024-08-10T23:55:18.741058Z",
     "start_time": "2024-08-10T23:55:18.734400Z"
    }
   },
   "execution_count": 241
  },
  {
   "cell_type": "code",
   "outputs": [
    {
     "data": {
      "text/plain": "    trabajo categoria\n0     A9921       A99\n1     A9921       A99\n2     A9921       A99\n3     A9921       A99\n4     A1303       A13\n..      ...       ...\n717   A9921       A99\n718   A9921       A99\n719   A9921       A99\n720   A9921       A99\n721   A2017       A20\n\n[722 rows x 2 columns]",
      "text/html": "<div>\n<style scoped>\n    .dataframe tbody tr th:only-of-type {\n        vertical-align: middle;\n    }\n\n    .dataframe tbody tr th {\n        vertical-align: top;\n    }\n\n    .dataframe thead th {\n        text-align: right;\n    }\n</style>\n<table border=\"1\" class=\"dataframe\">\n  <thead>\n    <tr style=\"text-align: right;\">\n      <th></th>\n      <th>trabajo</th>\n      <th>categoria</th>\n    </tr>\n  </thead>\n  <tbody>\n    <tr>\n      <th>0</th>\n      <td>A9921</td>\n      <td>A99</td>\n    </tr>\n    <tr>\n      <th>1</th>\n      <td>A9921</td>\n      <td>A99</td>\n    </tr>\n    <tr>\n      <th>2</th>\n      <td>A9921</td>\n      <td>A99</td>\n    </tr>\n    <tr>\n      <th>3</th>\n      <td>A9921</td>\n      <td>A99</td>\n    </tr>\n    <tr>\n      <th>4</th>\n      <td>A1303</td>\n      <td>A13</td>\n    </tr>\n    <tr>\n      <th>...</th>\n      <td>...</td>\n      <td>...</td>\n    </tr>\n    <tr>\n      <th>717</th>\n      <td>A9921</td>\n      <td>A99</td>\n    </tr>\n    <tr>\n      <th>718</th>\n      <td>A9921</td>\n      <td>A99</td>\n    </tr>\n    <tr>\n      <th>719</th>\n      <td>A9921</td>\n      <td>A99</td>\n    </tr>\n    <tr>\n      <th>720</th>\n      <td>A9921</td>\n      <td>A99</td>\n    </tr>\n    <tr>\n      <th>721</th>\n      <td>A2017</td>\n      <td>A20</td>\n    </tr>\n  </tbody>\n</table>\n<p>722 rows × 2 columns</p>\n</div>"
     },
     "execution_count": 240,
     "metadata": {},
     "output_type": "execute_result"
    }
   ],
   "source": [
    "datos[['trabajo', 'categoria']]"
   ],
   "metadata": {
    "collapsed": false,
    "ExecuteTime": {
     "end_time": "2024-08-10T23:54:27.786016Z",
     "start_time": "2024-08-10T23:54:27.780127Z"
    }
   },
   "execution_count": 240
  },
  {
   "cell_type": "code",
   "outputs": [],
   "source": [
    "#import json\n",
    "\n",
    "#trabajos = { ... }\n",
    "\n",
    "#with open(\"trabajos.json\", \"w\") as archivo:\n",
    "#    json.dump(mapeo_codigos_ocupaciones, archivo)"
   ],
   "metadata": {},
   "execution_count": 685
  },
  {
   "attachments": {},
   "cell_type": "markdown",
   "metadata": {
    "collapsed": false
   },
   "source": [
    "Exportación final"
   ]
  },
  {
   "cell_type": "code",
   "execution_count": 242,
   "metadata": {
    "collapsed": false,
    "ExecuteTime": {
     "end_time": "2024-08-10T23:58:20.629981Z",
     "start_time": "2024-08-10T23:58:20.579872Z"
    }
   },
   "outputs": [],
   "source": [
    "datos.to_csv('zoom1_limpio_final.csv', index=False)"
   ]
  },
  {
   "cell_type": "code",
   "execution_count": 689,
   "metadata": {
    "ExecuteTime": {
     "end_time": "2023-04-21T11:32:20.404661Z",
     "start_time": "2023-04-21T11:32:20.303324Z"
    },
    "collapsed": false
   },
   "outputs": [
    {
     "data": {
      "text/plain": [
       "0             A1\n",
       "1            A10\n",
       "2             A2\n",
       "3             A3\n",
       "4             A4\n",
       "5             A5\n",
       "6             A6\n",
       "7             A7\n",
       "8             A8\n",
       "9             A9\n",
       "10    psicología\n",
       "Name: Carrera, dtype: object"
      ]
     },
     "execution_count": 689,
     "metadata": {},
     "output_type": "execute_result"
    }
   ],
   "source": [
    "mostrar_unicos('Carrera')"
   ]
  },
  {
   "cell_type": "code",
   "execution_count": 690,
   "metadata": {
    "ExecuteTime": {
     "end_time": "2023-04-21T11:32:20.507976Z",
     "start_time": "2023-04-21T11:32:20.393733Z"
    },
    "collapsed": false
   },
   "outputs": [],
   "source": [
    "with open(\"mapeo_carrera.json\", \"w\", encoding=\"utf-8\") as f:\n",
    "    json.dump(mapeo_carrera, f, ensure_ascii=False)"
   ]
  },
  {
   "cell_type": "code",
   "execution_count": 691,
   "metadata": {
    "ExecuteTime": {
     "end_time": "2023-04-21T11:32:20.519798Z",
     "start_time": "2023-04-21T11:32:20.484312Z"
    },
    "collapsed": false
   },
   "outputs": [
    {
     "name": "stdout",
     "output_type": "stream",
     "text": [
      "A99 = desconocido_99\n",
      "A13 = Ã¡rea educativa_13\n",
      "A07 = comercio virtual_7\n",
      "A05 = comerciante sector formal_5\n",
      "A04 = comerciante sector informal_4\n",
      "A14 = profesionista independiente_14\n",
      "A08 = atenciÃ³n a clientes_8\n",
      "A20 = actividades elementales y de apoyo_20\n",
      "A09 = administrativo_9\n",
      "A06 = empresario_6\n",
      "A11 = empleado gubernamental_11\n",
      "A02 = artista_2\n",
      "A21 = oficios_21\n",
      "A18 = fÃ¡brica_18\n",
      "A16 = Ã¡rea de la salud_16\n",
      "A01 = actividades deportivas_1\n",
      "A10 = gubernamental administrativo_10\n",
      "A03 = chofer_3\n"
     ]
    }
   ],
   "source": [
    "h = []\n",
    "for cat, codigo in mapeo_codigos_categoria.items():\n",
    "    a = codigo + ' = ' + cat\n",
    "    print(a)\n",
    "    h.append(a)\n",
    "h.sort()"
   ]
  },
  {
   "cell_type": "code",
   "execution_count": 692,
   "metadata": {
    "ExecuteTime": {
     "end_time": "2023-04-21T11:32:20.577935Z",
     "start_time": "2023-04-21T11:32:20.523220Z"
    },
    "collapsed": false
   },
   "outputs": [
    {
     "data": {
      "text/plain": [
       "['A01 = actividades deportivas_1',\n",
       " 'A02 = artista_2',\n",
       " 'A03 = chofer_3',\n",
       " 'A04 = comerciante sector informal_4',\n",
       " 'A05 = comerciante sector formal_5',\n",
       " 'A06 = empresario_6',\n",
       " 'A07 = comercio virtual_7',\n",
       " 'A08 = atenciÃ³n a clientes_8',\n",
       " 'A09 = administrativo_9',\n",
       " 'A10 = gubernamental administrativo_10',\n",
       " 'A11 = empleado gubernamental_11',\n",
       " 'A13 = Ã¡rea educativa_13',\n",
       " 'A14 = profesionista independiente_14',\n",
       " 'A16 = Ã¡rea de la salud_16',\n",
       " 'A18 = fÃ¡brica_18',\n",
       " 'A20 = actividades elementales y de apoyo_20',\n",
       " 'A21 = oficios_21',\n",
       " 'A99 = desconocido_99']"
      ]
     },
     "execution_count": 692,
     "metadata": {},
     "output_type": "execute_result"
    }
   ],
   "source": [
    "h"
   ]
  },
  {
   "cell_type": "code",
   "execution_count": 693,
   "metadata": {
    "ExecuteTime": {
     "end_time": "2023-04-21T11:32:20.656859Z",
     "start_time": "2023-04-21T11:32:20.580494Z"
    },
    "collapsed": false
   },
   "outputs": [],
   "source": [
    "csv_ocup = []\n",
    "for ocup, codigo in mapeo_codigos_ocupaciones.items():\n",
    "    a = codigo + ' = ' + ocup\n",
    "    csv_ocup.append(a)\n",
    "csv_ocup.sort()"
   ]
  },
  {
   "cell_type": "code",
   "execution_count": 694,
   "metadata": {
    "ExecuteTime": {
     "end_time": "2023-04-21T11:32:20.683118Z",
     "start_time": "2023-04-21T11:32:20.661464Z"
    },
    "collapsed": false
   },
   "outputs": [
    {
     "data": {
      "text/plain": [
       "['A0101 = entrenador',\n",
       " 'A0102 = instructor',\n",
       " 'A0201 = actor',\n",
       " 'A0202 = ballet',\n",
       " 'A0203 = modelo',\n",
       " 'A0204 = mÃºsico',\n",
       " 'A0301 = camiones',\n",
       " 'A0302 = taxista',\n",
       " 'A0401 = bazar',\n",
       " 'A0402 = flores y productos en un puesto no establecido',\n",
       " 'A0403 = ropa',\n",
       " 'A0404 = vendedor por cuenta propia (negocio propio)',\n",
       " 'A0405 = venta de cigarros',\n",
       " 'A0501 = taquero',\n",
       " 'A0502 = vendedor de comida',\n",
       " 'A0601 = asesor',\n",
       " 'A0602 = consultor',\n",
       " 'A0603 = fundaciÃ³n',\n",
       " 'A0604 = gerente',\n",
       " 'A0701 = vendedor de productos por internet (mercado pago, amazon, instagram, etc.)',\n",
       " 'A0801 = atenciÃ³n a clientes',\n",
       " 'A0802 = cajero',\n",
       " 'A0803 = call center',\n",
       " 'A0804 = promotor de seguros',\n",
       " 'A0805 = recepcionista',\n",
       " 'A0806 = vendedor de tiendas departamentales',\n",
       " 'A0901 = reclutador',\n",
       " 'A0902 = recursos humanos',\n",
       " 'A1001 = sistemas',\n",
       " 'A1101 = administrador',\n",
       " 'A1102 = director general',\n",
       " 'A1301 = dar clases',\n",
       " 'A1302 = docente',\n",
       " 'A1303 = estudiante',\n",
       " 'A1304 = idiomas',\n",
       " 'A1305 = investigador-profesor en universidad/preparatoria',\n",
       " 'A1306 = profesor',\n",
       " 'A1307 = regularizaciÃ³n',\n",
       " 'A1308 = secundaria',\n",
       " 'A1309 = universidad',\n",
       " 'A1310 = Ã¡rea educativa',\n",
       " 'A1401 = abogado',\n",
       " 'A1402 = contador',\n",
       " 'A1403 = marketing',\n",
       " 'A1404 = psicÃ³logo',\n",
       " 'A1405 = publicista',\n",
       " 'A1601 = camillero',\n",
       " 'A1602 = enfermera',\n",
       " 'A1603 = nutriÃ³logo',\n",
       " 'A1801 = empleado',\n",
       " 'A2001 = abarrotes',\n",
       " 'A2002 = actividades comunitarias',\n",
       " 'A2003 = asistente',\n",
       " 'A2004 = ayudante general',\n",
       " 'A2005 = becario',\n",
       " 'A2006 = cafeterÃ\\xada',\n",
       " 'A2007 = cocinero',\n",
       " 'A2008 = farmacia',\n",
       " 'A2009 = intendente',\n",
       " 'A2010 = jarcierÃ\\xada',\n",
       " 'A2011 = maquilador',\n",
       " 'A2012 = mesero',\n",
       " 'A2013 = repartidor pizza',\n",
       " 'A2014 = trabajadores de limpieza',\n",
       " 'A2101 = artesano',\n",
       " 'A2102 = costurero',\n",
       " 'A2103 = sastre',\n",
       " 'A9901 = a1',\n",
       " 'A9902 = atención a clientes',\n",
       " 'A9903 = auxiliar',\n",
       " 'A9904 = dueño',\n",
       " 'A9905 = educación básica',\n",
       " 'A9906 = entrenador de gimnasio',\n",
       " 'A9907 = escuela',\n",
       " 'A9908 = expresión gráfica',\n",
       " 'A9909 = finanzas',\n",
       " 'A9910 = iglesia',\n",
       " 'A9911 = médico',\n",
       " 'A9912 = músico',\n",
       " 'A9913 = ninguna',\n",
       " 'A9914 = playeras',\n",
       " 'A9915 = psicólogo',\n",
       " 'A9916 = telefonía',\n",
       " 'A9917 = técnico en educación (educador o guardería)',\n",
       " 'A9918 = área educativa']"
      ]
     },
     "execution_count": 694,
     "metadata": {},
     "output_type": "execute_result"
    }
   ],
   "source": [
    "csv_ocup"
   ]
  },
  {
   "cell_type": "code",
   "execution_count": 695,
   "metadata": {
    "ExecuteTime": {
     "end_time": "2023-04-21T11:32:20.750817Z",
     "start_time": "2023-04-21T11:32:20.686235Z"
    },
    "collapsed": false
   },
   "outputs": [
    {
     "data": {
      "text/html": [
       "<div>\n",
       "<style scoped>\n",
       "    .dataframe tbody tr th:only-of-type {\n",
       "        vertical-align: middle;\n",
       "    }\n",
       "\n",
       "    .dataframe tbody tr th {\n",
       "        vertical-align: top;\n",
       "    }\n",
       "\n",
       "    .dataframe thead th {\n",
       "        text-align: right;\n",
       "    }\n",
       "</style>\n",
       "<table border=\"1\" class=\"dataframe\">\n",
       "  <thead>\n",
       "    <tr style=\"text-align: right;\">\n",
       "      <th></th>\n",
       "      <th>related</th>\n",
       "      <th>alive</th>\n",
       "      <th>new_code</th>\n",
       "      <th>code</th>\n",
       "    </tr>\n",
       "  </thead>\n",
       "  <tbody>\n",
       "    <tr>\n",
       "      <th>0</th>\n",
       "      <td>G</td>\n",
       "      <td>_</td>\n",
       "      <td>ocupacion_nivel1</td>\n",
       "      <td>cagegoria</td>\n",
       "    </tr>\n",
       "  </tbody>\n",
       "</table>\n",
       "</div>"
      ],
      "text/plain": [
       "  related alive          new_code       code\n",
       "0       G     _  ocupacion_nivel1  cagegoria"
      ]
     },
     "execution_count": 695,
     "metadata": {},
     "output_type": "execute_result"
    }
   ],
   "source": [
    "exportar_categorias = pd.DataFrame({'related': ['G'],\n",
    "                                    'alive': ['_'],\n",
    "                                    'new_code': ['ocupacion_nivel1'],\n",
    "                                    'code': ['cagegoria']})\n",
    "exportar_categorias"
   ]
  },
  {
   "cell_type": "code",
   "execution_count": 696,
   "metadata": {
    "ExecuteTime": {
     "end_time": "2023-04-21T11:32:20.775232Z",
     "start_time": "2023-04-21T11:32:20.750691Z"
    },
    "collapsed": false
   },
   "outputs": [
    {
     "data": {
      "text/html": [
       "<div>\n",
       "<style scoped>\n",
       "    .dataframe tbody tr th:only-of-type {\n",
       "        vertical-align: middle;\n",
       "    }\n",
       "\n",
       "    .dataframe tbody tr th {\n",
       "        vertical-align: top;\n",
       "    }\n",
       "\n",
       "    .dataframe thead th {\n",
       "        text-align: right;\n",
       "    }\n",
       "</style>\n",
       "<table border=\"1\" class=\"dataframe\">\n",
       "  <thead>\n",
       "    <tr style=\"text-align: right;\">\n",
       "      <th></th>\n",
       "      <th>related</th>\n",
       "      <th>alive</th>\n",
       "      <th>new_code</th>\n",
       "      <th>code</th>\n",
       "      <th>_1</th>\n",
       "      <th>_2</th>\n",
       "      <th>_3</th>\n",
       "      <th>_4</th>\n",
       "      <th>_5</th>\n",
       "      <th>_6</th>\n",
       "      <th>...</th>\n",
       "      <th>_9</th>\n",
       "      <th>_10</th>\n",
       "      <th>_11</th>\n",
       "      <th>_12</th>\n",
       "      <th>_13</th>\n",
       "      <th>_14</th>\n",
       "      <th>_15</th>\n",
       "      <th>_16</th>\n",
       "      <th>_17</th>\n",
       "      <th>_18</th>\n",
       "    </tr>\n",
       "  </thead>\n",
       "  <tbody>\n",
       "    <tr>\n",
       "      <th>0</th>\n",
       "      <td>G</td>\n",
       "      <td>_</td>\n",
       "      <td>ocupacion_nivel1</td>\n",
       "      <td>cagegoria</td>\n",
       "      <td>A01 = actividades deportivas_1</td>\n",
       "      <td>A02 = artista_2</td>\n",
       "      <td>A03 = chofer_3</td>\n",
       "      <td>A04 = comerciante sector informal_4</td>\n",
       "      <td>A05 = comerciante sector formal_5</td>\n",
       "      <td>A06 = empresario_6</td>\n",
       "      <td>...</td>\n",
       "      <td>A09 = administrativo_9</td>\n",
       "      <td>A10 = gubernamental administrativo_10</td>\n",
       "      <td>A11 = empleado gubernamental_11</td>\n",
       "      <td>A13 = Ã¡rea educativa_13</td>\n",
       "      <td>A14 = profesionista independiente_14</td>\n",
       "      <td>A16 = Ã¡rea de la salud_16</td>\n",
       "      <td>A18 = fÃ¡brica_18</td>\n",
       "      <td>A20 = actividades elementales y de apoyo_20</td>\n",
       "      <td>A21 = oficios_21</td>\n",
       "      <td>A99 = desconocido_99</td>\n",
       "    </tr>\n",
       "  </tbody>\n",
       "</table>\n",
       "<p>1 rows × 22 columns</p>\n",
       "</div>"
      ],
      "text/plain": [
       "  related alive          new_code       code                              _1  \\\n",
       "0       G     _  ocupacion_nivel1  cagegoria  A01 = actividades deportivas_1   \n",
       "\n",
       "                _2              _3                                   _4  \\\n",
       "0  A02 = artista_2  A03 = chofer_3  A04 = comerciante sector informal_4   \n",
       "\n",
       "                                  _5                  _6  ...  \\\n",
       "0  A05 = comerciante sector formal_5  A06 = empresario_6  ...   \n",
       "\n",
       "                       _9                                    _10  \\\n",
       "0  A09 = administrativo_9  A10 = gubernamental administrativo_10   \n",
       "\n",
       "                               _11                       _12  \\\n",
       "0  A11 = empleado gubernamental_11  A13 = Ã¡rea educativa_13   \n",
       "\n",
       "                                    _13                         _14  \\\n",
       "0  A14 = profesionista independiente_14  A16 = Ã¡rea de la salud_16   \n",
       "\n",
       "                 _15                                          _16  \\\n",
       "0  A18 = fÃ¡brica_18  A20 = actividades elementales y de apoyo_20   \n",
       "\n",
       "                _17                   _18  \n",
       "0  A21 = oficios_21  A99 = desconocido_99  \n",
       "\n",
       "[1 rows x 22 columns]"
      ]
     },
     "execution_count": 696,
     "metadata": {},
     "output_type": "execute_result"
    }
   ],
   "source": [
    "for i in range(1, len(h) + 1):\n",
    "    exportar_categorias['_' + str(i)] = h[i - 1]\n",
    "\n",
    "exportar_categorias"
   ]
  }
 ],
 "metadata": {
  "kernelspec": {
   "display_name": "Python 3",
   "language": "python",
   "name": "python3"
  },
  "language_info": {
   "codemirror_mode": {
    "name": "ipython",
    "version": 3
   },
   "file_extension": ".py",
   "mimetype": "text/x-python",
   "name": "python",
   "nbconvert_exporter": "python",
   "pygments_lexer": "ipython3",
   "version": "3.11.2"
  }
 },
 "nbformat": 4,
 "nbformat_minor": 0
}
