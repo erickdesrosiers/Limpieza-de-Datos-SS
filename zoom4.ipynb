{
 "cells": [
  {
   "cell_type": "code",
   "execution_count": 1,
   "metadata": {
    "ExecuteTime": {
     "end_time": "2024-06-28T19:05:17.636177Z",
     "start_time": "2024-06-28T19:05:17.031557Z"
    }
   },
   "outputs": [
    {
     "name": "stderr",
     "output_type": "stream",
     "text": [
      "/Users/erickavendanogarcia/Downloads/servicio_social/venv/lib/python3.12/site-packages/fuzzywuzzy/fuzz.py:11: UserWarning: Using slow pure-python SequenceMatcher. Install python-Levenshtein to remove this warning\n",
      "  warnings.warn('Using slow pure-python SequenceMatcher. Install python-Levenshtein to remove this warning')\n"
     ]
    }
   ],
   "source": [
    "import functools\n",
    "import re\n",
    "\n",
    "import numpy as np\n",
    "import json\n",
    "import pandas as pd\n",
    "from fuzzywuzzy import process\n",
    "\n",
    "import auxiliar_4"
   ]
  },
  {
   "attachments": {},
   "cell_type": "markdown",
   "metadata": {},
   "source": [
    "# Encuesta"
   ]
  },
  {
   "cell_type": "code",
   "execution_count": 2,
   "metadata": {
    "ExecuteTime": {
     "end_time": "2024-06-28T19:05:17.759511Z",
     "start_time": "2024-06-28T19:05:17.638870Z"
    }
   },
   "outputs": [],
   "source": [
    "encuesta = pd.read_csv(r'datos/pareja-amigos.csv')\n",
    "encuesta.columns = encuesta.iloc[1]\n",
    "encuesta = encuesta.drop(encuesta.index[0:2])\n",
    "encuesta = encuesta.reset_index(drop=True)"
   ]
  },
  {
   "cell_type": "code",
   "outputs": [],
   "source": [
    "with open('../../encuestas/codigos_preguntas/propuesta.json', 'r', encoding='utf-8') as file:\n",
    "    codigos_ocupaciones = json.load(file)"
   ],
   "metadata": {
    "collapsed": false,
    "ExecuteTime": {
     "end_time": "2024-06-28T19:05:17.763739Z",
     "start_time": "2024-06-28T19:05:17.760809Z"
    }
   },
   "execution_count": 3
  },
  {
   "cell_type": "code",
   "outputs": [
    {
     "data": {
      "text/plain": "0                         entrenador\n1                         instructor\n2      profesor de clases deportivas\n3                              actor\n4                             ballet\n                   ...              \n119                           sastre\n120                         zapatero\n121                         zapatero\n122                         mecánico\n123                          ninguna\nLength: 124, dtype: object"
     },
     "execution_count": 4,
     "metadata": {},
     "output_type": "execute_result"
    }
   ],
   "source": [
    "trabajos_oficiales = pd.Series(dtype='string')\n",
    "for t in codigos_ocupaciones.values():\n",
    "    trabajos_oficiales = pd.concat([trabajos_oficiales, pd.Series(t)])\n",
    "trabajos_oficiales.reset_index(drop=True, inplace=True)\n",
    "trabajos_oficiales"
   ],
   "metadata": {
    "collapsed": false,
    "ExecuteTime": {
     "end_time": "2024-06-28T19:05:17.774024Z",
     "start_time": "2024-06-28T19:05:17.766242Z"
    }
   },
   "execution_count": 4
  },
  {
   "cell_type": "code",
   "outputs": [],
   "source": [
    "from auxiliar_4 import *"
   ],
   "metadata": {
    "collapsed": false,
    "ExecuteTime": {
     "end_time": "2024-06-28T19:05:17.776575Z",
     "start_time": "2024-06-28T19:05:17.774660Z"
    }
   },
   "execution_count": 5
  },
  {
   "cell_type": "code",
   "execution_count": 6,
   "metadata": {
    "ExecuteTime": {
     "end_time": "2024-06-28T19:05:17.786592Z",
     "start_time": "2024-06-28T19:05:17.777132Z"
    }
   },
   "outputs": [
    {
     "data": {
      "text/plain": "1  id                 token        submitdate lastpage startlanguage  \\\n0  32  {question_not_shown}  29/03/2021 11:56        1         es-MX   \n1  33  {question_not_shown}  29/03/2021 18:49        1         es-MX   \n2  34  {question_not_shown}  29/03/2021 21:06        1         es-MX   \n\n1        seed         startdate         datestamp             fecha folio  \\\n0  1382221824  29/03/2021 11:55  29/03/2021 11:56  29/03/2021 00:00  5298   \n1  2028599215  29/03/2021 18:31  29/03/2021 18:49  29/03/2021 00:00  5299   \n2  1266979119  29/03/2021 21:05  29/03/2021 21:06  30/03/2021 00:00  5298   \n\n1  ... q786969 q786969_other q67898 q67898_other q67890 q67890_other q3561  \\\n0  ...     NaN           NaN    NaN          NaN    NaN          NaN   NaN   \n1  ...      A4           NaN    NaN          NaN     A2          NaN    A3   \n2  ...     NaN           NaN    NaN          NaN    NaN          NaN   NaN   \n\n1 q3561_other q532 q532_other  \n0         NaN  NaN        NaN  \n1         NaN   A2        NaN  \n2         NaN  NaN        NaN  \n\n[3 rows x 898 columns]",
      "text/html": "<div>\n<style scoped>\n    .dataframe tbody tr th:only-of-type {\n        vertical-align: middle;\n    }\n\n    .dataframe tbody tr th {\n        vertical-align: top;\n    }\n\n    .dataframe thead th {\n        text-align: right;\n    }\n</style>\n<table border=\"1\" class=\"dataframe\">\n  <thead>\n    <tr style=\"text-align: right;\">\n      <th>1</th>\n      <th>id</th>\n      <th>token</th>\n      <th>submitdate</th>\n      <th>lastpage</th>\n      <th>startlanguage</th>\n      <th>seed</th>\n      <th>startdate</th>\n      <th>datestamp</th>\n      <th>fecha</th>\n      <th>folio</th>\n      <th>...</th>\n      <th>q786969</th>\n      <th>q786969_other</th>\n      <th>q67898</th>\n      <th>q67898_other</th>\n      <th>q67890</th>\n      <th>q67890_other</th>\n      <th>q3561</th>\n      <th>q3561_other</th>\n      <th>q532</th>\n      <th>q532_other</th>\n    </tr>\n  </thead>\n  <tbody>\n    <tr>\n      <th>0</th>\n      <td>32</td>\n      <td>{question_not_shown}</td>\n      <td>29/03/2021 11:56</td>\n      <td>1</td>\n      <td>es-MX</td>\n      <td>1382221824</td>\n      <td>29/03/2021 11:55</td>\n      <td>29/03/2021 11:56</td>\n      <td>29/03/2021 00:00</td>\n      <td>5298</td>\n      <td>...</td>\n      <td>NaN</td>\n      <td>NaN</td>\n      <td>NaN</td>\n      <td>NaN</td>\n      <td>NaN</td>\n      <td>NaN</td>\n      <td>NaN</td>\n      <td>NaN</td>\n      <td>NaN</td>\n      <td>NaN</td>\n    </tr>\n    <tr>\n      <th>1</th>\n      <td>33</td>\n      <td>{question_not_shown}</td>\n      <td>29/03/2021 18:49</td>\n      <td>1</td>\n      <td>es-MX</td>\n      <td>2028599215</td>\n      <td>29/03/2021 18:31</td>\n      <td>29/03/2021 18:49</td>\n      <td>29/03/2021 00:00</td>\n      <td>5299</td>\n      <td>...</td>\n      <td>A4</td>\n      <td>NaN</td>\n      <td>NaN</td>\n      <td>NaN</td>\n      <td>A2</td>\n      <td>NaN</td>\n      <td>A3</td>\n      <td>NaN</td>\n      <td>A2</td>\n      <td>NaN</td>\n    </tr>\n    <tr>\n      <th>2</th>\n      <td>34</td>\n      <td>{question_not_shown}</td>\n      <td>29/03/2021 21:06</td>\n      <td>1</td>\n      <td>es-MX</td>\n      <td>1266979119</td>\n      <td>29/03/2021 21:05</td>\n      <td>29/03/2021 21:06</td>\n      <td>30/03/2021 00:00</td>\n      <td>5298</td>\n      <td>...</td>\n      <td>NaN</td>\n      <td>NaN</td>\n      <td>NaN</td>\n      <td>NaN</td>\n      <td>NaN</td>\n      <td>NaN</td>\n      <td>NaN</td>\n      <td>NaN</td>\n      <td>NaN</td>\n      <td>NaN</td>\n    </tr>\n  </tbody>\n</table>\n<p>3 rows × 898 columns</p>\n</div>"
     },
     "execution_count": 6,
     "metadata": {},
     "output_type": "execute_result"
    }
   ],
   "source": [
    "encuesta.head(3)"
   ]
  },
  {
   "cell_type": "code",
   "outputs": [],
   "source": [],
   "metadata": {
    "collapsed": false,
    "ExecuteTime": {
     "end_time": "2024-06-28T19:05:17.788598Z",
     "start_time": "2024-06-28T19:05:17.787170Z"
    }
   },
   "execution_count": 6
  },
  {
   "cell_type": "markdown",
   "source": [
    "# Trabajo Pareja"
   ],
   "metadata": {
    "collapsed": false
   }
  },
  {
   "cell_type": "markdown",
   "source": [
    "## Limpieza Nivel 1"
   ],
   "metadata": {
    "collapsed": false
   }
  },
  {
   "cell_type": "code",
   "outputs": [
    {
     "data": {
      "text/plain": "0                    -oth-\n1                       10\n2                       11\n3                       12\n4                       16\n5                       17\n6                       18\n7                       19\n8                        2\n9                       20\n10                      21\n11                      22\n12                      24\n13                       3\n14                       4\n15                       5\n16                       6\n17                       7\n18                       8\n19                       9\n20    {question_not_shown}\nName: parejaq0r1001, dtype: object"
     },
     "execution_count": 7,
     "metadata": {},
     "output_type": "execute_result"
    }
   ],
   "source": [
    "mostrar_unicos(encuesta,\"parejaq0r1001\")"
   ],
   "metadata": {
    "collapsed": false,
    "ExecuteTime": {
     "end_time": "2024-06-28T19:05:17.793384Z",
     "start_time": "2024-06-28T19:05:17.789132Z"
    }
   },
   "execution_count": 7
  },
  {
   "cell_type": "code",
   "outputs": [],
   "source": [
    "mapeo_respuestas5 = {\n",
    "    '2': \"Actividades deportivas_1\",\n",
    "    '3': \"Artista_2\",\n",
    "    '4': \"Chofer_3\",\n",
    "    '5': \"Comerciante sector formal_4\",\n",
    "    '6': \"Comerciante sector informal_5\",\n",
    "    \"7\": \"Empresario_6\",\n",
    "    \"8\": \"Comercio Virtual_7\",\n",
    "    \"9\": \"Atención a clientes_8\",\n",
    "    \"10\": \"Administrativo_9\",\n",
    "    \"11\": \"Gubernamental administrativo_10\",\n",
    "    \"12\": \"Empleado gubernamental_11\",\n",
    "    \"15\": \"Operador de maquinaria móvil_12\",\n",
    "    \"16\": \"Personal técnico_13\",\n",
    "    \"17\": \"Área educativa_14\",\n",
    "    \"18\": \"Profesionista independiente_15\",\n",
    "    \"19\": \"Seguridad_16\",\n",
    "    \"20\": \"Área de la salud_17\",\n",
    "    \"21\": \"Construcción_18\",\n",
    "    \"22\": \"Fábrica_19\",\n",
    "    \"23\": \"Agricultura_20\",\n",
    "    \"24\": \"No trabaja/trabajaba_21\"\n",
    "}"
   ],
   "metadata": {
    "collapsed": false,
    "ExecuteTime": {
     "end_time": "2024-06-28T19:05:17.796741Z",
     "start_time": "2024-06-28T19:05:17.794277Z"
    }
   },
   "execution_count": 8
  },
  {
   "cell_type": "code",
   "outputs": [
    {
     "name": "stderr",
     "output_type": "stream",
     "text": [
      "/Users/erickavendanogarcia/Downloads/servicio_social/encuestas/Zoom4/auxiliar_4.py:143: FutureWarning: A value is trying to be set on a copy of a DataFrame or Series through chained assignment using an inplace method.\n",
      "The behavior will change in pandas 3.0. This inplace method will never work because the intermediate object on which we are setting values always behaves as a copy.\n",
      "\n",
      "For example, when doing 'df[col].method(value, inplace=True)', try using 'df.method({col: value}, inplace=True)' or df[col] = df[col].method(value) instead, to perform the operation inplace on the original object.\n",
      "\n",
      "\n",
      "  df[columna].fillna(valor, inplace=True)\n"
     ]
    }
   ],
   "source": [
    "llenar_respuesta_libre(encuesta, \"parejaq0r1001\", identificador_otro='-oth-', sufijo='_other')\n",
    "llenar_vacios(encuesta, \"parejaq0r1001\", 'ninguna')"
   ],
   "metadata": {
    "collapsed": false,
    "ExecuteTime": {
     "end_time": "2024-06-28T19:05:17.808257Z",
     "start_time": "2024-06-28T19:05:17.798984Z"
    }
   },
   "execution_count": 9
  },
  {
   "cell_type": "code",
   "outputs": [
    {
     "data": {
      "text/plain": "0            Actividades deportivas_1\n1                    Administrativo_9\n2                           Artista_2\n3               Atención a clientes_8\n4                            Chofer_3\n5         Comerciante sector formal_4\n6       Comerciante sector informal_5\n7                  Comercio Virtual_7\n8                     Construcción_18\n9           Empleado gubernamental_11\n10                       Empresario_6\n11                         Fábrica_19\n12    Gubernamental administrativo_10\n13            No trabaja/trabajaba_21\n14                Personal técnico_13\n15     Profesionista independiente_15\n16                       Seguridad_16\n17                            auditor\n18            cocinero en restaurante\n19            coordinador territorial\n20                         cordinador\n21                  cuartos de escape\n22                          diseñador\n23                           empleado\n24            empleado administrativo\n25                            estudia\n26                         estudiante\n27              estudiante ingeniería\n28                           estudiar\n29                    hace cinturones\n30                           herreria\n31             ingeniero electricista\n32              ingeniero en sistemas\n33               ingeniero industrial\n34                         ingeniería\n35              ingeniería industrial\n36             innovacion tecnologica\n37                      mantenimiento\n38                         mensajeria\n39                             mesero\n40                            ninguna\n41             producciones musicales\n42                         repartidor\n43                 trabaja en fabrica\n44                             ventas\n45               {question_not_shown}\n46                Área de la salud_17\n47                  Área educativa_14\nName: parejaq0r1001, dtype: object"
     },
     "execution_count": 10,
     "metadata": {},
     "output_type": "execute_result"
    }
   ],
   "source": [
    "encuesta['parejaq0r1001'] = encuesta['parejaq0r1001'].str.strip().str.lower()\n",
    "encuesta['parejaq0r1001'] = encuesta['parejaq0r1001'].replace(mapeo_respuestas5)\n",
    "mostrar_unicos(encuesta, \"parejaq0r1001\")"
   ],
   "metadata": {
    "collapsed": false,
    "ExecuteTime": {
     "end_time": "2024-06-28T19:05:17.814854Z",
     "start_time": "2024-06-28T19:05:17.808969Z"
    }
   },
   "execution_count": 10
  },
  {
   "cell_type": "markdown",
   "source": [
    "## Limpieza de Nivel 2"
   ],
   "metadata": {
    "collapsed": false
   }
  },
  {
   "cell_type": "markdown",
   "source": [
    "### Columnas base"
   ],
   "metadata": {
    "collapsed": false
   }
  },
  {
   "cell_type": "code",
   "outputs": [],
   "source": [
    "columnas_base5=['DEPORTE555','ART555','CHO5555', 'FOR555', 'INF555', 'EMPRE555', 'VIFT555', 'CLIE555','ADM555','EMPGU555', 'BUG55', 'MAQ555', 'TEC555', 'EDUC555', 'IND55', 'SEGU5', 'SALUD55', 'CONTR55', 'fabtr5', 'AGRICUL55']\n"
   ],
   "metadata": {
    "collapsed": false,
    "ExecuteTime": {
     "end_time": "2024-06-28T19:05:17.817660Z",
     "start_time": "2024-06-28T19:05:17.815581Z"
    }
   },
   "execution_count": 11
  },
  {
   "cell_type": "code",
   "outputs": [
    {
     "data": {
      "text/plain": "20"
     },
     "execution_count": 12,
     "metadata": {},
     "output_type": "execute_result"
    }
   ],
   "source": [
    "len(columnas_base5)"
   ],
   "metadata": {
    "collapsed": false,
    "ExecuteTime": {
     "end_time": "2024-06-28T19:05:17.821736Z",
     "start_time": "2024-06-28T19:05:17.818606Z"
    }
   },
   "execution_count": 12
  },
  {
   "cell_type": "code",
   "outputs": [
    {
     "data": {
      "text/plain": "1              DEPORTE555                ART555               CHO5555  \\\n0    {question_not_shown}  {question_not_shown}  {question_not_shown}   \n1    {question_not_shown}  {question_not_shown}  {question_not_shown}   \n2    {question_not_shown}  {question_not_shown}  {question_not_shown}   \n3    {question_not_shown}  {question_not_shown}  {question_not_shown}   \n4    {question_not_shown}  {question_not_shown}  {question_not_shown}   \n..                    ...                   ...                   ...   \n695  {question_not_shown}  {question_not_shown}  {question_not_shown}   \n696  {question_not_shown}  {question_not_shown}  {question_not_shown}   \n697  {question_not_shown}  {question_not_shown}  {question_not_shown}   \n698  {question_not_shown}  {question_not_shown}  {question_not_shown}   \n699  {question_not_shown}  {question_not_shown}  {question_not_shown}   \n\n1                  FOR555                INF555              EMPRE555  \\\n0    {question_not_shown}  {question_not_shown}  {question_not_shown}   \n1    {question_not_shown}  {question_not_shown}  {question_not_shown}   \n2    {question_not_shown}  {question_not_shown}  {question_not_shown}   \n3    {question_not_shown}  {question_not_shown}  {question_not_shown}   \n4    {question_not_shown}  {question_not_shown}  {question_not_shown}   \n..                    ...                   ...                   ...   \n695  {question_not_shown}  {question_not_shown}  {question_not_shown}   \n696  {question_not_shown}  {question_not_shown}  {question_not_shown}   \n697  {question_not_shown}  {question_not_shown}  {question_not_shown}   \n698  {question_not_shown}  {question_not_shown}  {question_not_shown}   \n699  {question_not_shown}  {question_not_shown}  {question_not_shown}   \n\n1                 VIFT555               CLIE555                ADM555  \\\n0    {question_not_shown}  {question_not_shown}  {question_not_shown}   \n1    {question_not_shown}  {question_not_shown}  {question_not_shown}   \n2    {question_not_shown}  {question_not_shown}  {question_not_shown}   \n3    {question_not_shown}  {question_not_shown}  {question_not_shown}   \n4    {question_not_shown}  {question_not_shown}  {question_not_shown}   \n..                    ...                   ...                   ...   \n695  {question_not_shown}  {question_not_shown}  {question_not_shown}   \n696  {question_not_shown}  {question_not_shown}  {question_not_shown}   \n697  {question_not_shown}  {question_not_shown}  {question_not_shown}   \n698  {question_not_shown}  {question_not_shown}  {question_not_shown}   \n699  {question_not_shown}  {question_not_shown}  {question_not_shown}   \n\n1                EMPGU555                 BUG55                MAQ555  \\\n0    {question_not_shown}  {question_not_shown}  {question_not_shown}   \n1    {question_not_shown}  {question_not_shown}  {question_not_shown}   \n2    {question_not_shown}  {question_not_shown}  {question_not_shown}   \n3    {question_not_shown}  {question_not_shown}  {question_not_shown}   \n4    {question_not_shown}  {question_not_shown}  {question_not_shown}   \n..                    ...                   ...                   ...   \n695  {question_not_shown}  {question_not_shown}  {question_not_shown}   \n696  {question_not_shown}  {question_not_shown}  {question_not_shown}   \n697  {question_not_shown}  {question_not_shown}  {question_not_shown}   \n698  {question_not_shown}  {question_not_shown}  {question_not_shown}   \n699  {question_not_shown}  {question_not_shown}  {question_not_shown}   \n\n1                  TEC555               EDUC555                 IND55  \\\n0    {question_not_shown}  {question_not_shown}  {question_not_shown}   \n1    {question_not_shown}  {question_not_shown}  {question_not_shown}   \n2    {question_not_shown}  {question_not_shown}  {question_not_shown}   \n3    {question_not_shown}  {question_not_shown}  {question_not_shown}   \n4    {question_not_shown}  {question_not_shown}  {question_not_shown}   \n..                    ...                   ...                   ...   \n695  {question_not_shown}  {question_not_shown}  {question_not_shown}   \n696  {question_not_shown}  {question_not_shown}  {question_not_shown}   \n697  {question_not_shown}                    A2  {question_not_shown}   \n698  {question_not_shown}  {question_not_shown}  {question_not_shown}   \n699  {question_not_shown}  {question_not_shown}  {question_not_shown}   \n\n1                   SEGU5               SALUD55               CONTR55  \\\n0    {question_not_shown}  {question_not_shown}  {question_not_shown}   \n1    {question_not_shown}  {question_not_shown}  {question_not_shown}   \n2    {question_not_shown}  {question_not_shown}  {question_not_shown}   \n3    {question_not_shown}  {question_not_shown}  {question_not_shown}   \n4    {question_not_shown}  {question_not_shown}  {question_not_shown}   \n..                    ...                   ...                   ...   \n695  {question_not_shown}  {question_not_shown}  {question_not_shown}   \n696  {question_not_shown}  {question_not_shown}  {question_not_shown}   \n697  {question_not_shown}  {question_not_shown}  {question_not_shown}   \n698  {question_not_shown}  {question_not_shown}  {question_not_shown}   \n699  {question_not_shown}  {question_not_shown}  {question_not_shown}   \n\n1                  fabtr5             AGRICUL55  \n0    {question_not_shown}  {question_not_shown}  \n1    {question_not_shown}  {question_not_shown}  \n2    {question_not_shown}  {question_not_shown}  \n3    {question_not_shown}  {question_not_shown}  \n4    {question_not_shown}  {question_not_shown}  \n..                    ...                   ...  \n695                    A2  {question_not_shown}  \n696  {question_not_shown}  {question_not_shown}  \n697  {question_not_shown}  {question_not_shown}  \n698  {question_not_shown}  {question_not_shown}  \n699  {question_not_shown}  {question_not_shown}  \n\n[700 rows x 20 columns]",
      "text/html": "<div>\n<style scoped>\n    .dataframe tbody tr th:only-of-type {\n        vertical-align: middle;\n    }\n\n    .dataframe tbody tr th {\n        vertical-align: top;\n    }\n\n    .dataframe thead th {\n        text-align: right;\n    }\n</style>\n<table border=\"1\" class=\"dataframe\">\n  <thead>\n    <tr style=\"text-align: right;\">\n      <th>1</th>\n      <th>DEPORTE555</th>\n      <th>ART555</th>\n      <th>CHO5555</th>\n      <th>FOR555</th>\n      <th>INF555</th>\n      <th>EMPRE555</th>\n      <th>VIFT555</th>\n      <th>CLIE555</th>\n      <th>ADM555</th>\n      <th>EMPGU555</th>\n      <th>BUG55</th>\n      <th>MAQ555</th>\n      <th>TEC555</th>\n      <th>EDUC555</th>\n      <th>IND55</th>\n      <th>SEGU5</th>\n      <th>SALUD55</th>\n      <th>CONTR55</th>\n      <th>fabtr5</th>\n      <th>AGRICUL55</th>\n    </tr>\n  </thead>\n  <tbody>\n    <tr>\n      <th>0</th>\n      <td>{question_not_shown}</td>\n      <td>{question_not_shown}</td>\n      <td>{question_not_shown}</td>\n      <td>{question_not_shown}</td>\n      <td>{question_not_shown}</td>\n      <td>{question_not_shown}</td>\n      <td>{question_not_shown}</td>\n      <td>{question_not_shown}</td>\n      <td>{question_not_shown}</td>\n      <td>{question_not_shown}</td>\n      <td>{question_not_shown}</td>\n      <td>{question_not_shown}</td>\n      <td>{question_not_shown}</td>\n      <td>{question_not_shown}</td>\n      <td>{question_not_shown}</td>\n      <td>{question_not_shown}</td>\n      <td>{question_not_shown}</td>\n      <td>{question_not_shown}</td>\n      <td>{question_not_shown}</td>\n      <td>{question_not_shown}</td>\n    </tr>\n    <tr>\n      <th>1</th>\n      <td>{question_not_shown}</td>\n      <td>{question_not_shown}</td>\n      <td>{question_not_shown}</td>\n      <td>{question_not_shown}</td>\n      <td>{question_not_shown}</td>\n      <td>{question_not_shown}</td>\n      <td>{question_not_shown}</td>\n      <td>{question_not_shown}</td>\n      <td>{question_not_shown}</td>\n      <td>{question_not_shown}</td>\n      <td>{question_not_shown}</td>\n      <td>{question_not_shown}</td>\n      <td>{question_not_shown}</td>\n      <td>{question_not_shown}</td>\n      <td>{question_not_shown}</td>\n      <td>{question_not_shown}</td>\n      <td>{question_not_shown}</td>\n      <td>{question_not_shown}</td>\n      <td>{question_not_shown}</td>\n      <td>{question_not_shown}</td>\n    </tr>\n    <tr>\n      <th>2</th>\n      <td>{question_not_shown}</td>\n      <td>{question_not_shown}</td>\n      <td>{question_not_shown}</td>\n      <td>{question_not_shown}</td>\n      <td>{question_not_shown}</td>\n      <td>{question_not_shown}</td>\n      <td>{question_not_shown}</td>\n      <td>{question_not_shown}</td>\n      <td>{question_not_shown}</td>\n      <td>{question_not_shown}</td>\n      <td>{question_not_shown}</td>\n      <td>{question_not_shown}</td>\n      <td>{question_not_shown}</td>\n      <td>{question_not_shown}</td>\n      <td>{question_not_shown}</td>\n      <td>{question_not_shown}</td>\n      <td>{question_not_shown}</td>\n      <td>{question_not_shown}</td>\n      <td>{question_not_shown}</td>\n      <td>{question_not_shown}</td>\n    </tr>\n    <tr>\n      <th>3</th>\n      <td>{question_not_shown}</td>\n      <td>{question_not_shown}</td>\n      <td>{question_not_shown}</td>\n      <td>{question_not_shown}</td>\n      <td>{question_not_shown}</td>\n      <td>{question_not_shown}</td>\n      <td>{question_not_shown}</td>\n      <td>{question_not_shown}</td>\n      <td>{question_not_shown}</td>\n      <td>{question_not_shown}</td>\n      <td>{question_not_shown}</td>\n      <td>{question_not_shown}</td>\n      <td>{question_not_shown}</td>\n      <td>{question_not_shown}</td>\n      <td>{question_not_shown}</td>\n      <td>{question_not_shown}</td>\n      <td>{question_not_shown}</td>\n      <td>{question_not_shown}</td>\n      <td>{question_not_shown}</td>\n      <td>{question_not_shown}</td>\n    </tr>\n    <tr>\n      <th>4</th>\n      <td>{question_not_shown}</td>\n      <td>{question_not_shown}</td>\n      <td>{question_not_shown}</td>\n      <td>{question_not_shown}</td>\n      <td>{question_not_shown}</td>\n      <td>{question_not_shown}</td>\n      <td>{question_not_shown}</td>\n      <td>{question_not_shown}</td>\n      <td>{question_not_shown}</td>\n      <td>{question_not_shown}</td>\n      <td>{question_not_shown}</td>\n      <td>{question_not_shown}</td>\n      <td>{question_not_shown}</td>\n      <td>{question_not_shown}</td>\n      <td>{question_not_shown}</td>\n      <td>{question_not_shown}</td>\n      <td>{question_not_shown}</td>\n      <td>{question_not_shown}</td>\n      <td>{question_not_shown}</td>\n      <td>{question_not_shown}</td>\n    </tr>\n    <tr>\n      <th>...</th>\n      <td>...</td>\n      <td>...</td>\n      <td>...</td>\n      <td>...</td>\n      <td>...</td>\n      <td>...</td>\n      <td>...</td>\n      <td>...</td>\n      <td>...</td>\n      <td>...</td>\n      <td>...</td>\n      <td>...</td>\n      <td>...</td>\n      <td>...</td>\n      <td>...</td>\n      <td>...</td>\n      <td>...</td>\n      <td>...</td>\n      <td>...</td>\n      <td>...</td>\n    </tr>\n    <tr>\n      <th>695</th>\n      <td>{question_not_shown}</td>\n      <td>{question_not_shown}</td>\n      <td>{question_not_shown}</td>\n      <td>{question_not_shown}</td>\n      <td>{question_not_shown}</td>\n      <td>{question_not_shown}</td>\n      <td>{question_not_shown}</td>\n      <td>{question_not_shown}</td>\n      <td>{question_not_shown}</td>\n      <td>{question_not_shown}</td>\n      <td>{question_not_shown}</td>\n      <td>{question_not_shown}</td>\n      <td>{question_not_shown}</td>\n      <td>{question_not_shown}</td>\n      <td>{question_not_shown}</td>\n      <td>{question_not_shown}</td>\n      <td>{question_not_shown}</td>\n      <td>{question_not_shown}</td>\n      <td>A2</td>\n      <td>{question_not_shown}</td>\n    </tr>\n    <tr>\n      <th>696</th>\n      <td>{question_not_shown}</td>\n      <td>{question_not_shown}</td>\n      <td>{question_not_shown}</td>\n      <td>{question_not_shown}</td>\n      <td>{question_not_shown}</td>\n      <td>{question_not_shown}</td>\n      <td>{question_not_shown}</td>\n      <td>{question_not_shown}</td>\n      <td>{question_not_shown}</td>\n      <td>{question_not_shown}</td>\n      <td>{question_not_shown}</td>\n      <td>{question_not_shown}</td>\n      <td>{question_not_shown}</td>\n      <td>{question_not_shown}</td>\n      <td>{question_not_shown}</td>\n      <td>{question_not_shown}</td>\n      <td>{question_not_shown}</td>\n      <td>{question_not_shown}</td>\n      <td>{question_not_shown}</td>\n      <td>{question_not_shown}</td>\n    </tr>\n    <tr>\n      <th>697</th>\n      <td>{question_not_shown}</td>\n      <td>{question_not_shown}</td>\n      <td>{question_not_shown}</td>\n      <td>{question_not_shown}</td>\n      <td>{question_not_shown}</td>\n      <td>{question_not_shown}</td>\n      <td>{question_not_shown}</td>\n      <td>{question_not_shown}</td>\n      <td>{question_not_shown}</td>\n      <td>{question_not_shown}</td>\n      <td>{question_not_shown}</td>\n      <td>{question_not_shown}</td>\n      <td>{question_not_shown}</td>\n      <td>A2</td>\n      <td>{question_not_shown}</td>\n      <td>{question_not_shown}</td>\n      <td>{question_not_shown}</td>\n      <td>{question_not_shown}</td>\n      <td>{question_not_shown}</td>\n      <td>{question_not_shown}</td>\n    </tr>\n    <tr>\n      <th>698</th>\n      <td>{question_not_shown}</td>\n      <td>{question_not_shown}</td>\n      <td>{question_not_shown}</td>\n      <td>{question_not_shown}</td>\n      <td>{question_not_shown}</td>\n      <td>{question_not_shown}</td>\n      <td>{question_not_shown}</td>\n      <td>{question_not_shown}</td>\n      <td>{question_not_shown}</td>\n      <td>{question_not_shown}</td>\n      <td>{question_not_shown}</td>\n      <td>{question_not_shown}</td>\n      <td>{question_not_shown}</td>\n      <td>{question_not_shown}</td>\n      <td>{question_not_shown}</td>\n      <td>{question_not_shown}</td>\n      <td>{question_not_shown}</td>\n      <td>{question_not_shown}</td>\n      <td>{question_not_shown}</td>\n      <td>{question_not_shown}</td>\n    </tr>\n    <tr>\n      <th>699</th>\n      <td>{question_not_shown}</td>\n      <td>{question_not_shown}</td>\n      <td>{question_not_shown}</td>\n      <td>{question_not_shown}</td>\n      <td>{question_not_shown}</td>\n      <td>{question_not_shown}</td>\n      <td>{question_not_shown}</td>\n      <td>{question_not_shown}</td>\n      <td>{question_not_shown}</td>\n      <td>{question_not_shown}</td>\n      <td>{question_not_shown}</td>\n      <td>{question_not_shown}</td>\n      <td>{question_not_shown}</td>\n      <td>{question_not_shown}</td>\n      <td>{question_not_shown}</td>\n      <td>{question_not_shown}</td>\n      <td>{question_not_shown}</td>\n      <td>{question_not_shown}</td>\n      <td>{question_not_shown}</td>\n      <td>{question_not_shown}</td>\n    </tr>\n  </tbody>\n</table>\n<p>700 rows × 20 columns</p>\n</div>"
     },
     "execution_count": 13,
     "metadata": {},
     "output_type": "execute_result"
    }
   ],
   "source": [
    "encuesta[columnas_base5]"
   ],
   "metadata": {
    "collapsed": false,
    "ExecuteTime": {
     "end_time": "2024-06-28T19:05:17.831397Z",
     "start_time": "2024-06-28T19:05:17.822560Z"
    }
   },
   "execution_count": 13
  },
  {
   "cell_type": "code",
   "outputs": [],
   "source": [
    "encuesta['DEPORTE555'] = encuesta['DEPORTE555'].replace({'A2': 'Entrenador de gimnasio_1','A3': 'Profesor de clases deportivas_2'})\n",
    "encuesta['ART555'] = encuesta['ART555'].replace({'A2': 'Fotógrafo_1', 'A3': 'Pintor_2','A4': 'Músico_3', 'A5':'Cantante_4'})\n",
    "encuesta['CHO5555'] = encuesta['CHO5555'].replace({'A2': 'Taxista_1', 'A3': 'Uber_2','A4': 'Microbús_3', 'A5':'Camiones_4'})\n",
    "encuesta['VIFT555'] = encuesta['VIFT555'].replace({'A2': 'Vendedor de productos por internet (mercado pago, amazon, instagram, etc.)_1'})\n",
    "encuesta['INF555'] = encuesta['INF555'].replace({'A2': 'Vendedor de comida_1','A3':' Periódicos_2','A4':'Flores y productos en un puesto no establecido_3','A5':'Productos en un puesto no establecido'})\n",
    "\n",
    "encuesta['FOR555'] = encuesta['FOR555'].replace({'A2': 'Vendedor por cuenta propia (negocio propio)_1'})\n",
    "\n",
    "encuesta['EMPRE555'] = encuesta['EMPRE555'].replace({'A2': 'Dueño_1','A3':'Director o gerente_2'})\n",
    "encuesta['CLIE555'] = encuesta['CLIE555'].replace({'A5': 'Promotor de seguros_4','A4':'Vendedor de tiendas departamentales_3','A2':'Atención a clientes_1','A3':'Recepcionista_2', 'A6':'Telefonía_5'})\n",
    "encuesta['ADM555'] = encuesta['ADM555'].replace({'A2': 'Contador público_1','A3':'Administrador_2','A4':'Recursos humanos_3'})\n",
    "\n",
    "encuesta['BUG55'] = encuesta['BUG55'].replace({'A2': 'Jefe de departamento_1','A3':'Jefe de área, subdirector_2','A4':'Subadministrador_3','A5':' Director_4','A6':'Administrador_5','A7':'Director general_6','A8':'Administrador general_7'})\n",
    "\n",
    "encuesta['CONTR55'] = encuesta['CONTR55'].replace({'A2': 'Arquitecto_1','A3':'Ingeniero civil/albañil o trabajador general_2'})\n",
    "encuesta['fabtr5'] = encuesta['fabtr5'].replace({'A2': 'Empleado_1'})"
   ],
   "metadata": {
    "collapsed": false,
    "ExecuteTime": {
     "end_time": "2024-06-28T19:05:17.842568Z",
     "start_time": "2024-06-28T19:05:17.832046Z"
    }
   },
   "execution_count": 14
  },
  {
   "cell_type": "code",
   "outputs": [],
   "source": [
    "encuesta['SALUD55'] = encuesta['SALUD55'].replace(\n",
    "    {'A2': 'Médico_1', 'A3': 'Enfermera_2', 'A4': 'Camillero_3', 'A5': 'Paramédico_4'})\n",
    "encuesta['EDUC555'] = encuesta['EDUC555'].replace(\n",
    "    {'A2': 'Investigador-profesor en universidad/preparatoria_1', 'A3': 'Educación básica_2',\n",
    "     'A4': 'Técnico en educación (educador o guardería)_3'})\n",
    "encuesta['IND55'] = encuesta['IND55'].replace(\n",
    "    {'A2': 'Abogado_1', 'A3': 'Psicólogo_2', 'A4': 'Contador_3', 'A5': 'Dentista_4', 'A6': 'Médico independiente_5',\n",
    "     'A7': ' Terapeuta_6'})\n",
    "encuesta['SEGU5'] = encuesta['SEGU5'].replace(\n",
    "    {'A2': 'Guardaespaldas_1', 'A3': 'Patrullero_2', 'A4': 'Vigilante_3', 'A5': 'Empleado de seguridad en bancos_4',\n",
    "     'A6': 'Empleado de seguridad privada_5', 'A7': 'Policía de tránsito_6'})"
   ],
   "metadata": {
    "collapsed": false,
    "ExecuteTime": {
     "end_time": "2024-06-28T19:05:17.901535Z",
     "start_time": "2024-06-28T19:05:17.896839Z"
    }
   },
   "execution_count": 15
  },
  {
   "cell_type": "code",
   "outputs": [],
   "source": [
    "encuesta['TEC555'] = encuesta['TEC555_comment']\n",
    "encuesta['EMPGU555']=encuesta['EMPGU555_comment']\n"
   ],
   "metadata": {
    "collapsed": false,
    "ExecuteTime": {
     "end_time": "2024-06-28T19:05:17.999070Z",
     "start_time": "2024-06-28T19:05:17.996222Z"
    }
   },
   "execution_count": 16
  },
  {
   "cell_type": "code",
   "outputs": [
    {
     "data": {
      "text/plain": "1              DEPORTE555                ART555               CHO5555  \\\n0    {question_not_shown}  {question_not_shown}  {question_not_shown}   \n1    {question_not_shown}  {question_not_shown}  {question_not_shown}   \n2    {question_not_shown}  {question_not_shown}  {question_not_shown}   \n3    {question_not_shown}  {question_not_shown}  {question_not_shown}   \n4    {question_not_shown}  {question_not_shown}  {question_not_shown}   \n..                    ...                   ...                   ...   \n695  {question_not_shown}  {question_not_shown}  {question_not_shown}   \n696  {question_not_shown}  {question_not_shown}  {question_not_shown}   \n697  {question_not_shown}  {question_not_shown}  {question_not_shown}   \n698  {question_not_shown}  {question_not_shown}  {question_not_shown}   \n699  {question_not_shown}  {question_not_shown}  {question_not_shown}   \n\n1                  FOR555                INF555              EMPRE555  \\\n0    {question_not_shown}  {question_not_shown}  {question_not_shown}   \n1    {question_not_shown}  {question_not_shown}  {question_not_shown}   \n2    {question_not_shown}  {question_not_shown}  {question_not_shown}   \n3    {question_not_shown}  {question_not_shown}  {question_not_shown}   \n4    {question_not_shown}  {question_not_shown}  {question_not_shown}   \n..                    ...                   ...                   ...   \n695  {question_not_shown}  {question_not_shown}  {question_not_shown}   \n696  {question_not_shown}  {question_not_shown}  {question_not_shown}   \n697  {question_not_shown}  {question_not_shown}  {question_not_shown}   \n698  {question_not_shown}  {question_not_shown}  {question_not_shown}   \n699  {question_not_shown}  {question_not_shown}  {question_not_shown}   \n\n1                 VIFT555               CLIE555                ADM555  \\\n0    {question_not_shown}  {question_not_shown}  {question_not_shown}   \n1    {question_not_shown}  {question_not_shown}  {question_not_shown}   \n2    {question_not_shown}  {question_not_shown}  {question_not_shown}   \n3    {question_not_shown}  {question_not_shown}  {question_not_shown}   \n4    {question_not_shown}  {question_not_shown}  {question_not_shown}   \n..                    ...                   ...                   ...   \n695  {question_not_shown}  {question_not_shown}  {question_not_shown}   \n696  {question_not_shown}  {question_not_shown}  {question_not_shown}   \n697  {question_not_shown}  {question_not_shown}  {question_not_shown}   \n698  {question_not_shown}  {question_not_shown}  {question_not_shown}   \n699  {question_not_shown}  {question_not_shown}  {question_not_shown}   \n\n1                EMPGU555                 BUG55                MAQ555  \\\n0    {question_not_shown}  {question_not_shown}  {question_not_shown}   \n1    {question_not_shown}  {question_not_shown}  {question_not_shown}   \n2    {question_not_shown}  {question_not_shown}  {question_not_shown}   \n3    {question_not_shown}  {question_not_shown}  {question_not_shown}   \n4    {question_not_shown}  {question_not_shown}  {question_not_shown}   \n..                    ...                   ...                   ...   \n695  {question_not_shown}  {question_not_shown}  {question_not_shown}   \n696  {question_not_shown}  {question_not_shown}  {question_not_shown}   \n697  {question_not_shown}  {question_not_shown}  {question_not_shown}   \n698  {question_not_shown}  {question_not_shown}  {question_not_shown}   \n699  {question_not_shown}  {question_not_shown}  {question_not_shown}   \n\n1                  TEC555                                            EDUC555  \\\n0    {question_not_shown}                               {question_not_shown}   \n1    {question_not_shown}                               {question_not_shown}   \n2    {question_not_shown}                               {question_not_shown}   \n3    {question_not_shown}                               {question_not_shown}   \n4    {question_not_shown}                               {question_not_shown}   \n..                    ...                                                ...   \n695  {question_not_shown}                               {question_not_shown}   \n696  {question_not_shown}                               {question_not_shown}   \n697  {question_not_shown}  Investigador-profesor en universidad/preparato...   \n698  {question_not_shown}                               {question_not_shown}   \n699  {question_not_shown}                               {question_not_shown}   \n\n1                   IND55                 SEGU5               SALUD55  \\\n0    {question_not_shown}  {question_not_shown}  {question_not_shown}   \n1    {question_not_shown}  {question_not_shown}  {question_not_shown}   \n2    {question_not_shown}  {question_not_shown}  {question_not_shown}   \n3    {question_not_shown}  {question_not_shown}  {question_not_shown}   \n4    {question_not_shown}  {question_not_shown}  {question_not_shown}   \n..                    ...                   ...                   ...   \n695  {question_not_shown}  {question_not_shown}  {question_not_shown}   \n696  {question_not_shown}  {question_not_shown}  {question_not_shown}   \n697  {question_not_shown}  {question_not_shown}  {question_not_shown}   \n698  {question_not_shown}  {question_not_shown}  {question_not_shown}   \n699  {question_not_shown}  {question_not_shown}  {question_not_shown}   \n\n1                 CONTR55                fabtr5             AGRICUL55  \n0    {question_not_shown}  {question_not_shown}  {question_not_shown}  \n1    {question_not_shown}  {question_not_shown}  {question_not_shown}  \n2    {question_not_shown}  {question_not_shown}  {question_not_shown}  \n3    {question_not_shown}  {question_not_shown}  {question_not_shown}  \n4    {question_not_shown}  {question_not_shown}  {question_not_shown}  \n..                    ...                   ...                   ...  \n695  {question_not_shown}            Empleado_1  {question_not_shown}  \n696  {question_not_shown}  {question_not_shown}  {question_not_shown}  \n697  {question_not_shown}  {question_not_shown}  {question_not_shown}  \n698  {question_not_shown}  {question_not_shown}  {question_not_shown}  \n699  {question_not_shown}  {question_not_shown}  {question_not_shown}  \n\n[700 rows x 20 columns]",
      "text/html": "<div>\n<style scoped>\n    .dataframe tbody tr th:only-of-type {\n        vertical-align: middle;\n    }\n\n    .dataframe tbody tr th {\n        vertical-align: top;\n    }\n\n    .dataframe thead th {\n        text-align: right;\n    }\n</style>\n<table border=\"1\" class=\"dataframe\">\n  <thead>\n    <tr style=\"text-align: right;\">\n      <th>1</th>\n      <th>DEPORTE555</th>\n      <th>ART555</th>\n      <th>CHO5555</th>\n      <th>FOR555</th>\n      <th>INF555</th>\n      <th>EMPRE555</th>\n      <th>VIFT555</th>\n      <th>CLIE555</th>\n      <th>ADM555</th>\n      <th>EMPGU555</th>\n      <th>BUG55</th>\n      <th>MAQ555</th>\n      <th>TEC555</th>\n      <th>EDUC555</th>\n      <th>IND55</th>\n      <th>SEGU5</th>\n      <th>SALUD55</th>\n      <th>CONTR55</th>\n      <th>fabtr5</th>\n      <th>AGRICUL55</th>\n    </tr>\n  </thead>\n  <tbody>\n    <tr>\n      <th>0</th>\n      <td>{question_not_shown}</td>\n      <td>{question_not_shown}</td>\n      <td>{question_not_shown}</td>\n      <td>{question_not_shown}</td>\n      <td>{question_not_shown}</td>\n      <td>{question_not_shown}</td>\n      <td>{question_not_shown}</td>\n      <td>{question_not_shown}</td>\n      <td>{question_not_shown}</td>\n      <td>{question_not_shown}</td>\n      <td>{question_not_shown}</td>\n      <td>{question_not_shown}</td>\n      <td>{question_not_shown}</td>\n      <td>{question_not_shown}</td>\n      <td>{question_not_shown}</td>\n      <td>{question_not_shown}</td>\n      <td>{question_not_shown}</td>\n      <td>{question_not_shown}</td>\n      <td>{question_not_shown}</td>\n      <td>{question_not_shown}</td>\n    </tr>\n    <tr>\n      <th>1</th>\n      <td>{question_not_shown}</td>\n      <td>{question_not_shown}</td>\n      <td>{question_not_shown}</td>\n      <td>{question_not_shown}</td>\n      <td>{question_not_shown}</td>\n      <td>{question_not_shown}</td>\n      <td>{question_not_shown}</td>\n      <td>{question_not_shown}</td>\n      <td>{question_not_shown}</td>\n      <td>{question_not_shown}</td>\n      <td>{question_not_shown}</td>\n      <td>{question_not_shown}</td>\n      <td>{question_not_shown}</td>\n      <td>{question_not_shown}</td>\n      <td>{question_not_shown}</td>\n      <td>{question_not_shown}</td>\n      <td>{question_not_shown}</td>\n      <td>{question_not_shown}</td>\n      <td>{question_not_shown}</td>\n      <td>{question_not_shown}</td>\n    </tr>\n    <tr>\n      <th>2</th>\n      <td>{question_not_shown}</td>\n      <td>{question_not_shown}</td>\n      <td>{question_not_shown}</td>\n      <td>{question_not_shown}</td>\n      <td>{question_not_shown}</td>\n      <td>{question_not_shown}</td>\n      <td>{question_not_shown}</td>\n      <td>{question_not_shown}</td>\n      <td>{question_not_shown}</td>\n      <td>{question_not_shown}</td>\n      <td>{question_not_shown}</td>\n      <td>{question_not_shown}</td>\n      <td>{question_not_shown}</td>\n      <td>{question_not_shown}</td>\n      <td>{question_not_shown}</td>\n      <td>{question_not_shown}</td>\n      <td>{question_not_shown}</td>\n      <td>{question_not_shown}</td>\n      <td>{question_not_shown}</td>\n      <td>{question_not_shown}</td>\n    </tr>\n    <tr>\n      <th>3</th>\n      <td>{question_not_shown}</td>\n      <td>{question_not_shown}</td>\n      <td>{question_not_shown}</td>\n      <td>{question_not_shown}</td>\n      <td>{question_not_shown}</td>\n      <td>{question_not_shown}</td>\n      <td>{question_not_shown}</td>\n      <td>{question_not_shown}</td>\n      <td>{question_not_shown}</td>\n      <td>{question_not_shown}</td>\n      <td>{question_not_shown}</td>\n      <td>{question_not_shown}</td>\n      <td>{question_not_shown}</td>\n      <td>{question_not_shown}</td>\n      <td>{question_not_shown}</td>\n      <td>{question_not_shown}</td>\n      <td>{question_not_shown}</td>\n      <td>{question_not_shown}</td>\n      <td>{question_not_shown}</td>\n      <td>{question_not_shown}</td>\n    </tr>\n    <tr>\n      <th>4</th>\n      <td>{question_not_shown}</td>\n      <td>{question_not_shown}</td>\n      <td>{question_not_shown}</td>\n      <td>{question_not_shown}</td>\n      <td>{question_not_shown}</td>\n      <td>{question_not_shown}</td>\n      <td>{question_not_shown}</td>\n      <td>{question_not_shown}</td>\n      <td>{question_not_shown}</td>\n      <td>{question_not_shown}</td>\n      <td>{question_not_shown}</td>\n      <td>{question_not_shown}</td>\n      <td>{question_not_shown}</td>\n      <td>{question_not_shown}</td>\n      <td>{question_not_shown}</td>\n      <td>{question_not_shown}</td>\n      <td>{question_not_shown}</td>\n      <td>{question_not_shown}</td>\n      <td>{question_not_shown}</td>\n      <td>{question_not_shown}</td>\n    </tr>\n    <tr>\n      <th>...</th>\n      <td>...</td>\n      <td>...</td>\n      <td>...</td>\n      <td>...</td>\n      <td>...</td>\n      <td>...</td>\n      <td>...</td>\n      <td>...</td>\n      <td>...</td>\n      <td>...</td>\n      <td>...</td>\n      <td>...</td>\n      <td>...</td>\n      <td>...</td>\n      <td>...</td>\n      <td>...</td>\n      <td>...</td>\n      <td>...</td>\n      <td>...</td>\n      <td>...</td>\n    </tr>\n    <tr>\n      <th>695</th>\n      <td>{question_not_shown}</td>\n      <td>{question_not_shown}</td>\n      <td>{question_not_shown}</td>\n      <td>{question_not_shown}</td>\n      <td>{question_not_shown}</td>\n      <td>{question_not_shown}</td>\n      <td>{question_not_shown}</td>\n      <td>{question_not_shown}</td>\n      <td>{question_not_shown}</td>\n      <td>{question_not_shown}</td>\n      <td>{question_not_shown}</td>\n      <td>{question_not_shown}</td>\n      <td>{question_not_shown}</td>\n      <td>{question_not_shown}</td>\n      <td>{question_not_shown}</td>\n      <td>{question_not_shown}</td>\n      <td>{question_not_shown}</td>\n      <td>{question_not_shown}</td>\n      <td>Empleado_1</td>\n      <td>{question_not_shown}</td>\n    </tr>\n    <tr>\n      <th>696</th>\n      <td>{question_not_shown}</td>\n      <td>{question_not_shown}</td>\n      <td>{question_not_shown}</td>\n      <td>{question_not_shown}</td>\n      <td>{question_not_shown}</td>\n      <td>{question_not_shown}</td>\n      <td>{question_not_shown}</td>\n      <td>{question_not_shown}</td>\n      <td>{question_not_shown}</td>\n      <td>{question_not_shown}</td>\n      <td>{question_not_shown}</td>\n      <td>{question_not_shown}</td>\n      <td>{question_not_shown}</td>\n      <td>{question_not_shown}</td>\n      <td>{question_not_shown}</td>\n      <td>{question_not_shown}</td>\n      <td>{question_not_shown}</td>\n      <td>{question_not_shown}</td>\n      <td>{question_not_shown}</td>\n      <td>{question_not_shown}</td>\n    </tr>\n    <tr>\n      <th>697</th>\n      <td>{question_not_shown}</td>\n      <td>{question_not_shown}</td>\n      <td>{question_not_shown}</td>\n      <td>{question_not_shown}</td>\n      <td>{question_not_shown}</td>\n      <td>{question_not_shown}</td>\n      <td>{question_not_shown}</td>\n      <td>{question_not_shown}</td>\n      <td>{question_not_shown}</td>\n      <td>{question_not_shown}</td>\n      <td>{question_not_shown}</td>\n      <td>{question_not_shown}</td>\n      <td>{question_not_shown}</td>\n      <td>Investigador-profesor en universidad/preparato...</td>\n      <td>{question_not_shown}</td>\n      <td>{question_not_shown}</td>\n      <td>{question_not_shown}</td>\n      <td>{question_not_shown}</td>\n      <td>{question_not_shown}</td>\n      <td>{question_not_shown}</td>\n    </tr>\n    <tr>\n      <th>698</th>\n      <td>{question_not_shown}</td>\n      <td>{question_not_shown}</td>\n      <td>{question_not_shown}</td>\n      <td>{question_not_shown}</td>\n      <td>{question_not_shown}</td>\n      <td>{question_not_shown}</td>\n      <td>{question_not_shown}</td>\n      <td>{question_not_shown}</td>\n      <td>{question_not_shown}</td>\n      <td>{question_not_shown}</td>\n      <td>{question_not_shown}</td>\n      <td>{question_not_shown}</td>\n      <td>{question_not_shown}</td>\n      <td>{question_not_shown}</td>\n      <td>{question_not_shown}</td>\n      <td>{question_not_shown}</td>\n      <td>{question_not_shown}</td>\n      <td>{question_not_shown}</td>\n      <td>{question_not_shown}</td>\n      <td>{question_not_shown}</td>\n    </tr>\n    <tr>\n      <th>699</th>\n      <td>{question_not_shown}</td>\n      <td>{question_not_shown}</td>\n      <td>{question_not_shown}</td>\n      <td>{question_not_shown}</td>\n      <td>{question_not_shown}</td>\n      <td>{question_not_shown}</td>\n      <td>{question_not_shown}</td>\n      <td>{question_not_shown}</td>\n      <td>{question_not_shown}</td>\n      <td>{question_not_shown}</td>\n      <td>{question_not_shown}</td>\n      <td>{question_not_shown}</td>\n      <td>{question_not_shown}</td>\n      <td>{question_not_shown}</td>\n      <td>{question_not_shown}</td>\n      <td>{question_not_shown}</td>\n      <td>{question_not_shown}</td>\n      <td>{question_not_shown}</td>\n      <td>{question_not_shown}</td>\n      <td>{question_not_shown}</td>\n    </tr>\n  </tbody>\n</table>\n<p>700 rows × 20 columns</p>\n</div>"
     },
     "execution_count": 17,
     "metadata": {},
     "output_type": "execute_result"
    }
   ],
   "source": [
    "encuesta[columnas_base5]"
   ],
   "metadata": {
    "collapsed": false,
    "ExecuteTime": {
     "end_time": "2024-06-28T19:05:18.356255Z",
     "start_time": "2024-06-28T19:05:18.348791Z"
    }
   },
   "execution_count": 17
  },
  {
   "cell_type": "markdown",
   "source": [
    "### Columnas con sufijos"
   ],
   "metadata": {
    "collapsed": false
   }
  },
  {
   "cell_type": "code",
   "outputs": [
    {
     "data": {
      "text/plain": "['ADM555_other',\n 'AGRICUL55_other',\n 'ART555_other',\n 'BUG55_other',\n 'CHO5555_other',\n 'CLIE555_other',\n 'CONTR55_other',\n 'DEPORTE555_other',\n 'EDUC555_other',\n 'EMPGU555_comment',\n 'EMPRE555_other',\n 'FOR555_other',\n 'IND55_other',\n 'INF555_other',\n 'SALUD55_other',\n 'SEGU5_other',\n 'TEC555_comment',\n 'VIFT555_other',\n 'fabtr5_other']"
     },
     "execution_count": 18,
     "metadata": {},
     "output_type": "execute_result"
    }
   ],
   "source": [
    "columnas_sufijo5 = []\n",
    "for col in columnas_base5:\n",
    "    if col + '_other' in encuesta.columns:\n",
    "        columnas_sufijo5.append(col + '_other')\n",
    "    elif col + '_comment' in encuesta.columns:\n",
    "        columnas_sufijo5.append(col + '_comment')\n",
    "assert len(columnas_sufijo5) == len(columnas_base5)-1\n",
    "columnas_sufijo5.sort()\n",
    "columnas_sufijo5"
   ],
   "metadata": {
    "collapsed": false,
    "ExecuteTime": {
     "end_time": "2024-06-28T19:05:18.465465Z",
     "start_time": "2024-06-28T19:05:18.462241Z"
    }
   },
   "execution_count": 18
  },
  {
   "cell_type": "code",
   "outputs": [
    {
     "data": {
      "text/plain": "19"
     },
     "execution_count": 19,
     "metadata": {},
     "output_type": "execute_result"
    }
   ],
   "source": [
    "len(columnas_sufijo5)"
   ],
   "metadata": {
    "collapsed": false,
    "ExecuteTime": {
     "end_time": "2024-06-28T19:05:18.656981Z",
     "start_time": "2024-06-28T19:05:18.654491Z"
    }
   },
   "execution_count": 19
  },
  {
   "cell_type": "code",
   "outputs": [],
   "source": [
    "for col_con_sufijo in columnas_sufijo5:\n",
    "    columna_sin_sufijo5 =  re.sub(r'_.*', '', col_con_sufijo)\n",
    "    encuesta[columna_sin_sufijo5] = encuesta[columna_sin_sufijo5].combine_first(encuesta[col_con_sufijo])\n",
    "    encuesta[columna_sin_sufijo5] = np.where(encuesta[columna_sin_sufijo5] == '-oth-',\n",
    "                                             encuesta[col_con_sufijo],\n",
    "                                             encuesta[columna_sin_sufijo5])\n",
    "    encuesta.drop(columns=col_con_sufijo, inplace=True)"
   ],
   "metadata": {
    "collapsed": false,
    "ExecuteTime": {
     "end_time": "2024-06-28T19:05:18.830388Z",
     "start_time": "2024-06-28T19:05:18.704103Z"
    }
   },
   "execution_count": 20
  },
  {
   "cell_type": "code",
   "outputs": [
    {
     "data": {
      "text/plain": "1              DEPORTE555                ART555               CHO5555  \\\n0    {question_not_shown}  {question_not_shown}  {question_not_shown}   \n1    {question_not_shown}  {question_not_shown}  {question_not_shown}   \n2    {question_not_shown}  {question_not_shown}  {question_not_shown}   \n3    {question_not_shown}  {question_not_shown}  {question_not_shown}   \n4    {question_not_shown}  {question_not_shown}  {question_not_shown}   \n..                    ...                   ...                   ...   \n695  {question_not_shown}  {question_not_shown}  {question_not_shown}   \n696  {question_not_shown}  {question_not_shown}  {question_not_shown}   \n697  {question_not_shown}  {question_not_shown}  {question_not_shown}   \n698  {question_not_shown}  {question_not_shown}  {question_not_shown}   \n699  {question_not_shown}  {question_not_shown}  {question_not_shown}   \n\n1                  FOR555                INF555              EMPRE555  \\\n0    {question_not_shown}  {question_not_shown}  {question_not_shown}   \n1    {question_not_shown}  {question_not_shown}  {question_not_shown}   \n2    {question_not_shown}  {question_not_shown}  {question_not_shown}   \n3    {question_not_shown}  {question_not_shown}  {question_not_shown}   \n4    {question_not_shown}  {question_not_shown}  {question_not_shown}   \n..                    ...                   ...                   ...   \n695  {question_not_shown}  {question_not_shown}  {question_not_shown}   \n696  {question_not_shown}  {question_not_shown}  {question_not_shown}   \n697  {question_not_shown}  {question_not_shown}  {question_not_shown}   \n698  {question_not_shown}  {question_not_shown}  {question_not_shown}   \n699  {question_not_shown}  {question_not_shown}  {question_not_shown}   \n\n1                 VIFT555               CLIE555                ADM555  \\\n0    {question_not_shown}  {question_not_shown}  {question_not_shown}   \n1    {question_not_shown}  {question_not_shown}  {question_not_shown}   \n2    {question_not_shown}  {question_not_shown}  {question_not_shown}   \n3    {question_not_shown}  {question_not_shown}  {question_not_shown}   \n4    {question_not_shown}  {question_not_shown}  {question_not_shown}   \n..                    ...                   ...                   ...   \n695  {question_not_shown}  {question_not_shown}  {question_not_shown}   \n696  {question_not_shown}  {question_not_shown}  {question_not_shown}   \n697  {question_not_shown}  {question_not_shown}  {question_not_shown}   \n698  {question_not_shown}  {question_not_shown}  {question_not_shown}   \n699  {question_not_shown}  {question_not_shown}  {question_not_shown}   \n\n1                EMPGU555                 BUG55                MAQ555  \\\n0    {question_not_shown}  {question_not_shown}  {question_not_shown}   \n1    {question_not_shown}  {question_not_shown}  {question_not_shown}   \n2    {question_not_shown}  {question_not_shown}  {question_not_shown}   \n3    {question_not_shown}  {question_not_shown}  {question_not_shown}   \n4    {question_not_shown}  {question_not_shown}  {question_not_shown}   \n..                    ...                   ...                   ...   \n695  {question_not_shown}  {question_not_shown}  {question_not_shown}   \n696  {question_not_shown}  {question_not_shown}  {question_not_shown}   \n697  {question_not_shown}  {question_not_shown}  {question_not_shown}   \n698  {question_not_shown}  {question_not_shown}  {question_not_shown}   \n699  {question_not_shown}  {question_not_shown}  {question_not_shown}   \n\n1                  TEC555                                            EDUC555  \\\n0    {question_not_shown}                               {question_not_shown}   \n1    {question_not_shown}                               {question_not_shown}   \n2    {question_not_shown}                               {question_not_shown}   \n3    {question_not_shown}                               {question_not_shown}   \n4    {question_not_shown}                               {question_not_shown}   \n..                    ...                                                ...   \n695  {question_not_shown}                               {question_not_shown}   \n696  {question_not_shown}                               {question_not_shown}   \n697  {question_not_shown}  Investigador-profesor en universidad/preparato...   \n698  {question_not_shown}                               {question_not_shown}   \n699  {question_not_shown}                               {question_not_shown}   \n\n1                   IND55                 SEGU5               SALUD55  \\\n0    {question_not_shown}  {question_not_shown}  {question_not_shown}   \n1    {question_not_shown}  {question_not_shown}  {question_not_shown}   \n2    {question_not_shown}  {question_not_shown}  {question_not_shown}   \n3    {question_not_shown}  {question_not_shown}  {question_not_shown}   \n4    {question_not_shown}  {question_not_shown}  {question_not_shown}   \n..                    ...                   ...                   ...   \n695  {question_not_shown}  {question_not_shown}  {question_not_shown}   \n696  {question_not_shown}  {question_not_shown}  {question_not_shown}   \n697  {question_not_shown}  {question_not_shown}  {question_not_shown}   \n698  {question_not_shown}  {question_not_shown}  {question_not_shown}   \n699  {question_not_shown}  {question_not_shown}  {question_not_shown}   \n\n1                 CONTR55                fabtr5             AGRICUL55  \n0    {question_not_shown}  {question_not_shown}  {question_not_shown}  \n1    {question_not_shown}  {question_not_shown}  {question_not_shown}  \n2    {question_not_shown}  {question_not_shown}  {question_not_shown}  \n3    {question_not_shown}  {question_not_shown}  {question_not_shown}  \n4    {question_not_shown}  {question_not_shown}  {question_not_shown}  \n..                    ...                   ...                   ...  \n695  {question_not_shown}            Empleado_1  {question_not_shown}  \n696  {question_not_shown}  {question_not_shown}  {question_not_shown}  \n697  {question_not_shown}  {question_not_shown}  {question_not_shown}  \n698  {question_not_shown}  {question_not_shown}  {question_not_shown}  \n699  {question_not_shown}  {question_not_shown}  {question_not_shown}  \n\n[700 rows x 20 columns]",
      "text/html": "<div>\n<style scoped>\n    .dataframe tbody tr th:only-of-type {\n        vertical-align: middle;\n    }\n\n    .dataframe tbody tr th {\n        vertical-align: top;\n    }\n\n    .dataframe thead th {\n        text-align: right;\n    }\n</style>\n<table border=\"1\" class=\"dataframe\">\n  <thead>\n    <tr style=\"text-align: right;\">\n      <th>1</th>\n      <th>DEPORTE555</th>\n      <th>ART555</th>\n      <th>CHO5555</th>\n      <th>FOR555</th>\n      <th>INF555</th>\n      <th>EMPRE555</th>\n      <th>VIFT555</th>\n      <th>CLIE555</th>\n      <th>ADM555</th>\n      <th>EMPGU555</th>\n      <th>BUG55</th>\n      <th>MAQ555</th>\n      <th>TEC555</th>\n      <th>EDUC555</th>\n      <th>IND55</th>\n      <th>SEGU5</th>\n      <th>SALUD55</th>\n      <th>CONTR55</th>\n      <th>fabtr5</th>\n      <th>AGRICUL55</th>\n    </tr>\n  </thead>\n  <tbody>\n    <tr>\n      <th>0</th>\n      <td>{question_not_shown}</td>\n      <td>{question_not_shown}</td>\n      <td>{question_not_shown}</td>\n      <td>{question_not_shown}</td>\n      <td>{question_not_shown}</td>\n      <td>{question_not_shown}</td>\n      <td>{question_not_shown}</td>\n      <td>{question_not_shown}</td>\n      <td>{question_not_shown}</td>\n      <td>{question_not_shown}</td>\n      <td>{question_not_shown}</td>\n      <td>{question_not_shown}</td>\n      <td>{question_not_shown}</td>\n      <td>{question_not_shown}</td>\n      <td>{question_not_shown}</td>\n      <td>{question_not_shown}</td>\n      <td>{question_not_shown}</td>\n      <td>{question_not_shown}</td>\n      <td>{question_not_shown}</td>\n      <td>{question_not_shown}</td>\n    </tr>\n    <tr>\n      <th>1</th>\n      <td>{question_not_shown}</td>\n      <td>{question_not_shown}</td>\n      <td>{question_not_shown}</td>\n      <td>{question_not_shown}</td>\n      <td>{question_not_shown}</td>\n      <td>{question_not_shown}</td>\n      <td>{question_not_shown}</td>\n      <td>{question_not_shown}</td>\n      <td>{question_not_shown}</td>\n      <td>{question_not_shown}</td>\n      <td>{question_not_shown}</td>\n      <td>{question_not_shown}</td>\n      <td>{question_not_shown}</td>\n      <td>{question_not_shown}</td>\n      <td>{question_not_shown}</td>\n      <td>{question_not_shown}</td>\n      <td>{question_not_shown}</td>\n      <td>{question_not_shown}</td>\n      <td>{question_not_shown}</td>\n      <td>{question_not_shown}</td>\n    </tr>\n    <tr>\n      <th>2</th>\n      <td>{question_not_shown}</td>\n      <td>{question_not_shown}</td>\n      <td>{question_not_shown}</td>\n      <td>{question_not_shown}</td>\n      <td>{question_not_shown}</td>\n      <td>{question_not_shown}</td>\n      <td>{question_not_shown}</td>\n      <td>{question_not_shown}</td>\n      <td>{question_not_shown}</td>\n      <td>{question_not_shown}</td>\n      <td>{question_not_shown}</td>\n      <td>{question_not_shown}</td>\n      <td>{question_not_shown}</td>\n      <td>{question_not_shown}</td>\n      <td>{question_not_shown}</td>\n      <td>{question_not_shown}</td>\n      <td>{question_not_shown}</td>\n      <td>{question_not_shown}</td>\n      <td>{question_not_shown}</td>\n      <td>{question_not_shown}</td>\n    </tr>\n    <tr>\n      <th>3</th>\n      <td>{question_not_shown}</td>\n      <td>{question_not_shown}</td>\n      <td>{question_not_shown}</td>\n      <td>{question_not_shown}</td>\n      <td>{question_not_shown}</td>\n      <td>{question_not_shown}</td>\n      <td>{question_not_shown}</td>\n      <td>{question_not_shown}</td>\n      <td>{question_not_shown}</td>\n      <td>{question_not_shown}</td>\n      <td>{question_not_shown}</td>\n      <td>{question_not_shown}</td>\n      <td>{question_not_shown}</td>\n      <td>{question_not_shown}</td>\n      <td>{question_not_shown}</td>\n      <td>{question_not_shown}</td>\n      <td>{question_not_shown}</td>\n      <td>{question_not_shown}</td>\n      <td>{question_not_shown}</td>\n      <td>{question_not_shown}</td>\n    </tr>\n    <tr>\n      <th>4</th>\n      <td>{question_not_shown}</td>\n      <td>{question_not_shown}</td>\n      <td>{question_not_shown}</td>\n      <td>{question_not_shown}</td>\n      <td>{question_not_shown}</td>\n      <td>{question_not_shown}</td>\n      <td>{question_not_shown}</td>\n      <td>{question_not_shown}</td>\n      <td>{question_not_shown}</td>\n      <td>{question_not_shown}</td>\n      <td>{question_not_shown}</td>\n      <td>{question_not_shown}</td>\n      <td>{question_not_shown}</td>\n      <td>{question_not_shown}</td>\n      <td>{question_not_shown}</td>\n      <td>{question_not_shown}</td>\n      <td>{question_not_shown}</td>\n      <td>{question_not_shown}</td>\n      <td>{question_not_shown}</td>\n      <td>{question_not_shown}</td>\n    </tr>\n    <tr>\n      <th>...</th>\n      <td>...</td>\n      <td>...</td>\n      <td>...</td>\n      <td>...</td>\n      <td>...</td>\n      <td>...</td>\n      <td>...</td>\n      <td>...</td>\n      <td>...</td>\n      <td>...</td>\n      <td>...</td>\n      <td>...</td>\n      <td>...</td>\n      <td>...</td>\n      <td>...</td>\n      <td>...</td>\n      <td>...</td>\n      <td>...</td>\n      <td>...</td>\n      <td>...</td>\n    </tr>\n    <tr>\n      <th>695</th>\n      <td>{question_not_shown}</td>\n      <td>{question_not_shown}</td>\n      <td>{question_not_shown}</td>\n      <td>{question_not_shown}</td>\n      <td>{question_not_shown}</td>\n      <td>{question_not_shown}</td>\n      <td>{question_not_shown}</td>\n      <td>{question_not_shown}</td>\n      <td>{question_not_shown}</td>\n      <td>{question_not_shown}</td>\n      <td>{question_not_shown}</td>\n      <td>{question_not_shown}</td>\n      <td>{question_not_shown}</td>\n      <td>{question_not_shown}</td>\n      <td>{question_not_shown}</td>\n      <td>{question_not_shown}</td>\n      <td>{question_not_shown}</td>\n      <td>{question_not_shown}</td>\n      <td>Empleado_1</td>\n      <td>{question_not_shown}</td>\n    </tr>\n    <tr>\n      <th>696</th>\n      <td>{question_not_shown}</td>\n      <td>{question_not_shown}</td>\n      <td>{question_not_shown}</td>\n      <td>{question_not_shown}</td>\n      <td>{question_not_shown}</td>\n      <td>{question_not_shown}</td>\n      <td>{question_not_shown}</td>\n      <td>{question_not_shown}</td>\n      <td>{question_not_shown}</td>\n      <td>{question_not_shown}</td>\n      <td>{question_not_shown}</td>\n      <td>{question_not_shown}</td>\n      <td>{question_not_shown}</td>\n      <td>{question_not_shown}</td>\n      <td>{question_not_shown}</td>\n      <td>{question_not_shown}</td>\n      <td>{question_not_shown}</td>\n      <td>{question_not_shown}</td>\n      <td>{question_not_shown}</td>\n      <td>{question_not_shown}</td>\n    </tr>\n    <tr>\n      <th>697</th>\n      <td>{question_not_shown}</td>\n      <td>{question_not_shown}</td>\n      <td>{question_not_shown}</td>\n      <td>{question_not_shown}</td>\n      <td>{question_not_shown}</td>\n      <td>{question_not_shown}</td>\n      <td>{question_not_shown}</td>\n      <td>{question_not_shown}</td>\n      <td>{question_not_shown}</td>\n      <td>{question_not_shown}</td>\n      <td>{question_not_shown}</td>\n      <td>{question_not_shown}</td>\n      <td>{question_not_shown}</td>\n      <td>Investigador-profesor en universidad/preparato...</td>\n      <td>{question_not_shown}</td>\n      <td>{question_not_shown}</td>\n      <td>{question_not_shown}</td>\n      <td>{question_not_shown}</td>\n      <td>{question_not_shown}</td>\n      <td>{question_not_shown}</td>\n    </tr>\n    <tr>\n      <th>698</th>\n      <td>{question_not_shown}</td>\n      <td>{question_not_shown}</td>\n      <td>{question_not_shown}</td>\n      <td>{question_not_shown}</td>\n      <td>{question_not_shown}</td>\n      <td>{question_not_shown}</td>\n      <td>{question_not_shown}</td>\n      <td>{question_not_shown}</td>\n      <td>{question_not_shown}</td>\n      <td>{question_not_shown}</td>\n      <td>{question_not_shown}</td>\n      <td>{question_not_shown}</td>\n      <td>{question_not_shown}</td>\n      <td>{question_not_shown}</td>\n      <td>{question_not_shown}</td>\n      <td>{question_not_shown}</td>\n      <td>{question_not_shown}</td>\n      <td>{question_not_shown}</td>\n      <td>{question_not_shown}</td>\n      <td>{question_not_shown}</td>\n    </tr>\n    <tr>\n      <th>699</th>\n      <td>{question_not_shown}</td>\n      <td>{question_not_shown}</td>\n      <td>{question_not_shown}</td>\n      <td>{question_not_shown}</td>\n      <td>{question_not_shown}</td>\n      <td>{question_not_shown}</td>\n      <td>{question_not_shown}</td>\n      <td>{question_not_shown}</td>\n      <td>{question_not_shown}</td>\n      <td>{question_not_shown}</td>\n      <td>{question_not_shown}</td>\n      <td>{question_not_shown}</td>\n      <td>{question_not_shown}</td>\n      <td>{question_not_shown}</td>\n      <td>{question_not_shown}</td>\n      <td>{question_not_shown}</td>\n      <td>{question_not_shown}</td>\n      <td>{question_not_shown}</td>\n      <td>{question_not_shown}</td>\n      <td>{question_not_shown}</td>\n    </tr>\n  </tbody>\n</table>\n<p>700 rows × 20 columns</p>\n</div>"
     },
     "execution_count": 21,
     "metadata": {},
     "output_type": "execute_result"
    }
   ],
   "source": [
    "encuesta[columnas_base5]"
   ],
   "metadata": {
    "collapsed": false,
    "ExecuteTime": {
     "end_time": "2024-06-28T19:05:18.847659Z",
     "start_time": "2024-06-28T19:05:18.832178Z"
    }
   },
   "execution_count": 21
  },
  {
   "cell_type": "code",
   "outputs": [
    {
     "data": {
      "text/plain": "1     id                 token        submitdate lastpage startlanguage  \\\n0     32  {question_not_shown}  29/03/2021 11:56        1         es-MX   \n1     33  {question_not_shown}  29/03/2021 18:49        1         es-MX   \n2     34  {question_not_shown}  29/03/2021 21:06        1         es-MX   \n3     35  {question_not_shown}  30/03/2021 12:57        1         es-MX   \n4     36  {question_not_shown}  30/03/2021 14:59        1         es-MX   \n..   ...                   ...               ...      ...           ...   \n695  753  {question_not_shown}  29/10/2022 17:57        1         es-MX   \n696  754  {question_not_shown}  29/10/2022 18:41        1         es-MX   \n697  755  {question_not_shown}  29/10/2022 20:52        1         es-MX   \n698  756  {question_not_shown}  31/10/2022 19:50        1         es-MX   \n699  757  {question_not_shown}  02/11/2022 16:42        1         es-MX   \n\n1          seed         startdate         datestamp             fecha folio  \\\n0    1382221824  29/03/2021 11:55  29/03/2021 11:56  29/03/2021 00:00  5298   \n1    2028599215  29/03/2021 18:31  29/03/2021 18:49  29/03/2021 00:00  5299   \n2    1266979119  29/03/2021 21:05  29/03/2021 21:06  30/03/2021 00:00  5298   \n3     311980819  30/03/2021 12:46  30/03/2021 12:57  30/03/2021 00:00  5300   \n4    1357322587  30/03/2021 14:46  30/03/2021 14:59  30/03/2021 00:00  5108   \n..          ...               ...               ...               ...   ...   \n695  1624450592  29/10/2022 17:46  29/10/2022 17:57  29/10/2022 00:00  9027   \n696   893888310  29/10/2022 18:35  29/10/2022 18:41  29/10/2022 00:00  9028   \n697   977075814  29/10/2022 20:41  29/10/2022 20:52  30/10/2022 00:00  9029   \n698  1847835502  31/10/2022 19:31  31/10/2022 19:50  31/10/2022 00:00  9030   \n699   407025203  02/11/2022 16:31  02/11/2022 16:42  02/11/2022 00:00  9031   \n\n1    ... q786969 q786969_other q67898 q67898_other q67890 q67890_other q3561  \\\n0    ...     NaN           NaN    NaN          NaN    NaN          NaN   NaN   \n1    ...      A4           NaN    NaN          NaN     A2          NaN    A3   \n2    ...     NaN           NaN    NaN          NaN    NaN          NaN   NaN   \n3    ...      A3           NaN     A4          NaN     A3          NaN    A4   \n4    ...      A5           NaN     A2          NaN     A2          NaN    A4   \n..   ...     ...           ...    ...          ...    ...          ...   ...   \n695  ...      A3           NaN     A2          NaN     A3          NaN    A5   \n696  ...      A4           NaN     A3          NaN     A5          NaN    A4   \n697  ...      A3           NaN     A3          NaN     A3          NaN    A4   \n698  ...      A2           NaN     A2          NaN     A5          NaN    A5   \n699  ...      A2           NaN     A2          NaN     A4          NaN    A2   \n\n1   q3561_other   q532 q532_other  \n0           NaN    NaN        NaN  \n1           NaN     A2        NaN  \n2           NaN    NaN        NaN  \n3           NaN     A2        NaN  \n4           NaN  -oth-      NO SE  \n..          ...    ...        ...  \n695         NaN     A4        NaN  \n696         NaN     A2        NaN  \n697         NaN     A3        NaN  \n698         NaN     A2        NaN  \n699         NaN     A2        NaN  \n\n[700 rows x 878 columns]",
      "text/html": "<div>\n<style scoped>\n    .dataframe tbody tr th:only-of-type {\n        vertical-align: middle;\n    }\n\n    .dataframe tbody tr th {\n        vertical-align: top;\n    }\n\n    .dataframe thead th {\n        text-align: right;\n    }\n</style>\n<table border=\"1\" class=\"dataframe\">\n  <thead>\n    <tr style=\"text-align: right;\">\n      <th>1</th>\n      <th>id</th>\n      <th>token</th>\n      <th>submitdate</th>\n      <th>lastpage</th>\n      <th>startlanguage</th>\n      <th>seed</th>\n      <th>startdate</th>\n      <th>datestamp</th>\n      <th>fecha</th>\n      <th>folio</th>\n      <th>...</th>\n      <th>q786969</th>\n      <th>q786969_other</th>\n      <th>q67898</th>\n      <th>q67898_other</th>\n      <th>q67890</th>\n      <th>q67890_other</th>\n      <th>q3561</th>\n      <th>q3561_other</th>\n      <th>q532</th>\n      <th>q532_other</th>\n    </tr>\n  </thead>\n  <tbody>\n    <tr>\n      <th>0</th>\n      <td>32</td>\n      <td>{question_not_shown}</td>\n      <td>29/03/2021 11:56</td>\n      <td>1</td>\n      <td>es-MX</td>\n      <td>1382221824</td>\n      <td>29/03/2021 11:55</td>\n      <td>29/03/2021 11:56</td>\n      <td>29/03/2021 00:00</td>\n      <td>5298</td>\n      <td>...</td>\n      <td>NaN</td>\n      <td>NaN</td>\n      <td>NaN</td>\n      <td>NaN</td>\n      <td>NaN</td>\n      <td>NaN</td>\n      <td>NaN</td>\n      <td>NaN</td>\n      <td>NaN</td>\n      <td>NaN</td>\n    </tr>\n    <tr>\n      <th>1</th>\n      <td>33</td>\n      <td>{question_not_shown}</td>\n      <td>29/03/2021 18:49</td>\n      <td>1</td>\n      <td>es-MX</td>\n      <td>2028599215</td>\n      <td>29/03/2021 18:31</td>\n      <td>29/03/2021 18:49</td>\n      <td>29/03/2021 00:00</td>\n      <td>5299</td>\n      <td>...</td>\n      <td>A4</td>\n      <td>NaN</td>\n      <td>NaN</td>\n      <td>NaN</td>\n      <td>A2</td>\n      <td>NaN</td>\n      <td>A3</td>\n      <td>NaN</td>\n      <td>A2</td>\n      <td>NaN</td>\n    </tr>\n    <tr>\n      <th>2</th>\n      <td>34</td>\n      <td>{question_not_shown}</td>\n      <td>29/03/2021 21:06</td>\n      <td>1</td>\n      <td>es-MX</td>\n      <td>1266979119</td>\n      <td>29/03/2021 21:05</td>\n      <td>29/03/2021 21:06</td>\n      <td>30/03/2021 00:00</td>\n      <td>5298</td>\n      <td>...</td>\n      <td>NaN</td>\n      <td>NaN</td>\n      <td>NaN</td>\n      <td>NaN</td>\n      <td>NaN</td>\n      <td>NaN</td>\n      <td>NaN</td>\n      <td>NaN</td>\n      <td>NaN</td>\n      <td>NaN</td>\n    </tr>\n    <tr>\n      <th>3</th>\n      <td>35</td>\n      <td>{question_not_shown}</td>\n      <td>30/03/2021 12:57</td>\n      <td>1</td>\n      <td>es-MX</td>\n      <td>311980819</td>\n      <td>30/03/2021 12:46</td>\n      <td>30/03/2021 12:57</td>\n      <td>30/03/2021 00:00</td>\n      <td>5300</td>\n      <td>...</td>\n      <td>A3</td>\n      <td>NaN</td>\n      <td>A4</td>\n      <td>NaN</td>\n      <td>A3</td>\n      <td>NaN</td>\n      <td>A4</td>\n      <td>NaN</td>\n      <td>A2</td>\n      <td>NaN</td>\n    </tr>\n    <tr>\n      <th>4</th>\n      <td>36</td>\n      <td>{question_not_shown}</td>\n      <td>30/03/2021 14:59</td>\n      <td>1</td>\n      <td>es-MX</td>\n      <td>1357322587</td>\n      <td>30/03/2021 14:46</td>\n      <td>30/03/2021 14:59</td>\n      <td>30/03/2021 00:00</td>\n      <td>5108</td>\n      <td>...</td>\n      <td>A5</td>\n      <td>NaN</td>\n      <td>A2</td>\n      <td>NaN</td>\n      <td>A2</td>\n      <td>NaN</td>\n      <td>A4</td>\n      <td>NaN</td>\n      <td>-oth-</td>\n      <td>NO SE</td>\n    </tr>\n    <tr>\n      <th>...</th>\n      <td>...</td>\n      <td>...</td>\n      <td>...</td>\n      <td>...</td>\n      <td>...</td>\n      <td>...</td>\n      <td>...</td>\n      <td>...</td>\n      <td>...</td>\n      <td>...</td>\n      <td>...</td>\n      <td>...</td>\n      <td>...</td>\n      <td>...</td>\n      <td>...</td>\n      <td>...</td>\n      <td>...</td>\n      <td>...</td>\n      <td>...</td>\n      <td>...</td>\n      <td>...</td>\n    </tr>\n    <tr>\n      <th>695</th>\n      <td>753</td>\n      <td>{question_not_shown}</td>\n      <td>29/10/2022 17:57</td>\n      <td>1</td>\n      <td>es-MX</td>\n      <td>1624450592</td>\n      <td>29/10/2022 17:46</td>\n      <td>29/10/2022 17:57</td>\n      <td>29/10/2022 00:00</td>\n      <td>9027</td>\n      <td>...</td>\n      <td>A3</td>\n      <td>NaN</td>\n      <td>A2</td>\n      <td>NaN</td>\n      <td>A3</td>\n      <td>NaN</td>\n      <td>A5</td>\n      <td>NaN</td>\n      <td>A4</td>\n      <td>NaN</td>\n    </tr>\n    <tr>\n      <th>696</th>\n      <td>754</td>\n      <td>{question_not_shown}</td>\n      <td>29/10/2022 18:41</td>\n      <td>1</td>\n      <td>es-MX</td>\n      <td>893888310</td>\n      <td>29/10/2022 18:35</td>\n      <td>29/10/2022 18:41</td>\n      <td>29/10/2022 00:00</td>\n      <td>9028</td>\n      <td>...</td>\n      <td>A4</td>\n      <td>NaN</td>\n      <td>A3</td>\n      <td>NaN</td>\n      <td>A5</td>\n      <td>NaN</td>\n      <td>A4</td>\n      <td>NaN</td>\n      <td>A2</td>\n      <td>NaN</td>\n    </tr>\n    <tr>\n      <th>697</th>\n      <td>755</td>\n      <td>{question_not_shown}</td>\n      <td>29/10/2022 20:52</td>\n      <td>1</td>\n      <td>es-MX</td>\n      <td>977075814</td>\n      <td>29/10/2022 20:41</td>\n      <td>29/10/2022 20:52</td>\n      <td>30/10/2022 00:00</td>\n      <td>9029</td>\n      <td>...</td>\n      <td>A3</td>\n      <td>NaN</td>\n      <td>A3</td>\n      <td>NaN</td>\n      <td>A3</td>\n      <td>NaN</td>\n      <td>A4</td>\n      <td>NaN</td>\n      <td>A3</td>\n      <td>NaN</td>\n    </tr>\n    <tr>\n      <th>698</th>\n      <td>756</td>\n      <td>{question_not_shown}</td>\n      <td>31/10/2022 19:50</td>\n      <td>1</td>\n      <td>es-MX</td>\n      <td>1847835502</td>\n      <td>31/10/2022 19:31</td>\n      <td>31/10/2022 19:50</td>\n      <td>31/10/2022 00:00</td>\n      <td>9030</td>\n      <td>...</td>\n      <td>A2</td>\n      <td>NaN</td>\n      <td>A2</td>\n      <td>NaN</td>\n      <td>A5</td>\n      <td>NaN</td>\n      <td>A5</td>\n      <td>NaN</td>\n      <td>A2</td>\n      <td>NaN</td>\n    </tr>\n    <tr>\n      <th>699</th>\n      <td>757</td>\n      <td>{question_not_shown}</td>\n      <td>02/11/2022 16:42</td>\n      <td>1</td>\n      <td>es-MX</td>\n      <td>407025203</td>\n      <td>02/11/2022 16:31</td>\n      <td>02/11/2022 16:42</td>\n      <td>02/11/2022 00:00</td>\n      <td>9031</td>\n      <td>...</td>\n      <td>A2</td>\n      <td>NaN</td>\n      <td>A2</td>\n      <td>NaN</td>\n      <td>A4</td>\n      <td>NaN</td>\n      <td>A2</td>\n      <td>NaN</td>\n      <td>A2</td>\n      <td>NaN</td>\n    </tr>\n  </tbody>\n</table>\n<p>700 rows × 878 columns</p>\n</div>"
     },
     "execution_count": 22,
     "metadata": {},
     "output_type": "execute_result"
    }
   ],
   "source": [
    "encuesta"
   ],
   "metadata": {
    "collapsed": false,
    "ExecuteTime": {
     "end_time": "2024-06-28T19:05:18.865745Z",
     "start_time": "2024-06-28T19:05:18.853445Z"
    }
   },
   "execution_count": 22
  },
  {
   "cell_type": "markdown",
   "source": [
    "### Asignación de trabajo"
   ],
   "metadata": {
    "collapsed": false
   }
  },
  {
   "cell_type": "code",
   "outputs": [
    {
     "name": "stderr",
     "output_type": "stream",
     "text": [
      "/var/folders/hb/c3zh8bns0mx4nw98_6k7rx8m0000gn/T/ipykernel_7971/2082379804.py:4: FutureWarning: Downcasting behavior in `replace` is deprecated and will be removed in a future version. To retain the old behavior, explicitly call `result.infer_objects(copy=False)`. To opt-in to the future behavior, set `pd.set_option('future.no_silent_downcasting', True)`\n",
      "  encuesta[columna] = encuesta[columna].replace('{question_not_shown}', np.nan)\n",
      "/var/folders/hb/c3zh8bns0mx4nw98_6k7rx8m0000gn/T/ipykernel_7971/2082379804.py:4: FutureWarning: Downcasting behavior in `replace` is deprecated and will be removed in a future version. To retain the old behavior, explicitly call `result.infer_objects(copy=False)`. To opt-in to the future behavior, set `pd.set_option('future.no_silent_downcasting', True)`\n",
      "  encuesta[columna] = encuesta[columna].replace('{question_not_shown}', np.nan)\n"
     ]
    },
    {
     "data": {
      "text/plain": "0                                         abogado_1\n1                                        acomodador\n2                                   administrador_2\n3                                        arquitecta\n4                                        arquitecto\n                          ...                      \n88            vendedor de tiendas departamentales_3\n89    vendedor por cuenta propia (negocio propio)_1\n90                                           ventas\n91                                      vigilante_3\n92                                              NaN\nName: trabajo, Length: 93, dtype: object"
     },
     "execution_count": 23,
     "metadata": {},
     "output_type": "execute_result"
    }
   ],
   "source": [
    "encuesta['trabajo'] = pd.Series(dtype='string', index=encuesta.index)\n",
    "\n",
    "for columna in columnas_base5:\n",
    "    encuesta[columna] = encuesta[columna].replace('{question_not_shown}', np.nan)\n",
    "    encuesta['trabajo'] = encuesta['trabajo'].combine_first(encuesta[columna])\n",
    "    encuesta.drop(columns=columna, inplace=True)\n",
    "encuesta['parejaq0r1001'] = encuesta['parejaq0r1001'].replace('{question_not_shown}', np.nan)\n",
    "encuesta['trabajo'] = encuesta['trabajo'].combine_first(encuesta['parejaq0r1001'])\n",
    "encuesta.drop(columns='parejaq0r1001', inplace=True)\n",
    "\n",
    "\n",
    "encuesta['trabajo'] = encuesta['trabajo'].str.strip().str.lower()\n",
    "mostrar_unicos(encuesta,'trabajo')"
   ],
   "metadata": {
    "collapsed": false,
    "ExecuteTime": {
     "end_time": "2024-06-28T19:05:19.052738Z",
     "start_time": "2024-06-28T19:05:18.910848Z"
    }
   },
   "execution_count": 23
  },
  {
   "cell_type": "code",
   "outputs": [],
   "source": [
    "encuesta['trabajo'] = encuesta['trabajo'].fillna('ninguna')"
   ],
   "metadata": {
    "collapsed": false,
    "ExecuteTime": {
     "end_time": "2024-06-28T19:05:19.065154Z",
     "start_time": "2024-06-28T19:05:19.063167Z"
    }
   },
   "execution_count": 24
  },
  {
   "cell_type": "code",
   "outputs": [
    {
     "data": {
      "text/plain": "0                                                ninguna\n1                                                ninguna\n2                                                ninguna\n3                                                ninguna\n4                                                ninguna\n                             ...                        \n695                                           empleado_1\n696                                              ninguna\n697    investigador-profesor en universidad/preparato...\n698                                             estudiar\n699                                              ninguna\nName: trabajo, Length: 700, dtype: object"
     },
     "execution_count": 25,
     "metadata": {},
     "output_type": "execute_result"
    }
   ],
   "source": [
    "encuesta['trabajo']"
   ],
   "metadata": {
    "collapsed": false,
    "ExecuteTime": {
     "end_time": "2024-06-28T19:05:19.183418Z",
     "start_time": "2024-06-28T19:05:19.180563Z"
    }
   },
   "execution_count": 25
  },
  {
   "cell_type": "code",
   "outputs": [
    {
     "name": "stderr",
     "output_type": "stream",
     "text": [
      "<>:1: SyntaxWarning: invalid escape sequence '\\d'\n",
      "<>:1: SyntaxWarning: invalid escape sequence '\\d'\n",
      "/var/folders/hb/c3zh8bns0mx4nw98_6k7rx8m0000gn/T/ipykernel_7971/3895345309.py:1: SyntaxWarning: invalid escape sequence '\\d'\n",
      "  trabajos_nuevos5 = encuesta['trabajo'][~encuesta['trabajo'].str.contains('_\\d+$|ninguna')].reset_index(drop=True)\n"
     ]
    },
    {
     "data": {
      "text/plain": "0                  estudiante\n1                    juguetes\n2                  cordinador\n3                    finanzas\n4                  estudiante\n               ...           \n90                   hospital\n91    coordinador territorial\n92    representante de ventas\n93           empleado federal\n94                   estudiar\nName: trabajo, Length: 95, dtype: object"
     },
     "execution_count": 26,
     "metadata": {},
     "output_type": "execute_result"
    }
   ],
   "source": [
    "trabajos_nuevos5 = encuesta['trabajo'][~encuesta['trabajo'].str.contains('_\\d+$|ninguna')].reset_index(drop=True)\n",
    "trabajos_nuevos5"
   ],
   "metadata": {
    "collapsed": false,
    "ExecuteTime": {
     "end_time": "2024-06-28T19:05:19.496888Z",
     "start_time": "2024-06-28T19:05:19.492620Z"
    }
   },
   "execution_count": 26
  },
  {
   "cell_type": "markdown",
   "source": [
    "### Correción de trabajos"
   ],
   "metadata": {
    "collapsed": false
   }
  },
  {
   "cell_type": "code",
   "outputs": [
    {
     "name": "stderr",
     "output_type": "stream",
     "text": [
      "/Users/erickavendanogarcia/Downloads/servicio_social/venv/lib/python3.12/site-packages/string_grouper/string_grouper.py:694: FutureWarning: DataFrame.applymap has been deprecated. Use DataFrame.map instead.\n",
      "  elif series_to_test.to_frame().applymap(\n"
     ]
    },
    {
     "data": {
      "text/plain": "                 original  correccion  hubo_correccion\n47     ingeniero en minas   ingeniero             True\n48  ingeniero en sistemas    sistemas             True\n27                estudia  estudiante             True\n28               estudiar  estudiante             True\n33    asistente de camara   asistente             True\n..                    ...         ...              ...\n6              estudiante  estudiante            False\n23             instructor  instructor            False\n59                 mesero      mesero            False\n60             estudiante  estudiante            False\n0              estudiante  estudiante            False\n\n[95 rows x 3 columns]",
      "text/html": "<div>\n<style scoped>\n    .dataframe tbody tr th:only-of-type {\n        vertical-align: middle;\n    }\n\n    .dataframe tbody tr th {\n        vertical-align: top;\n    }\n\n    .dataframe thead th {\n        text-align: right;\n    }\n</style>\n<table border=\"1\" class=\"dataframe\">\n  <thead>\n    <tr style=\"text-align: right;\">\n      <th></th>\n      <th>original</th>\n      <th>correccion</th>\n      <th>hubo_correccion</th>\n    </tr>\n  </thead>\n  <tbody>\n    <tr>\n      <th>47</th>\n      <td>ingeniero en minas</td>\n      <td>ingeniero</td>\n      <td>True</td>\n    </tr>\n    <tr>\n      <th>48</th>\n      <td>ingeniero en sistemas</td>\n      <td>sistemas</td>\n      <td>True</td>\n    </tr>\n    <tr>\n      <th>27</th>\n      <td>estudia</td>\n      <td>estudiante</td>\n      <td>True</td>\n    </tr>\n    <tr>\n      <th>28</th>\n      <td>estudiar</td>\n      <td>estudiante</td>\n      <td>True</td>\n    </tr>\n    <tr>\n      <th>33</th>\n      <td>asistente de camara</td>\n      <td>asistente</td>\n      <td>True</td>\n    </tr>\n    <tr>\n      <th>...</th>\n      <td>...</td>\n      <td>...</td>\n      <td>...</td>\n    </tr>\n    <tr>\n      <th>6</th>\n      <td>estudiante</td>\n      <td>estudiante</td>\n      <td>False</td>\n    </tr>\n    <tr>\n      <th>23</th>\n      <td>instructor</td>\n      <td>instructor</td>\n      <td>False</td>\n    </tr>\n    <tr>\n      <th>59</th>\n      <td>mesero</td>\n      <td>mesero</td>\n      <td>False</td>\n    </tr>\n    <tr>\n      <th>60</th>\n      <td>estudiante</td>\n      <td>estudiante</td>\n      <td>False</td>\n    </tr>\n    <tr>\n      <th>0</th>\n      <td>estudiante</td>\n      <td>estudiante</td>\n      <td>False</td>\n    </tr>\n  </tbody>\n</table>\n<p>95 rows × 3 columns</p>\n</div>"
     },
     "execution_count": 27,
     "metadata": {},
     "output_type": "execute_result"
    }
   ],
   "source": [
    "from string_grouper import match_most_similar\n",
    "correccion5 = match_most_similar(trabajos_oficiales,\n",
    "                                 trabajos_nuevos5,\n",
    "                                 min_similarity=.40,\n",
    "                                 ignore_index=True)\n",
    "comparar5 = pd.DataFrame({'original': trabajos_nuevos5, 'correccion': correccion5})\n",
    "comparar5['hubo_correccion'] = comparar5['original'].ne(comparar5['correccion'])\n",
    "comparar5.sort_values(by='hubo_correccion', ascending=False)"
   ],
   "metadata": {
    "collapsed": false,
    "ExecuteTime": {
     "end_time": "2024-06-28T19:05:20.688303Z",
     "start_time": "2024-06-28T19:05:19.532846Z"
    }
   },
   "execution_count": 27
  },
  {
   "cell_type": "code",
   "outputs": [
    {
     "data": {
      "text/plain": "{'estudiante': 'estudiante',\n 'juguetes': 'juguetes',\n 'cordinador': 'cordinador',\n 'finanzas': 'finanzas',\n 'sanitizacion': 'sanitizacion',\n 'ingeniero industrial': 'ingeniero',\n 'estudia': 'estudiante',\n 'ingeniería industrial': 'ingeniero',\n 'asesorias educativas': 'asesor',\n 'arquitecta': 'arquitecto',\n 'productos': 'productos en un puesto no establecido',\n 'ingeniero biomedico': 'ingeniero',\n 'ventas': 'ventas',\n 'ingeniero electricista': 'ingeniero',\n 'diseñador': 'diseñador',\n 'radio': 'radio',\n 'tienda de abarrotes': 'abarrotes',\n 'producciones musicales': 'producciones musicales',\n 'instructor': 'instructor',\n 'químico farmacobiólogo nutrición': 'nutriólogo',\n 'innovacion tecnologica': 'innovacion tecnologica',\n 'estudiante ingeniería': 'ingeniero',\n 'estudiar': 'estudiante',\n 'modelo': 'modelo',\n 'relaciones laborales': 'relaciones laborales',\n 'biologo': 'biologo',\n 'bienes raices': 'bienes raices',\n 'asistente de camara': 'asistente',\n 'recursos humanos': 'recursos humanos',\n 'empleado administrativo': 'administrador',\n 'secundaria': 'secundaria',\n 'cuartos de escape': 'cuartos de escape',\n 'asistente de produccion': 'asistente',\n 'tese del estado de méxico': 'tese del estado de méxico',\n 'jefe de enfermeria': 'enfermera',\n 'empleado': 'empleado',\n 'personal de base - contraloría dif naucalpan': 'personal de base - contraloría dif naucalpan',\n 'ingeniero en minas': 'ingeniero',\n 'ingeniero en sistemas': 'sistemas',\n 'arquitecto': 'arquitecto',\n 'ingeniería': 'ingeniero',\n 'mensajeria': 'mensajeria',\n 'cocinero en restaurante': 'cocinero',\n 'ingenieria en sistemas': 'sistemas',\n 'cobranza': 'cobranza',\n 'mesero': 'mesero',\n 'restaurante': 'restaurante',\n 'residente': 'residente',\n 'banco': 'banco',\n 'diseño': 'diseñador',\n 'trabaja en fabrica': 'trabaja en fabrica',\n 'mantenimiento': 'mantenimiento',\n 'acomodador': 'acomodador',\n 'consultor': 'consultor',\n 'auditor': 'auditor',\n 'herreria': 'herrero',\n 'ingeniería en telecomunicaciones': 'ingeniería en telecomunicaciones',\n 'hace cinturones': 'hace cinturones',\n 'policía': 'policía',\n 'repartidor': 'repartidor',\n 'instalación de cámaras': 'instalación de cámaras',\n 'hospital': 'hospital',\n 'coordinador territorial': 'coordinador territorial',\n 'representante de ventas': 'representante de ventas',\n 'empleado federal': 'empleado'}"
     },
     "execution_count": 28,
     "metadata": {},
     "output_type": "execute_result"
    }
   ],
   "source": [
    "mapeo_correcciones5 = dict(zip(trabajos_nuevos5, correccion5))\n",
    "mapeo_correcciones5"
   ],
   "metadata": {
    "collapsed": false,
    "ExecuteTime": {
     "end_time": "2024-06-28T19:05:20.692895Z",
     "start_time": "2024-06-28T19:05:20.689573Z"
    }
   },
   "execution_count": 28
  },
  {
   "cell_type": "code",
   "outputs": [
    {
     "data": {
      "text/plain": "0                                             abarrotes\n1                                               abogado\n2                                            acomodador\n3                                         administrador\n4                                            arquitecto\n                            ...                        \n69    vendedor de productos por internet (mercado pa...\n70                  vendedor de tiendas departamentales\n71          vendedor por cuenta propia (negocio propio)\n72                                               ventas\n73                                            vigilante\nName: trabajo, Length: 74, dtype: object"
     },
     "execution_count": 29,
     "metadata": {},
     "output_type": "execute_result"
    }
   ],
   "source": [
    "encuesta['trabajo'] = encuesta['trabajo'].str.lower()\n",
    "encuesta['trabajo'] = encuesta['trabajo'].str.strip()\n",
    "encuesta['trabajo'] = encuesta['trabajo'].replace(mapeo_correcciones5)\n",
    "encuesta['trabajo'] = encuesta['trabajo'].str.replace(r'_\\d+', '', regex=True)\n",
    "mostrar_unicos(encuesta, 'trabajo')"
   ],
   "metadata": {
    "collapsed": false,
    "ExecuteTime": {
     "end_time": "2024-06-28T19:05:20.701068Z",
     "start_time": "2024-06-28T19:05:20.693617Z"
    }
   },
   "execution_count": 29
  },
  {
   "cell_type": "code",
   "outputs": [
    {
     "data": {
      "text/plain": "0                                                ninguna\n1                                                ninguna\n2                                                ninguna\n3                                                ninguna\n4                                                ninguna\n                             ...                        \n695                                             empleado\n696                                              ninguna\n697    investigador-profesor en universidad/preparatoria\n698                                           estudiante\n699                                              ninguna\nName: trabajo, Length: 700, dtype: object"
     },
     "execution_count": 30,
     "metadata": {},
     "output_type": "execute_result"
    }
   ],
   "source": [
    "encuesta['trabajo']"
   ],
   "metadata": {
    "collapsed": false,
    "ExecuteTime": {
     "end_time": "2024-06-28T19:05:20.706578Z",
     "start_time": "2024-06-28T19:05:20.703462Z"
    }
   },
   "execution_count": 30
  },
  {
   "cell_type": "markdown",
   "source": [
    "### Modificar algunos sinónimos"
   ],
   "metadata": {
    "collapsed": false
   }
  },
  {
   "cell_type": "code",
   "outputs": [],
   "source": [
    "encuesta.iloc[532, encuesta.columns.get_loc('trabajo')] = 'empleado'\n",
    "encuesta.iloc[403, encuesta.columns.get_loc('trabajo')] = 'empleado'\n",
    "encuesta.iloc[46, encuesta.columns.get_loc('trabajo')] = 'coordinador'\n",
    "encuesta.iloc[577, encuesta.columns.get_loc('trabajo')] ='financiero'\n",
    "encuesta.iloc[54, encuesta.columns.get_loc('trabajo')] ='financiero'\n",
    "encuesta.iloc[276, encuesta.columns.get_loc('trabajo')] ='biólogo'\n",
    "encuesta.iloc[590, encuesta.columns.get_loc('trabajo')] ='vendedor'\n",
    "encuesta.iloc[170, encuesta.columns.get_loc('trabajo')] ='vendedor'\n",
    "encuesta.iloc[684, encuesta.columns.get_loc('trabajo')] ='vendedor'\n",
    "encuesta.iloc[622, encuesta.columns.get_loc('trabajo')] ='ingeniero'\n",
    "encuesta.iloc[468, encuesta.columns.get_loc('trabajo')] ='entrenador'\n",
    "encuesta.iloc[488, encuesta.columns.get_loc('trabajo')] ='entrenador'\n",
    "encuesta.iloc[499, encuesta.columns.get_loc('trabajo')] ='mesero'\n",
    "encuesta.iloc[87, encuesta.columns.get_loc('trabajo')] ='trabajadores de limpieza'\n",
    "encuesta.iloc[522, encuesta.columns.get_loc('trabajo')] ='trabaja en banco'\n",
    "encuesta.iloc[42, encuesta.columns.get_loc('trabajo')] ='vendedor'"
   ],
   "metadata": {
    "collapsed": false,
    "ExecuteTime": {
     "end_time": "2024-06-28T19:05:20.711629Z",
     "start_time": "2024-06-28T19:05:20.707174Z"
    }
   },
   "execution_count": 31
  },
  {
   "cell_type": "markdown",
   "source": [
    "### Creación de categorías"
   ],
   "metadata": {
    "collapsed": false
   }
  },
  {
   "cell_type": "code",
   "outputs": [
    {
     "name": "stdout",
     "output_type": "stream",
     "text": [
      "La ocupacion no trabaja/trabajaba es desconocida\n",
      "La ocupacion no trabaja/trabajaba es desconocida\n",
      "La ocupacion no trabaja/trabajaba es desconocida\n",
      "La ocupacion no trabaja/trabajaba es desconocida\n",
      "La ocupacion no trabaja/trabajaba es desconocida\n",
      "La ocupacion no trabaja/trabajaba es desconocida\n",
      "La ocupacion no trabaja/trabajaba es desconocida\n",
      "La ocupacion no trabaja/trabajaba es desconocida\n",
      "La ocupacion no trabaja/trabajaba es desconocida\n",
      "La ocupacion coordinador es desconocida\n",
      "La ocupacion no trabaja/trabajaba es desconocida\n",
      "La ocupacion no trabaja/trabajaba es desconocida\n",
      "La ocupacion financiero es desconocida\n",
      "La ocupacion no trabaja/trabajaba es desconocida\n",
      "La ocupacion no trabaja/trabajaba es desconocida\n",
      "La ocupacion no trabaja/trabajaba es desconocida\n",
      "La ocupacion no trabaja/trabajaba es desconocida\n",
      "La ocupacion no trabaja/trabajaba es desconocida\n",
      "La ocupacion no trabaja/trabajaba es desconocida\n",
      "La ocupacion no trabaja/trabajaba es desconocida\n",
      "La ocupacion no trabaja/trabajaba es desconocida\n",
      "La ocupacion no trabaja/trabajaba es desconocida\n",
      "La ocupacion no trabaja/trabajaba es desconocida\n",
      "La ocupacion no trabaja/trabajaba es desconocida\n",
      "La ocupacion no trabaja/trabajaba es desconocida\n",
      "La ocupacion no trabaja/trabajaba es desconocida\n",
      "La ocupacion no trabaja/trabajaba es desconocida\n",
      "La ocupacion no trabaja/trabajaba es desconocida\n",
      "La ocupacion no trabaja/trabajaba es desconocida\n",
      "La ocupacion no trabaja/trabajaba es desconocida\n",
      "La ocupacion no trabaja/trabajaba es desconocida\n",
      "La ocupacion no trabaja/trabajaba es desconocida\n",
      "La ocupacion no trabaja/trabajaba es desconocida\n",
      "La ocupacion no trabaja/trabajaba es desconocida\n",
      "La ocupacion no trabaja/trabajaba es desconocida\n",
      "La ocupacion no trabaja/trabajaba es desconocida\n",
      "La ocupacion no trabaja/trabajaba es desconocida\n",
      "La ocupacion radio es desconocida\n",
      "La ocupacion no trabaja/trabajaba es desconocida\n",
      "La ocupacion no trabaja/trabajaba es desconocida\n",
      "La ocupacion producciones musicales es desconocida\n",
      "La ocupacion no trabaja/trabajaba es desconocida\n",
      "La ocupacion no trabaja/trabajaba es desconocida\n",
      "La ocupacion no trabaja/trabajaba es desconocida\n",
      "La ocupacion ingeniero civil/albañil o trabajador general es desconocida\n",
      "La ocupacion innovacion tecnologica es desconocida\n",
      "La ocupacion no trabaja/trabajaba es desconocida\n",
      "La ocupacion no trabaja/trabajaba es desconocida\n",
      "La ocupacion no trabaja/trabajaba es desconocida\n",
      "La ocupacion no trabaja/trabajaba es desconocida\n",
      "La ocupacion relaciones laborales es desconocida\n",
      "La ocupacion bienes raices es desconocida\n",
      "La ocupacion no trabaja/trabajaba es desconocida\n",
      "La ocupacion no trabaja/trabajaba es desconocida\n",
      "La ocupacion no trabaja/trabajaba es desconocida\n",
      "La ocupacion no trabaja/trabajaba es desconocida\n",
      "La ocupacion no trabaja/trabajaba es desconocida\n",
      "La ocupacion no trabaja/trabajaba es desconocida\n",
      "La ocupacion no trabaja/trabajaba es desconocida\n",
      "La ocupacion no trabaja/trabajaba es desconocida\n",
      "La ocupacion no trabaja/trabajaba es desconocida\n",
      "La ocupacion no trabaja/trabajaba es desconocida\n",
      "La ocupacion cuartos de escape es desconocida\n",
      "La ocupacion tese del estado de méxico es desconocida\n",
      "La ocupacion no trabaja/trabajaba es desconocida\n",
      "La ocupacion no trabaja/trabajaba es desconocida\n",
      "La ocupacion no trabaja/trabajaba es desconocida\n",
      "La ocupacion no trabaja/trabajaba es desconocida\n",
      "La ocupacion no trabaja/trabajaba es desconocida\n",
      "La ocupacion mensajeria es desconocida\n",
      "La ocupacion cobranza es desconocida\n",
      "La ocupacion no trabaja/trabajaba es desconocida\n",
      "La ocupacion no trabaja/trabajaba es desconocida\n",
      "La ocupacion no trabaja/trabajaba es desconocida\n",
      "La ocupacion no trabaja/trabajaba es desconocida\n",
      "La ocupacion no trabaja/trabajaba es desconocida\n",
      "La ocupacion comerciante sector informal es desconocida\n",
      "La ocupacion no trabaja/trabajaba es desconocida\n",
      "La ocupacion no trabaja/trabajaba es desconocida\n",
      "La ocupacion no trabaja/trabajaba es desconocida\n",
      "La ocupacion no trabaja/trabajaba es desconocida\n",
      "La ocupacion no trabaja/trabajaba es desconocida\n",
      "La ocupacion no trabaja/trabajaba es desconocida\n",
      "La ocupacion no trabaja/trabajaba es desconocida\n",
      "La ocupacion no trabaja/trabajaba es desconocida\n",
      "La ocupacion residente es desconocida\n",
      "La ocupacion no trabaja/trabajaba es desconocida\n",
      "La ocupacion no trabaja/trabajaba es desconocida\n",
      "La ocupacion trabaja en banco es desconocida\n",
      "La ocupacion no trabaja/trabajaba es desconocida\n",
      "La ocupacion acomodador es desconocida\n",
      "La ocupacion no trabaja/trabajaba es desconocida\n",
      "La ocupacion no trabaja/trabajaba es desconocida\n",
      "La ocupacion no trabaja/trabajaba es desconocida\n",
      "La ocupacion no trabaja/trabajaba es desconocida\n",
      "La ocupacion financiero es desconocida\n",
      "La ocupacion auditor es desconocida\n",
      "La ocupacion no trabaja/trabajaba es desconocida\n",
      "La ocupacion ingeniero civil/albañil o trabajador general es desconocida\n",
      "La ocupacion no trabaja/trabajaba es desconocida\n",
      "La ocupacion no trabaja/trabajaba es desconocida\n",
      "La ocupacion hace cinturones es desconocida\n",
      "La ocupacion ingeniero civil/albañil o trabajador general es desconocida\n",
      "La ocupacion instalación de cámaras es desconocida\n",
      "La ocupacion hospital es desconocida\n",
      "La ocupacion coordinador territorial es desconocida\n",
      "La ocupacion no trabaja/trabajaba es desconocida\n"
     ]
    }
   ],
   "source": [
    "categorias = pd.Series(dtype='string', index=encuesta.index)\n",
    "for i, ocupacion in encuesta['trabajo'][encuesta['trabajo'].notna()].items():\n",
    "    registrada = False\n",
    "    if ocupacion == 'ninguna':\n",
    "        categorias.loc[i] = 'desconocido_99'\n",
    "        registrada = True\n",
    "    else:\n",
    "        for categoria, ocupaciones_dentro_de_categoria in codigos_ocupaciones.items():\n",
    "            if ocupacion in ocupaciones_dentro_de_categoria:\n",
    "                categorias.loc[i] = categoria\n",
    "                registrada = True\n",
    "                break\n",
    "        if not registrada:\n",
    "            print(f'La ocupacion {ocupacion} es desconocida')\n",
    "            categorias.loc[i] = 'desconocido_99'"
   ],
   "metadata": {
    "collapsed": false,
    "ExecuteTime": {
     "end_time": "2024-06-28T19:05:20.725782Z",
     "start_time": "2024-06-28T19:05:20.712815Z"
    }
   },
   "execution_count": 32
  },
  {
   "cell_type": "code",
   "outputs": [
    {
     "data": {
      "text/plain": "0                  actividades deportivas_1\n1     actividades elementales y de apoyo_20\n2                          administrativo_9\n3                                 artista_2\n4                     atención a clientes_8\n5                                  chofer_3\n6               comerciante sector formal_5\n7             comerciante sector informal_4\n8                        comercio virtual_7\n9                           construcción_17\n10                           desconocido_99\n11                empleado gubernamental_11\n12                             empresario_6\n13                               fábrica_18\n14          gubernamental administrativo_10\n15                               oficios_21\n16           profesionista independiente_14\n17                             seguridad_15\n18                      área de la salud_16\n19                        área educativa_13\ndtype: string"
     },
     "execution_count": 33,
     "metadata": {},
     "output_type": "execute_result"
    }
   ],
   "source": [
    "categorias.drop_duplicates().sort_values().reset_index(drop=True)"
   ],
   "metadata": {
    "collapsed": false,
    "ExecuteTime": {
     "end_time": "2024-06-28T19:05:20.734342Z",
     "start_time": "2024-06-28T19:05:20.728199Z"
    }
   },
   "execution_count": 33
  },
  {
   "cell_type": "code",
   "outputs": [
    {
     "data": {
      "text/plain": "desconocido_99                           565\nárea educativa_13                         31\nprofesionista independiente_14            14\nfábrica_18                                13\nactividades elementales y de apoyo_20     13\nempleado gubernamental_11                 11\ncomerciante sector informal_4              8\natención a clientes_8                      6\nactividades deportivas_1                   5\nartista_2                                  5\nconstrucción_17                            4\nseguridad_15                               4\nadministrativo_9                           4\nempresario_6                               3\ncomerciante sector formal_5                3\ncomercio virtual_7                         3\nárea de la salud_16                        3\nchofer_3                                   2\ngubernamental administrativo_10            2\noficios_21                                 1\nName: count, dtype: Int64"
     },
     "execution_count": 34,
     "metadata": {},
     "output_type": "execute_result"
    }
   ],
   "source": [
    "categorias.value_counts()"
   ],
   "metadata": {
    "collapsed": false,
    "ExecuteTime": {
     "end_time": "2024-06-28T19:05:20.739735Z",
     "start_time": "2024-06-28T19:05:20.734900Z"
    }
   },
   "execution_count": 34
  },
  {
   "cell_type": "code",
   "outputs": [
    {
     "data": {
      "text/plain": "trabajo\nninguna                      458\nno trabaja/trabajaba          83\nestudiante                    26\nempleado                      13\nadministrador                 11\n                            ... \nsecundaria                     1\ncuartos de escape              1\ntese del estado de méxico      1\ntelefonía                      1\ncoordinador territorial        1\nName: count, Length: 68, dtype: int64"
     },
     "execution_count": 35,
     "metadata": {},
     "output_type": "execute_result"
    }
   ],
   "source": [
    "encuesta['trabajo'].value_counts()"
   ],
   "metadata": {
    "collapsed": false,
    "ExecuteTime": {
     "end_time": "2024-06-28T19:05:20.743834Z",
     "start_time": "2024-06-28T19:05:20.740391Z"
    }
   },
   "execution_count": 35
  },
  {
   "cell_type": "code",
   "outputs": [
    {
     "data": {
      "text/plain": "1                                              trabajo          categoria\n0                                              ninguna     desconocido_99\n1                                              ninguna     desconocido_99\n2                                              ninguna     desconocido_99\n3                                              ninguna     desconocido_99\n4                                              ninguna     desconocido_99\n..                                                 ...                ...\n695                                           empleado         fábrica_18\n696                                            ninguna     desconocido_99\n697  investigador-profesor en universidad/preparatoria  área educativa_13\n698                                         estudiante  área educativa_13\n699                                            ninguna     desconocido_99\n\n[700 rows x 2 columns]",
      "text/html": "<div>\n<style scoped>\n    .dataframe tbody tr th:only-of-type {\n        vertical-align: middle;\n    }\n\n    .dataframe tbody tr th {\n        vertical-align: top;\n    }\n\n    .dataframe thead th {\n        text-align: right;\n    }\n</style>\n<table border=\"1\" class=\"dataframe\">\n  <thead>\n    <tr style=\"text-align: right;\">\n      <th>1</th>\n      <th>trabajo</th>\n      <th>categoria</th>\n    </tr>\n  </thead>\n  <tbody>\n    <tr>\n      <th>0</th>\n      <td>ninguna</td>\n      <td>desconocido_99</td>\n    </tr>\n    <tr>\n      <th>1</th>\n      <td>ninguna</td>\n      <td>desconocido_99</td>\n    </tr>\n    <tr>\n      <th>2</th>\n      <td>ninguna</td>\n      <td>desconocido_99</td>\n    </tr>\n    <tr>\n      <th>3</th>\n      <td>ninguna</td>\n      <td>desconocido_99</td>\n    </tr>\n    <tr>\n      <th>4</th>\n      <td>ninguna</td>\n      <td>desconocido_99</td>\n    </tr>\n    <tr>\n      <th>...</th>\n      <td>...</td>\n      <td>...</td>\n    </tr>\n    <tr>\n      <th>695</th>\n      <td>empleado</td>\n      <td>fábrica_18</td>\n    </tr>\n    <tr>\n      <th>696</th>\n      <td>ninguna</td>\n      <td>desconocido_99</td>\n    </tr>\n    <tr>\n      <th>697</th>\n      <td>investigador-profesor en universidad/preparatoria</td>\n      <td>área educativa_13</td>\n    </tr>\n    <tr>\n      <th>698</th>\n      <td>estudiante</td>\n      <td>área educativa_13</td>\n    </tr>\n    <tr>\n      <th>699</th>\n      <td>ninguna</td>\n      <td>desconocido_99</td>\n    </tr>\n  </tbody>\n</table>\n<p>700 rows × 2 columns</p>\n</div>"
     },
     "execution_count": 36,
     "metadata": {},
     "output_type": "execute_result"
    }
   ],
   "source": [
    "encuesta['categoria'] = categorias\n",
    "encuesta[['trabajo', 'categoria']]"
   ],
   "metadata": {
    "collapsed": false,
    "ExecuteTime": {
     "end_time": "2024-06-28T19:05:20.750164Z",
     "start_time": "2024-06-28T19:05:20.745813Z"
    }
   },
   "execution_count": 36
  },
  {
   "cell_type": "markdown",
   "source": [
    "### Asignación de la columna \"Trabajas[Pareja]\"\n",
    "Esta columna se crea para corregir los datos de zoom 3, donde no se realiza la pregunta: ¿En qué trabajas\".La creación de esta columna nos ayudará a poder limpiar aquellos trabajos que esten nombrados como: \"no trabaja/trabajaba\"."
   ],
   "metadata": {
    "collapsed": false
   }
  },
  {
   "cell_type": "code",
   "outputs": [],
   "source": [
    "import pandas as pd\n",
    "\n",
    "# Supongamos que tu DataFrame se llama 'encuesta' y ya está creado\n",
    "encuesta['Trabajas[Pareja]'] = ''\n",
    "\n",
    "# Recorremos cada fila del dataframe\n",
    "for index, row in encuesta.iterrows():\n",
    "    # Verificamos la condición en la columna 'trabajo' de cada fila\n",
    "    if row['trabajo'] in ['no trabaja/trabajaba', 'ninguna']:\n",
    "        # Si la condición es verdadera, establecemos el valor 'N' en la columna 'Trabajas[Pareja]'\n",
    "        encuesta.at[index, 'Trabajas[Pareja]'] = 'N'\n",
    "    else:\n",
    "        # Si la condición es falsa, establecemos el valor 'Y' en la columna 'Trabajas[Pareja]'\n",
    "        encuesta.at[index, 'Trabajas[Pareja]'] = 'Y'\n",
    "\n",
    "# Reordenar la lista de columnas para que 'Trabajas[Pareja]' esté antes de 'trabajo'\n",
    "column_order = list(encuesta.columns)\n",
    "\n",
    "# Mover 'Trabajas[Pareja]' antes de 'trabajo'\n",
    "column_order.insert(column_order.index('trabajo'), column_order.pop(column_order.index('Trabajas[Pareja]')))\n",
    "\n",
    "# Reasignar el orden de las columnas en el dataframe\n",
    "encuesta = encuesta[column_order]\n"
   ],
   "metadata": {
    "collapsed": false,
    "ExecuteTime": {
     "end_time": "2024-06-28T19:05:20.776945Z",
     "start_time": "2024-06-28T19:05:20.750684Z"
    }
   },
   "execution_count": 37
  },
  {
   "cell_type": "code",
   "outputs": [
    {
     "data": {
      "text/plain": "1   Trabajas[Pareja]                                            trabajo  \\\n0                  N                                            ninguna   \n1                  N                                            ninguna   \n2                  N                                            ninguna   \n3                  N                                            ninguna   \n4                  N                                            ninguna   \n..               ...                                                ...   \n695                Y                                           empleado   \n696                N                                            ninguna   \n697                Y  investigador-profesor en universidad/preparatoria   \n698                Y                                         estudiante   \n699                N                                            ninguna   \n\n1            categoria  \n0       desconocido_99  \n1       desconocido_99  \n2       desconocido_99  \n3       desconocido_99  \n4       desconocido_99  \n..                 ...  \n695         fábrica_18  \n696     desconocido_99  \n697  área educativa_13  \n698  área educativa_13  \n699     desconocido_99  \n\n[700 rows x 3 columns]",
      "text/html": "<div>\n<style scoped>\n    .dataframe tbody tr th:only-of-type {\n        vertical-align: middle;\n    }\n\n    .dataframe tbody tr th {\n        vertical-align: top;\n    }\n\n    .dataframe thead th {\n        text-align: right;\n    }\n</style>\n<table border=\"1\" class=\"dataframe\">\n  <thead>\n    <tr style=\"text-align: right;\">\n      <th>1</th>\n      <th>Trabajas[Pareja]</th>\n      <th>trabajo</th>\n      <th>categoria</th>\n    </tr>\n  </thead>\n  <tbody>\n    <tr>\n      <th>0</th>\n      <td>N</td>\n      <td>ninguna</td>\n      <td>desconocido_99</td>\n    </tr>\n    <tr>\n      <th>1</th>\n      <td>N</td>\n      <td>ninguna</td>\n      <td>desconocido_99</td>\n    </tr>\n    <tr>\n      <th>2</th>\n      <td>N</td>\n      <td>ninguna</td>\n      <td>desconocido_99</td>\n    </tr>\n    <tr>\n      <th>3</th>\n      <td>N</td>\n      <td>ninguna</td>\n      <td>desconocido_99</td>\n    </tr>\n    <tr>\n      <th>4</th>\n      <td>N</td>\n      <td>ninguna</td>\n      <td>desconocido_99</td>\n    </tr>\n    <tr>\n      <th>...</th>\n      <td>...</td>\n      <td>...</td>\n      <td>...</td>\n    </tr>\n    <tr>\n      <th>695</th>\n      <td>Y</td>\n      <td>empleado</td>\n      <td>fábrica_18</td>\n    </tr>\n    <tr>\n      <th>696</th>\n      <td>N</td>\n      <td>ninguna</td>\n      <td>desconocido_99</td>\n    </tr>\n    <tr>\n      <th>697</th>\n      <td>Y</td>\n      <td>investigador-profesor en universidad/preparatoria</td>\n      <td>área educativa_13</td>\n    </tr>\n    <tr>\n      <th>698</th>\n      <td>Y</td>\n      <td>estudiante</td>\n      <td>área educativa_13</td>\n    </tr>\n    <tr>\n      <th>699</th>\n      <td>N</td>\n      <td>ninguna</td>\n      <td>desconocido_99</td>\n    </tr>\n  </tbody>\n</table>\n<p>700 rows × 3 columns</p>\n</div>"
     },
     "execution_count": 38,
     "metadata": {},
     "output_type": "execute_result"
    }
   ],
   "source": [
    " encuesta[['Trabajas[Pareja]','trabajo', 'categoria']]"
   ],
   "metadata": {
    "collapsed": false,
    "ExecuteTime": {
     "end_time": "2024-06-28T19:05:20.783119Z",
     "start_time": "2024-06-28T19:05:20.777562Z"
    }
   },
   "execution_count": 38
  },
  {
   "cell_type": "code",
   "outputs": [],
   "source": [
    "encuesta['trabajo'] = encuesta['trabajo'].str.strip().replace('no trabaja/trabajaba', 'ninguna')"
   ],
   "metadata": {
    "collapsed": false,
    "ExecuteTime": {
     "end_time": "2024-06-28T19:05:20.787083Z",
     "start_time": "2024-06-28T19:05:20.783928Z"
    }
   },
   "execution_count": 39
  },
  {
   "cell_type": "markdown",
   "source": [
    "### Últimas modificaciones sobre categorías"
   ],
   "metadata": {
    "collapsed": false
   }
  },
  {
   "cell_type": "code",
   "outputs": [],
   "source": [
    "encuesta.iloc[233, encuesta.columns.get_loc('trabajo')]=\"químico farmacobiólogo\""
   ],
   "metadata": {
    "collapsed": false,
    "ExecuteTime": {
     "end_time": "2024-06-28T19:05:20.790151Z",
     "start_time": "2024-06-28T19:05:20.787724Z"
    }
   },
   "execution_count": 40
  },
  {
   "cell_type": "code",
   "outputs": [],
   "source": [
    "ocupaciones_formal = [\"comerciante sector formal\"]\n",
    "encuesta.loc[encuesta['trabajo'].isin(ocupaciones_formal), 'categoria'] = \"comerciante sector formal_5\"\n",
    "ocupaciones_informal = [\"comerciante sector informal\",\"sobrerruedas\",\"vendedor\",'flores y productos en un puesto no establecido']\n",
    "encuesta.loc[encuesta['trabajo'].isin(ocupaciones_informal), 'categoria'] = \"comerciante sector informal_4\""
   ],
   "metadata": {
    "collapsed": false,
    "ExecuteTime": {
     "end_time": "2024-06-28T19:05:20.794675Z",
     "start_time": "2024-06-28T19:05:20.790753Z"
    }
   },
   "execution_count": 41
  },
  {
   "cell_type": "code",
   "outputs": [],
   "source": [
    "ocupaciones_of = [\"cobranza\",\"acomodador\",\"mensajeria\",\"petrolero\",\"plomero\",\"joyero\",\"mecánico\",\"armero\", \"bombero\",\"ganadero\"]\n",
    "encuesta.loc[encuesta['trabajo'].isin(ocupaciones_of), 'categoria'] = \"oficios_21\""
   ],
   "metadata": {
    "collapsed": false,
    "ExecuteTime": {
     "end_time": "2024-06-28T19:05:20.798715Z",
     "start_time": "2024-06-28T19:05:20.795353Z"
    }
   },
   "execution_count": 42
  },
  {
   "cell_type": "code",
   "outputs": [],
   "source": [
    "ocupaciones_profin= [\"historiador\",\"químico farmacobiólogo\",\"periodista\",\"veterinario\",\"financiero\"]\n",
    "encuesta.loc[encuesta['trabajo'].isin(ocupaciones_profin), 'categoria'] = \"profesionista independiente_14\""
   ],
   "metadata": {
    "collapsed": false,
    "ExecuteTime": {
     "end_time": "2024-06-28T19:05:20.802346Z",
     "start_time": "2024-06-28T19:05:20.799325Z"
    }
   },
   "execution_count": 43
  },
  {
   "cell_type": "code",
   "outputs": [],
   "source": [
    "ocupaciones_guber = [\"empleado gubernamental\", 'auditor', 'trabaja en delegación', \"luz y fuerza\",\"compañia de luz\", \"hacienda\",\"jurisprudencia\",\"presidente de la republica\",\"diputado\",\"bolsa de valores\",\"tese del estado de méxico\",\"coordinador\",\"coordinador territorial\"]\n",
    "encuesta.loc[encuesta['trabajo'].isin(ocupaciones_guber), 'categoria'] = \"empleado gubernamental_11\""
   ],
   "metadata": {
    "collapsed": false,
    "ExecuteTime": {
     "end_time": "2024-06-28T19:05:20.805696Z",
     "start_time": "2024-06-28T19:05:20.803032Z"
    }
   },
   "execution_count": 44
  },
  {
   "cell_type": "code",
   "outputs": [],
   "source": [
    "ocupaciones_cons = [\"contratista\",\"ingeniero civil/albañil o trabajador general\", \"caminos y puentes\"]\n",
    "encuesta.loc[encuesta['trabajo'].isin(ocupaciones_cons), 'categoria'] = \"construcción_17\""
   ],
   "metadata": {
    "collapsed": false,
    "ExecuteTime": {
     "end_time": "2024-06-28T19:05:20.808712Z",
     "start_time": "2024-06-28T19:05:20.806331Z"
    }
   },
   "execution_count": 45
  },
  {
   "cell_type": "code",
   "outputs": [],
   "source": [
    "ocupaciones_saludd= [\"optometrista\",\"podológo\",\"anestesiólogo\",\"área de la salud\",\"hospital\",\"residente\"]\n",
    "encuesta.loc[encuesta['trabajo'].isin(ocupaciones_saludd), 'categoria'] = \"área de la salud_16\""
   ],
   "metadata": {
    "collapsed": false,
    "ExecuteTime": {
     "end_time": "2024-06-28T19:05:20.812516Z",
     "start_time": "2024-06-28T19:05:20.809389Z"
    }
   },
   "execution_count": 46
  },
  {
   "cell_type": "code",
   "outputs": [],
   "source": [
    "ocupaciones_cliente= [\"trabajador en cine\",\"bienes raices\",\"cuartos de escape\"]\n",
    "encuesta.loc[encuesta['trabajo'].isin(ocupaciones_cliente), 'categoria'] = \"atención a clientes_8\"\n",
    "ocupaciones_tec = [\"instalación de cámaras\"]\n",
    "encuesta.loc[encuesta['trabajo'].isin(ocupaciones_tec), 'categoria'] = \"personal técnico_12\""
   ],
   "metadata": {
    "collapsed": false,
    "ExecuteTime": {
     "end_time": "2024-06-28T19:05:20.816537Z",
     "start_time": "2024-06-28T19:05:20.813125Z"
    }
   },
   "execution_count": 47
  },
  {
   "cell_type": "code",
   "outputs": [],
   "source": [
    "ocupaciones_admin = [\"trabaja en banco\",\"relaciones laborales\"]\n",
    "encuesta.loc[encuesta['trabajo'].isin(ocupaciones_admin), 'categoria'] = \"administrativo_9\"\n",
    "ocupaciones_art= [\"producciones musicales\"]\n",
    "encuesta.loc[encuesta['trabajo'].isin(ocupaciones_art), 'categoria'] = \"artista_2\""
   ],
   "metadata": {
    "collapsed": false,
    "ExecuteTime": {
     "end_time": "2024-06-28T19:05:20.820292Z",
     "start_time": "2024-06-28T19:05:20.817115Z"
    }
   },
   "execution_count": 48
  },
  {
   "cell_type": "code",
   "outputs": [
    {
     "data": {
      "text/plain": "categoria\ndesconocido_99                           544\nárea educativa_13                         31\nprofesionista independiente_14            17\nempleado gubernamental_11                 15\nfábrica_18                                13\nactividades elementales y de apoyo_20     13\ncomerciante sector informal_4              9\natención a clientes_8                      8\nconstrucción_17                            7\nadministrativo_9                           6\nartista_2                                  6\nactividades deportivas_1                   5\nseguridad_15                               4\nárea de la salud_16                        4\noficios_21                                 4\ncomercio virtual_7                         3\nempresario_6                               3\ncomerciante sector formal_5                3\nchofer_3                                   2\ngubernamental administrativo_10            2\npersonal técnico_12                        1\nName: count, dtype: Int64"
     },
     "execution_count": 49,
     "metadata": {},
     "output_type": "execute_result"
    }
   ],
   "source": [
    "encuesta['categoria'].value_counts()"
   ],
   "metadata": {
    "collapsed": false,
    "ExecuteTime": {
     "end_time": "2024-06-28T19:05:20.823900Z",
     "start_time": "2024-06-28T19:05:20.820885Z"
    }
   },
   "execution_count": 49
  },
  {
   "cell_type": "code",
   "outputs": [
    {
     "data": {
      "text/plain": "1                                              trabajo          categoria\n0                                              ninguna     desconocido_99\n1                                              ninguna     desconocido_99\n2                                              ninguna     desconocido_99\n3                                              ninguna     desconocido_99\n4                                              ninguna     desconocido_99\n..                                                 ...                ...\n695                                           empleado         fábrica_18\n696                                            ninguna     desconocido_99\n697  investigador-profesor en universidad/preparatoria  área educativa_13\n698                                         estudiante  área educativa_13\n699                                            ninguna     desconocido_99\n\n[700 rows x 2 columns]",
      "text/html": "<div>\n<style scoped>\n    .dataframe tbody tr th:only-of-type {\n        vertical-align: middle;\n    }\n\n    .dataframe tbody tr th {\n        vertical-align: top;\n    }\n\n    .dataframe thead th {\n        text-align: right;\n    }\n</style>\n<table border=\"1\" class=\"dataframe\">\n  <thead>\n    <tr style=\"text-align: right;\">\n      <th>1</th>\n      <th>trabajo</th>\n      <th>categoria</th>\n    </tr>\n  </thead>\n  <tbody>\n    <tr>\n      <th>0</th>\n      <td>ninguna</td>\n      <td>desconocido_99</td>\n    </tr>\n    <tr>\n      <th>1</th>\n      <td>ninguna</td>\n      <td>desconocido_99</td>\n    </tr>\n    <tr>\n      <th>2</th>\n      <td>ninguna</td>\n      <td>desconocido_99</td>\n    </tr>\n    <tr>\n      <th>3</th>\n      <td>ninguna</td>\n      <td>desconocido_99</td>\n    </tr>\n    <tr>\n      <th>4</th>\n      <td>ninguna</td>\n      <td>desconocido_99</td>\n    </tr>\n    <tr>\n      <th>...</th>\n      <td>...</td>\n      <td>...</td>\n    </tr>\n    <tr>\n      <th>695</th>\n      <td>empleado</td>\n      <td>fábrica_18</td>\n    </tr>\n    <tr>\n      <th>696</th>\n      <td>ninguna</td>\n      <td>desconocido_99</td>\n    </tr>\n    <tr>\n      <th>697</th>\n      <td>investigador-profesor en universidad/preparatoria</td>\n      <td>área educativa_13</td>\n    </tr>\n    <tr>\n      <th>698</th>\n      <td>estudiante</td>\n      <td>área educativa_13</td>\n    </tr>\n    <tr>\n      <th>699</th>\n      <td>ninguna</td>\n      <td>desconocido_99</td>\n    </tr>\n  </tbody>\n</table>\n<p>700 rows × 2 columns</p>\n</div>"
     },
     "execution_count": 50,
     "metadata": {},
     "output_type": "execute_result"
    }
   ],
   "source": [
    "encuesta[['trabajo', 'categoria']]"
   ],
   "metadata": {
    "collapsed": false,
    "ExecuteTime": {
     "end_time": "2024-06-28T19:05:20.828788Z",
     "start_time": "2024-06-28T19:05:20.824419Z"
    }
   },
   "execution_count": 50
  },
  {
   "cell_type": "markdown",
   "source": [
    "### Resultado final"
   ],
   "metadata": {
    "collapsed": false
   }
  },
  {
   "cell_type": "code",
   "outputs": [
    {
     "data": {
      "text/plain": "{'desconocido_99': 'A99',\n 'artista_2': 'A02',\n 'comercio virtual_7': 'A07',\n 'área educativa_13': 'A13',\n 'empleado gubernamental_11': 'A11',\n 'comerciante sector informal_4': 'A04',\n 'profesionista independiente_14': 'A14',\n 'construcción_17': 'A17',\n 'atención a clientes_8': 'A08',\n 'actividades elementales y de apoyo_20': 'A20',\n 'administrativo_9': 'A09',\n 'fábrica_18': 'A18',\n 'empresario_6': 'A06',\n 'actividades deportivas_1': 'A01',\n 'comerciante sector formal_5': 'A05',\n 'seguridad_15': 'A15',\n 'chofer_3': 'A03',\n 'área de la salud_16': 'A16',\n 'gubernamental administrativo_10': 'A10',\n 'oficios_21': 'A21'}"
     },
     "execution_count": 51,
     "metadata": {},
     "output_type": "execute_result"
    }
   ],
   "source": [
    "mapeo_codigos_categoria5 = {}\n",
    "for cat in categorias.drop_duplicates():\n",
    "    numero = re.findall(r'_(\\d+)', cat)[0]\n",
    "    mapeo_codigos_categoria5[cat] = 'A' + str(numero).zfill(2)\n",
    "mapeo_codigos_categoria5"
   ],
   "metadata": {
    "collapsed": false,
    "ExecuteTime": {
     "end_time": "2024-06-28T19:05:20.832408Z",
     "start_time": "2024-06-28T19:05:20.829382Z"
    }
   },
   "execution_count": 51
  },
  {
   "cell_type": "code",
   "outputs": [
    {
     "data": {
      "text/plain": "{'desconocido_99': 'A99',\n 'artista_2': 'A02',\n 'comercio virtual_7': 'A07',\n 'área educativa_13': 'A13',\n 'empleado gubernamental_11': 'A11',\n 'comerciante sector informal_4': 'A04',\n 'profesionista independiente_14': 'A14',\n 'construcción_17': 'A17',\n 'atención a clientes_8': 'A08',\n 'actividades elementales y de apoyo_20': 'A20',\n 'administrativo_9': 'A09',\n 'fábrica_18': 'A18',\n 'empresario_6': 'A06',\n 'actividades deportivas_1': 'A01',\n 'comerciante sector formal_5': 'A05',\n 'seguridad_15': 'A15',\n 'chofer_3': 'A03',\n 'área de la salud_16': 'A16',\n 'gubernamental administrativo_10': 'A10',\n 'oficios_21': 'A21',\n 'personal técnico_12': 'A12'}"
     },
     "execution_count": 52,
     "metadata": {},
     "output_type": "execute_result"
    }
   ],
   "source": [
    "mapeo_codigos_categoria5['personal técnico_12'] = 'A12'\n",
    "mapeo_codigos_categoria5"
   ],
   "metadata": {
    "collapsed": false,
    "ExecuteTime": {
     "end_time": "2024-06-28T19:05:20.835726Z",
     "start_time": "2024-06-28T19:05:20.833024Z"
    }
   },
   "execution_count": 52
  },
  {
   "cell_type": "code",
   "outputs": [
    {
     "name": "stderr",
     "output_type": "stream",
     "text": [
      "/var/folders/hb/c3zh8bns0mx4nw98_6k7rx8m0000gn/T/ipykernel_7971/42557719.py:1: FutureWarning: A value is trying to be set on a copy of a DataFrame or Series through chained assignment using an inplace method.\n",
      "The behavior will change in pandas 3.0. This inplace method will never work because the intermediate object on which we are setting values always behaves as a copy.\n",
      "\n",
      "For example, when doing 'df[col].method(value, inplace=True)', try using 'df.method({col: value}, inplace=True)' or df[col] = df[col].method(value) instead, to perform the operation inplace on the original object.\n",
      "\n",
      "\n",
      "  encuesta['categoria'].replace(mapeo_codigos_categoria5, inplace=True)\n"
     ]
    },
    {
     "data": {
      "text/plain": "0     A01\n1     A02\n2     A03\n3     A04\n4     A05\n5     A06\n6     A07\n7     A08\n8     A09\n9     A10\n10    A11\n11    A12\n12    A13\n13    A14\n14    A15\n15    A16\n16    A17\n17    A18\n18    A20\n19    A21\n20    A99\nName: categoria, dtype: string"
     },
     "execution_count": 53,
     "metadata": {},
     "output_type": "execute_result"
    }
   ],
   "source": [
    "encuesta['categoria'].replace(mapeo_codigos_categoria5, inplace=True)\n",
    "encuesta['categoria'].drop_duplicates().sort_values().reset_index(drop=True)"
   ],
   "metadata": {
    "collapsed": false,
    "ExecuteTime": {
     "end_time": "2024-06-28T19:05:20.842223Z",
     "start_time": "2024-06-28T19:05:20.836757Z"
    }
   },
   "execution_count": 53
  },
  {
   "cell_type": "code",
   "outputs": [],
   "source": [],
   "metadata": {
    "collapsed": false,
    "ExecuteTime": {
     "end_time": "2024-06-28T19:05:20.848524Z",
     "start_time": "2024-06-28T19:05:20.846232Z"
    }
   },
   "execution_count": 53
  },
  {
   "cell_type": "code",
   "outputs": [
    {
     "data": {
      "text/plain": "{'hace cinturones': 'A9901',\n 'innovacion tecnologica': 'A9902',\n 'ninguna': 'A9903',\n 'radio': 'A9904',\n 'diseñador': 'A0201',\n 'fotógrafo': 'A0202',\n 'modelo': 'A0203',\n 'producciones musicales': 'A0204',\n 'vendedor de productos por internet (mercado pago, amazon, instagram, etc.)': 'A0701',\n 'educación básica': 'A1301',\n 'estudiante': 'A1302',\n 'investigador-profesor en universidad/preparatoria': 'A1303',\n 'secundaria': 'A1304',\n 'administrador': 'A1101',\n 'auditor': 'A1102',\n 'coordinador': 'A1103',\n 'coordinador territorial': 'A1104',\n 'tese del estado de méxico': 'A1105',\n 'comerciante sector informal': 'A0401',\n 'flores y productos en un puesto no establecido': 'A0402',\n 'vendedor': 'A0403',\n 'vendedor por cuenta propia (negocio propio)': 'A0404',\n 'abogado': 'A1401',\n 'biólogo': 'A1402',\n 'financiero': 'A1403',\n 'ingeniero': 'A1404',\n 'químico farmacobiólogo': 'A1405',\n 'arquitecto': 'A1701',\n 'ingeniero civil/albañil o trabajador general': 'A1702',\n 'atención a clientes': 'A0801',\n 'bienes raices': 'A0802',\n 'cuartos de escape': 'A0803',\n 'telefonía': 'A0804',\n 'vendedor de tiendas departamentales': 'A0805',\n 'abarrotes': 'A2001',\n 'asistente': 'A2002',\n 'cocinero': 'A2003',\n 'mantenimiento': 'A2004',\n 'mesero': 'A2005',\n 'repartidor': 'A2006',\n 'trabajadores de limpieza': 'A2007',\n 'contador público': 'A0901',\n 'recursos humanos': 'A0902',\n 'relaciones laborales': 'A0903',\n 'trabaja en banco': 'A0904',\n 'empleado': 'A1801',\n 'asesor': 'A0601',\n 'consultor': 'A0602',\n 'dueño': 'A0603',\n 'entrenador': 'A0101',\n 'instructor': 'A0102',\n 'profesor de clases deportivas': 'A0103',\n 'productos en un puesto no establecido': 'A0501',\n 'vendedor de comida': 'A0502',\n 'patrullero': 'A1501',\n 'policía': 'A1502',\n 'vigilante': 'A1503',\n 'uber': 'A0301',\n 'enfermera': 'A1601',\n 'hospital': 'A1602',\n 'residente': 'A1603',\n 'sistemas': 'A1001',\n 'acomodador': 'A2101',\n 'cobranza': 'A2102',\n 'herrero': 'A2103',\n 'mensajeria': 'A2104'}"
     },
     "execution_count": 54,
     "metadata": {},
     "output_type": "execute_result"
    }
   ],
   "source": [
    "mapeo_codigos_ocupaciones5 = {}\n",
    "for cat in categorias.drop_duplicates():\n",
    "    codigo_cat = mapeo_codigos_categoria5[cat]\n",
    "    ocupaciones_en_categoria = encuesta['trabajo'][\n",
    "        encuesta['categoria'] == codigo_cat].drop_duplicates().sort_values().reset_index(drop=True)\n",
    "    for i, ocupacion in ocupaciones_en_categoria.items():\n",
    "        mapeo_codigos_ocupaciones5[ocupacion] = codigo_cat + str(i + 1).zfill(2)\n",
    "mapeo_codigos_ocupaciones5"
   ],
   "metadata": {
    "collapsed": false,
    "ExecuteTime": {
     "end_time": "2024-06-28T19:05:21.012326Z",
     "start_time": "2024-06-28T19:05:21.004585Z"
    }
   },
   "execution_count": 54
  },
  {
   "cell_type": "code",
   "outputs": [],
   "source": [
    "mapeo_codigos_ocupaciones5[\"instalación de cámaras\"] = \"A1201\""
   ],
   "metadata": {
    "collapsed": false,
    "ExecuteTime": {
     "end_time": "2024-06-28T19:05:21.265409Z",
     "start_time": "2024-06-28T19:05:21.263126Z"
    }
   },
   "execution_count": 55
  },
  {
   "cell_type": "code",
   "outputs": [
    {
     "name": "stderr",
     "output_type": "stream",
     "text": [
      "/var/folders/hb/c3zh8bns0mx4nw98_6k7rx8m0000gn/T/ipykernel_7971/4216376514.py:1: FutureWarning: A value is trying to be set on a copy of a DataFrame or Series through chained assignment using an inplace method.\n",
      "The behavior will change in pandas 3.0. This inplace method will never work because the intermediate object on which we are setting values always behaves as a copy.\n",
      "\n",
      "For example, when doing 'df[col].method(value, inplace=True)', try using 'df.method({col: value}, inplace=True)' or df[col] = df[col].method(value) instead, to perform the operation inplace on the original object.\n",
      "\n",
      "\n",
      "  encuesta['trabajo'].replace(mapeo_codigos_ocupaciones5,inplace=True)\n"
     ]
    },
    {
     "data": {
      "text/plain": "0     A0101\n1     A0102\n2     A0103\n3     A0201\n4     A0202\n      ...  \n62    A2104\n63    A9901\n64    A9902\n65    A9903\n66    A9904\nName: trabajo, Length: 67, dtype: object"
     },
     "execution_count": 56,
     "metadata": {},
     "output_type": "execute_result"
    }
   ],
   "source": [
    "encuesta['trabajo'].replace(mapeo_codigos_ocupaciones5,inplace=True)\n",
    "encuesta['trabajo'].drop_duplicates().sort_values().reset_index(drop=True)"
   ],
   "metadata": {
    "collapsed": false,
    "ExecuteTime": {
     "end_time": "2024-06-28T19:05:21.827205Z",
     "start_time": "2024-06-28T19:05:21.821379Z"
    }
   },
   "execution_count": 56
  },
  {
   "cell_type": "code",
   "outputs": [
    {
     "data": {
      "text/plain": "1   Trabajas[Pareja] Trabajo[Pareja] Categoria[Pareja]\n0                  N           A9903               A99\n1                  N           A9903               A99\n2                  N           A9903               A99\n3                  N           A9903               A99\n4                  N           A9903               A99\n..               ...             ...               ...\n695                Y           A1801               A18\n696                N           A9903               A99\n697                Y           A1303               A13\n698                Y           A1302               A13\n699                N           A9903               A99\n\n[700 rows x 3 columns]",
      "text/html": "<div>\n<style scoped>\n    .dataframe tbody tr th:only-of-type {\n        vertical-align: middle;\n    }\n\n    .dataframe tbody tr th {\n        vertical-align: top;\n    }\n\n    .dataframe thead th {\n        text-align: right;\n    }\n</style>\n<table border=\"1\" class=\"dataframe\">\n  <thead>\n    <tr style=\"text-align: right;\">\n      <th>1</th>\n      <th>Trabajas[Pareja]</th>\n      <th>Trabajo[Pareja]</th>\n      <th>Categoria[Pareja]</th>\n    </tr>\n  </thead>\n  <tbody>\n    <tr>\n      <th>0</th>\n      <td>N</td>\n      <td>A9903</td>\n      <td>A99</td>\n    </tr>\n    <tr>\n      <th>1</th>\n      <td>N</td>\n      <td>A9903</td>\n      <td>A99</td>\n    </tr>\n    <tr>\n      <th>2</th>\n      <td>N</td>\n      <td>A9903</td>\n      <td>A99</td>\n    </tr>\n    <tr>\n      <th>3</th>\n      <td>N</td>\n      <td>A9903</td>\n      <td>A99</td>\n    </tr>\n    <tr>\n      <th>4</th>\n      <td>N</td>\n      <td>A9903</td>\n      <td>A99</td>\n    </tr>\n    <tr>\n      <th>...</th>\n      <td>...</td>\n      <td>...</td>\n      <td>...</td>\n    </tr>\n    <tr>\n      <th>695</th>\n      <td>Y</td>\n      <td>A1801</td>\n      <td>A18</td>\n    </tr>\n    <tr>\n      <th>696</th>\n      <td>N</td>\n      <td>A9903</td>\n      <td>A99</td>\n    </tr>\n    <tr>\n      <th>697</th>\n      <td>Y</td>\n      <td>A1303</td>\n      <td>A13</td>\n    </tr>\n    <tr>\n      <th>698</th>\n      <td>Y</td>\n      <td>A1302</td>\n      <td>A13</td>\n    </tr>\n    <tr>\n      <th>699</th>\n      <td>N</td>\n      <td>A9903</td>\n      <td>A99</td>\n    </tr>\n  </tbody>\n</table>\n<p>700 rows × 3 columns</p>\n</div>"
     },
     "execution_count": 57,
     "metadata": {},
     "output_type": "execute_result"
    }
   ],
   "source": [
    "encuesta = encuesta.rename(columns={'trabajo': 'Trabajo[Pareja]', 'categoria': 'Categoria[Pareja]'})\n",
    "encuesta[['Trabajas[Pareja]', 'Trabajo[Pareja]', 'Categoria[Pareja]']]"
   ],
   "metadata": {
    "collapsed": false,
    "ExecuteTime": {
     "end_time": "2024-06-28T19:05:22.042615Z",
     "start_time": "2024-06-28T19:05:22.020848Z"
    }
   },
   "execution_count": 57
  },
  {
   "cell_type": "code",
   "outputs": [],
   "source": [
    "#import json\n",
    "\n",
    "#trabajos = { ... }\n",
    "\n",
    "#with open(\"trabajos(pareja).json\", \"w\") as archivo:\n",
    "#    json.dump(mapeo_codigos_ocupaciones5, archivo)"
   ],
   "metadata": {
    "collapsed": false,
    "ExecuteTime": {
     "end_time": "2024-06-28T19:05:22.072947Z",
     "start_time": "2024-06-28T19:05:22.071088Z"
    }
   },
   "execution_count": 58
  },
  {
   "cell_type": "markdown",
   "source": [
    "# Trabajo Amigo 2"
   ],
   "metadata": {
    "collapsed": false
   }
  },
  {
   "cell_type": "markdown",
   "source": [
    "## Limpieza Nivel 1"
   ],
   "metadata": {
    "collapsed": false
   }
  },
  {
   "cell_type": "code",
   "outputs": [
    {
     "data": {
      "text/plain": "0                    -oth-\n1                       10\n2                       12\n3                       16\n4                       17\n5                       18\n6                       19\n7                        2\n8                       20\n9                       21\n10                      22\n11                      24\n12                       3\n13                       4\n14                       5\n15                       6\n16                       7\n17                       9\n18    {question_not_shown}\n19                     NaN\nName: Amigo2q0r134, dtype: object"
     },
     "execution_count": 59,
     "metadata": {},
     "output_type": "execute_result"
    }
   ],
   "source": [
    "mostrar_unicos(encuesta,\"Amigo2q0r134\")"
   ],
   "metadata": {
    "collapsed": false,
    "ExecuteTime": {
     "end_time": "2024-06-28T19:05:22.145521Z",
     "start_time": "2024-06-28T19:05:22.142100Z"
    }
   },
   "execution_count": 59
  },
  {
   "cell_type": "code",
   "outputs": [],
   "source": [
    "mapeo_respuestas6 = {\n",
    "    '2': \"Actividades deportivas_1\",\n",
    "    '3': \"Artista_2\",\n",
    "    '4': \"Chofer_3\",\n",
    "    '5': \"Comerciante sector formal_4\",\n",
    "    '6': \"Comerciante sector informal_5\",\n",
    "    \"7\": \"Empresario_6\",\n",
    "    \"8\": \"Comercio Virtual_7\",\n",
    "    \"9\": \"Atención a clientes_8\",\n",
    "    \"10\": \"Administrativo_9\",\n",
    "    \"11\": \"Gubernamental administrativo_10\",\n",
    "    \"12\": \"Empleado gubernamental_11\",\n",
    "    \"15\": \"Operador de maquinaria móvil_12\",\n",
    "    \"16\": \"Personal técnico_13\",\n",
    "    \"17\": \"Área educativa_14\",\n",
    "    \"18\": \"Profesionista independiente_15\",\n",
    "    \"19\": \"Seguridad_16\",\n",
    "    \"20\": \"Área de la salud_17\",\n",
    "    \"21\": \"Construcción_18\",\n",
    "    \"22\": \"Fábrica_19\",\n",
    "    \"23\": \"Agricultura_20\",\n",
    "    \"24\": \"No trabaja/trabajaba_21\"\n",
    "}"
   ],
   "metadata": {
    "collapsed": false,
    "ExecuteTime": {
     "end_time": "2024-06-28T19:05:22.258109Z",
     "start_time": "2024-06-28T19:05:22.254676Z"
    }
   },
   "execution_count": 60
  },
  {
   "cell_type": "code",
   "outputs": [
    {
     "name": "stderr",
     "output_type": "stream",
     "text": [
      "/Users/erickavendanogarcia/Downloads/servicio_social/encuestas/Zoom4/auxiliar_4.py:143: FutureWarning: A value is trying to be set on a copy of a DataFrame or Series through chained assignment using an inplace method.\n",
      "The behavior will change in pandas 3.0. This inplace method will never work because the intermediate object on which we are setting values always behaves as a copy.\n",
      "\n",
      "For example, when doing 'df[col].method(value, inplace=True)', try using 'df.method({col: value}, inplace=True)' or df[col] = df[col].method(value) instead, to perform the operation inplace on the original object.\n",
      "\n",
      "\n",
      "  df[columna].fillna(valor, inplace=True)\n"
     ]
    }
   ],
   "source": [
    "llenar_respuesta_libre(encuesta, \"Amigo2q0r134\", identificador_otro='-oth-', sufijo='_other')\n",
    "llenar_vacios(encuesta, \"Amigo2q0r134\", 'ninguna')"
   ],
   "metadata": {
    "collapsed": false,
    "ExecuteTime": {
     "end_time": "2024-06-28T19:05:22.320351Z",
     "start_time": "2024-06-28T19:05:22.310067Z"
    }
   },
   "execution_count": 61
  },
  {
   "cell_type": "code",
   "outputs": [
    {
     "data": {
      "text/plain": "0               Actividades deportivas_1\n1                       Administrativo_9\n2                              Artista_2\n3                  Atención a clientes_8\n4                               Chofer_3\n5            Comerciante sector formal_4\n6          Comerciante sector informal_5\n7                        Construcción_18\n8              Empleado gubernamental_11\n9                           Empresario_6\n10                            Fábrica_19\n11               No trabaja/trabajaba_21\n12                   Personal técnico_13\n13        Profesionista independiente_15\n14                          Seguridad_16\n15                               abogada\n16       asesoria regularizacion escolar\n17           asistente despacho abogados\n18                      atiende farmacia\n19                   brigadista forestal\n20           caseta de cobro de un bazar\n21                                  chef\n22                        ciberseguridad\n23                              cocinero\n24                             diseñador\n25    empleada en tienda de autoservicio\n26                              empleado\n27                           encuestador\n28                               estudia\n29                     estudia y trabaja\n30                            estudiante\n31                              estudiar\n32                               eventos\n33                               guardia\n34                                 hogar\n35                  industria automotriz\n36                  ingeniero industrial\n37                           inventarios\n38                              lavaloza\n39                             marketing\n40                   mecanica automotriz\n41                              mecanico\n42                                mesero\n43                               ninguna\n44                               no sabe\n45                            no se sabe\n46              oficinas de guanajuato23\n47                          restaurantes\n48               sistemas en call center\n49                   tienda de abarrotes\n50                 tiene varios trabajos\n51                     trabaja en tienda\n52                   ventas - publicidad\n53                          voluntariado\n54                  {question_not_shown}\n55                   Área de la salud_17\n56                     Área educativa_14\nName: Amigo2q0r134, dtype: object"
     },
     "execution_count": 62,
     "metadata": {},
     "output_type": "execute_result"
    }
   ],
   "source": [
    "encuesta['Amigo2q0r134'] = encuesta['Amigo2q0r134'].str.strip().str.lower()\n",
    "encuesta['Amigo2q0r134'] = encuesta['Amigo2q0r134'].replace(mapeo_respuestas5)\n",
    "mostrar_unicos(encuesta, \"Amigo2q0r134\")"
   ],
   "metadata": {
    "collapsed": false,
    "ExecuteTime": {
     "end_time": "2024-06-28T19:05:22.387766Z",
     "start_time": "2024-06-28T19:05:22.382023Z"
    }
   },
   "execution_count": 62
  },
  {
   "cell_type": "markdown",
   "source": [
    "## Limpieza Nivel 2"
   ],
   "metadata": {
    "collapsed": false
   }
  },
  {
   "cell_type": "markdown",
   "source": [
    "### Columnas Base"
   ],
   "metadata": {
    "collapsed": false
   }
  },
  {
   "cell_type": "code",
   "outputs": [],
   "source": [
    "columnas_base6=[\n",
    "    \"DP999007\",\n",
    "    \"ART56853A\",\n",
    "    \"CHOF5559A\",\n",
    "    \"FORMG66A\",\n",
    "    \"INFOR4574MA\",\n",
    "    \"EMPRESGHG5A\",\n",
    "    \"VITUAL5G6A\",\n",
    "    \"CLIENTESGFF5A\",\n",
    "    \"ADMING575A\",\n",
    "    \"EMPLGUB3646GA\",\n",
    "    \"GUBERN465A\",\n",
    "    \"MAQUIN4563A\",\n",
    "    \"TECNICO456A\",\n",
    "    \"EDUCAT465A\",\n",
    "    \"INDE987A\",\n",
    "    \"SEGURI3454A\",\n",
    "    \"SALUD34546AQ\",\n",
    "    \"CONSTR456A\",\n",
    "    \"AGRICULDFERA\",\n",
    "    \"fabrick\"\n",
    "]\n"
   ],
   "metadata": {
    "collapsed": false,
    "ExecuteTime": {
     "end_time": "2024-06-28T19:05:22.437765Z",
     "start_time": "2024-06-28T19:05:22.435842Z"
    }
   },
   "execution_count": 63
  },
  {
   "cell_type": "code",
   "outputs": [
    {
     "data": {
      "text/plain": "20"
     },
     "execution_count": 64,
     "metadata": {},
     "output_type": "execute_result"
    }
   ],
   "source": [
    "len(columnas_base6)"
   ],
   "metadata": {
    "collapsed": false,
    "ExecuteTime": {
     "end_time": "2024-06-28T19:05:22.505890Z",
     "start_time": "2024-06-28T19:05:22.503251Z"
    }
   },
   "execution_count": 64
  },
  {
   "cell_type": "code",
   "outputs": [
    {
     "data": {
      "text/plain": "1                DP999007             ART56853A             CHOF5559A  \\\n0    {question_not_shown}  {question_not_shown}  {question_not_shown}   \n1    {question_not_shown}  {question_not_shown}  {question_not_shown}   \n2    {question_not_shown}  {question_not_shown}  {question_not_shown}   \n3    {question_not_shown}  {question_not_shown}  {question_not_shown}   \n4    {question_not_shown}                 -oth-  {question_not_shown}   \n..                    ...                   ...                   ...   \n695  {question_not_shown}  {question_not_shown}  {question_not_shown}   \n696  {question_not_shown}  {question_not_shown}  {question_not_shown}   \n697  {question_not_shown}  {question_not_shown}  {question_not_shown}   \n698  {question_not_shown}  {question_not_shown}  {question_not_shown}   \n699  {question_not_shown}  {question_not_shown}  {question_not_shown}   \n\n1                FORMG66A           INFOR4574MA           EMPRESGHG5A  \\\n0    {question_not_shown}  {question_not_shown}  {question_not_shown}   \n1    {question_not_shown}  {question_not_shown}  {question_not_shown}   \n2    {question_not_shown}  {question_not_shown}  {question_not_shown}   \n3    {question_not_shown}  {question_not_shown}  {question_not_shown}   \n4    {question_not_shown}  {question_not_shown}  {question_not_shown}   \n..                    ...                   ...                   ...   \n695  {question_not_shown}  {question_not_shown}  {question_not_shown}   \n696  {question_not_shown}  {question_not_shown}  {question_not_shown}   \n697  {question_not_shown}  {question_not_shown}  {question_not_shown}   \n698  {question_not_shown}  {question_not_shown}  {question_not_shown}   \n699  {question_not_shown}  {question_not_shown}  {question_not_shown}   \n\n1              VITUAL5G6A         CLIENTESGFF5A            ADMING575A  \\\n0    {question_not_shown}  {question_not_shown}  {question_not_shown}   \n1    {question_not_shown}  {question_not_shown}  {question_not_shown}   \n2    {question_not_shown}  {question_not_shown}  {question_not_shown}   \n3    {question_not_shown}  {question_not_shown}  {question_not_shown}   \n4    {question_not_shown}  {question_not_shown}  {question_not_shown}   \n..                    ...                   ...                   ...   \n695  {question_not_shown}  {question_not_shown}  {question_not_shown}   \n696  {question_not_shown}                    A3  {question_not_shown}   \n697  {question_not_shown}  {question_not_shown}  {question_not_shown}   \n698  {question_not_shown}  {question_not_shown}  {question_not_shown}   \n699  {question_not_shown}  {question_not_shown}  {question_not_shown}   \n\n1           EMPLGUB3646GA            GUBERN465A           MAQUIN4563A  \\\n0    {question_not_shown}  {question_not_shown}  {question_not_shown}   \n1    {question_not_shown}  {question_not_shown}  {question_not_shown}   \n2    {question_not_shown}  {question_not_shown}  {question_not_shown}   \n3    {question_not_shown}  {question_not_shown}  {question_not_shown}   \n4    {question_not_shown}  {question_not_shown}  {question_not_shown}   \n..                    ...                   ...                   ...   \n695  {question_not_shown}  {question_not_shown}  {question_not_shown}   \n696  {question_not_shown}  {question_not_shown}  {question_not_shown}   \n697  {question_not_shown}  {question_not_shown}  {question_not_shown}   \n698  {question_not_shown}  {question_not_shown}  {question_not_shown}   \n699  {question_not_shown}  {question_not_shown}  {question_not_shown}   \n\n1             TECNICO456A            EDUCAT465A              INDE987A  \\\n0    {question_not_shown}  {question_not_shown}  {question_not_shown}   \n1    {question_not_shown}  {question_not_shown}  {question_not_shown}   \n2    {question_not_shown}  {question_not_shown}  {question_not_shown}   \n3    {question_not_shown}  {question_not_shown}  {question_not_shown}   \n4    {question_not_shown}  {question_not_shown}  {question_not_shown}   \n..                    ...                   ...                   ...   \n695  {question_not_shown}  {question_not_shown}  {question_not_shown}   \n696  {question_not_shown}  {question_not_shown}  {question_not_shown}   \n697  {question_not_shown}  {question_not_shown}  {question_not_shown}   \n698  {question_not_shown}  {question_not_shown}  {question_not_shown}   \n699  {question_not_shown}  {question_not_shown}  {question_not_shown}   \n\n1             SEGURI3454A          SALUD34546AQ            CONSTR456A  \\\n0    {question_not_shown}  {question_not_shown}  {question_not_shown}   \n1    {question_not_shown}  {question_not_shown}  {question_not_shown}   \n2    {question_not_shown}  {question_not_shown}  {question_not_shown}   \n3    {question_not_shown}  {question_not_shown}  {question_not_shown}   \n4    {question_not_shown}  {question_not_shown}  {question_not_shown}   \n..                    ...                   ...                   ...   \n695  {question_not_shown}  {question_not_shown}  {question_not_shown}   \n696  {question_not_shown}  {question_not_shown}  {question_not_shown}   \n697  {question_not_shown}  {question_not_shown}  {question_not_shown}   \n698  {question_not_shown}  {question_not_shown}  {question_not_shown}   \n699  {question_not_shown}  {question_not_shown}  {question_not_shown}   \n\n1            AGRICULDFERA               fabrick  \n0    {question_not_shown}  {question_not_shown}  \n1    {question_not_shown}  {question_not_shown}  \n2    {question_not_shown}  {question_not_shown}  \n3    {question_not_shown}  {question_not_shown}  \n4    {question_not_shown}  {question_not_shown}  \n..                    ...                   ...  \n695  {question_not_shown}  {question_not_shown}  \n696  {question_not_shown}  {question_not_shown}  \n697  {question_not_shown}  {question_not_shown}  \n698  {question_not_shown}  {question_not_shown}  \n699  {question_not_shown}  {question_not_shown}  \n\n[700 rows x 20 columns]",
      "text/html": "<div>\n<style scoped>\n    .dataframe tbody tr th:only-of-type {\n        vertical-align: middle;\n    }\n\n    .dataframe tbody tr th {\n        vertical-align: top;\n    }\n\n    .dataframe thead th {\n        text-align: right;\n    }\n</style>\n<table border=\"1\" class=\"dataframe\">\n  <thead>\n    <tr style=\"text-align: right;\">\n      <th>1</th>\n      <th>DP999007</th>\n      <th>ART56853A</th>\n      <th>CHOF5559A</th>\n      <th>FORMG66A</th>\n      <th>INFOR4574MA</th>\n      <th>EMPRESGHG5A</th>\n      <th>VITUAL5G6A</th>\n      <th>CLIENTESGFF5A</th>\n      <th>ADMING575A</th>\n      <th>EMPLGUB3646GA</th>\n      <th>GUBERN465A</th>\n      <th>MAQUIN4563A</th>\n      <th>TECNICO456A</th>\n      <th>EDUCAT465A</th>\n      <th>INDE987A</th>\n      <th>SEGURI3454A</th>\n      <th>SALUD34546AQ</th>\n      <th>CONSTR456A</th>\n      <th>AGRICULDFERA</th>\n      <th>fabrick</th>\n    </tr>\n  </thead>\n  <tbody>\n    <tr>\n      <th>0</th>\n      <td>{question_not_shown}</td>\n      <td>{question_not_shown}</td>\n      <td>{question_not_shown}</td>\n      <td>{question_not_shown}</td>\n      <td>{question_not_shown}</td>\n      <td>{question_not_shown}</td>\n      <td>{question_not_shown}</td>\n      <td>{question_not_shown}</td>\n      <td>{question_not_shown}</td>\n      <td>{question_not_shown}</td>\n      <td>{question_not_shown}</td>\n      <td>{question_not_shown}</td>\n      <td>{question_not_shown}</td>\n      <td>{question_not_shown}</td>\n      <td>{question_not_shown}</td>\n      <td>{question_not_shown}</td>\n      <td>{question_not_shown}</td>\n      <td>{question_not_shown}</td>\n      <td>{question_not_shown}</td>\n      <td>{question_not_shown}</td>\n    </tr>\n    <tr>\n      <th>1</th>\n      <td>{question_not_shown}</td>\n      <td>{question_not_shown}</td>\n      <td>{question_not_shown}</td>\n      <td>{question_not_shown}</td>\n      <td>{question_not_shown}</td>\n      <td>{question_not_shown}</td>\n      <td>{question_not_shown}</td>\n      <td>{question_not_shown}</td>\n      <td>{question_not_shown}</td>\n      <td>{question_not_shown}</td>\n      <td>{question_not_shown}</td>\n      <td>{question_not_shown}</td>\n      <td>{question_not_shown}</td>\n      <td>{question_not_shown}</td>\n      <td>{question_not_shown}</td>\n      <td>{question_not_shown}</td>\n      <td>{question_not_shown}</td>\n      <td>{question_not_shown}</td>\n      <td>{question_not_shown}</td>\n      <td>{question_not_shown}</td>\n    </tr>\n    <tr>\n      <th>2</th>\n      <td>{question_not_shown}</td>\n      <td>{question_not_shown}</td>\n      <td>{question_not_shown}</td>\n      <td>{question_not_shown}</td>\n      <td>{question_not_shown}</td>\n      <td>{question_not_shown}</td>\n      <td>{question_not_shown}</td>\n      <td>{question_not_shown}</td>\n      <td>{question_not_shown}</td>\n      <td>{question_not_shown}</td>\n      <td>{question_not_shown}</td>\n      <td>{question_not_shown}</td>\n      <td>{question_not_shown}</td>\n      <td>{question_not_shown}</td>\n      <td>{question_not_shown}</td>\n      <td>{question_not_shown}</td>\n      <td>{question_not_shown}</td>\n      <td>{question_not_shown}</td>\n      <td>{question_not_shown}</td>\n      <td>{question_not_shown}</td>\n    </tr>\n    <tr>\n      <th>3</th>\n      <td>{question_not_shown}</td>\n      <td>{question_not_shown}</td>\n      <td>{question_not_shown}</td>\n      <td>{question_not_shown}</td>\n      <td>{question_not_shown}</td>\n      <td>{question_not_shown}</td>\n      <td>{question_not_shown}</td>\n      <td>{question_not_shown}</td>\n      <td>{question_not_shown}</td>\n      <td>{question_not_shown}</td>\n      <td>{question_not_shown}</td>\n      <td>{question_not_shown}</td>\n      <td>{question_not_shown}</td>\n      <td>{question_not_shown}</td>\n      <td>{question_not_shown}</td>\n      <td>{question_not_shown}</td>\n      <td>{question_not_shown}</td>\n      <td>{question_not_shown}</td>\n      <td>{question_not_shown}</td>\n      <td>{question_not_shown}</td>\n    </tr>\n    <tr>\n      <th>4</th>\n      <td>{question_not_shown}</td>\n      <td>-oth-</td>\n      <td>{question_not_shown}</td>\n      <td>{question_not_shown}</td>\n      <td>{question_not_shown}</td>\n      <td>{question_not_shown}</td>\n      <td>{question_not_shown}</td>\n      <td>{question_not_shown}</td>\n      <td>{question_not_shown}</td>\n      <td>{question_not_shown}</td>\n      <td>{question_not_shown}</td>\n      <td>{question_not_shown}</td>\n      <td>{question_not_shown}</td>\n      <td>{question_not_shown}</td>\n      <td>{question_not_shown}</td>\n      <td>{question_not_shown}</td>\n      <td>{question_not_shown}</td>\n      <td>{question_not_shown}</td>\n      <td>{question_not_shown}</td>\n      <td>{question_not_shown}</td>\n    </tr>\n    <tr>\n      <th>...</th>\n      <td>...</td>\n      <td>...</td>\n      <td>...</td>\n      <td>...</td>\n      <td>...</td>\n      <td>...</td>\n      <td>...</td>\n      <td>...</td>\n      <td>...</td>\n      <td>...</td>\n      <td>...</td>\n      <td>...</td>\n      <td>...</td>\n      <td>...</td>\n      <td>...</td>\n      <td>...</td>\n      <td>...</td>\n      <td>...</td>\n      <td>...</td>\n      <td>...</td>\n    </tr>\n    <tr>\n      <th>695</th>\n      <td>{question_not_shown}</td>\n      <td>{question_not_shown}</td>\n      <td>{question_not_shown}</td>\n      <td>{question_not_shown}</td>\n      <td>{question_not_shown}</td>\n      <td>{question_not_shown}</td>\n      <td>{question_not_shown}</td>\n      <td>{question_not_shown}</td>\n      <td>{question_not_shown}</td>\n      <td>{question_not_shown}</td>\n      <td>{question_not_shown}</td>\n      <td>{question_not_shown}</td>\n      <td>{question_not_shown}</td>\n      <td>{question_not_shown}</td>\n      <td>{question_not_shown}</td>\n      <td>{question_not_shown}</td>\n      <td>{question_not_shown}</td>\n      <td>{question_not_shown}</td>\n      <td>{question_not_shown}</td>\n      <td>{question_not_shown}</td>\n    </tr>\n    <tr>\n      <th>696</th>\n      <td>{question_not_shown}</td>\n      <td>{question_not_shown}</td>\n      <td>{question_not_shown}</td>\n      <td>{question_not_shown}</td>\n      <td>{question_not_shown}</td>\n      <td>{question_not_shown}</td>\n      <td>{question_not_shown}</td>\n      <td>A3</td>\n      <td>{question_not_shown}</td>\n      <td>{question_not_shown}</td>\n      <td>{question_not_shown}</td>\n      <td>{question_not_shown}</td>\n      <td>{question_not_shown}</td>\n      <td>{question_not_shown}</td>\n      <td>{question_not_shown}</td>\n      <td>{question_not_shown}</td>\n      <td>{question_not_shown}</td>\n      <td>{question_not_shown}</td>\n      <td>{question_not_shown}</td>\n      <td>{question_not_shown}</td>\n    </tr>\n    <tr>\n      <th>697</th>\n      <td>{question_not_shown}</td>\n      <td>{question_not_shown}</td>\n      <td>{question_not_shown}</td>\n      <td>{question_not_shown}</td>\n      <td>{question_not_shown}</td>\n      <td>{question_not_shown}</td>\n      <td>{question_not_shown}</td>\n      <td>{question_not_shown}</td>\n      <td>{question_not_shown}</td>\n      <td>{question_not_shown}</td>\n      <td>{question_not_shown}</td>\n      <td>{question_not_shown}</td>\n      <td>{question_not_shown}</td>\n      <td>{question_not_shown}</td>\n      <td>{question_not_shown}</td>\n      <td>{question_not_shown}</td>\n      <td>{question_not_shown}</td>\n      <td>{question_not_shown}</td>\n      <td>{question_not_shown}</td>\n      <td>{question_not_shown}</td>\n    </tr>\n    <tr>\n      <th>698</th>\n      <td>{question_not_shown}</td>\n      <td>{question_not_shown}</td>\n      <td>{question_not_shown}</td>\n      <td>{question_not_shown}</td>\n      <td>{question_not_shown}</td>\n      <td>{question_not_shown}</td>\n      <td>{question_not_shown}</td>\n      <td>{question_not_shown}</td>\n      <td>{question_not_shown}</td>\n      <td>{question_not_shown}</td>\n      <td>{question_not_shown}</td>\n      <td>{question_not_shown}</td>\n      <td>{question_not_shown}</td>\n      <td>{question_not_shown}</td>\n      <td>{question_not_shown}</td>\n      <td>{question_not_shown}</td>\n      <td>{question_not_shown}</td>\n      <td>{question_not_shown}</td>\n      <td>{question_not_shown}</td>\n      <td>{question_not_shown}</td>\n    </tr>\n    <tr>\n      <th>699</th>\n      <td>{question_not_shown}</td>\n      <td>{question_not_shown}</td>\n      <td>{question_not_shown}</td>\n      <td>{question_not_shown}</td>\n      <td>{question_not_shown}</td>\n      <td>{question_not_shown}</td>\n      <td>{question_not_shown}</td>\n      <td>{question_not_shown}</td>\n      <td>{question_not_shown}</td>\n      <td>{question_not_shown}</td>\n      <td>{question_not_shown}</td>\n      <td>{question_not_shown}</td>\n      <td>{question_not_shown}</td>\n      <td>{question_not_shown}</td>\n      <td>{question_not_shown}</td>\n      <td>{question_not_shown}</td>\n      <td>{question_not_shown}</td>\n      <td>{question_not_shown}</td>\n      <td>{question_not_shown}</td>\n      <td>{question_not_shown}</td>\n    </tr>\n  </tbody>\n</table>\n<p>700 rows × 20 columns</p>\n</div>"
     },
     "execution_count": 65,
     "metadata": {},
     "output_type": "execute_result"
    }
   ],
   "source": [
    "encuesta[columnas_base6]"
   ],
   "metadata": {
    "collapsed": false,
    "ExecuteTime": {
     "end_time": "2024-06-28T19:05:22.567767Z",
     "start_time": "2024-06-28T19:05:22.560417Z"
    }
   },
   "execution_count": 65
  },
  {
   "cell_type": "code",
   "outputs": [],
   "source": [
    "encuesta['DP999007'] = encuesta['DP999007'].replace(\n",
    "    {'A2': 'Entrenador de gimnasio_1', 'A3': 'Profesor de clases deportivas_2'})\n",
    "encuesta['ART56853A'] = encuesta['ART56853A'].replace(\n",
    "    {'A2': 'Fotógrafo_1', 'A3': 'Pintor_2', 'A4': 'Músico_3', 'A5': 'Cantante_4'})\n",
    "encuesta['CHOF5559A'] = encuesta['CHOF5559A'].replace(\n",
    "    {'A2': 'Taxista_1', 'A3': 'Uber_2', 'A4': 'Microbús_3', 'A5': 'Camiones_4'})\n",
    "encuesta['VITUAL5G6A'] = encuesta['VITUAL5G6A'].replace(\n",
    "    {'A2': 'Vendedor de productos por internet (mercado pago, amazon, instagram, etc.)_1'})\n",
    "encuesta['INFOR4574MA'] = encuesta['INFOR4574MA'].replace(\n",
    "    {'A2': 'Vendedor de comida_1', 'A3': ' Periódicos_2', 'A4': 'Flores y productos en un puesto no establecido_3',\n",
    "     'A5': 'Productos en un puesto no establecido'})\n",
    "\n",
    "encuesta['FORMG66A'] = encuesta['FORMG66A'].replace({'A2': 'Vendedor por cuenta propia (negocio propio)_1'})\n",
    "\n",
    "encuesta['EMPRESGHG5A'] = encuesta['EMPRESGHG5A'].replace({'A2': 'Dueño_1', 'A3': 'Director o gerente_2'})\n",
    "encuesta['CLIENTESGFF5A'] = encuesta['CLIENTESGFF5A'].replace(\n",
    "    {'A5': 'Promotor de seguros_4', 'A4': 'Vendedor de tiendas departamentales_3', 'A2': 'Atención a clientes_1',\n",
    "     'A3': 'Recepcionista_2', 'A6': 'Telefonía_5'})\n",
    "encuesta['ADMING575A'] = encuesta['ADMING575A'].replace(\n",
    "    {'A2': 'Contador público_1', 'A3': 'Administrador_2', 'A4': 'Recursos humanos_3'})\n",
    "\n",
    "encuesta['GUBERN465A'] = encuesta['GUBERN465A'].replace(\n",
    "    {'A2': 'Jefe de departamento_1', 'A3': 'Jefe de área, subdirector_2', 'A4': 'Subadministrador_3',\n",
    "     'A5': ' Director_4', 'A6': 'Administrador_5', 'A7': 'Director general_6', 'A8': 'Administrador general_7'})\n",
    "\n",
    "encuesta['CONSTR456A'] = encuesta['CONSTR456A'].replace(\n",
    "    {'A2': 'Arquitecto_1', 'A3': 'Ingeniero civil/albañil o trabajador general_2'})\n",
    "encuesta['fabrick'] = encuesta['fabrick'].replace({'A2': 'Empleado_1'})\n",
    "encuesta['SALUD34546AQ'] = encuesta['SALUD34546AQ'].replace(\n",
    "    {'A2': 'Médico_1', 'A3': 'Enfermera_2', 'A4': 'Camillero_3', 'A5': 'Paramédico_4'})\n",
    "encuesta['EDUCAT465A'] = encuesta['EDUCAT465A'].replace(\n",
    "    {'A2': 'Investigador-profesor en universidad/preparatoria_1', 'A3': 'Educación básica_2',\n",
    "     'A4': 'Técnico en educación (educador o guardería)_3'})\n",
    "encuesta['INDE987A'] = encuesta['INDE987A'].replace(\n",
    "    {'A2': 'Abogado_1', 'A3': 'Psicólogo_2', 'A4': 'Contador_3', 'A5': 'Dentista_4', 'A6': 'Médico independiente_5',\n",
    "     'A7': ' Terapeuta_6'})\n",
    "encuesta['SEGURI3454A'] = encuesta['SEGURI3454A'].replace(\n",
    "    {'A2': 'Guardaespaldas_1', 'A3': 'Patrullero_2', 'A4': 'Vigilante_3', 'A5': 'Empleado de seguridad en bancos_4',\n",
    "     'A6': 'Empleado de seguridad privada_5', 'A7': 'Policía de tránsito_6'})\n",
    "encuesta['TECNICO456A'] = encuesta['TECNICO456A_comment']\n",
    "encuesta['EMPLGUB3646GA'] = encuesta['EMPLGUB3646GA_comment']"
   ],
   "metadata": {
    "collapsed": false,
    "ExecuteTime": {
     "end_time": "2024-06-28T19:05:22.609687Z",
     "start_time": "2024-06-28T19:05:22.599864Z"
    }
   },
   "execution_count": 66
  },
  {
   "cell_type": "code",
   "outputs": [
    {
     "data": {
      "text/plain": "1                DP999007             ART56853A             CHOF5559A  \\\n0    {question_not_shown}  {question_not_shown}  {question_not_shown}   \n1    {question_not_shown}  {question_not_shown}  {question_not_shown}   \n2    {question_not_shown}  {question_not_shown}  {question_not_shown}   \n3    {question_not_shown}  {question_not_shown}  {question_not_shown}   \n4    {question_not_shown}                 -oth-  {question_not_shown}   \n..                    ...                   ...                   ...   \n695  {question_not_shown}  {question_not_shown}  {question_not_shown}   \n696  {question_not_shown}  {question_not_shown}  {question_not_shown}   \n697  {question_not_shown}  {question_not_shown}  {question_not_shown}   \n698  {question_not_shown}  {question_not_shown}  {question_not_shown}   \n699  {question_not_shown}  {question_not_shown}  {question_not_shown}   \n\n1                FORMG66A           INFOR4574MA           EMPRESGHG5A  \\\n0    {question_not_shown}  {question_not_shown}  {question_not_shown}   \n1    {question_not_shown}  {question_not_shown}  {question_not_shown}   \n2    {question_not_shown}  {question_not_shown}  {question_not_shown}   \n3    {question_not_shown}  {question_not_shown}  {question_not_shown}   \n4    {question_not_shown}  {question_not_shown}  {question_not_shown}   \n..                    ...                   ...                   ...   \n695  {question_not_shown}  {question_not_shown}  {question_not_shown}   \n696  {question_not_shown}  {question_not_shown}  {question_not_shown}   \n697  {question_not_shown}  {question_not_shown}  {question_not_shown}   \n698  {question_not_shown}  {question_not_shown}  {question_not_shown}   \n699  {question_not_shown}  {question_not_shown}  {question_not_shown}   \n\n1              VITUAL5G6A         CLIENTESGFF5A            ADMING575A  \\\n0    {question_not_shown}  {question_not_shown}  {question_not_shown}   \n1    {question_not_shown}  {question_not_shown}  {question_not_shown}   \n2    {question_not_shown}  {question_not_shown}  {question_not_shown}   \n3    {question_not_shown}  {question_not_shown}  {question_not_shown}   \n4    {question_not_shown}  {question_not_shown}  {question_not_shown}   \n..                    ...                   ...                   ...   \n695  {question_not_shown}  {question_not_shown}  {question_not_shown}   \n696  {question_not_shown}       Recepcionista_2  {question_not_shown}   \n697  {question_not_shown}  {question_not_shown}  {question_not_shown}   \n698  {question_not_shown}  {question_not_shown}  {question_not_shown}   \n699  {question_not_shown}  {question_not_shown}  {question_not_shown}   \n\n1           EMPLGUB3646GA            GUBERN465A           MAQUIN4563A  \\\n0    {question_not_shown}  {question_not_shown}  {question_not_shown}   \n1    {question_not_shown}  {question_not_shown}  {question_not_shown}   \n2    {question_not_shown}  {question_not_shown}  {question_not_shown}   \n3    {question_not_shown}  {question_not_shown}  {question_not_shown}   \n4    {question_not_shown}  {question_not_shown}  {question_not_shown}   \n..                    ...                   ...                   ...   \n695  {question_not_shown}  {question_not_shown}  {question_not_shown}   \n696  {question_not_shown}  {question_not_shown}  {question_not_shown}   \n697  {question_not_shown}  {question_not_shown}  {question_not_shown}   \n698  {question_not_shown}  {question_not_shown}  {question_not_shown}   \n699  {question_not_shown}  {question_not_shown}  {question_not_shown}   \n\n1             TECNICO456A            EDUCAT465A              INDE987A  \\\n0    {question_not_shown}  {question_not_shown}  {question_not_shown}   \n1    {question_not_shown}  {question_not_shown}  {question_not_shown}   \n2    {question_not_shown}  {question_not_shown}  {question_not_shown}   \n3    {question_not_shown}  {question_not_shown}  {question_not_shown}   \n4    {question_not_shown}  {question_not_shown}  {question_not_shown}   \n..                    ...                   ...                   ...   \n695  {question_not_shown}  {question_not_shown}  {question_not_shown}   \n696  {question_not_shown}  {question_not_shown}  {question_not_shown}   \n697  {question_not_shown}  {question_not_shown}  {question_not_shown}   \n698  {question_not_shown}  {question_not_shown}  {question_not_shown}   \n699  {question_not_shown}  {question_not_shown}  {question_not_shown}   \n\n1             SEGURI3454A          SALUD34546AQ            CONSTR456A  \\\n0    {question_not_shown}  {question_not_shown}  {question_not_shown}   \n1    {question_not_shown}  {question_not_shown}  {question_not_shown}   \n2    {question_not_shown}  {question_not_shown}  {question_not_shown}   \n3    {question_not_shown}  {question_not_shown}  {question_not_shown}   \n4    {question_not_shown}  {question_not_shown}  {question_not_shown}   \n..                    ...                   ...                   ...   \n695  {question_not_shown}  {question_not_shown}  {question_not_shown}   \n696  {question_not_shown}  {question_not_shown}  {question_not_shown}   \n697  {question_not_shown}  {question_not_shown}  {question_not_shown}   \n698  {question_not_shown}  {question_not_shown}  {question_not_shown}   \n699  {question_not_shown}  {question_not_shown}  {question_not_shown}   \n\n1            AGRICULDFERA               fabrick  \n0    {question_not_shown}  {question_not_shown}  \n1    {question_not_shown}  {question_not_shown}  \n2    {question_not_shown}  {question_not_shown}  \n3    {question_not_shown}  {question_not_shown}  \n4    {question_not_shown}  {question_not_shown}  \n..                    ...                   ...  \n695  {question_not_shown}  {question_not_shown}  \n696  {question_not_shown}  {question_not_shown}  \n697  {question_not_shown}  {question_not_shown}  \n698  {question_not_shown}  {question_not_shown}  \n699  {question_not_shown}  {question_not_shown}  \n\n[700 rows x 20 columns]",
      "text/html": "<div>\n<style scoped>\n    .dataframe tbody tr th:only-of-type {\n        vertical-align: middle;\n    }\n\n    .dataframe tbody tr th {\n        vertical-align: top;\n    }\n\n    .dataframe thead th {\n        text-align: right;\n    }\n</style>\n<table border=\"1\" class=\"dataframe\">\n  <thead>\n    <tr style=\"text-align: right;\">\n      <th>1</th>\n      <th>DP999007</th>\n      <th>ART56853A</th>\n      <th>CHOF5559A</th>\n      <th>FORMG66A</th>\n      <th>INFOR4574MA</th>\n      <th>EMPRESGHG5A</th>\n      <th>VITUAL5G6A</th>\n      <th>CLIENTESGFF5A</th>\n      <th>ADMING575A</th>\n      <th>EMPLGUB3646GA</th>\n      <th>GUBERN465A</th>\n      <th>MAQUIN4563A</th>\n      <th>TECNICO456A</th>\n      <th>EDUCAT465A</th>\n      <th>INDE987A</th>\n      <th>SEGURI3454A</th>\n      <th>SALUD34546AQ</th>\n      <th>CONSTR456A</th>\n      <th>AGRICULDFERA</th>\n      <th>fabrick</th>\n    </tr>\n  </thead>\n  <tbody>\n    <tr>\n      <th>0</th>\n      <td>{question_not_shown}</td>\n      <td>{question_not_shown}</td>\n      <td>{question_not_shown}</td>\n      <td>{question_not_shown}</td>\n      <td>{question_not_shown}</td>\n      <td>{question_not_shown}</td>\n      <td>{question_not_shown}</td>\n      <td>{question_not_shown}</td>\n      <td>{question_not_shown}</td>\n      <td>{question_not_shown}</td>\n      <td>{question_not_shown}</td>\n      <td>{question_not_shown}</td>\n      <td>{question_not_shown}</td>\n      <td>{question_not_shown}</td>\n      <td>{question_not_shown}</td>\n      <td>{question_not_shown}</td>\n      <td>{question_not_shown}</td>\n      <td>{question_not_shown}</td>\n      <td>{question_not_shown}</td>\n      <td>{question_not_shown}</td>\n    </tr>\n    <tr>\n      <th>1</th>\n      <td>{question_not_shown}</td>\n      <td>{question_not_shown}</td>\n      <td>{question_not_shown}</td>\n      <td>{question_not_shown}</td>\n      <td>{question_not_shown}</td>\n      <td>{question_not_shown}</td>\n      <td>{question_not_shown}</td>\n      <td>{question_not_shown}</td>\n      <td>{question_not_shown}</td>\n      <td>{question_not_shown}</td>\n      <td>{question_not_shown}</td>\n      <td>{question_not_shown}</td>\n      <td>{question_not_shown}</td>\n      <td>{question_not_shown}</td>\n      <td>{question_not_shown}</td>\n      <td>{question_not_shown}</td>\n      <td>{question_not_shown}</td>\n      <td>{question_not_shown}</td>\n      <td>{question_not_shown}</td>\n      <td>{question_not_shown}</td>\n    </tr>\n    <tr>\n      <th>2</th>\n      <td>{question_not_shown}</td>\n      <td>{question_not_shown}</td>\n      <td>{question_not_shown}</td>\n      <td>{question_not_shown}</td>\n      <td>{question_not_shown}</td>\n      <td>{question_not_shown}</td>\n      <td>{question_not_shown}</td>\n      <td>{question_not_shown}</td>\n      <td>{question_not_shown}</td>\n      <td>{question_not_shown}</td>\n      <td>{question_not_shown}</td>\n      <td>{question_not_shown}</td>\n      <td>{question_not_shown}</td>\n      <td>{question_not_shown}</td>\n      <td>{question_not_shown}</td>\n      <td>{question_not_shown}</td>\n      <td>{question_not_shown}</td>\n      <td>{question_not_shown}</td>\n      <td>{question_not_shown}</td>\n      <td>{question_not_shown}</td>\n    </tr>\n    <tr>\n      <th>3</th>\n      <td>{question_not_shown}</td>\n      <td>{question_not_shown}</td>\n      <td>{question_not_shown}</td>\n      <td>{question_not_shown}</td>\n      <td>{question_not_shown}</td>\n      <td>{question_not_shown}</td>\n      <td>{question_not_shown}</td>\n      <td>{question_not_shown}</td>\n      <td>{question_not_shown}</td>\n      <td>{question_not_shown}</td>\n      <td>{question_not_shown}</td>\n      <td>{question_not_shown}</td>\n      <td>{question_not_shown}</td>\n      <td>{question_not_shown}</td>\n      <td>{question_not_shown}</td>\n      <td>{question_not_shown}</td>\n      <td>{question_not_shown}</td>\n      <td>{question_not_shown}</td>\n      <td>{question_not_shown}</td>\n      <td>{question_not_shown}</td>\n    </tr>\n    <tr>\n      <th>4</th>\n      <td>{question_not_shown}</td>\n      <td>-oth-</td>\n      <td>{question_not_shown}</td>\n      <td>{question_not_shown}</td>\n      <td>{question_not_shown}</td>\n      <td>{question_not_shown}</td>\n      <td>{question_not_shown}</td>\n      <td>{question_not_shown}</td>\n      <td>{question_not_shown}</td>\n      <td>{question_not_shown}</td>\n      <td>{question_not_shown}</td>\n      <td>{question_not_shown}</td>\n      <td>{question_not_shown}</td>\n      <td>{question_not_shown}</td>\n      <td>{question_not_shown}</td>\n      <td>{question_not_shown}</td>\n      <td>{question_not_shown}</td>\n      <td>{question_not_shown}</td>\n      <td>{question_not_shown}</td>\n      <td>{question_not_shown}</td>\n    </tr>\n    <tr>\n      <th>...</th>\n      <td>...</td>\n      <td>...</td>\n      <td>...</td>\n      <td>...</td>\n      <td>...</td>\n      <td>...</td>\n      <td>...</td>\n      <td>...</td>\n      <td>...</td>\n      <td>...</td>\n      <td>...</td>\n      <td>...</td>\n      <td>...</td>\n      <td>...</td>\n      <td>...</td>\n      <td>...</td>\n      <td>...</td>\n      <td>...</td>\n      <td>...</td>\n      <td>...</td>\n    </tr>\n    <tr>\n      <th>695</th>\n      <td>{question_not_shown}</td>\n      <td>{question_not_shown}</td>\n      <td>{question_not_shown}</td>\n      <td>{question_not_shown}</td>\n      <td>{question_not_shown}</td>\n      <td>{question_not_shown}</td>\n      <td>{question_not_shown}</td>\n      <td>{question_not_shown}</td>\n      <td>{question_not_shown}</td>\n      <td>{question_not_shown}</td>\n      <td>{question_not_shown}</td>\n      <td>{question_not_shown}</td>\n      <td>{question_not_shown}</td>\n      <td>{question_not_shown}</td>\n      <td>{question_not_shown}</td>\n      <td>{question_not_shown}</td>\n      <td>{question_not_shown}</td>\n      <td>{question_not_shown}</td>\n      <td>{question_not_shown}</td>\n      <td>{question_not_shown}</td>\n    </tr>\n    <tr>\n      <th>696</th>\n      <td>{question_not_shown}</td>\n      <td>{question_not_shown}</td>\n      <td>{question_not_shown}</td>\n      <td>{question_not_shown}</td>\n      <td>{question_not_shown}</td>\n      <td>{question_not_shown}</td>\n      <td>{question_not_shown}</td>\n      <td>Recepcionista_2</td>\n      <td>{question_not_shown}</td>\n      <td>{question_not_shown}</td>\n      <td>{question_not_shown}</td>\n      <td>{question_not_shown}</td>\n      <td>{question_not_shown}</td>\n      <td>{question_not_shown}</td>\n      <td>{question_not_shown}</td>\n      <td>{question_not_shown}</td>\n      <td>{question_not_shown}</td>\n      <td>{question_not_shown}</td>\n      <td>{question_not_shown}</td>\n      <td>{question_not_shown}</td>\n    </tr>\n    <tr>\n      <th>697</th>\n      <td>{question_not_shown}</td>\n      <td>{question_not_shown}</td>\n      <td>{question_not_shown}</td>\n      <td>{question_not_shown}</td>\n      <td>{question_not_shown}</td>\n      <td>{question_not_shown}</td>\n      <td>{question_not_shown}</td>\n      <td>{question_not_shown}</td>\n      <td>{question_not_shown}</td>\n      <td>{question_not_shown}</td>\n      <td>{question_not_shown}</td>\n      <td>{question_not_shown}</td>\n      <td>{question_not_shown}</td>\n      <td>{question_not_shown}</td>\n      <td>{question_not_shown}</td>\n      <td>{question_not_shown}</td>\n      <td>{question_not_shown}</td>\n      <td>{question_not_shown}</td>\n      <td>{question_not_shown}</td>\n      <td>{question_not_shown}</td>\n    </tr>\n    <tr>\n      <th>698</th>\n      <td>{question_not_shown}</td>\n      <td>{question_not_shown}</td>\n      <td>{question_not_shown}</td>\n      <td>{question_not_shown}</td>\n      <td>{question_not_shown}</td>\n      <td>{question_not_shown}</td>\n      <td>{question_not_shown}</td>\n      <td>{question_not_shown}</td>\n      <td>{question_not_shown}</td>\n      <td>{question_not_shown}</td>\n      <td>{question_not_shown}</td>\n      <td>{question_not_shown}</td>\n      <td>{question_not_shown}</td>\n      <td>{question_not_shown}</td>\n      <td>{question_not_shown}</td>\n      <td>{question_not_shown}</td>\n      <td>{question_not_shown}</td>\n      <td>{question_not_shown}</td>\n      <td>{question_not_shown}</td>\n      <td>{question_not_shown}</td>\n    </tr>\n    <tr>\n      <th>699</th>\n      <td>{question_not_shown}</td>\n      <td>{question_not_shown}</td>\n      <td>{question_not_shown}</td>\n      <td>{question_not_shown}</td>\n      <td>{question_not_shown}</td>\n      <td>{question_not_shown}</td>\n      <td>{question_not_shown}</td>\n      <td>{question_not_shown}</td>\n      <td>{question_not_shown}</td>\n      <td>{question_not_shown}</td>\n      <td>{question_not_shown}</td>\n      <td>{question_not_shown}</td>\n      <td>{question_not_shown}</td>\n      <td>{question_not_shown}</td>\n      <td>{question_not_shown}</td>\n      <td>{question_not_shown}</td>\n      <td>{question_not_shown}</td>\n      <td>{question_not_shown}</td>\n      <td>{question_not_shown}</td>\n      <td>{question_not_shown}</td>\n    </tr>\n  </tbody>\n</table>\n<p>700 rows × 20 columns</p>\n</div>"
     },
     "execution_count": 67,
     "metadata": {},
     "output_type": "execute_result"
    }
   ],
   "source": [
    "encuesta[columnas_base6]"
   ],
   "metadata": {
    "collapsed": false,
    "ExecuteTime": {
     "end_time": "2024-06-28T19:05:22.651599Z",
     "start_time": "2024-06-28T19:05:22.643021Z"
    }
   },
   "execution_count": 67
  },
  {
   "cell_type": "markdown",
   "source": [
    "### Columnas con sufijos"
   ],
   "metadata": {
    "collapsed": false
   }
  },
  {
   "cell_type": "code",
   "outputs": [
    {
     "data": {
      "text/plain": "['ADMING575A_other',\n 'AGRICULDFERA_other',\n 'ART56853A_other',\n 'CHOF5559A_other',\n 'CLIENTESGFF5A_other',\n 'CONSTR456A_other',\n 'DP999007_other',\n 'EDUCAT465A_other',\n 'EMPLGUB3646GA_comment',\n 'EMPRESGHG5A_other',\n 'FORMG66A_other',\n 'GUBERN465A_other',\n 'INDE987A_other',\n 'INFOR4574MA_other',\n 'MAQUIN4563A_comment',\n 'SALUD34546AQ_other',\n 'SEGURI3454A_other',\n 'TECNICO456A_comment',\n 'VITUAL5G6A_other',\n 'fabrick_other']"
     },
     "execution_count": 68,
     "metadata": {},
     "output_type": "execute_result"
    }
   ],
   "source": [
    "columnas_sufijo6 = []\n",
    "for col in columnas_base6:\n",
    "    if col + '_other' in encuesta.columns:\n",
    "        columnas_sufijo6.append(col + '_other')\n",
    "    elif col + '_comment' in encuesta.columns:\n",
    "        columnas_sufijo6.append(col + '_comment')\n",
    "assert len(columnas_sufijo6) == len(columnas_base6)\n",
    "columnas_sufijo6.sort()\n",
    "columnas_sufijo6"
   ],
   "metadata": {
    "collapsed": false,
    "ExecuteTime": {
     "end_time": "2024-06-28T19:05:22.726041Z",
     "start_time": "2024-06-28T19:05:22.722578Z"
    }
   },
   "execution_count": 68
  },
  {
   "cell_type": "code",
   "outputs": [
    {
     "data": {
      "text/plain": "20"
     },
     "execution_count": 69,
     "metadata": {},
     "output_type": "execute_result"
    }
   ],
   "source": [
    "len(columnas_sufijo6)"
   ],
   "metadata": {
    "collapsed": false,
    "ExecuteTime": {
     "end_time": "2024-06-28T19:05:22.787350Z",
     "start_time": "2024-06-28T19:05:22.784119Z"
    }
   },
   "execution_count": 69
  },
  {
   "cell_type": "code",
   "outputs": [],
   "source": [
    "for col_con_sufijo in columnas_sufijo6:\n",
    "    columna_sin_sufijo6 =  re.sub(r'_.*', '', col_con_sufijo)\n",
    "    encuesta[columna_sin_sufijo6] = encuesta[columna_sin_sufijo6].combine_first(encuesta[col_con_sufijo])\n",
    "    encuesta[columna_sin_sufijo6] = np.where(encuesta[columna_sin_sufijo6] == '-oth-',\n",
    "                                             encuesta[col_con_sufijo],\n",
    "                                             encuesta[columna_sin_sufijo6])\n",
    "    encuesta.drop(columns=col_con_sufijo, inplace=True)"
   ],
   "metadata": {
    "collapsed": false,
    "ExecuteTime": {
     "end_time": "2024-06-28T19:05:23.046699Z",
     "start_time": "2024-06-28T19:05:22.918479Z"
    }
   },
   "execution_count": 70
  },
  {
   "cell_type": "code",
   "outputs": [
    {
     "data": {
      "text/plain": "1                DP999007             ART56853A             CHOF5559A  \\\n0    {question_not_shown}  {question_not_shown}  {question_not_shown}   \n1    {question_not_shown}  {question_not_shown}  {question_not_shown}   \n2    {question_not_shown}  {question_not_shown}  {question_not_shown}   \n3    {question_not_shown}  {question_not_shown}  {question_not_shown}   \n4    {question_not_shown}             BAILARINA  {question_not_shown}   \n..                    ...                   ...                   ...   \n695  {question_not_shown}  {question_not_shown}  {question_not_shown}   \n696  {question_not_shown}  {question_not_shown}  {question_not_shown}   \n697  {question_not_shown}  {question_not_shown}  {question_not_shown}   \n698  {question_not_shown}  {question_not_shown}  {question_not_shown}   \n699  {question_not_shown}  {question_not_shown}  {question_not_shown}   \n\n1                FORMG66A           INFOR4574MA           EMPRESGHG5A  \\\n0    {question_not_shown}  {question_not_shown}  {question_not_shown}   \n1    {question_not_shown}  {question_not_shown}  {question_not_shown}   \n2    {question_not_shown}  {question_not_shown}  {question_not_shown}   \n3    {question_not_shown}  {question_not_shown}  {question_not_shown}   \n4    {question_not_shown}  {question_not_shown}  {question_not_shown}   \n..                    ...                   ...                   ...   \n695  {question_not_shown}  {question_not_shown}  {question_not_shown}   \n696  {question_not_shown}  {question_not_shown}  {question_not_shown}   \n697  {question_not_shown}  {question_not_shown}  {question_not_shown}   \n698  {question_not_shown}  {question_not_shown}  {question_not_shown}   \n699  {question_not_shown}  {question_not_shown}  {question_not_shown}   \n\n1              VITUAL5G6A         CLIENTESGFF5A            ADMING575A  \\\n0    {question_not_shown}  {question_not_shown}  {question_not_shown}   \n1    {question_not_shown}  {question_not_shown}  {question_not_shown}   \n2    {question_not_shown}  {question_not_shown}  {question_not_shown}   \n3    {question_not_shown}  {question_not_shown}  {question_not_shown}   \n4    {question_not_shown}  {question_not_shown}  {question_not_shown}   \n..                    ...                   ...                   ...   \n695  {question_not_shown}  {question_not_shown}  {question_not_shown}   \n696  {question_not_shown}       Recepcionista_2  {question_not_shown}   \n697  {question_not_shown}  {question_not_shown}  {question_not_shown}   \n698  {question_not_shown}  {question_not_shown}  {question_not_shown}   \n699  {question_not_shown}  {question_not_shown}  {question_not_shown}   \n\n1           EMPLGUB3646GA            GUBERN465A           MAQUIN4563A  \\\n0    {question_not_shown}  {question_not_shown}  {question_not_shown}   \n1    {question_not_shown}  {question_not_shown}  {question_not_shown}   \n2    {question_not_shown}  {question_not_shown}  {question_not_shown}   \n3    {question_not_shown}  {question_not_shown}  {question_not_shown}   \n4    {question_not_shown}  {question_not_shown}  {question_not_shown}   \n..                    ...                   ...                   ...   \n695  {question_not_shown}  {question_not_shown}  {question_not_shown}   \n696  {question_not_shown}  {question_not_shown}  {question_not_shown}   \n697  {question_not_shown}  {question_not_shown}  {question_not_shown}   \n698  {question_not_shown}  {question_not_shown}  {question_not_shown}   \n699  {question_not_shown}  {question_not_shown}  {question_not_shown}   \n\n1             TECNICO456A            EDUCAT465A              INDE987A  \\\n0    {question_not_shown}  {question_not_shown}  {question_not_shown}   \n1    {question_not_shown}  {question_not_shown}  {question_not_shown}   \n2    {question_not_shown}  {question_not_shown}  {question_not_shown}   \n3    {question_not_shown}  {question_not_shown}  {question_not_shown}   \n4    {question_not_shown}  {question_not_shown}  {question_not_shown}   \n..                    ...                   ...                   ...   \n695  {question_not_shown}  {question_not_shown}  {question_not_shown}   \n696  {question_not_shown}  {question_not_shown}  {question_not_shown}   \n697  {question_not_shown}  {question_not_shown}  {question_not_shown}   \n698  {question_not_shown}  {question_not_shown}  {question_not_shown}   \n699  {question_not_shown}  {question_not_shown}  {question_not_shown}   \n\n1             SEGURI3454A          SALUD34546AQ            CONSTR456A  \\\n0    {question_not_shown}  {question_not_shown}  {question_not_shown}   \n1    {question_not_shown}  {question_not_shown}  {question_not_shown}   \n2    {question_not_shown}  {question_not_shown}  {question_not_shown}   \n3    {question_not_shown}  {question_not_shown}  {question_not_shown}   \n4    {question_not_shown}  {question_not_shown}  {question_not_shown}   \n..                    ...                   ...                   ...   \n695  {question_not_shown}  {question_not_shown}  {question_not_shown}   \n696  {question_not_shown}  {question_not_shown}  {question_not_shown}   \n697  {question_not_shown}  {question_not_shown}  {question_not_shown}   \n698  {question_not_shown}  {question_not_shown}  {question_not_shown}   \n699  {question_not_shown}  {question_not_shown}  {question_not_shown}   \n\n1            AGRICULDFERA               fabrick  \n0    {question_not_shown}  {question_not_shown}  \n1    {question_not_shown}  {question_not_shown}  \n2    {question_not_shown}  {question_not_shown}  \n3    {question_not_shown}  {question_not_shown}  \n4    {question_not_shown}  {question_not_shown}  \n..                    ...                   ...  \n695  {question_not_shown}  {question_not_shown}  \n696  {question_not_shown}  {question_not_shown}  \n697  {question_not_shown}  {question_not_shown}  \n698  {question_not_shown}  {question_not_shown}  \n699  {question_not_shown}  {question_not_shown}  \n\n[700 rows x 20 columns]",
      "text/html": "<div>\n<style scoped>\n    .dataframe tbody tr th:only-of-type {\n        vertical-align: middle;\n    }\n\n    .dataframe tbody tr th {\n        vertical-align: top;\n    }\n\n    .dataframe thead th {\n        text-align: right;\n    }\n</style>\n<table border=\"1\" class=\"dataframe\">\n  <thead>\n    <tr style=\"text-align: right;\">\n      <th>1</th>\n      <th>DP999007</th>\n      <th>ART56853A</th>\n      <th>CHOF5559A</th>\n      <th>FORMG66A</th>\n      <th>INFOR4574MA</th>\n      <th>EMPRESGHG5A</th>\n      <th>VITUAL5G6A</th>\n      <th>CLIENTESGFF5A</th>\n      <th>ADMING575A</th>\n      <th>EMPLGUB3646GA</th>\n      <th>GUBERN465A</th>\n      <th>MAQUIN4563A</th>\n      <th>TECNICO456A</th>\n      <th>EDUCAT465A</th>\n      <th>INDE987A</th>\n      <th>SEGURI3454A</th>\n      <th>SALUD34546AQ</th>\n      <th>CONSTR456A</th>\n      <th>AGRICULDFERA</th>\n      <th>fabrick</th>\n    </tr>\n  </thead>\n  <tbody>\n    <tr>\n      <th>0</th>\n      <td>{question_not_shown}</td>\n      <td>{question_not_shown}</td>\n      <td>{question_not_shown}</td>\n      <td>{question_not_shown}</td>\n      <td>{question_not_shown}</td>\n      <td>{question_not_shown}</td>\n      <td>{question_not_shown}</td>\n      <td>{question_not_shown}</td>\n      <td>{question_not_shown}</td>\n      <td>{question_not_shown}</td>\n      <td>{question_not_shown}</td>\n      <td>{question_not_shown}</td>\n      <td>{question_not_shown}</td>\n      <td>{question_not_shown}</td>\n      <td>{question_not_shown}</td>\n      <td>{question_not_shown}</td>\n      <td>{question_not_shown}</td>\n      <td>{question_not_shown}</td>\n      <td>{question_not_shown}</td>\n      <td>{question_not_shown}</td>\n    </tr>\n    <tr>\n      <th>1</th>\n      <td>{question_not_shown}</td>\n      <td>{question_not_shown}</td>\n      <td>{question_not_shown}</td>\n      <td>{question_not_shown}</td>\n      <td>{question_not_shown}</td>\n      <td>{question_not_shown}</td>\n      <td>{question_not_shown}</td>\n      <td>{question_not_shown}</td>\n      <td>{question_not_shown}</td>\n      <td>{question_not_shown}</td>\n      <td>{question_not_shown}</td>\n      <td>{question_not_shown}</td>\n      <td>{question_not_shown}</td>\n      <td>{question_not_shown}</td>\n      <td>{question_not_shown}</td>\n      <td>{question_not_shown}</td>\n      <td>{question_not_shown}</td>\n      <td>{question_not_shown}</td>\n      <td>{question_not_shown}</td>\n      <td>{question_not_shown}</td>\n    </tr>\n    <tr>\n      <th>2</th>\n      <td>{question_not_shown}</td>\n      <td>{question_not_shown}</td>\n      <td>{question_not_shown}</td>\n      <td>{question_not_shown}</td>\n      <td>{question_not_shown}</td>\n      <td>{question_not_shown}</td>\n      <td>{question_not_shown}</td>\n      <td>{question_not_shown}</td>\n      <td>{question_not_shown}</td>\n      <td>{question_not_shown}</td>\n      <td>{question_not_shown}</td>\n      <td>{question_not_shown}</td>\n      <td>{question_not_shown}</td>\n      <td>{question_not_shown}</td>\n      <td>{question_not_shown}</td>\n      <td>{question_not_shown}</td>\n      <td>{question_not_shown}</td>\n      <td>{question_not_shown}</td>\n      <td>{question_not_shown}</td>\n      <td>{question_not_shown}</td>\n    </tr>\n    <tr>\n      <th>3</th>\n      <td>{question_not_shown}</td>\n      <td>{question_not_shown}</td>\n      <td>{question_not_shown}</td>\n      <td>{question_not_shown}</td>\n      <td>{question_not_shown}</td>\n      <td>{question_not_shown}</td>\n      <td>{question_not_shown}</td>\n      <td>{question_not_shown}</td>\n      <td>{question_not_shown}</td>\n      <td>{question_not_shown}</td>\n      <td>{question_not_shown}</td>\n      <td>{question_not_shown}</td>\n      <td>{question_not_shown}</td>\n      <td>{question_not_shown}</td>\n      <td>{question_not_shown}</td>\n      <td>{question_not_shown}</td>\n      <td>{question_not_shown}</td>\n      <td>{question_not_shown}</td>\n      <td>{question_not_shown}</td>\n      <td>{question_not_shown}</td>\n    </tr>\n    <tr>\n      <th>4</th>\n      <td>{question_not_shown}</td>\n      <td>BAILARINA</td>\n      <td>{question_not_shown}</td>\n      <td>{question_not_shown}</td>\n      <td>{question_not_shown}</td>\n      <td>{question_not_shown}</td>\n      <td>{question_not_shown}</td>\n      <td>{question_not_shown}</td>\n      <td>{question_not_shown}</td>\n      <td>{question_not_shown}</td>\n      <td>{question_not_shown}</td>\n      <td>{question_not_shown}</td>\n      <td>{question_not_shown}</td>\n      <td>{question_not_shown}</td>\n      <td>{question_not_shown}</td>\n      <td>{question_not_shown}</td>\n      <td>{question_not_shown}</td>\n      <td>{question_not_shown}</td>\n      <td>{question_not_shown}</td>\n      <td>{question_not_shown}</td>\n    </tr>\n    <tr>\n      <th>...</th>\n      <td>...</td>\n      <td>...</td>\n      <td>...</td>\n      <td>...</td>\n      <td>...</td>\n      <td>...</td>\n      <td>...</td>\n      <td>...</td>\n      <td>...</td>\n      <td>...</td>\n      <td>...</td>\n      <td>...</td>\n      <td>...</td>\n      <td>...</td>\n      <td>...</td>\n      <td>...</td>\n      <td>...</td>\n      <td>...</td>\n      <td>...</td>\n      <td>...</td>\n    </tr>\n    <tr>\n      <th>695</th>\n      <td>{question_not_shown}</td>\n      <td>{question_not_shown}</td>\n      <td>{question_not_shown}</td>\n      <td>{question_not_shown}</td>\n      <td>{question_not_shown}</td>\n      <td>{question_not_shown}</td>\n      <td>{question_not_shown}</td>\n      <td>{question_not_shown}</td>\n      <td>{question_not_shown}</td>\n      <td>{question_not_shown}</td>\n      <td>{question_not_shown}</td>\n      <td>{question_not_shown}</td>\n      <td>{question_not_shown}</td>\n      <td>{question_not_shown}</td>\n      <td>{question_not_shown}</td>\n      <td>{question_not_shown}</td>\n      <td>{question_not_shown}</td>\n      <td>{question_not_shown}</td>\n      <td>{question_not_shown}</td>\n      <td>{question_not_shown}</td>\n    </tr>\n    <tr>\n      <th>696</th>\n      <td>{question_not_shown}</td>\n      <td>{question_not_shown}</td>\n      <td>{question_not_shown}</td>\n      <td>{question_not_shown}</td>\n      <td>{question_not_shown}</td>\n      <td>{question_not_shown}</td>\n      <td>{question_not_shown}</td>\n      <td>Recepcionista_2</td>\n      <td>{question_not_shown}</td>\n      <td>{question_not_shown}</td>\n      <td>{question_not_shown}</td>\n      <td>{question_not_shown}</td>\n      <td>{question_not_shown}</td>\n      <td>{question_not_shown}</td>\n      <td>{question_not_shown}</td>\n      <td>{question_not_shown}</td>\n      <td>{question_not_shown}</td>\n      <td>{question_not_shown}</td>\n      <td>{question_not_shown}</td>\n      <td>{question_not_shown}</td>\n    </tr>\n    <tr>\n      <th>697</th>\n      <td>{question_not_shown}</td>\n      <td>{question_not_shown}</td>\n      <td>{question_not_shown}</td>\n      <td>{question_not_shown}</td>\n      <td>{question_not_shown}</td>\n      <td>{question_not_shown}</td>\n      <td>{question_not_shown}</td>\n      <td>{question_not_shown}</td>\n      <td>{question_not_shown}</td>\n      <td>{question_not_shown}</td>\n      <td>{question_not_shown}</td>\n      <td>{question_not_shown}</td>\n      <td>{question_not_shown}</td>\n      <td>{question_not_shown}</td>\n      <td>{question_not_shown}</td>\n      <td>{question_not_shown}</td>\n      <td>{question_not_shown}</td>\n      <td>{question_not_shown}</td>\n      <td>{question_not_shown}</td>\n      <td>{question_not_shown}</td>\n    </tr>\n    <tr>\n      <th>698</th>\n      <td>{question_not_shown}</td>\n      <td>{question_not_shown}</td>\n      <td>{question_not_shown}</td>\n      <td>{question_not_shown}</td>\n      <td>{question_not_shown}</td>\n      <td>{question_not_shown}</td>\n      <td>{question_not_shown}</td>\n      <td>{question_not_shown}</td>\n      <td>{question_not_shown}</td>\n      <td>{question_not_shown}</td>\n      <td>{question_not_shown}</td>\n      <td>{question_not_shown}</td>\n      <td>{question_not_shown}</td>\n      <td>{question_not_shown}</td>\n      <td>{question_not_shown}</td>\n      <td>{question_not_shown}</td>\n      <td>{question_not_shown}</td>\n      <td>{question_not_shown}</td>\n      <td>{question_not_shown}</td>\n      <td>{question_not_shown}</td>\n    </tr>\n    <tr>\n      <th>699</th>\n      <td>{question_not_shown}</td>\n      <td>{question_not_shown}</td>\n      <td>{question_not_shown}</td>\n      <td>{question_not_shown}</td>\n      <td>{question_not_shown}</td>\n      <td>{question_not_shown}</td>\n      <td>{question_not_shown}</td>\n      <td>{question_not_shown}</td>\n      <td>{question_not_shown}</td>\n      <td>{question_not_shown}</td>\n      <td>{question_not_shown}</td>\n      <td>{question_not_shown}</td>\n      <td>{question_not_shown}</td>\n      <td>{question_not_shown}</td>\n      <td>{question_not_shown}</td>\n      <td>{question_not_shown}</td>\n      <td>{question_not_shown}</td>\n      <td>{question_not_shown}</td>\n      <td>{question_not_shown}</td>\n      <td>{question_not_shown}</td>\n    </tr>\n  </tbody>\n</table>\n<p>700 rows × 20 columns</p>\n</div>"
     },
     "execution_count": 71,
     "metadata": {},
     "output_type": "execute_result"
    }
   ],
   "source": [
    "encuesta[columnas_base6]"
   ],
   "metadata": {
    "collapsed": false,
    "ExecuteTime": {
     "end_time": "2024-06-28T19:05:23.055257Z",
     "start_time": "2024-06-28T19:05:23.047552Z"
    }
   },
   "execution_count": 71
  },
  {
   "cell_type": "markdown",
   "source": [
    "### Asignación de trabajo"
   ],
   "metadata": {
    "collapsed": false
   }
  },
  {
   "cell_type": "code",
   "outputs": [
    {
     "name": "stderr",
     "output_type": "stream",
     "text": [
      "/var/folders/hb/c3zh8bns0mx4nw98_6k7rx8m0000gn/T/ipykernel_7971/1304050975.py:4: FutureWarning: Downcasting behavior in `replace` is deprecated and will be removed in a future version. To retain the old behavior, explicitly call `result.infer_objects(copy=False)`. To opt-in to the future behavior, set `pd.set_option('future.no_silent_downcasting', True)`\n",
      "  encuesta[columna] = encuesta[columna].replace('{question_not_shown}', np.nan)\n",
      "/var/folders/hb/c3zh8bns0mx4nw98_6k7rx8m0000gn/T/ipykernel_7971/1304050975.py:4: FutureWarning: Downcasting behavior in `replace` is deprecated and will be removed in a future version. To retain the old behavior, explicitly call `result.infer_objects(copy=False)`. To opt-in to the future behavior, set `pd.set_option('future.no_silent_downcasting', True)`\n",
      "  encuesta[columna] = encuesta[columna].replace('{question_not_shown}', np.nan)\n",
      "/var/folders/hb/c3zh8bns0mx4nw98_6k7rx8m0000gn/T/ipykernel_7971/1304050975.py:4: FutureWarning: Downcasting behavior in `replace` is deprecated and will be removed in a future version. To retain the old behavior, explicitly call `result.infer_objects(copy=False)`. To opt-in to the future behavior, set `pd.set_option('future.no_silent_downcasting', True)`\n",
      "  encuesta[columna] = encuesta[columna].replace('{question_not_shown}', np.nan)\n",
      "/var/folders/hb/c3zh8bns0mx4nw98_6k7rx8m0000gn/T/ipykernel_7971/1304050975.py:4: FutureWarning: Downcasting behavior in `replace` is deprecated and will be removed in a future version. To retain the old behavior, explicitly call `result.infer_objects(copy=False)`. To opt-in to the future behavior, set `pd.set_option('future.no_silent_downcasting', True)`\n",
      "  encuesta[columna] = encuesta[columna].replace('{question_not_shown}', np.nan)\n"
     ]
    },
    {
     "data": {
      "text/plain": "0                                            abogada\n1                                          abogado_1\n2                                         acomodador\n3                                           actuaria\n4                                           actuario\n                           ...                      \n120    vendedor por cuenta propia (negocio propio)_1\n121                              ventas - publicidad\n122                          ventas como dependiente\n123                                     voluntariado\n124                                              NaN\nName: trabajo, Length: 125, dtype: object"
     },
     "execution_count": 72,
     "metadata": {},
     "output_type": "execute_result"
    }
   ],
   "source": [
    "encuesta['trabajo'] = pd.Series(dtype='string', index=encuesta.index)\n",
    "\n",
    "for columna in columnas_base6:\n",
    "    encuesta[columna] = encuesta[columna].replace('{question_not_shown}', np.nan)\n",
    "    encuesta['trabajo'] = encuesta['trabajo'].combine_first(encuesta[columna])\n",
    "    encuesta.drop(columns=columna, inplace=True)\n",
    "encuesta['Amigo2q0r134'] = encuesta['Amigo2q0r134'].replace('{question_not_shown}', np.nan)\n",
    "encuesta['trabajo'] = encuesta['trabajo'].combine_first(encuesta['Amigo2q0r134'])\n",
    "encuesta.drop(columns='Amigo2q0r134', inplace=True)\n",
    "\n",
    "\n",
    "encuesta['trabajo'] = encuesta['trabajo'].str.strip().str.lower()\n",
    "mostrar_unicos(encuesta,'trabajo')"
   ],
   "metadata": {
    "collapsed": false,
    "ExecuteTime": {
     "end_time": "2024-06-28T19:05:23.233456Z",
     "start_time": "2024-06-28T19:05:23.093927Z"
    }
   },
   "execution_count": 72
  },
  {
   "cell_type": "code",
   "outputs": [
    {
     "data": {
      "text/plain": "0                      ninguna\n1                      no sabe\n2                      ninguna\n3      no trabaja/trabajaba_21\n4                    bailarina\n                ...           \n695    no trabaja/trabajaba_21\n696            recepcionista_2\n697    no trabaja/trabajaba_21\n698                   estudiar\n699    no trabaja/trabajaba_21\nName: trabajo, Length: 700, dtype: object"
     },
     "execution_count": 73,
     "metadata": {},
     "output_type": "execute_result"
    }
   ],
   "source": [
    "encuesta['trabajo'] = encuesta['trabajo'].fillna('ninguna')\n",
    "encuesta['trabajo']"
   ],
   "metadata": {
    "collapsed": false,
    "ExecuteTime": {
     "end_time": "2024-06-28T19:05:23.239977Z",
     "start_time": "2024-06-28T19:05:23.234799Z"
    }
   },
   "execution_count": 73
  },
  {
   "cell_type": "code",
   "outputs": [
    {
     "name": "stderr",
     "output_type": "stream",
     "text": [
      "<>:1: SyntaxWarning: invalid escape sequence '\\d'\n",
      "<>:1: SyntaxWarning: invalid escape sequence '\\d'\n",
      "/var/folders/hb/c3zh8bns0mx4nw98_6k7rx8m0000gn/T/ipykernel_7971/216671925.py:1: SyntaxWarning: invalid escape sequence '\\d'\n",
      "  trabajos_nuevos6 = encuesta['trabajo'][~encuesta['trabajo'].str.contains('_\\d+$|ninguna')].reset_index(drop=True)\n"
     ]
    },
    {
     "data": {
      "text/plain": "0                                     no sabe\n1                                   bailarina\n2                                  estudiante\n3                                  estudiante\n4                                  preescolar\n                        ...                  \n164                     tiene varios trabajos\n165                          educacion fisica\n166    asistente de direccion en preparatoria\n167                         estudia y trabaja\n168                                  estudiar\nName: trabajo, Length: 169, dtype: object"
     },
     "execution_count": 74,
     "metadata": {},
     "output_type": "execute_result"
    }
   ],
   "source": [
    "trabajos_nuevos6 = encuesta['trabajo'][~encuesta['trabajo'].str.contains('_\\d+$|ninguna')].reset_index(drop=True)\n",
    "trabajos_nuevos6"
   ],
   "metadata": {
    "collapsed": false,
    "ExecuteTime": {
     "end_time": "2024-06-28T19:05:23.275224Z",
     "start_time": "2024-06-28T19:05:23.270827Z"
    }
   },
   "execution_count": 74
  },
  {
   "cell_type": "markdown",
   "source": [
    "### Correción de Trabajos"
   ],
   "metadata": {
    "collapsed": false
   }
  },
  {
   "cell_type": "code",
   "outputs": [
    {
     "name": "stderr",
     "output_type": "stream",
     "text": [
      "/Users/erickavendanogarcia/Downloads/servicio_social/venv/lib/python3.12/site-packages/string_grouper/string_grouper.py:694: FutureWarning: DataFrame.applymap has been deprecated. Use DataFrame.map instead.\n",
      "  elif series_to_test.to_frame().applymap(\n"
     ]
    },
    {
     "data": {
      "text/plain": "            original           correccion  hubo_correccion\n84  asistente dental            asistente             True\n44           estudia           estudiante             True\n97          estudiar           estudiante             True\n94          promotor  promotor de seguros             True\n91          estudiar           estudiante             True\n..               ...                  ...              ...\n79         asistente            asistente            False\n78            mesero               mesero            False\n27           idiomas              idiomas            False\n28            mesero               mesero            False\n0            no sabe              no sabe            False\n\n[169 rows x 3 columns]",
      "text/html": "<div>\n<style scoped>\n    .dataframe tbody tr th:only-of-type {\n        vertical-align: middle;\n    }\n\n    .dataframe tbody tr th {\n        vertical-align: top;\n    }\n\n    .dataframe thead th {\n        text-align: right;\n    }\n</style>\n<table border=\"1\" class=\"dataframe\">\n  <thead>\n    <tr style=\"text-align: right;\">\n      <th></th>\n      <th>original</th>\n      <th>correccion</th>\n      <th>hubo_correccion</th>\n    </tr>\n  </thead>\n  <tbody>\n    <tr>\n      <th>84</th>\n      <td>asistente dental</td>\n      <td>asistente</td>\n      <td>True</td>\n    </tr>\n    <tr>\n      <th>44</th>\n      <td>estudia</td>\n      <td>estudiante</td>\n      <td>True</td>\n    </tr>\n    <tr>\n      <th>97</th>\n      <td>estudiar</td>\n      <td>estudiante</td>\n      <td>True</td>\n    </tr>\n    <tr>\n      <th>94</th>\n      <td>promotor</td>\n      <td>promotor de seguros</td>\n      <td>True</td>\n    </tr>\n    <tr>\n      <th>91</th>\n      <td>estudiar</td>\n      <td>estudiante</td>\n      <td>True</td>\n    </tr>\n    <tr>\n      <th>...</th>\n      <td>...</td>\n      <td>...</td>\n      <td>...</td>\n    </tr>\n    <tr>\n      <th>79</th>\n      <td>asistente</td>\n      <td>asistente</td>\n      <td>False</td>\n    </tr>\n    <tr>\n      <th>78</th>\n      <td>mesero</td>\n      <td>mesero</td>\n      <td>False</td>\n    </tr>\n    <tr>\n      <th>27</th>\n      <td>idiomas</td>\n      <td>idiomas</td>\n      <td>False</td>\n    </tr>\n    <tr>\n      <th>28</th>\n      <td>mesero</td>\n      <td>mesero</td>\n      <td>False</td>\n    </tr>\n    <tr>\n      <th>0</th>\n      <td>no sabe</td>\n      <td>no sabe</td>\n      <td>False</td>\n    </tr>\n  </tbody>\n</table>\n<p>169 rows × 3 columns</p>\n</div>"
     },
     "execution_count": 75,
     "metadata": {},
     "output_type": "execute_result"
    }
   ],
   "source": [
    "from string_grouper import match_most_similar\n",
    "correccion6 = match_most_similar(trabajos_oficiales,\n",
    "                                 trabajos_nuevos6,\n",
    "                                 min_similarity=.40,\n",
    "                                 ignore_index=True)\n",
    "comparar6 = pd.DataFrame({'original': trabajos_nuevos6, 'correccion': correccion6})\n",
    "comparar6['hubo_correccion'] = comparar6['original'].ne(comparar6['correccion'])\n",
    "comparar6.sort_values(by='hubo_correccion', ascending=False)"
   ],
   "metadata": {
    "collapsed": false,
    "ExecuteTime": {
     "end_time": "2024-06-28T19:05:23.370200Z",
     "start_time": "2024-06-28T19:05:23.354770Z"
    }
   },
   "execution_count": 75
  },
  {
   "cell_type": "code",
   "outputs": [
    {
     "data": {
      "text/plain": "{'no sabe': 'no sabe',\n 'bailarina': 'bailarina',\n 'estudiante': 'estudiante',\n 'preescolar': 'preescolar',\n 'caseta de cobro de un bazar': 'caseta de cobro de un bazar',\n 'no se sabe': 'no se sabe',\n 'estudia': 'estudiante',\n 'hogar': 'hogar',\n 'nutriologa': 'nutriólogo',\n 'ejecutivo': 'ejecutivo',\n 'ventas como dependiente': 'médico independiente',\n 'no se': 'no se',\n 'inventarios': 'inventarios',\n 'idiomas': 'idiomas',\n 'mesero': 'mesero',\n 'ventas - publicidad': 'publicista',\n 'inversiones': 'inversiones',\n 'actuario': 'actuario',\n 'eventos': 'eventos',\n 'asistente despacho abogados': 'abogado',\n 'cargador': 'cargador',\n 'masajista': 'masajista',\n 'asistente dental': 'asistente',\n 'encuestador': 'encuestador',\n 'estudiar': 'estudiante',\n 'mesera': 'mesero',\n 'brigadista forestal': 'brigadista forestal',\n 'supervisor': 'supervisor',\n 'ciberseguridad': 'ciberseguridad',\n 'laboratorio': 'laboratorio',\n 'actuaria': 'actuaria',\n 'pasante': 'pasante',\n 'criminologa': 'criminologa',\n 'vendedor': 'vendedor',\n 'carpintero': 'carpintero',\n 'acomodador': 'acomodador',\n 'corredora publica': 'corredora publica',\n 'tienda de abarrotes': 'abarrotes',\n 'asesoria regularizacion escolar': 'regularización',\n 'ropa': 'ropa',\n 'artesanias': 'artesano',\n 'asistente': 'asistente',\n 'productos cosmeticos': 'productos cosmeticos',\n 'cndh': 'cndh',\n 'lavaloza': 'lavaloza',\n 'trabaja en tienda': 'trabaja en tienda',\n 'maestra de ingles': 'maestra de ingles',\n 'diseñadora': 'diseñador',\n 'bateria': 'bateria',\n 'gerente de ventas - empresa vinos y licores': 'gerente de ventas - empresa vinos y licores',\n 'empleado': 'empleado',\n 'promotor': 'promotor de seguros',\n 'ing. electrica': 'ing. electrica',\n 'marketing': 'marketing',\n 'ilustrador': 'ilustrador',\n 'sistemas en call center': 'call center',\n 'banco': 'banco',\n 'carpintería': 'carpintero',\n 'abogada': 'abogado',\n 'banquero': 'taquero',\n 'estudia y trabaja': 'estudia y trabaja',\n 'asistente dentista': 'dentista',\n 'vendedor de automovil': 'vendedor',\n 'guardia': 'guardia',\n 'ropa y articulos en general': 'ropa y articulos en general',\n 'economista': 'economista',\n 'industria automotriz': 'industria automotriz',\n 'camarografo': 'camarografo',\n 'gestion': 'gestion',\n 'auxiliar de dentista': 'dentista',\n 'archivista': 'archivista',\n 'oficinas de guanajuato23': 'oficinas de guanajuato23',\n 'diseñador': 'diseñador',\n 'chef': 'chef',\n 'mecanica automotriz': 'mecanica automotriz',\n 'fotoperiodista': 'fotoperiodista',\n 'expide actas de defunción': 'expide actas de defunción',\n 'empleada en tienda de autoservicio': 'empleada en tienda de autoservicio',\n 'voluntariado': 'voluntariado',\n 'estetica': 'estetica',\n 'ingeniero industrial': 'ingeniero',\n 'natacion': 'natacion',\n 'cocinero': 'cocinero',\n 'electricista': 'electricista',\n 'regularizacion': 'regularización',\n 'atiende farmacia': 'farmacia',\n 'psicologa educativa': 'área educativa',\n 'mecanico': 'mecánico',\n 'tienda': 'tienda',\n 'ingeniero en sistemas': 'ingeniero',\n 'restaurantes': 'restaurantes',\n 'tiene varios trabajos': 'tiene varios trabajos',\n 'educacion fisica': 'educación básica',\n 'asistente de direccion en preparatoria': 'asistente de direccion en preparatoria'}"
     },
     "execution_count": 76,
     "metadata": {},
     "output_type": "execute_result"
    }
   ],
   "source": [
    "mapeo_correcciones6 = dict(zip(trabajos_nuevos6, correccion6))\n",
    "mapeo_correcciones6"
   ],
   "metadata": {
    "collapsed": false,
    "ExecuteTime": {
     "end_time": "2024-06-28T19:05:23.533039Z",
     "start_time": "2024-06-28T19:05:23.529271Z"
    }
   },
   "execution_count": 76
  },
  {
   "cell_type": "code",
   "outputs": [
    {
     "data": {
      "text/plain": "0                                        abarrotes\n1                                          abogado\n2                                       acomodador\n3                                         actuaria\n4                                         actuario\n                          ...                     \n104                             vendedor de comida\n105            vendedor de tiendas departamentales\n106    vendedor por cuenta propia (negocio propio)\n107                                   voluntariado\n108                                 área educativa\nName: trabajo, Length: 109, dtype: object"
     },
     "execution_count": 77,
     "metadata": {},
     "output_type": "execute_result"
    }
   ],
   "source": [
    "encuesta['trabajo'] = encuesta['trabajo'].str.lower()\n",
    "encuesta['trabajo'] = encuesta['trabajo'].str.strip()\n",
    "encuesta['trabajo'] = encuesta['trabajo'].replace(mapeo_correcciones6)\n",
    "encuesta['trabajo'] = encuesta['trabajo'].str.replace(r'_\\d+', '', regex=True)\n",
    "mostrar_unicos(encuesta, 'trabajo')"
   ],
   "metadata": {
    "collapsed": false,
    "ExecuteTime": {
     "end_time": "2024-06-28T19:05:23.606619Z",
     "start_time": "2024-06-28T19:05:23.596344Z"
    }
   },
   "execution_count": 77
  },
  {
   "cell_type": "code",
   "outputs": [
    {
     "data": {
      "text/plain": "0                   ninguna\n1                   no sabe\n2                   ninguna\n3      no trabaja/trabajaba\n4                 bailarina\n               ...         \n695    no trabaja/trabajaba\n696           recepcionista\n697    no trabaja/trabajaba\n698              estudiante\n699    no trabaja/trabajaba\nName: trabajo, Length: 700, dtype: object"
     },
     "execution_count": 78,
     "metadata": {},
     "output_type": "execute_result"
    }
   ],
   "source": [
    "encuesta['trabajo']"
   ],
   "metadata": {
    "collapsed": false,
    "ExecuteTime": {
     "end_time": "2024-06-28T19:05:23.682341Z",
     "start_time": "2024-06-28T19:05:23.679668Z"
    }
   },
   "execution_count": 78
  },
  {
   "cell_type": "markdown",
   "source": [
    "### Modificar algunos sinónimos"
   ],
   "metadata": {
    "collapsed": false
   }
  },
  {
   "cell_type": "code",
   "outputs": [],
   "source": [
    "encuesta.iloc[684, encuesta.columns.get_loc('trabajo')] = 'asistente'\n",
    "encuesta.iloc[609, encuesta.columns.get_loc('trabajo')] = 'empleado'\n",
    "encuesta.iloc[42, encuesta.columns.get_loc('trabajo')] = 'cobrador'\n",
    "encuesta.iloc[3, encuesta.columns.get_loc('trabajo')] ='financiero'\n",
    "encuesta.iloc[233, encuesta.columns.get_loc('trabajo')] ='químico farmacobiólogo'\n",
    "encuesta.iloc[620, encuesta.columns.get_loc('trabajo')] ='peluquero'\n",
    "encuesta.iloc[365, encuesta.columns.get_loc('trabajo')] ='vendedor'\n",
    "encuesta.iloc[437, encuesta.columns.get_loc('trabajo')] ='estudiante'\n",
    "encuesta.iloc[694, encuesta.columns.get_loc('trabajo')] ='estudiante'\n",
    "encuesta.iloc[415, encuesta.columns.get_loc('trabajo')] ='ingeniero'\n",
    "encuesta.iloc[403, encuesta.columns.get_loc('trabajo')] ='gerente'\n",
    "encuesta.iloc[523, encuesta.columns.get_loc('trabajo')] ='empleado'\n",
    "encuesta.iloc[392, encuesta.columns.get_loc('trabajo')] ='idiomas'\n",
    "encuesta.iloc[570, encuesta.columns.get_loc('trabajo')] ='mecánico'\n",
    "encuesta.iloc[532, encuesta.columns.get_loc('trabajo')] ='oficinista'\n",
    "encuesta.iloc[509, encuesta.columns.get_loc('trabajo')] ='ropa'\n",
    "encuesta.iloc[390, encuesta.columns.get_loc('trabajo')] ='abarrotes'\n",
    "encuesta.iloc[625, encuesta.columns.get_loc('trabajo')] ='natación'\n",
    "encuesta.iloc[524, encuesta.columns.get_loc('trabajo')] ='fotógrafo'\n",
    "encuesta.iloc[664, encuesta.columns.get_loc('trabajo')] ='abarrotes'\n",
    "encuesta.iloc[77, encuesta.columns.get_loc('trabajo')] ='trabajadores domésticos'\n",
    "encuesta.iloc[653, encuesta.columns.get_loc('trabajo')] ='trabajadores domésticos'\n",
    "encuesta.iloc[557, encuesta.columns.get_loc('trabajo')] ='cocinero'\n",
    "encuesta.iloc[677, encuesta.columns.get_loc('trabajo')] ='cocinero'\n",
    "encuesta.iloc[425, encuesta.columns.get_loc('trabajo')] ='trabaja en banco'"
   ],
   "metadata": {
    "collapsed": false,
    "ExecuteTime": {
     "end_time": "2024-06-28T19:05:23.754086Z",
     "start_time": "2024-06-28T19:05:23.748442Z"
    }
   },
   "execution_count": 79
  },
  {
   "cell_type": "markdown",
   "source": [
    "### Creación de categorías"
   ],
   "metadata": {
    "collapsed": false
   }
  },
  {
   "cell_type": "code",
   "outputs": [
    {
     "name": "stdout",
     "output_type": "stream",
     "text": [
      "La ocupacion no sabe es desconocida\n",
      "La ocupacion financiero es desconocida\n",
      "La ocupacion bailarina es desconocida\n",
      "La ocupacion no trabaja/trabajaba es desconocida\n",
      "La ocupacion no trabaja/trabajaba es desconocida\n",
      "La ocupacion no trabaja/trabajaba es desconocida\n",
      "La ocupacion no trabaja/trabajaba es desconocida\n",
      "La ocupacion no trabaja/trabajaba es desconocida\n",
      "La ocupacion no trabaja/trabajaba es desconocida\n",
      "La ocupacion no trabaja/trabajaba es desconocida\n",
      "La ocupacion no trabaja/trabajaba es desconocida\n",
      "La ocupacion preescolar es desconocida\n",
      "La ocupacion no trabaja/trabajaba es desconocida\n",
      "La ocupacion no trabaja/trabajaba es desconocida\n",
      "La ocupacion no trabaja/trabajaba es desconocida\n",
      "La ocupacion no trabaja/trabajaba es desconocida\n",
      "La ocupacion no trabaja/trabajaba es desconocida\n",
      "La ocupacion no trabaja/trabajaba es desconocida\n",
      "La ocupacion no trabaja/trabajaba es desconocida\n",
      "La ocupacion no trabaja/trabajaba es desconocida\n",
      "La ocupacion no trabaja/trabajaba es desconocida\n",
      "La ocupacion no trabaja/trabajaba es desconocida\n",
      "La ocupacion no trabaja/trabajaba es desconocida\n",
      "La ocupacion no trabaja/trabajaba es desconocida\n",
      "La ocupacion no trabaja/trabajaba es desconocida\n",
      "La ocupacion no trabaja/trabajaba es desconocida\n",
      "La ocupacion no trabaja/trabajaba es desconocida\n",
      "La ocupacion no trabaja/trabajaba es desconocida\n",
      "La ocupacion no trabaja/trabajaba es desconocida\n",
      "La ocupacion no trabaja/trabajaba es desconocida\n",
      "La ocupacion cobrador es desconocida\n",
      "La ocupacion no trabaja/trabajaba es desconocida\n",
      "La ocupacion no se sabe es desconocida\n",
      "La ocupacion no trabaja/trabajaba es desconocida\n",
      "La ocupacion no trabaja/trabajaba es desconocida\n",
      "La ocupacion no trabaja/trabajaba es desconocida\n",
      "La ocupacion no trabaja/trabajaba es desconocida\n",
      "La ocupacion no trabaja/trabajaba es desconocida\n",
      "La ocupacion no trabaja/trabajaba es desconocida\n",
      "La ocupacion no trabaja/trabajaba es desconocida\n",
      "La ocupacion no trabaja/trabajaba es desconocida\n",
      "La ocupacion no trabaja/trabajaba es desconocida\n",
      "La ocupacion no trabaja/trabajaba es desconocida\n",
      "La ocupacion no trabaja/trabajaba es desconocida\n",
      "La ocupacion no trabaja/trabajaba es desconocida\n",
      "La ocupacion no trabaja/trabajaba es desconocida\n",
      "La ocupacion no trabaja/trabajaba es desconocida\n",
      "La ocupacion no trabaja/trabajaba es desconocida\n",
      "La ocupacion no trabaja/trabajaba es desconocida\n",
      "La ocupacion no trabaja/trabajaba es desconocida\n",
      "La ocupacion no trabaja/trabajaba es desconocida\n",
      "La ocupacion no trabaja/trabajaba es desconocida\n",
      "La ocupacion no trabaja/trabajaba es desconocida\n",
      "La ocupacion no trabaja/trabajaba es desconocida\n",
      "La ocupacion no trabaja/trabajaba es desconocida\n",
      "La ocupacion no trabaja/trabajaba es desconocida\n",
      "La ocupacion no trabaja/trabajaba es desconocida\n",
      "La ocupacion no trabaja/trabajaba es desconocida\n",
      "La ocupacion ejecutivo es desconocida\n",
      "La ocupacion no trabaja/trabajaba es desconocida\n",
      "La ocupacion no trabaja/trabajaba es desconocida\n",
      "La ocupacion no trabaja/trabajaba es desconocida\n",
      "La ocupacion no trabaja/trabajaba es desconocida\n",
      "La ocupacion no trabaja/trabajaba es desconocida\n",
      "La ocupacion no trabaja/trabajaba es desconocida\n",
      "La ocupacion no trabaja/trabajaba es desconocida\n",
      "La ocupacion no trabaja/trabajaba es desconocida\n",
      "La ocupacion no trabaja/trabajaba es desconocida\n",
      "La ocupacion no trabaja/trabajaba es desconocida\n",
      "La ocupacion no se es desconocida\n",
      "La ocupacion no trabaja/trabajaba es desconocida\n",
      "La ocupacion no trabaja/trabajaba es desconocida\n",
      "La ocupacion no trabaja/trabajaba es desconocida\n",
      "La ocupacion no trabaja/trabajaba es desconocida\n",
      "La ocupacion no trabaja/trabajaba es desconocida\n",
      "La ocupacion no trabaja/trabajaba es desconocida\n",
      "La ocupacion no trabaja/trabajaba es desconocida\n",
      "La ocupacion no trabaja/trabajaba es desconocida\n",
      "La ocupacion no trabaja/trabajaba es desconocida\n",
      "La ocupacion no trabaja/trabajaba es desconocida\n",
      "La ocupacion no trabaja/trabajaba es desconocida\n",
      "La ocupacion no trabaja/trabajaba es desconocida\n",
      "La ocupacion no trabaja/trabajaba es desconocida\n",
      "La ocupacion no trabaja/trabajaba es desconocida\n",
      "La ocupacion no trabaja/trabajaba es desconocida\n",
      "La ocupacion no trabaja/trabajaba es desconocida\n",
      "La ocupacion no trabaja/trabajaba es desconocida\n",
      "La ocupacion inventarios es desconocida\n",
      "La ocupacion no trabaja/trabajaba es desconocida\n",
      "La ocupacion no trabaja/trabajaba es desconocida\n",
      "La ocupacion no trabaja/trabajaba es desconocida\n",
      "La ocupacion no trabaja/trabajaba es desconocida\n",
      "La ocupacion no trabaja/trabajaba es desconocida\n",
      "La ocupacion no trabaja/trabajaba es desconocida\n",
      "La ocupacion no trabaja/trabajaba es desconocida\n",
      "La ocupacion no trabaja/trabajaba es desconocida\n",
      "La ocupacion no trabaja/trabajaba es desconocida\n",
      "La ocupacion no trabaja/trabajaba es desconocida\n",
      "La ocupacion no trabaja/trabajaba es desconocida\n",
      "La ocupacion no trabaja/trabajaba es desconocida\n",
      "La ocupacion no trabaja/trabajaba es desconocida\n",
      "La ocupacion no trabaja/trabajaba es desconocida\n",
      "La ocupacion no trabaja/trabajaba es desconocida\n",
      "La ocupacion no trabaja/trabajaba es desconocida\n",
      "La ocupacion no trabaja/trabajaba es desconocida\n",
      "La ocupacion no trabaja/trabajaba es desconocida\n",
      "La ocupacion inversiones es desconocida\n",
      "La ocupacion no trabaja/trabajaba es desconocida\n",
      "La ocupacion no trabaja/trabajaba es desconocida\n",
      "La ocupacion no trabaja/trabajaba es desconocida\n",
      "La ocupacion no trabaja/trabajaba es desconocida\n",
      "La ocupacion no trabaja/trabajaba es desconocida\n",
      "La ocupacion no trabaja/trabajaba es desconocida\n",
      "La ocupacion no trabaja/trabajaba es desconocida\n",
      "La ocupacion no trabaja/trabajaba es desconocida\n",
      "La ocupacion no trabaja/trabajaba es desconocida\n",
      "La ocupacion actuario es desconocida\n",
      "La ocupacion eventos es desconocida\n",
      "La ocupacion no trabaja/trabajaba es desconocida\n",
      "La ocupacion no trabaja/trabajaba es desconocida\n",
      "La ocupacion no trabaja/trabajaba es desconocida\n",
      "La ocupacion no trabaja/trabajaba es desconocida\n",
      "La ocupacion no trabaja/trabajaba es desconocida\n",
      "La ocupacion no trabaja/trabajaba es desconocida\n",
      "La ocupacion no trabaja/trabajaba es desconocida\n",
      "La ocupacion no trabaja/trabajaba es desconocida\n",
      "La ocupacion cargador es desconocida\n",
      "La ocupacion no trabaja/trabajaba es desconocida\n",
      "La ocupacion no trabaja/trabajaba es desconocida\n",
      "La ocupacion no trabaja/trabajaba es desconocida\n",
      "La ocupacion no trabaja/trabajaba es desconocida\n",
      "La ocupacion no se sabe es desconocida\n",
      "La ocupacion no trabaja/trabajaba es desconocida\n",
      "La ocupacion no trabaja/trabajaba es desconocida\n",
      "La ocupacion no trabaja/trabajaba es desconocida\n",
      "La ocupacion no trabaja/trabajaba es desconocida\n",
      "La ocupacion no trabaja/trabajaba es desconocida\n",
      "La ocupacion no trabaja/trabajaba es desconocida\n",
      "La ocupacion no trabaja/trabajaba es desconocida\n",
      "La ocupacion no trabaja/trabajaba es desconocida\n",
      "La ocupacion no trabaja/trabajaba es desconocida\n",
      "La ocupacion no trabaja/trabajaba es desconocida\n",
      "La ocupacion no trabaja/trabajaba es desconocida\n",
      "La ocupacion masajista es desconocida\n",
      "La ocupacion no trabaja/trabajaba es desconocida\n",
      "La ocupacion no trabaja/trabajaba es desconocida\n",
      "La ocupacion no trabaja/trabajaba es desconocida\n",
      "La ocupacion no trabaja/trabajaba es desconocida\n",
      "La ocupacion no trabaja/trabajaba es desconocida\n",
      "La ocupacion no trabaja/trabajaba es desconocida\n",
      "La ocupacion no trabaja/trabajaba es desconocida\n",
      "La ocupacion no trabaja/trabajaba es desconocida\n",
      "La ocupacion no trabaja/trabajaba es desconocida\n",
      "La ocupacion no trabaja/trabajaba es desconocida\n",
      "La ocupacion no trabaja/trabajaba es desconocida\n",
      "La ocupacion químico farmacobiólogo es desconocida\n",
      "La ocupacion no trabaja/trabajaba es desconocida\n",
      "La ocupacion no trabaja/trabajaba es desconocida\n",
      "La ocupacion no trabaja/trabajaba es desconocida\n",
      "La ocupacion no trabaja/trabajaba es desconocida\n",
      "La ocupacion no trabaja/trabajaba es desconocida\n",
      "La ocupacion no trabaja/trabajaba es desconocida\n",
      "La ocupacion no trabaja/trabajaba es desconocida\n",
      "La ocupacion no trabaja/trabajaba es desconocida\n",
      "La ocupacion no trabaja/trabajaba es desconocida\n",
      "La ocupacion no trabaja/trabajaba es desconocida\n",
      "La ocupacion no trabaja/trabajaba es desconocida\n",
      "La ocupacion no trabaja/trabajaba es desconocida\n",
      "La ocupacion encuestador es desconocida\n",
      "La ocupacion no trabaja/trabajaba es desconocida\n",
      "La ocupacion no trabaja/trabajaba es desconocida\n",
      "La ocupacion no trabaja/trabajaba es desconocida\n",
      "La ocupacion no trabaja/trabajaba es desconocida\n",
      "La ocupacion no trabaja/trabajaba es desconocida\n",
      "La ocupacion no trabaja/trabajaba es desconocida\n",
      "La ocupacion no trabaja/trabajaba es desconocida\n",
      "La ocupacion no trabaja/trabajaba es desconocida\n",
      "La ocupacion no trabaja/trabajaba es desconocida\n",
      "La ocupacion no trabaja/trabajaba es desconocida\n",
      "La ocupacion no trabaja/trabajaba es desconocida\n",
      "La ocupacion director o gerente es desconocida\n",
      "La ocupacion brigadista forestal es desconocida\n",
      "La ocupacion no trabaja/trabajaba es desconocida\n",
      "La ocupacion no trabaja/trabajaba es desconocida\n",
      "La ocupacion no trabaja/trabajaba es desconocida\n",
      "La ocupacion supervisor es desconocida\n",
      "La ocupacion no trabaja/trabajaba es desconocida\n",
      "La ocupacion no trabaja/trabajaba es desconocida\n",
      "La ocupacion no trabaja/trabajaba es desconocida\n",
      "La ocupacion no trabaja/trabajaba es desconocida\n",
      "La ocupacion no trabaja/trabajaba es desconocida\n",
      "La ocupacion ciberseguridad es desconocida\n",
      "La ocupacion no trabaja/trabajaba es desconocida\n",
      "La ocupacion laboratorio es desconocida\n",
      "La ocupacion no trabaja/trabajaba es desconocida\n",
      "La ocupacion actuaria es desconocida\n",
      "La ocupacion no trabaja/trabajaba es desconocida\n",
      "La ocupacion no trabaja/trabajaba es desconocida\n",
      "La ocupacion no trabaja/trabajaba es desconocida\n",
      "La ocupacion no trabaja/trabajaba es desconocida\n",
      "La ocupacion pasante es desconocida\n",
      "La ocupacion criminologa es desconocida\n",
      "La ocupacion no trabaja/trabajaba es desconocida\n",
      "La ocupacion no trabaja/trabajaba es desconocida\n",
      "La ocupacion no trabaja/trabajaba es desconocida\n",
      "La ocupacion no trabaja/trabajaba es desconocida\n",
      "La ocupacion acomodador es desconocida\n",
      "La ocupacion no trabaja/trabajaba es desconocida\n",
      "La ocupacion corredora publica es desconocida\n",
      "La ocupacion no trabaja/trabajaba es desconocida\n",
      "La ocupacion no trabaja/trabajaba es desconocida\n",
      "La ocupacion no trabaja/trabajaba es desconocida\n",
      "La ocupacion no trabaja/trabajaba es desconocida\n",
      "La ocupacion no trabaja/trabajaba es desconocida\n",
      "La ocupacion no trabaja/trabajaba es desconocida\n",
      "La ocupacion no trabaja/trabajaba es desconocida\n",
      "La ocupacion no trabaja/trabajaba es desconocida\n",
      "La ocupacion no trabaja/trabajaba es desconocida\n",
      "La ocupacion no trabaja/trabajaba es desconocida\n",
      "La ocupacion no trabaja/trabajaba es desconocida\n",
      "La ocupacion no trabaja/trabajaba es desconocida\n",
      "La ocupacion no trabaja/trabajaba es desconocida\n",
      "La ocupacion no trabaja/trabajaba es desconocida\n",
      "La ocupacion no trabaja/trabajaba es desconocida\n",
      "La ocupacion no trabaja/trabajaba es desconocida\n",
      "La ocupacion no trabaja/trabajaba es desconocida\n",
      "La ocupacion cndh es desconocida\n",
      "La ocupacion no trabaja/trabajaba es desconocida\n",
      "La ocupacion no trabaja/trabajaba es desconocida\n",
      "La ocupacion no trabaja/trabajaba es desconocida\n",
      "La ocupacion no trabaja/trabajaba es desconocida\n",
      "La ocupacion no trabaja/trabajaba es desconocida\n",
      "La ocupacion no trabaja/trabajaba es desconocida\n",
      "La ocupacion no trabaja/trabajaba es desconocida\n",
      "La ocupacion lavaloza es desconocida\n",
      "La ocupacion no trabaja/trabajaba es desconocida\n",
      "La ocupacion no trabaja/trabajaba es desconocida\n",
      "La ocupacion no trabaja/trabajaba es desconocida\n",
      "La ocupacion no trabaja/trabajaba es desconocida\n",
      "La ocupacion no trabaja/trabajaba es desconocida\n",
      "La ocupacion bateria es desconocida\n",
      "La ocupacion no trabaja/trabajaba es desconocida\n",
      "La ocupacion no trabaja/trabajaba es desconocida\n",
      "La ocupacion no trabaja/trabajaba es desconocida\n",
      "La ocupacion no trabaja/trabajaba es desconocida\n",
      "La ocupacion no trabaja/trabajaba es desconocida\n",
      "La ocupacion no trabaja/trabajaba es desconocida\n",
      "La ocupacion no trabaja/trabajaba es desconocida\n",
      "La ocupacion no trabaja/trabajaba es desconocida\n",
      "La ocupacion ilustrador es desconocida\n",
      "La ocupacion trabaja en banco es desconocida\n",
      "La ocupacion no trabaja/trabajaba es desconocida\n",
      "La ocupacion no trabaja/trabajaba es desconocida\n",
      "La ocupacion no trabaja/trabajaba es desconocida\n",
      "La ocupacion no trabaja/trabajaba es desconocida\n",
      "La ocupacion no trabaja/trabajaba es desconocida\n",
      "La ocupacion no trabaja/trabajaba es desconocida\n",
      "La ocupacion no trabaja/trabajaba es desconocida\n",
      "La ocupacion no trabaja/trabajaba es desconocida\n",
      "La ocupacion no trabaja/trabajaba es desconocida\n",
      "La ocupacion no trabaja/trabajaba es desconocida\n",
      "La ocupacion no trabaja/trabajaba es desconocida\n",
      "La ocupacion no trabaja/trabajaba es desconocida\n",
      "La ocupacion no trabaja/trabajaba es desconocida\n",
      "La ocupacion no trabaja/trabajaba es desconocida\n",
      "La ocupacion no trabaja/trabajaba es desconocida\n",
      "La ocupacion ingeniero civil/albañil o trabajador general es desconocida\n",
      "La ocupacion no trabaja/trabajaba es desconocida\n",
      "La ocupacion no trabaja/trabajaba es desconocida\n",
      "La ocupacion no trabaja/trabajaba es desconocida\n",
      "La ocupacion no trabaja/trabajaba es desconocida\n",
      "La ocupacion no trabaja/trabajaba es desconocida\n",
      "La ocupacion no trabaja/trabajaba es desconocida\n",
      "La ocupacion empleado de seguridad privada es desconocida\n",
      "La ocupacion no trabaja/trabajaba es desconocida\n",
      "La ocupacion no trabaja/trabajaba es desconocida\n",
      "La ocupacion no trabaja/trabajaba es desconocida\n",
      "La ocupacion no sabe es desconocida\n",
      "La ocupacion no trabaja/trabajaba es desconocida\n",
      "La ocupacion no trabaja/trabajaba es desconocida\n",
      "La ocupacion no trabaja/trabajaba es desconocida\n",
      "La ocupacion no trabaja/trabajaba es desconocida\n",
      "La ocupacion no trabaja/trabajaba es desconocida\n",
      "La ocupacion no trabaja/trabajaba es desconocida\n",
      "La ocupacion no trabaja/trabajaba es desconocida\n",
      "La ocupacion no trabaja/trabajaba es desconocida\n",
      "La ocupacion no trabaja/trabajaba es desconocida\n",
      "La ocupacion no trabaja/trabajaba es desconocida\n",
      "La ocupacion no trabaja/trabajaba es desconocida\n",
      "La ocupacion no trabaja/trabajaba es desconocida\n",
      "La ocupacion no trabaja/trabajaba es desconocida\n",
      "La ocupacion no trabaja/trabajaba es desconocida\n",
      "La ocupacion guardia es desconocida\n",
      "La ocupacion no trabaja/trabajaba es desconocida\n",
      "La ocupacion no trabaja/trabajaba es desconocida\n",
      "La ocupacion no trabaja/trabajaba es desconocida\n",
      "La ocupacion no trabaja/trabajaba es desconocida\n",
      "La ocupacion no trabaja/trabajaba es desconocida\n",
      "La ocupacion no trabaja/trabajaba es desconocida\n",
      "La ocupacion no trabaja/trabajaba es desconocida\n",
      "La ocupacion no trabaja/trabajaba es desconocida\n",
      "La ocupacion economista es desconocida\n",
      "La ocupacion no trabaja/trabajaba es desconocida\n",
      "La ocupacion no trabaja/trabajaba es desconocida\n",
      "La ocupacion no trabaja/trabajaba es desconocida\n",
      "La ocupacion gestion es desconocida\n",
      "La ocupacion no trabaja/trabajaba es desconocida\n",
      "La ocupacion archivista es desconocida\n",
      "La ocupacion oficinista es desconocida\n",
      "La ocupacion no trabaja/trabajaba es desconocida\n",
      "La ocupacion no trabaja/trabajaba es desconocida\n",
      "La ocupacion no trabaja/trabajaba es desconocida\n",
      "La ocupacion no trabaja/trabajaba es desconocida\n",
      "La ocupacion no trabaja/trabajaba es desconocida\n",
      "La ocupacion no trabaja/trabajaba es desconocida\n",
      "La ocupacion no trabaja/trabajaba es desconocida\n",
      "La ocupacion no trabaja/trabajaba es desconocida\n",
      "La ocupacion no trabaja/trabajaba es desconocida\n",
      "La ocupacion no trabaja/trabajaba es desconocida\n",
      "La ocupacion no trabaja/trabajaba es desconocida\n",
      "La ocupacion no trabaja/trabajaba es desconocida\n",
      "La ocupacion no trabaja/trabajaba es desconocida\n",
      "La ocupacion no trabaja/trabajaba es desconocida\n",
      "La ocupacion no trabaja/trabajaba es desconocida\n",
      "La ocupacion no trabaja/trabajaba es desconocida\n",
      "La ocupacion no trabaja/trabajaba es desconocida\n",
      "La ocupacion no trabaja/trabajaba es desconocida\n",
      "La ocupacion no trabaja/trabajaba es desconocida\n",
      "La ocupacion no trabaja/trabajaba es desconocida\n",
      "La ocupacion no trabaja/trabajaba es desconocida\n",
      "La ocupacion no trabaja/trabajaba es desconocida\n",
      "La ocupacion no trabaja/trabajaba es desconocida\n",
      "La ocupacion no trabaja/trabajaba es desconocida\n",
      "La ocupacion no trabaja/trabajaba es desconocida\n",
      "La ocupacion no trabaja/trabajaba es desconocida\n",
      "La ocupacion no trabaja/trabajaba es desconocida\n",
      "La ocupacion no trabaja/trabajaba es desconocida\n",
      "La ocupacion no trabaja/trabajaba es desconocida\n",
      "La ocupacion fotoperiodista es desconocida\n",
      "La ocupacion no trabaja/trabajaba es desconocida\n",
      "La ocupacion no trabaja/trabajaba es desconocida\n",
      "La ocupacion expide actas de defunción es desconocida\n",
      "La ocupacion no trabaja/trabajaba es desconocida\n",
      "La ocupacion no trabaja/trabajaba es desconocida\n",
      "La ocupacion no trabaja/trabajaba es desconocida\n",
      "La ocupacion no trabaja/trabajaba es desconocida\n",
      "La ocupacion no trabaja/trabajaba es desconocida\n",
      "La ocupacion no trabaja/trabajaba es desconocida\n",
      "La ocupacion voluntariado es desconocida\n",
      "La ocupacion natación es desconocida\n",
      "La ocupacion no trabaja/trabajaba es desconocida\n",
      "La ocupacion no trabaja/trabajaba es desconocida\n",
      "La ocupacion no trabaja/trabajaba es desconocida\n",
      "La ocupacion electricista es desconocida\n",
      "La ocupacion no trabaja/trabajaba es desconocida\n",
      "La ocupacion no trabaja/trabajaba es desconocida\n",
      "La ocupacion no trabaja/trabajaba es desconocida\n",
      "La ocupacion no trabaja/trabajaba es desconocida\n",
      "La ocupacion no trabaja/trabajaba es desconocida\n",
      "La ocupacion no trabaja/trabajaba es desconocida\n",
      "La ocupacion no trabaja/trabajaba es desconocida\n",
      "La ocupacion no trabaja/trabajaba es desconocida\n",
      "La ocupacion tiene varios trabajos es desconocida\n",
      "La ocupacion no trabaja/trabajaba es desconocida\n",
      "La ocupacion no trabaja/trabajaba es desconocida\n",
      "La ocupacion no trabaja/trabajaba es desconocida\n",
      "La ocupacion no trabaja/trabajaba es desconocida\n",
      "La ocupacion no trabaja/trabajaba es desconocida\n",
      "La ocupacion no trabaja/trabajaba es desconocida\n",
      "La ocupacion no trabaja/trabajaba es desconocida\n"
     ]
    }
   ],
   "source": [
    "categorias = pd.Series(dtype='string', index=encuesta.index)\n",
    "for i, ocupacion in encuesta['trabajo'][encuesta['trabajo'].notna()].items():\n",
    "    registrada = False\n",
    "    if ocupacion == 'ninguna':\n",
    "        categorias.loc[i] = 'desconocido_99'\n",
    "        registrada = True\n",
    "    else:\n",
    "        for categoria, ocupaciones_dentro_de_categoria in codigos_ocupaciones.items():\n",
    "            if ocupacion in ocupaciones_dentro_de_categoria:\n",
    "                categorias.loc[i] = categoria\n",
    "                registrada = True\n",
    "                break\n",
    "        if not registrada:\n",
    "            print(f'La ocupacion {ocupacion} es desconocida')\n",
    "            categorias.loc[i] = 'desconocido_99'"
   ],
   "metadata": {
    "collapsed": false,
    "ExecuteTime": {
     "end_time": "2024-06-28T19:05:23.920660Z",
     "start_time": "2024-06-28T19:05:23.906620Z"
    }
   },
   "execution_count": 80
  },
  {
   "cell_type": "code",
   "outputs": [
    {
     "data": {
      "text/plain": "0                  actividades deportivas_1\n1     actividades elementales y de apoyo_20\n2                          administrativo_9\n3                                 artista_2\n4                     atención a clientes_8\n5                                  chofer_3\n6               comerciante sector formal_5\n7             comerciante sector informal_4\n8                           construcción_17\n9                            desconocido_99\n10                empleado gubernamental_11\n11                             empresario_6\n12                               fábrica_18\n13                               oficios_21\n14           profesionista independiente_14\n15                      área de la salud_16\n16                        área educativa_13\ndtype: string"
     },
     "execution_count": 81,
     "metadata": {},
     "output_type": "execute_result"
    }
   ],
   "source": [
    "categorias.drop_duplicates().sort_values().reset_index(drop=True)"
   ],
   "metadata": {
    "collapsed": false,
    "ExecuteTime": {
     "end_time": "2024-06-28T19:05:23.961398Z",
     "start_time": "2024-06-28T19:05:23.956911Z"
    }
   },
   "execution_count": 81
  },
  {
   "cell_type": "code",
   "outputs": [
    {
     "data": {
      "text/plain": "desconocido_99                           488\nárea educativa_13                         79\ncomerciante sector informal_4             22\nactividades elementales y de apoyo_20     19\nprofesionista independiente_14            19\natención a clientes_8                     16\nartista_2                                 10\nfábrica_18                                 8\ncomerciante sector formal_5                8\noficios_21                                 6\nárea de la salud_16                        6\nempleado gubernamental_11                  5\nempresario_6                               5\nadministrativo_9                           4\nconstrucción_17                            3\nchofer_3                                   1\nactividades deportivas_1                   1\nName: count, dtype: Int64"
     },
     "execution_count": 82,
     "metadata": {},
     "output_type": "execute_result"
    }
   ],
   "source": [
    "categorias.value_counts()"
   ],
   "metadata": {
    "collapsed": false,
    "ExecuteTime": {
     "end_time": "2024-06-28T19:05:24.020940Z",
     "start_time": "2024-06-28T19:05:24.016158Z"
    }
   },
   "execution_count": 82
  },
  {
   "cell_type": "code",
   "outputs": [
    {
     "data": {
      "text/plain": "trabajo\nno trabaja/trabajaba                           324\nninguna                                        118\nestudiante                                      65\nvendedor por cuenta propia (negocio propio)     14\nempleado                                         8\n                                              ... \npasante                                          1\ncriminologa                                      1\nacomodador                                       1\ncorredora publica                                1\nrecepcionista                                    1\nName: count, Length: 98, dtype: int64"
     },
     "execution_count": 83,
     "metadata": {},
     "output_type": "execute_result"
    }
   ],
   "source": [
    "encuesta['trabajo'].value_counts()"
   ],
   "metadata": {
    "collapsed": false,
    "ExecuteTime": {
     "end_time": "2024-06-28T19:05:24.079223Z",
     "start_time": "2024-06-28T19:05:24.075819Z"
    }
   },
   "execution_count": 83
  },
  {
   "cell_type": "code",
   "outputs": [
    {
     "data": {
      "text/plain": "1                 trabajo              categoria\n0                 ninguna         desconocido_99\n1                 no sabe         desconocido_99\n2                 ninguna         desconocido_99\n3              financiero         desconocido_99\n4               bailarina         desconocido_99\n..                    ...                    ...\n695  no trabaja/trabajaba         desconocido_99\n696         recepcionista  atención a clientes_8\n697  no trabaja/trabajaba         desconocido_99\n698            estudiante      área educativa_13\n699  no trabaja/trabajaba         desconocido_99\n\n[700 rows x 2 columns]",
      "text/html": "<div>\n<style scoped>\n    .dataframe tbody tr th:only-of-type {\n        vertical-align: middle;\n    }\n\n    .dataframe tbody tr th {\n        vertical-align: top;\n    }\n\n    .dataframe thead th {\n        text-align: right;\n    }\n</style>\n<table border=\"1\" class=\"dataframe\">\n  <thead>\n    <tr style=\"text-align: right;\">\n      <th>1</th>\n      <th>trabajo</th>\n      <th>categoria</th>\n    </tr>\n  </thead>\n  <tbody>\n    <tr>\n      <th>0</th>\n      <td>ninguna</td>\n      <td>desconocido_99</td>\n    </tr>\n    <tr>\n      <th>1</th>\n      <td>no sabe</td>\n      <td>desconocido_99</td>\n    </tr>\n    <tr>\n      <th>2</th>\n      <td>ninguna</td>\n      <td>desconocido_99</td>\n    </tr>\n    <tr>\n      <th>3</th>\n      <td>financiero</td>\n      <td>desconocido_99</td>\n    </tr>\n    <tr>\n      <th>4</th>\n      <td>bailarina</td>\n      <td>desconocido_99</td>\n    </tr>\n    <tr>\n      <th>...</th>\n      <td>...</td>\n      <td>...</td>\n    </tr>\n    <tr>\n      <th>695</th>\n      <td>no trabaja/trabajaba</td>\n      <td>desconocido_99</td>\n    </tr>\n    <tr>\n      <th>696</th>\n      <td>recepcionista</td>\n      <td>atención a clientes_8</td>\n    </tr>\n    <tr>\n      <th>697</th>\n      <td>no trabaja/trabajaba</td>\n      <td>desconocido_99</td>\n    </tr>\n    <tr>\n      <th>698</th>\n      <td>estudiante</td>\n      <td>área educativa_13</td>\n    </tr>\n    <tr>\n      <th>699</th>\n      <td>no trabaja/trabajaba</td>\n      <td>desconocido_99</td>\n    </tr>\n  </tbody>\n</table>\n<p>700 rows × 2 columns</p>\n</div>"
     },
     "execution_count": 84,
     "metadata": {},
     "output_type": "execute_result"
    }
   ],
   "source": [
    "encuesta['categoria'] = categorias\n",
    "encuesta[['trabajo', 'categoria']]"
   ],
   "metadata": {
    "collapsed": false,
    "ExecuteTime": {
     "end_time": "2024-06-28T19:05:24.129365Z",
     "start_time": "2024-06-28T19:05:24.124765Z"
    }
   },
   "execution_count": 84
  },
  {
   "cell_type": "markdown",
   "source": [
    "### Asignación de la columna \"Trabajas[Amigo2]\""
   ],
   "metadata": {
    "collapsed": false
   }
  },
  {
   "cell_type": "code",
   "outputs": [],
   "source": [
    "import pandas as pd\n",
    "\n",
    "# Supongamos que tu DataFrame se llama 'encuesta' y ya está creado\n",
    "encuesta['Trabajas[Amigo2]'] = ''\n",
    "\n",
    "# Recorremos cada fila del dataframe\n",
    "for index, row in encuesta.iterrows():\n",
    "    # Verificamos la condición en la columna 'trabajo' de cada fila\n",
    "    if row['trabajo'] in ['no trabaja/trabajaba', 'ninguna']:\n",
    "        # Si la condición es verdadera, establecemos el valor 'N' en la columna 'Trabajas[Pareja]'\n",
    "        encuesta.at[index, 'Trabajas[Amigo2]'] = 'N'\n",
    "    else:\n",
    "        # Si la condición es falsa, establecemos el valor 'Y' en la columna 'Trabajas[Pareja]'\n",
    "        encuesta.at[index, 'Trabajas[Amigo2]'] = 'Y'\n",
    "\n",
    "# Reordenar la lista de columnas para que 'Trabajas[Pareja]' esté antes de 'trabajo'\n",
    "column_order = list(encuesta.columns)\n",
    "\n",
    "# Mover 'Trabajas[Pareja]' antes de 'trabajo'\n",
    "column_order.insert(column_order.index('trabajo'), column_order.pop(column_order.index('Trabajas[Amigo2]')))\n",
    "\n",
    "# Reasignar el orden de las columnas en el dataframe\n",
    "encuesta = encuesta[column_order]"
   ],
   "metadata": {
    "collapsed": false,
    "ExecuteTime": {
     "end_time": "2024-06-28T19:05:24.231904Z",
     "start_time": "2024-06-28T19:05:24.196739Z"
    }
   },
   "execution_count": 85
  },
  {
   "cell_type": "code",
   "outputs": [
    {
     "data": {
      "text/plain": "1   Trabajas[Amigo2]               trabajo              categoria\n0                  N               ninguna         desconocido_99\n1                  Y               no sabe         desconocido_99\n2                  N               ninguna         desconocido_99\n3                  Y            financiero         desconocido_99\n4                  Y             bailarina         desconocido_99\n..               ...                   ...                    ...\n695                N  no trabaja/trabajaba         desconocido_99\n696                Y         recepcionista  atención a clientes_8\n697                N  no trabaja/trabajaba         desconocido_99\n698                Y            estudiante      área educativa_13\n699                N  no trabaja/trabajaba         desconocido_99\n\n[700 rows x 3 columns]",
      "text/html": "<div>\n<style scoped>\n    .dataframe tbody tr th:only-of-type {\n        vertical-align: middle;\n    }\n\n    .dataframe tbody tr th {\n        vertical-align: top;\n    }\n\n    .dataframe thead th {\n        text-align: right;\n    }\n</style>\n<table border=\"1\" class=\"dataframe\">\n  <thead>\n    <tr style=\"text-align: right;\">\n      <th>1</th>\n      <th>Trabajas[Amigo2]</th>\n      <th>trabajo</th>\n      <th>categoria</th>\n    </tr>\n  </thead>\n  <tbody>\n    <tr>\n      <th>0</th>\n      <td>N</td>\n      <td>ninguna</td>\n      <td>desconocido_99</td>\n    </tr>\n    <tr>\n      <th>1</th>\n      <td>Y</td>\n      <td>no sabe</td>\n      <td>desconocido_99</td>\n    </tr>\n    <tr>\n      <th>2</th>\n      <td>N</td>\n      <td>ninguna</td>\n      <td>desconocido_99</td>\n    </tr>\n    <tr>\n      <th>3</th>\n      <td>Y</td>\n      <td>financiero</td>\n      <td>desconocido_99</td>\n    </tr>\n    <tr>\n      <th>4</th>\n      <td>Y</td>\n      <td>bailarina</td>\n      <td>desconocido_99</td>\n    </tr>\n    <tr>\n      <th>...</th>\n      <td>...</td>\n      <td>...</td>\n      <td>...</td>\n    </tr>\n    <tr>\n      <th>695</th>\n      <td>N</td>\n      <td>no trabaja/trabajaba</td>\n      <td>desconocido_99</td>\n    </tr>\n    <tr>\n      <th>696</th>\n      <td>Y</td>\n      <td>recepcionista</td>\n      <td>atención a clientes_8</td>\n    </tr>\n    <tr>\n      <th>697</th>\n      <td>N</td>\n      <td>no trabaja/trabajaba</td>\n      <td>desconocido_99</td>\n    </tr>\n    <tr>\n      <th>698</th>\n      <td>Y</td>\n      <td>estudiante</td>\n      <td>área educativa_13</td>\n    </tr>\n    <tr>\n      <th>699</th>\n      <td>N</td>\n      <td>no trabaja/trabajaba</td>\n      <td>desconocido_99</td>\n    </tr>\n  </tbody>\n</table>\n<p>700 rows × 3 columns</p>\n</div>"
     },
     "execution_count": 86,
     "metadata": {},
     "output_type": "execute_result"
    }
   ],
   "source": [
    " encuesta[['Trabajas[Amigo2]','trabajo', 'categoria']]"
   ],
   "metadata": {
    "collapsed": false,
    "ExecuteTime": {
     "end_time": "2024-06-28T19:05:24.275358Z",
     "start_time": "2024-06-28T19:05:24.270008Z"
    }
   },
   "execution_count": 86
  },
  {
   "cell_type": "code",
   "outputs": [],
   "source": [
    "encuesta['trabajo'] = encuesta['trabajo'].str.strip().replace('no trabaja/trabajaba', 'ninguna')"
   ],
   "metadata": {
    "collapsed": false,
    "ExecuteTime": {
     "end_time": "2024-06-28T19:05:24.317364Z",
     "start_time": "2024-06-28T19:05:24.314461Z"
    }
   },
   "execution_count": 87
  },
  {
   "cell_type": "markdown",
   "source": [
    "### Últimas modificaciones sobre categorías"
   ],
   "metadata": {
    "collapsed": false
   }
  },
  {
   "cell_type": "code",
   "outputs": [],
   "source": [
    "encuesta.iloc[472, encuesta.columns.get_loc('trabajo')] ='empleado en seguridad privada'"
   ],
   "metadata": {
    "collapsed": false,
    "ExecuteTime": {
     "end_time": "2024-06-28T19:05:24.370664Z",
     "start_time": "2024-06-28T19:05:24.368208Z"
    }
   },
   "execution_count": 88
  },
  {
   "cell_type": "code",
   "outputs": [],
   "source": [
    "ocupaciones_formal = [\"comerciante sector formal\"]\n",
    "encuesta.loc[encuesta['trabajo'].isin(ocupaciones_formal), 'categoria'] = \"comerciante sector formal_5\"\n",
    "ocupaciones_informal = [\"comerciante sector informal\", \"sobrerruedas\", \"vendedor\",\n",
    "                        'flores y productos en un puesto no establecido']\n",
    "encuesta.loc[encuesta['trabajo'].isin(ocupaciones_informal), 'categoria'] = \"comerciante sector informal_4\"\n",
    "ocupaciones_of = [\"cobrador\", \"acomodador\", \"masajista\", \"petrolero\", \"plomero\", \"joyero\", \"mecánico\", \"armero\",\n",
    "                  \"bombero\", \"ganadero\",\"lavaloza\",\"electricista\",\"inventarios\",\"cargador\",\"encuestador\"]\n",
    "encuesta.loc[encuesta['trabajo'].isin(ocupaciones_of), 'categoria'] = \"oficios_21\"\n",
    "ocupaciones_profin = [\"historiador\", \"químico farmacobiólogo\", \"periodista\", \"veterinario\", \"financiero\",\"economista\",\"actuaria\",\"fotoperiodista\",\"criminologa\",\"oficinista\"]\n",
    "encuesta.loc[encuesta['trabajo'].isin(ocupaciones_profin), 'categoria'] = \"profesionista independiente_14\"\n",
    "ocupaciones_guber = [\"empleado gubernamental\", 'auditor', 'trabaja en delegación', \"luz y fuerza\", \"compañia de luz\",\n",
    "                     \"hacienda\", \"jurisprudencia\", \"presidente de la republica\", \"diputado\", \"bolsa de valores\",\"cndh\",\n",
    "                     \"tese del estado de méxico\", \"coordinador\", \"coordinador territorial\",\"corredora publica\",\"expide actas de defunción\"]\n",
    "encuesta.loc[encuesta['trabajo'].isin(ocupaciones_guber), 'categoria'] = \"empleado gubernamental_11\"\n",
    "ocupaciones_cons = [\"contratista\", \"ingeniero civil/albañil o trabajador general\", \"caminos y puentes\"]\n",
    "encuesta.loc[encuesta['trabajo'].isin(ocupaciones_cons), 'categoria'] = \"construcción_17\"\n",
    "ocupaciones_saludd = [\"optometrista\", \"podológo\", \"anestesiólogo\", \"área de la salud\", \"hospital\", \"residente\"]\n",
    "encuesta.loc[encuesta['trabajo'].isin(ocupaciones_saludd), 'categoria'] = \"área de la salud_16\"\n",
    "ocupaciones_cliente = [\"trabajador en cine\", \"bienes raices\", \"cuartos de escape\"]\n",
    "encuesta.loc[encuesta['trabajo'].isin(ocupaciones_cliente), 'categoria'] = \"atención a clientes_8\"\n",
    "ocupaciones_tec = [\"instalación de cámaras\"]\n",
    "encuesta.loc[encuesta['trabajo'].isin(ocupaciones_tec), 'categoria'] = \"personal técnico_12\"\n",
    "ocupaciones_admin = [\"trabaja en banco\", \"relaciones laborales\",\"archivista\",\"pasante\"]\n",
    "encuesta.loc[encuesta['trabajo'].isin(ocupaciones_admin), 'categoria'] = \"administrativo_9\"\n",
    "ocupaciones_art = [\"producciones musicales\",\"bateria\",\"ilustrador\",\"bailarina\"]\n",
    "encuesta.loc[encuesta['trabajo'].isin(ocupaciones_art), 'categoria'] = \"artista_2\"\n",
    "ocupaciones_ar = [\"trabajadores domésticos\"]\n",
    "encuesta.loc[encuesta['trabajo'].isin(ocupaciones_ar), 'categoria'] = \"actividades elementales y de apoyo_20\""
   ],
   "metadata": {
    "collapsed": false,
    "ExecuteTime": {
     "end_time": "2024-06-28T19:05:24.445319Z",
     "start_time": "2024-06-28T19:05:24.438879Z"
    }
   },
   "execution_count": 89
  },
  {
   "cell_type": "code",
   "outputs": [],
   "source": [
    "ocupaciones_dep = [\"natación\"]\n",
    "encuesta.loc[encuesta['trabajo'].isin(ocupaciones_dep), 'categoria'] = \"actividades deportivas_1\"\n",
    "\n",
    "ocupaciones_especificas = [\"bibliotecario\", \"vicedirector\", \"pedagogía\",\"preescolar\",\"laboratorio\"]\n",
    "encuesta.loc[encuesta['trabajo'].isin(ocupaciones_especificas), 'categoria'] = \"área educativa_13\"\n",
    "\n",
    "ocupaciones_empre = [\"director o gerente\",\"negocios\",\"inversiones\",\"ejecutivo\"]\n",
    "encuesta.loc[encuesta['trabajo'].isin(ocupaciones_empre), 'categoria'] = \"empresario_6\"\n",
    "\n",
    "ocupaciones_fabrica=[\"obrero\",\"fábrica\",\"supervisor\"]\n",
    "encuesta.loc[encuesta['trabajo'].isin(ocupaciones_fabrica), 'categoria'] = \"fábrica_18\"\n",
    "\n",
    "ocupaciones_seg = [\"seguridad\",\"militar\",\"brigadista forestal\",\"guardia\",\"ciberseguridad\",\"empleado en seguridad privada\"]\n",
    "encuesta.loc[encuesta['trabajo'].isin(ocupaciones_seg), 'categoria'] = \"seguridad_15\""
   ],
   "metadata": {
    "collapsed": false,
    "ExecuteTime": {
     "end_time": "2024-06-28T19:05:24.522438Z",
     "start_time": "2024-06-28T19:05:24.517769Z"
    }
   },
   "execution_count": 90
  },
  {
   "cell_type": "code",
   "outputs": [
    {
     "data": {
      "text/plain": "categoria\ndesconocido_99                           452\nárea educativa_13                         81\nprofesionista independiente_14            26\ncomerciante sector informal_4             22\nactividades elementales y de apoyo_20     19\natención a clientes_8                     16\noficios_21                                14\nartista_2                                 13\nfábrica_18                                 9\nempleado gubernamental_11                  8\nempresario_6                               8\ncomerciante sector formal_5                8\nadministrativo_9                           7\nárea de la salud_16                        6\nseguridad_15                               4\nconstrucción_17                            4\nactividades deportivas_1                   2\nchofer_3                                   1\nName: count, dtype: Int64"
     },
     "execution_count": 91,
     "metadata": {},
     "output_type": "execute_result"
    }
   ],
   "source": [
    "encuesta['categoria'].value_counts()"
   ],
   "metadata": {
    "collapsed": false,
    "ExecuteTime": {
     "end_time": "2024-06-28T19:05:24.556434Z",
     "start_time": "2024-06-28T19:05:24.552900Z"
    }
   },
   "execution_count": 91
  },
  {
   "cell_type": "code",
   "outputs": [
    {
     "data": {
      "text/plain": "1          trabajo                       categoria\n0          ninguna                  desconocido_99\n1          no sabe                  desconocido_99\n2          ninguna                  desconocido_99\n3       financiero  profesionista independiente_14\n4        bailarina                       artista_2\n..             ...                             ...\n695        ninguna                  desconocido_99\n696  recepcionista           atención a clientes_8\n697        ninguna                  desconocido_99\n698     estudiante               área educativa_13\n699        ninguna                  desconocido_99\n\n[700 rows x 2 columns]",
      "text/html": "<div>\n<style scoped>\n    .dataframe tbody tr th:only-of-type {\n        vertical-align: middle;\n    }\n\n    .dataframe tbody tr th {\n        vertical-align: top;\n    }\n\n    .dataframe thead th {\n        text-align: right;\n    }\n</style>\n<table border=\"1\" class=\"dataframe\">\n  <thead>\n    <tr style=\"text-align: right;\">\n      <th>1</th>\n      <th>trabajo</th>\n      <th>categoria</th>\n    </tr>\n  </thead>\n  <tbody>\n    <tr>\n      <th>0</th>\n      <td>ninguna</td>\n      <td>desconocido_99</td>\n    </tr>\n    <tr>\n      <th>1</th>\n      <td>no sabe</td>\n      <td>desconocido_99</td>\n    </tr>\n    <tr>\n      <th>2</th>\n      <td>ninguna</td>\n      <td>desconocido_99</td>\n    </tr>\n    <tr>\n      <th>3</th>\n      <td>financiero</td>\n      <td>profesionista independiente_14</td>\n    </tr>\n    <tr>\n      <th>4</th>\n      <td>bailarina</td>\n      <td>artista_2</td>\n    </tr>\n    <tr>\n      <th>...</th>\n      <td>...</td>\n      <td>...</td>\n    </tr>\n    <tr>\n      <th>695</th>\n      <td>ninguna</td>\n      <td>desconocido_99</td>\n    </tr>\n    <tr>\n      <th>696</th>\n      <td>recepcionista</td>\n      <td>atención a clientes_8</td>\n    </tr>\n    <tr>\n      <th>697</th>\n      <td>ninguna</td>\n      <td>desconocido_99</td>\n    </tr>\n    <tr>\n      <th>698</th>\n      <td>estudiante</td>\n      <td>área educativa_13</td>\n    </tr>\n    <tr>\n      <th>699</th>\n      <td>ninguna</td>\n      <td>desconocido_99</td>\n    </tr>\n  </tbody>\n</table>\n<p>700 rows × 2 columns</p>\n</div>"
     },
     "execution_count": 92,
     "metadata": {},
     "output_type": "execute_result"
    }
   ],
   "source": [
    "encuesta[['trabajo', 'categoria']]"
   ],
   "metadata": {
    "collapsed": false,
    "ExecuteTime": {
     "end_time": "2024-06-28T19:05:24.609924Z",
     "start_time": "2024-06-28T19:05:24.605880Z"
    }
   },
   "execution_count": 92
  },
  {
   "cell_type": "markdown",
   "source": [
    "### Resultado final"
   ],
   "metadata": {
    "collapsed": false
   }
  },
  {
   "cell_type": "code",
   "outputs": [
    {
     "data": {
      "text/plain": "{'desconocido_99': 'A99',\n 'área educativa_13': 'A13',\n 'empresario_6': 'A06',\n 'administrativo_9': 'A09',\n 'área de la salud_16': 'A16',\n 'comerciante sector formal_5': 'A05',\n 'construcción_17': 'A17',\n 'atención a clientes_8': 'A08',\n 'empleado gubernamental_11': 'A11',\n 'fábrica_18': 'A18',\n 'comerciante sector informal_4': 'A04',\n 'actividades elementales y de apoyo_20': 'A20',\n 'chofer_3': 'A03',\n 'artista_2': 'A02',\n 'profesionista independiente_14': 'A14',\n 'oficios_21': 'A21',\n 'actividades deportivas_1': 'A01'}"
     },
     "execution_count": 93,
     "metadata": {},
     "output_type": "execute_result"
    }
   ],
   "source": [
    "mapeo_codigos_categoria6 = {}\n",
    "for cat in categorias.drop_duplicates():\n",
    "    numero = re.findall(r'_(\\d+)', cat)[0]\n",
    "    mapeo_codigos_categoria6[cat] = 'A' + str(numero).zfill(2)\n",
    "mapeo_codigos_categoria6"
   ],
   "metadata": {
    "collapsed": false,
    "ExecuteTime": {
     "end_time": "2024-06-28T19:05:24.633252Z",
     "start_time": "2024-06-28T19:05:24.630454Z"
    }
   },
   "execution_count": 93
  },
  {
   "cell_type": "code",
   "outputs": [
    {
     "data": {
      "text/plain": "{'desconocido_99': 'A99',\n 'área educativa_13': 'A13',\n 'empresario_6': 'A06',\n 'administrativo_9': 'A09',\n 'área de la salud_16': 'A16',\n 'comerciante sector formal_5': 'A05',\n 'construcción_17': 'A17',\n 'atención a clientes_8': 'A08',\n 'empleado gubernamental_11': 'A11',\n 'fábrica_18': 'A18',\n 'comerciante sector informal_4': 'A04',\n 'actividades elementales y de apoyo_20': 'A20',\n 'chofer_3': 'A03',\n 'artista_2': 'A02',\n 'profesionista independiente_14': 'A14',\n 'oficios_21': 'A21',\n 'actividades deportivas_1': 'A01',\n 'seguridad_15': 'A15'}"
     },
     "execution_count": 94,
     "metadata": {},
     "output_type": "execute_result"
    }
   ],
   "source": [
    "mapeo_codigos_categoria6['seguridad_15'] = 'A15'\n",
    "mapeo_codigos_categoria6"
   ],
   "metadata": {
    "collapsed": false,
    "ExecuteTime": {
     "end_time": "2024-06-28T19:05:24.698169Z",
     "start_time": "2024-06-28T19:05:24.695758Z"
    }
   },
   "execution_count": 94
  },
  {
   "cell_type": "code",
   "outputs": [
    {
     "name": "stderr",
     "output_type": "stream",
     "text": [
      "/var/folders/hb/c3zh8bns0mx4nw98_6k7rx8m0000gn/T/ipykernel_7971/2308444533.py:1: FutureWarning: A value is trying to be set on a copy of a DataFrame or Series through chained assignment using an inplace method.\n",
      "The behavior will change in pandas 3.0. This inplace method will never work because the intermediate object on which we are setting values always behaves as a copy.\n",
      "\n",
      "For example, when doing 'df[col].method(value, inplace=True)', try using 'df.method({col: value}, inplace=True)' or df[col] = df[col].method(value) instead, to perform the operation inplace on the original object.\n",
      "\n",
      "\n",
      "  encuesta['categoria'].replace(mapeo_codigos_categoria6, inplace=True)\n"
     ]
    },
    {
     "data": {
      "text/plain": "0     A01\n1     A02\n2     A03\n3     A04\n4     A05\n5     A06\n6     A08\n7     A09\n8     A11\n9     A13\n10    A14\n11    A15\n12    A16\n13    A17\n14    A18\n15    A20\n16    A21\n17    A99\nName: categoria, dtype: string"
     },
     "execution_count": 95,
     "metadata": {},
     "output_type": "execute_result"
    }
   ],
   "source": [
    "encuesta['categoria'].replace(mapeo_codigos_categoria6, inplace=True)\n",
    "encuesta['categoria'].drop_duplicates().sort_values().reset_index(drop=True)"
   ],
   "metadata": {
    "collapsed": false,
    "ExecuteTime": {
     "end_time": "2024-06-28T19:05:24.756922Z",
     "start_time": "2024-06-28T19:05:24.751246Z"
    }
   },
   "execution_count": 95
  },
  {
   "cell_type": "code",
   "outputs": [
    {
     "data": {
      "text/plain": "{'actuario': 'A9901',\n 'eventos': 'A9902',\n 'gestion': 'A9903',\n 'ninguna': 'A9904',\n 'no sabe': 'A9905',\n 'no se': 'A9906',\n 'no se sabe': 'A9907',\n 'tiene varios trabajos': 'A9908',\n 'voluntariado': 'A9909',\n 'educación básica': 'A1301',\n 'estudiante': 'A1302',\n 'idiomas': 'A1303',\n 'investigador-profesor en universidad/preparatoria': 'A1304',\n 'laboratorio': 'A1305',\n 'preescolar': 'A1306',\n 'regularización': 'A1307',\n 'área educativa': 'A1308',\n 'director o gerente': 'A0601',\n 'dueño': 'A0602',\n 'ejecutivo': 'A0603',\n 'gerente': 'A0604',\n 'inversiones': 'A0605',\n 'archivista': 'A0901',\n 'contador público': 'A0902',\n 'pasante': 'A0903',\n 'recursos humanos': 'A0904',\n 'trabaja en banco': 'A0905',\n 'enfermera': 'A1601',\n 'médico': 'A1602',\n 'nutriólogo': 'A1603',\n 'taquero': 'A0501',\n 'vendedor de comida': 'A0502',\n 'arquitecto': 'A1701',\n 'ingeniero civil/albañil o trabajador general': 'A1702',\n 'atención a clientes': 'A0801',\n 'call center': 'A0802',\n 'promotor de seguros': 'A0803',\n 'recepcionista': 'A0804',\n 'telefonía': 'A0805',\n 'vendedor de tiendas departamentales': 'A0806',\n 'administrador': 'A1101',\n 'cndh': 'A1102',\n 'corredora publica': 'A1103',\n 'expide actas de defunción': 'A1104',\n 'empleado': 'A1801',\n 'supervisor': 'A1802',\n 'flores y productos en un puesto no establecido': 'A0401',\n 'ropa': 'A0402',\n 'vendedor': 'A0403',\n 'vendedor por cuenta propia (negocio propio)': 'A0404',\n 'abarrotes': 'A2001',\n 'asistente': 'A2002',\n 'cocinero': 'A2003',\n 'farmacia': 'A2004',\n 'mesero': 'A2005',\n 'trabajadores domésticos': 'A2006',\n 'uber': 'A0301',\n 'bailarina': 'A0201',\n 'bateria': 'A0202',\n 'diseñador': 'A0203',\n 'fotógrafo': 'A0204',\n 'ilustrador': 'A0205',\n 'músico': 'A0206',\n 'pintor': 'A0207',\n 'abogado': 'A1401',\n 'actuaria': 'A1402',\n 'contador': 'A1403',\n 'criminologa': 'A1404',\n 'dentista': 'A1405',\n 'economista': 'A1406',\n 'financiero': 'A1407',\n 'fotoperiodista': 'A1408',\n 'ingeniero': 'A1409',\n 'marketing': 'A1410',\n 'médico independiente': 'A1411',\n 'oficinista': 'A1412',\n 'psicólogo': 'A1413',\n 'publicista': 'A1414',\n 'químico farmacobiólogo': 'A1415',\n 'acomodador': 'A2101',\n 'artesano': 'A2102',\n 'cargador': 'A2103',\n 'carpintero': 'A2104',\n 'cobrador': 'A2105',\n 'electricista': 'A2106',\n 'encuestador': 'A2107',\n 'inventarios': 'A2108',\n 'lavaloza': 'A2109',\n 'masajista': 'A2110',\n 'mecánico': 'A2111',\n 'peluquero': 'A2112',\n 'natación': 'A0101',\n 'profesor de clases deportivas': 'A0102'}"
     },
     "execution_count": 96,
     "metadata": {},
     "output_type": "execute_result"
    }
   ],
   "source": [
    "mapeo_codigos_ocupaciones6 = {}\n",
    "for cat in categorias.drop_duplicates():\n",
    "    codigo_cat = mapeo_codigos_categoria6[cat]\n",
    "    ocupaciones_en_categoria = encuesta['trabajo'][\n",
    "        encuesta['categoria'] == codigo_cat].drop_duplicates().sort_values().reset_index(drop=True)\n",
    "    for i, ocupacion in ocupaciones_en_categoria.items():\n",
    "        mapeo_codigos_ocupaciones6[ocupacion] = codigo_cat + str(i + 1).zfill(2)\n",
    "mapeo_codigos_ocupaciones6"
   ],
   "metadata": {
    "collapsed": false,
    "ExecuteTime": {
     "end_time": "2024-06-28T19:05:24.814970Z",
     "start_time": "2024-06-28T19:05:24.807303Z"
    }
   },
   "execution_count": 96
  },
  {
   "cell_type": "code",
   "outputs": [
    {
     "data": {
      "text/plain": "{'actuario': 'A9901',\n 'eventos': 'A9902',\n 'gestion': 'A9903',\n 'ninguna': 'A9904',\n 'no sabe': 'A9905',\n 'no se': 'A9906',\n 'no se sabe': 'A9907',\n 'tiene varios trabajos': 'A9908',\n 'voluntariado': 'A9909',\n 'educación básica': 'A1301',\n 'estudiante': 'A1302',\n 'idiomas': 'A1303',\n 'investigador-profesor en universidad/preparatoria': 'A1304',\n 'laboratorio': 'A1305',\n 'preescolar': 'A1306',\n 'regularización': 'A1307',\n 'área educativa': 'A1308',\n 'director o gerente': 'A0601',\n 'dueño': 'A0602',\n 'ejecutivo': 'A0603',\n 'gerente': 'A0604',\n 'inversiones': 'A0605',\n 'archivista': 'A0901',\n 'contador público': 'A0902',\n 'pasante': 'A0903',\n 'recursos humanos': 'A0904',\n 'trabaja en banco': 'A0905',\n 'enfermera': 'A1601',\n 'médico': 'A1602',\n 'nutriólogo': 'A1603',\n 'taquero': 'A0501',\n 'vendedor de comida': 'A0502',\n 'arquitecto': 'A1701',\n 'ingeniero civil/albañil o trabajador general': 'A1702',\n 'atención a clientes': 'A0801',\n 'call center': 'A0802',\n 'promotor de seguros': 'A0803',\n 'recepcionista': 'A0804',\n 'telefonía': 'A0805',\n 'vendedor de tiendas departamentales': 'A0806',\n 'administrador': 'A1101',\n 'cndh': 'A1102',\n 'corredora publica': 'A1103',\n 'expide actas de defunción': 'A1104',\n 'empleado': 'A1801',\n 'supervisor': 'A1802',\n 'flores y productos en un puesto no establecido': 'A0401',\n 'ropa': 'A0402',\n 'vendedor': 'A0403',\n 'vendedor por cuenta propia (negocio propio)': 'A0404',\n 'abarrotes': 'A2001',\n 'asistente': 'A2002',\n 'cocinero': 'A2003',\n 'farmacia': 'A2004',\n 'mesero': 'A2005',\n 'trabajadores domésticos': 'A2006',\n 'uber': 'A0301',\n 'bailarina': 'A0201',\n 'bateria': 'A0202',\n 'diseñador': 'A0203',\n 'fotógrafo': 'A0204',\n 'ilustrador': 'A0205',\n 'músico': 'A0206',\n 'pintor': 'A0207',\n 'abogado': 'A1401',\n 'actuaria': 'A1402',\n 'contador': 'A1403',\n 'criminologa': 'A1404',\n 'dentista': 'A1405',\n 'economista': 'A1406',\n 'financiero': 'A1407',\n 'fotoperiodista': 'A1408',\n 'ingeniero': 'A1409',\n 'marketing': 'A1410',\n 'médico independiente': 'A1411',\n 'oficinista': 'A1412',\n 'psicólogo': 'A1413',\n 'publicista': 'A1414',\n 'químico farmacobiólogo': 'A1415',\n 'acomodador': 'A2101',\n 'artesano': 'A2102',\n 'cargador': 'A2103',\n 'carpintero': 'A2104',\n 'cobrador': 'A2105',\n 'electricista': 'A2106',\n 'encuestador': 'A2107',\n 'inventarios': 'A2108',\n 'lavaloza': 'A2109',\n 'masajista': 'A2110',\n 'mecánico': 'A2111',\n 'peluquero': 'A2112',\n 'natación': 'A0101',\n 'profesor de clases deportivas': 'A0102',\n 'brigadista forestal': 'A1501',\n 'ciberseguridad': 'A1502',\n 'empleado en seguridad privada': 'A1503',\n 'guardia': 'A1504'}"
     },
     "execution_count": 97,
     "metadata": {},
     "output_type": "execute_result"
    }
   ],
   "source": [
    "mapeo_codigos_ocupaciones6[\"brigadista forestal\"] = \"A1501\"\n",
    "mapeo_codigos_ocupaciones6[\"ciberseguridad\"] = \"A1502\"\n",
    "mapeo_codigos_ocupaciones6[\"empleado en seguridad privada\"] = \"A1503\"\n",
    "mapeo_codigos_ocupaciones6[\"guardia\"] = \"A1504\"\n",
    "mapeo_codigos_ocupaciones6"
   ],
   "metadata": {
    "collapsed": false,
    "ExecuteTime": {
     "end_time": "2024-06-28T19:05:24.861015Z",
     "start_time": "2024-06-28T19:05:24.857501Z"
    }
   },
   "execution_count": 97
  },
  {
   "cell_type": "code",
   "outputs": [
    {
     "name": "stderr",
     "output_type": "stream",
     "text": [
      "/var/folders/hb/c3zh8bns0mx4nw98_6k7rx8m0000gn/T/ipykernel_7971/658387070.py:1: FutureWarning: A value is trying to be set on a copy of a DataFrame or Series through chained assignment using an inplace method.\n",
      "The behavior will change in pandas 3.0. This inplace method will never work because the intermediate object on which we are setting values always behaves as a copy.\n",
      "\n",
      "For example, when doing 'df[col].method(value, inplace=True)', try using 'df.method({col: value}, inplace=True)' or df[col] = df[col].method(value) instead, to perform the operation inplace on the original object.\n",
      "\n",
      "\n",
      "  encuesta['trabajo'].replace(mapeo_codigos_ocupaciones6,inplace=True)\n"
     ]
    },
    {
     "data": {
      "text/plain": "0     A0101\n1     A0102\n2     A0201\n3     A0202\n4     A0203\n      ...  \n92    A9905\n93    A9906\n94    A9907\n95    A9908\n96    A9909\nName: trabajo, Length: 97, dtype: object"
     },
     "execution_count": 98,
     "metadata": {},
     "output_type": "execute_result"
    }
   ],
   "source": [
    "encuesta['trabajo'].replace(mapeo_codigos_ocupaciones6,inplace=True)\n",
    "encuesta['trabajo'].drop_duplicates().sort_values().reset_index(drop=True)"
   ],
   "metadata": {
    "collapsed": false,
    "ExecuteTime": {
     "end_time": "2024-06-28T19:05:24.957538Z",
     "start_time": "2024-06-28T19:05:24.950030Z"
    }
   },
   "execution_count": 98
  },
  {
   "cell_type": "code",
   "outputs": [
    {
     "data": {
      "text/plain": "1   Trabajas[Amigo2] Trabajo[Amigo2] Categoria[Amigo2]\n0                  N           A9904               A99\n1                  Y           A9905               A99\n2                  N           A9904               A99\n3                  Y           A1407               A14\n4                  Y           A0201               A02\n..               ...             ...               ...\n695                N           A9904               A99\n696                Y           A0804               A08\n697                N           A9904               A99\n698                Y           A1302               A13\n699                N           A9904               A99\n\n[700 rows x 3 columns]",
      "text/html": "<div>\n<style scoped>\n    .dataframe tbody tr th:only-of-type {\n        vertical-align: middle;\n    }\n\n    .dataframe tbody tr th {\n        vertical-align: top;\n    }\n\n    .dataframe thead th {\n        text-align: right;\n    }\n</style>\n<table border=\"1\" class=\"dataframe\">\n  <thead>\n    <tr style=\"text-align: right;\">\n      <th>1</th>\n      <th>Trabajas[Amigo2]</th>\n      <th>Trabajo[Amigo2]</th>\n      <th>Categoria[Amigo2]</th>\n    </tr>\n  </thead>\n  <tbody>\n    <tr>\n      <th>0</th>\n      <td>N</td>\n      <td>A9904</td>\n      <td>A99</td>\n    </tr>\n    <tr>\n      <th>1</th>\n      <td>Y</td>\n      <td>A9905</td>\n      <td>A99</td>\n    </tr>\n    <tr>\n      <th>2</th>\n      <td>N</td>\n      <td>A9904</td>\n      <td>A99</td>\n    </tr>\n    <tr>\n      <th>3</th>\n      <td>Y</td>\n      <td>A1407</td>\n      <td>A14</td>\n    </tr>\n    <tr>\n      <th>4</th>\n      <td>Y</td>\n      <td>A0201</td>\n      <td>A02</td>\n    </tr>\n    <tr>\n      <th>...</th>\n      <td>...</td>\n      <td>...</td>\n      <td>...</td>\n    </tr>\n    <tr>\n      <th>695</th>\n      <td>N</td>\n      <td>A9904</td>\n      <td>A99</td>\n    </tr>\n    <tr>\n      <th>696</th>\n      <td>Y</td>\n      <td>A0804</td>\n      <td>A08</td>\n    </tr>\n    <tr>\n      <th>697</th>\n      <td>N</td>\n      <td>A9904</td>\n      <td>A99</td>\n    </tr>\n    <tr>\n      <th>698</th>\n      <td>Y</td>\n      <td>A1302</td>\n      <td>A13</td>\n    </tr>\n    <tr>\n      <th>699</th>\n      <td>N</td>\n      <td>A9904</td>\n      <td>A99</td>\n    </tr>\n  </tbody>\n</table>\n<p>700 rows × 3 columns</p>\n</div>"
     },
     "execution_count": 99,
     "metadata": {},
     "output_type": "execute_result"
    }
   ],
   "source": [
    "encuesta = encuesta.rename(columns={'trabajo': 'Trabajo[Amigo2]', 'categoria': 'Categoria[Amigo2]'})\n",
    "encuesta[['Trabajas[Amigo2]', 'Trabajo[Amigo2]', 'Categoria[Amigo2]']]"
   ],
   "metadata": {
    "collapsed": false,
    "ExecuteTime": {
     "end_time": "2024-06-28T19:05:25.008614Z",
     "start_time": "2024-06-28T19:05:24.994144Z"
    }
   },
   "execution_count": 99
  },
  {
   "cell_type": "code",
   "outputs": [],
   "source": [
    "#import json\n",
    "\n",
    "#trabajos = { ... }\n",
    "\n",
    "#with open(\"trabajos(amigo2).json\", \"w\") as archivo:\n",
    "#    json.dump(mapeo_codigos_ocupaciones6, archivo)"
   ],
   "metadata": {
    "collapsed": false,
    "ExecuteTime": {
     "end_time": "2024-06-28T19:05:25.105640Z",
     "start_time": "2024-06-28T19:05:25.104167Z"
    }
   },
   "execution_count": 100
  },
  {
   "attachments": {},
   "cell_type": "markdown",
   "metadata": {},
   "source": [
    "# Diccionario de datos"
   ]
  },
  {
   "cell_type": "code",
   "outputs": [],
   "source": [],
   "metadata": {
    "collapsed": false,
    "ExecuteTime": {
     "end_time": "2024-06-28T19:05:25.154204Z",
     "start_time": "2024-06-28T19:05:25.152627Z"
    }
   },
   "execution_count": 100
  },
  {
   "attachments": {},
   "cell_type": "markdown",
   "metadata": {},
   "source": [
    "Este diccionario contiene toda la información al respecto de las preguntas hechas en la encuesta de LimeSurvey, además de las descripciones a las preguntas, entre otras cosas"
   ]
  },
  {
   "cell_type": "code",
   "execution_count": 101,
   "metadata": {
    "ExecuteTime": {
     "end_time": "2024-06-28T19:05:25.255655Z",
     "start_time": "2024-06-28T19:05:25.241675Z"
    }
   },
   "outputs": [
    {
     "data": {
      "text/plain": "   item order related alive        new_code         code question options  \\\n0         1.0       G     _  fecha_encuesta        fecha      NaN     NaN   \n1         2.0       G     _           folio        folio      NaN     NaN   \n2         3.0       G     _     encuestador  encuestador      NaN     NaN   \n\n  Unnamed: 7 Unnamed: 8 Unnamed: 9  ... Unnamed: 90 Unnamed: 91 Unnamed: 92  \\\n0        NaN        NaN        NaN  ...         NaN         NaN         NaN   \n1        NaN        NaN        NaN  ...         NaN         NaN         NaN   \n2        NaN        NaN        NaN  ...         NaN         NaN         NaN   \n\n  Unnamed: 93 Unnamed: 94 Unnamed: 95 Unnamed: 96 Unnamed: 97 Unnamed: 98  \\\n0         NaN         NaN         NaN         NaN         NaN         NaN   \n1         NaN         NaN         NaN         NaN         NaN         NaN   \n2         NaN         NaN         NaN         NaN         NaN         NaN   \n\n  Unnamed: 99  \n0         NaN  \n1         NaN  \n2         NaN  \n\n[3 rows x 100 columns]",
      "text/html": "<div>\n<style scoped>\n    .dataframe tbody tr th:only-of-type {\n        vertical-align: middle;\n    }\n\n    .dataframe tbody tr th {\n        vertical-align: top;\n    }\n\n    .dataframe thead th {\n        text-align: right;\n    }\n</style>\n<table border=\"1\" class=\"dataframe\">\n  <thead>\n    <tr style=\"text-align: right;\">\n      <th></th>\n      <th>item order</th>\n      <th>related</th>\n      <th>alive</th>\n      <th>new_code</th>\n      <th>code</th>\n      <th>question</th>\n      <th>options</th>\n      <th>Unnamed: 7</th>\n      <th>Unnamed: 8</th>\n      <th>Unnamed: 9</th>\n      <th>...</th>\n      <th>Unnamed: 90</th>\n      <th>Unnamed: 91</th>\n      <th>Unnamed: 92</th>\n      <th>Unnamed: 93</th>\n      <th>Unnamed: 94</th>\n      <th>Unnamed: 95</th>\n      <th>Unnamed: 96</th>\n      <th>Unnamed: 97</th>\n      <th>Unnamed: 98</th>\n      <th>Unnamed: 99</th>\n    </tr>\n  </thead>\n  <tbody>\n    <tr>\n      <th>0</th>\n      <td>1.0</td>\n      <td>G</td>\n      <td>_</td>\n      <td>fecha_encuesta</td>\n      <td>fecha</td>\n      <td>NaN</td>\n      <td>NaN</td>\n      <td>NaN</td>\n      <td>NaN</td>\n      <td>NaN</td>\n      <td>...</td>\n      <td>NaN</td>\n      <td>NaN</td>\n      <td>NaN</td>\n      <td>NaN</td>\n      <td>NaN</td>\n      <td>NaN</td>\n      <td>NaN</td>\n      <td>NaN</td>\n      <td>NaN</td>\n      <td>NaN</td>\n    </tr>\n    <tr>\n      <th>1</th>\n      <td>2.0</td>\n      <td>G</td>\n      <td>_</td>\n      <td>folio</td>\n      <td>folio</td>\n      <td>NaN</td>\n      <td>NaN</td>\n      <td>NaN</td>\n      <td>NaN</td>\n      <td>NaN</td>\n      <td>...</td>\n      <td>NaN</td>\n      <td>NaN</td>\n      <td>NaN</td>\n      <td>NaN</td>\n      <td>NaN</td>\n      <td>NaN</td>\n      <td>NaN</td>\n      <td>NaN</td>\n      <td>NaN</td>\n      <td>NaN</td>\n    </tr>\n    <tr>\n      <th>2</th>\n      <td>3.0</td>\n      <td>G</td>\n      <td>_</td>\n      <td>encuestador</td>\n      <td>encuestador</td>\n      <td>NaN</td>\n      <td>NaN</td>\n      <td>NaN</td>\n      <td>NaN</td>\n      <td>NaN</td>\n      <td>...</td>\n      <td>NaN</td>\n      <td>NaN</td>\n      <td>NaN</td>\n      <td>NaN</td>\n      <td>NaN</td>\n      <td>NaN</td>\n      <td>NaN</td>\n      <td>NaN</td>\n      <td>NaN</td>\n      <td>NaN</td>\n    </tr>\n  </tbody>\n</table>\n<p>3 rows × 100 columns</p>\n</div>"
     },
     "execution_count": 101,
     "metadata": {},
     "output_type": "execute_result"
    }
   ],
   "source": [
    "diccionario = pd.read_csv(r'datos/zoom4-dicc-tx.csv')\n",
    "diccionario.head(3)"
   ]
  },
  {
   "cell_type": "code",
   "execution_count": 102,
   "metadata": {
    "ExecuteTime": {
     "end_time": "2024-06-28T19:05:25.291770Z",
     "start_time": "2024-06-28T19:05:25.289500Z"
    }
   },
   "outputs": [
    {
     "data": {
      "text/plain": "Index(['item order', 'related', 'alive', 'new_code', 'code', 'question',\n       'options', 'Unnamed: 7', 'Unnamed: 8', 'Unnamed: 9', 'Unnamed: 10',\n       'Unnamed: 11', 'Unnamed: 12', 'Unnamed: 13', 'Unnamed: 14',\n       'Unnamed: 15', 'Unnamed: 16', 'Unnamed: 17', 'Unnamed: 18',\n       'Unnamed: 19', 'Unnamed: 20', 'Unnamed: 21', 'Unnamed: 22',\n       'Unnamed: 23', 'Unnamed: 24', 'Unnamed: 25', 'Unnamed: 26',\n       'Unnamed: 27', 'Unnamed: 28', 'Unnamed: 29', 'Unnamed: 30',\n       'Unnamed: 31', 'Unnamed: 32', 'Unnamed: 33', 'Unnamed: 34',\n       'Unnamed: 35', 'Unnamed: 36', 'Unnamed: 37', 'Unnamed: 38',\n       'Unnamed: 39', 'Unnamed: 40', 'Unnamed: 41', 'Unnamed: 42',\n       'Unnamed: 43', 'Unnamed: 44', 'Unnamed: 45', 'Unnamed: 46',\n       'Unnamed: 47', 'Unnamed: 48', 'Unnamed: 49', 'Unnamed: 50',\n       'Unnamed: 51', 'Unnamed: 52', 'Unnamed: 53', 'Unnamed: 54',\n       'Unnamed: 55', 'Unnamed: 56', 'Unnamed: 57', 'Unnamed: 58',\n       'Unnamed: 59', 'Unnamed: 60', 'Unnamed: 61', 'Unnamed: 62',\n       'Unnamed: 63', 'Unnamed: 64', 'Unnamed: 65', 'Unnamed: 66',\n       'Unnamed: 67', 'Unnamed: 68', 'Unnamed: 69', 'Unnamed: 70',\n       'Unnamed: 71', 'Unnamed: 72', 'Unnamed: 73', 'Unnamed: 74',\n       'Unnamed: 75', 'Unnamed: 76', 'Unnamed: 77', 'Unnamed: 78',\n       'Unnamed: 79', 'Unnamed: 80', 'Unnamed: 81', 'Unnamed: 82',\n       'Unnamed: 83', 'Unnamed: 84', 'Unnamed: 85', 'Unnamed: 86',\n       'Unnamed: 87', 'Unnamed: 88', 'Unnamed: 89', 'Unnamed: 90',\n       'Unnamed: 91', 'Unnamed: 92', 'Unnamed: 93', 'Unnamed: 94',\n       'Unnamed: 95', 'Unnamed: 96', 'Unnamed: 97', 'Unnamed: 98',\n       'Unnamed: 99'],\n      dtype='object')"
     },
     "execution_count": 102,
     "metadata": {},
     "output_type": "execute_result"
    }
   ],
   "source": [
    "diccionario.columns"
   ]
  },
  {
   "cell_type": "code",
   "execution_count": 103,
   "metadata": {
    "ExecuteTime": {
     "end_time": "2024-06-28T19:05:25.395170Z",
     "start_time": "2024-06-28T19:05:25.393266Z"
    }
   },
   "outputs": [],
   "source": [
    "diccionario_2 = diccionario.set_index('code', inplace=True)"
   ]
  },
  {
   "cell_type": "code",
   "execution_count": 104,
   "metadata": {
    "ExecuteTime": {
     "end_time": "2024-06-28T19:05:25.628198Z",
     "start_time": "2024-06-28T19:05:25.484612Z"
    }
   },
   "outputs": [
    {
     "ename": "AttributeError",
     "evalue": "'NoneType' object has no attribute 'filter'",
     "output_type": "error",
     "traceback": [
      "\u001B[0;31m---------------------------------------------------------------------------\u001B[0m",
      "\u001B[0;31mAttributeError\u001B[0m                            Traceback (most recent call last)",
      "Cell \u001B[0;32mIn[104], line 1\u001B[0m\n\u001B[0;32m----> 1\u001B[0m mapeo_respuestas \u001B[38;5;241m=\u001B[39m \u001B[43mauxiliar_4\u001B[49m\u001B[38;5;241;43m.\u001B[39;49m\u001B[43mconstruir_mapeo_preguntas_y_respuestas\u001B[49m\u001B[43m(\u001B[49m\u001B[43mdiccionario_2\u001B[49m\u001B[43m)\u001B[49m\n\u001B[1;32m      2\u001B[0m mapeo_respuestas\n",
      "File \u001B[0;32m~/Downloads/servicio_social/encuestas/Zoom4/auxiliar_4.py:65\u001B[0m, in \u001B[0;36mconstruir_mapeo_preguntas_y_respuestas\u001B[0;34m(df_diccionario, patron_columnas_respuestas)\u001B[0m\n\u001B[1;32m     30\u001B[0m \u001B[38;5;28;01mdef\u001B[39;00m \u001B[38;5;21mconstruir_mapeo_preguntas_y_respuestas\u001B[39m(df_diccionario, patron_columnas_respuestas\u001B[38;5;241m=\u001B[39m\u001B[38;5;124mr\u001B[39m\u001B[38;5;124m'\u001B[39m\u001B[38;5;124mUnnamed|options\u001B[39m\u001B[38;5;124m'\u001B[39m):\n\u001B[1;32m     31\u001B[0m \u001B[38;5;250m    \u001B[39m\u001B[38;5;124;03m\"\"\"Construye un mapeo de códigos a valores a partir de un marco de datos.\u001B[39;00m\n\u001B[1;32m     32\u001B[0m \n\u001B[1;32m     33\u001B[0m \u001B[38;5;124;03m    Cada renglón de `df_diccionario` representa una pregunta hecha al encuestado.\u001B[39;00m\n\u001B[0;32m   (...)\u001B[0m\n\u001B[1;32m     61\u001B[0m \n\u001B[1;32m     62\u001B[0m \u001B[38;5;124;03m    \"\"\"\u001B[39;00m\n\u001B[1;32m     63\u001B[0m     mapeo_preguntas_respuestas \u001B[38;5;241m=\u001B[39m (\n\u001B[1;32m     64\u001B[0m         \u001B[43mdf_diccionario\u001B[49m\n\u001B[0;32m---> 65\u001B[0m \u001B[43m        \u001B[49m\u001B[38;5;241;43m.\u001B[39;49m\u001B[43mfilter\u001B[49m(regex\u001B[38;5;241m=\u001B[39mpatron_columnas_respuestas, axis\u001B[38;5;241m=\u001B[39m\u001B[38;5;241m1\u001B[39m)  \u001B[38;5;66;03m# Filtar columnas con respuestas\u001B[39;00m\n\u001B[1;32m     66\u001B[0m         \u001B[38;5;241m.\u001B[39mdropna(how\u001B[38;5;241m=\u001B[39m\u001B[38;5;124m'\u001B[39m\u001B[38;5;124mall\u001B[39m\u001B[38;5;124m'\u001B[39m)  \u001B[38;5;66;03m# Eliminar filas vacías i.e. preguntas sin respuestas de opción múltiple\u001B[39;00m\n\u001B[1;32m     67\u001B[0m         \u001B[38;5;241m.\u001B[39mapply(\u001B[38;5;28;01mlambda\u001B[39;00m renglon: \u001B[38;5;124m'\u001B[39m\u001B[38;5;124m,\u001B[39m\u001B[38;5;124m'\u001B[39m\u001B[38;5;241m.\u001B[39mjoin(renglon\u001B[38;5;241m.\u001B[39mdropna()\u001B[38;5;241m.\u001B[39mastype(\u001B[38;5;28mstr\u001B[39m)), axis\u001B[38;5;241m=\u001B[39m\u001B[38;5;241m1\u001B[39m)  \u001B[38;5;66;03m# Combinar respuestas en una cadena\u001B[39;00m\n\u001B[1;32m     68\u001B[0m         \u001B[38;5;241m.\u001B[39mapply(recolectar_codificacion)  \u001B[38;5;66;03m# Recolectar pares `codigo = valor` en un diccionario\u001B[39;00m\n\u001B[1;32m     69\u001B[0m     )\n\u001B[1;32m     70\u001B[0m     \u001B[38;5;28;01mreturn\u001B[39;00m mapeo_preguntas_respuestas\u001B[38;5;241m.\u001B[39mto_dict()\n",
      "\u001B[0;31mAttributeError\u001B[0m: 'NoneType' object has no attribute 'filter'"
     ]
    }
   ],
   "source": [
    "mapeo_respuestas = auxiliar_4.construir_mapeo_preguntas_y_respuestas(diccionario_2)\n",
    "mapeo_respuestas"
   ]
  },
  {
   "cell_type": "code",
   "outputs": [],
   "source": [
    "from auxiliar_4 import  mapear_codigos,llenar_vacios,llenar_respuesta_libre,mostrar_unicos,contar_faltantes,unificar_observaciones"
   ],
   "metadata": {
    "collapsed": false,
    "ExecuteTime": {
     "end_time": "2024-06-28T19:05:25.644644Z",
     "start_time": "2024-06-28T19:05:25.641379Z"
    }
   },
   "execution_count": 105
  },
  {
   "cell_type": "markdown",
   "metadata": {},
   "source": [
    "# Funciones auxiliares"
   ]
  },
  {
   "cell_type": "code",
   "outputs": [
    {
     "ename": "NameError",
     "evalue": "name 'mapeo_respuestas' is not defined",
     "output_type": "error",
     "traceback": [
      "\u001B[0;31m---------------------------------------------------------------------------\u001B[0m",
      "\u001B[0;31mNameError\u001B[0m                                 Traceback (most recent call last)",
      "Cell \u001B[0;32mIn[106], line 1\u001B[0m\n\u001B[0;32m----> 1\u001B[0m mapear_codigos \u001B[38;5;241m=\u001B[39m functools\u001B[38;5;241m.\u001B[39mpartial(auxiliar_4\u001B[38;5;241m.\u001B[39mmapear_codigos, encuesta, \u001B[43mmapeo_respuestas\u001B[49m)\n\u001B[1;32m      2\u001B[0m llenar_respuesta_libre \u001B[38;5;241m=\u001B[39m functools\u001B[38;5;241m.\u001B[39mpartial(auxiliar_4\u001B[38;5;241m.\u001B[39mllenar_respuesta_libre, encuesta)\n\u001B[1;32m      3\u001B[0m llenar_vacios \u001B[38;5;241m=\u001B[39m functools\u001B[38;5;241m.\u001B[39mpartial(auxiliar_4\u001B[38;5;241m.\u001B[39mllenar_vacios, encuesta)\n",
      "\u001B[0;31mNameError\u001B[0m: name 'mapeo_respuestas' is not defined"
     ]
    }
   ],
   "source": [
    "mapear_codigos = functools.partial(auxiliar_4.mapear_codigos, encuesta, mapeo_respuestas)\n",
    "llenar_respuesta_libre = functools.partial(auxiliar_4.llenar_respuesta_libre, encuesta)\n",
    "llenar_vacios = functools.partial(auxiliar_4.llenar_vacios, encuesta)\n",
    "mostrar_unicos = functools.partial(auxiliar_4.mostrar_unicos, encuesta)\n",
    "contar_faltantes = functools.partial(auxiliar_4.contar_faltantes, encuesta)\n",
    "unificar_observaciones = functools.partial(auxiliar_4.unificar_observaciones, encuesta)"
   ],
   "metadata": {
    "collapsed": false,
    "ExecuteTime": {
     "end_time": "2024-06-28T19:05:25.758144Z",
     "start_time": "2024-06-28T19:05:25.746423Z"
    }
   },
   "execution_count": 106
  },
  {
   "attachments": {},
   "cell_type": "markdown",
   "metadata": {},
   "source": [
    "# Mapeo de enfermedades"
   ]
  },
  {
   "attachments": {},
   "cell_type": "markdown",
   "metadata": {},
   "source": [
    "Primero, de la encuesta, vamos a obtener todas las columnas que estén dentro de ese dataset, para luego poder filtrar y quedarnos con todas aquellas que contengan [other], y no pertenezcan a las ya mapeadas en el .json de edades"
   ]
  },
  {
   "cell_type": "code",
   "execution_count": 107,
   "metadata": {
    "ExecuteTime": {
     "end_time": "2024-06-28T19:05:26.144143Z",
     "start_time": "2024-06-28T19:05:26.138965Z"
    }
   },
   "outputs": [
    {
     "data": {
      "text/plain": "['id',\n 'token',\n 'submitdate',\n 'lastpage',\n 'startlanguage',\n 'seed',\n 'startdate',\n 'datestamp',\n 'fecha',\n 'folio',\n 'encuestador',\n 'encuestador_other',\n 'pareja',\n 'q0r587',\n 'q0r938',\n 'q0r938_other',\n 'q0r219_SQ002',\n 'q0r219_SQ003',\n 'q0r219_SQ004',\n 'q0r219_SQ005',\n 'q0r219_other',\n 'q0r632',\n 'q0r632_other',\n 'q0r69_SQ002',\n 'q0r69_SQ003',\n 'q0r69_SQ004',\n 'q0r69_SQ005',\n 'q0r69_other',\n 'q0r192',\n 'q0r192_other',\n 'q0r914_SQ002',\n 'q0r914_SQ003',\n 'q0r914_SQ004',\n 'q0r914_SQ005',\n 'q0r914_other',\n 'q0r120',\n 'q0r120_other',\n 'q0r262_77561',\n 'q0r262_64740',\n 'q0r262_78236',\n 'q0r262_45719',\n 'q0r262_other',\n 'q0r934',\n 'q0r934_other',\n 'q0r850_SQ004',\n 'q0r850_SQ005',\n 'q0r850_SQ006',\n 'q0r850_SQ007',\n 'q0r850_other',\n 'q0r701',\n 'q0r701_other',\n 'q0r649_SQ002',\n 'q0r649_SQ003',\n 'q0r649_SQ004',\n 'q0r649_SQ005',\n 'q0r649_other',\n 'q0r325',\n 'q0r325_other',\n 'q0r458_SQ002',\n 'q0r458_SQ003',\n 'q0r458_SQ005',\n 'q0r458_SQ006',\n 'q0r458_SQ007',\n 'q0r458_SQ008',\n 'q0r458_SQ009',\n 'q0r458_other',\n 'vc5',\n 'q0r60_66',\n 'q0r60_66comment',\n 'q0r60_2',\n 'q0r60_2comment',\n 'q0r60_3',\n 'q0r60_3comment',\n 'q0r60_4',\n 'q0r60_4comment',\n 'q0r60_5',\n 'q0r60_5comment',\n 'q0r60_6',\n 'q0r60_6comment',\n 'q0r60_7',\n 'q0r60_7comment',\n 'q0r60_8',\n 'q0r60_8comment',\n 'q0r60_89',\n 'q0r60_89comment',\n 'q0r60_df',\n 'q0r60_dfcomment',\n 'q0r60_f',\n 'q0r60_fcomment',\n 'q0r60_11',\n 'q0r60_11comment',\n 'q0r60_12',\n 'q0r60_12comment',\n 'q0r60_13',\n 'q0r60_13comment',\n 'q0r60_1415',\n 'q0r60_1415comment',\n 'q0r60_34',\n 'q0r60_34comment',\n 'q0r60_43',\n 'q0r60_43comment',\n 'q0r60_54',\n 'q0r60_54comment',\n 'q0r60_541',\n 'q0r60_541comment',\n 'q0r60_other',\n 'q0r60_othercomment',\n 'estudia854',\n 'ansem35',\n 'q0r439',\n 'q0r439_other',\n 'TrabElemntales',\n 'Ofici',\n 'amigos',\n 'masamigos32',\n 'q0r765',\n 'q0r808',\n 'q0r808_other',\n 'q0r339_SQ002',\n 'q0r339_SQ003',\n 'q0r339_SQ004',\n 'q0r339_SQ005',\n 'q0r339_other',\n 'q0r507',\n 'q0r507_other',\n 'q0r529_SQ002',\n 'q0r529_SQ003',\n 'q0r529_SQ004',\n 'q0r529_SQ005',\n 'q0r529_other',\n 'q0r645',\n 'q0r645_other',\n 'q0r6_SQ002',\n 'q0r6_SQ003',\n 'q0r6_SQ004',\n 'q0r6_SQ005',\n 'q0r6_other',\n 'q0r603',\n 'q0r603_other',\n 'q0r343_SQ004',\n 'q0r343_64740',\n 'q0r343_SQ006',\n 'q0r343_SQ007',\n 'q0r343_other',\n 'q0r338',\n 'q0r338_other',\n 'q0r630_SQ004',\n 'q0r630_SQ005',\n 'q0r630_SQ006',\n 'q0r630_SQ007',\n 'q0r630_other',\n 'q0r179',\n 'q0r179_other',\n 'q0r578_SQ002',\n 'q0r578_SQ003',\n 'q0r578_SQ004',\n 'q0r578_SQ005',\n 'q0r578_other',\n 'q0r97',\n 'q0r97_other',\n 'q0r421_SQ002',\n 'q0r421_SQ003',\n 'q0r421_SQ004',\n 'q0r421_SQ005',\n 'q0r421_SQ006',\n 'q0r421_SQ007',\n 'q0r421_SQ008',\n 'q0r421_other',\n 'vacuna57',\n 'q0r751_66',\n 'q0r751_66comment',\n 'q0r751_2',\n 'q0r751_2comment',\n 'q0r751_3',\n 'q0r751_3comment',\n 'q0r751_4',\n 'q0r751_4comment',\n 'q0r751_5',\n 'q0r751_5comment',\n 'q0r751_6',\n 'q0r751_6comment',\n 'q0r751_7',\n 'q0r751_7comment',\n 'q0r751_8',\n 'q0r751_8comment',\n 'q0r751_89',\n 'q0r751_89comment',\n 'q0r751_df',\n 'q0r751_dfcomment',\n 'q0r751_f',\n 'q0r751_fcomment',\n 'q0r751_11',\n 'q0r751_11comment',\n 'q0r751_12',\n 'q0r751_12comment',\n 'q0r751_13',\n 'q0r751_13comment',\n 'q0r751_1415',\n 'q0r751_1415comment',\n 'q0r751_34',\n 'q0r751_34comment',\n 'q0r751_43',\n 'q0r751_43comment',\n 'q0r751_54',\n 'q0r751_54comment',\n 'q0r751_541',\n 'q0r751_541comment',\n 'q0r751_other',\n 'q0r751_othercomment',\n 'secundaria42',\n 'prepa2',\n 'q0r789',\n 'q0r789_other',\n 'Amigo1Q2345',\n 'Amigo1Q2345_other',\n 'DPORT88',\n 'DPORT88_other',\n 'ARTIST88',\n 'ARTIST88_other',\n 'CHOFER88',\n 'CHOFER88_other',\n 'FORMAL888',\n 'FORMAL888_other',\n 'INFOR555',\n 'INFOR555_other',\n 'EMPRE888',\n 'EMPRE888_other',\n 'VIRTUAL888',\n 'VIRTUAL888_other',\n 'ATENCION555',\n 'ATENCION555_other',\n 'ADMIN588',\n 'ADMIN588_other',\n 'GUB588',\n 'GUB588_other',\n 'EMPLEGUB55',\n 'EMPLEGUB55_other',\n 'MAQU55',\n 'MAQU55_comment',\n 'TECNICO5556',\n 'TECNICO5556_comment',\n 'EDUCA556',\n 'EDUCA556_other',\n 'INDP56',\n 'INDP56_other',\n 'SEGURI544',\n 'SEGURI544_other',\n 'SALUD564',\n 'SALUD564_other',\n 'DCONSTU56',\n 'DCONSTU56_other',\n 'AFGRU56',\n 'AFGRU56_other',\n 'fabrica328',\n 'fabrica328_other',\n 'AmixTrabElem',\n 'AmixOficio',\n 'q24',\n 'q24_other',\n 'q85678',\n 'q85678_other',\n 'q0r155',\n 'q0r920',\n 'q0r920_other',\n 'q0r330_SQ002',\n 'q0r330_SQ003',\n 'q0r330_SQ004',\n 'q0r330_SQ005',\n 'q0r330_other',\n 'q0r366',\n 'q0r366_other',\n 'q0r220_SQ002',\n 'q0r220_SQ003',\n 'q0r220_SQ004',\n 'q0r220_SQ005',\n 'q0r220_other',\n 'q0r264',\n 'q0r264_other',\n 'q0r383_SQ002',\n 'q0r383_SQ003',\n 'q0r383_SQ004',\n 'q0r383_SQ005',\n 'q0r383_other',\n 'q0r494',\n 'q0r494_other',\n 'q0r634_77561',\n 'q0r634_64740',\n 'q0r634_78236',\n 'q0r634_SQ007',\n 'q0r634_other',\n 'q0r190',\n 'q0r190_other',\n 'q0r376_77561',\n 'q0r376_64740',\n 'q0r376_78236',\n 'q0r376_45719',\n 'q0r376_other',\n 'q0r905',\n 'q0r905_other',\n 'q0r962_SQ002',\n 'q0r962_SQ003',\n 'q0r962_SQ004',\n 'q0r962_SQ005',\n 'q0r962_other',\n 'q0r722',\n 'q0r722_other',\n 'q0r533_SQ002',\n 'q0r533_SQ003',\n 'q0r533_SQ004',\n 'q0r533_SQ005',\n 'q0r533_SQ006',\n 'q0r533_SQ007',\n 'q0r533_SQ008',\n 'q0r533_SQ009',\n 'q0r533_other',\n 'vacuna70',\n 'q0r86_66',\n 'q0r86_66comment',\n 'q0r86_2',\n 'q0r86_2comment',\n 'q0r86_3',\n 'q0r86_3comment',\n 'q0r86_4',\n 'q0r86_4comment',\n 'q0r86_5',\n 'q0r86_5comment',\n 'q0r86_6',\n 'q0r86_6comment',\n 'q0r86_7',\n 'q0r86_7comment',\n 'q0r86_8',\n 'q0r86_8comment',\n 'q0r86_89',\n 'q0r86_89comment',\n 'q0r86_df',\n 'q0r86_dfcomment',\n 'q0r86_f',\n 'q0r86_fcomment',\n 'q0r86_11',\n 'q0r86_11comment',\n 'q0r86_12',\n 'q0r86_12comment',\n 'q0r86_13',\n 'q0r86_13comment',\n 'q0r86_1415',\n 'q0r86_1415comment',\n 'q0r86_34',\n 'q0r86_34comment',\n 'q0r86_43',\n 'q0r86_43comment',\n 'q0r86_54',\n 'q0r86_54comment',\n 'q0r86_541',\n 'q0r86_541comment',\n 'q0r86_other',\n 'q0r86_othercomment',\n 'cq',\n 'prepa3',\n 'q0r265',\n 'q0r265_other',\n 'Ami1TrabElemental',\n 'AmiOficio',\n 'q0r34',\n 'q0r34_other',\n 'q0r407',\n 'q0r407_other',\n 'q0r68',\n 'q0r757',\n 'q0r757_other',\n 'q0r442_SQ002',\n 'q0r442_SQ003',\n 'q0r442_SQ004',\n 'q0r442_SQ005',\n 'q0r442_other',\n 'q0r644',\n 'q0r644_other',\n 'q0r130_SQ002',\n 'q0r130_SQ003',\n 'q0r130_SQ004',\n 'q0r130_SQ005',\n 'q0r130_other',\n 'q0r452',\n 'q0r452_other',\n 'q0r215_SQ002',\n 'q0r215_SQ003',\n 'q0r215_SQ004',\n 'q0r215_SQ005',\n 'q0r215_other',\n 'q0r358',\n 'q0r358_other',\n 'q0r790_77561',\n 'q0r790_64740',\n 'q0r790_78236',\n 'q0r790_45719',\n 'q0r790_other',\n 'q0r766',\n 'q0r766_other',\n 'q0r779_SQ002',\n 'q0r779_SQ003',\n 'q0r779_SQ004',\n 'q0r779_SQ005',\n 'q0r779_other',\n 'q0r250',\n 'q0r250_other',\n 'q0r259_SQ002',\n 'q0r259_SQ003',\n 'q0r259_SQ004',\n 'q0r259_SQ005',\n 'q0r259_other',\n 'q0r196',\n 'q0r196_other',\n 'q0r702_SQ002',\n 'q0r702_SQ003',\n 'q0r702_SQ004',\n 'q0r702_SQ005',\n 'q0r702_SQ006',\n 'q0r702_SQ007',\n 'q0r702_SQ008',\n 'q0r702_SQ009',\n 'q0r702_other',\n 'vac63',\n 'q0r444_66',\n 'q0r444_66comment',\n 'q0r444_2',\n 'q0r444_2comment',\n 'q0r444_3',\n 'q0r444_3comment',\n 'q0r444_4',\n 'q0r444_4comment',\n 'q0r444_5',\n 'q0r444_5comment',\n 'q0r444_6',\n 'q0r444_6comment',\n 'q0r444_7',\n 'q0r444_7comment',\n 'q0r444_8',\n 'q0r444_8comment',\n 'q0r444_89',\n 'q0r444_89comment',\n 'q0r444_df',\n 'q0r444_dfcomment',\n 'q0r444_f',\n 'q0r444_fcomment',\n 'q0r444_11',\n 'q0r444_11comment',\n 'q0r444_12',\n 'q0r444_12comment',\n 'q0r444_13',\n 'q0r444_13comment',\n 'q0r444_1415',\n 'q0r444_1415comment',\n 'q0r444_34',\n 'q0r444_34comment',\n 'q0r444_43',\n 'q0r444_43comment',\n 'q0r444_54',\n 'q0r444_54comment',\n 'q0r444_541',\n 'q0r444_541comment',\n 'q0r444_other',\n 'q0r444_othercomment',\n 'cq9',\n 'prepara6',\n 'q0r254',\n 'q0r254_other',\n 'Amigo3q0r352',\n 'Amigo3q0r352_other',\n 'dpor7777A',\n 'dpor7777A_other',\n 'ARTIST346A',\n 'ARTIST346A_other',\n 'CHOFE346A',\n 'CHOFE346A_other',\n 'FORMAL254A',\n 'FORMAL254A_other',\n 'INFORM356A',\n 'INFORM356A_other',\n 'EPRESA346S',\n 'EPRESA346S_other',\n 'VIRTUAL23A',\n 'VIRTUAL23A_other',\n 'ADN32',\n 'ADN32_other',\n 'EMPLEADOGUB345',\n 'EMPLEADOGUB345_comment',\n 'GUBW45',\n 'GUBW45_other',\n 'maqui254A',\n 'maqui254A_comment',\n 'TCNIC365A',\n 'TCNIC365A_comment',\n 'EDUCATIV2',\n 'EDUCATIV2_other',\n 'DEPENDIW45',\n 'DEPENDIW45_other',\n 'SALUD34A',\n 'SALUD34A_other',\n 'CONSTRUCCION345A',\n 'CONSTRUCCION345A_other',\n 'FABRICU3',\n 'FABRICU3_other',\n 'AGRICU3',\n 'AGRICU3_other',\n 'Ami3TrabElem',\n 'Ami3Oficio',\n 'q0r381',\n 'q0r381_other',\n 'q0r459',\n 'q0r459_other',\n 'q0r91',\n 'q0r781',\n 'q0r781_other',\n 'q0r945_SQ002',\n 'q0r945_SQ003',\n 'q0r945_SQ004',\n 'q0r945_SQ005',\n 'q0r945_other',\n 'q0r865',\n 'q0r865_other',\n 'q0r573_SQ002',\n 'q0r573_SQ003',\n 'q0r573_SQ004',\n 'q0r573_SQ005',\n 'q0r573_other',\n 'q0r654',\n 'q0r654_other',\n 'q0r106_SQ002',\n 'q0r106_SQ003',\n 'q0r106_SQ004',\n 'q0r106_SQ005',\n 'q0r106_other',\n 'q0r460',\n 'q0r460_other',\n 'q0r511_77561',\n 'q0r511_64740',\n 'q0r511_78236',\n 'q0r511_45719',\n 'q0r511_other',\n 'q0r286',\n 'q0r286_other',\n 'q0r640_77561',\n 'q0r640_64740',\n 'q0r640_78236',\n 'q0r640_45719',\n 'q0r640_other',\n 'q0r427',\n 'q0r427_other',\n 'q0r510_SQ002',\n 'q0r510_SQ003',\n 'q0r510_SQ004',\n 'q0r510_SQ005',\n 'q0r510_other',\n 'q0r138',\n 'q0r138_other',\n 'q0r493_SQ002',\n 'q0r493_SQ003',\n 'q0r493_SQ004',\n 'q0r493_SQ005',\n 'q0r493_SQ006',\n 'q0r493_SQ007',\n 'q0r493_SQ008',\n 'q0r493_SQ009',\n 'q0r493_other',\n 'vact5',\n 'q0r705_66',\n 'q0r705_66comment',\n 'q0r705_2',\n 'q0r705_2comment',\n 'q0r705_3',\n 'q0r705_3comment',\n 'q0r705_4',\n 'q0r705_4comment',\n 'q0r705_5',\n 'q0r705_5comment',\n 'q0r705_6',\n 'q0r705_6comment',\n 'q0r705_7',\n 'q0r705_7comment',\n 'q0r705_8',\n 'q0r705_8comment',\n 'q0r705_89',\n 'q0r705_89comment',\n 'q0r705_df',\n 'q0r705_dfcomment',\n 'q0r705_f',\n 'q0r705_fcomment',\n 'q0r705_11',\n 'q0r705_11comment',\n 'q0r705_12',\n 'q0r705_12comment',\n 'q0r705_13',\n 'q0r705_13comment',\n 'q0r705_1415',\n 'q0r705_1415comment',\n 'q0r705_34',\n 'q0r705_34comment',\n 'q0r705_43',\n 'q0r705_43comment',\n 'q0r705_54',\n 'q0r705_54comment',\n 'q0r705_541',\n 'q0r705_541comment',\n 'q0r705_other',\n 'q0r705_othercomment',\n 'cq7',\n 'prepd5',\n 'q0r547',\n 'q0r547_other',\n 'q0r246',\n 'q0r246_other',\n 'ddd',\n 'ddd_other',\n 'aaa2',\n 'aaa2_other',\n 'ccc567',\n 'ccc567_other',\n 'fff5',\n 'fff5_other',\n 'inf66',\n 'inf66_other',\n 'eeemp3',\n 'eeemp3_other',\n 'virt455',\n 'virt455_other',\n 'atcli4',\n 'atcli4_other',\n 'adminis3',\n 'adminis3_other',\n 'egu3',\n 'egu3_comment',\n 'gub56',\n 'gub56_other',\n 'maqui45',\n 'maqui45_comment',\n 'tcnic5',\n 'tcnic5_comment',\n 'eduy44',\n 'eduy44_other',\n 'indept2',\n 'indept2_other',\n 'segu43',\n 'segu43_other',\n 'salu4',\n 'salu4_other',\n 'cons42',\n 'cons42_other',\n 'FABRICQA',\n 'FABRICQA_other',\n 'agr53',\n 'agr53_other',\n 'Ami4TrabElem',\n 'Ami4Oficio',\n 'q0r296',\n 'q0r296_other',\n 'em5s',\n 'em5s_other',\n 'q0r817',\n 'q0r678',\n 'q0r678_other',\n 'q0r519_SQ002',\n 'q0r519_SQ003',\n 'q0r519_SQ004',\n 'q0r519_SQ005',\n 'q0r519_other',\n 'q0r245',\n 'q0r245_other',\n 'q0r158_SQ002',\n 'q0r158_SQ003',\n 'q0r158_SQ004',\n 'q0r158_SQ005',\n 'q0r158_other',\n 'q0r176',\n 'q0r176_other',\n 'q0r879_SQ002',\n 'q0r879_SQ003',\n 'q0r879_SQ004',\n 'q0r879_SQ005',\n 'q0r879_other',\n 'q0r974',\n 'q0r974_other',\n 'q0r321_77561',\n 'q0r321_64740',\n 'q0r321_78236',\n 'q0r321_45719',\n 'q0r321_other',\n 'q0r125',\n 'q0r125_other',\n 'q0r393_77561',\n 'q0r393_64740',\n 'q0r393_78236',\n 'q0r393_45719',\n 'q0r393_other',\n 'q0r387',\n 'q0r387_other',\n 'q0r615_SQ002',\n 'q0r615_SQ003',\n 'q0r615_SQ004',\n 'q0r615_SQ005',\n 'q0r615_other',\n 'q0r829',\n 'q0r829_other',\n 'q0r484_SQ002',\n 'q0r484_SQ003',\n 'q0r484_SQ004',\n 'q0r484_SQ005',\n 'q0r484_SQ006',\n 'q0r484_SQ007',\n 'q0r484_SQ008',\n 'q0r484_SQ009',\n 'q0r484_other',\n 'vact4',\n 'q0r9_66',\n 'q0r9_66comment',\n 'q0r9_2',\n 'q0r9_2comment',\n 'q0r9_3',\n 'q0r9_3comment',\n 'q0r9_4',\n 'q0r9_4comment',\n 'q0r9_5',\n 'q0r9_5comment',\n 'q0r9_6',\n 'q0r9_6comment',\n 'q0r9_7',\n 'q0r9_7comment',\n 'q0r9_8',\n 'q0r9_8comment',\n 'q0r9_89',\n 'q0r9_89comment',\n 'q0r9_df',\n 'q0r9_dfcomment',\n 'q0r9_f',\n 'q0r9_fcomment',\n 'q0r9_11',\n 'q0r9_11comment',\n 'q0r9_12',\n 'q0r9_12comment',\n 'q0r9_13',\n 'q0r9_13comment',\n 'q0r9_1415',\n 'q0r9_1415comment',\n 'q0r9_34',\n 'q0r9_34comment',\n 'q0r9_43',\n 'q0r9_43comment',\n 'q0r9_54',\n 'q0r9_54comment',\n 'q0r9_541',\n 'q0r9_541comment',\n 'q0r9_other',\n 'q0r9_othercomment',\n 'cq5',\n 'prepa54',\n 'q0r395',\n 'q0r395_other',\n 'Amigo5q0r893',\n 'Amigo5q0r893_other',\n 'deo875',\n 'deo875_other',\n 'artistAA',\n 'artistAA_other',\n 'choQ',\n 'choQ_other',\n 'formaLL',\n 'formaLL_other',\n 'infoR',\n 'infoR_other',\n 'EMPREE',\n 'EMPREE_other',\n 'VIRTUAL54',\n 'VIRTUAL54_other',\n 'ATENC',\n 'ATENC_other',\n 'AD',\n 'AD_other',\n 'EGUB',\n 'EGUB_comment',\n 'GU',\n 'GU_other',\n 'MAQ1',\n 'MAQ1_comment',\n 'TCNICO5',\n 'TCNICO5_comment',\n 'EDUK',\n 'EDUK_other',\n 'INDE5T',\n 'INDE5T_other',\n 'SEGUR21',\n 'SEGUR21_other',\n 'SALUD214',\n 'SALUD214_other',\n 'CONSTRUCS1',\n 'CONSTRUCS1_other',\n 'FABRIQ',\n 'FABRIQ_other',\n 'AGRT5',\n 'AGRT5_other',\n 'Ami5TRabElem',\n 'Ami5Oficio',\n 'q0r14',\n 'q0r14_other',\n 'q0r855',\n 'q0r855_other',\n 'q3235',\n 'q3235_other',\n 'q786969',\n 'q786969_other',\n 'q67898',\n 'q67898_other',\n 'q67890',\n 'q67890_other',\n 'q3561',\n 'q3561_other',\n 'q532',\n 'q532_other',\n 'Trabajas[Pareja]',\n 'Trabajo[Pareja]',\n 'Categoria[Pareja]',\n 'Trabajas[Amigo2]',\n 'Trabajo[Amigo2]',\n 'Categoria[Amigo2]']"
     },
     "execution_count": 107,
     "metadata": {},
     "output_type": "execute_result"
    }
   ],
   "source": [
    "columnas = encuesta.columns.tolist()\n",
    "columnas"
   ]
  },
  {
   "cell_type": "code",
   "execution_count": 108,
   "metadata": {
    "ExecuteTime": {
     "end_time": "2024-06-28T19:05:26.197587Z",
     "start_time": "2024-06-28T19:05:26.194607Z"
    }
   },
   "outputs": [
    {
     "data": {
      "text/plain": "['encuestador_other',\n 'q0r938_other',\n 'q0r219_other',\n 'q0r632_other',\n 'q0r69_other',\n 'q0r192_other',\n 'q0r914_other',\n 'q0r120_other',\n 'q0r262_other',\n 'q0r934_other',\n 'q0r850_other',\n 'q0r701_other',\n 'q0r649_other',\n 'q0r325_other',\n 'q0r458_other',\n 'q0r60_other',\n 'q0r60_othercomment',\n 'q0r439_other',\n 'q0r808_other',\n 'q0r339_other',\n 'q0r507_other',\n 'q0r529_other',\n 'q0r645_other',\n 'q0r6_other',\n 'q0r603_other',\n 'q0r343_other',\n 'q0r338_other',\n 'q0r630_other',\n 'q0r179_other',\n 'q0r578_other',\n 'q0r97_other',\n 'q0r421_other',\n 'q0r751_other',\n 'q0r751_othercomment',\n 'q0r789_other',\n 'Amigo1Q2345_other',\n 'DPORT88_other',\n 'ARTIST88_other',\n 'CHOFER88_other',\n 'FORMAL888_other',\n 'INFOR555_other',\n 'EMPRE888_other',\n 'VIRTUAL888_other',\n 'ATENCION555_other',\n 'ADMIN588_other',\n 'GUB588_other',\n 'EMPLEGUB55_other',\n 'EDUCA556_other',\n 'INDP56_other',\n 'SEGURI544_other',\n 'SALUD564_other',\n 'DCONSTU56_other',\n 'AFGRU56_other',\n 'fabrica328_other',\n 'q24_other',\n 'q85678_other',\n 'q0r920_other',\n 'q0r330_other',\n 'q0r366_other',\n 'q0r220_other',\n 'q0r264_other',\n 'q0r383_other',\n 'q0r494_other',\n 'q0r634_other',\n 'q0r190_other',\n 'q0r376_other',\n 'q0r905_other',\n 'q0r962_other',\n 'q0r722_other',\n 'q0r533_other',\n 'q0r86_other',\n 'q0r86_othercomment',\n 'q0r265_other',\n 'q0r34_other',\n 'q0r407_other',\n 'q0r757_other',\n 'q0r442_other',\n 'q0r644_other',\n 'q0r130_other',\n 'q0r452_other',\n 'q0r215_other',\n 'q0r358_other',\n 'q0r790_other',\n 'q0r766_other',\n 'q0r779_other',\n 'q0r250_other',\n 'q0r259_other',\n 'q0r196_other',\n 'q0r702_other',\n 'q0r444_other',\n 'q0r444_othercomment',\n 'q0r254_other',\n 'Amigo3q0r352_other',\n 'dpor7777A_other',\n 'ARTIST346A_other',\n 'CHOFE346A_other',\n 'FORMAL254A_other',\n 'INFORM356A_other',\n 'EPRESA346S_other',\n 'VIRTUAL23A_other',\n 'ADN32_other',\n 'GUBW45_other',\n 'EDUCATIV2_other',\n 'DEPENDIW45_other',\n 'SALUD34A_other',\n 'CONSTRUCCION345A_other',\n 'FABRICU3_other',\n 'AGRICU3_other',\n 'q0r381_other',\n 'q0r459_other',\n 'q0r781_other',\n 'q0r945_other',\n 'q0r865_other',\n 'q0r573_other',\n 'q0r654_other',\n 'q0r106_other',\n 'q0r460_other',\n 'q0r511_other',\n 'q0r286_other',\n 'q0r640_other',\n 'q0r427_other',\n 'q0r510_other',\n 'q0r138_other',\n 'q0r493_other',\n 'q0r705_other',\n 'q0r705_othercomment',\n 'q0r547_other',\n 'q0r246_other',\n 'ddd_other',\n 'aaa2_other',\n 'ccc567_other',\n 'fff5_other',\n 'inf66_other',\n 'eeemp3_other',\n 'virt455_other',\n 'atcli4_other',\n 'adminis3_other',\n 'gub56_other',\n 'eduy44_other',\n 'indept2_other',\n 'segu43_other',\n 'salu4_other',\n 'cons42_other',\n 'FABRICQA_other',\n 'agr53_other',\n 'q0r296_other',\n 'em5s_other',\n 'q0r678_other',\n 'q0r519_other',\n 'q0r245_other',\n 'q0r158_other',\n 'q0r176_other',\n 'q0r879_other',\n 'q0r974_other',\n 'q0r321_other',\n 'q0r125_other',\n 'q0r393_other',\n 'q0r387_other',\n 'q0r615_other',\n 'q0r829_other',\n 'q0r484_other',\n 'q0r9_other',\n 'q0r9_othercomment',\n 'q0r395_other',\n 'Amigo5q0r893_other',\n 'deo875_other',\n 'artistAA_other',\n 'choQ_other',\n 'formaLL_other',\n 'infoR_other',\n 'EMPREE_other',\n 'VIRTUAL54_other',\n 'ATENC_other',\n 'AD_other',\n 'GU_other',\n 'EDUK_other',\n 'INDE5T_other',\n 'SEGUR21_other',\n 'SALUD214_other',\n 'CONSTRUCS1_other',\n 'FABRIQ_other',\n 'AGRT5_other',\n 'q0r14_other',\n 'q0r855_other',\n 'q3235_other',\n 'q786969_other',\n 'q67898_other',\n 'q67890_other',\n 'q3561_other',\n 'q532_other']"
     },
     "execution_count": 108,
     "metadata": {},
     "output_type": "execute_result"
    }
   ],
   "source": [
    "columnas_filtradas = [col for col in columnas if '_other' in col]\n",
    "columnas_filtradas"
   ]
  },
  {
   "cell_type": "markdown",
   "metadata": {},
   "source": [
    "## Estudios"
   ]
  },
  {
   "cell_type": "code",
   "execution_count": 109,
   "metadata": {
    "ExecuteTime": {
     "end_time": "2024-06-28T19:05:26.616081Z",
     "start_time": "2024-06-28T19:05:26.276140Z"
    }
   },
   "outputs": [
    {
     "ename": "KeyError",
     "evalue": "'code'",
     "output_type": "error",
     "traceback": [
      "\u001B[0;31m---------------------------------------------------------------------------\u001B[0m",
      "\u001B[0;31mKeyError\u001B[0m                                  Traceback (most recent call last)",
      "File \u001B[0;32m~/Downloads/servicio_social/venv/lib/python3.12/site-packages/pandas/core/indexes/base.py:3805\u001B[0m, in \u001B[0;36mIndex.get_loc\u001B[0;34m(self, key)\u001B[0m\n\u001B[1;32m   3804\u001B[0m \u001B[38;5;28;01mtry\u001B[39;00m:\n\u001B[0;32m-> 3805\u001B[0m     \u001B[38;5;28;01mreturn\u001B[39;00m \u001B[38;5;28;43mself\u001B[39;49m\u001B[38;5;241;43m.\u001B[39;49m\u001B[43m_engine\u001B[49m\u001B[38;5;241;43m.\u001B[39;49m\u001B[43mget_loc\u001B[49m\u001B[43m(\u001B[49m\u001B[43mcasted_key\u001B[49m\u001B[43m)\u001B[49m\n\u001B[1;32m   3806\u001B[0m \u001B[38;5;28;01mexcept\u001B[39;00m \u001B[38;5;167;01mKeyError\u001B[39;00m \u001B[38;5;28;01mas\u001B[39;00m err:\n",
      "File \u001B[0;32mindex.pyx:167\u001B[0m, in \u001B[0;36mpandas._libs.index.IndexEngine.get_loc\u001B[0;34m()\u001B[0m\n",
      "File \u001B[0;32mindex.pyx:196\u001B[0m, in \u001B[0;36mpandas._libs.index.IndexEngine.get_loc\u001B[0;34m()\u001B[0m\n",
      "File \u001B[0;32mpandas/_libs/hashtable_class_helper.pxi:7081\u001B[0m, in \u001B[0;36mpandas._libs.hashtable.PyObjectHashTable.get_item\u001B[0;34m()\u001B[0m\n",
      "File \u001B[0;32mpandas/_libs/hashtable_class_helper.pxi:7089\u001B[0m, in \u001B[0;36mpandas._libs.hashtable.PyObjectHashTable.get_item\u001B[0;34m()\u001B[0m\n",
      "\u001B[0;31mKeyError\u001B[0m: 'code'",
      "\nThe above exception was the direct cause of the following exception:\n",
      "\u001B[0;31mKeyError\u001B[0m                                  Traceback (most recent call last)",
      "Cell \u001B[0;32mIn[109], line 3\u001B[0m\n\u001B[1;32m      1\u001B[0m columnas_estudio \u001B[38;5;241m=\u001B[39m diccionario[diccionario[\u001B[38;5;124m'\u001B[39m\u001B[38;5;124mnew_code\u001B[39m\u001B[38;5;124m'\u001B[39m]\u001B[38;5;241m.\u001B[39mstr\u001B[38;5;241m.\u001B[39mcontains(\u001B[38;5;124m'\u001B[39m\u001B[38;5;124mestudio\u001B[39m\u001B[38;5;124m'\u001B[39m, case\u001B[38;5;241m=\u001B[39m\u001B[38;5;28;01mFalse\u001B[39;00m, na\u001B[38;5;241m=\u001B[39m\u001B[38;5;28;01mFalse\u001B[39;00m)]\n\u001B[1;32m      2\u001B[0m \u001B[38;5;66;03m# Crear un diccionario que mapee las columnas \"code\" y \"new_code\" para estas columnas específicas relacionadas con el trabajo\u001B[39;00m\n\u001B[0;32m----> 3\u001B[0m diccionario_estudio \u001B[38;5;241m=\u001B[39m \u001B[38;5;28mdict\u001B[39m(\u001B[38;5;28mzip\u001B[39m(\u001B[43mcolumnas_estudio\u001B[49m\u001B[43m[\u001B[49m\u001B[38;5;124;43m'\u001B[39;49m\u001B[38;5;124;43mcode\u001B[39;49m\u001B[38;5;124;43m'\u001B[39;49m\u001B[43m]\u001B[49m, columnas_estudio[\u001B[38;5;124m'\u001B[39m\u001B[38;5;124mnew_code\u001B[39m\u001B[38;5;124m'\u001B[39m]))\n\u001B[1;32m      4\u001B[0m \u001B[38;5;66;03m# Mostrar algunos elementos del diccionario para verificar el mapeo\u001B[39;00m\n\u001B[1;32m      5\u001B[0m \u001B[38;5;28mlist\u001B[39m(diccionario_estudio\u001B[38;5;241m.\u001B[39mitems())[:\u001B[38;5;241m10\u001B[39m]\n",
      "File \u001B[0;32m~/Downloads/servicio_social/venv/lib/python3.12/site-packages/pandas/core/frame.py:4090\u001B[0m, in \u001B[0;36mDataFrame.__getitem__\u001B[0;34m(self, key)\u001B[0m\n\u001B[1;32m   4088\u001B[0m \u001B[38;5;28;01mif\u001B[39;00m \u001B[38;5;28mself\u001B[39m\u001B[38;5;241m.\u001B[39mcolumns\u001B[38;5;241m.\u001B[39mnlevels \u001B[38;5;241m>\u001B[39m \u001B[38;5;241m1\u001B[39m:\n\u001B[1;32m   4089\u001B[0m     \u001B[38;5;28;01mreturn\u001B[39;00m \u001B[38;5;28mself\u001B[39m\u001B[38;5;241m.\u001B[39m_getitem_multilevel(key)\n\u001B[0;32m-> 4090\u001B[0m indexer \u001B[38;5;241m=\u001B[39m \u001B[38;5;28;43mself\u001B[39;49m\u001B[38;5;241;43m.\u001B[39;49m\u001B[43mcolumns\u001B[49m\u001B[38;5;241;43m.\u001B[39;49m\u001B[43mget_loc\u001B[49m\u001B[43m(\u001B[49m\u001B[43mkey\u001B[49m\u001B[43m)\u001B[49m\n\u001B[1;32m   4091\u001B[0m \u001B[38;5;28;01mif\u001B[39;00m is_integer(indexer):\n\u001B[1;32m   4092\u001B[0m     indexer \u001B[38;5;241m=\u001B[39m [indexer]\n",
      "File \u001B[0;32m~/Downloads/servicio_social/venv/lib/python3.12/site-packages/pandas/core/indexes/base.py:3812\u001B[0m, in \u001B[0;36mIndex.get_loc\u001B[0;34m(self, key)\u001B[0m\n\u001B[1;32m   3807\u001B[0m     \u001B[38;5;28;01mif\u001B[39;00m \u001B[38;5;28misinstance\u001B[39m(casted_key, \u001B[38;5;28mslice\u001B[39m) \u001B[38;5;129;01mor\u001B[39;00m (\n\u001B[1;32m   3808\u001B[0m         \u001B[38;5;28misinstance\u001B[39m(casted_key, abc\u001B[38;5;241m.\u001B[39mIterable)\n\u001B[1;32m   3809\u001B[0m         \u001B[38;5;129;01mand\u001B[39;00m \u001B[38;5;28many\u001B[39m(\u001B[38;5;28misinstance\u001B[39m(x, \u001B[38;5;28mslice\u001B[39m) \u001B[38;5;28;01mfor\u001B[39;00m x \u001B[38;5;129;01min\u001B[39;00m casted_key)\n\u001B[1;32m   3810\u001B[0m     ):\n\u001B[1;32m   3811\u001B[0m         \u001B[38;5;28;01mraise\u001B[39;00m InvalidIndexError(key)\n\u001B[0;32m-> 3812\u001B[0m     \u001B[38;5;28;01mraise\u001B[39;00m \u001B[38;5;167;01mKeyError\u001B[39;00m(key) \u001B[38;5;28;01mfrom\u001B[39;00m \u001B[38;5;21;01merr\u001B[39;00m\n\u001B[1;32m   3813\u001B[0m \u001B[38;5;28;01mexcept\u001B[39;00m \u001B[38;5;167;01mTypeError\u001B[39;00m:\n\u001B[1;32m   3814\u001B[0m     \u001B[38;5;66;03m# If we have a listlike key, _check_indexing_error will raise\u001B[39;00m\n\u001B[1;32m   3815\u001B[0m     \u001B[38;5;66;03m#  InvalidIndexError. Otherwise we fall through and re-raise\u001B[39;00m\n\u001B[1;32m   3816\u001B[0m     \u001B[38;5;66;03m#  the TypeError.\u001B[39;00m\n\u001B[1;32m   3817\u001B[0m     \u001B[38;5;28mself\u001B[39m\u001B[38;5;241m.\u001B[39m_check_indexing_error(key)\n",
      "\u001B[0;31mKeyError\u001B[0m: 'code'"
     ]
    }
   ],
   "source": [
    "columnas_estudio = diccionario[diccionario['new_code'].str.contains('estudio', case=False, na=False)]\n",
    "# Crear un diccionario que mapee las columnas \"code\" y \"new_code\" para estas columnas específicas relacionadas con el trabajo\n",
    "diccionario_estudio = dict(zip(columnas_estudio['code'], columnas_estudio['new_code']))\n",
    "# Mostrar algunos elementos del diccionario para verificar el mapeo\n",
    "list(diccionario_estudio.items())[:10]"
   ]
  },
  {
   "cell_type": "code",
   "execution_count": null,
   "metadata": {},
   "outputs": [],
   "source": [
    "encuesta_estudios = ['q0r458_other', 'q0r421_other']"
   ]
  },
  {
   "cell_type": "code",
   "execution_count": null,
   "metadata": {},
   "outputs": [],
   "source": [
    "columnas_filtradas_2 = [col for col in columnas_filtradas if col in encuesta_estudios]\n",
    "columnas_filtradas_2"
   ]
  },
  {
   "cell_type": "code",
   "execution_count": null,
   "metadata": {},
   "outputs": [],
   "source": [
    "# Obtener los valores de las columnas filtradas\n",
    "valores_columnas = encuesta[columnas_filtradas_2].values.flatten().tolist()\n",
    "\n",
    "# Eliminar valores nulos o vacíos\n",
    "valores_columnas = [valor for valor in valores_columnas if pd.notnull(valor) and valor != '']\n",
    "\n",
    "# Convertir los valores a minúsculas\n",
    "valores_columnas = [valor.lower() for valor in valores_columnas]\n",
    "\n",
    "# Filtrar para eliminar '{question_not_shown}'\n",
    "valores_columnas = [valor for valor in valores_columnas if valor != '{question_not_shown}' and valor not in columnas_filtradas_2]\n",
    "\n",
    "# Obtener valores únicos\n",
    "estudios_unicos = list(set(valores_columnas))\n",
    "\n",
    "print(\"Lista original de estudios:\")\n",
    "print(estudios_unicos)"
   ]
  },
  {
   "cell_type": "code",
   "execution_count": null,
   "metadata": {},
   "outputs": [],
   "source": [
    "estudios_generales = [\n",
    "    \"Orina (análisis de orina)\",\n",
    "    \"Tomografía computarizada (TC)\",\n",
    "    \"Electroencefalograma (EEG)\",\n",
    "    \"Radiografía de tórax\",\n",
    "    \"Estudios de tiroides\",\n",
    "    \"Prueba de antígeno prostático específico (PSA)\",\n",
    "    \"Ultrasonido renal (USG renal)\",\n",
    "    \"Cultivo de heces\",\n",
    "    \"Biometría hemática completa\",\n",
    "    \"Colesterol total, LDL, HDL\",\n",
    "    \"Prueba de tolerancia a la glucosa\",\n",
    "    \"Mamografía\",\n",
    "    \"Densitometría ósea\",\n",
    "    \"Colonoscopia\",\n",
    "    \"Prueba de Papanicolaou\",\n",
    "    \"Electrocardiograma (ECG)\",\n",
    "    \"Ultrasonido abdominal\",\n",
    "    \"Ultrasonido pélvico\",\n",
    "    \"Vitamina D\",\n",
    "    \"Ácido úrico\",\n",
    "    \"Perfil hepático\",\n",
    "    \"Perfil renal\",\n",
    "    \"Perfil lipídico\",\n",
    "    \"Resonancia magnética (RM)\"\n",
    "]\n"
   ]
  },
  {
   "cell_type": "code",
   "execution_count": null,
   "metadata": {},
   "outputs": [],
   "source": [
    "def encontrar_relacion_fuzzy(estudio):\n",
    "    match, score = process.extractOne(estudio, estudios_generales)\n",
    "    # Puedes ajustar el umbral de puntuación según tus necesidades\n",
    "    if score > 80:\n",
    "        return match\n",
    "    return ''\n",
    "\n",
    "df_relacion_fuzzy = pd.DataFrame({\n",
    "    'clave': estudios_unicos,\n",
    "    'valor': [encontrar_relacion_fuzzy(estudio) for estudio in estudios_unicos]\n",
    "})\n",
    "\n",
    "# Mostrar el resultado\n",
    "df_relacion_fuzzy\n"
   ]
  },
  {
   "cell_type": "code",
   "execution_count": null,
   "metadata": {},
   "outputs": [],
   "source": [
    "df_relacion_fuzzy.to_excel(r\"C:\\Users\\Elvira Magallanes\\Documents\\Servicio Social\\encuestas\\Zoom4\\output\\lista_estudios.xlsx\", index=False)"
   ]
  },
  {
   "cell_type": "markdown",
   "metadata": {},
   "source": [
    "## Enfermedades"
   ]
  },
  {
   "cell_type": "code",
   "execution_count": null,
   "metadata": {},
   "outputs": [],
   "source": [
    "encuesta_enfermedades = ['q0r751_other', 'q0r86_other']\n",
    "columnas_filtradas_2 = [col for col in columnas_filtradas if col in encuesta_enfermedades]\n",
    "columnas_filtradas_2"
   ]
  },
  {
   "cell_type": "code",
   "execution_count": null,
   "metadata": {},
   "outputs": [],
   "source": [
    "# Obtener los valores de las columnas filtradas\n",
    "valores_columnas = encuesta[columnas_filtradas_2].values.flatten().tolist()\n",
    "\n",
    "# Eliminar valores nulos o vacíos\n",
    "valores_columnas = [valor for valor in valores_columnas if pd.notnull(valor) and valor != '']\n",
    "\n",
    "# Convertir los valores a minúsculas\n",
    "valores_columnas = [valor.lower() for valor in valores_columnas]\n",
    "\n",
    "# Filtrar para eliminar '{question_not_shown}'\n",
    "valores_columnas = [valor for valor in valores_columnas if valor != '{question_not_shown}' and valor not in columnas_filtradas_2]\n",
    "\n",
    "# Obtener valores únicos\n",
    "enfermedades_unicas = list(set(valores_columnas))\n",
    "\n",
    "print(\"Lista original de enfermedades:\")\n",
    "print(enfermedades_unicas)"
   ]
  },
  {
   "cell_type": "code",
   "execution_count": 110,
   "metadata": {
    "ExecuteTime": {
     "end_time": "2024-06-28T19:05:26.629971Z",
     "start_time": "2024-06-28T19:05:26.627625Z"
    }
   },
   "outputs": [],
   "source": [
    "enfermedades_estandar = [\n",
    "    \"Sobrepeso u obesidad (Dob)\",\"Diabetes (Ddi)\",\"Prediabetes (Dpd)\",\"Síndrome metabólico (Dsm)\",\"Hipertensión (Dh)\",\"Colesterol alto (Dc)\",\n",
    "    \"Triglicéridos altos (Dtr)\",\"Cáncer (Dcan)\",\"Algún problema cardiovascular (Dcar)\",\"Algún problema respiratorio (Dres)\",\"COVID19 (Dcov)\",\n",
    "    \"Alcoholismo (Dal)\",\"Tabaquismo (Dta)\",\"Trastorno de la alimentación (bulimia, anorexia) (Dba)\",\"Trastorno de atracón (Datr)\",\n",
    "    \"Ansiedad (Dan)\",\"Depresión (Dde)\",\"Trastorno obsesivo compulsivo (Dtoc)\",'Síndrome del ovario poliquístico (SOP)',\n",
    "    'Alergias','Alzheimer','Apendicitis','Artritis','Cataratas','Anemia','Cirrosis hepática','Epilepsia','Esclerosis múltiple',\n",
    "    'Esquizofrenia','Gastritis','Glaucoma','Hepatitis','Herpes','Hipertiroidismo','Hipotiroidismo','Insuficiencia renal']"
   ]
  },
  {
   "cell_type": "code",
   "execution_count": 111,
   "metadata": {
    "ExecuteTime": {
     "end_time": "2024-06-28T19:05:26.639263Z",
     "start_time": "2024-06-28T19:05:26.637288Z"
    }
   },
   "outputs": [],
   "source": [
    "def encontrar_relacion_fuzzy(enfermedad):\n",
    "    match, score = process.extractOne(enfermedad, enfermedades_estandar)\n",
    "    # Puedes ajustar el umbral de puntuación según tus necesidades\n",
    "    if score > 80:\n",
    "        return match\n",
    "    return ''"
   ]
  },
  {
   "cell_type": "code",
   "execution_count": 112,
   "metadata": {
    "ExecuteTime": {
     "end_time": "2024-06-28T19:05:26.674435Z",
     "start_time": "2024-06-28T19:05:26.664440Z"
    }
   },
   "outputs": [
    {
     "ename": "NameError",
     "evalue": "name 'enfermedades_unicas' is not defined",
     "output_type": "error",
     "traceback": [
      "\u001B[0;31m---------------------------------------------------------------------------\u001B[0m",
      "\u001B[0;31mNameError\u001B[0m                                 Traceback (most recent call last)",
      "Cell \u001B[0;32mIn[112], line 2\u001B[0m\n\u001B[1;32m      1\u001B[0m df_relacion_enfermedades \u001B[38;5;241m=\u001B[39m pd\u001B[38;5;241m.\u001B[39mDataFrame({\n\u001B[0;32m----> 2\u001B[0m     \u001B[38;5;124m'\u001B[39m\u001B[38;5;124mclave\u001B[39m\u001B[38;5;124m'\u001B[39m: \u001B[43menfermedades_unicas\u001B[49m,\n\u001B[1;32m      3\u001B[0m     \u001B[38;5;124m'\u001B[39m\u001B[38;5;124mvalor\u001B[39m\u001B[38;5;124m'\u001B[39m: [encontrar_relacion_fuzzy(enfermedad) \u001B[38;5;28;01mfor\u001B[39;00m enfermedad \u001B[38;5;129;01min\u001B[39;00m enfermedades_unicas]\n\u001B[1;32m      4\u001B[0m })\n\u001B[1;32m      6\u001B[0m \u001B[38;5;66;03m# Mostrar el resultado\u001B[39;00m\n\u001B[1;32m      7\u001B[0m df_relacion_enfermedades\n",
      "\u001B[0;31mNameError\u001B[0m: name 'enfermedades_unicas' is not defined"
     ]
    }
   ],
   "source": [
    "df_relacion_enfermedades = pd.DataFrame({\n",
    "    'clave': enfermedades_unicas,\n",
    "    'valor': [encontrar_relacion_fuzzy(enfermedad) for enfermedad in enfermedades_unicas]\n",
    "})\n",
    "\n",
    "# Mostrar el resultado\n",
    "df_relacion_enfermedades"
   ]
  },
  {
   "cell_type": "code",
   "execution_count": 113,
   "metadata": {
    "ExecuteTime": {
     "end_time": "2024-06-28T19:05:26.747156Z",
     "start_time": "2024-06-28T19:05:26.739435Z"
    }
   },
   "outputs": [
    {
     "ename": "NameError",
     "evalue": "name 'df_relacion_enfermedades' is not defined",
     "output_type": "error",
     "traceback": [
      "\u001B[0;31m---------------------------------------------------------------------------\u001B[0m",
      "\u001B[0;31mNameError\u001B[0m                                 Traceback (most recent call last)",
      "Cell \u001B[0;32mIn[113], line 1\u001B[0m\n\u001B[0;32m----> 1\u001B[0m \u001B[43mdf_relacion_enfermedades\u001B[49m\u001B[38;5;241m.\u001B[39mto_excel(\u001B[38;5;124mr\u001B[39m\u001B[38;5;124m\"\u001B[39m\u001B[38;5;124mC:\u001B[39m\u001B[38;5;124m\\\u001B[39m\u001B[38;5;124mUsers\u001B[39m\u001B[38;5;124m\\\u001B[39m\u001B[38;5;124mElvira Magallanes\u001B[39m\u001B[38;5;124m\\\u001B[39m\u001B[38;5;124mDocuments\u001B[39m\u001B[38;5;124m\\\u001B[39m\u001B[38;5;124mServicio Social\u001B[39m\u001B[38;5;124m\\\u001B[39m\u001B[38;5;124mencuestas\u001B[39m\u001B[38;5;124m\\\u001B[39m\u001B[38;5;124mZoom4\u001B[39m\u001B[38;5;124m\\\u001B[39m\u001B[38;5;124moutput\u001B[39m\u001B[38;5;124m\\\u001B[39m\u001B[38;5;124mlista_enfermedades.xlsx\u001B[39m\u001B[38;5;124m\"\u001B[39m, index\u001B[38;5;241m=\u001B[39m\u001B[38;5;28;01mFalse\u001B[39;00m)\n",
      "\u001B[0;31mNameError\u001B[0m: name 'df_relacion_enfermedades' is not defined"
     ]
    }
   ],
   "source": [
    "df_relacion_enfermedades.to_excel(r\"C:\\Users\\Elvira Magallanes\\Documents\\Servicio Social\\encuestas\\Zoom4\\output\\lista_enfermedades.xlsx\", index=False)"
   ]
  },
  {
   "attachments": {},
   "cell_type": "markdown",
   "metadata": {},
   "source": [
    "# Mapeo de edades"
   ]
  },
  {
   "cell_type": "code",
   "execution_count": 114,
   "metadata": {
    "ExecuteTime": {
     "end_time": "2024-06-28T19:05:26.801569Z",
     "start_time": "2024-06-28T19:05:26.771739Z"
    }
   },
   "outputs": [
    {
     "ename": "FileNotFoundError",
     "evalue": "[Errno 2] No such file or directory: 'C:\\\\Users\\\\Elvira Magallanes\\\\Documents\\\\Servicio Social\\\\encuestas\\\\Zoom2\\\\output\\\\edades.json'",
     "output_type": "error",
     "traceback": [
      "\u001B[0;31m---------------------------------------------------------------------------\u001B[0m",
      "\u001B[0;31mFileNotFoundError\u001B[0m                         Traceback (most recent call last)",
      "Cell \u001B[0;32mIn[114], line 2\u001B[0m\n\u001B[1;32m      1\u001B[0m \u001B[38;5;66;03m# Cargando el archivo JSON\u001B[39;00m\n\u001B[0;32m----> 2\u001B[0m \u001B[38;5;28;01mwith\u001B[39;00m \u001B[38;5;28;43mopen\u001B[39;49m\u001B[43m(\u001B[49m\u001B[38;5;124;43m'\u001B[39;49m\u001B[38;5;124;43mC:\u001B[39;49m\u001B[38;5;130;43;01m\\\\\u001B[39;49;00m\u001B[38;5;124;43mUsers\u001B[39;49m\u001B[38;5;130;43;01m\\\\\u001B[39;49;00m\u001B[38;5;124;43mElvira Magallanes\u001B[39;49m\u001B[38;5;130;43;01m\\\\\u001B[39;49;00m\u001B[38;5;124;43mDocuments\u001B[39;49m\u001B[38;5;130;43;01m\\\\\u001B[39;49;00m\u001B[38;5;124;43mServicio Social\u001B[39;49m\u001B[38;5;130;43;01m\\\\\u001B[39;49;00m\u001B[38;5;124;43mencuestas\u001B[39;49m\u001B[38;5;130;43;01m\\\\\u001B[39;49;00m\u001B[38;5;124;43mZoom2\u001B[39;49m\u001B[38;5;130;43;01m\\\\\u001B[39;49;00m\u001B[38;5;124;43moutput\u001B[39;49m\u001B[38;5;130;43;01m\\\\\u001B[39;49;00m\u001B[38;5;124;43medades.json\u001B[39;49m\u001B[38;5;124;43m'\u001B[39;49m\u001B[43m,\u001B[49m\u001B[43m \u001B[49m\u001B[38;5;124;43m'\u001B[39;49m\u001B[38;5;124;43mr\u001B[39;49m\u001B[38;5;124;43m'\u001B[39;49m\u001B[43m)\u001B[49m \u001B[38;5;28;01mas\u001B[39;00m file:\n\u001B[1;32m      3\u001B[0m     age_ranges_dict \u001B[38;5;241m=\u001B[39m json\u001B[38;5;241m.\u001B[39mload(file)\n",
      "File \u001B[0;32m~/Downloads/servicio_social/venv/lib/python3.12/site-packages/IPython/core/interactiveshell.py:324\u001B[0m, in \u001B[0;36m_modified_open\u001B[0;34m(file, *args, **kwargs)\u001B[0m\n\u001B[1;32m    317\u001B[0m \u001B[38;5;28;01mif\u001B[39;00m file \u001B[38;5;129;01min\u001B[39;00m {\u001B[38;5;241m0\u001B[39m, \u001B[38;5;241m1\u001B[39m, \u001B[38;5;241m2\u001B[39m}:\n\u001B[1;32m    318\u001B[0m     \u001B[38;5;28;01mraise\u001B[39;00m \u001B[38;5;167;01mValueError\u001B[39;00m(\n\u001B[1;32m    319\u001B[0m         \u001B[38;5;124mf\u001B[39m\u001B[38;5;124m\"\u001B[39m\u001B[38;5;124mIPython won\u001B[39m\u001B[38;5;124m'\u001B[39m\u001B[38;5;124mt let you open fd=\u001B[39m\u001B[38;5;132;01m{\u001B[39;00mfile\u001B[38;5;132;01m}\u001B[39;00m\u001B[38;5;124m by default \u001B[39m\u001B[38;5;124m\"\u001B[39m\n\u001B[1;32m    320\u001B[0m         \u001B[38;5;124m\"\u001B[39m\u001B[38;5;124mas it is likely to crash IPython. If you know what you are doing, \u001B[39m\u001B[38;5;124m\"\u001B[39m\n\u001B[1;32m    321\u001B[0m         \u001B[38;5;124m\"\u001B[39m\u001B[38;5;124myou can use builtins\u001B[39m\u001B[38;5;124m'\u001B[39m\u001B[38;5;124m open.\u001B[39m\u001B[38;5;124m\"\u001B[39m\n\u001B[1;32m    322\u001B[0m     )\n\u001B[0;32m--> 324\u001B[0m \u001B[38;5;28;01mreturn\u001B[39;00m \u001B[43mio_open\u001B[49m\u001B[43m(\u001B[49m\u001B[43mfile\u001B[49m\u001B[43m,\u001B[49m\u001B[43m \u001B[49m\u001B[38;5;241;43m*\u001B[39;49m\u001B[43margs\u001B[49m\u001B[43m,\u001B[49m\u001B[43m \u001B[49m\u001B[38;5;241;43m*\u001B[39;49m\u001B[38;5;241;43m*\u001B[39;49m\u001B[43mkwargs\u001B[49m\u001B[43m)\u001B[49m\n",
      "\u001B[0;31mFileNotFoundError\u001B[0m: [Errno 2] No such file or directory: 'C:\\\\Users\\\\Elvira Magallanes\\\\Documents\\\\Servicio Social\\\\encuestas\\\\Zoom2\\\\output\\\\edades.json'"
     ]
    }
   ],
   "source": [
    "# Cargando el archivo JSON\n",
    "with open('C:\\\\Users\\\\Elvira Magallanes\\\\Documents\\\\Servicio Social\\\\encuestas\\\\Zoom2\\\\output\\\\edades.json', 'r') as file:\n",
    "    age_ranges_dict = json.load(file)"
   ]
  },
  {
   "cell_type": "code",
   "execution_count": 115,
   "metadata": {
    "ExecuteTime": {
     "end_time": "2024-06-28T19:05:26.853851Z",
     "start_time": "2024-06-28T19:05:26.852054Z"
    }
   },
   "outputs": [],
   "source": [
    "# Identificar las columnas [other] que se relacionan con las edades en la encuesta\n",
    "age_related_other_columns = [col for col in encuesta.columns if '[other]' in col and col.split('[')[0] in age_ranges_dict]"
   ]
  },
  {
   "cell_type": "code",
   "execution_count": 116,
   "metadata": {
    "ExecuteTime": {
     "end_time": "2024-06-28T19:05:26.894039Z",
     "start_time": "2024-06-28T19:05:26.886379Z"
    }
   },
   "outputs": [
    {
     "ename": "NameError",
     "evalue": "name 'age_ranges_dict' is not defined",
     "output_type": "error",
     "traceback": [
      "\u001B[0;31m---------------------------------------------------------------------------\u001B[0m",
      "\u001B[0;31mNameError\u001B[0m                                 Traceback (most recent call last)",
      "Cell \u001B[0;32mIn[116], line 2\u001B[0m\n\u001B[1;32m      1\u001B[0m \u001B[38;5;66;03m# Verificando los primeros elementos de age_ranges_dict y las primeras columnas de survey_df\u001B[39;00m\n\u001B[0;32m----> 2\u001B[0m \u001B[43mage_ranges_dict\u001B[49m[:\u001B[38;5;241m5\u001B[39m], \u001B[38;5;28mlist\u001B[39m(encuesta\u001B[38;5;241m.\u001B[39mcolumns)[:\u001B[38;5;241m20\u001B[39m]\n",
      "\u001B[0;31mNameError\u001B[0m: name 'age_ranges_dict' is not defined"
     ]
    }
   ],
   "source": [
    "# Verificando los primeros elementos de age_ranges_dict y las primeras columnas de survey_df\n",
    "age_ranges_dict[:5], list(encuesta.columns)[:20]"
   ]
  },
  {
   "cell_type": "code",
   "execution_count": 117,
   "metadata": {
    "ExecuteTime": {
     "end_time": "2024-06-28T19:05:26.946729Z",
     "start_time": "2024-06-28T19:05:26.938307Z"
    }
   },
   "outputs": [
    {
     "ename": "NameError",
     "evalue": "name 'age_ranges_dict' is not defined",
     "output_type": "error",
     "traceback": [
      "\u001B[0;31m---------------------------------------------------------------------------\u001B[0m",
      "\u001B[0;31mNameError\u001B[0m                                 Traceback (most recent call last)",
      "Cell \u001B[0;32mIn[117], line 3\u001B[0m\n\u001B[1;32m      1\u001B[0m \u001B[38;5;66;03m# Ajustando age_ranges_dict para ser un diccionario plano en lugar de una lista de diccionarios\u001B[39;00m\n\u001B[1;32m      2\u001B[0m flat_age_ranges_dict \u001B[38;5;241m=\u001B[39m {}\n\u001B[0;32m----> 3\u001B[0m \u001B[38;5;28;01mfor\u001B[39;00m entry \u001B[38;5;129;01min\u001B[39;00m \u001B[43mage_ranges_dict\u001B[49m:\n\u001B[1;32m      4\u001B[0m     flat_age_ranges_dict\u001B[38;5;241m.\u001B[39mupdate(entry)\n\u001B[1;32m      6\u001B[0m \u001B[38;5;66;03m# Verificando la estructura del diccionario ajustado\u001B[39;00m\n",
      "\u001B[0;31mNameError\u001B[0m: name 'age_ranges_dict' is not defined"
     ]
    }
   ],
   "source": [
    "# Ajustando age_ranges_dict para ser un diccionario plano en lugar de una lista de diccionarios\n",
    "flat_age_ranges_dict = {}\n",
    "for entry in age_ranges_dict:\n",
    "    flat_age_ranges_dict.update(entry)\n",
    "\n",
    "# Verificando la estructura del diccionario ajustado\n",
    "dict(list(flat_age_ranges_dict.items())[:5])"
   ]
  },
  {
   "cell_type": "code",
   "execution_count": 118,
   "metadata": {
    "ExecuteTime": {
     "end_time": "2024-06-28T19:05:26.971185Z",
     "start_time": "2024-06-28T19:05:26.969464Z"
    }
   },
   "outputs": [],
   "source": [
    "# Función para verificar si un valor es numérico\n",
    "def is_numeric(val):\n",
    "    if isinstance(val, (int, float)):\n",
    "        return True\n",
    "    if isinstance(val, str) and val.replace('.', '', 1).isdigit():\n",
    "        return True\n",
    "    return False"
   ]
  },
  {
   "cell_type": "code",
   "execution_count": 119,
   "metadata": {
    "ExecuteTime": {
     "end_time": "2024-06-28T19:05:27.052465Z",
     "start_time": "2024-06-28T19:05:27.049201Z"
    }
   },
   "outputs": [
    {
     "data": {
      "text/plain": "[]"
     },
     "execution_count": 119,
     "metadata": {},
     "output_type": "execute_result"
    }
   ],
   "source": [
    "# Eliminar columnas [other] que no tienen datos y corregir las respuestas no numéricas\n",
    "columns_not_found = []  # Lista para guardar columnas que no se encuentran\n",
    "for col in age_related_other_columns:\n",
    "    try:\n",
    "        # Si todos los valores en la columna son NaN, eliminar la columna\n",
    "        if encuesta[col].isna().all():\n",
    "            encuesta.drop(columns=[col], inplace=True)\n",
    "        else:\n",
    "            # Reemplazar valores no numéricos con 99\n",
    "            encuesta[col] = encuesta[col].apply(lambda x: x if is_numeric(x) else 99)\n",
    "    except KeyError:\n",
    "        columns_not_found.append(col)\n",
    "\n",
    "columns_not_found"
   ]
  },
  {
   "cell_type": "code",
   "execution_count": 120,
   "metadata": {
    "ExecuteTime": {
     "end_time": "2024-06-28T19:05:27.123437Z",
     "start_time": "2024-06-28T19:05:27.121537Z"
    }
   },
   "outputs": [],
   "source": [
    "def extract_min_max_from_string(s):\n",
    "    \"\"\"\n",
    "    Extracts minimum and maximum values from a string using regex.\n",
    "    \"\"\"\n",
    "    numbers = re.findall(r'(\\d+\\.*\\d*)', s)\n",
    "    if len(numbers) == 1:\n",
    "        return float(numbers[0]), float(numbers[0])\n",
    "    elif len(numbers) > 1:\n",
    "        return float(numbers[0]), float(numbers[1])\n",
    "    return None, None"
   ]
  },
  {
   "cell_type": "code",
   "execution_count": 121,
   "metadata": {
    "ExecuteTime": {
     "end_time": "2024-06-28T19:05:27.199916Z",
     "start_time": "2024-06-28T19:05:27.197136Z"
    }
   },
   "outputs": [],
   "source": [
    "def regex_map_age_to_correct_column(row):\n",
    "    for question_key, age_ranges in flat_age_ranges_dict.items():\n",
    "        other_column = f\"{question_key}[other]\"\n",
    "        \n",
    "        # If the [other] column is not present or its value is NaN, continue with the next iteration\n",
    "        if other_column not in row or pd.isna(row[other_column]):\n",
    "            continue\n",
    "\n",
    "        age_value_str = str(row[other_column])\n",
    "        age_min, age_max = extract_min_max_from_string(age_value_str)\n",
    "\n",
    "        # If no valid age values are found, continue with the next iteration\n",
    "        if age_min is None or age_max is None:\n",
    "            continue\n",
    "\n",
    "        # Map the age range to the correct columns\n",
    "        for age_range in age_ranges:\n",
    "            defined_age_min, defined_age_max = age_range['min'], age_range['max']\n",
    "            var = age_range['var']\n",
    "            \n",
    "            if (defined_age_min <= age_min <= defined_age_max) or (defined_age_min <= age_max <= defined_age_max):\n",
    "                correct_column = f\"{question_key}[{var}]\"\n",
    "                row[correct_column] = \"Y\"\n",
    "\n",
    "    return row"
   ]
  },
  {
   "cell_type": "code",
   "execution_count": 122,
   "metadata": {
    "ExecuteTime": {
     "end_time": "2024-06-28T19:05:27.248286Z",
     "start_time": "2024-06-28T19:05:27.223060Z"
    }
   },
   "outputs": [],
   "source": [
    "# Apply the regex-based function to the DataFrame\n",
    "regex_corrected_survey_df = encuesta.apply(regex_map_age_to_correct_column, axis=1)"
   ]
  },
  {
   "cell_type": "code",
   "execution_count": 123,
   "metadata": {
    "ExecuteTime": {
     "end_time": "2024-06-28T19:05:27.293003Z",
     "start_time": "2024-06-28T19:05:27.284151Z"
    }
   },
   "outputs": [
    {
     "data": {
      "text/plain": "1  id                 token        submitdate lastpage startlanguage  \\\n0  32  {question_not_shown}  29/03/2021 11:56        1         es-MX   \n1  33  {question_not_shown}  29/03/2021 18:49        1         es-MX   \n2  34  {question_not_shown}  29/03/2021 21:06        1         es-MX   \n3  35  {question_not_shown}  30/03/2021 12:57        1         es-MX   \n4  36  {question_not_shown}  30/03/2021 14:59        1         es-MX   \n\n1        seed         startdate         datestamp             fecha folio  \\\n0  1382221824  29/03/2021 11:55  29/03/2021 11:56  29/03/2021 00:00  5298   \n1  2028599215  29/03/2021 18:31  29/03/2021 18:49  29/03/2021 00:00  5299   \n2  1266979119  29/03/2021 21:05  29/03/2021 21:06  30/03/2021 00:00  5298   \n3   311980819  30/03/2021 12:46  30/03/2021 12:57  30/03/2021 00:00  5300   \n4  1357322587  30/03/2021 14:46  30/03/2021 14:59  30/03/2021 00:00  5108   \n\n1  ... q3561  q3561_other   q532 q532_other Trabajas[Pareja] Trabajo[Pareja]  \\\n0  ...   NaN          NaN    NaN        NaN                N           A9903   \n1  ...    A3          NaN     A2        NaN                N           A9903   \n2  ...   NaN          NaN    NaN        NaN                N           A9903   \n3  ...    A4          NaN     A2        NaN                N           A9903   \n4  ...    A4          NaN  -oth-      NO SE                N           A9903   \n\n1 Categoria[Pareja] Trabajas[Amigo2] Trabajo[Amigo2] Categoria[Amigo2]  \n0               A99                N           A9904               A99  \n1               A99                Y           A9905               A99  \n2               A99                N           A9904               A99  \n3               A99                Y           A1407               A14  \n4               A99                Y           A0201               A02  \n\n[5 rows x 821 columns]",
      "text/html": "<div>\n<style scoped>\n    .dataframe tbody tr th:only-of-type {\n        vertical-align: middle;\n    }\n\n    .dataframe tbody tr th {\n        vertical-align: top;\n    }\n\n    .dataframe thead th {\n        text-align: right;\n    }\n</style>\n<table border=\"1\" class=\"dataframe\">\n  <thead>\n    <tr style=\"text-align: right;\">\n      <th>1</th>\n      <th>id</th>\n      <th>token</th>\n      <th>submitdate</th>\n      <th>lastpage</th>\n      <th>startlanguage</th>\n      <th>seed</th>\n      <th>startdate</th>\n      <th>datestamp</th>\n      <th>fecha</th>\n      <th>folio</th>\n      <th>...</th>\n      <th>q3561</th>\n      <th>q3561_other</th>\n      <th>q532</th>\n      <th>q532_other</th>\n      <th>Trabajas[Pareja]</th>\n      <th>Trabajo[Pareja]</th>\n      <th>Categoria[Pareja]</th>\n      <th>Trabajas[Amigo2]</th>\n      <th>Trabajo[Amigo2]</th>\n      <th>Categoria[Amigo2]</th>\n    </tr>\n  </thead>\n  <tbody>\n    <tr>\n      <th>0</th>\n      <td>32</td>\n      <td>{question_not_shown}</td>\n      <td>29/03/2021 11:56</td>\n      <td>1</td>\n      <td>es-MX</td>\n      <td>1382221824</td>\n      <td>29/03/2021 11:55</td>\n      <td>29/03/2021 11:56</td>\n      <td>29/03/2021 00:00</td>\n      <td>5298</td>\n      <td>...</td>\n      <td>NaN</td>\n      <td>NaN</td>\n      <td>NaN</td>\n      <td>NaN</td>\n      <td>N</td>\n      <td>A9903</td>\n      <td>A99</td>\n      <td>N</td>\n      <td>A9904</td>\n      <td>A99</td>\n    </tr>\n    <tr>\n      <th>1</th>\n      <td>33</td>\n      <td>{question_not_shown}</td>\n      <td>29/03/2021 18:49</td>\n      <td>1</td>\n      <td>es-MX</td>\n      <td>2028599215</td>\n      <td>29/03/2021 18:31</td>\n      <td>29/03/2021 18:49</td>\n      <td>29/03/2021 00:00</td>\n      <td>5299</td>\n      <td>...</td>\n      <td>A3</td>\n      <td>NaN</td>\n      <td>A2</td>\n      <td>NaN</td>\n      <td>N</td>\n      <td>A9903</td>\n      <td>A99</td>\n      <td>Y</td>\n      <td>A9905</td>\n      <td>A99</td>\n    </tr>\n    <tr>\n      <th>2</th>\n      <td>34</td>\n      <td>{question_not_shown}</td>\n      <td>29/03/2021 21:06</td>\n      <td>1</td>\n      <td>es-MX</td>\n      <td>1266979119</td>\n      <td>29/03/2021 21:05</td>\n      <td>29/03/2021 21:06</td>\n      <td>30/03/2021 00:00</td>\n      <td>5298</td>\n      <td>...</td>\n      <td>NaN</td>\n      <td>NaN</td>\n      <td>NaN</td>\n      <td>NaN</td>\n      <td>N</td>\n      <td>A9903</td>\n      <td>A99</td>\n      <td>N</td>\n      <td>A9904</td>\n      <td>A99</td>\n    </tr>\n    <tr>\n      <th>3</th>\n      <td>35</td>\n      <td>{question_not_shown}</td>\n      <td>30/03/2021 12:57</td>\n      <td>1</td>\n      <td>es-MX</td>\n      <td>311980819</td>\n      <td>30/03/2021 12:46</td>\n      <td>30/03/2021 12:57</td>\n      <td>30/03/2021 00:00</td>\n      <td>5300</td>\n      <td>...</td>\n      <td>A4</td>\n      <td>NaN</td>\n      <td>A2</td>\n      <td>NaN</td>\n      <td>N</td>\n      <td>A9903</td>\n      <td>A99</td>\n      <td>Y</td>\n      <td>A1407</td>\n      <td>A14</td>\n    </tr>\n    <tr>\n      <th>4</th>\n      <td>36</td>\n      <td>{question_not_shown}</td>\n      <td>30/03/2021 14:59</td>\n      <td>1</td>\n      <td>es-MX</td>\n      <td>1357322587</td>\n      <td>30/03/2021 14:46</td>\n      <td>30/03/2021 14:59</td>\n      <td>30/03/2021 00:00</td>\n      <td>5108</td>\n      <td>...</td>\n      <td>A4</td>\n      <td>NaN</td>\n      <td>-oth-</td>\n      <td>NO SE</td>\n      <td>N</td>\n      <td>A9903</td>\n      <td>A99</td>\n      <td>Y</td>\n      <td>A0201</td>\n      <td>A02</td>\n    </tr>\n  </tbody>\n</table>\n<p>5 rows × 821 columns</p>\n</div>"
     },
     "execution_count": 123,
     "metadata": {},
     "output_type": "execute_result"
    }
   ],
   "source": [
    "# Mostrando las primeras filas del DataFrame corregido\n",
    "regex_corrected_survey_df.head()"
   ]
  },
  {
   "cell_type": "code",
   "execution_count": 124,
   "metadata": {
    "ExecuteTime": {
     "end_time": "2024-06-28T19:05:27.323569Z",
     "start_time": "2024-06-28T19:05:27.321295Z"
    }
   },
   "outputs": [],
   "source": [
    "#regex_corrected_survey_df.to_csv(r\"C:\\Users\\Elvira Magallanes\\Documents\\Servicio Social\\encuestas\\Zoom2\\output\\encuesta_limpia.csv\", index=False)"
   ]
  },
  {
   "cell_type": "markdown",
   "metadata": {},
   "source": [
    "# Mapeo de trabajos"
   ]
  },
  {
   "cell_type": "markdown",
   "metadata": {},
   "source": [
    "Filtraremos todas las columnas bases "
   ]
  },
  {
   "cell_type": "code",
   "execution_count": 125,
   "metadata": {
    "ExecuteTime": {
     "end_time": "2024-06-28T19:05:27.392747Z",
     "start_time": "2024-06-28T19:05:27.383263Z"
    }
   },
   "outputs": [
    {
     "ename": "NameError",
     "evalue": "name 'traductor' is not defined",
     "output_type": "error",
     "traceback": [
      "\u001B[0;31m---------------------------------------------------------------------------\u001B[0m",
      "\u001B[0;31mNameError\u001B[0m                                 Traceback (most recent call last)",
      "Cell \u001B[0;32mIn[125], line 1\u001B[0m\n\u001B[0;32m----> 1\u001B[0m columnas_trabajo \u001B[38;5;241m=\u001B[39m \u001B[43mtraductor\u001B[49m[traductor[\u001B[38;5;124m'\u001B[39m\u001B[38;5;124mnew_code\u001B[39m\u001B[38;5;124m'\u001B[39m]\u001B[38;5;241m.\u001B[39mstr\u001B[38;5;241m.\u001B[39mcontains(\u001B[38;5;124m'\u001B[39m\u001B[38;5;124mtrabajo\u001B[39m\u001B[38;5;124m'\u001B[39m, case\u001B[38;5;241m=\u001B[39m\u001B[38;5;28;01mFalse\u001B[39;00m, na\u001B[38;5;241m=\u001B[39m\u001B[38;5;28;01mFalse\u001B[39;00m)]\n\u001B[1;32m      2\u001B[0m \u001B[38;5;66;03m# Crear un diccionario que mapee las columnas \"code\" y \"new_code\" para estas columnas específicas relacionadas con el trabajo\u001B[39;00m\n\u001B[1;32m      3\u001B[0m diccionario_trabajo \u001B[38;5;241m=\u001B[39m \u001B[38;5;28mdict\u001B[39m(\u001B[38;5;28mzip\u001B[39m(columnas_trabajo[\u001B[38;5;124m'\u001B[39m\u001B[38;5;124mcode\u001B[39m\u001B[38;5;124m'\u001B[39m], columnas_trabajo[\u001B[38;5;124m'\u001B[39m\u001B[38;5;124mnew_code\u001B[39m\u001B[38;5;124m'\u001B[39m]))\n",
      "\u001B[0;31mNameError\u001B[0m: name 'traductor' is not defined"
     ]
    }
   ],
   "source": [
    "columnas_trabajo = traductor[traductor['new_code'].str.contains('trabajo', case=False, na=False)]\n",
    "# Crear un diccionario que mapee las columnas \"code\" y \"new_code\" para estas columnas específicas relacionadas con el trabajo\n",
    "diccionario_trabajo = dict(zip(columnas_trabajo['code'], columnas_trabajo['new_code']))\n",
    "# Mostrar algunos elementos del diccionario para verificar el mapeo\n",
    "list(diccionario_trabajo.items())[:10]"
   ]
  },
  {
   "cell_type": "code",
   "execution_count": 126,
   "metadata": {
    "ExecuteTime": {
     "end_time": "2024-06-28T19:05:27.430940Z",
     "start_time": "2024-06-28T19:05:27.422208Z"
    }
   },
   "outputs": [
    {
     "ename": "NameError",
     "evalue": "name 'diccionario_trabajo' is not defined",
     "output_type": "error",
     "traceback": [
      "\u001B[0;31m---------------------------------------------------------------------------\u001B[0m",
      "\u001B[0;31mNameError\u001B[0m                                 Traceback (most recent call last)",
      "Cell \u001B[0;32mIn[126], line 2\u001B[0m\n\u001B[1;32m      1\u001B[0m \u001B[38;5;66;03m# Modificar las claves del diccionario de trabajo para reflejar la diferencia en la nomenclatura\u001B[39;00m\n\u001B[0;32m----> 2\u001B[0m diccionario_trabajo_modificado \u001B[38;5;241m=\u001B[39m {key\u001B[38;5;241m.\u001B[39mreplace(\u001B[38;5;124m'\u001B[39m\u001B[38;5;124m_other\u001B[39m\u001B[38;5;124m'\u001B[39m, \u001B[38;5;124m'\u001B[39m\u001B[38;5;124m[other]\u001B[39m\u001B[38;5;124m'\u001B[39m): value \u001B[38;5;28;01mfor\u001B[39;00m key, value \u001B[38;5;129;01min\u001B[39;00m \u001B[43mdiccionario_trabajo\u001B[49m\u001B[38;5;241m.\u001B[39mitems()}\n\u001B[1;32m      4\u001B[0m \u001B[38;5;66;03m# Seleccionar solo las columnas que existen en la encuesta y en el diccionario de trabajo modificado\u001B[39;00m\n\u001B[1;32m      5\u001B[0m columnas_existentes_modificadas \u001B[38;5;241m=\u001B[39m [col \u001B[38;5;28;01mfor\u001B[39;00m col \u001B[38;5;129;01min\u001B[39;00m diccionario_trabajo_modificado\u001B[38;5;241m.\u001B[39mkeys() \u001B[38;5;28;01mif\u001B[39;00m col \u001B[38;5;129;01min\u001B[39;00m encuesta\u001B[38;5;241m.\u001B[39mcolumns]\n",
      "\u001B[0;31mNameError\u001B[0m: name 'diccionario_trabajo' is not defined"
     ]
    }
   ],
   "source": [
    "# Modificar las claves del diccionario de trabajo para reflejar la diferencia en la nomenclatura\n",
    "diccionario_trabajo_modificado = {key.replace('_other', '[other]'): value for key, value in diccionario_trabajo.items()}\n",
    "\n",
    "# Seleccionar solo las columnas que existen en la encuesta y en el diccionario de trabajo modificado\n",
    "columnas_existentes_modificadas = [col for col in diccionario_trabajo_modificado.keys() if col in encuesta.columns]\n",
    "columnas_existentes_modificadas"
   ]
  },
  {
   "cell_type": "code",
   "execution_count": 127,
   "metadata": {
    "ExecuteTime": {
     "end_time": "2024-06-28T19:05:27.558911Z",
     "start_time": "2024-06-28T19:05:27.550821Z"
    }
   },
   "outputs": [
    {
     "ename": "NameError",
     "evalue": "name 'columnas_existentes_modificadas' is not defined",
     "output_type": "error",
     "traceback": [
      "\u001B[0;31m---------------------------------------------------------------------------\u001B[0m",
      "\u001B[0;31mNameError\u001B[0m                                 Traceback (most recent call last)",
      "Cell \u001B[0;32mIn[127], line 2\u001B[0m\n\u001B[1;32m      1\u001B[0m \u001B[38;5;66;03m# Crear un DataFrame para almacenar las respuestas relacionadas con el trabajo\u001B[39;00m\n\u001B[0;32m----> 2\u001B[0m respuestas_trabajo_df \u001B[38;5;241m=\u001B[39m encuesta[\u001B[43mcolumnas_existentes_modificadas\u001B[49m]\n",
      "\u001B[0;31mNameError\u001B[0m: name 'columnas_existentes_modificadas' is not defined"
     ]
    }
   ],
   "source": [
    "# Crear un DataFrame para almacenar las respuestas relacionadas con el trabajo\n",
    "respuestas_trabajo_df = encuesta[columnas_existentes_modificadas]"
   ]
  },
  {
   "cell_type": "code",
   "execution_count": 128,
   "metadata": {
    "ExecuteTime": {
     "end_time": "2024-06-28T19:05:27.641101Z",
     "start_time": "2024-06-28T19:05:27.632016Z"
    }
   },
   "outputs": [
    {
     "ename": "NameError",
     "evalue": "name 'respuestas_trabajo_df' is not defined",
     "output_type": "error",
     "traceback": [
      "\u001B[0;31m---------------------------------------------------------------------------\u001B[0m",
      "\u001B[0;31mNameError\u001B[0m                                 Traceback (most recent call last)",
      "Cell \u001B[0;32mIn[128], line 2\u001B[0m\n\u001B[1;32m      1\u001B[0m \u001B[38;5;66;03m# Renombrar las columnas usando el diccionario de trabajo modificado\u001B[39;00m\n\u001B[0;32m----> 2\u001B[0m respuestas_trabajo_df\u001B[38;5;241m.\u001B[39mcolumns \u001B[38;5;241m=\u001B[39m \u001B[43mrespuestas_trabajo_df\u001B[49m\u001B[38;5;241m.\u001B[39mcolumns\u001B[38;5;241m.\u001B[39mmap(\u001B[38;5;28;01mlambda\u001B[39;00m col: diccionario_trabajo_modificado\u001B[38;5;241m.\u001B[39mget(col, col))\n\u001B[1;32m      4\u001B[0m \u001B[38;5;66;03m# Limpiar las respuestas, eliminando los espacios en blanco y convirtiendo a minúsculas\u001B[39;00m\n\u001B[1;32m      5\u001B[0m respuestas_trabajo_df \u001B[38;5;241m=\u001B[39m respuestas_trabajo_df\u001B[38;5;241m.\u001B[39mapply(\u001B[38;5;28;01mlambda\u001B[39;00m x: x\u001B[38;5;241m.\u001B[39mstr\u001B[38;5;241m.\u001B[39mstrip()\u001B[38;5;241m.\u001B[39mstr\u001B[38;5;241m.\u001B[39mlower())\n",
      "\u001B[0;31mNameError\u001B[0m: name 'respuestas_trabajo_df' is not defined"
     ]
    }
   ],
   "source": [
    "# Renombrar las columnas usando el diccionario de trabajo modificado\n",
    "respuestas_trabajo_df.columns = respuestas_trabajo_df.columns.map(lambda col: diccionario_trabajo_modificado.get(col, col))\n",
    "\n",
    "# Limpiar las respuestas, eliminando los espacios en blanco y convirtiendo a minúsculas\n",
    "respuestas_trabajo_df = respuestas_trabajo_df.apply(lambda x: x.str.strip().str.lower())\n",
    "\n",
    "# Llenar los valores vacíos con 'ninguna'\n",
    "respuestas_trabajo_df = respuestas_trabajo_df.fillna('ninguna')"
   ]
  },
  {
   "cell_type": "code",
   "execution_count": 129,
   "metadata": {
    "ExecuteTime": {
     "end_time": "2024-06-28T19:05:27.714502Z",
     "start_time": "2024-06-28T19:05:27.707207Z"
    }
   },
   "outputs": [
    {
     "ename": "NameError",
     "evalue": "name 'respuestas_trabajo_df' is not defined",
     "output_type": "error",
     "traceback": [
      "\u001B[0;31m---------------------------------------------------------------------------\u001B[0m",
      "\u001B[0;31mNameError\u001B[0m                                 Traceback (most recent call last)",
      "Cell \u001B[0;32mIn[129], line 1\u001B[0m\n\u001B[0;32m----> 1\u001B[0m \u001B[43mrespuestas_trabajo_df\u001B[49m\n",
      "\u001B[0;31mNameError\u001B[0m: name 'respuestas_trabajo_df' is not defined"
     ]
    }
   ],
   "source": [
    "respuestas_trabajo_df"
   ]
  },
  {
   "cell_type": "code",
   "execution_count": 130,
   "metadata": {
    "ExecuteTime": {
     "end_time": "2024-06-28T19:05:27.746589Z",
     "start_time": "2024-06-28T19:05:27.737519Z"
    }
   },
   "outputs": [
    {
     "ename": "NameError",
     "evalue": "name 'respuestas_trabajo_df' is not defined",
     "output_type": "error",
     "traceback": [
      "\u001B[0;31m---------------------------------------------------------------------------\u001B[0m",
      "\u001B[0;31mNameError\u001B[0m                                 Traceback (most recent call last)",
      "Cell \u001B[0;32mIn[130], line 1\u001B[0m\n\u001B[0;32m----> 1\u001B[0m \u001B[38;5;28;01mfor\u001B[39;00m idx, columna \u001B[38;5;129;01min\u001B[39;00m \u001B[38;5;28menumerate\u001B[39m(\u001B[43mrespuestas_trabajo_df\u001B[49m\u001B[38;5;241m.\u001B[39mcolumns):\n\u001B[1;32m      2\u001B[0m     valores_unicos \u001B[38;5;241m=\u001B[39m respuestas_trabajo_df\u001B[38;5;241m.\u001B[39miloc[:, idx]\u001B[38;5;241m.\u001B[39mastype(\u001B[38;5;28mstr\u001B[39m)\u001B[38;5;241m.\u001B[39munique()\n\u001B[1;32m      3\u001B[0m     \u001B[38;5;28mprint\u001B[39m(\u001B[38;5;124mf\u001B[39m\u001B[38;5;124m\"\u001B[39m\u001B[38;5;124mLos valores únicos en la columna \u001B[39m\u001B[38;5;124m'\u001B[39m\u001B[38;5;132;01m{\u001B[39;00mcolumna\u001B[38;5;132;01m}\u001B[39;00m\u001B[38;5;124m'\u001B[39m\u001B[38;5;124m (índice \u001B[39m\u001B[38;5;132;01m{\u001B[39;00midx\u001B[38;5;132;01m}\u001B[39;00m\u001B[38;5;124m) son: \u001B[39m\u001B[38;5;132;01m{\u001B[39;00mvalores_unicos\u001B[38;5;132;01m}\u001B[39;00m\u001B[38;5;124m\"\u001B[39m)\n",
      "\u001B[0;31mNameError\u001B[0m: name 'respuestas_trabajo_df' is not defined"
     ]
    }
   ],
   "source": [
    "for idx, columna in enumerate(respuestas_trabajo_df.columns):\n",
    "    valores_unicos = respuestas_trabajo_df.iloc[:, idx].astype(str).unique()\n",
    "    print(f\"Los valores únicos en la columna '{columna}' (índice {idx}) son: {valores_unicos}\")"
   ]
  },
  {
   "cell_type": "markdown",
   "metadata": {},
   "source": [
    "Agregamos el JSON códigos de ocupaciones"
   ]
  },
  {
   "cell_type": "code",
   "execution_count": 131,
   "metadata": {
    "ExecuteTime": {
     "end_time": "2024-06-28T19:05:27.821467Z",
     "start_time": "2024-06-28T19:05:27.807472Z"
    }
   },
   "outputs": [
    {
     "ename": "FileNotFoundError",
     "evalue": "[Errno 2] No such file or directory: 'C:\\\\Users\\\\Elvira Magallanes\\\\Documents\\\\Servicio Social\\\\encuestas\\\\codigos_preguntas\\\\codigos_ocupaciones.json'",
     "output_type": "error",
     "traceback": [
      "\u001B[0;31m---------------------------------------------------------------------------\u001B[0m",
      "\u001B[0;31mFileNotFoundError\u001B[0m                         Traceback (most recent call last)",
      "Cell \u001B[0;32mIn[131], line 1\u001B[0m\n\u001B[0;32m----> 1\u001B[0m \u001B[38;5;28;01mwith\u001B[39;00m \u001B[38;5;28;43mopen\u001B[39;49m\u001B[43m(\u001B[49m\u001B[38;5;124;43m'\u001B[39;49m\u001B[38;5;124;43mC:\u001B[39;49m\u001B[38;5;130;43;01m\\\\\u001B[39;49;00m\u001B[38;5;124;43mUsers\u001B[39;49m\u001B[38;5;130;43;01m\\\\\u001B[39;49;00m\u001B[38;5;124;43mElvira Magallanes\u001B[39;49m\u001B[38;5;130;43;01m\\\\\u001B[39;49;00m\u001B[38;5;124;43mDocuments\u001B[39;49m\u001B[38;5;130;43;01m\\\\\u001B[39;49;00m\u001B[38;5;124;43mServicio Social\u001B[39;49m\u001B[38;5;130;43;01m\\\\\u001B[39;49;00m\u001B[38;5;124;43mencuestas\u001B[39;49m\u001B[38;5;130;43;01m\\\\\u001B[39;49;00m\u001B[38;5;124;43mcodigos_preguntas\u001B[39;49m\u001B[38;5;130;43;01m\\\\\u001B[39;49;00m\u001B[38;5;124;43mcodigos_ocupaciones.json\u001B[39;49m\u001B[38;5;124;43m'\u001B[39;49m\u001B[43m,\u001B[49m\u001B[43m \u001B[49m\u001B[38;5;124;43m'\u001B[39;49m\u001B[38;5;124;43mr\u001B[39;49m\u001B[38;5;124;43m'\u001B[39;49m\u001B[43m,\u001B[49m\u001B[43m \u001B[49m\u001B[43mencoding\u001B[49m\u001B[38;5;241;43m=\u001B[39;49m\u001B[38;5;124;43m'\u001B[39;49m\u001B[38;5;124;43mutf-8\u001B[39;49m\u001B[38;5;124;43m'\u001B[39;49m\u001B[43m)\u001B[49m \u001B[38;5;28;01mas\u001B[39;00m file:\n\u001B[1;32m      2\u001B[0m     codigos_ocupaciones \u001B[38;5;241m=\u001B[39m json\u001B[38;5;241m.\u001B[39mload(file)\n",
      "File \u001B[0;32m~/Downloads/servicio_social/venv/lib/python3.12/site-packages/IPython/core/interactiveshell.py:324\u001B[0m, in \u001B[0;36m_modified_open\u001B[0;34m(file, *args, **kwargs)\u001B[0m\n\u001B[1;32m    317\u001B[0m \u001B[38;5;28;01mif\u001B[39;00m file \u001B[38;5;129;01min\u001B[39;00m {\u001B[38;5;241m0\u001B[39m, \u001B[38;5;241m1\u001B[39m, \u001B[38;5;241m2\u001B[39m}:\n\u001B[1;32m    318\u001B[0m     \u001B[38;5;28;01mraise\u001B[39;00m \u001B[38;5;167;01mValueError\u001B[39;00m(\n\u001B[1;32m    319\u001B[0m         \u001B[38;5;124mf\u001B[39m\u001B[38;5;124m\"\u001B[39m\u001B[38;5;124mIPython won\u001B[39m\u001B[38;5;124m'\u001B[39m\u001B[38;5;124mt let you open fd=\u001B[39m\u001B[38;5;132;01m{\u001B[39;00mfile\u001B[38;5;132;01m}\u001B[39;00m\u001B[38;5;124m by default \u001B[39m\u001B[38;5;124m\"\u001B[39m\n\u001B[1;32m    320\u001B[0m         \u001B[38;5;124m\"\u001B[39m\u001B[38;5;124mas it is likely to crash IPython. If you know what you are doing, \u001B[39m\u001B[38;5;124m\"\u001B[39m\n\u001B[1;32m    321\u001B[0m         \u001B[38;5;124m\"\u001B[39m\u001B[38;5;124myou can use builtins\u001B[39m\u001B[38;5;124m'\u001B[39m\u001B[38;5;124m open.\u001B[39m\u001B[38;5;124m\"\u001B[39m\n\u001B[1;32m    322\u001B[0m     )\n\u001B[0;32m--> 324\u001B[0m \u001B[38;5;28;01mreturn\u001B[39;00m \u001B[43mio_open\u001B[49m\u001B[43m(\u001B[49m\u001B[43mfile\u001B[49m\u001B[43m,\u001B[49m\u001B[43m \u001B[49m\u001B[38;5;241;43m*\u001B[39;49m\u001B[43margs\u001B[49m\u001B[43m,\u001B[49m\u001B[43m \u001B[49m\u001B[38;5;241;43m*\u001B[39;49m\u001B[38;5;241;43m*\u001B[39;49m\u001B[43mkwargs\u001B[49m\u001B[43m)\u001B[49m\n",
      "\u001B[0;31mFileNotFoundError\u001B[0m: [Errno 2] No such file or directory: 'C:\\\\Users\\\\Elvira Magallanes\\\\Documents\\\\Servicio Social\\\\encuestas\\\\codigos_preguntas\\\\codigos_ocupaciones.json'"
     ]
    }
   ],
   "source": [
    "with open('C:\\\\Users\\\\Elvira Magallanes\\\\Documents\\\\Servicio Social\\\\encuestas\\\\codigos_preguntas\\\\codigos_ocupaciones.json', 'r', encoding='utf-8') as file:\n",
    "    codigos_ocupaciones = json.load(file)"
   ]
  },
  {
   "cell_type": "code",
   "execution_count": 132,
   "metadata": {
    "ExecuteTime": {
     "end_time": "2024-06-28T19:05:27.861094Z",
     "start_time": "2024-06-28T19:05:27.847684Z"
    }
   },
   "outputs": [
    {
     "ename": "NameError",
     "evalue": "name 'relatives' is not defined",
     "output_type": "error",
     "traceback": [
      "\u001B[0;31m---------------------------------------------------------------------------\u001B[0m",
      "\u001B[0;31mNameError\u001B[0m                                 Traceback (most recent call last)",
      "Cell \u001B[0;32mIn[132], line 4\u001B[0m\n\u001B[1;32m      1\u001B[0m \u001B[38;5;28;01mfrom\u001B[39;00m \u001B[38;5;21;01mdifflib\u001B[39;00m \u001B[38;5;28;01mimport\u001B[39;00m get_close_matches\n\u001B[1;32m      3\u001B[0m \u001B[38;5;66;03m# Filtrar las columnas [other] relacionadas con trabajos para cada familiar\u001B[39;00m\n\u001B[0;32m----> 4\u001B[0m columnas_other_familiares \u001B[38;5;241m=\u001B[39m [col \u001B[38;5;28;01mfor\u001B[39;00m col \u001B[38;5;129;01min\u001B[39;00m encuesta\u001B[38;5;241m.\u001B[39mcolumns \u001B[38;5;28;01mif\u001B[39;00m \u001B[38;5;28many\u001B[39m(relative \u001B[38;5;129;01min\u001B[39;00m col \u001B[38;5;28;01mfor\u001B[39;00m relative \u001B[38;5;129;01min\u001B[39;00m \u001B[43mrelatives\u001B[49m) \u001B[38;5;129;01mand\u001B[39;00m \u001B[38;5;124m\"\u001B[39m\u001B[38;5;124m_other\u001B[39m\u001B[38;5;124m\"\u001B[39m \u001B[38;5;129;01min\u001B[39;00m col]\n\u001B[1;32m      6\u001B[0m \u001B[38;5;66;03m# Mapear ocupaciones escritas incorrectamente a las ocupaciones correctas\u001B[39;00m\n\u001B[1;32m      7\u001B[0m \u001B[38;5;28;01mfor\u001B[39;00m col \u001B[38;5;129;01min\u001B[39;00m columnas_other_familiares:\n",
      "\u001B[0;31mNameError\u001B[0m: name 'relatives' is not defined"
     ]
    }
   ],
   "source": [
    "from difflib import get_close_matches\n",
    "\n",
    "# Filtrar las columnas [other] relacionadas con trabajos para cada familiar\n",
    "columnas_other_familiares = [col for col in encuesta.columns if any(relative in col for relative in relatives) and \"_other\" in col]\n",
    "\n",
    "# Mapear ocupaciones escritas incorrectamente a las ocupaciones correctas\n",
    "for col in columnas_other_familiares:\n",
    "    for idx, value in encuesta[col].dropna().iteritems():\n",
    "        # Buscar coincidencias cercanas en el archivo JSON de códigos de ocupaciones\n",
    "        matches = get_close_matches(value, codigos_ocupaciones.values(), n=1, cutoff=0.6)\n",
    "        if matches:\n",
    "            encuesta.at[idx, 'trabajo'] = list(codigos_ocupaciones.keys())[list(codigos_ocupaciones.values()).index(matches[0])]\n",
    "\n",
    "# Mostrar las primeras filas de la columna 'trabajo' después del mapeo\n",
    "encuesta['trabajo'].head()"
   ]
  }
 ],
 "metadata": {
  "kernelspec": {
   "display_name": "Python 3",
   "language": "python",
   "name": "python3"
  },
  "language_info": {
   "codemirror_mode": {
    "name": "ipython",
    "version": 3
   },
   "file_extension": ".py",
   "mimetype": "text/x-python",
   "name": "python",
   "nbconvert_exporter": "python",
   "pygments_lexer": "ipython3",
   "version": "3.11.2"
  },
  "orig_nbformat": 4
 },
 "nbformat": 4,
 "nbformat_minor": 2
}
